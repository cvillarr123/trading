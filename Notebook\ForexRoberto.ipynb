{
  "nbformat": 4,
  "nbformat_minor": 0,
  "metadata": {
    "colab": {
      "name": "Forex.ipynb",
      "provenance": [],
      "collapsed_sections": [],
      "include_colab_link": true
    },
    "kernelspec": {
      "name": "python3",
      "display_name": "Python 3"
    },
    "language_info": {
      "name": "python"
    }
  },
  "cells": [
    {
      "cell_type": "markdown",
      "metadata": {
        "id": "view-in-github",
        "colab_type": "text"
      },
      "source": [
        "<a href=\"https://colab.research.google.com/github/cvillarr123/trading/blob/master/Notebook%5CForexRoberto.ipynb\" target=\"_parent\"><img src=\"https://colab.research.google.com/assets/colab-badge.svg\" alt=\"Open In Colab\"/></a>"
      ]
    },
    {
      "cell_type": "code",
      "metadata": {
        "id": "6Vd6A8zEjhQH",
        "colab": {
          "base_uri": "https://localhost:8080/"
        },
        "outputId": "c08b39a2-b124-4768-d092-898690aa0228"
      },
      "source": [
        "pip install alpha_vantage finnhub-python pandas"
      ],
      "execution_count": null,
      "outputs": [
        {
          "output_type": "stream",
          "text": [
            "Requirement already satisfied: alpha_vantage in /usr/local/lib/python3.7/dist-packages (2.3.1)\n",
            "Requirement already satisfied: finnhub-python in /usr/local/lib/python3.7/dist-packages (2.4.0)\n",
            "Requirement already satisfied: pandas in /usr/local/lib/python3.7/dist-packages (1.1.5)\n",
            "Requirement already satisfied: requests in /usr/local/lib/python3.7/dist-packages (from alpha_vantage) (2.23.0)\n",
            "Requirement already satisfied: aiohttp in /usr/local/lib/python3.7/dist-packages (from alpha_vantage) (3.7.4.post0)\n",
            "Requirement already satisfied: pytz>=2017.2 in /usr/local/lib/python3.7/dist-packages (from pandas) (2018.9)\n",
            "Requirement already satisfied: python-dateutil>=2.7.3 in /usr/local/lib/python3.7/dist-packages (from pandas) (2.8.1)\n",
            "Requirement already satisfied: numpy>=1.15.4 in /usr/local/lib/python3.7/dist-packages (from pandas) (1.19.5)\n",
            "Requirement already satisfied: chardet<4,>=3.0.2 in /usr/local/lib/python3.7/dist-packages (from requests->alpha_vantage) (3.0.4)\n",
            "Requirement already satisfied: idna<3,>=2.5 in /usr/local/lib/python3.7/dist-packages (from requests->alpha_vantage) (2.10)\n",
            "Requirement already satisfied: urllib3!=1.25.0,!=1.25.1,<1.26,>=1.21.1 in /usr/local/lib/python3.7/dist-packages (from requests->alpha_vantage) (1.24.3)\n",
            "Requirement already satisfied: certifi>=2017.4.17 in /usr/local/lib/python3.7/dist-packages (from requests->alpha_vantage) (2021.5.30)\n",
            "Requirement already satisfied: yarl<2.0,>=1.0 in /usr/local/lib/python3.7/dist-packages (from aiohttp->alpha_vantage) (1.6.3)\n",
            "Requirement already satisfied: typing-extensions>=3.6.5 in /usr/local/lib/python3.7/dist-packages (from aiohttp->alpha_vantage) (3.7.4.3)\n",
            "Requirement already satisfied: attrs>=17.3.0 in /usr/local/lib/python3.7/dist-packages (from aiohttp->alpha_vantage) (21.2.0)\n",
            "Requirement already satisfied: async-timeout<4.0,>=3.0 in /usr/local/lib/python3.7/dist-packages (from aiohttp->alpha_vantage) (3.0.1)\n",
            "Requirement already satisfied: multidict<7.0,>=4.5 in /usr/local/lib/python3.7/dist-packages (from aiohttp->alpha_vantage) (5.1.0)\n",
            "Requirement already satisfied: six>=1.5 in /usr/local/lib/python3.7/dist-packages (from python-dateutil>=2.7.3->pandas) (1.15.0)\n"
          ],
          "name": "stdout"
        }
      ]
    },
    {
      "cell_type": "code",
      "metadata": {
        "id": "N2Cc-q8LFaw-"
      },
      "source": [
        "import pandas as pd \n",
        "import json\n",
        "from pprint import pprint\n",
        "from datetime import datetime\n",
        "import dateutil.parser\n",
        "from pytz import timezone\n",
        "from dateutil import tz\n",
        "from alpha_vantage.foreignexchange import ForeignExchange\n",
        "import finnhub\n",
        "# Setup client\n",
        "alpha_client = ForeignExchange(key='RCMEEIVUZYDWGCDH')\n",
        "finnhub_client = finnhub.Client(api_key=\"c2v8lvaad3i9mrpv2ru0\")"
      ],
      "execution_count": null,
      "outputs": []
    },
    {
      "cell_type": "code",
      "metadata": {
        "id": "JGyvLJk5zopM"
      },
      "source": [
        "def convert_date_to_unix(p_date):\n",
        "  gmt5 = timezone('America/Guayaquil')\n",
        "  naive_ts = datetime.strptime(p_date, '%Y-%m-%d %H:%M:%S')\n",
        "  local_ts = gmt5.localize(naive_ts)\n",
        "  epoch_ts = local_ts.timestamp()\n",
        "  final_date = str(epoch_ts).split(\".\")[0] \n",
        "  return int(final_date)"
      ],
      "execution_count": null,
      "outputs": []
    },
    {
      "cell_type": "code",
      "metadata": {
        "id": "jtnX30p_msdR"
      },
      "source": [
        "def fx_homologate(source, function, currency_from, currency_to, type_exchange, period, date_ini, date_end):\n",
        "  data = \"\"\n",
        "  if function == 'EXCHANGE':\n",
        "    if source == 'ALPHA':\n",
        "      res, _ = alpha_client.get_currency_exchange_rate(from_currency=currency_from,to_currency=currency_to)\n",
        "      data = pd.DataFrame([res])\n",
        "      data.columns=['From_Currency_Code','From_Currency_Name', 'To_Currency_Code', 'To_Currency_Name',\n",
        "                    'Exchange_Rate', 'Last_Refreshed', 'Time_Zone', 'Bid_Price', 'Ask_Price']\n",
        "    elif source == 'FINNHUB':\n",
        "      res = finnhub_client.forex_rates(base=currency_from)\n",
        "      exchange = res['quote']\n",
        "      xe = pd.DataFrame([exchange])\n",
        "      format_alpha = {'From_Currency_Code':currency_from,'From_Currency_Name':'',\n",
        "              'To_Currency_Code':currency_to, 'To_Currency_Name':'',\n",
        "             'Exchange_Rate':xe[currency_to], 'Last_Refreshed': datetime.utcnow(),\n",
        "              'Time_Zone':'UTC', 'Bid_Price':'', 'Ask_Price':''}\n",
        "      data = pd.DataFrame(format_alpha)\n",
        "  elif function == 'CANDLES':\n",
        "    if period == '1' or period == '5' or period == '15' or period == '30' or period == '60':\n",
        "      if source == 'ALPHA':\n",
        "        period = period+'min'\n",
        "        data = alpha_client.get_currency_exchange_intraday(from_symbol=currency_from, to_symbol=currency_to, interval=period)\n",
        "      elif source == 'FINNHUB':\n",
        "        d = finnhub_client.forex_symbols(type_exchange)\n",
        "        df = pd.DataFrame(d)\n",
        "        record = df[df['displaySymbol'].str.match(currency_from+'/'+currency_to)]\n",
        "        res = finnhub_client.forex_candles(record.symbol, period, convert_date_to_unix(date_ini), convert_date_to_unix(date_end))\n",
        "        if res[\"s\"] == 'no_data':\n",
        "          data = pd.DataFrame.from_dict(res, orient=\"index\")\n",
        "        else:\n",
        "          data = pd.DataFrame(res)\n",
        "    elif period == 'D' or period == 'W' or period == 'M':\n",
        "      if source == 'ALPHA':\n",
        "        if period == 'D':\n",
        "          data = alpha_client.get_currency_exchange_daily(from_symbol=currency_from, to_symbol=currency_to)\n",
        "        if period == 'W':\n",
        "          data = alpha_client.get_currency_exchange_weekly(from_symbol=currency_from, to_symbol=currency_to)\n",
        "        if period == 'M':\n",
        "          data = alpha_client.get_currency_exchange_monthly(from_symbol=currency_from, to_symbol=currency_to)\n",
        "      elif source == 'FINNHUB':\n",
        "        d = finnhub_client.forex_symbols(type_exchange)\n",
        "        df = pd.DataFrame(d)\n",
        "        record = df[df['displaySymbol'].str.match(currency_from+'/'+currency_to)]\n",
        "        res = finnhub_client.forex_candles(record.symbol, period, convert_date_to_unix(date_ini), convert_date_to_unix(date_end))\n",
        "        if res[\"s\"] == 'no_data':\n",
        "          data = pd.DataFrame.from_dict(res, orient=\"index\")\n",
        "        else:\n",
        "          data = pd.DataFrame(res)\n",
        "  return data"
      ],
      "execution_count": null,
      "outputs": []
    },
    {
      "cell_type": "code",
      "metadata": {
        "colab": {
          "base_uri": "https://localhost:8080/",
          "height": 81
        },
        "id": "IoiyUcefzVe9",
        "outputId": "455df1cf-3498-4c5c-b297-bcb34d024395"
      },
      "source": [
        "#pprint(fx_homologate('FINNHUB', 'EXCHANGE','GBP', 'AUD', 'W'))\n",
        "fe = fx_homologate('FINNHUB', 'CANDLES', 'GBP', 'AUD', 'pepperstone', 'W', '2021-07-10 00:00:00', '2021-07-12 00:00:00')\n",
        "fe"
      ],
      "execution_count": null,
      "outputs": [
        {
          "output_type": "execute_result",
          "data": {
            "text/html": [
              "<div>\n",
              "<style scoped>\n",
              "    .dataframe tbody tr th:only-of-type {\n",
              "        vertical-align: middle;\n",
              "    }\n",
              "\n",
              "    .dataframe tbody tr th {\n",
              "        vertical-align: top;\n",
              "    }\n",
              "\n",
              "    .dataframe thead th {\n",
              "        text-align: right;\n",
              "    }\n",
              "</style>\n",
              "<table border=\"1\" class=\"dataframe\">\n",
              "  <thead>\n",
              "    <tr style=\"text-align: right;\">\n",
              "      <th></th>\n",
              "      <th>c</th>\n",
              "      <th>h</th>\n",
              "      <th>l</th>\n",
              "      <th>o</th>\n",
              "      <th>s</th>\n",
              "      <th>t</th>\n",
              "      <th>v</th>\n",
              "    </tr>\n",
              "  </thead>\n",
              "  <tbody>\n",
              "    <tr>\n",
              "      <th>0</th>\n",
              "      <td>1.853175</td>\n",
              "      <td>1.86093</td>\n",
              "      <td>1.85049</td>\n",
              "      <td>1.85477</td>\n",
              "      <td>ok</td>\n",
              "      <td>1626037200</td>\n",
              "      <td>310529</td>\n",
              "    </tr>\n",
              "  </tbody>\n",
              "</table>\n",
              "</div>"
            ],
            "text/plain": [
              "          c        h        l        o   s           t       v\n",
              "0  1.853175  1.86093  1.85049  1.85477  ok  1626037200  310529"
            ]
          },
          "metadata": {
            "tags": []
          },
          "execution_count": 129
        }
      ]
    },
    {
      "cell_type": "code",
      "metadata": {
        "colab": {
          "base_uri": "https://localhost:8080/"
        },
        "id": "N3PVi-_hEA6S",
        "outputId": "97cb14b6-8c45-49a6-fa63-3283b1779371"
      },
      "source": [
        "convert_date_to_unix(\"2021-07-12 22:29:59\")\n"
      ],
      "execution_count": null,
      "outputs": [
        {
          "output_type": "execute_result",
          "data": {
            "text/plain": [
              "1626146999"
            ]
          },
          "metadata": {
            "tags": []
          },
          "execution_count": 128
        }
      ]
    }
  ]
}