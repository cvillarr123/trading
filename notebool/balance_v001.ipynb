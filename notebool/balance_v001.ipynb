{
  "nbformat": 4,
  "nbformat_minor": 0,
  "metadata": {
    "colab": {
      "name": "balance-v001.ipynb",
      "provenance": [],
      "collapsed_sections": [
        "dwXrxds2BGdZ"
      ],
      "include_colab_link": true
    },
    "kernelspec": {
      "name": "python3",
      "display_name": "Python 3"
    },
    "language_info": {
      "name": "python"
    }
  },
  "cells": [
    {
      "cell_type": "markdown",
      "metadata": {
        "id": "view-in-github",
        "colab_type": "text"
      },
      "source": [
        "<a href=\"https://colab.research.google.com/github/cvillarr123/trading/blob/master/notebool/balance_v001.ipynb\" target=\"_parent\"><img src=\"https://colab.research.google.com/assets/colab-badge.svg\" alt=\"Open In Colab\"/></a>"
      ]
    },
    {
      "cell_type": "code",
      "metadata": {
        "colab": {
          "base_uri": "https://localhost:8080/"
        },
        "id": "B7Y790P3gnh2",
        "outputId": "f8b366cc-05c1-4003-dc1a-eb15090edb86"
      },
      "source": [
        "!git clone https://github.com/chrisconlan/algorithmic-trading-with-python.git\n"
      ],
      "execution_count": 2,
      "outputs": [
        {
          "output_type": "stream",
          "text": [
            "Cloning into 'algorithmic-trading-with-python'...\n",
            "remote: Enumerating objects: 341, done.\u001b[K\n",
            "remote: Counting objects: 100% (341/341), done.\u001b[K\n",
            "remote: Compressing objects: 100% (314/314), done.\u001b[K\n",
            "Receiving objects: 100% (341/341), 4.83 MiB | 15.56 MiB/s, done.\n",
            "remote: Total 341 (delta 44), reused 312 (delta 24), pack-reused 0\u001b[K\n",
            "Resolving deltas: 100% (44/44), done.\n"
          ],
          "name": "stdout"
        }
      ]
    },
    {
      "cell_type": "markdown",
      "metadata": {
        "id": "dwXrxds2BGdZ"
      },
      "source": [
        "# Nueva sección"
      ]
    },
    {
      "cell_type": "markdown",
      "metadata": {
        "id": "5WfYBSnTBHJ5"
      },
      "source": [
        "# Nueva sección"
      ]
    },
    {
      "cell_type": "code",
      "metadata": {
        "colab": {
          "base_uri": "https://localhost:8080/"
        },
        "id": "NTpT1dJhM-42",
        "outputId": "4ab30a77-d8d4-4f95-b9ae-59284311b915"
      },
      "source": [
        "!pip install bt"
      ],
      "execution_count": 3,
      "outputs": [
        {
          "output_type": "stream",
          "text": [
            "Collecting bt\n",
            "\u001b[?25l  Downloading https://files.pythonhosted.org/packages/c2/5d/027a5a0a96be46e091d63679e7f96b1ccbb9435304894fbb1bb66985d9f8/bt-0.2.9.tar.gz (2.7MB)\n",
            "\u001b[K     |████████████████████████████████| 2.7MB 5.0MB/s \n",
            "\u001b[?25h  Installing build dependencies ... \u001b[?25l\u001b[?25hdone\n",
            "  Getting requirements to build wheel ... \u001b[?25l\u001b[?25hdone\n",
            "    Preparing wheel metadata ... \u001b[?25l\u001b[?25hdone\n",
            "Collecting pyprind>=2.11\n",
            "  Downloading https://files.pythonhosted.org/packages/ab/b3/1f12ebc5009c65b607509393ad98240728b4401bc3593868fb161fdd3760/PyPrind-2.11.3-py2.py3-none-any.whl\n",
            "Collecting ffn>=0.3.5\n",
            "  Downloading https://files.pythonhosted.org/packages/76/64/5c63c792646045a095c3a15a841683544b90275c78d214942c96047dbaad/ffn-0.3.6-py2.py3-none-any.whl\n",
            "Requirement already satisfied: scikit-learn>=0.15 in /usr/local/lib/python3.7/dist-packages (from ffn>=0.3.5->bt) (0.22.2.post1)\n",
            "Requirement already satisfied: decorator>=4 in /usr/local/lib/python3.7/dist-packages (from ffn>=0.3.5->bt) (4.4.2)\n",
            "Requirement already satisfied: tabulate>=0.7.5 in /usr/local/lib/python3.7/dist-packages (from ffn>=0.3.5->bt) (0.8.9)\n",
            "Requirement already satisfied: pandas>=0.19 in /usr/local/lib/python3.7/dist-packages (from ffn>=0.3.5->bt) (1.1.5)\n",
            "Requirement already satisfied: matplotlib>=1 in /usr/local/lib/python3.7/dist-packages (from ffn>=0.3.5->bt) (3.2.2)\n",
            "Requirement already satisfied: pandas-datareader>=0.2 in /usr/local/lib/python3.7/dist-packages (from ffn>=0.3.5->bt) (0.9.0)\n",
            "Requirement already satisfied: scipy>=0.15 in /usr/local/lib/python3.7/dist-packages (from ffn>=0.3.5->bt) (1.4.1)\n",
            "Requirement already satisfied: numpy>=1.5 in /usr/local/lib/python3.7/dist-packages (from ffn>=0.3.5->bt) (1.19.5)\n",
            "Requirement already satisfied: future>=0.15 in /usr/local/lib/python3.7/dist-packages (from ffn>=0.3.5->bt) (0.16.0)\n",
            "Requirement already satisfied: joblib>=0.11 in /usr/local/lib/python3.7/dist-packages (from scikit-learn>=0.15->ffn>=0.3.5->bt) (1.0.1)\n",
            "Requirement already satisfied: pytz>=2017.2 in /usr/local/lib/python3.7/dist-packages (from pandas>=0.19->ffn>=0.3.5->bt) (2018.9)\n",
            "Requirement already satisfied: python-dateutil>=2.7.3 in /usr/local/lib/python3.7/dist-packages (from pandas>=0.19->ffn>=0.3.5->bt) (2.8.1)\n",
            "Requirement already satisfied: kiwisolver>=1.0.1 in /usr/local/lib/python3.7/dist-packages (from matplotlib>=1->ffn>=0.3.5->bt) (1.3.1)\n",
            "Requirement already satisfied: cycler>=0.10 in /usr/local/lib/python3.7/dist-packages (from matplotlib>=1->ffn>=0.3.5->bt) (0.10.0)\n",
            "Requirement already satisfied: pyparsing!=2.0.4,!=2.1.2,!=2.1.6,>=2.0.1 in /usr/local/lib/python3.7/dist-packages (from matplotlib>=1->ffn>=0.3.5->bt) (2.4.7)\n",
            "Requirement already satisfied: requests>=2.19.0 in /usr/local/lib/python3.7/dist-packages (from pandas-datareader>=0.2->ffn>=0.3.5->bt) (2.23.0)\n",
            "Requirement already satisfied: lxml in /usr/local/lib/python3.7/dist-packages (from pandas-datareader>=0.2->ffn>=0.3.5->bt) (4.2.6)\n",
            "Requirement already satisfied: six>=1.5 in /usr/local/lib/python3.7/dist-packages (from python-dateutil>=2.7.3->pandas>=0.19->ffn>=0.3.5->bt) (1.15.0)\n",
            "Requirement already satisfied: urllib3!=1.25.0,!=1.25.1,<1.26,>=1.21.1 in /usr/local/lib/python3.7/dist-packages (from requests>=2.19.0->pandas-datareader>=0.2->ffn>=0.3.5->bt) (1.24.3)\n",
            "Requirement already satisfied: idna<3,>=2.5 in /usr/local/lib/python3.7/dist-packages (from requests>=2.19.0->pandas-datareader>=0.2->ffn>=0.3.5->bt) (2.10)\n",
            "Requirement already satisfied: chardet<4,>=3.0.2 in /usr/local/lib/python3.7/dist-packages (from requests>=2.19.0->pandas-datareader>=0.2->ffn>=0.3.5->bt) (3.0.4)\n",
            "Requirement already satisfied: certifi>=2017.4.17 in /usr/local/lib/python3.7/dist-packages (from requests>=2.19.0->pandas-datareader>=0.2->ffn>=0.3.5->bt) (2021.5.30)\n",
            "Building wheels for collected packages: bt\n",
            "  Building wheel for bt (PEP 517) ... \u001b[?25l\u001b[?25hdone\n",
            "  Created wheel for bt: filename=bt-0.2.9-cp37-cp37m-linux_x86_64.whl size=765281 sha256=21065ce5d85ad3a00fc8245011128d01354d54b749a5c986801608f960fd5e88\n",
            "  Stored in directory: /root/.cache/pip/wheels/18/2a/31/ead0e40a43116c3278ea50bdec622d43c9e51263b8a62ad71c\n",
            "Successfully built bt\n",
            "Installing collected packages: pyprind, ffn, bt\n",
            "Successfully installed bt-0.2.9 ffn-0.3.6 pyprind-2.11.3\n"
          ],
          "name": "stdout"
        }
      ]
    },
    {
      "cell_type": "code",
      "metadata": {
        "id": "yxCHlDU1FWJL",
        "colab": {
          "base_uri": "https://localhost:8080/"
        },
        "outputId": "2483bddd-e4e0-4d2a-d65f-3a68b54a5c44"
      },
      "source": [
        "!pip install alpha_vantage"
      ],
      "execution_count": 4,
      "outputs": [
        {
          "output_type": "stream",
          "text": [
            "Collecting alpha_vantage\n",
            "  Downloading https://files.pythonhosted.org/packages/ba/b4/d95f9e0eccea6732bab5a079772d453a4f0b68a9f63740d9cf320f92beaa/alpha_vantage-2.3.1-py3-none-any.whl\n",
            "Collecting aiohttp\n",
            "\u001b[?25l  Downloading https://files.pythonhosted.org/packages/88/c0/5890b4c8b04a79b7360e8fe4490feb0bb3ab179743f199f0e6220cebd568/aiohttp-3.7.4.post0-cp37-cp37m-manylinux2014_x86_64.whl (1.3MB)\n",
            "\u001b[K     |████████████████████████████████| 1.3MB 6.2MB/s \n",
            "\u001b[?25hRequirement already satisfied: requests in /usr/local/lib/python3.7/dist-packages (from alpha_vantage) (2.23.0)\n",
            "Requirement already satisfied: attrs>=17.3.0 in /usr/local/lib/python3.7/dist-packages (from aiohttp->alpha_vantage) (21.2.0)\n",
            "Collecting async-timeout<4.0,>=3.0\n",
            "  Downloading https://files.pythonhosted.org/packages/e1/1e/5a4441be21b0726c4464f3f23c8b19628372f606755a9d2e46c187e65ec4/async_timeout-3.0.1-py3-none-any.whl\n",
            "Collecting multidict<7.0,>=4.5\n",
            "\u001b[?25l  Downloading https://files.pythonhosted.org/packages/7c/a6/4123b8165acbe773d1a8dc8e3f0d1edea16d29f7de018eda769abb56bd30/multidict-5.1.0-cp37-cp37m-manylinux2014_x86_64.whl (142kB)\n",
            "\u001b[K     |████████████████████████████████| 143kB 44.6MB/s \n",
            "\u001b[?25hRequirement already satisfied: typing-extensions>=3.6.5 in /usr/local/lib/python3.7/dist-packages (from aiohttp->alpha_vantage) (3.7.4.3)\n",
            "Collecting yarl<2.0,>=1.0\n",
            "\u001b[?25l  Downloading https://files.pythonhosted.org/packages/f1/62/046834c5fc998c88ab2ef722f5d42122230a632212c8afa76418324f53ff/yarl-1.6.3-cp37-cp37m-manylinux2014_x86_64.whl (294kB)\n",
            "\u001b[K     |████████████████████████████████| 296kB 52.4MB/s \n",
            "\u001b[?25hRequirement already satisfied: chardet<5.0,>=2.0 in /usr/local/lib/python3.7/dist-packages (from aiohttp->alpha_vantage) (3.0.4)\n",
            "Requirement already satisfied: idna<3,>=2.5 in /usr/local/lib/python3.7/dist-packages (from requests->alpha_vantage) (2.10)\n",
            "Requirement already satisfied: certifi>=2017.4.17 in /usr/local/lib/python3.7/dist-packages (from requests->alpha_vantage) (2021.5.30)\n",
            "Requirement already satisfied: urllib3!=1.25.0,!=1.25.1,<1.26,>=1.21.1 in /usr/local/lib/python3.7/dist-packages (from requests->alpha_vantage) (1.24.3)\n",
            "Installing collected packages: async-timeout, multidict, yarl, aiohttp, alpha-vantage\n",
            "Successfully installed aiohttp-3.7.4.post0 alpha-vantage-2.3.1 async-timeout-3.0.1 multidict-5.1.0 yarl-1.6.3\n"
          ],
          "name": "stdout"
        }
      ]
    },
    {
      "cell_type": "code",
      "metadata": {
        "id": "qjuAtYHPFWdC",
        "colab": {
          "base_uri": "https://localhost:8080/"
        },
        "outputId": "01bee8fd-1f06-4a3a-8c69-4f98df8a7e37"
      },
      "source": [
        "!pip install alpha_vantage pandas"
      ],
      "execution_count": 5,
      "outputs": [
        {
          "output_type": "stream",
          "text": [
            "Requirement already satisfied: alpha_vantage in /usr/local/lib/python3.7/dist-packages (2.3.1)\n",
            "Requirement already satisfied: pandas in /usr/local/lib/python3.7/dist-packages (1.1.5)\n",
            "Requirement already satisfied: aiohttp in /usr/local/lib/python3.7/dist-packages (from alpha_vantage) (3.7.4.post0)\n",
            "Requirement already satisfied: requests in /usr/local/lib/python3.7/dist-packages (from alpha_vantage) (2.23.0)\n",
            "Requirement already satisfied: python-dateutil>=2.7.3 in /usr/local/lib/python3.7/dist-packages (from pandas) (2.8.1)\n",
            "Requirement already satisfied: pytz>=2017.2 in /usr/local/lib/python3.7/dist-packages (from pandas) (2018.9)\n",
            "Requirement already satisfied: numpy>=1.15.4 in /usr/local/lib/python3.7/dist-packages (from pandas) (1.19.5)\n",
            "Requirement already satisfied: typing-extensions>=3.6.5 in /usr/local/lib/python3.7/dist-packages (from aiohttp->alpha_vantage) (3.7.4.3)\n",
            "Requirement already satisfied: chardet<5.0,>=2.0 in /usr/local/lib/python3.7/dist-packages (from aiohttp->alpha_vantage) (3.0.4)\n",
            "Requirement already satisfied: multidict<7.0,>=4.5 in /usr/local/lib/python3.7/dist-packages (from aiohttp->alpha_vantage) (5.1.0)\n",
            "Requirement already satisfied: async-timeout<4.0,>=3.0 in /usr/local/lib/python3.7/dist-packages (from aiohttp->alpha_vantage) (3.0.1)\n",
            "Requirement already satisfied: yarl<2.0,>=1.0 in /usr/local/lib/python3.7/dist-packages (from aiohttp->alpha_vantage) (1.6.3)\n",
            "Requirement already satisfied: attrs>=17.3.0 in /usr/local/lib/python3.7/dist-packages (from aiohttp->alpha_vantage) (21.2.0)\n",
            "Requirement already satisfied: certifi>=2017.4.17 in /usr/local/lib/python3.7/dist-packages (from requests->alpha_vantage) (2021.5.30)\n",
            "Requirement already satisfied: idna<3,>=2.5 in /usr/local/lib/python3.7/dist-packages (from requests->alpha_vantage) (2.10)\n",
            "Requirement already satisfied: urllib3!=1.25.0,!=1.25.1,<1.26,>=1.21.1 in /usr/local/lib/python3.7/dist-packages (from requests->alpha_vantage) (1.24.3)\n",
            "Requirement already satisfied: six>=1.5 in /usr/local/lib/python3.7/dist-packages (from python-dateutil>=2.7.3->pandas) (1.15.0)\n"
          ],
          "name": "stdout"
        }
      ]
    },
    {
      "cell_type": "code",
      "metadata": {
        "colab": {
          "base_uri": "https://localhost:8080/"
        },
        "id": "k_4eM0uNTVQs",
        "outputId": "7b51ae50-843f-4740-fc3a-3c7e571a798f"
      },
      "source": [
        "!pip install plotly==5.0.0"
      ],
      "execution_count": 6,
      "outputs": [
        {
          "output_type": "stream",
          "text": [
            "Collecting plotly==5.0.0\n",
            "\u001b[?25l  Downloading https://files.pythonhosted.org/packages/84/ff/cc3f54a0822987a5ac277de0deb018104f12aadd933cedd97b600894ebcc/plotly-5.0.0-py2.py3-none-any.whl (19.1MB)\n",
            "\u001b[K     |████████████████████████████████| 19.1MB 1.4MB/s \n",
            "\u001b[?25hCollecting tenacity>=6.2.0\n",
            "  Downloading https://files.pythonhosted.org/packages/41/ee/d6eddff86161c6a3a1753af4a66b06cbc508d3b77ca4698cd0374cd66531/tenacity-7.0.0-py2.py3-none-any.whl\n",
            "Requirement already satisfied: six in /usr/local/lib/python3.7/dist-packages (from plotly==5.0.0) (1.15.0)\n",
            "Installing collected packages: tenacity, plotly\n",
            "  Found existing installation: plotly 4.4.1\n",
            "    Uninstalling plotly-4.4.1:\n",
            "      Successfully uninstalled plotly-4.4.1\n",
            "Successfully installed plotly-5.0.0 tenacity-7.0.0\n"
          ],
          "name": "stdout"
        }
      ]
    },
    {
      "cell_type": "code",
      "metadata": {
        "colab": {
          "base_uri": "https://localhost:8080/"
        },
        "id": "LGjTNguXjtVI",
        "outputId": "723de146-9e45-4a80-c97d-cd6ae5b2d579"
      },
      "source": [
        "!pip install chart-studio"
      ],
      "execution_count": 7,
      "outputs": [
        {
          "output_type": "stream",
          "text": [
            "Collecting chart-studio\n",
            "\u001b[?25l  Downloading https://files.pythonhosted.org/packages/ca/ce/330794a6b6ca4b9182c38fc69dd2a9cbff60fd49421cb8648ee5fee352dc/chart_studio-1.1.0-py3-none-any.whl (64kB)\n",
            "\r\u001b[K     |█████                           | 10kB 17.3MB/s eta 0:00:01\r\u001b[K     |██████████▏                     | 20kB 1.2MB/s eta 0:00:01\r\u001b[K     |███████████████▎                | 30kB 1.7MB/s eta 0:00:01\r\u001b[K     |████████████████████▍           | 40kB 2.3MB/s eta 0:00:01\r\u001b[K     |█████████████████████████▍      | 51kB 2.8MB/s eta 0:00:01\r\u001b[K     |██████████████████████████████▌ | 61kB 3.4MB/s eta 0:00:01\r\u001b[K     |████████████████████████████████| 71kB 2.7MB/s \n",
            "\u001b[?25hRequirement already satisfied: requests in /usr/local/lib/python3.7/dist-packages (from chart-studio) (2.23.0)\n",
            "Requirement already satisfied: six in /usr/local/lib/python3.7/dist-packages (from chart-studio) (1.15.0)\n",
            "Requirement already satisfied: retrying>=1.3.3 in /usr/local/lib/python3.7/dist-packages (from chart-studio) (1.3.3)\n",
            "Requirement already satisfied: plotly in /usr/local/lib/python3.7/dist-packages (from chart-studio) (5.0.0)\n",
            "Requirement already satisfied: chardet<4,>=3.0.2 in /usr/local/lib/python3.7/dist-packages (from requests->chart-studio) (3.0.4)\n",
            "Requirement already satisfied: urllib3!=1.25.0,!=1.25.1,<1.26,>=1.21.1 in /usr/local/lib/python3.7/dist-packages (from requests->chart-studio) (1.24.3)\n",
            "Requirement already satisfied: certifi>=2017.4.17 in /usr/local/lib/python3.7/dist-packages (from requests->chart-studio) (2021.5.30)\n",
            "Requirement already satisfied: idna<3,>=2.5 in /usr/local/lib/python3.7/dist-packages (from requests->chart-studio) (2.10)\n",
            "Requirement already satisfied: tenacity>=6.2.0 in /usr/local/lib/python3.7/dist-packages (from plotly->chart-studio) (7.0.0)\n",
            "Installing collected packages: chart-studio\n",
            "Successfully installed chart-studio-1.1.0\n"
          ],
          "name": "stdout"
        }
      ]
    },
    {
      "cell_type": "code",
      "metadata": {
        "colab": {
          "base_uri": "https://localhost:8080/"
        },
        "id": "ndjFGUkjjYRV",
        "outputId": "7bf22a4b-0b90-4854-e2b8-e1e6f7d3b777"
      },
      "source": [
        "!pip install pandas_ta\n",
        "#https://github.com/twopirllc/pandas-ta#stable\n"
      ],
      "execution_count": 8,
      "outputs": [
        {
          "output_type": "stream",
          "text": [
            "Collecting pandas_ta\n",
            "\u001b[?25l  Downloading https://files.pythonhosted.org/packages/f8/6f/3a19cf5153f6b91684cbe641d42f7d6a2e518f237be234e949adeceeffe1/pandas_ta-0.2.45b.tar.gz (88kB)\n",
            "\r\u001b[K     |███▊                            | 10kB 623kB/s eta 0:00:01\r\u001b[K     |███████▍                        | 20kB 1.2MB/s eta 0:00:01\r\u001b[K     |███████████▏                    | 30kB 1.8MB/s eta 0:00:01\r\u001b[K     |██████████████▉                 | 40kB 2.4MB/s eta 0:00:01\r\u001b[K     |██████████████████▋             | 51kB 2.9MB/s eta 0:00:01\r\u001b[K     |██████████████████████▎         | 61kB 3.5MB/s eta 0:00:01\r\u001b[K     |██████████████████████████      | 71kB 2.6MB/s eta 0:00:01\r\u001b[K     |█████████████████████████████▊  | 81kB 2.9MB/s eta 0:00:01\r\u001b[K     |████████████████████████████████| 92kB 2.5MB/s \n",
            "\u001b[?25hRequirement already satisfied: pandas in /usr/local/lib/python3.7/dist-packages (from pandas_ta) (1.1.5)\n",
            "Requirement already satisfied: pytz>=2017.2 in /usr/local/lib/python3.7/dist-packages (from pandas->pandas_ta) (2018.9)\n",
            "Requirement already satisfied: numpy>=1.15.4 in /usr/local/lib/python3.7/dist-packages (from pandas->pandas_ta) (1.19.5)\n",
            "Requirement already satisfied: python-dateutil>=2.7.3 in /usr/local/lib/python3.7/dist-packages (from pandas->pandas_ta) (2.8.1)\n",
            "Requirement already satisfied: six>=1.5 in /usr/local/lib/python3.7/dist-packages (from python-dateutil>=2.7.3->pandas->pandas_ta) (1.15.0)\n",
            "Building wheels for collected packages: pandas-ta\n",
            "  Building wheel for pandas-ta (setup.py) ... \u001b[?25l\u001b[?25hdone\n",
            "  Created wheel for pandas-ta: filename=pandas_ta-0.2.45b0-cp37-none-any.whl size=175305 sha256=13430ebdfbf54dd2e13716b8f34de7ed4658c8c8eef25ec14cd514d2e8b86858\n",
            "  Stored in directory: /root/.cache/pip/wheels/78/76/74/e4b09c98fc91d7e1e0a56f4fe067796f216deacaa509234579\n",
            "Successfully built pandas-ta\n",
            "Installing collected packages: pandas-ta\n",
            "Successfully installed pandas-ta-0.2.45b0\n"
          ],
          "name": "stdout"
        }
      ]
    },
    {
      "cell_type": "code",
      "metadata": {
        "colab": {
          "base_uri": "https://localhost:8080/"
        },
        "id": "fR7iRl_yiAY9",
        "outputId": "dc7f02be-17f5-49bf-ee13-ef6421a4fb86"
      },
      "source": [
        "%cd algorithmic-trading-with-python/src/"
      ],
      "execution_count": 9,
      "outputs": [
        {
          "output_type": "stream",
          "text": [
            "/content/algorithmic-trading-with-python/src\n"
          ],
          "name": "stdout"
        }
      ]
    },
    {
      "cell_type": "code",
      "metadata": {
        "colab": {
          "base_uri": "https://localhost:8080/"
        },
        "id": "bHQ_AgD7iKvj",
        "outputId": "06d92907-694e-4242-89b0-ecdf8f60ff39"
      },
      "source": [
        "!ls"
      ],
      "execution_count": 10,
      "outputs": [
        {
          "output_type": "stream",
          "text": [
            "bootstrap_portfolio.py\t       pypm\n",
            "fit_alternative_data_model.py  simulate_alternative_data_portfolio.py\n",
            "__init__.py\t\t       simulate_portfolio.py\n",
            "optimize_portfolio.py\t       white_noise_portfolio.py\n"
          ],
          "name": "stdout"
        }
      ]
    },
    {
      "cell_type": "code",
      "metadata": {
        "id": "Gfqub_WYjQps"
      },
      "source": [
        "import sys\n",
        "sys.path.insert(0, '/content/algorithmic-trading-with-python/src/pypm')"
      ],
      "execution_count": 11,
      "outputs": []
    },
    {
      "cell_type": "markdown",
      "metadata": {
        "id": "lBhqx0OuAHJO"
      },
      "source": [
        "**Librerias a usar para graficas e indicadores**"
      ]
    },
    {
      "cell_type": "code",
      "metadata": {
        "id": "tBwo9ectjmIo"
      },
      "source": [
        "\n",
        "import pypm\n",
        "from pypm import metrics\n",
        "import pandas as pd\n",
        "import matplotlib\n",
        "import matplotlib.pyplot as plt\n",
        "import os\n",
        "# Make plots bigger\n",
        "import datetime\n",
        "import numpy as np\n",
        "import plotly.graph_objs as go\n",
        "import plotly as py\n",
        "\n",
        "\n",
        "\n",
        "import plotly.express as px\n",
        "matplotlib.rcParams['figure.figsize'] = (20.0, 10.0)\n",
        "\n",
        "pd.set_option('max_colwidth', 400)\n",
        "pd.set_option('display.max_columns', None)\n",
        "pd.set_option('display.max_rows', None)\n",
        "\n",
        "#metrics.calculate_calmar_ratio"
      ],
      "execution_count": 12,
      "outputs": []
    },
    {
      "cell_type": "code",
      "metadata": {
        "id": "nt4SQe7JRQsw"
      },
      "source": [
        "def line_range(df,x_col,y_col,range_x_values,title_msg, hide_weekends,especial_dates, hide_especial_dates) :\n",
        "  df_trunc = df.copy()\n",
        "  fig = px.line(df_trunc, x=x_col, y=y_col, range_x=range_x_values, title=title_msg)\n",
        "  if (hide_weekends) :\n",
        "    fig.update_xaxes(\n",
        "        rangebreaks=[\n",
        "            dict(bounds=[\"sat\", \"mon\"]) #, #hide weekends\n",
        "        ]\n",
        "    )\n",
        "  else :\n",
        "    if (hide_especial_dates) :\n",
        "      fig.update_xaxes(\n",
        "          rangebreaks=[\n",
        "              dict(bounds=[\"sat\", \"mon\"]), #, #hide weekends\n",
        "              dict(values=especial_dates)  # hide Christmas and New Year's\n",
        "          ]\n",
        "      )\n",
        "  fig.show()"
      ],
      "execution_count": 13,
      "outputs": []
    },
    {
      "cell_type": "code",
      "metadata": {
        "id": "GOAe1NBuX8e8"
      },
      "source": [
        "def lines_plot(dfs,x_cols,y_cols,line_colors,title_msg, hide_weekends,especial_dates, hide_especial_dates) :\n",
        "\n",
        "\n",
        "    layout = go.Layout(\n",
        "        xaxis=dict(rangebreaks=[\n",
        "            dict(bounds=[\"sat\", \"mon\"])#, # hide weekends\n",
        "            ],\n",
        "        ),\n",
        "        title=go.layout.Title(text=title_msg)   \n",
        "    )\n",
        "\n",
        "    fig = go.Figure()\n",
        "\n",
        "    for i in range(len(x_cols)):\n",
        "        print(i)\n",
        "        print(x_cols[i])\n",
        "        fig.add_trace(go.Scatter(x=dfs[x_cols[i]], y=dfs[y_cols[i]], mode='lines', name=x_cols[i] ,line=dict(color=line_colors[i]) ) )\n",
        "\n",
        "\n",
        "    if (hide_weekends) :\n",
        "      fig.update_xaxes(\n",
        "          rangebreaks=[\n",
        "              dict(bounds=[\"sat\", \"mon\"]) #, #hide weekends\n",
        "          ]\n",
        "      )\n",
        "    else :\n",
        "      if (hide_especial_dates) :\n",
        "        fig.update_xaxes(\n",
        "            rangebreaks=[\n",
        "                dict(bounds=[\"sat\", \"mon\"]), #, #hide weekends\n",
        "                dict(values=especial_dates)  # hide Christmas and New Year's\n",
        "            ]\n",
        "        )\n",
        "\n",
        "    fig.update_xaxes(\n",
        "        rangebreaks=[\n",
        "            dict(bounds=[\"sat\", \"mon\"]) #, #hide weekends\n",
        "        ]\n",
        "    )\n",
        "\n",
        "    fig.show()"
      ],
      "execution_count": 14,
      "outputs": []
    },
    {
      "cell_type": "code",
      "metadata": {
        "id": "k48MvmIyhS5Z"
      },
      "source": [
        ""
      ],
      "execution_count": 14,
      "outputs": []
    },
    {
      "cell_type": "code",
      "metadata": {
        "id": "VbzjbaFd9I4p"
      },
      "source": [
        "#para dibujar solo velas\n",
        "def drawCandleStick(data):\n",
        "    candlestick = go.Candlestick(\n",
        "        x = data.index,\n",
        "        open = data['open'],\n",
        "        high = data['high'], \n",
        "        low = data['low'],\n",
        "        close = data['close']\n",
        "    )\n",
        "    # create a plot\n",
        "    fig.update_xaxes(\n",
        "        rangebreaks=[\n",
        "            dict(bounds=[\"sat\", \"mon\"]) #, #hide weekends\n",
        "            #dict(values=[\"2021-06-16\", \"2021-06-06\"])  # hide Christmas and New Year's\n",
        "        ]\n",
        "    )\n",
        "    fig = go.Figure(data=[candlestick])\n",
        "    fig.show()"
      ],
      "execution_count": 15,
      "outputs": []
    },
    {
      "cell_type": "code",
      "metadata": {
        "id": "yY0aXRwfDVQf"
      },
      "source": [
        "fromD = 'GBP'\n",
        "toD='AUD'\n",
        "# **Ver el precio de intercambio al cierre**\n",
        "\n",
        "from alpha_vantage.foreignexchange import ForeignExchange\n",
        "from pprint import pprint\n",
        "cc = ForeignExchange(key='1035HSNE5D7XWHLM',output_format='pandas')\n",
        "\n",
        "# There is no metadata in this call\n",
        "data_exchange_rate, meta_exchange_rate = cc.get_currency_exchange_rate(from_currency=fromD,to_currency=toD)\n",
        "\n",
        "#data_exchange_rate.head(5)\n",
        "\n",
        "\n"
      ],
      "execution_count": 16,
      "outputs": []
    },
    {
      "cell_type": "code",
      "metadata": {
        "id": "6riRJnmAKiDD"
      },
      "source": [
        "#pd_filtro_diario=data_daily[ (data_daily.TradeDate  >= pd.to_datetime('2021-02-01', format='%Y-%m-%d')) & ( data_daily.TradeDate  < pd.to_datetime('2021-06-21', format='%Y-%m-%d')) ]\n",
        "#pd_filtro_diario.head()"
      ],
      "execution_count": 17,
      "outputs": []
    },
    {
      "cell_type": "code",
      "metadata": {
        "id": "zeHb0grRF7zk",
        "colab": {
          "base_uri": "https://localhost:8080/"
        },
        "outputId": "ab550640-752f-46b8-cd15-8a8124b4fc77"
      },
      "source": [
        "# para analisis diario\n",
        "columns = ['open','high','low','close']\n",
        "\n",
        "data_daily, meta_daily = cc.get_currency_exchange_daily ( 'GBP','AUD',outputsize='compact')\n",
        "\n",
        "data_daily.columns = columns\n",
        "data_daily.sort_index(ascending=True,inplace=True)\n",
        "data_daily[\"TradeDate\"] = data_daily.index.date\n",
        "data_daily.TradeDate = pd.to_datetime(data_daily.TradeDate, format='%Y-%m-%d')\n",
        "\n",
        "data_daily.reset_index(drop=True,inplace=True)\n",
        "data_daily.dtypes"
      ],
      "execution_count": 18,
      "outputs": [
        {
          "output_type": "execute_result",
          "data": {
            "text/plain": [
              "open                float64\n",
              "high                float64\n",
              "low                 float64\n",
              "close               float64\n",
              "TradeDate    datetime64[ns]\n",
              "dtype: object"
            ]
          },
          "metadata": {
            "tags": []
          },
          "execution_count": 18
        }
      ]
    },
    {
      "cell_type": "code",
      "metadata": {
        "colab": {
          "base_uri": "https://localhost:8080/",
          "height": 200
        },
        "id": "i4I53Iqv1hLz",
        "outputId": "47679ccd-972a-49de-bbaf-9de43da6ef6e"
      },
      "source": [
        "data_daily.head()"
      ],
      "execution_count": 19,
      "outputs": [
        {
          "output_type": "execute_result",
          "data": {
            "text/html": [
              "<div>\n",
              "<style scoped>\n",
              "    .dataframe tbody tr th:only-of-type {\n",
              "        vertical-align: middle;\n",
              "    }\n",
              "\n",
              "    .dataframe tbody tr th {\n",
              "        vertical-align: top;\n",
              "    }\n",
              "\n",
              "    .dataframe thead th {\n",
              "        text-align: right;\n",
              "    }\n",
              "</style>\n",
              "<table border=\"1\" class=\"dataframe\">\n",
              "  <thead>\n",
              "    <tr style=\"text-align: right;\">\n",
              "      <th></th>\n",
              "      <th>open</th>\n",
              "      <th>high</th>\n",
              "      <th>low</th>\n",
              "      <th>close</th>\n",
              "      <th>TradeDate</th>\n",
              "    </tr>\n",
              "  </thead>\n",
              "  <tbody>\n",
              "    <tr>\n",
              "      <th>0</th>\n",
              "      <td>1.78328</td>\n",
              "      <td>1.78943</td>\n",
              "      <td>1.78189</td>\n",
              "      <td>1.78633</td>\n",
              "      <td>2021-02-15</td>\n",
              "    </tr>\n",
              "    <tr>\n",
              "      <th>1</th>\n",
              "      <td>1.78608</td>\n",
              "      <td>1.79432</td>\n",
              "      <td>1.78523</td>\n",
              "      <td>1.79122</td>\n",
              "      <td>2021-02-16</td>\n",
              "    </tr>\n",
              "    <tr>\n",
              "      <th>2</th>\n",
              "      <td>1.79141</td>\n",
              "      <td>1.79666</td>\n",
              "      <td>1.78582</td>\n",
              "      <td>1.78744</td>\n",
              "      <td>2021-02-17</td>\n",
              "    </tr>\n",
              "    <tr>\n",
              "      <th>3</th>\n",
              "      <td>1.78628</td>\n",
              "      <td>1.80236</td>\n",
              "      <td>1.78473</td>\n",
              "      <td>1.79829</td>\n",
              "      <td>2021-02-18</td>\n",
              "    </tr>\n",
              "    <tr>\n",
              "      <th>4</th>\n",
              "      <td>1.79839</td>\n",
              "      <td>1.79941</td>\n",
              "      <td>1.77803</td>\n",
              "      <td>1.77938</td>\n",
              "      <td>2021-02-19</td>\n",
              "    </tr>\n",
              "  </tbody>\n",
              "</table>\n",
              "</div>"
            ],
            "text/plain": [
              "      open     high      low    close  TradeDate\n",
              "0  1.78328  1.78943  1.78189  1.78633 2021-02-15\n",
              "1  1.78608  1.79432  1.78523  1.79122 2021-02-16\n",
              "2  1.79141  1.79666  1.78582  1.78744 2021-02-17\n",
              "3  1.78628  1.80236  1.78473  1.79829 2021-02-18\n",
              "4  1.79839  1.79941  1.77803  1.77938 2021-02-19"
            ]
          },
          "metadata": {
            "tags": []
          },
          "execution_count": 19
        }
      ]
    },
    {
      "cell_type": "code",
      "metadata": {
        "id": "wS7LP-aqFV1O"
      },
      "source": [
        "titulo='Prices:' + fromD + '-' + toD"
      ],
      "execution_count": 26,
      "outputs": []
    },
    {
      "cell_type": "code",
      "metadata": {
        "id": "309rlqQhU1Zw"
      },
      "source": [
        ""
      ],
      "execution_count": 19,
      "outputs": []
    },
    {
      "cell_type": "code",
      "metadata": {
        "colab": {
          "base_uri": "https://localhost:8080/"
        },
        "id": "1MQHFPyAz8E8",
        "outputId": "809bdf1b-bc63-456d-ab9e-4821cf68f313"
      },
      "source": [
        "np.max(data_daily.TradeDate)"
      ],
      "execution_count": 20,
      "outputs": [
        {
          "output_type": "execute_result",
          "data": {
            "text/plain": [
              "Timestamp('2021-07-02 00:00:00')"
            ]
          },
          "metadata": {
            "tags": []
          },
          "execution_count": 20
        }
      ]
    },
    {
      "cell_type": "code",
      "metadata": {
        "colab": {
          "base_uri": "https://localhost:8080/"
        },
        "id": "Fv3FAc5N0zez",
        "outputId": "d03a9807-2c2a-47b2-91fe-fb5b84962e38"
      },
      "source": [
        "np.min(data_daily.TradeDate)"
      ],
      "execution_count": 21,
      "outputs": [
        {
          "output_type": "execute_result",
          "data": {
            "text/plain": [
              "Timestamp('2021-02-15 00:00:00')"
            ]
          },
          "metadata": {
            "tags": []
          },
          "execution_count": 21
        }
      ]
    },
    {
      "cell_type": "code",
      "metadata": {
        "id": "rPXVvgNLF8Go"
      },
      "source": [
        "\n",
        "# para analisis mensual\n",
        "\n",
        "data_monthly, meta_monthly = cc.get_currency_exchange_monthly('GBP','AUD',outputsize='compact')"
      ],
      "execution_count": 23,
      "outputs": []
    },
    {
      "cell_type": "code",
      "metadata": {
        "colab": {
          "base_uri": "https://localhost:8080/",
          "height": 230
        },
        "id": "vRi_3Y0RIlDl",
        "outputId": "81d14404-26d0-4985-80fe-81c96d7dc925"
      },
      "source": [
        "data_monthly.columns = columns\n",
        "data_monthly.sort_index(ascending=False,inplace=True)\n",
        "data_monthly.head(5)"
      ],
      "execution_count": 24,
      "outputs": [
        {
          "output_type": "execute_result",
          "data": {
            "text/html": [
              "<div>\n",
              "<style scoped>\n",
              "    .dataframe tbody tr th:only-of-type {\n",
              "        vertical-align: middle;\n",
              "    }\n",
              "\n",
              "    .dataframe tbody tr th {\n",
              "        vertical-align: top;\n",
              "    }\n",
              "\n",
              "    .dataframe thead th {\n",
              "        text-align: right;\n",
              "    }\n",
              "</style>\n",
              "<table border=\"1\" class=\"dataframe\">\n",
              "  <thead>\n",
              "    <tr style=\"text-align: right;\">\n",
              "      <th></th>\n",
              "      <th>open</th>\n",
              "      <th>high</th>\n",
              "      <th>low</th>\n",
              "      <th>close</th>\n",
              "    </tr>\n",
              "    <tr>\n",
              "      <th>date</th>\n",
              "      <th></th>\n",
              "      <th></th>\n",
              "      <th></th>\n",
              "      <th></th>\n",
              "    </tr>\n",
              "  </thead>\n",
              "  <tbody>\n",
              "    <tr>\n",
              "      <th>2021-07-02</th>\n",
              "      <td>1.84273</td>\n",
              "      <td>1.84719</td>\n",
              "      <td>1.83908</td>\n",
              "      <td>1.84087</td>\n",
              "    </tr>\n",
              "    <tr>\n",
              "      <th>2021-06-30</th>\n",
              "      <td>1.83636</td>\n",
              "      <td>1.85237</td>\n",
              "      <td>1.81909</td>\n",
              "      <td>1.84274</td>\n",
              "    </tr>\n",
              "    <tr>\n",
              "      <th>2021-05-31</th>\n",
              "      <td>1.78958</td>\n",
              "      <td>1.84236</td>\n",
              "      <td>1.78024</td>\n",
              "      <td>1.83614</td>\n",
              "    </tr>\n",
              "    <tr>\n",
              "      <th>2021-04-30</th>\n",
              "      <td>1.81441</td>\n",
              "      <td>1.82650</td>\n",
              "      <td>1.77372</td>\n",
              "      <td>1.79078</td>\n",
              "    </tr>\n",
              "    <tr>\n",
              "      <th>2021-03-31</th>\n",
              "      <td>1.80520</td>\n",
              "      <td>1.81595</td>\n",
              "      <td>1.78057</td>\n",
              "      <td>1.81402</td>\n",
              "    </tr>\n",
              "  </tbody>\n",
              "</table>\n",
              "</div>"
            ],
            "text/plain": [
              "               open     high      low    close\n",
              "date                                          \n",
              "2021-07-02  1.84273  1.84719  1.83908  1.84087\n",
              "2021-06-30  1.83636  1.85237  1.81909  1.84274\n",
              "2021-05-31  1.78958  1.84236  1.78024  1.83614\n",
              "2021-04-30  1.81441  1.82650  1.77372  1.79078\n",
              "2021-03-31  1.80520  1.81595  1.78057  1.81402"
            ]
          },
          "metadata": {
            "tags": []
          },
          "execution_count": 24
        }
      ]
    },
    {
      "cell_type": "code",
      "metadata": {
        "colab": {
          "base_uri": "https://localhost:8080/",
          "height": 542
        },
        "id": "XVkg5n0BU4qs",
        "outputId": "6756850f-a899-426c-f3c4-5e808b78b332"
      },
      "source": [
        "line_range(data_monthly,data_monthly.index,data_monthly.close,['2019-01-01','2021-07-02'],'Closes '+titulo,True,['2021-06-02'],False)"
      ],
      "execution_count": 96,
      "outputs": [
        {
          "output_type": "display_data",
          "data": {
            "text/html": [
              "<html>\n",
              "<head><meta charset=\"utf-8\" /></head>\n",
              "<body>\n",
              "    <div>            <script src=\"https://cdnjs.cloudflare.com/ajax/libs/mathjax/2.7.5/MathJax.js?config=TeX-AMS-MML_SVG\"></script><script type=\"text/javascript\">if (window.MathJax) {MathJax.Hub.Config({SVG: {font: \"STIX-Web\"}});}</script>                <script type=\"text/javascript\">window.PlotlyConfig = {MathJaxConfig: 'local'};</script>\n",
              "        <script src=\"https://cdn.plot.ly/plotly-2.1.0.min.js\"></script>                <div id=\"97ba7e95-83a3-465d-8d2c-6b8e54243881\" class=\"plotly-graph-div\" style=\"height:525px; width:100%;\"></div>            <script type=\"text/javascript\">                                    window.PLOTLYENV=window.PLOTLYENV || {};                                    if (document.getElementById(\"97ba7e95-83a3-465d-8d2c-6b8e54243881\")) {                    Plotly.newPlot(                        \"97ba7e95-83a3-465d-8d2c-6b8e54243881\",                        [{\"hovertemplate\":\"x=%{x}<br>y=%{y}<extra></extra>\",\"legendgroup\":\"\",\"line\":{\"color\":\"#636efa\",\"dash\":\"solid\"},\"mode\":\"lines\",\"name\":\"\",\"orientation\":\"v\",\"showlegend\":false,\"type\":\"scatter\",\"x\":[\"2021-07-02T00:00:00\",\"2021-06-30T00:00:00\",\"2021-05-31T00:00:00\",\"2021-04-30T00:00:00\",\"2021-03-31T00:00:00\",\"2021-02-26T00:00:00\",\"2021-01-29T00:00:00\",\"2020-12-31T00:00:00\",\"2020-11-30T00:00:00\",\"2020-10-30T00:00:00\",\"2020-09-30T00:00:00\",\"2020-08-31T00:00:00\",\"2020-07-31T00:00:00\",\"2020-06-30T00:00:00\",\"2020-05-29T00:00:00\",\"2020-04-30T00:00:00\",\"2020-03-31T00:00:00\",\"2020-02-28T00:00:00\",\"2020-01-31T00:00:00\",\"2019-12-31T00:00:00\",\"2019-11-29T00:00:00\",\"2019-10-31T00:00:00\",\"2019-09-30T00:00:00\",\"2019-08-30T00:00:00\",\"2019-07-31T00:00:00\",\"2019-06-28T00:00:00\",\"2019-05-31T00:00:00\",\"2019-04-30T00:00:00\",\"2019-03-29T00:00:00\",\"2019-02-28T00:00:00\",\"2019-01-31T00:00:00\",\"2018-12-31T00:00:00\",\"2018-11-30T00:00:00\",\"2018-10-31T00:00:00\",\"2018-09-28T00:00:00\",\"2018-08-31T00:00:00\",\"2018-07-31T00:00:00\",\"2018-06-29T00:00:00\",\"2018-05-31T00:00:00\",\"2018-04-30T00:00:00\",\"2018-03-30T00:00:00\",\"2018-02-28T00:00:00\",\"2018-01-31T00:00:00\",\"2017-12-29T00:00:00\",\"2017-11-30T00:00:00\",\"2017-10-31T00:00:00\",\"2017-09-29T00:00:00\",\"2017-08-31T00:00:00\",\"2017-07-31T00:00:00\",\"2017-06-30T00:00:00\",\"2017-05-31T00:00:00\",\"2017-04-28T00:00:00\",\"2017-03-31T00:00:00\",\"2017-02-28T00:00:00\",\"2017-01-31T00:00:00\",\"2016-12-30T00:00:00\",\"2016-11-30T00:00:00\",\"2016-10-31T00:00:00\",\"2016-09-30T00:00:00\",\"2016-08-31T00:00:00\",\"2016-07-29T00:00:00\",\"2016-06-30T00:00:00\",\"2016-05-31T00:00:00\",\"2016-04-29T00:00:00\",\"2016-03-31T00:00:00\",\"2016-02-29T00:00:00\",\"2016-01-29T00:00:00\",\"2015-12-31T00:00:00\",\"2015-11-30T00:00:00\",\"2015-10-30T00:00:00\",\"2015-09-30T00:00:00\",\"2015-08-31T00:00:00\",\"2015-07-31T00:00:00\",\"2015-06-30T00:00:00\",\"2015-05-29T00:00:00\",\"2015-04-30T00:00:00\",\"2015-03-31T00:00:00\",\"2015-02-27T00:00:00\",\"2015-01-30T00:00:00\",\"2014-12-31T00:00:00\",\"2014-11-28T00:00:00\",\"2014-10-31T00:00:00\",\"2014-09-30T00:00:00\",\"2014-08-29T00:00:00\",\"2014-07-31T00:00:00\",\"2014-06-30T00:00:00\",\"2014-05-30T00:00:00\",\"2014-04-30T00:00:00\",\"2014-03-31T00:00:00\",\"2014-02-28T00:00:00\",\"2014-01-31T00:00:00\",\"2013-12-31T00:00:00\",\"2013-11-29T00:00:00\",\"2013-10-31T00:00:00\",\"2013-09-30T00:00:00\",\"2013-08-30T00:00:00\",\"2013-07-31T00:00:00\",\"2013-06-28T00:00:00\",\"2013-05-31T00:00:00\",\"2013-04-30T00:00:00\",\"2013-03-29T00:00:00\",\"2013-02-28T00:00:00\",\"2013-01-31T00:00:00\",\"2012-12-31T00:00:00\",\"2012-11-30T00:00:00\",\"2012-10-31T00:00:00\",\"2012-09-28T00:00:00\",\"2012-08-31T00:00:00\",\"2012-07-31T00:00:00\",\"2012-06-29T00:00:00\",\"2012-05-31T00:00:00\",\"2012-04-30T00:00:00\",\"2012-03-30T00:00:00\",\"2012-02-29T00:00:00\",\"2012-01-31T00:00:00\",\"2011-12-30T00:00:00\",\"2011-11-30T00:00:00\",\"2011-10-31T00:00:00\",\"2011-09-30T00:00:00\",\"2011-08-31T00:00:00\",\"2011-07-29T00:00:00\",\"2011-06-30T00:00:00\",\"2011-05-31T00:00:00\",\"2011-04-29T00:00:00\",\"2011-03-31T00:00:00\",\"2011-02-28T00:00:00\",\"2011-01-31T00:00:00\",\"2010-12-31T00:00:00\",\"2010-11-30T00:00:00\",\"2010-10-29T00:00:00\",\"2010-09-30T00:00:00\",\"2010-08-31T00:00:00\",\"2010-07-30T00:00:00\",\"2010-06-30T00:00:00\",\"2010-05-31T00:00:00\",\"2010-04-30T00:00:00\",\"2010-03-31T00:00:00\",\"2010-02-26T00:00:00\",\"2010-01-29T00:00:00\",\"2009-12-31T00:00:00\",\"2009-11-30T00:00:00\",\"2009-10-30T00:00:00\",\"2009-09-30T00:00:00\",\"2009-08-31T00:00:00\",\"2009-07-31T00:00:00\",\"2009-06-30T00:00:00\",\"2009-05-29T00:00:00\",\"2009-04-30T00:00:00\",\"2009-03-31T00:00:00\",\"2009-02-27T00:00:00\",\"2009-01-30T00:00:00\",\"2008-12-31T00:00:00\",\"2008-11-28T00:00:00\",\"2008-10-31T00:00:00\",\"2008-09-30T00:00:00\",\"2008-08-29T00:00:00\",\"2008-07-31T00:00:00\",\"2008-06-30T00:00:00\",\"2008-05-30T00:00:00\",\"2008-04-30T00:00:00\",\"2008-03-31T00:00:00\",\"2008-02-29T00:00:00\",\"2008-01-31T00:00:00\",\"2007-12-31T00:00:00\",\"2007-11-30T00:00:00\",\"2007-10-31T00:00:00\",\"2007-09-28T00:00:00\",\"2007-08-31T00:00:00\",\"2007-07-31T00:00:00\",\"2007-06-29T00:00:00\",\"2007-05-31T00:00:00\",\"2007-04-30T00:00:00\",\"2007-03-30T00:00:00\",\"2007-02-28T00:00:00\",\"2007-01-31T00:00:00\",\"2006-12-29T00:00:00\",\"2006-11-30T00:00:00\",\"2006-10-31T00:00:00\",\"2006-09-29T00:00:00\",\"2006-08-31T00:00:00\",\"2006-07-31T00:00:00\",\"2006-06-30T00:00:00\",\"2006-05-31T00:00:00\",\"2006-04-28T00:00:00\",\"2006-03-31T00:00:00\",\"2006-02-28T00:00:00\",\"2006-01-31T00:00:00\",\"2005-12-30T00:00:00\",\"2005-11-30T00:00:00\",\"2005-10-31T00:00:00\",\"2005-09-30T00:00:00\",\"2005-08-31T00:00:00\",\"2005-07-29T00:00:00\",\"2005-06-30T00:00:00\",\"2005-05-31T00:00:00\",\"2005-04-29T00:00:00\",\"2005-03-31T00:00:00\",\"2005-02-28T00:00:00\",\"2005-01-31T00:00:00\",\"2004-12-31T00:00:00\",\"2004-11-30T00:00:00\",\"2004-10-29T00:00:00\",\"2004-09-30T00:00:00\",\"2004-08-31T00:00:00\",\"2004-07-30T00:00:00\",\"2004-06-30T00:00:00\",\"2004-05-31T00:00:00\",\"2004-04-30T00:00:00\",\"2004-03-31T00:00:00\",\"2004-02-27T00:00:00\",\"2004-01-30T00:00:00\",\"2003-12-31T00:00:00\",\"2003-11-28T00:00:00\",\"2003-10-31T00:00:00\",\"2003-09-30T00:00:00\",\"2003-08-29T00:00:00\",\"2003-07-31T00:00:00\",\"2003-06-30T00:00:00\",\"2003-05-30T00:00:00\",\"2003-04-30T00:00:00\",\"2003-03-31T00:00:00\",\"2003-02-28T00:00:00\",\"2003-01-31T00:00:00\",\"2002-12-31T00:00:00\",\"2002-11-29T00:00:00\",\"2002-10-31T00:00:00\",\"2002-09-30T00:00:00\",\"2002-08-30T00:00:00\",\"2002-07-31T00:00:00\",\"2002-06-28T00:00:00\"],\"xaxis\":\"x\",\"y\":[1.84087,1.84274,1.83614,1.79078,1.81402,1.80721,1.79191,1.77573,1.81365,1.84235,1.80303,1.81151,1.83175,1.7957,1.85216,1.93713,2.0273,1.97066,1.97337,1.89019,1.91237,1.87757,1.82032,1.80607,1.77528,1.80861,1.82163,1.8506,1.83822,1.86822,1.80245,1.80971,1.74531,1.80399,1.80388,1.80147,1.76919,1.78395,1.756,1.82852,1.82487,1.77259,1.76179,1.72789,1.78795,1.73588,1.70841,1.62987,1.6502,1.69365,1.73343,1.72735,1.64246,1.61726,1.65948,1.71268,1.69335,1.60724,1.69276,1.74768,1.73878,1.78727,2.00236,1.91861,1.87362,1.94746,2.00898,2.01667,2.08368,2.15947,2.15997,2.15791,2.1355,2.0386,1.99818,1.94322,1.94583,1.9745,1.9369,1.90534,1.8384,1.8181,1.8534,1.7768,1.8164,1.8141,1.7994,1.8173,1.7979,1.8752,1.8767,1.8549,1.7953,1.6949,1.7356,1.7418,1.6964,1.6646,1.5871,1.4982,1.46,1.4841,1.5206,1.5623,1.5354,1.5539,1.5584,1.5355,1.4935,1.5343,1.5836,1.5568,1.5486,1.483,1.4838,1.5228,1.5272,1.5254,1.6129,1.5208,1.4934,1.4976,1.5434,1.5206,1.5523,1.5958,1.6053,1.5249,1.6231,1.6302,1.627,1.7197,1.734,1.7767,1.7159,1.652,1.6553,1.6996,1.8072,1.8014,1.7943,1.8308,1.8106,1.9298,1.9979,2.0433,2.0202,2.038,2.0723,2.2408,2.2783,2.0809,2.3475,2.404,2.2448,2.1221,2.1067,2.08,2.0734,2.1074,2.1705,2.1368,2.2181,2.2682,2.3262,2.2334,2.3055,2.4659,2.3849,2.3648,2.3914,2.4085,2.4335,2.4921,2.5296,2.483,2.4919,2.4647,2.5096,2.4924,2.4393,2.4872,2.4883,2.3993,2.422,2.3616,2.3464,2.3421,2.3386,2.3652,2.3114,2.3894,2.3206,2.3532,2.4051,2.4436,2.4448,2.4263,2.4291,2.4491,2.4717,2.4545,2.4891,2.5579,2.5956,2.6071,2.5604,2.4615,2.4084,2.4114,2.3892,2.3737,2.3775,2.3942,2.4421,2.433,2.4832,2.4609,2.5048,2.5497,2.6164,2.5868,2.8036,2.8714,2.7757,2.8141,2.8912,2.8125,2.8817,2.7181],\"yaxis\":\"y\"}],                        {\"legend\":{\"tracegroupgap\":0},\"template\":{\"data\":{\"bar\":[{\"error_x\":{\"color\":\"#2a3f5f\"},\"error_y\":{\"color\":\"#2a3f5f\"},\"marker\":{\"line\":{\"color\":\"#E5ECF6\",\"width\":0.5},\"pattern\":{\"fillmode\":\"overlay\",\"size\":10,\"solidity\":0.2}},\"type\":\"bar\"}],\"barpolar\":[{\"marker\":{\"line\":{\"color\":\"#E5ECF6\",\"width\":0.5},\"pattern\":{\"fillmode\":\"overlay\",\"size\":10,\"solidity\":0.2}},\"type\":\"barpolar\"}],\"carpet\":[{\"aaxis\":{\"endlinecolor\":\"#2a3f5f\",\"gridcolor\":\"white\",\"linecolor\":\"white\",\"minorgridcolor\":\"white\",\"startlinecolor\":\"#2a3f5f\"},\"baxis\":{\"endlinecolor\":\"#2a3f5f\",\"gridcolor\":\"white\",\"linecolor\":\"white\",\"minorgridcolor\":\"white\",\"startlinecolor\":\"#2a3f5f\"},\"type\":\"carpet\"}],\"choropleth\":[{\"colorbar\":{\"outlinewidth\":0,\"ticks\":\"\"},\"type\":\"choropleth\"}],\"contour\":[{\"colorbar\":{\"outlinewidth\":0,\"ticks\":\"\"},\"colorscale\":[[0.0,\"#0d0887\"],[0.1111111111111111,\"#46039f\"],[0.2222222222222222,\"#7201a8\"],[0.3333333333333333,\"#9c179e\"],[0.4444444444444444,\"#bd3786\"],[0.5555555555555556,\"#d8576b\"],[0.6666666666666666,\"#ed7953\"],[0.7777777777777778,\"#fb9f3a\"],[0.8888888888888888,\"#fdca26\"],[1.0,\"#f0f921\"]],\"type\":\"contour\"}],\"contourcarpet\":[{\"colorbar\":{\"outlinewidth\":0,\"ticks\":\"\"},\"type\":\"contourcarpet\"}],\"heatmap\":[{\"colorbar\":{\"outlinewidth\":0,\"ticks\":\"\"},\"colorscale\":[[0.0,\"#0d0887\"],[0.1111111111111111,\"#46039f\"],[0.2222222222222222,\"#7201a8\"],[0.3333333333333333,\"#9c179e\"],[0.4444444444444444,\"#bd3786\"],[0.5555555555555556,\"#d8576b\"],[0.6666666666666666,\"#ed7953\"],[0.7777777777777778,\"#fb9f3a\"],[0.8888888888888888,\"#fdca26\"],[1.0,\"#f0f921\"]],\"type\":\"heatmap\"}],\"heatmapgl\":[{\"colorbar\":{\"outlinewidth\":0,\"ticks\":\"\"},\"colorscale\":[[0.0,\"#0d0887\"],[0.1111111111111111,\"#46039f\"],[0.2222222222222222,\"#7201a8\"],[0.3333333333333333,\"#9c179e\"],[0.4444444444444444,\"#bd3786\"],[0.5555555555555556,\"#d8576b\"],[0.6666666666666666,\"#ed7953\"],[0.7777777777777778,\"#fb9f3a\"],[0.8888888888888888,\"#fdca26\"],[1.0,\"#f0f921\"]],\"type\":\"heatmapgl\"}],\"histogram\":[{\"marker\":{\"pattern\":{\"fillmode\":\"overlay\",\"size\":10,\"solidity\":0.2}},\"type\":\"histogram\"}],\"histogram2d\":[{\"colorbar\":{\"outlinewidth\":0,\"ticks\":\"\"},\"colorscale\":[[0.0,\"#0d0887\"],[0.1111111111111111,\"#46039f\"],[0.2222222222222222,\"#7201a8\"],[0.3333333333333333,\"#9c179e\"],[0.4444444444444444,\"#bd3786\"],[0.5555555555555556,\"#d8576b\"],[0.6666666666666666,\"#ed7953\"],[0.7777777777777778,\"#fb9f3a\"],[0.8888888888888888,\"#fdca26\"],[1.0,\"#f0f921\"]],\"type\":\"histogram2d\"}],\"histogram2dcontour\":[{\"colorbar\":{\"outlinewidth\":0,\"ticks\":\"\"},\"colorscale\":[[0.0,\"#0d0887\"],[0.1111111111111111,\"#46039f\"],[0.2222222222222222,\"#7201a8\"],[0.3333333333333333,\"#9c179e\"],[0.4444444444444444,\"#bd3786\"],[0.5555555555555556,\"#d8576b\"],[0.6666666666666666,\"#ed7953\"],[0.7777777777777778,\"#fb9f3a\"],[0.8888888888888888,\"#fdca26\"],[1.0,\"#f0f921\"]],\"type\":\"histogram2dcontour\"}],\"mesh3d\":[{\"colorbar\":{\"outlinewidth\":0,\"ticks\":\"\"},\"type\":\"mesh3d\"}],\"parcoords\":[{\"line\":{\"colorbar\":{\"outlinewidth\":0,\"ticks\":\"\"}},\"type\":\"parcoords\"}],\"pie\":[{\"automargin\":true,\"type\":\"pie\"}],\"scatter\":[{\"marker\":{\"colorbar\":{\"outlinewidth\":0,\"ticks\":\"\"}},\"type\":\"scatter\"}],\"scatter3d\":[{\"line\":{\"colorbar\":{\"outlinewidth\":0,\"ticks\":\"\"}},\"marker\":{\"colorbar\":{\"outlinewidth\":0,\"ticks\":\"\"}},\"type\":\"scatter3d\"}],\"scattercarpet\":[{\"marker\":{\"colorbar\":{\"outlinewidth\":0,\"ticks\":\"\"}},\"type\":\"scattercarpet\"}],\"scattergeo\":[{\"marker\":{\"colorbar\":{\"outlinewidth\":0,\"ticks\":\"\"}},\"type\":\"scattergeo\"}],\"scattergl\":[{\"marker\":{\"colorbar\":{\"outlinewidth\":0,\"ticks\":\"\"}},\"type\":\"scattergl\"}],\"scattermapbox\":[{\"marker\":{\"colorbar\":{\"outlinewidth\":0,\"ticks\":\"\"}},\"type\":\"scattermapbox\"}],\"scatterpolar\":[{\"marker\":{\"colorbar\":{\"outlinewidth\":0,\"ticks\":\"\"}},\"type\":\"scatterpolar\"}],\"scatterpolargl\":[{\"marker\":{\"colorbar\":{\"outlinewidth\":0,\"ticks\":\"\"}},\"type\":\"scatterpolargl\"}],\"scatterternary\":[{\"marker\":{\"colorbar\":{\"outlinewidth\":0,\"ticks\":\"\"}},\"type\":\"scatterternary\"}],\"surface\":[{\"colorbar\":{\"outlinewidth\":0,\"ticks\":\"\"},\"colorscale\":[[0.0,\"#0d0887\"],[0.1111111111111111,\"#46039f\"],[0.2222222222222222,\"#7201a8\"],[0.3333333333333333,\"#9c179e\"],[0.4444444444444444,\"#bd3786\"],[0.5555555555555556,\"#d8576b\"],[0.6666666666666666,\"#ed7953\"],[0.7777777777777778,\"#fb9f3a\"],[0.8888888888888888,\"#fdca26\"],[1.0,\"#f0f921\"]],\"type\":\"surface\"}],\"table\":[{\"cells\":{\"fill\":{\"color\":\"#EBF0F8\"},\"line\":{\"color\":\"white\"}},\"header\":{\"fill\":{\"color\":\"#C8D4E3\"},\"line\":{\"color\":\"white\"}},\"type\":\"table\"}]},\"layout\":{\"annotationdefaults\":{\"arrowcolor\":\"#2a3f5f\",\"arrowhead\":0,\"arrowwidth\":1},\"autotypenumbers\":\"strict\",\"coloraxis\":{\"colorbar\":{\"outlinewidth\":0,\"ticks\":\"\"}},\"colorscale\":{\"diverging\":[[0,\"#8e0152\"],[0.1,\"#c51b7d\"],[0.2,\"#de77ae\"],[0.3,\"#f1b6da\"],[0.4,\"#fde0ef\"],[0.5,\"#f7f7f7\"],[0.6,\"#e6f5d0\"],[0.7,\"#b8e186\"],[0.8,\"#7fbc41\"],[0.9,\"#4d9221\"],[1,\"#276419\"]],\"sequential\":[[0.0,\"#0d0887\"],[0.1111111111111111,\"#46039f\"],[0.2222222222222222,\"#7201a8\"],[0.3333333333333333,\"#9c179e\"],[0.4444444444444444,\"#bd3786\"],[0.5555555555555556,\"#d8576b\"],[0.6666666666666666,\"#ed7953\"],[0.7777777777777778,\"#fb9f3a\"],[0.8888888888888888,\"#fdca26\"],[1.0,\"#f0f921\"]],\"sequentialminus\":[[0.0,\"#0d0887\"],[0.1111111111111111,\"#46039f\"],[0.2222222222222222,\"#7201a8\"],[0.3333333333333333,\"#9c179e\"],[0.4444444444444444,\"#bd3786\"],[0.5555555555555556,\"#d8576b\"],[0.6666666666666666,\"#ed7953\"],[0.7777777777777778,\"#fb9f3a\"],[0.8888888888888888,\"#fdca26\"],[1.0,\"#f0f921\"]]},\"colorway\":[\"#636efa\",\"#EF553B\",\"#00cc96\",\"#ab63fa\",\"#FFA15A\",\"#19d3f3\",\"#FF6692\",\"#B6E880\",\"#FF97FF\",\"#FECB52\"],\"font\":{\"color\":\"#2a3f5f\"},\"geo\":{\"bgcolor\":\"white\",\"lakecolor\":\"white\",\"landcolor\":\"#E5ECF6\",\"showlakes\":true,\"showland\":true,\"subunitcolor\":\"white\"},\"hoverlabel\":{\"align\":\"left\"},\"hovermode\":\"closest\",\"mapbox\":{\"style\":\"light\"},\"paper_bgcolor\":\"white\",\"plot_bgcolor\":\"#E5ECF6\",\"polar\":{\"angularaxis\":{\"gridcolor\":\"white\",\"linecolor\":\"white\",\"ticks\":\"\"},\"bgcolor\":\"#E5ECF6\",\"radialaxis\":{\"gridcolor\":\"white\",\"linecolor\":\"white\",\"ticks\":\"\"}},\"scene\":{\"xaxis\":{\"backgroundcolor\":\"#E5ECF6\",\"gridcolor\":\"white\",\"gridwidth\":2,\"linecolor\":\"white\",\"showbackground\":true,\"ticks\":\"\",\"zerolinecolor\":\"white\"},\"yaxis\":{\"backgroundcolor\":\"#E5ECF6\",\"gridcolor\":\"white\",\"gridwidth\":2,\"linecolor\":\"white\",\"showbackground\":true,\"ticks\":\"\",\"zerolinecolor\":\"white\"},\"zaxis\":{\"backgroundcolor\":\"#E5ECF6\",\"gridcolor\":\"white\",\"gridwidth\":2,\"linecolor\":\"white\",\"showbackground\":true,\"ticks\":\"\",\"zerolinecolor\":\"white\"}},\"shapedefaults\":{\"line\":{\"color\":\"#2a3f5f\"}},\"ternary\":{\"aaxis\":{\"gridcolor\":\"white\",\"linecolor\":\"white\",\"ticks\":\"\"},\"baxis\":{\"gridcolor\":\"white\",\"linecolor\":\"white\",\"ticks\":\"\"},\"bgcolor\":\"#E5ECF6\",\"caxis\":{\"gridcolor\":\"white\",\"linecolor\":\"white\",\"ticks\":\"\"}},\"title\":{\"x\":0.05},\"xaxis\":{\"automargin\":true,\"gridcolor\":\"white\",\"linecolor\":\"white\",\"ticks\":\"\",\"title\":{\"standoff\":15},\"zerolinecolor\":\"white\",\"zerolinewidth\":2},\"yaxis\":{\"automargin\":true,\"gridcolor\":\"white\",\"linecolor\":\"white\",\"ticks\":\"\",\"title\":{\"standoff\":15},\"zerolinecolor\":\"white\",\"zerolinewidth\":2}}},\"title\":{\"text\":\"Closes Prices:GBP-AUD\"},\"xaxis\":{\"anchor\":\"y\",\"domain\":[0.0,1.0],\"range\":[\"2019-01-01\",\"2021-07-02\"],\"rangebreaks\":[{\"bounds\":[\"sat\",\"mon\"]}],\"title\":{\"text\":\"x\"}},\"yaxis\":{\"anchor\":\"x\",\"domain\":[0.0,1.0],\"title\":{\"text\":\"y\"}}},                        {\"responsive\": true}                    ).then(function(){\n",
              "                            \n",
              "var gd = document.getElementById('97ba7e95-83a3-465d-8d2c-6b8e54243881');\n",
              "var x = new MutationObserver(function (mutations, observer) {{\n",
              "        var display = window.getComputedStyle(gd).display;\n",
              "        if (!display || display === 'none') {{\n",
              "            console.log([gd, 'removed!']);\n",
              "            Plotly.purge(gd);\n",
              "            observer.disconnect();\n",
              "        }}\n",
              "}});\n",
              "\n",
              "// Listen for the removal of the full notebook cells\n",
              "var notebookContainer = gd.closest('#notebook-container');\n",
              "if (notebookContainer) {{\n",
              "    x.observe(notebookContainer, {childList: true});\n",
              "}}\n",
              "\n",
              "// Listen for the clearing of the current output cell\n",
              "var outputEl = gd.closest('.output');\n",
              "if (outputEl) {{\n",
              "    x.observe(outputEl, {childList: true});\n",
              "}}\n",
              "\n",
              "                        })                };                            </script>        </div>\n",
              "</body>\n",
              "</html>"
            ]
          },
          "metadata": {
            "tags": []
          }
        }
      ]
    },
    {
      "cell_type": "code",
      "metadata": {
        "id": "ydnk6cqZF8Q6",
        "colab": {
          "base_uri": "https://localhost:8080/",
          "height": 351
        },
        "outputId": "445682d8-7e14-4f35-8a44-90ab9dfe8286"
      },
      "source": [
        "\n",
        "# Ver el intraday para el calculo de banderas\n",
        "\n",
        "data_intraday, meta_intraday = cc.get_currency_exchange_intraday('GBP','AUD',interval='15min',outputsize='full')\n",
        "\n",
        "data_intraday.columns = columns\n",
        "data_intraday.sort_index(ascending=True,inplace=True)\n",
        "data_intraday['TradeDate'] = data_intraday.index.date \n",
        "\n",
        "\n",
        "data_intraday['time'] = data_intraday.index.time\n",
        "data_intraday[\"date\"] = data_intraday.index.to_pydatetime()\n",
        "\n",
        "format = '%Y-%m-%d %H:%M:%S'\n",
        "\n",
        "data_intraday['date'] = pd.to_datetime(data_intraday.date, format=format)\n",
        "data_intraday = data_intraday.set_index(pd.DatetimeIndex(data_intraday['date']))\n",
        "\n",
        "data_daily.sort_index(ascending=True,inplace=True)\n",
        "\n",
        "data_intraday.reset_index(drop=True,inplace=True)\n",
        "\n",
        "#data_intraday.set_index('date',inplace=True)\n",
        "\n",
        "\n",
        "\n",
        "data_intraday.head(10)"
      ],
      "execution_count": 27,
      "outputs": [
        {
          "output_type": "execute_result",
          "data": {
            "text/html": [
              "<div>\n",
              "<style scoped>\n",
              "    .dataframe tbody tr th:only-of-type {\n",
              "        vertical-align: middle;\n",
              "    }\n",
              "\n",
              "    .dataframe tbody tr th {\n",
              "        vertical-align: top;\n",
              "    }\n",
              "\n",
              "    .dataframe thead th {\n",
              "        text-align: right;\n",
              "    }\n",
              "</style>\n",
              "<table border=\"1\" class=\"dataframe\">\n",
              "  <thead>\n",
              "    <tr style=\"text-align: right;\">\n",
              "      <th></th>\n",
              "      <th>open</th>\n",
              "      <th>high</th>\n",
              "      <th>low</th>\n",
              "      <th>close</th>\n",
              "      <th>TradeDate</th>\n",
              "      <th>time</th>\n",
              "      <th>date</th>\n",
              "    </tr>\n",
              "  </thead>\n",
              "  <tbody>\n",
              "    <tr>\n",
              "      <th>0</th>\n",
              "      <td>1.84503</td>\n",
              "      <td>1.84669</td>\n",
              "      <td>1.84443</td>\n",
              "      <td>1.84633</td>\n",
              "      <td>2021-06-18</td>\n",
              "      <td>05:00:00</td>\n",
              "      <td>2021-06-18 05:00:00</td>\n",
              "    </tr>\n",
              "    <tr>\n",
              "      <th>1</th>\n",
              "      <td>1.84637</td>\n",
              "      <td>1.85002</td>\n",
              "      <td>1.84552</td>\n",
              "      <td>1.84983</td>\n",
              "      <td>2021-06-18</td>\n",
              "      <td>05:15:00</td>\n",
              "      <td>2021-06-18 05:15:00</td>\n",
              "    </tr>\n",
              "    <tr>\n",
              "      <th>2</th>\n",
              "      <td>1.84986</td>\n",
              "      <td>1.85022</td>\n",
              "      <td>1.84725</td>\n",
              "      <td>1.84742</td>\n",
              "      <td>2021-06-18</td>\n",
              "      <td>05:30:00</td>\n",
              "      <td>2021-06-18 05:30:00</td>\n",
              "    </tr>\n",
              "    <tr>\n",
              "      <th>3</th>\n",
              "      <td>1.84743</td>\n",
              "      <td>1.84755</td>\n",
              "      <td>1.84479</td>\n",
              "      <td>1.84511</td>\n",
              "      <td>2021-06-18</td>\n",
              "      <td>05:45:00</td>\n",
              "      <td>2021-06-18 05:45:00</td>\n",
              "    </tr>\n",
              "    <tr>\n",
              "      <th>4</th>\n",
              "      <td>1.84510</td>\n",
              "      <td>1.84559</td>\n",
              "      <td>1.84272</td>\n",
              "      <td>1.84363</td>\n",
              "      <td>2021-06-18</td>\n",
              "      <td>06:00:00</td>\n",
              "      <td>2021-06-18 06:00:00</td>\n",
              "    </tr>\n",
              "    <tr>\n",
              "      <th>5</th>\n",
              "      <td>1.84364</td>\n",
              "      <td>1.84481</td>\n",
              "      <td>1.84261</td>\n",
              "      <td>1.84324</td>\n",
              "      <td>2021-06-18</td>\n",
              "      <td>06:15:00</td>\n",
              "      <td>2021-06-18 06:15:00</td>\n",
              "    </tr>\n",
              "    <tr>\n",
              "      <th>6</th>\n",
              "      <td>1.84318</td>\n",
              "      <td>1.84348</td>\n",
              "      <td>1.84100</td>\n",
              "      <td>1.84233</td>\n",
              "      <td>2021-06-18</td>\n",
              "      <td>06:30:00</td>\n",
              "      <td>2021-06-18 06:30:00</td>\n",
              "    </tr>\n",
              "    <tr>\n",
              "      <th>7</th>\n",
              "      <td>1.84236</td>\n",
              "      <td>1.84300</td>\n",
              "      <td>1.84071</td>\n",
              "      <td>1.84253</td>\n",
              "      <td>2021-06-18</td>\n",
              "      <td>06:45:00</td>\n",
              "      <td>2021-06-18 06:45:00</td>\n",
              "    </tr>\n",
              "    <tr>\n",
              "      <th>8</th>\n",
              "      <td>1.84248</td>\n",
              "      <td>1.84285</td>\n",
              "      <td>1.84138</td>\n",
              "      <td>1.84179</td>\n",
              "      <td>2021-06-18</td>\n",
              "      <td>07:00:00</td>\n",
              "      <td>2021-06-18 07:00:00</td>\n",
              "    </tr>\n",
              "    <tr>\n",
              "      <th>9</th>\n",
              "      <td>1.84182</td>\n",
              "      <td>1.84188</td>\n",
              "      <td>1.83980</td>\n",
              "      <td>1.84032</td>\n",
              "      <td>2021-06-18</td>\n",
              "      <td>07:15:00</td>\n",
              "      <td>2021-06-18 07:15:00</td>\n",
              "    </tr>\n",
              "  </tbody>\n",
              "</table>\n",
              "</div>"
            ],
            "text/plain": [
              "      open     high      low    close   TradeDate      time  \\\n",
              "0  1.84503  1.84669  1.84443  1.84633  2021-06-18  05:00:00   \n",
              "1  1.84637  1.85002  1.84552  1.84983  2021-06-18  05:15:00   \n",
              "2  1.84986  1.85022  1.84725  1.84742  2021-06-18  05:30:00   \n",
              "3  1.84743  1.84755  1.84479  1.84511  2021-06-18  05:45:00   \n",
              "4  1.84510  1.84559  1.84272  1.84363  2021-06-18  06:00:00   \n",
              "5  1.84364  1.84481  1.84261  1.84324  2021-06-18  06:15:00   \n",
              "6  1.84318  1.84348  1.84100  1.84233  2021-06-18  06:30:00   \n",
              "7  1.84236  1.84300  1.84071  1.84253  2021-06-18  06:45:00   \n",
              "8  1.84248  1.84285  1.84138  1.84179  2021-06-18  07:00:00   \n",
              "9  1.84182  1.84188  1.83980  1.84032  2021-06-18  07:15:00   \n",
              "\n",
              "                 date  \n",
              "0 2021-06-18 05:00:00  \n",
              "1 2021-06-18 05:15:00  \n",
              "2 2021-06-18 05:30:00  \n",
              "3 2021-06-18 05:45:00  \n",
              "4 2021-06-18 06:00:00  \n",
              "5 2021-06-18 06:15:00  \n",
              "6 2021-06-18 06:30:00  \n",
              "7 2021-06-18 06:45:00  \n",
              "8 2021-06-18 07:00:00  \n",
              "9 2021-06-18 07:15:00  "
            ]
          },
          "metadata": {
            "tags": []
          },
          "execution_count": 27
        }
      ]
    },
    {
      "cell_type": "code",
      "metadata": {
        "id": "1yuu0w7vivrG"
      },
      "source": [
        ""
      ],
      "execution_count": 27,
      "outputs": []
    },
    {
      "cell_type": "code",
      "metadata": {
        "colab": {
          "base_uri": "https://localhost:8080/"
        },
        "id": "3ZB9-Fb5BhaQ",
        "outputId": "f33d9867-4e3e-4600-f743-6a5bf9e3be65"
      },
      "source": [
        "data_intraday.dtypes"
      ],
      "execution_count": 28,
      "outputs": [
        {
          "output_type": "execute_result",
          "data": {
            "text/plain": [
              "open                float64\n",
              "high                float64\n",
              "low                 float64\n",
              "close               float64\n",
              "TradeDate            object\n",
              "time                 object\n",
              "date         datetime64[ns]\n",
              "dtype: object"
            ]
          },
          "metadata": {
            "tags": []
          },
          "execution_count": 28
        }
      ]
    },
    {
      "cell_type": "code",
      "metadata": {
        "colab": {
          "base_uri": "https://localhost:8080/",
          "height": 351
        },
        "id": "nTPpFl4Q9Rjw",
        "outputId": "825214bb-d750-4d6d-d299-d517b1d1f529"
      },
      "source": [
        "data_intraday.head(10)"
      ],
      "execution_count": 29,
      "outputs": [
        {
          "output_type": "execute_result",
          "data": {
            "text/html": [
              "<div>\n",
              "<style scoped>\n",
              "    .dataframe tbody tr th:only-of-type {\n",
              "        vertical-align: middle;\n",
              "    }\n",
              "\n",
              "    .dataframe tbody tr th {\n",
              "        vertical-align: top;\n",
              "    }\n",
              "\n",
              "    .dataframe thead th {\n",
              "        text-align: right;\n",
              "    }\n",
              "</style>\n",
              "<table border=\"1\" class=\"dataframe\">\n",
              "  <thead>\n",
              "    <tr style=\"text-align: right;\">\n",
              "      <th></th>\n",
              "      <th>open</th>\n",
              "      <th>high</th>\n",
              "      <th>low</th>\n",
              "      <th>close</th>\n",
              "      <th>TradeDate</th>\n",
              "      <th>time</th>\n",
              "      <th>date</th>\n",
              "    </tr>\n",
              "  </thead>\n",
              "  <tbody>\n",
              "    <tr>\n",
              "      <th>0</th>\n",
              "      <td>1.84503</td>\n",
              "      <td>1.84669</td>\n",
              "      <td>1.84443</td>\n",
              "      <td>1.84633</td>\n",
              "      <td>2021-06-18</td>\n",
              "      <td>05:00:00</td>\n",
              "      <td>2021-06-18 05:00:00</td>\n",
              "    </tr>\n",
              "    <tr>\n",
              "      <th>1</th>\n",
              "      <td>1.84637</td>\n",
              "      <td>1.85002</td>\n",
              "      <td>1.84552</td>\n",
              "      <td>1.84983</td>\n",
              "      <td>2021-06-18</td>\n",
              "      <td>05:15:00</td>\n",
              "      <td>2021-06-18 05:15:00</td>\n",
              "    </tr>\n",
              "    <tr>\n",
              "      <th>2</th>\n",
              "      <td>1.84986</td>\n",
              "      <td>1.85022</td>\n",
              "      <td>1.84725</td>\n",
              "      <td>1.84742</td>\n",
              "      <td>2021-06-18</td>\n",
              "      <td>05:30:00</td>\n",
              "      <td>2021-06-18 05:30:00</td>\n",
              "    </tr>\n",
              "    <tr>\n",
              "      <th>3</th>\n",
              "      <td>1.84743</td>\n",
              "      <td>1.84755</td>\n",
              "      <td>1.84479</td>\n",
              "      <td>1.84511</td>\n",
              "      <td>2021-06-18</td>\n",
              "      <td>05:45:00</td>\n",
              "      <td>2021-06-18 05:45:00</td>\n",
              "    </tr>\n",
              "    <tr>\n",
              "      <th>4</th>\n",
              "      <td>1.84510</td>\n",
              "      <td>1.84559</td>\n",
              "      <td>1.84272</td>\n",
              "      <td>1.84363</td>\n",
              "      <td>2021-06-18</td>\n",
              "      <td>06:00:00</td>\n",
              "      <td>2021-06-18 06:00:00</td>\n",
              "    </tr>\n",
              "    <tr>\n",
              "      <th>5</th>\n",
              "      <td>1.84364</td>\n",
              "      <td>1.84481</td>\n",
              "      <td>1.84261</td>\n",
              "      <td>1.84324</td>\n",
              "      <td>2021-06-18</td>\n",
              "      <td>06:15:00</td>\n",
              "      <td>2021-06-18 06:15:00</td>\n",
              "    </tr>\n",
              "    <tr>\n",
              "      <th>6</th>\n",
              "      <td>1.84318</td>\n",
              "      <td>1.84348</td>\n",
              "      <td>1.84100</td>\n",
              "      <td>1.84233</td>\n",
              "      <td>2021-06-18</td>\n",
              "      <td>06:30:00</td>\n",
              "      <td>2021-06-18 06:30:00</td>\n",
              "    </tr>\n",
              "    <tr>\n",
              "      <th>7</th>\n",
              "      <td>1.84236</td>\n",
              "      <td>1.84300</td>\n",
              "      <td>1.84071</td>\n",
              "      <td>1.84253</td>\n",
              "      <td>2021-06-18</td>\n",
              "      <td>06:45:00</td>\n",
              "      <td>2021-06-18 06:45:00</td>\n",
              "    </tr>\n",
              "    <tr>\n",
              "      <th>8</th>\n",
              "      <td>1.84248</td>\n",
              "      <td>1.84285</td>\n",
              "      <td>1.84138</td>\n",
              "      <td>1.84179</td>\n",
              "      <td>2021-06-18</td>\n",
              "      <td>07:00:00</td>\n",
              "      <td>2021-06-18 07:00:00</td>\n",
              "    </tr>\n",
              "    <tr>\n",
              "      <th>9</th>\n",
              "      <td>1.84182</td>\n",
              "      <td>1.84188</td>\n",
              "      <td>1.83980</td>\n",
              "      <td>1.84032</td>\n",
              "      <td>2021-06-18</td>\n",
              "      <td>07:15:00</td>\n",
              "      <td>2021-06-18 07:15:00</td>\n",
              "    </tr>\n",
              "  </tbody>\n",
              "</table>\n",
              "</div>"
            ],
            "text/plain": [
              "      open     high      low    close   TradeDate      time  \\\n",
              "0  1.84503  1.84669  1.84443  1.84633  2021-06-18  05:00:00   \n",
              "1  1.84637  1.85002  1.84552  1.84983  2021-06-18  05:15:00   \n",
              "2  1.84986  1.85022  1.84725  1.84742  2021-06-18  05:30:00   \n",
              "3  1.84743  1.84755  1.84479  1.84511  2021-06-18  05:45:00   \n",
              "4  1.84510  1.84559  1.84272  1.84363  2021-06-18  06:00:00   \n",
              "5  1.84364  1.84481  1.84261  1.84324  2021-06-18  06:15:00   \n",
              "6  1.84318  1.84348  1.84100  1.84233  2021-06-18  06:30:00   \n",
              "7  1.84236  1.84300  1.84071  1.84253  2021-06-18  06:45:00   \n",
              "8  1.84248  1.84285  1.84138  1.84179  2021-06-18  07:00:00   \n",
              "9  1.84182  1.84188  1.83980  1.84032  2021-06-18  07:15:00   \n",
              "\n",
              "                 date  \n",
              "0 2021-06-18 05:00:00  \n",
              "1 2021-06-18 05:15:00  \n",
              "2 2021-06-18 05:30:00  \n",
              "3 2021-06-18 05:45:00  \n",
              "4 2021-06-18 06:00:00  \n",
              "5 2021-06-18 06:15:00  \n",
              "6 2021-06-18 06:30:00  \n",
              "7 2021-06-18 06:45:00  \n",
              "8 2021-06-18 07:00:00  \n",
              "9 2021-06-18 07:15:00  "
            ]
          },
          "metadata": {
            "tags": []
          },
          "execution_count": 29
        }
      ]
    },
    {
      "cell_type": "code",
      "metadata": {
        "id": "nbCb_RW35lM8"
      },
      "source": [
        "#omitir las fechas de fin de semana\n",
        "data_intraday = data_intraday[data_intraday.date.dt.dayofweek < 5 ]"
      ],
      "execution_count": 30,
      "outputs": []
    },
    {
      "cell_type": "code",
      "metadata": {
        "colab": {
          "base_uri": "https://localhost:8080/",
          "height": 411
        },
        "id": "rciVgHqRLN2k",
        "outputId": "5e9958bf-e97b-4bf6-e28b-d0e2b682be92"
      },
      "source": [
        "data_intraday.groupby('TradeDate').agg({'low':min, 'high':max})"
      ],
      "execution_count": 34,
      "outputs": [
        {
          "output_type": "execute_result",
          "data": {
            "text/html": [
              "<div>\n",
              "<style scoped>\n",
              "    .dataframe tbody tr th:only-of-type {\n",
              "        vertical-align: middle;\n",
              "    }\n",
              "\n",
              "    .dataframe tbody tr th {\n",
              "        vertical-align: top;\n",
              "    }\n",
              "\n",
              "    .dataframe thead th {\n",
              "        text-align: right;\n",
              "    }\n",
              "</style>\n",
              "<table border=\"1\" class=\"dataframe\">\n",
              "  <thead>\n",
              "    <tr style=\"text-align: right;\">\n",
              "      <th></th>\n",
              "      <th>low</th>\n",
              "      <th>high</th>\n",
              "    </tr>\n",
              "    <tr>\n",
              "      <th>TradeDate</th>\n",
              "      <th></th>\n",
              "      <th></th>\n",
              "    </tr>\n",
              "  </thead>\n",
              "  <tbody>\n",
              "    <tr>\n",
              "      <th>2021-06-18</th>\n",
              "      <td>1.83955</td>\n",
              "      <td>1.85022</td>\n",
              "    </tr>\n",
              "    <tr>\n",
              "      <th>2021-06-21</th>\n",
              "      <td>1.83655</td>\n",
              "      <td>1.84955</td>\n",
              "    </tr>\n",
              "    <tr>\n",
              "      <th>2021-06-22</th>\n",
              "      <td>1.84411</td>\n",
              "      <td>1.85237</td>\n",
              "    </tr>\n",
              "    <tr>\n",
              "      <th>2021-06-23</th>\n",
              "      <td>1.83979</td>\n",
              "      <td>1.85201</td>\n",
              "    </tr>\n",
              "    <tr>\n",
              "      <th>2021-06-24</th>\n",
              "      <td>1.83301</td>\n",
              "      <td>1.84552</td>\n",
              "    </tr>\n",
              "    <tr>\n",
              "      <th>2021-06-25</th>\n",
              "      <td>1.82580</td>\n",
              "      <td>1.83605</td>\n",
              "    </tr>\n",
              "    <tr>\n",
              "      <th>2021-06-28</th>\n",
              "      <td>1.82874</td>\n",
              "      <td>1.83971</td>\n",
              "    </tr>\n",
              "    <tr>\n",
              "      <th>2021-06-29</th>\n",
              "      <td>1.83267</td>\n",
              "      <td>1.84394</td>\n",
              "    </tr>\n",
              "    <tr>\n",
              "      <th>2021-06-30</th>\n",
              "      <td>1.83796</td>\n",
              "      <td>1.84853</td>\n",
              "    </tr>\n",
              "    <tr>\n",
              "      <th>2021-07-01</th>\n",
              "      <td>1.83908</td>\n",
              "      <td>1.84719</td>\n",
              "    </tr>\n",
              "    <tr>\n",
              "      <th>2021-07-02</th>\n",
              "      <td>1.84044</td>\n",
              "      <td>1.84710</td>\n",
              "    </tr>\n",
              "  </tbody>\n",
              "</table>\n",
              "</div>"
            ],
            "text/plain": [
              "                low     high\n",
              "TradeDate                   \n",
              "2021-06-18  1.83955  1.85022\n",
              "2021-06-21  1.83655  1.84955\n",
              "2021-06-22  1.84411  1.85237\n",
              "2021-06-23  1.83979  1.85201\n",
              "2021-06-24  1.83301  1.84552\n",
              "2021-06-25  1.82580  1.83605\n",
              "2021-06-28  1.82874  1.83971\n",
              "2021-06-29  1.83267  1.84394\n",
              "2021-06-30  1.83796  1.84853\n",
              "2021-07-01  1.83908  1.84719\n",
              "2021-07-02  1.84044  1.84710"
            ]
          },
          "metadata": {
            "tags": []
          },
          "execution_count": 34
        }
      ]
    },
    {
      "cell_type": "markdown",
      "metadata": {
        "id": "Jt97aCZxJAcE"
      },
      "source": [
        ""
      ]
    },
    {
      "cell_type": "code",
      "metadata": {
        "id": "E9Aq9QkXH56p",
        "colab": {
          "base_uri": "https://localhost:8080/"
        },
        "outputId": "69096baa-5ca9-4e9a-a92e-cc7bca40a7ef"
      },
      "source": [
        "pd_fechas_total = pd.date_range(start=data_intraday.TradeDate.min() , end= data_intraday.TradeDate.max())\n",
        "type(pd_fechas_total)"
      ],
      "execution_count": 35,
      "outputs": [
        {
          "output_type": "execute_result",
          "data": {
            "text/plain": [
              "pandas.core.indexes.datetimes.DatetimeIndex"
            ]
          },
          "metadata": {
            "tags": []
          },
          "execution_count": 35
        }
      ]
    },
    {
      "cell_type": "code",
      "metadata": {
        "colab": {
          "base_uri": "https://localhost:8080/"
        },
        "id": "or_ry9Q6Nkou",
        "outputId": "afb10891-d635-42c7-c190-751afa899415"
      },
      "source": [
        "pd_fechas_total.to_list()"
      ],
      "execution_count": 36,
      "outputs": [
        {
          "output_type": "execute_result",
          "data": {
            "text/plain": [
              "[Timestamp('2021-06-18 00:00:00', freq='D'),\n",
              " Timestamp('2021-06-19 00:00:00', freq='D'),\n",
              " Timestamp('2021-06-20 00:00:00', freq='D'),\n",
              " Timestamp('2021-06-21 00:00:00', freq='D'),\n",
              " Timestamp('2021-06-22 00:00:00', freq='D'),\n",
              " Timestamp('2021-06-23 00:00:00', freq='D'),\n",
              " Timestamp('2021-06-24 00:00:00', freq='D'),\n",
              " Timestamp('2021-06-25 00:00:00', freq='D'),\n",
              " Timestamp('2021-06-26 00:00:00', freq='D'),\n",
              " Timestamp('2021-06-27 00:00:00', freq='D'),\n",
              " Timestamp('2021-06-28 00:00:00', freq='D'),\n",
              " Timestamp('2021-06-29 00:00:00', freq='D'),\n",
              " Timestamp('2021-06-30 00:00:00', freq='D'),\n",
              " Timestamp('2021-07-01 00:00:00', freq='D'),\n",
              " Timestamp('2021-07-02 00:00:00', freq='D')]"
            ]
          },
          "metadata": {
            "tags": []
          },
          "execution_count": 36
        }
      ]
    },
    {
      "cell_type": "code",
      "metadata": {
        "colab": {
          "base_uri": "https://localhost:8080/"
        },
        "id": "SV424EceOGb9",
        "outputId": "92fca99b-2910-4434-da1f-3de23a2548a8"
      },
      "source": [
        "data_intraday.TradeDate.unique()\n"
      ],
      "execution_count": 37,
      "outputs": [
        {
          "output_type": "execute_result",
          "data": {
            "text/plain": [
              "array([datetime.date(2021, 6, 18), datetime.date(2021, 6, 21),\n",
              "       datetime.date(2021, 6, 22), datetime.date(2021, 6, 23),\n",
              "       datetime.date(2021, 6, 24), datetime.date(2021, 6, 25),\n",
              "       datetime.date(2021, 6, 28), datetime.date(2021, 6, 29),\n",
              "       datetime.date(2021, 6, 30), datetime.date(2021, 7, 1),\n",
              "       datetime.date(2021, 7, 2)], dtype=object)"
            ]
          },
          "metadata": {
            "tags": []
          },
          "execution_count": 37
        }
      ]
    },
    {
      "cell_type": "code",
      "metadata": {
        "id": "JiYB04qjNYGc"
      },
      "source": [
        "\n",
        "dt_breaks = [d for d in pd_fechas_total.to_list() if not d in data_intraday.TradeDate.unique()]"
      ],
      "execution_count": 38,
      "outputs": []
    },
    {
      "cell_type": "code",
      "metadata": {
        "colab": {
          "base_uri": "https://localhost:8080/"
        },
        "id": "a5ZLvcsjN5lX",
        "outputId": "c40acc89-6065-4d3d-ae9a-d9cc5ed3eccb"
      },
      "source": [
        "dt_breaks"
      ],
      "execution_count": 39,
      "outputs": [
        {
          "output_type": "execute_result",
          "data": {
            "text/plain": [
              "[Timestamp('2021-06-19 00:00:00', freq='D'),\n",
              " Timestamp('2021-06-20 00:00:00', freq='D'),\n",
              " Timestamp('2021-06-26 00:00:00', freq='D'),\n",
              " Timestamp('2021-06-27 00:00:00', freq='D')]"
            ]
          },
          "metadata": {
            "tags": []
          },
          "execution_count": 39
        }
      ]
    },
    {
      "cell_type": "code",
      "metadata": {
        "colab": {
          "base_uri": "https://localhost:8080/"
        },
        "id": "zObFPm6yLDcb",
        "outputId": "7c28d793-a396-466f-f8c3-63fa5268c821"
      },
      "source": [
        "data_intraday.dtypes\n",
        "data_intraday.index"
      ],
      "execution_count": 40,
      "outputs": [
        {
          "output_type": "execute_result",
          "data": {
            "text/plain": [
              "Int64Index([  0,   1,   2,   3,   4,   5,   6,   7,   8,   9,\n",
              "            ...\n",
              "            977, 978, 979, 980, 981, 982, 983, 984, 985, 986],\n",
              "           dtype='int64', length=973)"
            ]
          },
          "metadata": {
            "tags": []
          },
          "execution_count": 40
        }
      ]
    },
    {
      "cell_type": "code",
      "metadata": {
        "colab": {
          "base_uri": "https://localhost:8080/",
          "height": 411
        },
        "id": "_rRcokc_DPf2",
        "outputId": "a13ee0b8-d980-4724-96bd-42ae243f4297"
      },
      "source": [
        "data_intraday.groupby('TradeDate').agg({'low':min, 'high':max})"
      ],
      "execution_count": 41,
      "outputs": [
        {
          "output_type": "execute_result",
          "data": {
            "text/html": [
              "<div>\n",
              "<style scoped>\n",
              "    .dataframe tbody tr th:only-of-type {\n",
              "        vertical-align: middle;\n",
              "    }\n",
              "\n",
              "    .dataframe tbody tr th {\n",
              "        vertical-align: top;\n",
              "    }\n",
              "\n",
              "    .dataframe thead th {\n",
              "        text-align: right;\n",
              "    }\n",
              "</style>\n",
              "<table border=\"1\" class=\"dataframe\">\n",
              "  <thead>\n",
              "    <tr style=\"text-align: right;\">\n",
              "      <th></th>\n",
              "      <th>low</th>\n",
              "      <th>high</th>\n",
              "    </tr>\n",
              "    <tr>\n",
              "      <th>TradeDate</th>\n",
              "      <th></th>\n",
              "      <th></th>\n",
              "    </tr>\n",
              "  </thead>\n",
              "  <tbody>\n",
              "    <tr>\n",
              "      <th>2021-06-18</th>\n",
              "      <td>1.83955</td>\n",
              "      <td>1.85022</td>\n",
              "    </tr>\n",
              "    <tr>\n",
              "      <th>2021-06-21</th>\n",
              "      <td>1.83655</td>\n",
              "      <td>1.84955</td>\n",
              "    </tr>\n",
              "    <tr>\n",
              "      <th>2021-06-22</th>\n",
              "      <td>1.84411</td>\n",
              "      <td>1.85237</td>\n",
              "    </tr>\n",
              "    <tr>\n",
              "      <th>2021-06-23</th>\n",
              "      <td>1.83979</td>\n",
              "      <td>1.85201</td>\n",
              "    </tr>\n",
              "    <tr>\n",
              "      <th>2021-06-24</th>\n",
              "      <td>1.83301</td>\n",
              "      <td>1.84552</td>\n",
              "    </tr>\n",
              "    <tr>\n",
              "      <th>2021-06-25</th>\n",
              "      <td>1.82580</td>\n",
              "      <td>1.83605</td>\n",
              "    </tr>\n",
              "    <tr>\n",
              "      <th>2021-06-28</th>\n",
              "      <td>1.82874</td>\n",
              "      <td>1.83971</td>\n",
              "    </tr>\n",
              "    <tr>\n",
              "      <th>2021-06-29</th>\n",
              "      <td>1.83267</td>\n",
              "      <td>1.84394</td>\n",
              "    </tr>\n",
              "    <tr>\n",
              "      <th>2021-06-30</th>\n",
              "      <td>1.83796</td>\n",
              "      <td>1.84853</td>\n",
              "    </tr>\n",
              "    <tr>\n",
              "      <th>2021-07-01</th>\n",
              "      <td>1.83908</td>\n",
              "      <td>1.84719</td>\n",
              "    </tr>\n",
              "    <tr>\n",
              "      <th>2021-07-02</th>\n",
              "      <td>1.84044</td>\n",
              "      <td>1.84710</td>\n",
              "    </tr>\n",
              "  </tbody>\n",
              "</table>\n",
              "</div>"
            ],
            "text/plain": [
              "                low     high\n",
              "TradeDate                   \n",
              "2021-06-18  1.83955  1.85022\n",
              "2021-06-21  1.83655  1.84955\n",
              "2021-06-22  1.84411  1.85237\n",
              "2021-06-23  1.83979  1.85201\n",
              "2021-06-24  1.83301  1.84552\n",
              "2021-06-25  1.82580  1.83605\n",
              "2021-06-28  1.82874  1.83971\n",
              "2021-06-29  1.83267  1.84394\n",
              "2021-06-30  1.83796  1.84853\n",
              "2021-07-01  1.83908  1.84719\n",
              "2021-07-02  1.84044  1.84710"
            ]
          },
          "metadata": {
            "tags": []
          },
          "execution_count": 41
        }
      ]
    },
    {
      "cell_type": "code",
      "metadata": {
        "colab": {
          "base_uri": "https://localhost:8080/",
          "height": 381
        },
        "id": "5cPbfYgiMs4x",
        "outputId": "2696a4a6-97a6-4167-cd24-e9b14079d500"
      },
      "source": [
        "# busca en que registro (fecha completa hora min seg) se dio el precio minimo para ese dia,\n",
        "# se lo puede verificar con el dato proporcionado antes\n",
        "data_intraday.loc[data_intraday.groupby('TradeDate')['low'].idxmin()]"
      ],
      "execution_count": 42,
      "outputs": [
        {
          "output_type": "execute_result",
          "data": {
            "text/html": [
              "<div>\n",
              "<style scoped>\n",
              "    .dataframe tbody tr th:only-of-type {\n",
              "        vertical-align: middle;\n",
              "    }\n",
              "\n",
              "    .dataframe tbody tr th {\n",
              "        vertical-align: top;\n",
              "    }\n",
              "\n",
              "    .dataframe thead th {\n",
              "        text-align: right;\n",
              "    }\n",
              "</style>\n",
              "<table border=\"1\" class=\"dataframe\">\n",
              "  <thead>\n",
              "    <tr style=\"text-align: right;\">\n",
              "      <th></th>\n",
              "      <th>open</th>\n",
              "      <th>high</th>\n",
              "      <th>low</th>\n",
              "      <th>close</th>\n",
              "      <th>TradeDate</th>\n",
              "      <th>time</th>\n",
              "      <th>date</th>\n",
              "    </tr>\n",
              "  </thead>\n",
              "  <tbody>\n",
              "    <tr>\n",
              "      <th>11</th>\n",
              "      <td>1.84055</td>\n",
              "      <td>1.84089</td>\n",
              "      <td>1.83955</td>\n",
              "      <td>1.84041</td>\n",
              "      <td>2021-06-18</td>\n",
              "      <td>07:45:00</td>\n",
              "      <td>2021-06-18 07:45:00</td>\n",
              "    </tr>\n",
              "    <tr>\n",
              "      <th>85</th>\n",
              "      <td>1.83774</td>\n",
              "      <td>1.83822</td>\n",
              "      <td>1.83655</td>\n",
              "      <td>1.83793</td>\n",
              "      <td>2021-06-21</td>\n",
              "      <td>02:30:00</td>\n",
              "      <td>2021-06-21 02:30:00</td>\n",
              "    </tr>\n",
              "    <tr>\n",
              "      <th>258</th>\n",
              "      <td>1.84594</td>\n",
              "      <td>1.84743</td>\n",
              "      <td>1.84411</td>\n",
              "      <td>1.84562</td>\n",
              "      <td>2021-06-22</td>\n",
              "      <td>21:45:00</td>\n",
              "      <td>2021-06-22 21:45:00</td>\n",
              "    </tr>\n",
              "    <tr>\n",
              "      <th>329</th>\n",
              "      <td>1.84041</td>\n",
              "      <td>1.84122</td>\n",
              "      <td>1.83979</td>\n",
              "      <td>1.84093</td>\n",
              "      <td>2021-06-23</td>\n",
              "      <td>15:30:00</td>\n",
              "      <td>2021-06-23 15:30:00</td>\n",
              "    </tr>\n",
              "    <tr>\n",
              "      <th>412</th>\n",
              "      <td>1.83566</td>\n",
              "      <td>1.83578</td>\n",
              "      <td>1.83301</td>\n",
              "      <td>1.83419</td>\n",
              "      <td>2021-06-24</td>\n",
              "      <td>12:15:00</td>\n",
              "      <td>2021-06-24 12:15:00</td>\n",
              "    </tr>\n",
              "    <tr>\n",
              "      <th>513</th>\n",
              "      <td>1.82681</td>\n",
              "      <td>1.82792</td>\n",
              "      <td>1.82580</td>\n",
              "      <td>1.82769</td>\n",
              "      <td>2021-06-25</td>\n",
              "      <td>13:30:00</td>\n",
              "      <td>2021-06-25 13:30:00</td>\n",
              "    </tr>\n",
              "    <tr>\n",
              "      <th>559</th>\n",
              "      <td>1.83011</td>\n",
              "      <td>1.83025</td>\n",
              "      <td>1.82874</td>\n",
              "      <td>1.82935</td>\n",
              "      <td>2021-06-28</td>\n",
              "      <td>01:15:00</td>\n",
              "      <td>2021-06-28 01:15:00</td>\n",
              "    </tr>\n",
              "    <tr>\n",
              "      <th>656</th>\n",
              "      <td>1.83338</td>\n",
              "      <td>1.83381</td>\n",
              "      <td>1.83267</td>\n",
              "      <td>1.83324</td>\n",
              "      <td>2021-06-29</td>\n",
              "      <td>01:30:00</td>\n",
              "      <td>2021-06-29 01:30:00</td>\n",
              "    </tr>\n",
              "    <tr>\n",
              "      <th>775</th>\n",
              "      <td>1.83929</td>\n",
              "      <td>1.83992</td>\n",
              "      <td>1.83796</td>\n",
              "      <td>1.83896</td>\n",
              "      <td>2021-06-30</td>\n",
              "      <td>07:15:00</td>\n",
              "      <td>2021-06-30 07:15:00</td>\n",
              "    </tr>\n",
              "    <tr>\n",
              "      <th>883</th>\n",
              "      <td>1.83985</td>\n",
              "      <td>1.84210</td>\n",
              "      <td>1.83908</td>\n",
              "      <td>1.84200</td>\n",
              "      <td>2021-07-01</td>\n",
              "      <td>10:15:00</td>\n",
              "      <td>2021-07-01 10:15:00</td>\n",
              "    </tr>\n",
              "    <tr>\n",
              "      <th>983</th>\n",
              "      <td>1.84092</td>\n",
              "      <td>1.84199</td>\n",
              "      <td>1.84044</td>\n",
              "      <td>1.84150</td>\n",
              "      <td>2021-07-02</td>\n",
              "      <td>11:15:00</td>\n",
              "      <td>2021-07-02 11:15:00</td>\n",
              "    </tr>\n",
              "  </tbody>\n",
              "</table>\n",
              "</div>"
            ],
            "text/plain": [
              "        open     high      low    close   TradeDate      time  \\\n",
              "11   1.84055  1.84089  1.83955  1.84041  2021-06-18  07:45:00   \n",
              "85   1.83774  1.83822  1.83655  1.83793  2021-06-21  02:30:00   \n",
              "258  1.84594  1.84743  1.84411  1.84562  2021-06-22  21:45:00   \n",
              "329  1.84041  1.84122  1.83979  1.84093  2021-06-23  15:30:00   \n",
              "412  1.83566  1.83578  1.83301  1.83419  2021-06-24  12:15:00   \n",
              "513  1.82681  1.82792  1.82580  1.82769  2021-06-25  13:30:00   \n",
              "559  1.83011  1.83025  1.82874  1.82935  2021-06-28  01:15:00   \n",
              "656  1.83338  1.83381  1.83267  1.83324  2021-06-29  01:30:00   \n",
              "775  1.83929  1.83992  1.83796  1.83896  2021-06-30  07:15:00   \n",
              "883  1.83985  1.84210  1.83908  1.84200  2021-07-01  10:15:00   \n",
              "983  1.84092  1.84199  1.84044  1.84150  2021-07-02  11:15:00   \n",
              "\n",
              "                   date  \n",
              "11  2021-06-18 07:45:00  \n",
              "85  2021-06-21 02:30:00  \n",
              "258 2021-06-22 21:45:00  \n",
              "329 2021-06-23 15:30:00  \n",
              "412 2021-06-24 12:15:00  \n",
              "513 2021-06-25 13:30:00  \n",
              "559 2021-06-28 01:15:00  \n",
              "656 2021-06-29 01:30:00  \n",
              "775 2021-06-30 07:15:00  \n",
              "883 2021-07-01 10:15:00  \n",
              "983 2021-07-02 11:15:00  "
            ]
          },
          "metadata": {
            "tags": []
          },
          "execution_count": 42
        }
      ]
    },
    {
      "cell_type": "code",
      "metadata": {
        "colab": {
          "base_uri": "https://localhost:8080/",
          "height": 381
        },
        "id": "JDKqj0TcCswY",
        "outputId": "079c5114-c44c-42f8-c274-5f2556859195"
      },
      "source": [
        "# busca en que registro (fecha completa hora min seg) se dio el precio maximo para ese dia,\n",
        "# se lo puede verificar con el dato proporcionado antes\n",
        "data_intraday.loc[data_intraday.groupby('TradeDate')['high'].idxmax()]"
      ],
      "execution_count": 43,
      "outputs": [
        {
          "output_type": "execute_result",
          "data": {
            "text/html": [
              "<div>\n",
              "<style scoped>\n",
              "    .dataframe tbody tr th:only-of-type {\n",
              "        vertical-align: middle;\n",
              "    }\n",
              "\n",
              "    .dataframe tbody tr th {\n",
              "        vertical-align: top;\n",
              "    }\n",
              "\n",
              "    .dataframe thead th {\n",
              "        text-align: right;\n",
              "    }\n",
              "</style>\n",
              "<table border=\"1\" class=\"dataframe\">\n",
              "  <thead>\n",
              "    <tr style=\"text-align: right;\">\n",
              "      <th></th>\n",
              "      <th>open</th>\n",
              "      <th>high</th>\n",
              "      <th>low</th>\n",
              "      <th>close</th>\n",
              "      <th>TradeDate</th>\n",
              "      <th>time</th>\n",
              "      <th>date</th>\n",
              "    </tr>\n",
              "  </thead>\n",
              "  <tbody>\n",
              "    <tr>\n",
              "      <th>2</th>\n",
              "      <td>1.84986</td>\n",
              "      <td>1.85022</td>\n",
              "      <td>1.84725</td>\n",
              "      <td>1.84742</td>\n",
              "      <td>2021-06-18</td>\n",
              "      <td>05:30:00</td>\n",
              "      <td>2021-06-18 05:30:00</td>\n",
              "    </tr>\n",
              "    <tr>\n",
              "      <th>138</th>\n",
              "      <td>1.84855</td>\n",
              "      <td>1.84955</td>\n",
              "      <td>1.84745</td>\n",
              "      <td>1.84818</td>\n",
              "      <td>2021-06-21</td>\n",
              "      <td>15:45:00</td>\n",
              "      <td>2021-06-21 15:45:00</td>\n",
              "    </tr>\n",
              "    <tr>\n",
              "      <th>183</th>\n",
              "      <td>1.85132</td>\n",
              "      <td>1.85237</td>\n",
              "      <td>1.85095</td>\n",
              "      <td>1.85193</td>\n",
              "      <td>2021-06-22</td>\n",
              "      <td>03:00:00</td>\n",
              "      <td>2021-06-22 03:00:00</td>\n",
              "    </tr>\n",
              "    <tr>\n",
              "      <th>299</th>\n",
              "      <td>1.85123</td>\n",
              "      <td>1.85201</td>\n",
              "      <td>1.85059</td>\n",
              "      <td>1.85064</td>\n",
              "      <td>2021-06-23</td>\n",
              "      <td>08:00:00</td>\n",
              "      <td>2021-06-23 08:00:00</td>\n",
              "    </tr>\n",
              "    <tr>\n",
              "      <th>401</th>\n",
              "      <td>1.84415</td>\n",
              "      <td>1.84552</td>\n",
              "      <td>1.84405</td>\n",
              "      <td>1.84455</td>\n",
              "      <td>2021-06-24</td>\n",
              "      <td>09:30:00</td>\n",
              "      <td>2021-06-24 09:30:00</td>\n",
              "    </tr>\n",
              "    <tr>\n",
              "      <th>467</th>\n",
              "      <td>1.83507</td>\n",
              "      <td>1.83605</td>\n",
              "      <td>1.83480</td>\n",
              "      <td>1.83581</td>\n",
              "      <td>2021-06-25</td>\n",
              "      <td>02:00:00</td>\n",
              "      <td>2021-06-25 02:00:00</td>\n",
              "    </tr>\n",
              "    <tr>\n",
              "      <th>612</th>\n",
              "      <td>1.83905</td>\n",
              "      <td>1.83971</td>\n",
              "      <td>1.83781</td>\n",
              "      <td>1.83817</td>\n",
              "      <td>2021-06-28</td>\n",
              "      <td>14:30:00</td>\n",
              "      <td>2021-06-28 14:30:00</td>\n",
              "    </tr>\n",
              "    <tr>\n",
              "      <th>730</th>\n",
              "      <td>1.84331</td>\n",
              "      <td>1.84394</td>\n",
              "      <td>1.84296</td>\n",
              "      <td>1.84377</td>\n",
              "      <td>2021-06-29</td>\n",
              "      <td>20:00:00</td>\n",
              "      <td>2021-06-29 20:00:00</td>\n",
              "    </tr>\n",
              "    <tr>\n",
              "      <th>789</th>\n",
              "      <td>1.84733</td>\n",
              "      <td>1.84853</td>\n",
              "      <td>1.84651</td>\n",
              "      <td>1.84697</td>\n",
              "      <td>2021-06-30</td>\n",
              "      <td>10:45:00</td>\n",
              "      <td>2021-06-30 10:45:00</td>\n",
              "    </tr>\n",
              "    <tr>\n",
              "      <th>869</th>\n",
              "      <td>1.84607</td>\n",
              "      <td>1.84719</td>\n",
              "      <td>1.84578</td>\n",
              "      <td>1.84659</td>\n",
              "      <td>2021-07-01</td>\n",
              "      <td>06:45:00</td>\n",
              "      <td>2021-07-01 06:45:00</td>\n",
              "    </tr>\n",
              "    <tr>\n",
              "      <th>976</th>\n",
              "      <td>1.84501</td>\n",
              "      <td>1.84710</td>\n",
              "      <td>1.84452</td>\n",
              "      <td>1.84679</td>\n",
              "      <td>2021-07-02</td>\n",
              "      <td>09:30:00</td>\n",
              "      <td>2021-07-02 09:30:00</td>\n",
              "    </tr>\n",
              "  </tbody>\n",
              "</table>\n",
              "</div>"
            ],
            "text/plain": [
              "        open     high      low    close   TradeDate      time  \\\n",
              "2    1.84986  1.85022  1.84725  1.84742  2021-06-18  05:30:00   \n",
              "138  1.84855  1.84955  1.84745  1.84818  2021-06-21  15:45:00   \n",
              "183  1.85132  1.85237  1.85095  1.85193  2021-06-22  03:00:00   \n",
              "299  1.85123  1.85201  1.85059  1.85064  2021-06-23  08:00:00   \n",
              "401  1.84415  1.84552  1.84405  1.84455  2021-06-24  09:30:00   \n",
              "467  1.83507  1.83605  1.83480  1.83581  2021-06-25  02:00:00   \n",
              "612  1.83905  1.83971  1.83781  1.83817  2021-06-28  14:30:00   \n",
              "730  1.84331  1.84394  1.84296  1.84377  2021-06-29  20:00:00   \n",
              "789  1.84733  1.84853  1.84651  1.84697  2021-06-30  10:45:00   \n",
              "869  1.84607  1.84719  1.84578  1.84659  2021-07-01  06:45:00   \n",
              "976  1.84501  1.84710  1.84452  1.84679  2021-07-02  09:30:00   \n",
              "\n",
              "                   date  \n",
              "2   2021-06-18 05:30:00  \n",
              "138 2021-06-21 15:45:00  \n",
              "183 2021-06-22 03:00:00  \n",
              "299 2021-06-23 08:00:00  \n",
              "401 2021-06-24 09:30:00  \n",
              "467 2021-06-25 02:00:00  \n",
              "612 2021-06-28 14:30:00  \n",
              "730 2021-06-29 20:00:00  \n",
              "789 2021-06-30 10:45:00  \n",
              "869 2021-07-01 06:45:00  \n",
              "976 2021-07-02 09:30:00  "
            ]
          },
          "metadata": {
            "tags": []
          },
          "execution_count": 43
        }
      ]
    },
    {
      "cell_type": "code",
      "metadata": {
        "id": "TBm__Y3DURw6"
      },
      "source": [
        "import pandas_ta as ta\n"
      ],
      "execution_count": 44,
      "outputs": []
    },
    {
      "cell_type": "code",
      "metadata": {
        "colab": {
          "base_uri": "https://localhost:8080/",
          "height": 200
        },
        "id": "Ga4-33FxUelp",
        "outputId": "0b859d1b-d6c9-42ee-f4e7-7a4abb33535b"
      },
      "source": [
        "# Calculate Returns and append to the df DataFrame\n",
        "data_intraday.ta.log_return(cumulative=False, append=True,percent=True)\n",
        "data_intraday.ta.percent_return(cumulative=False, append=True,percent=True)\n",
        "\n",
        "# New Columns with results\n",
        "data_intraday.columns\n",
        "\n",
        "# Take a peek\n",
        "data_intraday.head()\n",
        "\n"
      ],
      "execution_count": 45,
      "outputs": [
        {
          "output_type": "execute_result",
          "data": {
            "text/html": [
              "<div>\n",
              "<style scoped>\n",
              "    .dataframe tbody tr th:only-of-type {\n",
              "        vertical-align: middle;\n",
              "    }\n",
              "\n",
              "    .dataframe tbody tr th {\n",
              "        vertical-align: top;\n",
              "    }\n",
              "\n",
              "    .dataframe thead th {\n",
              "        text-align: right;\n",
              "    }\n",
              "</style>\n",
              "<table border=\"1\" class=\"dataframe\">\n",
              "  <thead>\n",
              "    <tr style=\"text-align: right;\">\n",
              "      <th></th>\n",
              "      <th>open</th>\n",
              "      <th>high</th>\n",
              "      <th>low</th>\n",
              "      <th>close</th>\n",
              "      <th>TradeDate</th>\n",
              "      <th>time</th>\n",
              "      <th>date</th>\n",
              "      <th>LOGRET_1</th>\n",
              "      <th>PCTRET_1</th>\n",
              "    </tr>\n",
              "  </thead>\n",
              "  <tbody>\n",
              "    <tr>\n",
              "      <th>0</th>\n",
              "      <td>1.84503</td>\n",
              "      <td>1.84669</td>\n",
              "      <td>1.84443</td>\n",
              "      <td>1.84633</td>\n",
              "      <td>2021-06-18</td>\n",
              "      <td>05:00:00</td>\n",
              "      <td>2021-06-18 05:00:00</td>\n",
              "      <td>NaN</td>\n",
              "      <td>NaN</td>\n",
              "    </tr>\n",
              "    <tr>\n",
              "      <th>1</th>\n",
              "      <td>1.84637</td>\n",
              "      <td>1.85002</td>\n",
              "      <td>1.84552</td>\n",
              "      <td>1.84983</td>\n",
              "      <td>2021-06-18</td>\n",
              "      <td>05:15:00</td>\n",
              "      <td>2021-06-18 05:15:00</td>\n",
              "      <td>0.001894</td>\n",
              "      <td>0.001896</td>\n",
              "    </tr>\n",
              "    <tr>\n",
              "      <th>2</th>\n",
              "      <td>1.84986</td>\n",
              "      <td>1.85022</td>\n",
              "      <td>1.84725</td>\n",
              "      <td>1.84742</td>\n",
              "      <td>2021-06-18</td>\n",
              "      <td>05:30:00</td>\n",
              "      <td>2021-06-18 05:30:00</td>\n",
              "      <td>-0.001304</td>\n",
              "      <td>-0.001303</td>\n",
              "    </tr>\n",
              "    <tr>\n",
              "      <th>3</th>\n",
              "      <td>1.84743</td>\n",
              "      <td>1.84755</td>\n",
              "      <td>1.84479</td>\n",
              "      <td>1.84511</td>\n",
              "      <td>2021-06-18</td>\n",
              "      <td>05:45:00</td>\n",
              "      <td>2021-06-18 05:45:00</td>\n",
              "      <td>-0.001251</td>\n",
              "      <td>-0.001250</td>\n",
              "    </tr>\n",
              "    <tr>\n",
              "      <th>4</th>\n",
              "      <td>1.84510</td>\n",
              "      <td>1.84559</td>\n",
              "      <td>1.84272</td>\n",
              "      <td>1.84363</td>\n",
              "      <td>2021-06-18</td>\n",
              "      <td>06:00:00</td>\n",
              "      <td>2021-06-18 06:00:00</td>\n",
              "      <td>-0.000802</td>\n",
              "      <td>-0.000802</td>\n",
              "    </tr>\n",
              "  </tbody>\n",
              "</table>\n",
              "</div>"
            ],
            "text/plain": [
              "      open     high      low    close   TradeDate      time  \\\n",
              "0  1.84503  1.84669  1.84443  1.84633  2021-06-18  05:00:00   \n",
              "1  1.84637  1.85002  1.84552  1.84983  2021-06-18  05:15:00   \n",
              "2  1.84986  1.85022  1.84725  1.84742  2021-06-18  05:30:00   \n",
              "3  1.84743  1.84755  1.84479  1.84511  2021-06-18  05:45:00   \n",
              "4  1.84510  1.84559  1.84272  1.84363  2021-06-18  06:00:00   \n",
              "\n",
              "                 date  LOGRET_1  PCTRET_1  \n",
              "0 2021-06-18 05:00:00       NaN       NaN  \n",
              "1 2021-06-18 05:15:00  0.001894  0.001896  \n",
              "2 2021-06-18 05:30:00 -0.001304 -0.001303  \n",
              "3 2021-06-18 05:45:00 -0.001251 -0.001250  \n",
              "4 2021-06-18 06:00:00 -0.000802 -0.000802  "
            ]
          },
          "metadata": {
            "tags": []
          },
          "execution_count": 45
        }
      ]
    },
    {
      "cell_type": "code",
      "metadata": {
        "id": "5wDVU3MtZaDE"
      },
      "source": [
        "data_intraday[\"close_return\"] = metrics.calculate_return_series(data_intraday.close)*100\n",
        "data_intraday[\"close_log_return\"] = metrics.calculate_log_return_series(data_intraday.close)*100"
      ],
      "execution_count": 46,
      "outputs": []
    },
    {
      "cell_type": "code",
      "metadata": {
        "colab": {
          "base_uri": "https://localhost:8080/",
          "height": 200
        },
        "id": "T81N70JwfaMp",
        "outputId": "92fa76f2-aba9-4268-ccf3-b3de7a742e8b"
      },
      "source": [
        "data_intraday.head()"
      ],
      "execution_count": 47,
      "outputs": [
        {
          "output_type": "execute_result",
          "data": {
            "text/html": [
              "<div>\n",
              "<style scoped>\n",
              "    .dataframe tbody tr th:only-of-type {\n",
              "        vertical-align: middle;\n",
              "    }\n",
              "\n",
              "    .dataframe tbody tr th {\n",
              "        vertical-align: top;\n",
              "    }\n",
              "\n",
              "    .dataframe thead th {\n",
              "        text-align: right;\n",
              "    }\n",
              "</style>\n",
              "<table border=\"1\" class=\"dataframe\">\n",
              "  <thead>\n",
              "    <tr style=\"text-align: right;\">\n",
              "      <th></th>\n",
              "      <th>open</th>\n",
              "      <th>high</th>\n",
              "      <th>low</th>\n",
              "      <th>close</th>\n",
              "      <th>TradeDate</th>\n",
              "      <th>time</th>\n",
              "      <th>date</th>\n",
              "      <th>LOGRET_1</th>\n",
              "      <th>PCTRET_1</th>\n",
              "      <th>close_return</th>\n",
              "      <th>close_log_return</th>\n",
              "    </tr>\n",
              "  </thead>\n",
              "  <tbody>\n",
              "    <tr>\n",
              "      <th>0</th>\n",
              "      <td>1.84503</td>\n",
              "      <td>1.84669</td>\n",
              "      <td>1.84443</td>\n",
              "      <td>1.84633</td>\n",
              "      <td>2021-06-18</td>\n",
              "      <td>05:00:00</td>\n",
              "      <td>2021-06-18 05:00:00</td>\n",
              "      <td>NaN</td>\n",
              "      <td>NaN</td>\n",
              "      <td>NaN</td>\n",
              "      <td>NaN</td>\n",
              "    </tr>\n",
              "    <tr>\n",
              "      <th>1</th>\n",
              "      <td>1.84637</td>\n",
              "      <td>1.85002</td>\n",
              "      <td>1.84552</td>\n",
              "      <td>1.84983</td>\n",
              "      <td>2021-06-18</td>\n",
              "      <td>05:15:00</td>\n",
              "      <td>2021-06-18 05:15:00</td>\n",
              "      <td>0.001894</td>\n",
              "      <td>0.001896</td>\n",
              "      <td>0.189565</td>\n",
              "      <td>0.189386</td>\n",
              "    </tr>\n",
              "    <tr>\n",
              "      <th>2</th>\n",
              "      <td>1.84986</td>\n",
              "      <td>1.85022</td>\n",
              "      <td>1.84725</td>\n",
              "      <td>1.84742</td>\n",
              "      <td>2021-06-18</td>\n",
              "      <td>05:30:00</td>\n",
              "      <td>2021-06-18 05:30:00</td>\n",
              "      <td>-0.001304</td>\n",
              "      <td>-0.001303</td>\n",
              "      <td>-0.130282</td>\n",
              "      <td>-0.130367</td>\n",
              "    </tr>\n",
              "    <tr>\n",
              "      <th>3</th>\n",
              "      <td>1.84743</td>\n",
              "      <td>1.84755</td>\n",
              "      <td>1.84479</td>\n",
              "      <td>1.84511</td>\n",
              "      <td>2021-06-18</td>\n",
              "      <td>05:45:00</td>\n",
              "      <td>2021-06-18 05:45:00</td>\n",
              "      <td>-0.001251</td>\n",
              "      <td>-0.001250</td>\n",
              "      <td>-0.125039</td>\n",
              "      <td>-0.125117</td>\n",
              "    </tr>\n",
              "    <tr>\n",
              "      <th>4</th>\n",
              "      <td>1.84510</td>\n",
              "      <td>1.84559</td>\n",
              "      <td>1.84272</td>\n",
              "      <td>1.84363</td>\n",
              "      <td>2021-06-18</td>\n",
              "      <td>06:00:00</td>\n",
              "      <td>2021-06-18 06:00:00</td>\n",
              "      <td>-0.000802</td>\n",
              "      <td>-0.000802</td>\n",
              "      <td>-0.080212</td>\n",
              "      <td>-0.080244</td>\n",
              "    </tr>\n",
              "  </tbody>\n",
              "</table>\n",
              "</div>"
            ],
            "text/plain": [
              "      open     high      low    close   TradeDate      time  \\\n",
              "0  1.84503  1.84669  1.84443  1.84633  2021-06-18  05:00:00   \n",
              "1  1.84637  1.85002  1.84552  1.84983  2021-06-18  05:15:00   \n",
              "2  1.84986  1.85022  1.84725  1.84742  2021-06-18  05:30:00   \n",
              "3  1.84743  1.84755  1.84479  1.84511  2021-06-18  05:45:00   \n",
              "4  1.84510  1.84559  1.84272  1.84363  2021-06-18  06:00:00   \n",
              "\n",
              "                 date  LOGRET_1  PCTRET_1  close_return  close_log_return  \n",
              "0 2021-06-18 05:00:00       NaN       NaN           NaN               NaN  \n",
              "1 2021-06-18 05:15:00  0.001894  0.001896      0.189565          0.189386  \n",
              "2 2021-06-18 05:30:00 -0.001304 -0.001303     -0.130282         -0.130367  \n",
              "3 2021-06-18 05:45:00 -0.001251 -0.001250     -0.125039         -0.125117  \n",
              "4 2021-06-18 06:00:00 -0.000802 -0.000802     -0.080212         -0.080244  "
            ]
          },
          "metadata": {
            "tags": []
          },
          "execution_count": 47
        }
      ]
    },
    {
      "cell_type": "code",
      "metadata": {
        "id": "ldHF5gwxZ6zZ"
      },
      "source": [
        "data_intraday['intra_return'] = data_intraday.close.pct_change()*100"
      ],
      "execution_count": 48,
      "outputs": []
    },
    {
      "cell_type": "code",
      "metadata": {
        "colab": {
          "base_uri": "https://localhost:8080/",
          "height": 200
        },
        "id": "nvdsLmWKacX-",
        "outputId": "b4a2c9b9-6d4e-4ac4-8c0c-b0bb759aa409"
      },
      "source": [
        "data_intraday.head()"
      ],
      "execution_count": 49,
      "outputs": [
        {
          "output_type": "execute_result",
          "data": {
            "text/html": [
              "<div>\n",
              "<style scoped>\n",
              "    .dataframe tbody tr th:only-of-type {\n",
              "        vertical-align: middle;\n",
              "    }\n",
              "\n",
              "    .dataframe tbody tr th {\n",
              "        vertical-align: top;\n",
              "    }\n",
              "\n",
              "    .dataframe thead th {\n",
              "        text-align: right;\n",
              "    }\n",
              "</style>\n",
              "<table border=\"1\" class=\"dataframe\">\n",
              "  <thead>\n",
              "    <tr style=\"text-align: right;\">\n",
              "      <th></th>\n",
              "      <th>open</th>\n",
              "      <th>high</th>\n",
              "      <th>low</th>\n",
              "      <th>close</th>\n",
              "      <th>TradeDate</th>\n",
              "      <th>time</th>\n",
              "      <th>date</th>\n",
              "      <th>LOGRET_1</th>\n",
              "      <th>PCTRET_1</th>\n",
              "      <th>close_return</th>\n",
              "      <th>close_log_return</th>\n",
              "      <th>intra_return</th>\n",
              "    </tr>\n",
              "  </thead>\n",
              "  <tbody>\n",
              "    <tr>\n",
              "      <th>0</th>\n",
              "      <td>1.84503</td>\n",
              "      <td>1.84669</td>\n",
              "      <td>1.84443</td>\n",
              "      <td>1.84633</td>\n",
              "      <td>2021-06-18</td>\n",
              "      <td>05:00:00</td>\n",
              "      <td>2021-06-18 05:00:00</td>\n",
              "      <td>NaN</td>\n",
              "      <td>NaN</td>\n",
              "      <td>NaN</td>\n",
              "      <td>NaN</td>\n",
              "      <td>NaN</td>\n",
              "    </tr>\n",
              "    <tr>\n",
              "      <th>1</th>\n",
              "      <td>1.84637</td>\n",
              "      <td>1.85002</td>\n",
              "      <td>1.84552</td>\n",
              "      <td>1.84983</td>\n",
              "      <td>2021-06-18</td>\n",
              "      <td>05:15:00</td>\n",
              "      <td>2021-06-18 05:15:00</td>\n",
              "      <td>0.001894</td>\n",
              "      <td>0.001896</td>\n",
              "      <td>0.189565</td>\n",
              "      <td>0.189386</td>\n",
              "      <td>0.189565</td>\n",
              "    </tr>\n",
              "    <tr>\n",
              "      <th>2</th>\n",
              "      <td>1.84986</td>\n",
              "      <td>1.85022</td>\n",
              "      <td>1.84725</td>\n",
              "      <td>1.84742</td>\n",
              "      <td>2021-06-18</td>\n",
              "      <td>05:30:00</td>\n",
              "      <td>2021-06-18 05:30:00</td>\n",
              "      <td>-0.001304</td>\n",
              "      <td>-0.001303</td>\n",
              "      <td>-0.130282</td>\n",
              "      <td>-0.130367</td>\n",
              "      <td>-0.130282</td>\n",
              "    </tr>\n",
              "    <tr>\n",
              "      <th>3</th>\n",
              "      <td>1.84743</td>\n",
              "      <td>1.84755</td>\n",
              "      <td>1.84479</td>\n",
              "      <td>1.84511</td>\n",
              "      <td>2021-06-18</td>\n",
              "      <td>05:45:00</td>\n",
              "      <td>2021-06-18 05:45:00</td>\n",
              "      <td>-0.001251</td>\n",
              "      <td>-0.001250</td>\n",
              "      <td>-0.125039</td>\n",
              "      <td>-0.125117</td>\n",
              "      <td>-0.125039</td>\n",
              "    </tr>\n",
              "    <tr>\n",
              "      <th>4</th>\n",
              "      <td>1.84510</td>\n",
              "      <td>1.84559</td>\n",
              "      <td>1.84272</td>\n",
              "      <td>1.84363</td>\n",
              "      <td>2021-06-18</td>\n",
              "      <td>06:00:00</td>\n",
              "      <td>2021-06-18 06:00:00</td>\n",
              "      <td>-0.000802</td>\n",
              "      <td>-0.000802</td>\n",
              "      <td>-0.080212</td>\n",
              "      <td>-0.080244</td>\n",
              "      <td>-0.080212</td>\n",
              "    </tr>\n",
              "  </tbody>\n",
              "</table>\n",
              "</div>"
            ],
            "text/plain": [
              "      open     high      low    close   TradeDate      time  \\\n",
              "0  1.84503  1.84669  1.84443  1.84633  2021-06-18  05:00:00   \n",
              "1  1.84637  1.85002  1.84552  1.84983  2021-06-18  05:15:00   \n",
              "2  1.84986  1.85022  1.84725  1.84742  2021-06-18  05:30:00   \n",
              "3  1.84743  1.84755  1.84479  1.84511  2021-06-18  05:45:00   \n",
              "4  1.84510  1.84559  1.84272  1.84363  2021-06-18  06:00:00   \n",
              "\n",
              "                 date  LOGRET_1  PCTRET_1  close_return  close_log_return  \\\n",
              "0 2021-06-18 05:00:00       NaN       NaN           NaN               NaN   \n",
              "1 2021-06-18 05:15:00  0.001894  0.001896      0.189565          0.189386   \n",
              "2 2021-06-18 05:30:00 -0.001304 -0.001303     -0.130282         -0.130367   \n",
              "3 2021-06-18 05:45:00 -0.001251 -0.001250     -0.125039         -0.125117   \n",
              "4 2021-06-18 06:00:00 -0.000802 -0.000802     -0.080212         -0.080244   \n",
              "\n",
              "   intra_return  \n",
              "0           NaN  \n",
              "1      0.189565  \n",
              "2     -0.130282  \n",
              "3     -0.125039  \n",
              "4     -0.080212  "
            ]
          },
          "metadata": {
            "tags": []
          },
          "execution_count": 49
        }
      ]
    },
    {
      "cell_type": "code",
      "metadata": {
        "id": "u4eCg9npK25g"
      },
      "source": [
        ""
      ],
      "execution_count": 49,
      "outputs": []
    },
    {
      "cell_type": "code",
      "metadata": {
        "colab": {
          "base_uri": "https://localhost:8080/",
          "height": 542
        },
        "id": "5lswBny1hXtl",
        "outputId": "7dd22848-32d1-4d3f-a322-735175299e00"
      },
      "source": [
        "\n",
        "\n",
        "df_trunc = data_intraday.copy()\n",
        "\n",
        "fig = px.line(df_trunc, x='date', y='intra_return', range_x=['2021-06-22', '2021-07-01'], title='Retorno Porcentual precios:'+fromD + '-' + toD)\n",
        "\n",
        "fig.update_xaxes(\n",
        "    rangebreaks=[\n",
        "        dict(bounds=[\"sat\", \"mon\"]) #, #hide weekends\n",
        "    ]\n",
        ")\n",
        "fig.show()\n",
        "\n",
        "\n"
      ],
      "execution_count": 50,
      "outputs": [
        {
          "output_type": "display_data",
          "data": {
            "text/html": [
              "<html>\n",
              "<head><meta charset=\"utf-8\" /></head>\n",
              "<body>\n",
              "    <div>            <script src=\"https://cdnjs.cloudflare.com/ajax/libs/mathjax/2.7.5/MathJax.js?config=TeX-AMS-MML_SVG\"></script><script type=\"text/javascript\">if (window.MathJax) {MathJax.Hub.Config({SVG: {font: \"STIX-Web\"}});}</script>                <script type=\"text/javascript\">window.PlotlyConfig = {MathJaxConfig: 'local'};</script>\n",
              "        <script src=\"https://cdn.plot.ly/plotly-2.1.0.min.js\"></script>                <div id=\"e0a342bc-e29f-4ddb-bfbc-36763329fc89\" class=\"plotly-graph-div\" style=\"height:525px; width:100%;\"></div>            <script type=\"text/javascript\">                                    window.PLOTLYENV=window.PLOTLYENV || {};                                    if (document.getElementById(\"e0a342bc-e29f-4ddb-bfbc-36763329fc89\")) {                    Plotly.newPlot(                        \"e0a342bc-e29f-4ddb-bfbc-36763329fc89\",                        [{\"hovertemplate\":\"date=%{x}<br>intra_return=%{y}<extra></extra>\",\"legendgroup\":\"\",\"line\":{\"color\":\"#636efa\",\"dash\":\"solid\"},\"mode\":\"lines\",\"name\":\"\",\"orientation\":\"v\",\"showlegend\":false,\"type\":\"scatter\",\"x\":[\"2021-06-18T05:00:00\",\"2021-06-18T05:15:00\",\"2021-06-18T05:30:00\",\"2021-06-18T05:45:00\",\"2021-06-18T06:00:00\",\"2021-06-18T06:15:00\",\"2021-06-18T06:30:00\",\"2021-06-18T06:45:00\",\"2021-06-18T07:00:00\",\"2021-06-18T07:15:00\",\"2021-06-18T07:30:00\",\"2021-06-18T07:45:00\",\"2021-06-18T08:00:00\",\"2021-06-18T08:15:00\",\"2021-06-18T08:30:00\",\"2021-06-18T08:45:00\",\"2021-06-18T09:00:00\",\"2021-06-18T09:15:00\",\"2021-06-18T09:30:00\",\"2021-06-18T09:45:00\",\"2021-06-18T10:00:00\",\"2021-06-18T10:15:00\",\"2021-06-18T10:30:00\",\"2021-06-18T10:45:00\",\"2021-06-18T11:00:00\",\"2021-06-18T11:15:00\",\"2021-06-18T11:30:00\",\"2021-06-18T11:45:00\",\"2021-06-18T12:00:00\",\"2021-06-18T12:15:00\",\"2021-06-18T12:30:00\",\"2021-06-18T12:45:00\",\"2021-06-18T13:00:00\",\"2021-06-18T13:15:00\",\"2021-06-18T13:30:00\",\"2021-06-18T13:45:00\",\"2021-06-18T14:00:00\",\"2021-06-18T14:15:00\",\"2021-06-18T14:30:00\",\"2021-06-18T14:45:00\",\"2021-06-18T15:00:00\",\"2021-06-18T15:15:00\",\"2021-06-18T15:30:00\",\"2021-06-18T15:45:00\",\"2021-06-18T16:00:00\",\"2021-06-18T16:15:00\",\"2021-06-18T16:30:00\",\"2021-06-18T16:45:00\",\"2021-06-18T17:00:00\",\"2021-06-18T17:15:00\",\"2021-06-18T17:30:00\",\"2021-06-18T17:45:00\",\"2021-06-18T18:00:00\",\"2021-06-18T18:15:00\",\"2021-06-18T18:30:00\",\"2021-06-18T18:45:00\",\"2021-06-18T19:00:00\",\"2021-06-18T19:15:00\",\"2021-06-18T19:30:00\",\"2021-06-18T19:45:00\",\"2021-06-18T20:00:00\",\"2021-06-18T20:15:00\",\"2021-06-18T20:30:00\",\"2021-06-18T20:45:00\",\"2021-06-18T21:00:00\",\"2021-06-18T21:15:00\",\"2021-06-18T21:30:00\",\"2021-06-18T21:45:00\",\"2021-06-21T00:00:00\",\"2021-06-21T00:15:00\",\"2021-06-21T00:30:00\",\"2021-06-21T00:45:00\",\"2021-06-21T01:00:00\",\"2021-06-21T01:15:00\",\"2021-06-21T01:30:00\",\"2021-06-21T01:45:00\",\"2021-06-21T02:00:00\",\"2021-06-21T02:15:00\",\"2021-06-21T02:30:00\",\"2021-06-21T02:45:00\",\"2021-06-21T03:00:00\",\"2021-06-21T03:15:00\",\"2021-06-21T03:30:00\",\"2021-06-21T03:45:00\",\"2021-06-21T04:00:00\",\"2021-06-21T04:15:00\",\"2021-06-21T04:30:00\",\"2021-06-21T04:45:00\",\"2021-06-21T05:00:00\",\"2021-06-21T05:15:00\",\"2021-06-21T05:30:00\",\"2021-06-21T05:45:00\",\"2021-06-21T06:00:00\",\"2021-06-21T06:15:00\",\"2021-06-21T06:30:00\",\"2021-06-21T06:45:00\",\"2021-06-21T07:00:00\",\"2021-06-21T07:15:00\",\"2021-06-21T07:30:00\",\"2021-06-21T07:45:00\",\"2021-06-21T08:00:00\",\"2021-06-21T08:15:00\",\"2021-06-21T08:30:00\",\"2021-06-21T08:45:00\",\"2021-06-21T09:00:00\",\"2021-06-21T09:15:00\",\"2021-06-21T09:30:00\",\"2021-06-21T09:45:00\",\"2021-06-21T10:00:00\",\"2021-06-21T10:15:00\",\"2021-06-21T10:30:00\",\"2021-06-21T10:45:00\",\"2021-06-21T11:00:00\",\"2021-06-21T11:15:00\",\"2021-06-21T11:30:00\",\"2021-06-21T11:45:00\",\"2021-06-21T12:00:00\",\"2021-06-21T12:15:00\",\"2021-06-21T12:30:00\",\"2021-06-21T12:45:00\",\"2021-06-21T13:00:00\",\"2021-06-21T13:15:00\",\"2021-06-21T13:30:00\",\"2021-06-21T13:45:00\",\"2021-06-21T14:00:00\",\"2021-06-21T14:15:00\",\"2021-06-21T14:30:00\",\"2021-06-21T14:45:00\",\"2021-06-21T15:00:00\",\"2021-06-21T15:15:00\",\"2021-06-21T15:30:00\",\"2021-06-21T15:45:00\",\"2021-06-21T16:00:00\",\"2021-06-21T16:15:00\",\"2021-06-21T16:30:00\",\"2021-06-21T16:45:00\",\"2021-06-21T17:00:00\",\"2021-06-21T17:15:00\",\"2021-06-21T17:30:00\",\"2021-06-21T17:45:00\",\"2021-06-21T18:00:00\",\"2021-06-21T18:15:00\",\"2021-06-21T18:30:00\",\"2021-06-21T18:45:00\",\"2021-06-21T19:00:00\",\"2021-06-21T19:15:00\",\"2021-06-21T19:30:00\",\"2021-06-21T19:45:00\",\"2021-06-21T20:00:00\",\"2021-06-21T20:15:00\",\"2021-06-21T20:30:00\",\"2021-06-21T20:45:00\",\"2021-06-21T21:00:00\",\"2021-06-21T21:15:00\",\"2021-06-21T21:30:00\",\"2021-06-21T21:45:00\",\"2021-06-21T22:00:00\",\"2021-06-21T22:15:00\",\"2021-06-21T22:30:00\",\"2021-06-21T22:45:00\",\"2021-06-21T23:00:00\",\"2021-06-21T23:15:00\",\"2021-06-21T23:30:00\",\"2021-06-21T23:45:00\",\"2021-06-22T00:00:00\",\"2021-06-22T00:15:00\",\"2021-06-22T00:30:00\",\"2021-06-22T00:45:00\",\"2021-06-22T01:00:00\",\"2021-06-22T01:15:00\",\"2021-06-22T01:30:00\",\"2021-06-22T01:45:00\",\"2021-06-22T02:00:00\",\"2021-06-22T02:15:00\",\"2021-06-22T02:30:00\",\"2021-06-22T02:45:00\",\"2021-06-22T03:00:00\",\"2021-06-22T03:15:00\",\"2021-06-22T03:30:00\",\"2021-06-22T03:45:00\",\"2021-06-22T04:00:00\",\"2021-06-22T04:15:00\",\"2021-06-22T04:30:00\",\"2021-06-22T04:45:00\",\"2021-06-22T05:00:00\",\"2021-06-22T05:15:00\",\"2021-06-22T05:30:00\",\"2021-06-22T05:45:00\",\"2021-06-22T06:00:00\",\"2021-06-22T06:15:00\",\"2021-06-22T06:30:00\",\"2021-06-22T06:45:00\",\"2021-06-22T07:00:00\",\"2021-06-22T07:15:00\",\"2021-06-22T07:30:00\",\"2021-06-22T07:45:00\",\"2021-06-22T08:00:00\",\"2021-06-22T08:15:00\",\"2021-06-22T08:30:00\",\"2021-06-22T08:45:00\",\"2021-06-22T09:00:00\",\"2021-06-22T09:15:00\",\"2021-06-22T09:30:00\",\"2021-06-22T09:45:00\",\"2021-06-22T10:00:00\",\"2021-06-22T10:15:00\",\"2021-06-22T10:30:00\",\"2021-06-22T10:45:00\",\"2021-06-22T11:00:00\",\"2021-06-22T11:15:00\",\"2021-06-22T11:30:00\",\"2021-06-22T11:45:00\",\"2021-06-22T12:00:00\",\"2021-06-22T12:15:00\",\"2021-06-22T12:30:00\",\"2021-06-22T12:45:00\",\"2021-06-22T13:00:00\",\"2021-06-22T13:15:00\",\"2021-06-22T13:30:00\",\"2021-06-22T13:45:00\",\"2021-06-22T14:00:00\",\"2021-06-22T14:15:00\",\"2021-06-22T14:30:00\",\"2021-06-22T14:45:00\",\"2021-06-22T15:00:00\",\"2021-06-22T15:15:00\",\"2021-06-22T15:30:00\",\"2021-06-22T15:45:00\",\"2021-06-22T16:00:00\",\"2021-06-22T16:15:00\",\"2021-06-22T16:30:00\",\"2021-06-22T16:45:00\",\"2021-06-22T17:00:00\",\"2021-06-22T17:15:00\",\"2021-06-22T17:30:00\",\"2021-06-22T17:45:00\",\"2021-06-22T18:00:00\",\"2021-06-22T18:15:00\",\"2021-06-22T18:30:00\",\"2021-06-22T18:45:00\",\"2021-06-22T19:00:00\",\"2021-06-22T19:15:00\",\"2021-06-22T19:30:00\",\"2021-06-22T19:45:00\",\"2021-06-22T20:00:00\",\"2021-06-22T20:15:00\",\"2021-06-22T20:30:00\",\"2021-06-22T20:45:00\",\"2021-06-22T21:00:00\",\"2021-06-22T21:15:00\",\"2021-06-22T21:30:00\",\"2021-06-22T21:45:00\",\"2021-06-22T22:00:00\",\"2021-06-22T22:15:00\",\"2021-06-22T22:30:00\",\"2021-06-22T22:45:00\",\"2021-06-22T23:00:00\",\"2021-06-22T23:15:00\",\"2021-06-22T23:30:00\",\"2021-06-22T23:45:00\",\"2021-06-23T00:00:00\",\"2021-06-23T00:15:00\",\"2021-06-23T00:30:00\",\"2021-06-23T00:45:00\",\"2021-06-23T01:00:00\",\"2021-06-23T01:15:00\",\"2021-06-23T01:30:00\",\"2021-06-23T01:45:00\",\"2021-06-23T02:00:00\",\"2021-06-23T02:15:00\",\"2021-06-23T02:30:00\",\"2021-06-23T02:45:00\",\"2021-06-23T03:00:00\",\"2021-06-23T03:15:00\",\"2021-06-23T03:30:00\",\"2021-06-23T03:45:00\",\"2021-06-23T04:00:00\",\"2021-06-23T04:15:00\",\"2021-06-23T04:30:00\",\"2021-06-23T04:45:00\",\"2021-06-23T05:00:00\",\"2021-06-23T05:15:00\",\"2021-06-23T05:30:00\",\"2021-06-23T05:45:00\",\"2021-06-23T06:00:00\",\"2021-06-23T06:15:00\",\"2021-06-23T06:30:00\",\"2021-06-23T06:45:00\",\"2021-06-23T07:00:00\",\"2021-06-23T07:15:00\",\"2021-06-23T07:30:00\",\"2021-06-23T07:45:00\",\"2021-06-23T08:00:00\",\"2021-06-23T08:15:00\",\"2021-06-23T08:30:00\",\"2021-06-23T08:45:00\",\"2021-06-23T09:00:00\",\"2021-06-23T09:15:00\",\"2021-06-23T09:30:00\",\"2021-06-23T09:45:00\",\"2021-06-23T10:00:00\",\"2021-06-23T10:15:00\",\"2021-06-23T10:30:00\",\"2021-06-23T10:45:00\",\"2021-06-23T11:00:00\",\"2021-06-23T11:15:00\",\"2021-06-23T11:30:00\",\"2021-06-23T11:45:00\",\"2021-06-23T12:00:00\",\"2021-06-23T12:15:00\",\"2021-06-23T12:30:00\",\"2021-06-23T12:45:00\",\"2021-06-23T13:00:00\",\"2021-06-23T13:15:00\",\"2021-06-23T13:30:00\",\"2021-06-23T13:45:00\",\"2021-06-23T14:00:00\",\"2021-06-23T14:15:00\",\"2021-06-23T14:30:00\",\"2021-06-23T14:45:00\",\"2021-06-23T15:00:00\",\"2021-06-23T15:15:00\",\"2021-06-23T15:30:00\",\"2021-06-23T15:45:00\",\"2021-06-23T16:00:00\",\"2021-06-23T16:15:00\",\"2021-06-23T16:30:00\",\"2021-06-23T16:45:00\",\"2021-06-23T17:00:00\",\"2021-06-23T17:15:00\",\"2021-06-23T17:30:00\",\"2021-06-23T17:45:00\",\"2021-06-23T18:00:00\",\"2021-06-23T18:15:00\",\"2021-06-23T18:30:00\",\"2021-06-23T18:45:00\",\"2021-06-23T19:00:00\",\"2021-06-23T19:15:00\",\"2021-06-23T19:30:00\",\"2021-06-23T19:45:00\",\"2021-06-23T20:00:00\",\"2021-06-23T20:15:00\",\"2021-06-23T20:30:00\",\"2021-06-23T20:45:00\",\"2021-06-23T21:00:00\",\"2021-06-23T21:15:00\",\"2021-06-23T21:30:00\",\"2021-06-23T21:45:00\",\"2021-06-23T22:00:00\",\"2021-06-23T22:15:00\",\"2021-06-23T22:30:00\",\"2021-06-23T22:45:00\",\"2021-06-23T23:00:00\",\"2021-06-23T23:15:00\",\"2021-06-23T23:30:00\",\"2021-06-23T23:45:00\",\"2021-06-24T00:00:00\",\"2021-06-24T00:15:00\",\"2021-06-24T00:30:00\",\"2021-06-24T00:45:00\",\"2021-06-24T01:00:00\",\"2021-06-24T01:15:00\",\"2021-06-24T01:30:00\",\"2021-06-24T01:45:00\",\"2021-06-24T02:00:00\",\"2021-06-24T02:15:00\",\"2021-06-24T02:30:00\",\"2021-06-24T02:45:00\",\"2021-06-24T03:00:00\",\"2021-06-24T03:15:00\",\"2021-06-24T03:30:00\",\"2021-06-24T03:45:00\",\"2021-06-24T04:00:00\",\"2021-06-24T04:15:00\",\"2021-06-24T04:30:00\",\"2021-06-24T04:45:00\",\"2021-06-24T05:00:00\",\"2021-06-24T05:15:00\",\"2021-06-24T05:30:00\",\"2021-06-24T05:45:00\",\"2021-06-24T06:00:00\",\"2021-06-24T06:15:00\",\"2021-06-24T06:30:00\",\"2021-06-24T06:45:00\",\"2021-06-24T07:00:00\",\"2021-06-24T07:15:00\",\"2021-06-24T07:30:00\",\"2021-06-24T07:45:00\",\"2021-06-24T08:00:00\",\"2021-06-24T08:15:00\",\"2021-06-24T08:30:00\",\"2021-06-24T08:45:00\",\"2021-06-24T09:00:00\",\"2021-06-24T09:15:00\",\"2021-06-24T09:30:00\",\"2021-06-24T09:45:00\",\"2021-06-24T10:00:00\",\"2021-06-24T10:15:00\",\"2021-06-24T10:30:00\",\"2021-06-24T10:45:00\",\"2021-06-24T11:00:00\",\"2021-06-24T11:15:00\",\"2021-06-24T11:30:00\",\"2021-06-24T11:45:00\",\"2021-06-24T12:00:00\",\"2021-06-24T12:15:00\",\"2021-06-24T12:30:00\",\"2021-06-24T12:45:00\",\"2021-06-24T13:00:00\",\"2021-06-24T13:15:00\",\"2021-06-24T13:30:00\",\"2021-06-24T13:45:00\",\"2021-06-24T14:00:00\",\"2021-06-24T14:15:00\",\"2021-06-24T14:30:00\",\"2021-06-24T14:45:00\",\"2021-06-24T15:00:00\",\"2021-06-24T15:15:00\",\"2021-06-24T15:30:00\",\"2021-06-24T15:45:00\",\"2021-06-24T16:00:00\",\"2021-06-24T16:15:00\",\"2021-06-24T16:30:00\",\"2021-06-24T16:45:00\",\"2021-06-24T17:00:00\",\"2021-06-24T17:15:00\",\"2021-06-24T17:30:00\",\"2021-06-24T17:45:00\",\"2021-06-24T18:00:00\",\"2021-06-24T18:15:00\",\"2021-06-24T18:30:00\",\"2021-06-24T18:45:00\",\"2021-06-24T19:00:00\",\"2021-06-24T19:15:00\",\"2021-06-24T19:30:00\",\"2021-06-24T19:45:00\",\"2021-06-24T20:00:00\",\"2021-06-24T20:15:00\",\"2021-06-24T20:30:00\",\"2021-06-24T20:45:00\",\"2021-06-24T21:00:00\",\"2021-06-24T21:15:00\",\"2021-06-24T21:30:00\",\"2021-06-24T21:45:00\",\"2021-06-24T22:00:00\",\"2021-06-24T22:15:00\",\"2021-06-24T22:30:00\",\"2021-06-24T22:45:00\",\"2021-06-24T23:00:00\",\"2021-06-24T23:15:00\",\"2021-06-24T23:30:00\",\"2021-06-24T23:45:00\",\"2021-06-25T00:00:00\",\"2021-06-25T00:15:00\",\"2021-06-25T00:30:00\",\"2021-06-25T00:45:00\",\"2021-06-25T01:00:00\",\"2021-06-25T01:15:00\",\"2021-06-25T01:30:00\",\"2021-06-25T01:45:00\",\"2021-06-25T02:00:00\",\"2021-06-25T02:15:00\",\"2021-06-25T02:30:00\",\"2021-06-25T02:45:00\",\"2021-06-25T03:00:00\",\"2021-06-25T03:15:00\",\"2021-06-25T03:30:00\",\"2021-06-25T03:45:00\",\"2021-06-25T04:00:00\",\"2021-06-25T04:15:00\",\"2021-06-25T04:30:00\",\"2021-06-25T04:45:00\",\"2021-06-25T05:00:00\",\"2021-06-25T05:15:00\",\"2021-06-25T05:30:00\",\"2021-06-25T05:45:00\",\"2021-06-25T06:00:00\",\"2021-06-25T06:15:00\",\"2021-06-25T06:30:00\",\"2021-06-25T06:45:00\",\"2021-06-25T07:00:00\",\"2021-06-25T07:15:00\",\"2021-06-25T07:30:00\",\"2021-06-25T07:45:00\",\"2021-06-25T08:00:00\",\"2021-06-25T08:15:00\",\"2021-06-25T08:30:00\",\"2021-06-25T08:45:00\",\"2021-06-25T09:00:00\",\"2021-06-25T09:15:00\",\"2021-06-25T09:30:00\",\"2021-06-25T09:45:00\",\"2021-06-25T10:00:00\",\"2021-06-25T10:15:00\",\"2021-06-25T10:30:00\",\"2021-06-25T10:45:00\",\"2021-06-25T11:00:00\",\"2021-06-25T11:15:00\",\"2021-06-25T11:30:00\",\"2021-06-25T11:45:00\",\"2021-06-25T12:00:00\",\"2021-06-25T12:15:00\",\"2021-06-25T12:30:00\",\"2021-06-25T12:45:00\",\"2021-06-25T13:00:00\",\"2021-06-25T13:15:00\",\"2021-06-25T13:30:00\",\"2021-06-25T13:45:00\",\"2021-06-25T14:00:00\",\"2021-06-25T14:15:00\",\"2021-06-25T14:30:00\",\"2021-06-25T14:45:00\",\"2021-06-25T15:00:00\",\"2021-06-25T15:15:00\",\"2021-06-25T15:30:00\",\"2021-06-25T15:45:00\",\"2021-06-25T16:00:00\",\"2021-06-25T16:15:00\",\"2021-06-25T16:30:00\",\"2021-06-25T16:45:00\",\"2021-06-25T17:00:00\",\"2021-06-25T17:15:00\",\"2021-06-25T17:30:00\",\"2021-06-25T17:45:00\",\"2021-06-25T18:00:00\",\"2021-06-25T18:15:00\",\"2021-06-25T18:30:00\",\"2021-06-25T18:45:00\",\"2021-06-25T19:00:00\",\"2021-06-25T19:15:00\",\"2021-06-25T19:30:00\",\"2021-06-25T19:45:00\",\"2021-06-25T20:00:00\",\"2021-06-25T20:15:00\",\"2021-06-25T20:30:00\",\"2021-06-25T20:45:00\",\"2021-06-25T21:00:00\",\"2021-06-25T21:15:00\",\"2021-06-25T21:30:00\",\"2021-06-25T21:45:00\",\"2021-06-28T00:00:00\",\"2021-06-28T00:15:00\",\"2021-06-28T00:30:00\",\"2021-06-28T00:45:00\",\"2021-06-28T01:00:00\",\"2021-06-28T01:15:00\",\"2021-06-28T01:30:00\",\"2021-06-28T01:45:00\",\"2021-06-28T02:00:00\",\"2021-06-28T02:15:00\",\"2021-06-28T02:30:00\",\"2021-06-28T02:45:00\",\"2021-06-28T03:00:00\",\"2021-06-28T03:15:00\",\"2021-06-28T03:30:00\",\"2021-06-28T03:45:00\",\"2021-06-28T04:00:00\",\"2021-06-28T04:15:00\",\"2021-06-28T04:30:00\",\"2021-06-28T04:45:00\",\"2021-06-28T05:00:00\",\"2021-06-28T05:15:00\",\"2021-06-28T05:30:00\",\"2021-06-28T05:45:00\",\"2021-06-28T06:00:00\",\"2021-06-28T06:15:00\",\"2021-06-28T06:30:00\",\"2021-06-28T06:45:00\",\"2021-06-28T07:00:00\",\"2021-06-28T07:15:00\",\"2021-06-28T07:30:00\",\"2021-06-28T07:45:00\",\"2021-06-28T08:00:00\",\"2021-06-28T08:15:00\",\"2021-06-28T08:30:00\",\"2021-06-28T08:45:00\",\"2021-06-28T09:00:00\",\"2021-06-28T09:15:00\",\"2021-06-28T09:30:00\",\"2021-06-28T09:45:00\",\"2021-06-28T10:00:00\",\"2021-06-28T10:15:00\",\"2021-06-28T10:30:00\",\"2021-06-28T10:45:00\",\"2021-06-28T11:00:00\",\"2021-06-28T11:15:00\",\"2021-06-28T11:30:00\",\"2021-06-28T11:45:00\",\"2021-06-28T12:00:00\",\"2021-06-28T12:15:00\",\"2021-06-28T12:30:00\",\"2021-06-28T12:45:00\",\"2021-06-28T13:00:00\",\"2021-06-28T13:15:00\",\"2021-06-28T13:30:00\",\"2021-06-28T13:45:00\",\"2021-06-28T14:00:00\",\"2021-06-28T14:15:00\",\"2021-06-28T14:30:00\",\"2021-06-28T14:45:00\",\"2021-06-28T15:00:00\",\"2021-06-28T15:15:00\",\"2021-06-28T15:30:00\",\"2021-06-28T15:45:00\",\"2021-06-28T16:00:00\",\"2021-06-28T16:15:00\",\"2021-06-28T16:30:00\",\"2021-06-28T16:45:00\",\"2021-06-28T17:00:00\",\"2021-06-28T17:15:00\",\"2021-06-28T17:30:00\",\"2021-06-28T17:45:00\",\"2021-06-28T18:00:00\",\"2021-06-28T18:15:00\",\"2021-06-28T18:30:00\",\"2021-06-28T18:45:00\",\"2021-06-28T19:00:00\",\"2021-06-28T19:15:00\",\"2021-06-28T19:30:00\",\"2021-06-28T19:45:00\",\"2021-06-28T20:00:00\",\"2021-06-28T20:15:00\",\"2021-06-28T20:30:00\",\"2021-06-28T20:45:00\",\"2021-06-28T21:00:00\",\"2021-06-28T21:15:00\",\"2021-06-28T21:30:00\",\"2021-06-28T21:45:00\",\"2021-06-28T22:00:00\",\"2021-06-28T22:15:00\",\"2021-06-28T22:30:00\",\"2021-06-28T22:45:00\",\"2021-06-28T23:00:00\",\"2021-06-28T23:15:00\",\"2021-06-28T23:30:00\",\"2021-06-28T23:45:00\",\"2021-06-29T00:00:00\",\"2021-06-29T00:15:00\",\"2021-06-29T00:30:00\",\"2021-06-29T00:45:00\",\"2021-06-29T01:00:00\",\"2021-06-29T01:15:00\",\"2021-06-29T01:30:00\",\"2021-06-29T01:45:00\",\"2021-06-29T02:00:00\",\"2021-06-29T02:15:00\",\"2021-06-29T02:30:00\",\"2021-06-29T02:45:00\",\"2021-06-29T03:00:00\",\"2021-06-29T03:15:00\",\"2021-06-29T03:30:00\",\"2021-06-29T03:45:00\",\"2021-06-29T04:00:00\",\"2021-06-29T04:15:00\",\"2021-06-29T04:30:00\",\"2021-06-29T04:45:00\",\"2021-06-29T05:00:00\",\"2021-06-29T05:15:00\",\"2021-06-29T05:30:00\",\"2021-06-29T05:45:00\",\"2021-06-29T06:00:00\",\"2021-06-29T06:15:00\",\"2021-06-29T06:30:00\",\"2021-06-29T06:45:00\",\"2021-06-29T07:00:00\",\"2021-06-29T07:15:00\",\"2021-06-29T07:30:00\",\"2021-06-29T07:45:00\",\"2021-06-29T08:00:00\",\"2021-06-29T08:15:00\",\"2021-06-29T08:30:00\",\"2021-06-29T08:45:00\",\"2021-06-29T09:00:00\",\"2021-06-29T09:15:00\",\"2021-06-29T09:30:00\",\"2021-06-29T09:45:00\",\"2021-06-29T10:00:00\",\"2021-06-29T10:15:00\",\"2021-06-29T10:30:00\",\"2021-06-29T10:45:00\",\"2021-06-29T11:00:00\",\"2021-06-29T11:15:00\",\"2021-06-29T11:30:00\",\"2021-06-29T11:45:00\",\"2021-06-29T12:00:00\",\"2021-06-29T12:15:00\",\"2021-06-29T12:30:00\",\"2021-06-29T12:45:00\",\"2021-06-29T13:00:00\",\"2021-06-29T13:15:00\",\"2021-06-29T13:30:00\",\"2021-06-29T13:45:00\",\"2021-06-29T14:00:00\",\"2021-06-29T14:15:00\",\"2021-06-29T14:30:00\",\"2021-06-29T14:45:00\",\"2021-06-29T15:00:00\",\"2021-06-29T15:15:00\",\"2021-06-29T15:30:00\",\"2021-06-29T15:45:00\",\"2021-06-29T16:00:00\",\"2021-06-29T16:15:00\",\"2021-06-29T16:30:00\",\"2021-06-29T16:45:00\",\"2021-06-29T17:00:00\",\"2021-06-29T17:15:00\",\"2021-06-29T17:30:00\",\"2021-06-29T17:45:00\",\"2021-06-29T18:00:00\",\"2021-06-29T18:15:00\",\"2021-06-29T18:30:00\",\"2021-06-29T18:45:00\",\"2021-06-29T19:00:00\",\"2021-06-29T19:15:00\",\"2021-06-29T19:30:00\",\"2021-06-29T19:45:00\",\"2021-06-29T20:00:00\",\"2021-06-29T20:15:00\",\"2021-06-29T20:30:00\",\"2021-06-29T20:45:00\",\"2021-06-29T21:00:00\",\"2021-06-29T21:15:00\",\"2021-06-29T21:30:00\",\"2021-06-29T21:45:00\",\"2021-06-29T22:00:00\",\"2021-06-29T22:15:00\",\"2021-06-29T22:30:00\",\"2021-06-29T22:45:00\",\"2021-06-29T23:00:00\",\"2021-06-29T23:15:00\",\"2021-06-29T23:30:00\",\"2021-06-29T23:45:00\",\"2021-06-30T00:00:00\",\"2021-06-30T00:15:00\",\"2021-06-30T00:30:00\",\"2021-06-30T00:45:00\",\"2021-06-30T01:00:00\",\"2021-06-30T01:15:00\",\"2021-06-30T01:30:00\",\"2021-06-30T01:45:00\",\"2021-06-30T02:00:00\",\"2021-06-30T02:15:00\",\"2021-06-30T02:30:00\",\"2021-06-30T02:45:00\",\"2021-06-30T03:00:00\",\"2021-06-30T03:15:00\",\"2021-06-30T03:30:00\",\"2021-06-30T03:45:00\",\"2021-06-30T04:00:00\",\"2021-06-30T04:15:00\",\"2021-06-30T04:30:00\",\"2021-06-30T04:45:00\",\"2021-06-30T05:00:00\",\"2021-06-30T05:15:00\",\"2021-06-30T05:30:00\",\"2021-06-30T05:45:00\",\"2021-06-30T06:00:00\",\"2021-06-30T06:15:00\",\"2021-06-30T06:30:00\",\"2021-06-30T06:45:00\",\"2021-06-30T07:00:00\",\"2021-06-30T07:15:00\",\"2021-06-30T07:30:00\",\"2021-06-30T07:45:00\",\"2021-06-30T08:00:00\",\"2021-06-30T08:15:00\",\"2021-06-30T08:30:00\",\"2021-06-30T08:45:00\",\"2021-06-30T09:00:00\",\"2021-06-30T09:15:00\",\"2021-06-30T09:30:00\",\"2021-06-30T09:45:00\",\"2021-06-30T10:00:00\",\"2021-06-30T10:15:00\",\"2021-06-30T10:30:00\",\"2021-06-30T10:45:00\",\"2021-06-30T11:00:00\",\"2021-06-30T11:15:00\",\"2021-06-30T11:30:00\",\"2021-06-30T11:45:00\",\"2021-06-30T12:00:00\",\"2021-06-30T12:15:00\",\"2021-06-30T12:30:00\",\"2021-06-30T12:45:00\",\"2021-06-30T13:00:00\",\"2021-06-30T13:15:00\",\"2021-06-30T13:30:00\",\"2021-06-30T13:45:00\",\"2021-06-30T14:00:00\",\"2021-06-30T14:15:00\",\"2021-06-30T14:30:00\",\"2021-06-30T14:45:00\",\"2021-06-30T15:00:00\",\"2021-06-30T15:15:00\",\"2021-06-30T15:30:00\",\"2021-06-30T15:45:00\",\"2021-06-30T16:00:00\",\"2021-06-30T16:15:00\",\"2021-06-30T16:30:00\",\"2021-06-30T16:45:00\",\"2021-06-30T17:00:00\",\"2021-06-30T17:15:00\",\"2021-06-30T17:30:00\",\"2021-06-30T17:45:00\",\"2021-06-30T18:00:00\",\"2021-06-30T18:15:00\",\"2021-06-30T18:30:00\",\"2021-06-30T18:45:00\",\"2021-06-30T19:00:00\",\"2021-06-30T19:15:00\",\"2021-06-30T19:30:00\",\"2021-06-30T19:45:00\",\"2021-06-30T20:00:00\",\"2021-06-30T20:15:00\",\"2021-06-30T20:30:00\",\"2021-06-30T20:45:00\",\"2021-06-30T21:00:00\",\"2021-06-30T21:15:00\",\"2021-06-30T21:30:00\",\"2021-06-30T21:45:00\",\"2021-06-30T22:00:00\",\"2021-06-30T22:15:00\",\"2021-06-30T22:30:00\",\"2021-06-30T22:45:00\",\"2021-06-30T23:00:00\",\"2021-06-30T23:15:00\",\"2021-06-30T23:30:00\",\"2021-06-30T23:45:00\",\"2021-07-01T00:00:00\",\"2021-07-01T00:15:00\",\"2021-07-01T00:30:00\",\"2021-07-01T00:45:00\",\"2021-07-01T01:00:00\",\"2021-07-01T01:15:00\",\"2021-07-01T01:30:00\",\"2021-07-01T01:45:00\",\"2021-07-01T02:00:00\",\"2021-07-01T02:15:00\",\"2021-07-01T02:30:00\",\"2021-07-01T02:45:00\",\"2021-07-01T03:00:00\",\"2021-07-01T03:15:00\",\"2021-07-01T03:30:00\",\"2021-07-01T03:45:00\",\"2021-07-01T04:00:00\",\"2021-07-01T04:15:00\",\"2021-07-01T04:30:00\",\"2021-07-01T04:45:00\",\"2021-07-01T05:00:00\",\"2021-07-01T05:15:00\",\"2021-07-01T05:30:00\",\"2021-07-01T05:45:00\",\"2021-07-01T06:00:00\",\"2021-07-01T06:15:00\",\"2021-07-01T06:30:00\",\"2021-07-01T06:45:00\",\"2021-07-01T07:00:00\",\"2021-07-01T07:15:00\",\"2021-07-01T07:30:00\",\"2021-07-01T07:45:00\",\"2021-07-01T08:00:00\",\"2021-07-01T08:15:00\",\"2021-07-01T08:30:00\",\"2021-07-01T08:45:00\",\"2021-07-01T09:00:00\",\"2021-07-01T09:15:00\",\"2021-07-01T09:30:00\",\"2021-07-01T09:45:00\",\"2021-07-01T10:00:00\",\"2021-07-01T10:15:00\",\"2021-07-01T10:30:00\",\"2021-07-01T10:45:00\",\"2021-07-01T11:00:00\",\"2021-07-01T11:15:00\",\"2021-07-01T11:30:00\",\"2021-07-01T11:45:00\",\"2021-07-01T12:00:00\",\"2021-07-01T12:15:00\",\"2021-07-01T12:30:00\",\"2021-07-01T12:45:00\",\"2021-07-01T13:00:00\",\"2021-07-01T13:15:00\",\"2021-07-01T13:30:00\",\"2021-07-01T13:45:00\",\"2021-07-01T14:00:00\",\"2021-07-01T14:15:00\",\"2021-07-01T14:30:00\",\"2021-07-01T14:45:00\",\"2021-07-01T15:00:00\",\"2021-07-01T15:15:00\",\"2021-07-01T15:30:00\",\"2021-07-01T15:45:00\",\"2021-07-01T16:00:00\",\"2021-07-01T16:15:00\",\"2021-07-01T16:30:00\",\"2021-07-01T16:45:00\",\"2021-07-01T17:00:00\",\"2021-07-01T17:15:00\",\"2021-07-01T17:30:00\",\"2021-07-01T17:45:00\",\"2021-07-01T18:00:00\",\"2021-07-01T18:15:00\",\"2021-07-01T18:30:00\",\"2021-07-01T18:45:00\",\"2021-07-01T19:00:00\",\"2021-07-01T19:15:00\",\"2021-07-01T19:30:00\",\"2021-07-01T19:45:00\",\"2021-07-01T20:00:00\",\"2021-07-01T20:15:00\",\"2021-07-01T20:30:00\",\"2021-07-01T20:45:00\",\"2021-07-01T21:00:00\",\"2021-07-01T21:15:00\",\"2021-07-01T21:30:00\",\"2021-07-01T21:45:00\",\"2021-07-01T22:00:00\",\"2021-07-01T22:15:00\",\"2021-07-01T22:30:00\",\"2021-07-01T22:45:00\",\"2021-07-01T23:00:00\",\"2021-07-01T23:15:00\",\"2021-07-01T23:30:00\",\"2021-07-01T23:45:00\",\"2021-07-02T00:00:00\",\"2021-07-02T00:15:00\",\"2021-07-02T00:30:00\",\"2021-07-02T00:45:00\",\"2021-07-02T01:00:00\",\"2021-07-02T01:15:00\",\"2021-07-02T01:30:00\",\"2021-07-02T01:45:00\",\"2021-07-02T02:00:00\",\"2021-07-02T02:15:00\",\"2021-07-02T02:30:00\",\"2021-07-02T02:45:00\",\"2021-07-02T03:00:00\",\"2021-07-02T03:15:00\",\"2021-07-02T03:30:00\",\"2021-07-02T03:45:00\",\"2021-07-02T04:00:00\",\"2021-07-02T04:15:00\",\"2021-07-02T04:30:00\",\"2021-07-02T04:45:00\",\"2021-07-02T05:00:00\",\"2021-07-02T05:15:00\",\"2021-07-02T05:30:00\",\"2021-07-02T05:45:00\",\"2021-07-02T06:00:00\",\"2021-07-02T06:15:00\",\"2021-07-02T06:30:00\",\"2021-07-02T06:45:00\",\"2021-07-02T07:00:00\",\"2021-07-02T07:15:00\",\"2021-07-02T07:30:00\",\"2021-07-02T07:45:00\",\"2021-07-02T08:00:00\",\"2021-07-02T08:15:00\",\"2021-07-02T08:30:00\",\"2021-07-02T08:45:00\",\"2021-07-02T09:00:00\",\"2021-07-02T09:15:00\",\"2021-07-02T09:30:00\",\"2021-07-02T09:45:00\",\"2021-07-02T10:00:00\",\"2021-07-02T10:15:00\",\"2021-07-02T10:30:00\",\"2021-07-02T10:45:00\",\"2021-07-02T11:00:00\",\"2021-07-02T11:15:00\",\"2021-07-02T11:30:00\",\"2021-07-02T11:45:00\",\"2021-07-02T12:00:00\"],\"xaxis\":\"x\",\"y\":[null,0.18956524564948118,-0.13028224215198003,-0.12503924391854548,-0.08021201987956639,-0.021153919170335822,-0.04936958833358096,0.010855818447286225,-0.040162168322899205,-0.07981365953774189,0.014127977743005893,-0.00923621901791627,0.09291407892806358,-0.013571320000871356,-0.021717059293002716,-0.0016291332468054698,-0.03855678164914611,0.03259576363725536,0.04833462768760732,0.015741876648833752,-0.007055592642657427,-0.000542776191658767,0.05916292601377826,0.014103913293483927,0.03525481092574445,0.04066429187201681,0.03143426985776632,-0.0032507991547858772,-0.025465421208903383,0.0319753735428252,0.14790655339804726,-0.1714913253520356,-0.0769514230594126,0.14480177883833267,-0.010830891869795245,-0.012998478094861099,-0.01137514692898245,-0.09751235156453264,0.048803765481642,0.014091988162734381,-0.0265542356715609,-0.0032524027125058197,-0.0677605936912129,-0.001627356955324899,-0.05533103691448549,-0.015197320929427605,0.026056510056182702,0.06023998306767808,-0.03091542191414609,-0.009223240395628274,0.04177970699945632,-0.07593137972740083,-0.032566748264473144,0.011402075177691096,0.022801550505446855,0.008684324793750697,0.004884508509905849,-0.03690337285973122,0.005971867077092519,0.004342916702859689,0.05319841924698032,0.04014887637400211,0.0027116732108423136,0.01138871866068758,0.08676130879434751,-0.046051989987760944,0.0,0.0,-0.16857373610350557,-0.02660469762946205,-0.0010861950045959468,-0.036931031299047845,0.07334604664808175,0.055919302474571886,-0.08790159362332961,0.010318516305973802,-0.028780259999783286,-0.17816307353029082,0.010882991516703022,0.037542235014376146,0.02828208112606312,0.07394760594625627,0.024449877750609694,0.0331350661343377,-0.011403375399121618,0.015206234556175424,0.03149383969633934,-0.03365522931695342,-0.0016290270907215465,0.08199569929840944,0.02116034659562782,-0.13181734347369467,0.06137868475799557,-0.07816910583229308,0.02064409578861337,0.02118298843083455,0.10860770354441662,0.0824523051386139,-0.06341429043745794,-0.001084692814989907,0.050438763002880194,0.051497492885221874,0.026548193097464257,-0.019499618132479135,-0.0075846638097787356,-0.0016254083838540545,0.021672464050803697,0.0384602883980012,-0.03303064268966871,0.0373748754170844,0.003248774941111421,0.02382357559382875,-0.04222264324572622,0.036283487763788536,-0.027067408674563698,0.011912884325893103,-0.07201022220296727,0.03955288979913263,-0.022747459866989672,0.0579650476180138,0.024905116918683134,0.012990738685880743,0.012989051312173316,0.020022186747481463,-0.03787222991689099,-0.009201026185035044,0.06495439660070268,-0.11035079652718105,0.04494722762249381,0.09147793703718765,-0.0313661018965683,-0.020015687971652874,0.007575019749150869,-0.016230955678664394,0.011904633066750492,-0.027593818984550378,0.023813002982042697,-0.04166283404666293,-0.009202121901052962,0.02869160851655117,-0.0037883707840857817,-0.026519600149377265,0.03194023386747791,0.0048706833568612495,-0.01136437431001891,-0.014071776886559473,0.05142334403300808,-0.033543249150602694,-0.02651888252676038,-0.017323047773720734,-0.0016243171100160936,-0.0059559261465169655,0.05035764759393491,-0.013530188556709621,0.056834481750711596,-0.015147252937475209,-0.01893693459724677,-0.024893256633251593,-0.02922979490427302,0.02707253815874555,0.0,0.0016239126551464977,-0.04059715711641765,0.003790606876163949,0.06443787430823189,0.052491165790913286,-0.024879658175125385,0.03462379087231238,-0.02974452159992813,-0.0064916447122809195,-0.005410055128474145,0.0027051739156291887,0.03949447077409296,0.02271387547387871,0.024330768690083993,0.07838007308265116,0.028086701486973453,-0.011879498685163359,0.02646202699128075,-0.01025807148257174,-0.04427621881091248,-0.04375563826511941,-0.03188534247018371,0.02000227052800785,-0.014593332468537668,-0.027569206817701364,0.037850522877924675,0.010269826169695406,0.010268771584676095,0.008646498708420047,-0.032421566826246195,0.004324277575373792,-0.07026647208259185,0.01622674167027771,0.01081607268400564,0.02433353160655738,0.03459927017164244,-0.009727679029825076,-0.01080958377697172,0.004324300949720694,-0.05567296726105564,-0.008653045331141751,0.045432419276325575,0.013515412976961017,-0.032973151206228124,-0.04974640149671972,-0.009196844941194993,0.008115609563441595,-0.016229901971398508,-0.024889889294099632,-0.008659508139929883,0.027063306486541094,0.04004285667904561,-0.011358964927843385,0.11252062427309362,0.013508913180926285,-0.05997147302905237,-0.0751444774215182,0.03624795767105393,-0.034071550255543315,0.119561571504323,-0.05511636577814061,0.048658906472187624,0.02593879525103482,0.012425782959391007,-0.07400525059150231,-0.020542206124818385,-0.025412685796466494,0.013520822065982152,-0.002703798837366822,-0.02595717066840031,-0.014604699467735127,-0.004327950444960038,0.009197292749818509,-0.02488450344596549,-0.024349595255612755,-0.011365912006189305,0.01353238570547255,-0.04221533065970062,-0.05360362555429932,-0.021127905086959498,0.023841648108113844,0.023294238738857942,-0.0189560112219489,0.011375763124110705,-0.0032498483404252987,-0.00162497697948627,-0.027625057552205234,0.04226176285733185,0.006499063051745857,0.007581747484475265,-0.057400307579014154,0.03413487066676879,0.004874746106975358,0.005957732595285314,0.02978688835333365,-0.003789929615594101,0.010287341696768593,0.009203516826183922,-0.056840019704540445,0.010832827801365852,-0.025454387903212083,0.05633894375314252,-0.008662649363022634,-0.014619487235023598,0.011913916537587,-0.03682044617717706,0.04929257036379031,-0.020032159737526367,0.0227437644179318,0.017324642137861446,-0.06224964815416678,0.005958023019636549,-0.025455490803527603,-0.003250464545556664,0.0,-0.0037923319048838167,0.04876040221912792,0.0,-0.008122773006391526,0.002166248761170664,-0.005415504589634246,-0.0064989574589002785,0.022747829477931525,0.06010559090294798,0.047622655395973545,0.028127265056188122,-0.060564766447124274,0.036252664841418536,0.06761105792374433,0.03891765672465741,0.02431407298544297,-0.031870702181791,-0.10915142869494243,-0.092501433501746,-0.017867681695371562,0.017329333145599257,-0.04548161784612148,0.041168759411935874,-0.07634745129465603,0.044434570095530646,0.05091456644079617,-0.1818998792747828,0.02332127496869063,0.04988504749923184,-0.04010492315029701,0.051506706715387374,-0.0417260495185201,-0.021684918139430742,0.0379568376531747,-0.0010840695972680336,0.011382854169372791,-0.00162593694615909,0.0476949259102577,-0.0016251882509754623,-0.11430676468515699,-0.08189608417399352,0.02605452996000679,-0.035272985776846344,-0.07165656960458344,0.00814863103000274,-0.0304190771069357,0.02934160694201271,-0.0038024259477520417,0.04508762208967898,0.033121752303588714,0.022254790207898445,0.00922554281466148,-0.008682062858145212,0.016822957367379487,0.041236442163183895,-0.011389583412435567,-0.02061206999425247,0.0037977430555669045,-0.0005425141189285831,0.03689116022698169,-0.008677071922080781,0.0021694562257978944,-0.05531993361608256,0.017364879531145405,0.02007465601805425,-0.014103683773725173,0.005425258920488396,-0.004882468141886864,-0.025498578589877585,-0.027133065982187787,0.040710645019470526,-0.026044210046560767,0.027679181998752078,-0.0005425788774049423,-0.028756836530940966,0.05318831376763811,0.0005424493759065285,0.007594250067799457,-0.03905317740990899,0.04557984068760401,0.018982947889090163,-0.0021690680056973832,0.0037959513467411554,-0.05151452709662996,-0.002170150662716974,0.006510593277808674,-0.02061553651934167,-0.02061978739913428,0.03364974952644317,0.002170221308328557,-0.014106132369773317,-0.022790044006493204,0.03256462721643594,-0.026043220895333175,0.0027135422037138923,0.0059696308597478875,-0.02170645278575245,0.02931007343802694,0.010309781812445351,-0.010851283164237113,0.0016278691193249983,-0.033642080816964626,0.04233815155971765,0.03146889191520952,0.006508756990131204,-0.036338194696794446,-0.03146837970398053,-0.010311852117195208,-0.04939343772898397,0.012490225041261738,0.02877822845570588,0.0075996091629670914,0.03202449059347412,0.0493778928119859,0.03362547726484255,-0.020602235884759068,-0.0016268274695252494,0.006507415742529332,0.02060547563400572,-0.07373072022985871,-0.01247836631058652,0.002170421495861774,-0.009224091155723979,-0.00705436746742949,0.005426819341192157,-0.3044280442804359,0.026126856775832152,-0.01795752229725167,-0.09089226817029505,-0.08062451312054186,-0.010903995769251384,0.02835348066239085,0.07140871404351934,-0.05392685557408239,0.05232092346429962,-0.011983941518367569,-0.03922487292774557,0.022345150829750082,-0.01035275655765222,0.016893088547043078,-0.06211247806993114,0.027804431263089846,-0.0043602670663611676,0.030523200357546187,0.061027773085653436,-0.03103983445421621,-0.02451274117813984,0.04358889137103805,-0.025597316094172484,-0.015798132551791966,-0.012531533151349805,0.02997046546857618,0.021245417254545096,0.025053374580630283,0.02450259727531101,0.011976113098066676,-0.03102530467393727,-0.02395679066120593,-0.0054460298442471355,0.013615816132017677,0.022871456966266912,-0.023410661106182395,-0.002178245858608374,-0.006534879921582526,-0.08877125336296254,0.028344825706572152,-0.023977286969978362,0.039244970375507116,0.0005448552047315758,-0.00272426118037572,-0.01961521486832929,0.03324341262704866,0.0010895857394999098,0.005992656272124641,0.014163611503037465,-0.02614450284593728,-0.0021792783319818376,-0.09643516778083949,0.00490821635417138,0.07143830947511365,-0.02506730025175763,0.008721247138332444,-0.026706490222150325,0.04415925681606758,0.03978028205853246,-0.03050424608210811,-0.01580166189892873,0.00435976806034688,0.026702415206214525,0.010351233703609353,-0.03649794086243441,-0.0043595542355889805,-0.029973242069358808,-0.010902628623754573,-0.009813435683836413,0.008723910056485096,0.017991494929670004,-0.05505497320839048,0.00981718225054884,0.0359928014397104,-0.01962537342723447,0.052889858233373666,-0.028883305994098496,-0.05887355269182937,-0.015817951738894553,-0.11074317947487033,-0.0016384131422575443,0.027853479773454204,-0.0775312308901932,-0.024588820283044655,0.03880523597408203,0.016936558928293266,0.016387442848797562,-0.00873853749651099,0.04642753753802964,0.00982715132720191,0.02238186741199133,-0.016373311502249077,-0.04257758126586797,0.06389357623814984,-0.10423829638604998,0.06719732521867083,-0.026205736872564334,-0.06225493943796678,-0.0021857445738793224,-0.020218579234976275,-0.09728742969891124,-0.0027354542221691425,-0.03720319509793457,-0.015871973378878135,0.047076082613051184,0.02680979816052087,0.0940826395650518,0.06667030985298972,0.04532744986673887,-0.059499440486909805,-0.03823339851216634,0.0382480220308512,-0.03167910162437115,-0.061192822956046555,0.038815631218702684,0.029510293080936556,0.044252380614184794,-0.003276504188476359,-0.002730509622306254,-0.015837388250850015,-0.0016386100217369304,-0.009831821235628535,0.0065551919851802865,-0.01966428692379285,-0.0611898140813083,-0.009293426267598104,-0.001640168828043187,-0.008747710560130795,-0.05741187277529258,0.004376750700285648,0.028994704363416446,-0.018594984823205873,-0.008205195529797926,-0.002735289612465497,0.01203560350346855,0.05196566983749484,0.0,0.0,0.030616484790169096,0.026234669115243747,-0.013113894170879714,0.004918355301986033,0.009836226823378702,-0.04371226402206663,0.038264957498568286,0.010382229993721737,0.019123175102708778,0.04097039752211096,-0.06497974160997178,-0.010928066005522208,0.017486816579692643,0.0016391024275197452,-0.004917226684153508,-0.009288551586972282,0.015300212017232973,0.01201975610822803,-0.01638860664066044,0.013659410787658643,-0.010926036197955735,-0.015298122155504856,0.0229506942585056,-0.0333255027507251,0.02459258287701438,0.051904910204503274,0.008191260471157591,0.03440047614629016,0.04912663755458624,0.018004255551318238,0.025637808676504115,0.02454054643616921,0.026170160564831235,-0.0790350097839898,0.05236801623409448,0.016356439530240685,0.08013344671942146,-0.03976229771611717,-0.04141283143888064,0.027801702990593036,-0.0021799196699645584,-0.030519540680906676,-0.033799807014012195,0.0,0.01254287755425576,-0.011996030404481939,0.03544706934537345,0.05669521416071799,0.09643621861055163,0.045177935749340925,0.023938933955736097,0.0016318094046674503,-0.04786562812758577,0.04353504571179556,-0.03916449086162066,0.008162465717642675,0.04352959740563378,0.022843095130609115,-0.047850792528747466,-0.10499572944830948,-0.08005489478499772,-0.0446922502548075,0.017448676354314685,-0.01090352020149954,0.03216889213606411,0.04687517033128419,-0.020157775453277793,0.03487453341688429,-0.03213875225380747,0.03378378378378066,-0.030504079920701255,-0.005448819240871927,-0.009263497460709758,-0.005449620978859038,-0.0016349753936162337,-0.010355013461516016,-0.02343745741740788,0.006542219120730941,-0.01635447785603983,0.008178576491491008,-0.020172172215826567,-0.0016359115299069416,0.025629699914375692,-0.0005451730379135711,-0.020716688382849124,-0.033262627529462296,0.027818991097916523,-0.014178286499544335,-0.0010907920786729086,0.04635916902553383,-0.010902985237359886,-0.005452087058921418,0.01744762984852155,-0.024531449318021536,0.009814987485889937,-0.0016356707067677334,-0.01908313704962472,0.038718895366285366,-0.009812258781971561,-0.0348914548646273,0.0021814770781336534,-0.015270006435219585,-0.007636169261149295,0.04363858523706021,0.020174042005627335,0.027256720144341884,-0.003269915145698299,0.009810066217941227,0.0054495021879708005,0.05231237024081459,-0.027776416188751707,0.010895738676608424,-0.03540729281286126,-0.0136230130835302,0.031064701778871218,-0.01362063799068558,0.03814298169138031,-0.02560052290431214,-0.01634494369167072,-0.00708396680344503,-0.029972752043594397,0.017443920521142964,-0.02834142699085218,0.017991004497752705,0.0387009560771423,0.02125004767639105,0.01634271768500284,0.007625355396023714,0.007080147267068959,0.054458815520774806,0.014151585249688736,0.04734668110648599,-0.045148445914333646,-0.005986231667165498,0.0636755485893481,0.002719445668186715,0.0261059684770526,-0.0010874647933256654,-0.013049719431035278,-0.005981902027318853,-0.06471717506811858,0.010339685891214145,0.05278136001785061,-0.0027192534017950187,0.04459696849388184,0.0,0.04022810422339429,0.01793234614861916,-0.03694487607167618,0.004348062394687879,-0.07826172023608358,0.014685565720617966,0.07668002675642605,-0.01195509232591041,-0.0820652173913139,0.06635880532392946,0.04783362595190965,0.03477145915169455,0.0005431152001689199,-0.004888010253956132,0.03258832794721389,0.024433283561831054,0.017913364455535152,0.020081084161449603,-0.06294427261381852,0.03855050115650904,0.014111644820768987,0.002170715956384406,0.013024013024010017,-0.027672423615976438,0.0054274673266574425,0.009768910983498635,0.009767956760509122,0.02278967302244972,0.01247721551949077,-0.01193323895226639,0.02169938753477929,-0.038508056861752404,-0.0010851518669974247,0.01682003646150676,-0.08300105785662426,-0.003257647327092883,-0.03474937016766377,0.05214217432865098,-0.05808651090071226,0.08310655564065517,-0.00868366494080064,0.011941076216648305,0.0032562683164982786,-0.02604929829702618,-0.0016285053577758113,0.01357109898760811,-0.027681285280067858,0.011401332327132252,0.010314315183745926,0.005970829782508957,0.04125054277028806,0.02007422036067741,0.010848752122294414,-0.01952563553232478,-0.012477147832501423,-0.008138285751491114,-0.03689656482129822,-0.004885171333812721,-0.03854045662298189,-0.0010860652399302673,-0.0005430385177307429,-0.00597345613311262,-0.008146108603912516,0.008146772248829315,-0.013033773766268908,0.04345157593435012,-0.04886179170762173,0.015208877639150131,0.002172366413044635,0.00760311727807661,0.036383580687382455,-0.022799322534416966,-0.026062310641028485,-0.008689701617370371,-0.09885394601053532,-0.0173981123048228,0.012507069213052446,0.008155764222284034,0.032620396446558786,0.03750122286596547,0.17548339427262416,-0.0016270215743019456,0.052607886844224794,-0.023850823937554555,-0.03903793185712212,0.04556204031156419,0.13120229007634876,-0.025448048080567442,0.04549319497624271,-0.016240181456961267,0.012452828145548267,0.014075357297538282,-0.035183441048791675,0.03140550462690239,0.006495650620608195,-0.03139360544733849,0.011911658806784686,0.012451614649600096,-0.11042665829444909,-0.09808490576262985,0.02603700509349327,-0.12364358110855678,0.15094503537433912,-0.03469756195413343,-0.01518545233665236,-0.07539637338019878,-0.12539355118880158,0.09511438183804621,0.008687908603199901,0.04832229340860916,-0.051012378642090184,-0.038550291841998874,0.0016295137530875081,-0.03258974400756065,0.023363597341985454,-0.03639524145797601,0.038038723420430465,0.023900963100165207,0.042902838647318475,-0.011942502279937983,-0.028231104161913212,0.0059736507695085095,-0.0005430267223327512,-0.017919979147662524,0.06734774792389597,0.05156233886769446,0.07486248087751335,0.03089832823781613,0.013005803839960528,-0.05093277415648689,-0.02873204924563888,-0.043923865300143916,-0.0070526070233167815,0.051541917142294835,-0.07429057919537962,0.060236387119183554,0.001084686932228962,-0.014100777169756551,0.023323804926200786,-0.005965163445464938,0.021150477512699162,-0.008133078858330034,0.008675989740636325,0.0493404108809159,-0.027638681147168498,0.029272576474603795,-0.009754670048289782,0.0016259369461701922,0.003251821019767398,-0.036852773171180964,0.005963675792908241,-0.0010842400290700382,0.007589762494641938,0.00596293224484068,-0.028728778647479913,0.016808454110206483,0.005421170756036986,-0.062340084132006535,0.053700157845915086,-0.005421347096323803,0.03144551792937378,0.00921389238173198,-0.014632480855836238,-0.020596875779155255,0.04391291148024834,0.041726049518531205,-0.004333365833564251,0.0124589666641306,-0.01408229476409506,0.030335368330947077,-0.04548925316393282,-0.09806311797372347,-0.0401314576396139,0.048828125,-0.01030312889757079,-0.09978795060495704,0.023343304000378318,-0.048846675712355125,-0.05430060816680182,-0.0005433010974664754,-0.035314763200933186,-0.004347967868512104,0.0,0.11631319774330073,0.0005428881650226813,-0.021172523493351303,-0.010317003507787081,-0.0032583372704841906,0.02280910409098169,-0.027147503244118187,-0.03421514264456693,0.006519400649773743,-0.003259487825824081,-0.0385718631839671,0.018478160444779235,0.1026978563860137,-0.07979416362688951,0.0021730036886769,0.011951260586373635,0.010320309826572505,-0.029328380095805517,0.06627985309777262,0.03094630544546728,0.0244237355289334,0.07867948690123416,-0.01084381116587263,-0.007049241664280892,-0.08297000065073945,0.002170951582347591,0.03636264958888358,-0.004882759518676227,-0.022787323737327725,0.01953644360750406,0.03798010927420492,0.01681337693963947,-0.007049585701268679,-0.03687735567666772,-0.024413135351852855,0.046667607254113896,-0.05586652781394141,0.008140449895543966,0.0043412198827974535,-0.019534641430807298,0.018452988298633954,-0.03147281942198488,-0.028225894000899476,-0.03474937016766377,-0.06463457026157915,0.0902208236182922,0.005430090302405155,0.011402570465168793,0.036375481839412416,-0.007598083112181353,0.0010855229235273711,-0.002713777850138488,0.024424663482425224,-0.0021705510486524915,-0.019535383463309408,0.026052267361387216,0.024417639302631855,0.026581605528974706,-0.02169350333808273,0.017901023613076106,-0.03688035578696125,0.0048830244368192055,0.060221027446671904,-0.0016266157716660068,0.020061920847580517,0.0027105266011240303,0.013010175041072713,-0.004878180980527613,-0.010840931019151512,-0.0021684212808903425,0.004879053680451051,0.0005420906266984105,-0.008673403009662461,-0.009216290063751575,-0.010301508899956957,0.00759136753063494,-0.011928386306214733,-0.01952150619265458,-0.002169479758751258,0.010847634130994877,-0.02548917523537142,-0.016816295532828818,0.015191466736119708,-0.016816569202893206,0.08463954945716612,-0.0043368190516535066,0.021685035698992827,0.07262911994103671,-0.037913049129889576,-0.0406365306155676,-0.04227917262911163,0.07971368147063895,-0.031426605330608925,0.09756150439839129,-0.012995521959724421,-0.0509057431426152,-0.09590325149950729,-0.03850659493231934,-0.10037273550970172,-0.01955161626695512,0.0315059861373701,0.02932392071681722,-0.02225793142384136,-0.03475182311323266],\"yaxis\":\"y\"}],                        {\"legend\":{\"tracegroupgap\":0},\"template\":{\"data\":{\"bar\":[{\"error_x\":{\"color\":\"#2a3f5f\"},\"error_y\":{\"color\":\"#2a3f5f\"},\"marker\":{\"line\":{\"color\":\"#E5ECF6\",\"width\":0.5},\"pattern\":{\"fillmode\":\"overlay\",\"size\":10,\"solidity\":0.2}},\"type\":\"bar\"}],\"barpolar\":[{\"marker\":{\"line\":{\"color\":\"#E5ECF6\",\"width\":0.5},\"pattern\":{\"fillmode\":\"overlay\",\"size\":10,\"solidity\":0.2}},\"type\":\"barpolar\"}],\"carpet\":[{\"aaxis\":{\"endlinecolor\":\"#2a3f5f\",\"gridcolor\":\"white\",\"linecolor\":\"white\",\"minorgridcolor\":\"white\",\"startlinecolor\":\"#2a3f5f\"},\"baxis\":{\"endlinecolor\":\"#2a3f5f\",\"gridcolor\":\"white\",\"linecolor\":\"white\",\"minorgridcolor\":\"white\",\"startlinecolor\":\"#2a3f5f\"},\"type\":\"carpet\"}],\"choropleth\":[{\"colorbar\":{\"outlinewidth\":0,\"ticks\":\"\"},\"type\":\"choropleth\"}],\"contour\":[{\"colorbar\":{\"outlinewidth\":0,\"ticks\":\"\"},\"colorscale\":[[0.0,\"#0d0887\"],[0.1111111111111111,\"#46039f\"],[0.2222222222222222,\"#7201a8\"],[0.3333333333333333,\"#9c179e\"],[0.4444444444444444,\"#bd3786\"],[0.5555555555555556,\"#d8576b\"],[0.6666666666666666,\"#ed7953\"],[0.7777777777777778,\"#fb9f3a\"],[0.8888888888888888,\"#fdca26\"],[1.0,\"#f0f921\"]],\"type\":\"contour\"}],\"contourcarpet\":[{\"colorbar\":{\"outlinewidth\":0,\"ticks\":\"\"},\"type\":\"contourcarpet\"}],\"heatmap\":[{\"colorbar\":{\"outlinewidth\":0,\"ticks\":\"\"},\"colorscale\":[[0.0,\"#0d0887\"],[0.1111111111111111,\"#46039f\"],[0.2222222222222222,\"#7201a8\"],[0.3333333333333333,\"#9c179e\"],[0.4444444444444444,\"#bd3786\"],[0.5555555555555556,\"#d8576b\"],[0.6666666666666666,\"#ed7953\"],[0.7777777777777778,\"#fb9f3a\"],[0.8888888888888888,\"#fdca26\"],[1.0,\"#f0f921\"]],\"type\":\"heatmap\"}],\"heatmapgl\":[{\"colorbar\":{\"outlinewidth\":0,\"ticks\":\"\"},\"colorscale\":[[0.0,\"#0d0887\"],[0.1111111111111111,\"#46039f\"],[0.2222222222222222,\"#7201a8\"],[0.3333333333333333,\"#9c179e\"],[0.4444444444444444,\"#bd3786\"],[0.5555555555555556,\"#d8576b\"],[0.6666666666666666,\"#ed7953\"],[0.7777777777777778,\"#fb9f3a\"],[0.8888888888888888,\"#fdca26\"],[1.0,\"#f0f921\"]],\"type\":\"heatmapgl\"}],\"histogram\":[{\"marker\":{\"pattern\":{\"fillmode\":\"overlay\",\"size\":10,\"solidity\":0.2}},\"type\":\"histogram\"}],\"histogram2d\":[{\"colorbar\":{\"outlinewidth\":0,\"ticks\":\"\"},\"colorscale\":[[0.0,\"#0d0887\"],[0.1111111111111111,\"#46039f\"],[0.2222222222222222,\"#7201a8\"],[0.3333333333333333,\"#9c179e\"],[0.4444444444444444,\"#bd3786\"],[0.5555555555555556,\"#d8576b\"],[0.6666666666666666,\"#ed7953\"],[0.7777777777777778,\"#fb9f3a\"],[0.8888888888888888,\"#fdca26\"],[1.0,\"#f0f921\"]],\"type\":\"histogram2d\"}],\"histogram2dcontour\":[{\"colorbar\":{\"outlinewidth\":0,\"ticks\":\"\"},\"colorscale\":[[0.0,\"#0d0887\"],[0.1111111111111111,\"#46039f\"],[0.2222222222222222,\"#7201a8\"],[0.3333333333333333,\"#9c179e\"],[0.4444444444444444,\"#bd3786\"],[0.5555555555555556,\"#d8576b\"],[0.6666666666666666,\"#ed7953\"],[0.7777777777777778,\"#fb9f3a\"],[0.8888888888888888,\"#fdca26\"],[1.0,\"#f0f921\"]],\"type\":\"histogram2dcontour\"}],\"mesh3d\":[{\"colorbar\":{\"outlinewidth\":0,\"ticks\":\"\"},\"type\":\"mesh3d\"}],\"parcoords\":[{\"line\":{\"colorbar\":{\"outlinewidth\":0,\"ticks\":\"\"}},\"type\":\"parcoords\"}],\"pie\":[{\"automargin\":true,\"type\":\"pie\"}],\"scatter\":[{\"marker\":{\"colorbar\":{\"outlinewidth\":0,\"ticks\":\"\"}},\"type\":\"scatter\"}],\"scatter3d\":[{\"line\":{\"colorbar\":{\"outlinewidth\":0,\"ticks\":\"\"}},\"marker\":{\"colorbar\":{\"outlinewidth\":0,\"ticks\":\"\"}},\"type\":\"scatter3d\"}],\"scattercarpet\":[{\"marker\":{\"colorbar\":{\"outlinewidth\":0,\"ticks\":\"\"}},\"type\":\"scattercarpet\"}],\"scattergeo\":[{\"marker\":{\"colorbar\":{\"outlinewidth\":0,\"ticks\":\"\"}},\"type\":\"scattergeo\"}],\"scattergl\":[{\"marker\":{\"colorbar\":{\"outlinewidth\":0,\"ticks\":\"\"}},\"type\":\"scattergl\"}],\"scattermapbox\":[{\"marker\":{\"colorbar\":{\"outlinewidth\":0,\"ticks\":\"\"}},\"type\":\"scattermapbox\"}],\"scatterpolar\":[{\"marker\":{\"colorbar\":{\"outlinewidth\":0,\"ticks\":\"\"}},\"type\":\"scatterpolar\"}],\"scatterpolargl\":[{\"marker\":{\"colorbar\":{\"outlinewidth\":0,\"ticks\":\"\"}},\"type\":\"scatterpolargl\"}],\"scatterternary\":[{\"marker\":{\"colorbar\":{\"outlinewidth\":0,\"ticks\":\"\"}},\"type\":\"scatterternary\"}],\"surface\":[{\"colorbar\":{\"outlinewidth\":0,\"ticks\":\"\"},\"colorscale\":[[0.0,\"#0d0887\"],[0.1111111111111111,\"#46039f\"],[0.2222222222222222,\"#7201a8\"],[0.3333333333333333,\"#9c179e\"],[0.4444444444444444,\"#bd3786\"],[0.5555555555555556,\"#d8576b\"],[0.6666666666666666,\"#ed7953\"],[0.7777777777777778,\"#fb9f3a\"],[0.8888888888888888,\"#fdca26\"],[1.0,\"#f0f921\"]],\"type\":\"surface\"}],\"table\":[{\"cells\":{\"fill\":{\"color\":\"#EBF0F8\"},\"line\":{\"color\":\"white\"}},\"header\":{\"fill\":{\"color\":\"#C8D4E3\"},\"line\":{\"color\":\"white\"}},\"type\":\"table\"}]},\"layout\":{\"annotationdefaults\":{\"arrowcolor\":\"#2a3f5f\",\"arrowhead\":0,\"arrowwidth\":1},\"autotypenumbers\":\"strict\",\"coloraxis\":{\"colorbar\":{\"outlinewidth\":0,\"ticks\":\"\"}},\"colorscale\":{\"diverging\":[[0,\"#8e0152\"],[0.1,\"#c51b7d\"],[0.2,\"#de77ae\"],[0.3,\"#f1b6da\"],[0.4,\"#fde0ef\"],[0.5,\"#f7f7f7\"],[0.6,\"#e6f5d0\"],[0.7,\"#b8e186\"],[0.8,\"#7fbc41\"],[0.9,\"#4d9221\"],[1,\"#276419\"]],\"sequential\":[[0.0,\"#0d0887\"],[0.1111111111111111,\"#46039f\"],[0.2222222222222222,\"#7201a8\"],[0.3333333333333333,\"#9c179e\"],[0.4444444444444444,\"#bd3786\"],[0.5555555555555556,\"#d8576b\"],[0.6666666666666666,\"#ed7953\"],[0.7777777777777778,\"#fb9f3a\"],[0.8888888888888888,\"#fdca26\"],[1.0,\"#f0f921\"]],\"sequentialminus\":[[0.0,\"#0d0887\"],[0.1111111111111111,\"#46039f\"],[0.2222222222222222,\"#7201a8\"],[0.3333333333333333,\"#9c179e\"],[0.4444444444444444,\"#bd3786\"],[0.5555555555555556,\"#d8576b\"],[0.6666666666666666,\"#ed7953\"],[0.7777777777777778,\"#fb9f3a\"],[0.8888888888888888,\"#fdca26\"],[1.0,\"#f0f921\"]]},\"colorway\":[\"#636efa\",\"#EF553B\",\"#00cc96\",\"#ab63fa\",\"#FFA15A\",\"#19d3f3\",\"#FF6692\",\"#B6E880\",\"#FF97FF\",\"#FECB52\"],\"font\":{\"color\":\"#2a3f5f\"},\"geo\":{\"bgcolor\":\"white\",\"lakecolor\":\"white\",\"landcolor\":\"#E5ECF6\",\"showlakes\":true,\"showland\":true,\"subunitcolor\":\"white\"},\"hoverlabel\":{\"align\":\"left\"},\"hovermode\":\"closest\",\"mapbox\":{\"style\":\"light\"},\"paper_bgcolor\":\"white\",\"plot_bgcolor\":\"#E5ECF6\",\"polar\":{\"angularaxis\":{\"gridcolor\":\"white\",\"linecolor\":\"white\",\"ticks\":\"\"},\"bgcolor\":\"#E5ECF6\",\"radialaxis\":{\"gridcolor\":\"white\",\"linecolor\":\"white\",\"ticks\":\"\"}},\"scene\":{\"xaxis\":{\"backgroundcolor\":\"#E5ECF6\",\"gridcolor\":\"white\",\"gridwidth\":2,\"linecolor\":\"white\",\"showbackground\":true,\"ticks\":\"\",\"zerolinecolor\":\"white\"},\"yaxis\":{\"backgroundcolor\":\"#E5ECF6\",\"gridcolor\":\"white\",\"gridwidth\":2,\"linecolor\":\"white\",\"showbackground\":true,\"ticks\":\"\",\"zerolinecolor\":\"white\"},\"zaxis\":{\"backgroundcolor\":\"#E5ECF6\",\"gridcolor\":\"white\",\"gridwidth\":2,\"linecolor\":\"white\",\"showbackground\":true,\"ticks\":\"\",\"zerolinecolor\":\"white\"}},\"shapedefaults\":{\"line\":{\"color\":\"#2a3f5f\"}},\"ternary\":{\"aaxis\":{\"gridcolor\":\"white\",\"linecolor\":\"white\",\"ticks\":\"\"},\"baxis\":{\"gridcolor\":\"white\",\"linecolor\":\"white\",\"ticks\":\"\"},\"bgcolor\":\"#E5ECF6\",\"caxis\":{\"gridcolor\":\"white\",\"linecolor\":\"white\",\"ticks\":\"\"}},\"title\":{\"x\":0.05},\"xaxis\":{\"automargin\":true,\"gridcolor\":\"white\",\"linecolor\":\"white\",\"ticks\":\"\",\"title\":{\"standoff\":15},\"zerolinecolor\":\"white\",\"zerolinewidth\":2},\"yaxis\":{\"automargin\":true,\"gridcolor\":\"white\",\"linecolor\":\"white\",\"ticks\":\"\",\"title\":{\"standoff\":15},\"zerolinecolor\":\"white\",\"zerolinewidth\":2}}},\"title\":{\"text\":\"Retorno Porcentual precios:GBP-AUD\"},\"xaxis\":{\"anchor\":\"y\",\"domain\":[0.0,1.0],\"range\":[\"2021-06-22\",\"2021-07-01\"],\"rangebreaks\":[{\"bounds\":[\"sat\",\"mon\"]}],\"title\":{\"text\":\"date\"}},\"yaxis\":{\"anchor\":\"x\",\"domain\":[0.0,1.0],\"title\":{\"text\":\"intra_return\"}}},                        {\"responsive\": true}                    ).then(function(){\n",
              "                            \n",
              "var gd = document.getElementById('e0a342bc-e29f-4ddb-bfbc-36763329fc89');\n",
              "var x = new MutationObserver(function (mutations, observer) {{\n",
              "        var display = window.getComputedStyle(gd).display;\n",
              "        if (!display || display === 'none') {{\n",
              "            console.log([gd, 'removed!']);\n",
              "            Plotly.purge(gd);\n",
              "            observer.disconnect();\n",
              "        }}\n",
              "}});\n",
              "\n",
              "// Listen for the removal of the full notebook cells\n",
              "var notebookContainer = gd.closest('#notebook-container');\n",
              "if (notebookContainer) {{\n",
              "    x.observe(notebookContainer, {childList: true});\n",
              "}}\n",
              "\n",
              "// Listen for the clearing of the current output cell\n",
              "var outputEl = gd.closest('.output');\n",
              "if (outputEl) {{\n",
              "    x.observe(outputEl, {childList: true});\n",
              "}}\n",
              "\n",
              "                        })                };                            </script>        </div>\n",
              "</body>\n",
              "</html>"
            ]
          },
          "metadata": {
            "tags": []
          }
        }
      ]
    },
    {
      "cell_type": "code",
      "metadata": {
        "id": "ST3il7H7K1cN"
      },
      "source": [
        ""
      ],
      "execution_count": 50,
      "outputs": []
    },
    {
      "cell_type": "code",
      "metadata": {
        "id": "3GfJb-Ymj28P"
      },
      "source": [
        ""
      ],
      "execution_count": 50,
      "outputs": []
    },
    {
      "cell_type": "markdown",
      "metadata": {
        "id": "BlpGw_OSnKhW"
      },
      "source": [
        "Ver la variabilidad a traves de un histograma del retorno porcentual del precio de cierre"
      ]
    },
    {
      "cell_type": "code",
      "metadata": {
        "colab": {
          "base_uri": "https://localhost:8080/",
          "height": 621
        },
        "id": "Q95ISdXzi9s3",
        "outputId": "0dcfbd0c-25d2-439f-c72d-7859707dec26"
      },
      "source": [
        "data_intraday['intra_return'].hist(bins=100)\n",
        "plt.ylabel('Frecuencia')\n",
        "plt.xlabel('Retorno diario')\n",
        "plt.title('Retorno Diario '+titulo)\n",
        "plt.show()"
      ],
      "execution_count": 51,
      "outputs": [
        {
          "output_type": "display_data",
          "data": {
            "image/png": "[encoded data removed]",
            "text/plain": [
              "<Figure size 1440x720 with 1 Axes>"
            ]
          },
          "metadata": {
            "tags": [],
            "needs_background": "light"
          }
        }
      ]
    },
    {
      "cell_type": "code",
      "metadata": {
        "colab": {
          "base_uri": "https://localhost:8080/",
          "height": 170
        },
        "id": "Qy0mkhFlCnCk",
        "outputId": "b0f618b1-fec9-4c50-c1cb-67931b0c0f55"
      },
      "source": [
        "# si quisiera hacer un resample de intraday a dia\n",
        "resample_diary = data_intraday.set_index('date').resample('D').mean()\n",
        "resample_diary.head(5)\n",
        "resample_weekly = data_intraday.set_index('date').resample('W').mean()\n",
        "resample_weekly.head(5)\n"
      ],
      "execution_count": 52,
      "outputs": [
        {
          "output_type": "execute_result",
          "data": {
            "text/html": [
              "<div>\n",
              "<style scoped>\n",
              "    .dataframe tbody tr th:only-of-type {\n",
              "        vertical-align: middle;\n",
              "    }\n",
              "\n",
              "    .dataframe tbody tr th {\n",
              "        vertical-align: top;\n",
              "    }\n",
              "\n",
              "    .dataframe thead th {\n",
              "        text-align: right;\n",
              "    }\n",
              "</style>\n",
              "<table border=\"1\" class=\"dataframe\">\n",
              "  <thead>\n",
              "    <tr style=\"text-align: right;\">\n",
              "      <th></th>\n",
              "      <th>open</th>\n",
              "      <th>high</th>\n",
              "      <th>low</th>\n",
              "      <th>close</th>\n",
              "      <th>LOGRET_1</th>\n",
              "      <th>PCTRET_1</th>\n",
              "      <th>close_return</th>\n",
              "      <th>close_log_return</th>\n",
              "      <th>intra_return</th>\n",
              "    </tr>\n",
              "    <tr>\n",
              "      <th>date</th>\n",
              "      <th></th>\n",
              "      <th></th>\n",
              "      <th></th>\n",
              "      <th></th>\n",
              "      <th></th>\n",
              "      <th></th>\n",
              "      <th></th>\n",
              "      <th></th>\n",
              "      <th></th>\n",
              "    </tr>\n",
              "  </thead>\n",
              "  <tbody>\n",
              "    <tr>\n",
              "      <th>2021-06-20</th>\n",
              "      <td>1.843695</td>\n",
              "      <td>1.844511</td>\n",
              "      <td>1.842627</td>\n",
              "      <td>1.843688</td>\n",
              "      <td>-0.000012</td>\n",
              "      <td>-0.000011</td>\n",
              "      <td>-0.001147</td>\n",
              "      <td>-0.001165</td>\n",
              "      <td>-0.001147</td>\n",
              "    </tr>\n",
              "    <tr>\n",
              "      <th>2021-06-27</th>\n",
              "      <td>1.842150</td>\n",
              "      <td>1.842756</td>\n",
              "      <td>1.841233</td>\n",
              "      <td>1.842109</td>\n",
              "      <td>-0.000018</td>\n",
              "      <td>-0.000018</td>\n",
              "      <td>-0.001814</td>\n",
              "      <td>-0.001823</td>\n",
              "      <td>-0.001814</td>\n",
              "    </tr>\n",
              "    <tr>\n",
              "      <th>2021-07-04</th>\n",
              "      <td>1.840111</td>\n",
              "      <td>1.840706</td>\n",
              "      <td>1.839260</td>\n",
              "      <td>1.840114</td>\n",
              "      <td>0.000015</td>\n",
              "      <td>0.000015</td>\n",
              "      <td>0.001506</td>\n",
              "      <td>0.001499</td>\n",
              "      <td>0.001506</td>\n",
              "    </tr>\n",
              "  </tbody>\n",
              "</table>\n",
              "</div>"
            ],
            "text/plain": [
              "                open      high       low     close  LOGRET_1  PCTRET_1  \\\n",
              "date                                                                     \n",
              "2021-06-20  1.843695  1.844511  1.842627  1.843688 -0.000012 -0.000011   \n",
              "2021-06-27  1.842150  1.842756  1.841233  1.842109 -0.000018 -0.000018   \n",
              "2021-07-04  1.840111  1.840706  1.839260  1.840114  0.000015  0.000015   \n",
              "\n",
              "            close_return  close_log_return  intra_return  \n",
              "date                                                      \n",
              "2021-06-20     -0.001147         -0.001165     -0.001147  \n",
              "2021-06-27     -0.001814         -0.001823     -0.001814  \n",
              "2021-07-04      0.001506          0.001499      0.001506  "
            ]
          },
          "metadata": {
            "tags": []
          },
          "execution_count": 52
        }
      ]
    },
    {
      "cell_type": "code",
      "metadata": {
        "id": "0AhvNK1ynW5v"
      },
      "source": [
        "data_intraday['MVS50']=data_intraday['close'].rolling(window=50).mean()"
      ],
      "execution_count": 53,
      "outputs": []
    },
    {
      "cell_type": "code",
      "metadata": {
        "id": "lOrttWb8tZot"
      },
      "source": [
        "#MVS30 = pd.DataFrame()\n",
        "#MVS30['close']=market['close'].rolling(window=30).mean()\n",
        "data_intraday['MVS30']=data_intraday['close'].rolling(window=30).mean()"
      ],
      "execution_count": 54,
      "outputs": []
    },
    {
      "cell_type": "code",
      "metadata": {
        "id": "AjDhhkCpBVw-"
      },
      "source": [
        "#MVS30[MVS30.close.notna()].head()"
      ],
      "execution_count": 55,
      "outputs": []
    },
    {
      "cell_type": "code",
      "metadata": {
        "id": "EzgK0vetBeDm"
      },
      "source": [
        "#MVS100 = pd.DataFrame()\n",
        "#MVS100['close']=market['close'].rolling(window=100).mean()\n",
        "data_intraday['MVS100']=data_intraday['close'].rolling(window=100).mean()"
      ],
      "execution_count": 56,
      "outputs": []
    },
    {
      "cell_type": "code",
      "metadata": {
        "colab": {
          "base_uri": "https://localhost:8080/",
          "height": 108
        },
        "id": "L5ZCNmBJz1P3",
        "outputId": "b26e679d-ad78-4b38-8a05-06c2c7e27637"
      },
      "source": [
        "data_intraday.head(2)\n"
      ],
      "execution_count": 57,
      "outputs": [
        {
          "output_type": "execute_result",
          "data": {
            "text/html": [
              "<div>\n",
              "<style scoped>\n",
              "    .dataframe tbody tr th:only-of-type {\n",
              "        vertical-align: middle;\n",
              "    }\n",
              "\n",
              "    .dataframe tbody tr th {\n",
              "        vertical-align: top;\n",
              "    }\n",
              "\n",
              "    .dataframe thead th {\n",
              "        text-align: right;\n",
              "    }\n",
              "</style>\n",
              "<table border=\"1\" class=\"dataframe\">\n",
              "  <thead>\n",
              "    <tr style=\"text-align: right;\">\n",
              "      <th></th>\n",
              "      <th>open</th>\n",
              "      <th>high</th>\n",
              "      <th>low</th>\n",
              "      <th>close</th>\n",
              "      <th>TradeDate</th>\n",
              "      <th>time</th>\n",
              "      <th>date</th>\n",
              "      <th>LOGRET_1</th>\n",
              "      <th>PCTRET_1</th>\n",
              "      <th>close_return</th>\n",
              "      <th>close_log_return</th>\n",
              "      <th>intra_return</th>\n",
              "      <th>MVS50</th>\n",
              "      <th>MVS30</th>\n",
              "      <th>MVS100</th>\n",
              "    </tr>\n",
              "  </thead>\n",
              "  <tbody>\n",
              "    <tr>\n",
              "      <th>0</th>\n",
              "      <td>1.84503</td>\n",
              "      <td>1.84669</td>\n",
              "      <td>1.84443</td>\n",
              "      <td>1.84633</td>\n",
              "      <td>2021-06-18</td>\n",
              "      <td>05:00:00</td>\n",
              "      <td>2021-06-18 05:00:00</td>\n",
              "      <td>NaN</td>\n",
              "      <td>NaN</td>\n",
              "      <td>NaN</td>\n",
              "      <td>NaN</td>\n",
              "      <td>NaN</td>\n",
              "      <td>NaN</td>\n",
              "      <td>NaN</td>\n",
              "      <td>NaN</td>\n",
              "    </tr>\n",
              "    <tr>\n",
              "      <th>1</th>\n",
              "      <td>1.84637</td>\n",
              "      <td>1.85002</td>\n",
              "      <td>1.84552</td>\n",
              "      <td>1.84983</td>\n",
              "      <td>2021-06-18</td>\n",
              "      <td>05:15:00</td>\n",
              "      <td>2021-06-18 05:15:00</td>\n",
              "      <td>0.001894</td>\n",
              "      <td>0.001896</td>\n",
              "      <td>0.189565</td>\n",
              "      <td>0.189386</td>\n",
              "      <td>0.189565</td>\n",
              "      <td>NaN</td>\n",
              "      <td>NaN</td>\n",
              "      <td>NaN</td>\n",
              "    </tr>\n",
              "  </tbody>\n",
              "</table>\n",
              "</div>"
            ],
            "text/plain": [
              "      open     high      low    close   TradeDate      time  \\\n",
              "0  1.84503  1.84669  1.84443  1.84633  2021-06-18  05:00:00   \n",
              "1  1.84637  1.85002  1.84552  1.84983  2021-06-18  05:15:00   \n",
              "\n",
              "                 date  LOGRET_1  PCTRET_1  close_return  close_log_return  \\\n",
              "0 2021-06-18 05:00:00       NaN       NaN           NaN               NaN   \n",
              "1 2021-06-18 05:15:00  0.001894  0.001896      0.189565          0.189386   \n",
              "\n",
              "   intra_return  MVS50  MVS30  MVS100  \n",
              "0           NaN    NaN    NaN     NaN  \n",
              "1      0.189565    NaN    NaN     NaN  "
            ]
          },
          "metadata": {
            "tags": []
          },
          "execution_count": 57
        }
      ]
    },
    {
      "cell_type": "code",
      "metadata": {
        "id": "o3tUpO23hf5I"
      },
      "source": [
        "#def lines_plot(dfs,x_cols,y_cols,line_colors,title_msg, hide_weekends,especial_dates, hide_especial_dates) :\n",
        "\n",
        "#x_columns_data = ['close','MVS30','MVS100']\n",
        "#y_columns_data = ['date','date','date']\n",
        "#line_colors = ['black','green','blue']\n",
        "#lines_plot(data_intraday,x_columns_data,y_columns_data,line_colors,titulo,True,'2021-06-02',False)\n"
      ],
      "execution_count": 58,
      "outputs": []
    },
    {
      "cell_type": "code",
      "metadata": {
        "id": "9--obHDTE0vN"
      },
      "source": [
        "# plt.figure()\n",
        "# plt.plot(data_intraday['close'], label = 'Close Price GBP-AUD')\n",
        "# plt.plot(data_intraday['MVS30'], label = 'Media Movil 30')\n",
        "# plt.plot(data_intraday['MVS100'], label = 'Media Movil 100')\n",
        "# plt.title('Precio de cierre '  )\n",
        "# plt.xlabel( 'Fecha max' +  str( np.min(data_intraday.TradeDate) ) + str(np.max(data_intraday.TradeDate)  ))\n",
        "# plt.ylabel('Close Price ($)')\n",
        "# plt.legend(loc='upper left')\n",
        "# plt.show()\n"
      ],
      "execution_count": 95,
      "outputs": []
    },
    {
      "cell_type": "code",
      "metadata": {
        "id": "QPTEDrxhbD1e"
      },
      "source": [
        ""
      ],
      "execution_count": 59,
      "outputs": []
    },
    {
      "cell_type": "code",
      "metadata": {
        "colab": {
          "base_uri": "https://localhost:8080/",
          "height": 35
        },
        "id": "p3YayYKo7o5R",
        "outputId": "5cf16a85-3f53-4c12-989a-f1d7644c74c1"
      },
      "source": [
        "str(np.min(data_daily.TradeDate) )"
      ],
      "execution_count": 60,
      "outputs": [
        {
          "output_type": "execute_result",
          "data": {
            "application/vnd.google.colaboratory.intrinsic+json": {
              "type": "string"
            },
            "text/plain": [
              "'2021-02-15 00:00:00'"
            ]
          },
          "metadata": {
            "tags": []
          },
          "execution_count": 60
        }
      ]
    },
    {
      "cell_type": "code",
      "metadata": {
        "id": "H2pHJAXfK4l3",
        "colab": {
          "base_uri": "https://localhost:8080/",
          "height": 35
        },
        "outputId": "3ab7f00b-ecbb-48ae-9af9-f438f0c6ffb7"
      },
      "source": [
        "str(np.max(data_daily.TradeDate) )\n"
      ],
      "execution_count": 61,
      "outputs": [
        {
          "output_type": "execute_result",
          "data": {
            "application/vnd.google.colaboratory.intrinsic+json": {
              "type": "string"
            },
            "text/plain": [
              "'2021-07-02 00:00:00'"
            ]
          },
          "metadata": {
            "tags": []
          },
          "execution_count": 61
        }
      ]
    },
    {
      "cell_type": "code",
      "metadata": {
        "id": "zfz6-XJgNWnq",
        "colab": {
          "base_uri": "https://localhost:8080/",
          "height": 230
        },
        "outputId": "e5636cf9-ab23-43d5-dad9-fc9b80a1920d"
      },
      "source": [
        "\n",
        "data_intraday['MVS10'] = ta.sma(data_intraday[\"close\"], length=10)\n",
        "data_intraday.tail(6)"
      ],
      "execution_count": 62,
      "outputs": [
        {
          "output_type": "execute_result",
          "data": {
            "text/html": [
              "<div>\n",
              "<style scoped>\n",
              "    .dataframe tbody tr th:only-of-type {\n",
              "        vertical-align: middle;\n",
              "    }\n",
              "\n",
              "    .dataframe tbody tr th {\n",
              "        vertical-align: top;\n",
              "    }\n",
              "\n",
              "    .dataframe thead th {\n",
              "        text-align: right;\n",
              "    }\n",
              "</style>\n",
              "<table border=\"1\" class=\"dataframe\">\n",
              "  <thead>\n",
              "    <tr style=\"text-align: right;\">\n",
              "      <th></th>\n",
              "      <th>open</th>\n",
              "      <th>high</th>\n",
              "      <th>low</th>\n",
              "      <th>close</th>\n",
              "      <th>TradeDate</th>\n",
              "      <th>time</th>\n",
              "      <th>date</th>\n",
              "      <th>LOGRET_1</th>\n",
              "      <th>PCTRET_1</th>\n",
              "      <th>close_return</th>\n",
              "      <th>close_log_return</th>\n",
              "      <th>intra_return</th>\n",
              "      <th>MVS50</th>\n",
              "      <th>MVS30</th>\n",
              "      <th>MVS100</th>\n",
              "      <th>MVS10</th>\n",
              "    </tr>\n",
              "  </thead>\n",
              "  <tbody>\n",
              "    <tr>\n",
              "      <th>981</th>\n",
              "      <td>1.84318</td>\n",
              "      <td>1.84354</td>\n",
              "      <td>1.84090</td>\n",
              "      <td>1.84128</td>\n",
              "      <td>2021-07-02</td>\n",
              "      <td>10:45:00</td>\n",
              "      <td>2021-07-02 10:45:00</td>\n",
              "      <td>-0.001004</td>\n",
              "      <td>-0.001004</td>\n",
              "      <td>-0.100373</td>\n",
              "      <td>-0.100423</td>\n",
              "      <td>-0.100373</td>\n",
              "      <td>1.844095</td>\n",
              "      <td>1.844438</td>\n",
              "      <td>1.843106</td>\n",
              "      <td>1.844674</td>\n",
              "    </tr>\n",
              "    <tr>\n",
              "      <th>982</th>\n",
              "      <td>1.84129</td>\n",
              "      <td>1.84208</td>\n",
              "      <td>1.84053</td>\n",
              "      <td>1.84092</td>\n",
              "      <td>2021-07-02</td>\n",
              "      <td>11:00:00</td>\n",
              "      <td>2021-07-02 11:00:00</td>\n",
              "      <td>-0.000196</td>\n",
              "      <td>-0.000196</td>\n",
              "      <td>-0.019552</td>\n",
              "      <td>-0.019554</td>\n",
              "      <td>-0.019552</td>\n",
              "      <td>1.844065</td>\n",
              "      <td>1.844314</td>\n",
              "      <td>1.843116</td>\n",
              "      <td>1.844278</td>\n",
              "    </tr>\n",
              "    <tr>\n",
              "      <th>983</th>\n",
              "      <td>1.84092</td>\n",
              "      <td>1.84199</td>\n",
              "      <td>1.84044</td>\n",
              "      <td>1.84150</td>\n",
              "      <td>2021-07-02</td>\n",
              "      <td>11:15:00</td>\n",
              "      <td>2021-07-02 11:15:00</td>\n",
              "      <td>0.000315</td>\n",
              "      <td>0.000315</td>\n",
              "      <td>0.031506</td>\n",
              "      <td>0.031501</td>\n",
              "      <td>0.031506</td>\n",
              "      <td>1.844046</td>\n",
              "      <td>1.844207</td>\n",
              "      <td>1.843111</td>\n",
              "      <td>1.844018</td>\n",
              "    </tr>\n",
              "    <tr>\n",
              "      <th>984</th>\n",
              "      <td>1.84189</td>\n",
              "      <td>1.84239</td>\n",
              "      <td>1.84145</td>\n",
              "      <td>1.84204</td>\n",
              "      <td>2021-07-02</td>\n",
              "      <td>11:30:00</td>\n",
              "      <td>2021-07-02 11:30:00</td>\n",
              "      <td>0.000293</td>\n",
              "      <td>0.000293</td>\n",
              "      <td>0.029324</td>\n",
              "      <td>0.029320</td>\n",
              "      <td>0.029324</td>\n",
              "      <td>1.844039</td>\n",
              "      <td>1.844118</td>\n",
              "      <td>1.843112</td>\n",
              "      <td>1.843665</td>\n",
              "    </tr>\n",
              "    <tr>\n",
              "      <th>985</th>\n",
              "      <td>1.84204</td>\n",
              "      <td>1.84241</td>\n",
              "      <td>1.84096</td>\n",
              "      <td>1.84163</td>\n",
              "      <td>2021-07-02</td>\n",
              "      <td>11:45:00</td>\n",
              "      <td>2021-07-02 11:45:00</td>\n",
              "      <td>-0.000223</td>\n",
              "      <td>-0.000223</td>\n",
              "      <td>-0.022258</td>\n",
              "      <td>-0.022260</td>\n",
              "      <td>-0.022258</td>\n",
              "      <td>1.844014</td>\n",
              "      <td>1.844020</td>\n",
              "      <td>1.843112</td>\n",
              "      <td>1.843329</td>\n",
              "    </tr>\n",
              "    <tr>\n",
              "      <th>986</th>\n",
              "      <td>1.84160</td>\n",
              "      <td>1.84169</td>\n",
              "      <td>1.84049</td>\n",
              "      <td>1.84099</td>\n",
              "      <td>2021-07-02</td>\n",
              "      <td>12:00:00</td>\n",
              "      <td>2021-07-02 12:00:00</td>\n",
              "      <td>-0.000348</td>\n",
              "      <td>-0.000348</td>\n",
              "      <td>-0.034752</td>\n",
              "      <td>-0.034758</td>\n",
              "      <td>-0.034752</td>\n",
              "      <td>1.843978</td>\n",
              "      <td>1.843907</td>\n",
              "      <td>1.843107</td>\n",
              "      <td>1.842749</td>\n",
              "    </tr>\n",
              "  </tbody>\n",
              "</table>\n",
              "</div>"
            ],
            "text/plain": [
              "        open     high      low    close   TradeDate      time  \\\n",
              "981  1.84318  1.84354  1.84090  1.84128  2021-07-02  10:45:00   \n",
              "982  1.84129  1.84208  1.84053  1.84092  2021-07-02  11:00:00   \n",
              "983  1.84092  1.84199  1.84044  1.84150  2021-07-02  11:15:00   \n",
              "984  1.84189  1.84239  1.84145  1.84204  2021-07-02  11:30:00   \n",
              "985  1.84204  1.84241  1.84096  1.84163  2021-07-02  11:45:00   \n",
              "986  1.84160  1.84169  1.84049  1.84099  2021-07-02  12:00:00   \n",
              "\n",
              "                   date  LOGRET_1  PCTRET_1  close_return  close_log_return  \\\n",
              "981 2021-07-02 10:45:00 -0.001004 -0.001004     -0.100373         -0.100423   \n",
              "982 2021-07-02 11:00:00 -0.000196 -0.000196     -0.019552         -0.019554   \n",
              "983 2021-07-02 11:15:00  0.000315  0.000315      0.031506          0.031501   \n",
              "984 2021-07-02 11:30:00  0.000293  0.000293      0.029324          0.029320   \n",
              "985 2021-07-02 11:45:00 -0.000223 -0.000223     -0.022258         -0.022260   \n",
              "986 2021-07-02 12:00:00 -0.000348 -0.000348     -0.034752         -0.034758   \n",
              "\n",
              "     intra_return     MVS50     MVS30    MVS100     MVS10  \n",
              "981     -0.100373  1.844095  1.844438  1.843106  1.844674  \n",
              "982     -0.019552  1.844065  1.844314  1.843116  1.844278  \n",
              "983      0.031506  1.844046  1.844207  1.843111  1.844018  \n",
              "984      0.029324  1.844039  1.844118  1.843112  1.843665  \n",
              "985     -0.022258  1.844014  1.844020  1.843112  1.843329  \n",
              "986     -0.034752  1.843978  1.843907  1.843107  1.842749  "
            ]
          },
          "metadata": {
            "tags": []
          },
          "execution_count": 62
        }
      ]
    },
    {
      "cell_type": "code",
      "metadata": {
        "id": "fE-0183XM0mU"
      },
      "source": [
        "def senal(data, columna_analisis1, columna_analisis2):\n",
        "    compra = []\n",
        "    venta = []\n",
        "    condicion = 0\n",
        "    \n",
        "    for dia in range(len(data)):\n",
        "        \n",
        "        if data[columna_analisis1][dia] > data[columna_analisis2][dia]:\n",
        "            if condicion != 1:\n",
        "                compra.append(data['close'][dia])\n",
        "                venta.append(np.nan)\n",
        "                condicion = 1\n",
        "            else:\n",
        "                compra.append(np.nan)\n",
        "                venta.append(np.nan)\n",
        "            \n",
        "        elif data[columna_analisis1][dia] < data[columna_analisis2][dia]:\n",
        "            if condicion != -1:\n",
        "                venta.append(data['close'][dia])\n",
        "                compra.append(np.nan)\n",
        "                condicion = -1\n",
        "            else:\n",
        "                compra.append(np.nan)\n",
        "                venta.append(np.nan)\n",
        "        else:\n",
        "            compra.append(np.nan)\n",
        "            venta.append(np.nan)\n",
        "            \n",
        "    return (compra, venta)"
      ],
      "execution_count": 63,
      "outputs": []
    },
    {
      "cell_type": "code",
      "metadata": {
        "colab": {
          "base_uri": "https://localhost:8080/",
          "height": 187
        },
        "id": "-86TNBZWFnrM",
        "outputId": "0e1e9dee-c3a9-40bc-f4e7-aac07e09cff0"
      },
      "source": [
        "senales = senal(data_intraday.set_index('date'),'MVS30','MVS100')\n",
        "data_intraday['PosibleCompra'] = senales[0]\n",
        "data_intraday['PosibleVenta'] = senales[1]\n",
        "data_intraday[data_intraday.MVS100.notna()].head(3)"
      ],
      "execution_count": 64,
      "outputs": [
        {
          "output_type": "execute_result",
          "data": {
            "text/html": [
              "<div>\n",
              "<style scoped>\n",
              "    .dataframe tbody tr th:only-of-type {\n",
              "        vertical-align: middle;\n",
              "    }\n",
              "\n",
              "    .dataframe tbody tr th {\n",
              "        vertical-align: top;\n",
              "    }\n",
              "\n",
              "    .dataframe thead th {\n",
              "        text-align: right;\n",
              "    }\n",
              "</style>\n",
              "<table border=\"1\" class=\"dataframe\">\n",
              "  <thead>\n",
              "    <tr style=\"text-align: right;\">\n",
              "      <th></th>\n",
              "      <th>open</th>\n",
              "      <th>high</th>\n",
              "      <th>low</th>\n",
              "      <th>close</th>\n",
              "      <th>TradeDate</th>\n",
              "      <th>time</th>\n",
              "      <th>date</th>\n",
              "      <th>LOGRET_1</th>\n",
              "      <th>PCTRET_1</th>\n",
              "      <th>close_return</th>\n",
              "      <th>close_log_return</th>\n",
              "      <th>intra_return</th>\n",
              "      <th>MVS50</th>\n",
              "      <th>MVS30</th>\n",
              "      <th>MVS100</th>\n",
              "      <th>MVS10</th>\n",
              "      <th>PosibleCompra</th>\n",
              "      <th>PosibleVenta</th>\n",
              "    </tr>\n",
              "  </thead>\n",
              "  <tbody>\n",
              "    <tr>\n",
              "      <th>106</th>\n",
              "      <td>1.84391</td>\n",
              "      <td>1.84430</td>\n",
              "      <td>1.84282</td>\n",
              "      <td>1.84382</td>\n",
              "      <td>2021-06-21</td>\n",
              "      <td>07:45:00</td>\n",
              "      <td>2021-06-21 07:45:00</td>\n",
              "      <td>-0.000011</td>\n",
              "      <td>-0.000011</td>\n",
              "      <td>-0.001085</td>\n",
              "      <td>-0.001085</td>\n",
              "      <td>-0.001085</td>\n",
              "      <td>1.842138</td>\n",
              "      <td>1.841488</td>\n",
              "      <td>1.842985</td>\n",
              "      <td>1.842612</td>\n",
              "      <td>NaN</td>\n",
              "      <td>1.84382</td>\n",
              "    </tr>\n",
              "    <tr>\n",
              "      <th>107</th>\n",
              "      <td>1.84382</td>\n",
              "      <td>1.84507</td>\n",
              "      <td>1.84313</td>\n",
              "      <td>1.84475</td>\n",
              "      <td>2021-06-21</td>\n",
              "      <td>08:00:00</td>\n",
              "      <td>2021-06-21 08:00:00</td>\n",
              "      <td>0.000504</td>\n",
              "      <td>0.000504</td>\n",
              "      <td>0.050439</td>\n",
              "      <td>0.050426</td>\n",
              "      <td>0.050439</td>\n",
              "      <td>1.842158</td>\n",
              "      <td>1.841604</td>\n",
              "      <td>1.842969</td>\n",
              "      <td>1.842741</td>\n",
              "      <td>NaN</td>\n",
              "      <td>NaN</td>\n",
              "    </tr>\n",
              "    <tr>\n",
              "      <th>108</th>\n",
              "      <td>1.84484</td>\n",
              "      <td>1.84639</td>\n",
              "      <td>1.84420</td>\n",
              "      <td>1.84570</td>\n",
              "      <td>2021-06-21</td>\n",
              "      <td>08:15:00</td>\n",
              "      <td>2021-06-21 08:15:00</td>\n",
              "      <td>0.000515</td>\n",
              "      <td>0.000515</td>\n",
              "      <td>0.051497</td>\n",
              "      <td>0.051484</td>\n",
              "      <td>0.051497</td>\n",
              "      <td>1.842224</td>\n",
              "      <td>1.841774</td>\n",
              "      <td>1.842928</td>\n",
              "      <td>1.843208</td>\n",
              "      <td>NaN</td>\n",
              "      <td>NaN</td>\n",
              "    </tr>\n",
              "  </tbody>\n",
              "</table>\n",
              "</div>"
            ],
            "text/plain": [
              "        open     high      low    close   TradeDate      time  \\\n",
              "106  1.84391  1.84430  1.84282  1.84382  2021-06-21  07:45:00   \n",
              "107  1.84382  1.84507  1.84313  1.84475  2021-06-21  08:00:00   \n",
              "108  1.84484  1.84639  1.84420  1.84570  2021-06-21  08:15:00   \n",
              "\n",
              "                   date  LOGRET_1  PCTRET_1  close_return  close_log_return  \\\n",
              "106 2021-06-21 07:45:00 -0.000011 -0.000011     -0.001085         -0.001085   \n",
              "107 2021-06-21 08:00:00  0.000504  0.000504      0.050439          0.050426   \n",
              "108 2021-06-21 08:15:00  0.000515  0.000515      0.051497          0.051484   \n",
              "\n",
              "     intra_return     MVS50     MVS30    MVS100     MVS10  PosibleCompra  \\\n",
              "106     -0.001085  1.842138  1.841488  1.842985  1.842612            NaN   \n",
              "107      0.050439  1.842158  1.841604  1.842969  1.842741            NaN   \n",
              "108      0.051497  1.842224  1.841774  1.842928  1.843208            NaN   \n",
              "\n",
              "     PosibleVenta  \n",
              "106       1.84382  \n",
              "107           NaN  \n",
              "108           NaN  "
            ]
          },
          "metadata": {
            "tags": []
          },
          "execution_count": 64
        }
      ]
    },
    {
      "cell_type": "code",
      "metadata": {
        "colab": {
          "base_uri": "https://localhost:8080/",
          "height": 621
        },
        "id": "p4ExsFCeLdhf",
        "outputId": "840b8ff9-9f5b-4b89-ca0b-d7567bb53cbf"
      },
      "source": [
        "plt.figure()\n",
        "plt.plot(data_intraday['close'], label = 'close', alpha = 0.3)\n",
        "plt.plot(data_intraday['MVS30'], label = 'MVS30', alpha = 0.3)\n",
        "plt.plot(data_intraday['MVS100'], label = 'MVS100', alpha = 0.3)\n",
        "plt.scatter(data_intraday.index, data_intraday['PosibleCompra'], label = 'Precio de Compra', marker = '^', color = 'green')\n",
        "plt.scatter(data_intraday.index, data_intraday['PosibleVenta'], label = 'Precio de Venta', marker = 'v', color = 'red')\n",
        "plt.title('Precio de cierre')\n",
        "plt.xlabel( str(np.min(data_intraday.TradeDate) ) + ' - ' +  str(np.min(data_intraday.TradeDate) ))\n",
        "plt.ylabel('Precio de cierre ($)')\n",
        "plt.legend(loc = 'upper left')\n",
        "plt.show()"
      ],
      "execution_count": 65,
      "outputs": [
        {
          "output_type": "display_data",
          "data": {
            "image/png": "[encoded data removed]",
            "text/plain": [
              "<Figure size 1440x720 with 1 Axes>"
            ]
          },
          "metadata": {
            "tags": [],
            "needs_background": "light"
          }
        }
      ]
    },
    {
      "cell_type": "code",
      "metadata": {
        "colab": {
          "base_uri": "https://localhost:8080/",
          "height": 542
        },
        "id": "dbzI-sZgEqso",
        "outputId": "ac57b51b-2436-48de-a62b-89dbd4bc3cbc"
      },
      "source": [
        "df_trunc = data_intraday.copy()\n",
        "layout = go.Layout(\n",
        "    xaxis=dict(rangebreaks=[\n",
        "        dict(bounds=[\"sat\", \"mon\"])#, # hide weekends\n",
        "        ],\n",
        "    \n",
        "    ),\n",
        "    title=go.layout.Title(text='Estrategia simple' + titulo)   \n",
        ")\n",
        "\n",
        "\n",
        "\n",
        "fig = go.Figure(layout=layout)\n",
        "fig.add_trace(go.Scatter(x=df_trunc.date, y=df_trunc.close, mode='lines',  name='Close Price',line=dict(color='grey')))\n",
        "fig.add_trace(go.Scatter(x=df_trunc.date, y=df_trunc.MVS30, mode='lines',  name='MVS30',line=dict(color='blue')))\n",
        "fig.add_trace(go.Scatter(x=df_trunc.date, y=df_trunc.MVS100, mode='lines',  name='MVS100',line=dict(color='red')))\n",
        "\n",
        "fig.add_trace(go.Scatter(x=df_trunc.date, y=df_trunc.PosibleCompra, mode='markers',marker =dict(\n",
        "            color='green',\n",
        "            size=10,\n",
        "            symbol=[5]\n",
        "            ),  name='PosibleCompra',line=dict(color='green')))\n",
        "\n",
        "fig.add_trace(go.Scatter(x=df_trunc.date, y=df_trunc.PosibleVenta, mode='markers', marker =dict(\n",
        "            color='red',\n",
        "            size=10,\n",
        "            symbol=[6]\n",
        "            ), name='PosibleVenta',line=dict(color='red')))\n",
        "\n",
        "\n",
        "\n",
        "fig.update_xaxes(\n",
        "    rangebreaks=[\n",
        "        dict(bounds=[\"sat\", \"mon\"]) #, #hide weekends\n",
        "    ]\n",
        ")\n",
        "\n",
        "fig.show()"
      ],
      "execution_count": 94,
      "outputs": [
        {
          "output_type": "display_data",
          "data": {
            "text/html": [
              "<html>\n",
              "<head><meta charset=\"utf-8\" /></head>\n",
              "<body>\n",
              "    <div>            <script src=\"https://cdnjs.cloudflare.com/ajax/libs/mathjax/2.7.5/MathJax.js?config=TeX-AMS-MML_SVG\"></script><script type=\"text/javascript\">if (window.MathJax) {MathJax.Hub.Config({SVG: {font: \"STIX-Web\"}});}</script>                <script type=\"text/javascript\">window.PlotlyConfig = {MathJaxConfig: 'local'};</script>\n",
              "        <script src=\"https://cdn.plot.ly/plotly-2.1.0.min.js\"></script>                <div id=\"a585916a-4eaa-4747-8c0f-4cd1b1eb4366\" class=\"plotly-graph-div\" style=\"height:525px; width:100%;\"></div>            <script type=\"text/javascript\">                                    window.PLOTLYENV=window.PLOTLYENV || {};                                    if (document.getElementById(\"a585916a-4eaa-4747-8c0f-4cd1b1eb4366\")) {                    Plotly.newPlot(                        \"a585916a-4eaa-4747-8c0f-4cd1b1eb4366\",                        [{\"line\":{\"color\":\"grey\"},\"mode\":\"lines\",\"name\":\"Close Price\",\"type\":\"scatter\",\"x\":[\"2021-06-18T05:00:00\",\"2021-06-18T05:15:00\",\"2021-06-18T05:30:00\",\"2021-06-18T05:45:00\",\"2021-06-18T06:00:00\",\"2021-06-18T06:15:00\",\"2021-06-18T06:30:00\",\"2021-06-18T06:45:00\",\"2021-06-18T07:00:00\",\"2021-06-18T07:15:00\",\"2021-06-18T07:30:00\",\"2021-06-18T07:45:00\",\"2021-06-18T08:00:00\",\"2021-06-18T08:15:00\",\"2021-06-18T08:30:00\",\"2021-06-18T08:45:00\",\"2021-06-18T09:00:00\",\"2021-06-18T09:15:00\",\"2021-06-18T09:30:00\",\"2021-06-18T09:45:00\",\"2021-06-18T10:00:00\",\"2021-06-18T10:15:00\",\"2021-06-18T10:30:00\",\"2021-06-18T10:45:00\",\"2021-06-18T11:00:00\",\"2021-06-18T11:15:00\",\"2021-06-18T11:30:00\",\"2021-06-18T11:45:00\",\"2021-06-18T12:00:00\",\"2021-06-18T12:15:00\",\"2021-06-18T12:30:00\",\"2021-06-18T12:45:00\",\"2021-06-18T13:00:00\",\"2021-06-18T13:15:00\",\"2021-06-18T13:30:00\",\"2021-06-18T13:45:00\",\"2021-06-18T14:00:00\",\"2021-06-18T14:15:00\",\"2021-06-18T14:30:00\",\"2021-06-18T14:45:00\",\"2021-06-18T15:00:00\",\"2021-06-18T15:15:00\",\"2021-06-18T15:30:00\",\"2021-06-18T15:45:00\",\"2021-06-18T16:00:00\",\"2021-06-18T16:15:00\",\"2021-06-18T16:30:00\",\"2021-06-18T16:45:00\",\"2021-06-18T17:00:00\",\"2021-06-18T17:15:00\",\"2021-06-18T17:30:00\",\"2021-06-18T17:45:00\",\"2021-06-18T18:00:00\",\"2021-06-18T18:15:00\",\"2021-06-18T18:30:00\",\"2021-06-18T18:45:00\",\"2021-06-18T19:00:00\",\"2021-06-18T19:15:00\",\"2021-06-18T19:30:00\",\"2021-06-18T19:45:00\",\"2021-06-18T20:00:00\",\"2021-06-18T20:15:00\",\"2021-06-18T20:30:00\",\"2021-06-18T20:45:00\",\"2021-06-18T21:00:00\",\"2021-06-18T21:15:00\",\"2021-06-18T21:30:00\",\"2021-06-18T21:45:00\",\"2021-06-21T00:00:00\",\"2021-06-21T00:15:00\",\"2021-06-21T00:30:00\",\"2021-06-21T00:45:00\",\"2021-06-21T01:00:00\",\"2021-06-21T01:15:00\",\"2021-06-21T01:30:00\",\"2021-06-21T01:45:00\",\"2021-06-21T02:00:00\",\"2021-06-21T02:15:00\",\"2021-06-21T02:30:00\",\"2021-06-21T02:45:00\",\"2021-06-21T03:00:00\",\"2021-06-21T03:15:00\",\"2021-06-21T03:30:00\",\"2021-06-21T03:45:00\",\"2021-06-21T04:00:00\",\"2021-06-21T04:15:00\",\"2021-06-21T04:30:00\",\"2021-06-21T04:45:00\",\"2021-06-21T05:00:00\",\"2021-06-21T05:15:00\",\"2021-06-21T05:30:00\",\"2021-06-21T05:45:00\",\"2021-06-21T06:00:00\",\"2021-06-21T06:15:00\",\"2021-06-21T06:30:00\",\"2021-06-21T06:45:00\",\"2021-06-21T07:00:00\",\"2021-06-21T07:15:00\",\"2021-06-21T07:30:00\",\"2021-06-21T07:45:00\",\"2021-06-21T08:00:00\",\"2021-06-21T08:15:00\",\"2021-06-21T08:30:00\",\"2021-06-21T08:45:00\",\"2021-06-21T09:00:00\",\"2021-06-21T09:15:00\",\"2021-06-21T09:30:00\",\"2021-06-21T09:45:00\",\"2021-06-21T10:00:00\",\"2021-06-21T10:15:00\",\"2021-06-21T10:30:00\",\"2021-06-21T10:45:00\",\"2021-06-21T11:00:00\",\"2021-06-21T11:15:00\",\"2021-06-21T11:30:00\",\"2021-06-21T11:45:00\",\"2021-06-21T12:00:00\",\"2021-06-21T12:15:00\",\"2021-06-21T12:30:00\",\"2021-06-21T12:45:00\",\"2021-06-21T13:00:00\",\"2021-06-21T13:15:00\",\"2021-06-21T13:30:00\",\"2021-06-21T13:45:00\",\"2021-06-21T14:00:00\",\"2021-06-21T14:15:00\",\"2021-06-21T14:30:00\",\"2021-06-21T14:45:00\",\"2021-06-21T15:00:00\",\"2021-06-21T15:15:00\",\"2021-06-21T15:30:00\",\"2021-06-21T15:45:00\",\"2021-06-21T16:00:00\",\"2021-06-21T16:15:00\",\"2021-06-21T16:30:00\",\"2021-06-21T16:45:00\",\"2021-06-21T17:00:00\",\"2021-06-21T17:15:00\",\"2021-06-21T17:30:00\",\"2021-06-21T17:45:00\",\"2021-06-21T18:00:00\",\"2021-06-21T18:15:00\",\"2021-06-21T18:30:00\",\"2021-06-21T18:45:00\",\"2021-06-21T19:00:00\",\"2021-06-21T19:15:00\",\"2021-06-21T19:30:00\",\"2021-06-21T19:45:00\",\"2021-06-21T20:00:00\",\"2021-06-21T20:15:00\",\"2021-06-21T20:30:00\",\"2021-06-21T20:45:00\",\"2021-06-21T21:00:00\",\"2021-06-21T21:15:00\",\"2021-06-21T21:30:00\",\"2021-06-21T21:45:00\",\"2021-06-21T22:00:00\",\"2021-06-21T22:15:00\",\"2021-06-21T22:30:00\",\"2021-06-21T22:45:00\",\"2021-06-21T23:00:00\",\"2021-06-21T23:15:00\",\"2021-06-21T23:30:00\",\"2021-06-21T23:45:00\",\"2021-06-22T00:00:00\",\"2021-06-22T00:15:00\",\"2021-06-22T00:30:00\",\"2021-06-22T00:45:00\",\"2021-06-22T01:00:00\",\"2021-06-22T01:15:00\",\"2021-06-22T01:30:00\",\"2021-06-22T01:45:00\",\"2021-06-22T02:00:00\",\"2021-06-22T02:15:00\",\"2021-06-22T02:30:00\",\"2021-06-22T02:45:00\",\"2021-06-22T03:00:00\",\"2021-06-22T03:15:00\",\"2021-06-22T03:30:00\",\"2021-06-22T03:45:00\",\"2021-06-22T04:00:00\",\"2021-06-22T04:15:00\",\"2021-06-22T04:30:00\",\"2021-06-22T04:45:00\",\"2021-06-22T05:00:00\",\"2021-06-22T05:15:00\",\"2021-06-22T05:30:00\",\"2021-06-22T05:45:00\",\"2021-06-22T06:00:00\",\"2021-06-22T06:15:00\",\"2021-06-22T06:30:00\",\"2021-06-22T06:45:00\",\"2021-06-22T07:00:00\",\"2021-06-22T07:15:00\",\"2021-06-22T07:30:00\",\"2021-06-22T07:45:00\",\"2021-06-22T08:00:00\",\"2021-06-22T08:15:00\",\"2021-06-22T08:30:00\",\"2021-06-22T08:45:00\",\"2021-06-22T09:00:00\",\"2021-06-22T09:15:00\",\"2021-06-22T09:30:00\",\"2021-06-22T09:45:00\",\"2021-06-22T10:00:00\",\"2021-06-22T10:15:00\",\"2021-06-22T10:30:00\",\"2021-06-22T10:45:00\",\"2021-06-22T11:00:00\",\"2021-06-22T11:15:00\",\"2021-06-22T11:30:00\",\"2021-06-22T11:45:00\",\"2021-06-22T12:00:00\",\"2021-06-22T12:15:00\",\"2021-06-22T12:30:00\",\"2021-06-22T12:45:00\",\"2021-06-22T13:00:00\",\"2021-06-22T13:15:00\",\"2021-06-22T13:30:00\",\"2021-06-22T13:45:00\",\"2021-06-22T14:00:00\",\"2021-06-22T14:15:00\",\"2021-06-22T14:30:00\",\"2021-06-22T14:45:00\",\"2021-06-22T15:00:00\",\"2021-06-22T15:15:00\",\"2021-06-22T15:30:00\",\"2021-06-22T15:45:00\",\"2021-06-22T16:00:00\",\"2021-06-22T16:15:00\",\"2021-06-22T16:30:00\",\"2021-06-22T16:45:00\",\"2021-06-22T17:00:00\",\"2021-06-22T17:15:00\",\"2021-06-22T17:30:00\",\"2021-06-22T17:45:00\",\"2021-06-22T18:00:00\",\"2021-06-22T18:15:00\",\"2021-06-22T18:30:00\",\"2021-06-22T18:45:00\",\"2021-06-22T19:00:00\",\"2021-06-22T19:15:00\",\"2021-06-22T19:30:00\",\"2021-06-22T19:45:00\",\"2021-06-22T20:00:00\",\"2021-06-22T20:15:00\",\"2021-06-22T20:30:00\",\"2021-06-22T20:45:00\",\"2021-06-22T21:00:00\",\"2021-06-22T21:15:00\",\"2021-06-22T21:30:00\",\"2021-06-22T21:45:00\",\"2021-06-22T22:00:00\",\"2021-06-22T22:15:00\",\"2021-06-22T22:30:00\",\"2021-06-22T22:45:00\",\"2021-06-22T23:00:00\",\"2021-06-22T23:15:00\",\"2021-06-22T23:30:00\",\"2021-06-22T23:45:00\",\"2021-06-23T00:00:00\",\"2021-06-23T00:15:00\",\"2021-06-23T00:30:00\",\"2021-06-23T00:45:00\",\"2021-06-23T01:00:00\",\"2021-06-23T01:15:00\",\"2021-06-23T01:30:00\",\"2021-06-23T01:45:00\",\"2021-06-23T02:00:00\",\"2021-06-23T02:15:00\",\"2021-06-23T02:30:00\",\"2021-06-23T02:45:00\",\"2021-06-23T03:00:00\",\"2021-06-23T03:15:00\",\"2021-06-23T03:30:00\",\"2021-06-23T03:45:00\",\"2021-06-23T04:00:00\",\"2021-06-23T04:15:00\",\"2021-06-23T04:30:00\",\"2021-06-23T04:45:00\",\"2021-06-23T05:00:00\",\"2021-06-23T05:15:00\",\"2021-06-23T05:30:00\",\"2021-06-23T05:45:00\",\"2021-06-23T06:00:00\",\"2021-06-23T06:15:00\",\"2021-06-23T06:30:00\",\"2021-06-23T06:45:00\",\"2021-06-23T07:00:00\",\"2021-06-23T07:15:00\",\"2021-06-23T07:30:00\",\"2021-06-23T07:45:00\",\"2021-06-23T08:00:00\",\"2021-06-23T08:15:00\",\"2021-06-23T08:30:00\",\"2021-06-23T08:45:00\",\"2021-06-23T09:00:00\",\"2021-06-23T09:15:00\",\"2021-06-23T09:30:00\",\"2021-06-23T09:45:00\",\"2021-06-23T10:00:00\",\"2021-06-23T10:15:00\",\"2021-06-23T10:30:00\",\"2021-06-23T10:45:00\",\"2021-06-23T11:00:00\",\"2021-06-23T11:15:00\",\"2021-06-23T11:30:00\",\"2021-06-23T11:45:00\",\"2021-06-23T12:00:00\",\"2021-06-23T12:15:00\",\"2021-06-23T12:30:00\",\"2021-06-23T12:45:00\",\"2021-06-23T13:00:00\",\"2021-06-23T13:15:00\",\"2021-06-23T13:30:00\",\"2021-06-23T13:45:00\",\"2021-06-23T14:00:00\",\"2021-06-23T14:15:00\",\"2021-06-23T14:30:00\",\"2021-06-23T14:45:00\",\"2021-06-23T15:00:00\",\"2021-06-23T15:15:00\",\"2021-06-23T15:30:00\",\"2021-06-23T15:45:00\",\"2021-06-23T16:00:00\",\"2021-06-23T16:15:00\",\"2021-06-23T16:30:00\",\"2021-06-23T16:45:00\",\"2021-06-23T17:00:00\",\"2021-06-23T17:15:00\",\"2021-06-23T17:30:00\",\"2021-06-23T17:45:00\",\"2021-06-23T18:00:00\",\"2021-06-23T18:15:00\",\"2021-06-23T18:30:00\",\"2021-06-23T18:45:00\",\"2021-06-23T19:00:00\",\"2021-06-23T19:15:00\",\"2021-06-23T19:30:00\",\"2021-06-23T19:45:00\",\"2021-06-23T20:00:00\",\"2021-06-23T20:15:00\",\"2021-06-23T20:30:00\",\"2021-06-23T20:45:00\",\"2021-06-23T21:00:00\",\"2021-06-23T21:15:00\",\"2021-06-23T21:30:00\",\"2021-06-23T21:45:00\",\"2021-06-23T22:00:00\",\"2021-06-23T22:15:00\",\"2021-06-23T22:30:00\",\"2021-06-23T22:45:00\",\"2021-06-23T23:00:00\",\"2021-06-23T23:15:00\",\"2021-06-23T23:30:00\",\"2021-06-23T23:45:00\",\"2021-06-24T00:00:00\",\"2021-06-24T00:15:00\",\"2021-06-24T00:30:00\",\"2021-06-24T00:45:00\",\"2021-06-24T01:00:00\",\"2021-06-24T01:15:00\",\"2021-06-24T01:30:00\",\"2021-06-24T01:45:00\",\"2021-06-24T02:00:00\",\"2021-06-24T02:15:00\",\"2021-06-24T02:30:00\",\"2021-06-24T02:45:00\",\"2021-06-24T03:00:00\",\"2021-06-24T03:15:00\",\"2021-06-24T03:30:00\",\"2021-06-24T03:45:00\",\"2021-06-24T04:00:00\",\"2021-06-24T04:15:00\",\"2021-06-24T04:30:00\",\"2021-06-24T04:45:00\",\"2021-06-24T05:00:00\",\"2021-06-24T05:15:00\",\"2021-06-24T05:30:00\",\"2021-06-24T05:45:00\",\"2021-06-24T06:00:00\",\"2021-06-24T06:15:00\",\"2021-06-24T06:30:00\",\"2021-06-24T06:45:00\",\"2021-06-24T07:00:00\",\"2021-06-24T07:15:00\",\"2021-06-24T07:30:00\",\"2021-06-24T07:45:00\",\"2021-06-24T08:00:00\",\"2021-06-24T08:15:00\",\"2021-06-24T08:30:00\",\"2021-06-24T08:45:00\",\"2021-06-24T09:00:00\",\"2021-06-24T09:15:00\",\"2021-06-24T09:30:00\",\"2021-06-24T09:45:00\",\"2021-06-24T10:00:00\",\"2021-06-24T10:15:00\",\"2021-06-24T10:30:00\",\"2021-06-24T10:45:00\",\"2021-06-24T11:00:00\",\"2021-06-24T11:15:00\",\"2021-06-24T11:30:00\",\"2021-06-24T11:45:00\",\"2021-06-24T12:00:00\",\"2021-06-24T12:15:00\",\"2021-06-24T12:30:00\",\"2021-06-24T12:45:00\",\"2021-06-24T13:00:00\",\"2021-06-24T13:15:00\",\"2021-06-24T13:30:00\",\"2021-06-24T13:45:00\",\"2021-06-24T14:00:00\",\"2021-06-24T14:15:00\",\"2021-06-24T14:30:00\",\"2021-06-24T14:45:00\",\"2021-06-24T15:00:00\",\"2021-06-24T15:15:00\",\"2021-06-24T15:30:00\",\"2021-06-24T15:45:00\",\"2021-06-24T16:00:00\",\"2021-06-24T16:15:00\",\"2021-06-24T16:30:00\",\"2021-06-24T16:45:00\",\"2021-06-24T17:00:00\",\"2021-06-24T17:15:00\",\"2021-06-24T17:30:00\",\"2021-06-24T17:45:00\",\"2021-06-24T18:00:00\",\"2021-06-24T18:15:00\",\"2021-06-24T18:30:00\",\"2021-06-24T18:45:00\",\"2021-06-24T19:00:00\",\"2021-06-24T19:15:00\",\"2021-06-24T19:30:00\",\"2021-06-24T19:45:00\",\"2021-06-24T20:00:00\",\"2021-06-24T20:15:00\",\"2021-06-24T20:30:00\",\"2021-06-24T20:45:00\",\"2021-06-24T21:00:00\",\"2021-06-24T21:15:00\",\"2021-06-24T21:30:00\",\"2021-06-24T21:45:00\",\"2021-06-24T22:00:00\",\"2021-06-24T22:15:00\",\"2021-06-24T22:30:00\",\"2021-06-24T22:45:00\",\"2021-06-24T23:00:00\",\"2021-06-24T23:15:00\",\"2021-06-24T23:30:00\",\"2021-06-24T23:45:00\",\"2021-06-25T00:00:00\",\"2021-06-25T00:15:00\",\"2021-06-25T00:30:00\",\"2021-06-25T00:45:00\",\"2021-06-25T01:00:00\",\"2021-06-25T01:15:00\",\"2021-06-25T01:30:00\",\"2021-06-25T01:45:00\",\"2021-06-25T02:00:00\",\"2021-06-25T02:15:00\",\"2021-06-25T02:30:00\",\"2021-06-25T02:45:00\",\"2021-06-25T03:00:00\",\"2021-06-25T03:15:00\",\"2021-06-25T03:30:00\",\"2021-06-25T03:45:00\",\"2021-06-25T04:00:00\",\"2021-06-25T04:15:00\",\"2021-06-25T04:30:00\",\"2021-06-25T04:45:00\",\"2021-06-25T05:00:00\",\"2021-06-25T05:15:00\",\"2021-06-25T05:30:00\",\"2021-06-25T05:45:00\",\"2021-06-25T06:00:00\",\"2021-06-25T06:15:00\",\"2021-06-25T06:30:00\",\"2021-06-25T06:45:00\",\"2021-06-25T07:00:00\",\"2021-06-25T07:15:00\",\"2021-06-25T07:30:00\",\"2021-06-25T07:45:00\",\"2021-06-25T08:00:00\",\"2021-06-25T08:15:00\",\"2021-06-25T08:30:00\",\"2021-06-25T08:45:00\",\"2021-06-25T09:00:00\",\"2021-06-25T09:15:00\",\"2021-06-25T09:30:00\",\"2021-06-25T09:45:00\",\"2021-06-25T10:00:00\",\"2021-06-25T10:15:00\",\"2021-06-25T10:30:00\",\"2021-06-25T10:45:00\",\"2021-06-25T11:00:00\",\"2021-06-25T11:15:00\",\"2021-06-25T11:30:00\",\"2021-06-25T11:45:00\",\"2021-06-25T12:00:00\",\"2021-06-25T12:15:00\",\"2021-06-25T12:30:00\",\"2021-06-25T12:45:00\",\"2021-06-25T13:00:00\",\"2021-06-25T13:15:00\",\"2021-06-25T13:30:00\",\"2021-06-25T13:45:00\",\"2021-06-25T14:00:00\",\"2021-06-25T14:15:00\",\"2021-06-25T14:30:00\",\"2021-06-25T14:45:00\",\"2021-06-25T15:00:00\",\"2021-06-25T15:15:00\",\"2021-06-25T15:30:00\",\"2021-06-25T15:45:00\",\"2021-06-25T16:00:00\",\"2021-06-25T16:15:00\",\"2021-06-25T16:30:00\",\"2021-06-25T16:45:00\",\"2021-06-25T17:00:00\",\"2021-06-25T17:15:00\",\"2021-06-25T17:30:00\",\"2021-06-25T17:45:00\",\"2021-06-25T18:00:00\",\"2021-06-25T18:15:00\",\"2021-06-25T18:30:00\",\"2021-06-25T18:45:00\",\"2021-06-25T19:00:00\",\"2021-06-25T19:15:00\",\"2021-06-25T19:30:00\",\"2021-06-25T19:45:00\",\"2021-06-25T20:00:00\",\"2021-06-25T20:15:00\",\"2021-06-25T20:30:00\",\"2021-06-25T20:45:00\",\"2021-06-25T21:00:00\",\"2021-06-25T21:15:00\",\"2021-06-25T21:30:00\",\"2021-06-25T21:45:00\",\"2021-06-28T00:00:00\",\"2021-06-28T00:15:00\",\"2021-06-28T00:30:00\",\"2021-06-28T00:45:00\",\"2021-06-28T01:00:00\",\"2021-06-28T01:15:00\",\"2021-06-28T01:30:00\",\"2021-06-28T01:45:00\",\"2021-06-28T02:00:00\",\"2021-06-28T02:15:00\",\"2021-06-28T02:30:00\",\"2021-06-28T02:45:00\",\"2021-06-28T03:00:00\",\"2021-06-28T03:15:00\",\"2021-06-28T03:30:00\",\"2021-06-28T03:45:00\",\"2021-06-28T04:00:00\",\"2021-06-28T04:15:00\",\"2021-06-28T04:30:00\",\"2021-06-28T04:45:00\",\"2021-06-28T05:00:00\",\"2021-06-28T05:15:00\",\"2021-06-28T05:30:00\",\"2021-06-28T05:45:00\",\"2021-06-28T06:00:00\",\"2021-06-28T06:15:00\",\"2021-06-28T06:30:00\",\"2021-06-28T06:45:00\",\"2021-06-28T07:00:00\",\"2021-06-28T07:15:00\",\"2021-06-28T07:30:00\",\"2021-06-28T07:45:00\",\"2021-06-28T08:00:00\",\"2021-06-28T08:15:00\",\"2021-06-28T08:30:00\",\"2021-06-28T08:45:00\",\"2021-06-28T09:00:00\",\"2021-06-28T09:15:00\",\"2021-06-28T09:30:00\",\"2021-06-28T09:45:00\",\"2021-06-28T10:00:00\",\"2021-06-28T10:15:00\",\"2021-06-28T10:30:00\",\"2021-06-28T10:45:00\",\"2021-06-28T11:00:00\",\"2021-06-28T11:15:00\",\"2021-06-28T11:30:00\",\"2021-06-28T11:45:00\",\"2021-06-28T12:00:00\",\"2021-06-28T12:15:00\",\"2021-06-28T12:30:00\",\"2021-06-28T12:45:00\",\"2021-06-28T13:00:00\",\"2021-06-28T13:15:00\",\"2021-06-28T13:30:00\",\"2021-06-28T13:45:00\",\"2021-06-28T14:00:00\",\"2021-06-28T14:15:00\",\"2021-06-28T14:30:00\",\"2021-06-28T14:45:00\",\"2021-06-28T15:00:00\",\"2021-06-28T15:15:00\",\"2021-06-28T15:30:00\",\"2021-06-28T15:45:00\",\"2021-06-28T16:00:00\",\"2021-06-28T16:15:00\",\"2021-06-28T16:30:00\",\"2021-06-28T16:45:00\",\"2021-06-28T17:00:00\",\"2021-06-28T17:15:00\",\"2021-06-28T17:30:00\",\"2021-06-28T17:45:00\",\"2021-06-28T18:00:00\",\"2021-06-28T18:15:00\",\"2021-06-28T18:30:00\",\"2021-06-28T18:45:00\",\"2021-06-28T19:00:00\",\"2021-06-28T19:15:00\",\"2021-06-28T19:30:00\",\"2021-06-28T19:45:00\",\"2021-06-28T20:00:00\",\"2021-06-28T20:15:00\",\"2021-06-28T20:30:00\",\"2021-06-28T20:45:00\",\"2021-06-28T21:00:00\",\"2021-06-28T21:15:00\",\"2021-06-28T21:30:00\",\"2021-06-28T21:45:00\",\"2021-06-28T22:00:00\",\"2021-06-28T22:15:00\",\"2021-06-28T22:30:00\",\"2021-06-28T22:45:00\",\"2021-06-28T23:00:00\",\"2021-06-28T23:15:00\",\"2021-06-28T23:30:00\",\"2021-06-28T23:45:00\",\"2021-06-29T00:00:00\",\"2021-06-29T00:15:00\",\"2021-06-29T00:30:00\",\"2021-06-29T00:45:00\",\"2021-06-29T01:00:00\",\"2021-06-29T01:15:00\",\"2021-06-29T01:30:00\",\"2021-06-29T01:45:00\",\"2021-06-29T02:00:00\",\"2021-06-29T02:15:00\",\"2021-06-29T02:30:00\",\"2021-06-29T02:45:00\",\"2021-06-29T03:00:00\",\"2021-06-29T03:15:00\",\"2021-06-29T03:30:00\",\"2021-06-29T03:45:00\",\"2021-06-29T04:00:00\",\"2021-06-29T04:15:00\",\"2021-06-29T04:30:00\",\"2021-06-29T04:45:00\",\"2021-06-29T05:00:00\",\"2021-06-29T05:15:00\",\"2021-06-29T05:30:00\",\"2021-06-29T05:45:00\",\"2021-06-29T06:00:00\",\"2021-06-29T06:15:00\",\"2021-06-29T06:30:00\",\"2021-06-29T06:45:00\",\"2021-06-29T07:00:00\",\"2021-06-29T07:15:00\",\"2021-06-29T07:30:00\",\"2021-06-29T07:45:00\",\"2021-06-29T08:00:00\",\"2021-06-29T08:15:00\",\"2021-06-29T08:30:00\",\"2021-06-29T08:45:00\",\"2021-06-29T09:00:00\",\"2021-06-29T09:15:00\",\"2021-06-29T09:30:00\",\"2021-06-29T09:45:00\",\"2021-06-29T10:00:00\",\"2021-06-29T10:15:00\",\"2021-06-29T10:30:00\",\"2021-06-29T10:45:00\",\"2021-06-29T11:00:00\",\"2021-06-29T11:15:00\",\"2021-06-29T11:30:00\",\"2021-06-29T11:45:00\",\"2021-06-29T12:00:00\",\"2021-06-29T12:15:00\",\"2021-06-29T12:30:00\",\"2021-06-29T12:45:00\",\"2021-06-29T13:00:00\",\"2021-06-29T13:15:00\",\"2021-06-29T13:30:00\",\"2021-06-29T13:45:00\",\"2021-06-29T14:00:00\",\"2021-06-29T14:15:00\",\"2021-06-29T14:30:00\",\"2021-06-29T14:45:00\",\"2021-06-29T15:00:00\",\"2021-06-29T15:15:00\",\"2021-06-29T15:30:00\",\"2021-06-29T15:45:00\",\"2021-06-29T16:00:00\",\"2021-06-29T16:15:00\",\"2021-06-29T16:30:00\",\"2021-06-29T16:45:00\",\"2021-06-29T17:00:00\",\"2021-06-29T17:15:00\",\"2021-06-29T17:30:00\",\"2021-06-29T17:45:00\",\"2021-06-29T18:00:00\",\"2021-06-29T18:15:00\",\"2021-06-29T18:30:00\",\"2021-06-29T18:45:00\",\"2021-06-29T19:00:00\",\"2021-06-29T19:15:00\",\"2021-06-29T19:30:00\",\"2021-06-29T19:45:00\",\"2021-06-29T20:00:00\",\"2021-06-29T20:15:00\",\"2021-06-29T20:30:00\",\"2021-06-29T20:45:00\",\"2021-06-29T21:00:00\",\"2021-06-29T21:15:00\",\"2021-06-29T21:30:00\",\"2021-06-29T21:45:00\",\"2021-06-29T22:00:00\",\"2021-06-29T22:15:00\",\"2021-06-29T22:30:00\",\"2021-06-29T22:45:00\",\"2021-06-29T23:00:00\",\"2021-06-29T23:15:00\",\"2021-06-29T23:30:00\",\"2021-06-29T23:45:00\",\"2021-06-30T00:00:00\",\"2021-06-30T00:15:00\",\"2021-06-30T00:30:00\",\"2021-06-30T00:45:00\",\"2021-06-30T01:00:00\",\"2021-06-30T01:15:00\",\"2021-06-30T01:30:00\",\"2021-06-30T01:45:00\",\"2021-06-30T02:00:00\",\"2021-06-30T02:15:00\",\"2021-06-30T02:30:00\",\"2021-06-30T02:45:00\",\"2021-06-30T03:00:00\",\"2021-06-30T03:15:00\",\"2021-06-30T03:30:00\",\"2021-06-30T03:45:00\",\"2021-06-30T04:00:00\",\"2021-06-30T04:15:00\",\"2021-06-30T04:30:00\",\"2021-06-30T04:45:00\",\"2021-06-30T05:00:00\",\"2021-06-30T05:15:00\",\"2021-06-30T05:30:00\",\"2021-06-30T05:45:00\",\"2021-06-30T06:00:00\",\"2021-06-30T06:15:00\",\"2021-06-30T06:30:00\",\"2021-06-30T06:45:00\",\"2021-06-30T07:00:00\",\"2021-06-30T07:15:00\",\"2021-06-30T07:30:00\",\"2021-06-30T07:45:00\",\"2021-06-30T08:00:00\",\"2021-06-30T08:15:00\",\"2021-06-30T08:30:00\",\"2021-06-30T08:45:00\",\"2021-06-30T09:00:00\",\"2021-06-30T09:15:00\",\"2021-06-30T09:30:00\",\"2021-06-30T09:45:00\",\"2021-06-30T10:00:00\",\"2021-06-30T10:15:00\",\"2021-06-30T10:30:00\",\"2021-06-30T10:45:00\",\"2021-06-30T11:00:00\",\"2021-06-30T11:15:00\",\"2021-06-30T11:30:00\",\"2021-06-30T11:45:00\",\"2021-06-30T12:00:00\",\"2021-06-30T12:15:00\",\"2021-06-30T12:30:00\",\"2021-06-30T12:45:00\",\"2021-06-30T13:00:00\",\"2021-06-30T13:15:00\",\"2021-06-30T13:30:00\",\"2021-06-30T13:45:00\",\"2021-06-30T14:00:00\",\"2021-06-30T14:15:00\",\"2021-06-30T14:30:00\",\"2021-06-30T14:45:00\",\"2021-06-30T15:00:00\",\"2021-06-30T15:15:00\",\"2021-06-30T15:30:00\",\"2021-06-30T15:45:00\",\"2021-06-30T16:00:00\",\"2021-06-30T16:15:00\",\"2021-06-30T16:30:00\",\"2021-06-30T16:45:00\",\"2021-06-30T17:00:00\",\"2021-06-30T17:15:00\",\"2021-06-30T17:30:00\",\"2021-06-30T17:45:00\",\"2021-06-30T18:00:00\",\"2021-06-30T18:15:00\",\"2021-06-30T18:30:00\",\"2021-06-30T18:45:00\",\"2021-06-30T19:00:00\",\"2021-06-30T19:15:00\",\"2021-06-30T19:30:00\",\"2021-06-30T19:45:00\",\"2021-06-30T20:00:00\",\"2021-06-30T20:15:00\",\"2021-06-30T20:30:00\",\"2021-06-30T20:45:00\",\"2021-06-30T21:00:00\",\"2021-06-30T21:15:00\",\"2021-06-30T21:30:00\",\"2021-06-30T21:45:00\",\"2021-06-30T22:00:00\",\"2021-06-30T22:15:00\",\"2021-06-30T22:30:00\",\"2021-06-30T22:45:00\",\"2021-06-30T23:00:00\",\"2021-06-30T23:15:00\",\"2021-06-30T23:30:00\",\"2021-06-30T23:45:00\",\"2021-07-01T00:00:00\",\"2021-07-01T00:15:00\",\"2021-07-01T00:30:00\",\"2021-07-01T00:45:00\",\"2021-07-01T01:00:00\",\"2021-07-01T01:15:00\",\"2021-07-01T01:30:00\",\"2021-07-01T01:45:00\",\"2021-07-01T02:00:00\",\"2021-07-01T02:15:00\",\"2021-07-01T02:30:00\",\"2021-07-01T02:45:00\",\"2021-07-01T03:00:00\",\"2021-07-01T03:15:00\",\"2021-07-01T03:30:00\",\"2021-07-01T03:45:00\",\"2021-07-01T04:00:00\",\"2021-07-01T04:15:00\",\"2021-07-01T04:30:00\",\"2021-07-01T04:45:00\",\"2021-07-01T05:00:00\",\"2021-07-01T05:15:00\",\"2021-07-01T05:30:00\",\"2021-07-01T05:45:00\",\"2021-07-01T06:00:00\",\"2021-07-01T06:15:00\",\"2021-07-01T06:30:00\",\"2021-07-01T06:45:00\",\"2021-07-01T07:00:00\",\"2021-07-01T07:15:00\",\"2021-07-01T07:30:00\",\"2021-07-01T07:45:00\",\"2021-07-01T08:00:00\",\"2021-07-01T08:15:00\",\"2021-07-01T08:30:00\",\"2021-07-01T08:45:00\",\"2021-07-01T09:00:00\",\"2021-07-01T09:15:00\",\"2021-07-01T09:30:00\",\"2021-07-01T09:45:00\",\"2021-07-01T10:00:00\",\"2021-07-01T10:15:00\",\"2021-07-01T10:30:00\",\"2021-07-01T10:45:00\",\"2021-07-01T11:00:00\",\"2021-07-01T11:15:00\",\"2021-07-01T11:30:00\",\"2021-07-01T11:45:00\",\"2021-07-01T12:00:00\",\"2021-07-01T12:15:00\",\"2021-07-01T12:30:00\",\"2021-07-01T12:45:00\",\"2021-07-01T13:00:00\",\"2021-07-01T13:15:00\",\"2021-07-01T13:30:00\",\"2021-07-01T13:45:00\",\"2021-07-01T14:00:00\",\"2021-07-01T14:15:00\",\"2021-07-01T14:30:00\",\"2021-07-01T14:45:00\",\"2021-07-01T15:00:00\",\"2021-07-01T15:15:00\",\"2021-07-01T15:30:00\",\"2021-07-01T15:45:00\",\"2021-07-01T16:00:00\",\"2021-07-01T16:15:00\",\"2021-07-01T16:30:00\",\"2021-07-01T16:45:00\",\"2021-07-01T17:00:00\",\"2021-07-01T17:15:00\",\"2021-07-01T17:30:00\",\"2021-07-01T17:45:00\",\"2021-07-01T18:00:00\",\"2021-07-01T18:15:00\",\"2021-07-01T18:30:00\",\"2021-07-01T18:45:00\",\"2021-07-01T19:00:00\",\"2021-07-01T19:15:00\",\"2021-07-01T19:30:00\",\"2021-07-01T19:45:00\",\"2021-07-01T20:00:00\",\"2021-07-01T20:15:00\",\"2021-07-01T20:30:00\",\"2021-07-01T20:45:00\",\"2021-07-01T21:00:00\",\"2021-07-01T21:15:00\",\"2021-07-01T21:30:00\",\"2021-07-01T21:45:00\",\"2021-07-01T22:00:00\",\"2021-07-01T22:15:00\",\"2021-07-01T22:30:00\",\"2021-07-01T22:45:00\",\"2021-07-01T23:00:00\",\"2021-07-01T23:15:00\",\"2021-07-01T23:30:00\",\"2021-07-01T23:45:00\",\"2021-07-02T00:00:00\",\"2021-07-02T00:15:00\",\"2021-07-02T00:30:00\",\"2021-07-02T00:45:00\",\"2021-07-02T01:00:00\",\"2021-07-02T01:15:00\",\"2021-07-02T01:30:00\",\"2021-07-02T01:45:00\",\"2021-07-02T02:00:00\",\"2021-07-02T02:15:00\",\"2021-07-02T02:30:00\",\"2021-07-02T02:45:00\",\"2021-07-02T03:00:00\",\"2021-07-02T03:15:00\",\"2021-07-02T03:30:00\",\"2021-07-02T03:45:00\",\"2021-07-02T04:00:00\",\"2021-07-02T04:15:00\",\"2021-07-02T04:30:00\",\"2021-07-02T04:45:00\",\"2021-07-02T05:00:00\",\"2021-07-02T05:15:00\",\"2021-07-02T05:30:00\",\"2021-07-02T05:45:00\",\"2021-07-02T06:00:00\",\"2021-07-02T06:15:00\",\"2021-07-02T06:30:00\",\"2021-07-02T06:45:00\",\"2021-07-02T07:00:00\",\"2021-07-02T07:15:00\",\"2021-07-02T07:30:00\",\"2021-07-02T07:45:00\",\"2021-07-02T08:00:00\",\"2021-07-02T08:15:00\",\"2021-07-02T08:30:00\",\"2021-07-02T08:45:00\",\"2021-07-02T09:00:00\",\"2021-07-02T09:15:00\",\"2021-07-02T09:30:00\",\"2021-07-02T09:45:00\",\"2021-07-02T10:00:00\",\"2021-07-02T10:15:00\",\"2021-07-02T10:30:00\",\"2021-07-02T10:45:00\",\"2021-07-02T11:00:00\",\"2021-07-02T11:15:00\",\"2021-07-02T11:30:00\",\"2021-07-02T11:45:00\",\"2021-07-02T12:00:00\"],\"y\":[1.84633,1.84983,1.84742,1.84511,1.84363,1.84324,1.84233,1.84253,1.84179,1.84032,1.84058,1.84041,1.84212,1.84187,1.84147,1.84144,1.84073,1.84133,1.84222,1.84251,1.84238,1.84237,1.84346,1.84372,1.84437,1.84512,1.8457,1.84564,1.84517,1.84576,1.84849,1.84532,1.8439,1.84657,1.84637,1.84613,1.84592,1.84412,1.84502,1.84528,1.84479,1.84473,1.84348,1.84345,1.84243,1.84215,1.84263,1.84374,1.84317,1.843,1.84377,1.84237,1.84177,1.84198,1.8424,1.84256,1.84265,1.84197,1.84208,1.84216,1.84314,1.84388,1.84393,1.84414,1.84574,1.84489,1.84489,1.84489,1.84178,1.84129,1.84127,1.84059,1.84194,1.84297,1.84135,1.84154,1.84101,1.83773,1.83793,1.83862,1.83914,1.8405,1.84095,1.84156,1.84135,1.84163,1.84221,1.84159,1.84156,1.84307,1.84346,1.84103,1.84216,1.84072,1.8411,1.84149,1.84349,1.84501,1.84384,1.84382,1.84475,1.8457,1.84619,1.84583,1.84569,1.84566,1.84606,1.84677,1.84616,1.84685,1.84691,1.84735,1.84657,1.84724,1.84674,1.84696,1.84563,1.84636,1.84594,1.84701,1.84747,1.84771,1.84795,1.84832,1.84762,1.84745,1.84865,1.84661,1.84744,1.84913,1.84855,1.84818,1.84832,1.84802,1.84824,1.84773,1.84817,1.8474,1.84723,1.84776,1.84769,1.8472,1.84779,1.84788,1.84767,1.84741,1.84836,1.84774,1.84725,1.84693,1.8469,1.84679,1.84772,1.84747,1.84852,1.84824,1.84789,1.84743,1.84689,1.84739,1.84739,1.84742,1.84667,1.84674,1.84793,1.8489,1.84844,1.84908,1.84853,1.84841,1.84831,1.84836,1.84909,1.84951,1.84996,1.85141,1.85193,1.85171,1.8522,1.85201,1.85119,1.85038,1.84979,1.85016,1.84989,1.84938,1.85008,1.85027,1.85046,1.85062,1.85002,1.8501,1.8488,1.8491,1.8493,1.84975,1.85039,1.85021,1.85001,1.85009,1.84906,1.8489,1.84974,1.84999,1.84938,1.84846,1.84829,1.84844,1.84814,1.84768,1.84752,1.84802,1.84876,1.84855,1.85063,1.85088,1.84977,1.84838,1.84905,1.84842,1.85063,1.84961,1.85051,1.85099,1.85122,1.84985,1.84947,1.849,1.84925,1.8492,1.84872,1.84845,1.84837,1.84854,1.84808,1.84763,1.84742,1.84767,1.84689,1.8459,1.84551,1.84595,1.84638,1.84603,1.84624,1.84618,1.84615,1.84564,1.84642,1.84654,1.84668,1.84562,1.84625,1.84634,1.84645,1.847,1.84693,1.84712,1.84729,1.84624,1.84644,1.84597,1.84701,1.84685,1.84658,1.8468,1.84612,1.84703,1.84666,1.84708,1.8474,1.84625,1.84636,1.84589,1.84583,1.84583,1.84576,1.84666,1.84666,1.84651,1.84655,1.84645,1.84633,1.84675,1.84786,1.84874,1.84926,1.84814,1.84881,1.85006,1.85078,1.85123,1.85064,1.84862,1.84691,1.84658,1.8469,1.84606,1.84682,1.84541,1.84623,1.84717,1.84381,1.84424,1.84516,1.84442,1.84537,1.8446,1.8442,1.8449,1.84488,1.84509,1.84506,1.84594,1.84591,1.8438,1.84229,1.84277,1.84212,1.8408,1.84095,1.84039,1.84093,1.84086,1.84169,1.8423,1.84271,1.84288,1.84272,1.84303,1.84379,1.84358,1.8432,1.84327,1.84326,1.84394,1.84378,1.84382,1.8428,1.84312,1.84349,1.84323,1.84333,1.84324,1.84277,1.84227,1.84302,1.84254,1.84305,1.84304,1.84251,1.84349,1.8435,1.84364,1.84292,1.84376,1.84411,1.84407,1.84414,1.84319,1.84315,1.84327,1.84289,1.84251,1.84313,1.84317,1.84291,1.84249,1.84309,1.84261,1.84266,1.84277,1.84237,1.84291,1.8431,1.8429,1.84293,1.84231,1.84309,1.84367,1.84379,1.84312,1.84254,1.84235,1.84144,1.84167,1.8422,1.84234,1.84293,1.84384,1.84446,1.84408,1.84405,1.84417,1.84455,1.84319,1.84296,1.843,1.84283,1.8427,1.8428,1.83719,1.83767,1.83734,1.83567,1.83419,1.83399,1.83451,1.83582,1.83483,1.83579,1.83557,1.83485,1.83526,1.83507,1.83538,1.83424,1.83475,1.83467,1.83523,1.83635,1.83578,1.83533,1.83613,1.83566,1.83537,1.83514,1.83569,1.83608,1.83654,1.83699,1.83721,1.83664,1.8362,1.8361,1.83635,1.83677,1.83634,1.8363,1.83618,1.83455,1.83507,1.83463,1.83535,1.83536,1.83531,1.83495,1.83556,1.83558,1.83569,1.83595,1.83547,1.83543,1.83366,1.83375,1.83506,1.8346,1.83476,1.83427,1.83508,1.83581,1.83525,1.83496,1.83504,1.83553,1.83572,1.83505,1.83497,1.83442,1.83422,1.83404,1.8342,1.83453,1.83352,1.8337,1.83436,1.834,1.83497,1.83444,1.83336,1.83307,1.83104,1.83101,1.83152,1.8301,1.82965,1.83036,1.83067,1.83097,1.83081,1.83166,1.83184,1.83225,1.83195,1.83117,1.83234,1.83043,1.83166,1.83118,1.83004,1.83,1.82963,1.82785,1.8278,1.82712,1.82683,1.82769,1.82818,1.8299,1.83112,1.83195,1.83086,1.83016,1.83086,1.83028,1.82916,1.82987,1.83041,1.83122,1.83116,1.83111,1.83082,1.83079,1.83061,1.83073,1.83037,1.82925,1.82908,1.82905,1.82889,1.82784,1.82792,1.82845,1.82811,1.82796,1.82791,1.82813,1.82908,1.82908,1.82908,1.82964,1.83012,1.82988,1.82997,1.83015,1.82935,1.83005,1.83024,1.83059,1.83134,1.83015,1.82995,1.83027,1.8303,1.83021,1.83004,1.83032,1.83054,1.83024,1.83049,1.83029,1.83001,1.83043,1.82982,1.83027,1.83122,1.83137,1.832,1.8329,1.83323,1.8337,1.83415,1.83463,1.83318,1.83414,1.83444,1.83591,1.83518,1.83442,1.83493,1.83489,1.83433,1.83371,1.83371,1.83394,1.83372,1.83437,1.83541,1.83718,1.83801,1.83845,1.83848,1.8376,1.8384,1.83768,1.83783,1.83863,1.83905,1.83817,1.83624,1.83477,1.83395,1.83427,1.83407,1.83466,1.83552,1.83515,1.83579,1.8352,1.83582,1.83526,1.83516,1.83499,1.83489,1.83486,1.83467,1.83424,1.83436,1.83406,1.83421,1.83384,1.83381,1.83428,1.83427,1.83389,1.83328,1.83379,1.83353,1.83351,1.83436,1.83416,1.83406,1.83438,1.83393,1.83411,1.83408,1.83373,1.83444,1.83426,1.83362,1.83366,1.83338,1.83324,1.83404,1.83441,1.83491,1.83485,1.83503,1.83513,1.83609,1.83558,1.83578,1.83513,1.83488,1.83545,1.8352,1.8359,1.83543,1.83513,1.835,1.83445,1.83477,1.83425,1.83458,1.83529,1.83568,1.83598,1.83612,1.83625,1.83725,1.83751,1.83838,1.83755,1.83744,1.83861,1.83866,1.83914,1.83912,1.83888,1.83877,1.83758,1.83777,1.83874,1.83869,1.83951,1.83951,1.84025,1.84058,1.8399,1.83998,1.83854,1.83881,1.84022,1.84,1.83849,1.83971,1.84059,1.84123,1.84124,1.84115,1.84175,1.8422,1.84253,1.8429,1.84174,1.84245,1.84271,1.84275,1.84299,1.84248,1.84258,1.84276,1.84294,1.84336,1.84359,1.84337,1.84377,1.84306,1.84304,1.84335,1.84182,1.84176,1.84112,1.84208,1.84101,1.84254,1.84238,1.8426,1.84266,1.84218,1.84215,1.8424,1.84189,1.8421,1.84229,1.8424,1.84316,1.84353,1.84373,1.84337,1.84314,1.84299,1.84231,1.84222,1.84151,1.84149,1.84148,1.84137,1.84122,1.84137,1.84113,1.84193,1.84103,1.84131,1.84135,1.84149,1.84216,1.84174,1.84126,1.8411,1.83928,1.83896,1.83919,1.83934,1.83994,1.84063,1.84386,1.84383,1.8448,1.84436,1.84364,1.84448,1.8469,1.84643,1.84727,1.84697,1.8472,1.84746,1.84681,1.84739,1.84751,1.84693,1.84715,1.84738,1.84534,1.84353,1.84401,1.84173,1.84451,1.84387,1.84359,1.8422,1.83989,1.84164,1.8418,1.84269,1.84175,1.84104,1.84107,1.84047,1.8409,1.84023,1.84093,1.84137,1.84216,1.84194,1.84142,1.84153,1.84152,1.84119,1.84243,1.84338,1.84476,1.84533,1.84557,1.84463,1.8441,1.84329,1.84316,1.84411,1.84274,1.84385,1.84387,1.84361,1.84404,1.84393,1.84432,1.84417,1.84433,1.84524,1.84473,1.84527,1.84509,1.84512,1.84518,1.8445,1.84461,1.84459,1.84473,1.84484,1.84431,1.84462,1.84472,1.84357,1.84456,1.84446,1.84504,1.84521,1.84494,1.84456,1.84537,1.84614,1.84606,1.84629,1.84603,1.84659,1.84575,1.84394,1.8432,1.8441,1.84391,1.84207,1.8425,1.8416,1.8406,1.84059,1.83994,1.83986,1.83986,1.842,1.84201,1.84162,1.84143,1.84137,1.84179,1.84129,1.84066,1.84078,1.84072,1.84001,1.84035,1.84224,1.84077,1.84081,1.84103,1.84122,1.84068,1.8419,1.84247,1.84292,1.84437,1.84417,1.84404,1.84251,1.84255,1.84322,1.84313,1.84271,1.84307,1.84377,1.84408,1.84395,1.84327,1.84282,1.84368,1.84265,1.8428,1.84288,1.84252,1.84286,1.84228,1.84176,1.84112,1.83993,1.84159,1.84169,1.8419,1.84257,1.84243,1.84245,1.8424,1.84285,1.84281,1.84245,1.84293,1.84338,1.84387,1.84347,1.8438,1.84312,1.84321,1.84432,1.84429,1.84466,1.84471,1.84495,1.84486,1.84466,1.84462,1.84471,1.84472,1.84456,1.84439,1.8442,1.84434,1.84412,1.84376,1.84372,1.84392,1.84345,1.84314,1.84342,1.84311,1.84467,1.84459,1.84499,1.84633,1.84563,1.84488,1.8441,1.84557,1.84499,1.84679,1.84655,1.84561,1.84384,1.84313,1.84128,1.84092,1.8415,1.84204,1.84163,1.84099]},{\"line\":{\"color\":\"blue\"},\"mode\":\"lines\",\"name\":\"MVS30\",\"type\":\"scatter\",\"x\":[\"2021-06-18T05:00:00\",\"2021-06-18T05:15:00\",\"2021-06-18T05:30:00\",\"2021-06-18T05:45:00\",\"2021-06-18T06:00:00\",\"2021-06-18T06:15:00\",\"2021-06-18T06:30:00\",\"2021-06-18T06:45:00\",\"2021-06-18T07:00:00\",\"2021-06-18T07:15:00\",\"2021-06-18T07:30:00\",\"2021-06-18T07:45:00\",\"2021-06-18T08:00:00\",\"2021-06-18T08:15:00\",\"2021-06-18T08:30:00\",\"2021-06-18T08:45:00\",\"2021-06-18T09:00:00\",\"2021-06-18T09:15:00\",\"2021-06-18T09:30:00\",\"2021-06-18T09:45:00\",\"2021-06-18T10:00:00\",\"2021-06-18T10:15:00\",\"2021-06-18T10:30:00\",\"2021-06-18T10:45:00\",\"2021-06-18T11:00:00\",\"2021-06-18T11:15:00\",\"2021-06-18T11:30:00\",\"2021-06-18T11:45:00\",\"2021-06-18T12:00:00\",\"2021-06-18T12:15:00\",\"2021-06-18T12:30:00\",\"2021-06-18T12:45:00\",\"2021-06-18T13:00:00\",\"2021-06-18T13:15:00\",\"2021-06-18T13:30:00\",\"2021-06-18T13:45:00\",\"2021-06-18T14:00:00\",\"2021-06-18T14:15:00\",\"2021-06-18T14:30:00\",\"2021-06-18T14:45:00\",\"2021-06-18T15:00:00\",\"2021-06-18T15:15:00\",\"2021-06-18T15:30:00\",\"2021-06-18T15:45:00\",\"2021-06-18T16:00:00\",\"2021-06-18T16:15:00\",\"2021-06-18T16:30:00\",\"2021-06-18T16:45:00\",\"2021-06-18T17:00:00\",\"2021-06-18T17:15:00\",\"2021-06-18T17:30:00\",\"2021-06-18T17:45:00\",\"2021-06-18T18:00:00\",\"2021-06-18T18:15:00\",\"2021-06-18T18:30:00\",\"2021-06-18T18:45:00\",\"2021-06-18T19:00:00\",\"2021-06-18T19:15:00\",\"2021-06-18T19:30:00\",\"2021-06-18T19:45:00\",\"2021-06-18T20:00:00\",\"2021-06-18T20:15:00\",\"2021-06-18T20:30:00\",\"2021-06-18T20:45:00\",\"2021-06-18T21:00:00\",\"2021-06-18T21:15:00\",\"2021-06-18T21:30:00\",\"2021-06-18T21:45:00\",\"2021-06-21T00:00:00\",\"2021-06-21T00:15:00\",\"2021-06-21T00:30:00\",\"2021-06-21T00:45:00\",\"2021-06-21T01:00:00\",\"2021-06-21T01:15:00\",\"2021-06-21T01:30:00\",\"2021-06-21T01:45:00\",\"2021-06-21T02:00:00\",\"2021-06-21T02:15:00\",\"2021-06-21T02:30:00\",\"2021-06-21T02:45:00\",\"2021-06-21T03:00:00\",\"2021-06-21T03:15:00\",\"2021-06-21T03:30:00\",\"2021-06-21T03:45:00\",\"2021-06-21T04:00:00\",\"2021-06-21T04:15:00\",\"2021-06-21T04:30:00\",\"2021-06-21T04:45:00\",\"2021-06-21T05:00:00\",\"2021-06-21T05:15:00\",\"2021-06-21T05:30:00\",\"2021-06-21T05:45:00\",\"2021-06-21T06:00:00\",\"2021-06-21T06:15:00\",\"2021-06-21T06:30:00\",\"2021-06-21T06:45:00\",\"2021-06-21T07:00:00\",\"2021-06-21T07:15:00\",\"2021-06-21T07:30:00\",\"2021-06-21T07:45:00\",\"2021-06-21T08:00:00\",\"2021-06-21T08:15:00\",\"2021-06-21T08:30:00\",\"2021-06-21T08:45:00\",\"2021-06-21T09:00:00\",\"2021-06-21T09:15:00\",\"2021-06-21T09:30:00\",\"2021-06-21T09:45:00\",\"2021-06-21T10:00:00\",\"2021-06-21T10:15:00\",\"2021-06-21T10:30:00\",\"2021-06-21T10:45:00\",\"2021-06-21T11:00:00\",\"2021-06-21T11:15:00\",\"2021-06-21T11:30:00\",\"2021-06-21T11:45:00\",\"2021-06-21T12:00:00\",\"2021-06-21T12:15:00\",\"2021-06-21T12:30:00\",\"2021-06-21T12:45:00\",\"2021-06-21T13:00:00\",\"2021-06-21T13:15:00\",\"2021-06-21T13:30:00\",\"2021-06-21T13:45:00\",\"2021-06-21T14:00:00\",\"2021-06-21T14:15:00\",\"2021-06-21T14:30:00\",\"2021-06-21T14:45:00\",\"2021-06-21T15:00:00\",\"2021-06-21T15:15:00\",\"2021-06-21T15:30:00\",\"2021-06-21T15:45:00\",\"2021-06-21T16:00:00\",\"2021-06-21T16:15:00\",\"2021-06-21T16:30:00\",\"2021-06-21T16:45:00\",\"2021-06-21T17:00:00\",\"2021-06-21T17:15:00\",\"2021-06-21T17:30:00\",\"2021-06-21T17:45:00\",\"2021-06-21T18:00:00\",\"2021-06-21T18:15:00\",\"2021-06-21T18:30:00\",\"2021-06-21T18:45:00\",\"2021-06-21T19:00:00\",\"2021-06-21T19:15:00\",\"2021-06-21T19:30:00\",\"2021-06-21T19:45:00\",\"2021-06-21T20:00:00\",\"2021-06-21T20:15:00\",\"2021-06-21T20:30:00\",\"2021-06-21T20:45:00\",\"2021-06-21T21:00:00\",\"2021-06-21T21:15:00\",\"2021-06-21T21:30:00\",\"2021-06-21T21:45:00\",\"2021-06-21T22:00:00\",\"2021-06-21T22:15:00\",\"2021-06-21T22:30:00\",\"2021-06-21T22:45:00\",\"2021-06-21T23:00:00\",\"2021-06-21T23:15:00\",\"2021-06-21T23:30:00\",\"2021-06-21T23:45:00\",\"2021-06-22T00:00:00\",\"2021-06-22T00:15:00\",\"2021-06-22T00:30:00\",\"2021-06-22T00:45:00\",\"2021-06-22T01:00:00\",\"2021-06-22T01:15:00\",\"2021-06-22T01:30:00\",\"2021-06-22T01:45:00\",\"2021-06-22T02:00:00\",\"2021-06-22T02:15:00\",\"2021-06-22T02:30:00\",\"2021-06-22T02:45:00\",\"2021-06-22T03:00:00\",\"2021-06-22T03:15:00\",\"2021-06-22T03:30:00\",\"2021-06-22T03:45:00\",\"2021-06-22T04:00:00\",\"2021-06-22T04:15:00\",\"2021-06-22T04:30:00\",\"2021-06-22T04:45:00\",\"2021-06-22T05:00:00\",\"2021-06-22T05:15:00\",\"2021-06-22T05:30:00\",\"2021-06-22T05:45:00\",\"2021-06-22T06:00:00\",\"2021-06-22T06:15:00\",\"2021-06-22T06:30:00\",\"2021-06-22T06:45:00\",\"2021-06-22T07:00:00\",\"2021-06-22T07:15:00\",\"2021-06-22T07:30:00\",\"2021-06-22T07:45:00\",\"2021-06-22T08:00:00\",\"2021-06-22T08:15:00\",\"2021-06-22T08:30:00\",\"2021-06-22T08:45:00\",\"2021-06-22T09:00:00\",\"2021-06-22T09:15:00\",\"2021-06-22T09:30:00\",\"2021-06-22T09:45:00\",\"2021-06-22T10:00:00\",\"2021-06-22T10:15:00\",\"2021-06-22T10:30:00\",\"2021-06-22T10:45:00\",\"2021-06-22T11:00:00\",\"2021-06-22T11:15:00\",\"2021-06-22T11:30:00\",\"2021-06-22T11:45:00\",\"2021-06-22T12:00:00\",\"2021-06-22T12:15:00\",\"2021-06-22T12:30:00\",\"2021-06-22T12:45:00\",\"2021-06-22T13:00:00\",\"2021-06-22T13:15:00\",\"2021-06-22T13:30:00\",\"2021-06-22T13:45:00\",\"2021-06-22T14:00:00\",\"2021-06-22T14:15:00\",\"2021-06-22T14:30:00\",\"2021-06-22T14:45:00\",\"2021-06-22T15:00:00\",\"2021-06-22T15:15:00\",\"2021-06-22T15:30:00\",\"2021-06-22T15:45:00\",\"2021-06-22T16:00:00\",\"2021-06-22T16:15:00\",\"2021-06-22T16:30:00\",\"2021-06-22T16:45:00\",\"2021-06-22T17:00:00\",\"2021-06-22T17:15:00\",\"2021-06-22T17:30:00\",\"2021-06-22T17:45:00\",\"2021-06-22T18:00:00\",\"2021-06-22T18:15:00\",\"2021-06-22T18:30:00\",\"2021-06-22T18:45:00\",\"2021-06-22T19:00:00\",\"2021-06-22T19:15:00\",\"2021-06-22T19:30:00\",\"2021-06-22T19:45:00\",\"2021-06-22T20:00:00\",\"2021-06-22T20:15:00\",\"2021-06-22T20:30:00\",\"2021-06-22T20:45:00\",\"2021-06-22T21:00:00\",\"2021-06-22T21:15:00\",\"2021-06-22T21:30:00\",\"2021-06-22T21:45:00\",\"2021-06-22T22:00:00\",\"2021-06-22T22:15:00\",\"2021-06-22T22:30:00\",\"2021-06-22T22:45:00\",\"2021-06-22T23:00:00\",\"2021-06-22T23:15:00\",\"2021-06-22T23:30:00\",\"2021-06-22T23:45:00\",\"2021-06-23T00:00:00\",\"2021-06-23T00:15:00\",\"2021-06-23T00:30:00\",\"2021-06-23T00:45:00\",\"2021-06-23T01:00:00\",\"2021-06-23T01:15:00\",\"2021-06-23T01:30:00\",\"2021-06-23T01:45:00\",\"2021-06-23T02:00:00\",\"2021-06-23T02:15:00\",\"2021-06-23T02:30:00\",\"2021-06-23T02:45:00\",\"2021-06-23T03:00:00\",\"2021-06-23T03:15:00\",\"2021-06-23T03:30:00\",\"2021-06-23T03:45:00\",\"2021-06-23T04:00:00\",\"2021-06-23T04:15:00\",\"2021-06-23T04:30:00\",\"2021-06-23T04:45:00\",\"2021-06-23T05:00:00\",\"2021-06-23T05:15:00\",\"2021-06-23T05:30:00\",\"2021-06-23T05:45:00\",\"2021-06-23T06:00:00\",\"2021-06-23T06:15:00\",\"2021-06-23T06:30:00\",\"2021-06-23T06:45:00\",\"2021-06-23T07:00:00\",\"2021-06-23T07:15:00\",\"2021-06-23T07:30:00\",\"2021-06-23T07:45:00\",\"2021-06-23T08:00:00\",\"2021-06-23T08:15:00\",\"2021-06-23T08:30:00\",\"2021-06-23T08:45:00\",\"2021-06-23T09:00:00\",\"2021-06-23T09:15:00\",\"2021-06-23T09:30:00\",\"2021-06-23T09:45:00\",\"2021-06-23T10:00:00\",\"2021-06-23T10:15:00\",\"2021-06-23T10:30:00\",\"2021-06-23T10:45:00\",\"2021-06-23T11:00:00\",\"2021-06-23T11:15:00\",\"2021-06-23T11:30:00\",\"2021-06-23T11:45:00\",\"2021-06-23T12:00:00\",\"2021-06-23T12:15:00\",\"2021-06-23T12:30:00\",\"2021-06-23T12:45:00\",\"2021-06-23T13:00:00\",\"2021-06-23T13:15:00\",\"2021-06-23T13:30:00\",\"2021-06-23T13:45:00\",\"2021-06-23T14:00:00\",\"2021-06-23T14:15:00\",\"2021-06-23T14:30:00\",\"2021-06-23T14:45:00\",\"2021-06-23T15:00:00\",\"2021-06-23T15:15:00\",\"2021-06-23T15:30:00\",\"2021-06-23T15:45:00\",\"2021-06-23T16:00:00\",\"2021-06-23T16:15:00\",\"2021-06-23T16:30:00\",\"2021-06-23T16:45:00\",\"2021-06-23T17:00:00\",\"2021-06-23T17:15:00\",\"2021-06-23T17:30:00\",\"2021-06-23T17:45:00\",\"2021-06-23T18:00:00\",\"2021-06-23T18:15:00\",\"2021-06-23T18:30:00\",\"2021-06-23T18:45:00\",\"2021-06-23T19:00:00\",\"2021-06-23T19:15:00\",\"2021-06-23T19:30:00\",\"2021-06-23T19:45:00\",\"2021-06-23T20:00:00\",\"2021-06-23T20:15:00\",\"2021-06-23T20:30:00\",\"2021-06-23T20:45:00\",\"2021-06-23T21:00:00\",\"2021-06-23T21:15:00\",\"2021-06-23T21:30:00\",\"2021-06-23T21:45:00\",\"2021-06-23T22:00:00\",\"2021-06-23T22:15:00\",\"2021-06-23T22:30:00\",\"2021-06-23T22:45:00\",\"2021-06-23T23:00:00\",\"2021-06-23T23:15:00\",\"2021-06-23T23:30:00\",\"2021-06-23T23:45:00\",\"2021-06-24T00:00:00\",\"2021-06-24T00:15:00\",\"2021-06-24T00:30:00\",\"2021-06-24T00:45:00\",\"2021-06-24T01:00:00\",\"2021-06-24T01:15:00\",\"2021-06-24T01:30:00\",\"2021-06-24T01:45:00\",\"2021-06-24T02:00:00\",\"2021-06-24T02:15:00\",\"2021-06-24T02:30:00\",\"2021-06-24T02:45:00\",\"2021-06-24T03:00:00\",\"2021-06-24T03:15:00\",\"2021-06-24T03:30:00\",\"2021-06-24T03:45:00\",\"2021-06-24T04:00:00\",\"2021-06-24T04:15:00\",\"2021-06-24T04:30:00\",\"2021-06-24T04:45:00\",\"2021-06-24T05:00:00\",\"2021-06-24T05:15:00\",\"2021-06-24T05:30:00\",\"2021-06-24T05:45:00\",\"2021-06-24T06:00:00\",\"2021-06-24T06:15:00\",\"2021-06-24T06:30:00\",\"2021-06-24T06:45:00\",\"2021-06-24T07:00:00\",\"2021-06-24T07:15:00\",\"2021-06-24T07:30:00\",\"2021-06-24T07:45:00\",\"2021-06-24T08:00:00\",\"2021-06-24T08:15:00\",\"2021-06-24T08:30:00\",\"2021-06-24T08:45:00\",\"2021-06-24T09:00:00\",\"2021-06-24T09:15:00\",\"2021-06-24T09:30:00\",\"2021-06-24T09:45:00\",\"2021-06-24T10:00:00\",\"2021-06-24T10:15:00\",\"2021-06-24T10:30:00\",\"2021-06-24T10:45:00\",\"2021-06-24T11:00:00\",\"2021-06-24T11:15:00\",\"2021-06-24T11:30:00\",\"2021-06-24T11:45:00\",\"2021-06-24T12:00:00\",\"2021-06-24T12:15:00\",\"2021-06-24T12:30:00\",\"2021-06-24T12:45:00\",\"2021-06-24T13:00:00\",\"2021-06-24T13:15:00\",\"2021-06-24T13:30:00\",\"2021-06-24T13:45:00\",\"2021-06-24T14:00:00\",\"2021-06-24T14:15:00\",\"2021-06-24T14:30:00\",\"2021-06-24T14:45:00\",\"2021-06-24T15:00:00\",\"2021-06-24T15:15:00\",\"2021-06-24T15:30:00\",\"2021-06-24T15:45:00\",\"2021-06-24T16:00:00\",\"2021-06-24T16:15:00\",\"2021-06-24T16:30:00\",\"2021-06-24T16:45:00\",\"2021-06-24T17:00:00\",\"2021-06-24T17:15:00\",\"2021-06-24T17:30:00\",\"2021-06-24T17:45:00\",\"2021-06-24T18:00:00\",\"2021-06-24T18:15:00\",\"2021-06-24T18:30:00\",\"2021-06-24T18:45:00\",\"2021-06-24T19:00:00\",\"2021-06-24T19:15:00\",\"2021-06-24T19:30:00\",\"2021-06-24T19:45:00\",\"2021-06-24T20:00:00\",\"2021-06-24T20:15:00\",\"2021-06-24T20:30:00\",\"2021-06-24T20:45:00\",\"2021-06-24T21:00:00\",\"2021-06-24T21:15:00\",\"2021-06-24T21:30:00\",\"2021-06-24T21:45:00\",\"2021-06-24T22:00:00\",\"2021-06-24T22:15:00\",\"2021-06-24T22:30:00\",\"2021-06-24T22:45:00\",\"2021-06-24T23:00:00\",\"2021-06-24T23:15:00\",\"2021-06-24T23:30:00\",\"2021-06-24T23:45:00\",\"2021-06-25T00:00:00\",\"2021-06-25T00:15:00\",\"2021-06-25T00:30:00\",\"2021-06-25T00:45:00\",\"2021-06-25T01:00:00\",\"2021-06-25T01:15:00\",\"2021-06-25T01:30:00\",\"2021-06-25T01:45:00\",\"2021-06-25T02:00:00\",\"2021-06-25T02:15:00\",\"2021-06-25T02:30:00\",\"2021-06-25T02:45:00\",\"2021-06-25T03:00:00\",\"2021-06-25T03:15:00\",\"2021-06-25T03:30:00\",\"2021-06-25T03:45:00\",\"2021-06-25T04:00:00\",\"2021-06-25T04:15:00\",\"2021-06-25T04:30:00\",\"2021-06-25T04:45:00\",\"2021-06-25T05:00:00\",\"2021-06-25T05:15:00\",\"2021-06-25T05:30:00\",\"2021-06-25T05:45:00\",\"2021-06-25T06:00:00\",\"2021-06-25T06:15:00\",\"2021-06-25T06:30:00\",\"2021-06-25T06:45:00\",\"2021-06-25T07:00:00\",\"2021-06-25T07:15:00\",\"2021-06-25T07:30:00\",\"2021-06-25T07:45:00\",\"2021-06-25T08:00:00\",\"2021-06-25T08:15:00\",\"2021-06-25T08:30:00\",\"2021-06-25T08:45:00\",\"2021-06-25T09:00:00\",\"2021-06-25T09:15:00\",\"2021-06-25T09:30:00\",\"2021-06-25T09:45:00\",\"2021-06-25T10:00:00\",\"2021-06-25T10:15:00\",\"2021-06-25T10:30:00\",\"2021-06-25T10:45:00\",\"2021-06-25T11:00:00\",\"2021-06-25T11:15:00\",\"2021-06-25T11:30:00\",\"2021-06-25T11:45:00\",\"2021-06-25T12:00:00\",\"2021-06-25T12:15:00\",\"2021-06-25T12:30:00\",\"2021-06-25T12:45:00\",\"2021-06-25T13:00:00\",\"2021-06-25T13:15:00\",\"2021-06-25T13:30:00\",\"2021-06-25T13:45:00\",\"2021-06-25T14:00:00\",\"2021-06-25T14:15:00\",\"2021-06-25T14:30:00\",\"2021-06-25T14:45:00\",\"2021-06-25T15:00:00\",\"2021-06-25T15:15:00\",\"2021-06-25T15:30:00\",\"2021-06-25T15:45:00\",\"2021-06-25T16:00:00\",\"2021-06-25T16:15:00\",\"2021-06-25T16:30:00\",\"2021-06-25T16:45:00\",\"2021-06-25T17:00:00\",\"2021-06-25T17:15:00\",\"2021-06-25T17:30:00\",\"2021-06-25T17:45:00\",\"2021-06-25T18:00:00\",\"2021-06-25T18:15:00\",\"2021-06-25T18:30:00\",\"2021-06-25T18:45:00\",\"2021-06-25T19:00:00\",\"2021-06-25T19:15:00\",\"2021-06-25T19:30:00\",\"2021-06-25T19:45:00\",\"2021-06-25T20:00:00\",\"2021-06-25T20:15:00\",\"2021-06-25T20:30:00\",\"2021-06-25T20:45:00\",\"2021-06-25T21:00:00\",\"2021-06-25T21:15:00\",\"2021-06-25T21:30:00\",\"2021-06-25T21:45:00\",\"2021-06-28T00:00:00\",\"2021-06-28T00:15:00\",\"2021-06-28T00:30:00\",\"2021-06-28T00:45:00\",\"2021-06-28T01:00:00\",\"2021-06-28T01:15:00\",\"2021-06-28T01:30:00\",\"2021-06-28T01:45:00\",\"2021-06-28T02:00:00\",\"2021-06-28T02:15:00\",\"2021-06-28T02:30:00\",\"2021-06-28T02:45:00\",\"2021-06-28T03:00:00\",\"2021-06-28T03:15:00\",\"2021-06-28T03:30:00\",\"2021-06-28T03:45:00\",\"2021-06-28T04:00:00\",\"2021-06-28T04:15:00\",\"2021-06-28T04:30:00\",\"2021-06-28T04:45:00\",\"2021-06-28T05:00:00\",\"2021-06-28T05:15:00\",\"2021-06-28T05:30:00\",\"2021-06-28T05:45:00\",\"2021-06-28T06:00:00\",\"2021-06-28T06:15:00\",\"2021-06-28T06:30:00\",\"2021-06-28T06:45:00\",\"2021-06-28T07:00:00\",\"2021-06-28T07:15:00\",\"2021-06-28T07:30:00\",\"2021-06-28T07:45:00\",\"2021-06-28T08:00:00\",\"2021-06-28T08:15:00\",\"2021-06-28T08:30:00\",\"2021-06-28T08:45:00\",\"2021-06-28T09:00:00\",\"2021-06-28T09:15:00\",\"2021-06-28T09:30:00\",\"2021-06-28T09:45:00\",\"2021-06-28T10:00:00\",\"2021-06-28T10:15:00\",\"2021-06-28T10:30:00\",\"2021-06-28T10:45:00\",\"2021-06-28T11:00:00\",\"2021-06-28T11:15:00\",\"2021-06-28T11:30:00\",\"2021-06-28T11:45:00\",\"2021-06-28T12:00:00\",\"2021-06-28T12:15:00\",\"2021-06-28T12:30:00\",\"2021-06-28T12:45:00\",\"2021-06-28T13:00:00\",\"2021-06-28T13:15:00\",\"2021-06-28T13:30:00\",\"2021-06-28T13:45:00\",\"2021-06-28T14:00:00\",\"2021-06-28T14:15:00\",\"2021-06-28T14:30:00\",\"2021-06-28T14:45:00\",\"2021-06-28T15:00:00\",\"2021-06-28T15:15:00\",\"2021-06-28T15:30:00\",\"2021-06-28T15:45:00\",\"2021-06-28T16:00:00\",\"2021-06-28T16:15:00\",\"2021-06-28T16:30:00\",\"2021-06-28T16:45:00\",\"2021-06-28T17:00:00\",\"2021-06-28T17:15:00\",\"2021-06-28T17:30:00\",\"2021-06-28T17:45:00\",\"2021-06-28T18:00:00\",\"2021-06-28T18:15:00\",\"2021-06-28T18:30:00\",\"2021-06-28T18:45:00\",\"2021-06-28T19:00:00\",\"2021-06-28T19:15:00\",\"2021-06-28T19:30:00\",\"2021-06-28T19:45:00\",\"2021-06-28T20:00:00\",\"2021-06-28T20:15:00\",\"2021-06-28T20:30:00\",\"2021-06-28T20:45:00\",\"2021-06-28T21:00:00\",\"2021-06-28T21:15:00\",\"2021-06-28T21:30:00\",\"2021-06-28T21:45:00\",\"2021-06-28T22:00:00\",\"2021-06-28T22:15:00\",\"2021-06-28T22:30:00\",\"2021-06-28T22:45:00\",\"2021-06-28T23:00:00\",\"2021-06-28T23:15:00\",\"2021-06-28T23:30:00\",\"2021-06-28T23:45:00\",\"2021-06-29T00:00:00\",\"2021-06-29T00:15:00\",\"2021-06-29T00:30:00\",\"2021-06-29T00:45:00\",\"2021-06-29T01:00:00\",\"2021-06-29T01:15:00\",\"2021-06-29T01:30:00\",\"2021-06-29T01:45:00\",\"2021-06-29T02:00:00\",\"2021-06-29T02:15:00\",\"2021-06-29T02:30:00\",\"2021-06-29T02:45:00\",\"2021-06-29T03:00:00\",\"2021-06-29T03:15:00\",\"2021-06-29T03:30:00\",\"2021-06-29T03:45:00\",\"2021-06-29T04:00:00\",\"2021-06-29T04:15:00\",\"2021-06-29T04:30:00\",\"2021-06-29T04:45:00\",\"2021-06-29T05:00:00\",\"2021-06-29T05:15:00\",\"2021-06-29T05:30:00\",\"2021-06-29T05:45:00\",\"2021-06-29T06:00:00\",\"2021-06-29T06:15:00\",\"2021-06-29T06:30:00\",\"2021-06-29T06:45:00\",\"2021-06-29T07:00:00\",\"2021-06-29T07:15:00\",\"2021-06-29T07:30:00\",\"2021-06-29T07:45:00\",\"2021-06-29T08:00:00\",\"2021-06-29T08:15:00\",\"2021-06-29T08:30:00\",\"2021-06-29T08:45:00\",\"2021-06-29T09:00:00\",\"2021-06-29T09:15:00\",\"2021-06-29T09:30:00\",\"2021-06-29T09:45:00\",\"2021-06-29T10:00:00\",\"2021-06-29T10:15:00\",\"2021-06-29T10:30:00\",\"2021-06-29T10:45:00\",\"2021-06-29T11:00:00\",\"2021-06-29T11:15:00\",\"2021-06-29T11:30:00\",\"2021-06-29T11:45:00\",\"2021-06-29T12:00:00\",\"2021-06-29T12:15:00\",\"2021-06-29T12:30:00\",\"2021-06-29T12:45:00\",\"2021-06-29T13:00:00\",\"2021-06-29T13:15:00\",\"2021-06-29T13:30:00\",\"2021-06-29T13:45:00\",\"2021-06-29T14:00:00\",\"2021-06-29T14:15:00\",\"2021-06-29T14:30:00\",\"2021-06-29T14:45:00\",\"2021-06-29T15:00:00\",\"2021-06-29T15:15:00\",\"2021-06-29T15:30:00\",\"2021-06-29T15:45:00\",\"2021-06-29T16:00:00\",\"2021-06-29T16:15:00\",\"2021-06-29T16:30:00\",\"2021-06-29T16:45:00\",\"2021-06-29T17:00:00\",\"2021-06-29T17:15:00\",\"2021-06-29T17:30:00\",\"2021-06-29T17:45:00\",\"2021-06-29T18:00:00\",\"2021-06-29T18:15:00\",\"2021-06-29T18:30:00\",\"2021-06-29T18:45:00\",\"2021-06-29T19:00:00\",\"2021-06-29T19:15:00\",\"2021-06-29T19:30:00\",\"2021-06-29T19:45:00\",\"2021-06-29T20:00:00\",\"2021-06-29T20:15:00\",\"2021-06-29T20:30:00\",\"2021-06-29T20:45:00\",\"2021-06-29T21:00:00\",\"2021-06-29T21:15:00\",\"2021-06-29T21:30:00\",\"2021-06-29T21:45:00\",\"2021-06-29T22:00:00\",\"2021-06-29T22:15:00\",\"2021-06-29T22:30:00\",\"2021-06-29T22:45:00\",\"2021-06-29T23:00:00\",\"2021-06-29T23:15:00\",\"2021-06-29T23:30:00\",\"2021-06-29T23:45:00\",\"2021-06-30T00:00:00\",\"2021-06-30T00:15:00\",\"2021-06-30T00:30:00\",\"2021-06-30T00:45:00\",\"2021-06-30T01:00:00\",\"2021-06-30T01:15:00\",\"2021-06-30T01:30:00\",\"2021-06-30T01:45:00\",\"2021-06-30T02:00:00\",\"2021-06-30T02:15:00\",\"2021-06-30T02:30:00\",\"2021-06-30T02:45:00\",\"2021-06-30T03:00:00\",\"2021-06-30T03:15:00\",\"2021-06-30T03:30:00\",\"2021-06-30T03:45:00\",\"2021-06-30T04:00:00\",\"2021-06-30T04:15:00\",\"2021-06-30T04:30:00\",\"2021-06-30T04:45:00\",\"2021-06-30T05:00:00\",\"2021-06-30T05:15:00\",\"2021-06-30T05:30:00\",\"2021-06-30T05:45:00\",\"2021-06-30T06:00:00\",\"2021-06-30T06:15:00\",\"2021-06-30T06:30:00\",\"2021-06-30T06:45:00\",\"2021-06-30T07:00:00\",\"2021-06-30T07:15:00\",\"2021-06-30T07:30:00\",\"2021-06-30T07:45:00\",\"2021-06-30T08:00:00\",\"2021-06-30T08:15:00\",\"2021-06-30T08:30:00\",\"2021-06-30T08:45:00\",\"2021-06-30T09:00:00\",\"2021-06-30T09:15:00\",\"2021-06-30T09:30:00\",\"2021-06-30T09:45:00\",\"2021-06-30T10:00:00\",\"2021-06-30T10:15:00\",\"2021-06-30T10:30:00\",\"2021-06-30T10:45:00\",\"2021-06-30T11:00:00\",\"2021-06-30T11:15:00\",\"2021-06-30T11:30:00\",\"2021-06-30T11:45:00\",\"2021-06-30T12:00:00\",\"2021-06-30T12:15:00\",\"2021-06-30T12:30:00\",\"2021-06-30T12:45:00\",\"2021-06-30T13:00:00\",\"2021-06-30T13:15:00\",\"2021-06-30T13:30:00\",\"2021-06-30T13:45:00\",\"2021-06-30T14:00:00\",\"2021-06-30T14:15:00\",\"2021-06-30T14:30:00\",\"2021-06-30T14:45:00\",\"2021-06-30T15:00:00\",\"2021-06-30T15:15:00\",\"2021-06-30T15:30:00\",\"2021-06-30T15:45:00\",\"2021-06-30T16:00:00\",\"2021-06-30T16:15:00\",\"2021-06-30T16:30:00\",\"2021-06-30T16:45:00\",\"2021-06-30T17:00:00\",\"2021-06-30T17:15:00\",\"2021-06-30T17:30:00\",\"2021-06-30T17:45:00\",\"2021-06-30T18:00:00\",\"2021-06-30T18:15:00\",\"2021-06-30T18:30:00\",\"2021-06-30T18:45:00\",\"2021-06-30T19:00:00\",\"2021-06-30T19:15:00\",\"2021-06-30T19:30:00\",\"2021-06-30T19:45:00\",\"2021-06-30T20:00:00\",\"2021-06-30T20:15:00\",\"2021-06-30T20:30:00\",\"2021-06-30T20:45:00\",\"2021-06-30T21:00:00\",\"2021-06-30T21:15:00\",\"2021-06-30T21:30:00\",\"2021-06-30T21:45:00\",\"2021-06-30T22:00:00\",\"2021-06-30T22:15:00\",\"2021-06-30T22:30:00\",\"2021-06-30T22:45:00\",\"2021-06-30T23:00:00\",\"2021-06-30T23:15:00\",\"2021-06-30T23:30:00\",\"2021-06-30T23:45:00\",\"2021-07-01T00:00:00\",\"2021-07-01T00:15:00\",\"2021-07-01T00:30:00\",\"2021-07-01T00:45:00\",\"2021-07-01T01:00:00\",\"2021-07-01T01:15:00\",\"2021-07-01T01:30:00\",\"2021-07-01T01:45:00\",\"2021-07-01T02:00:00\",\"2021-07-01T02:15:00\",\"2021-07-01T02:30:00\",\"2021-07-01T02:45:00\",\"2021-07-01T03:00:00\",\"2021-07-01T03:15:00\",\"2021-07-01T03:30:00\",\"2021-07-01T03:45:00\",\"2021-07-01T04:00:00\",\"2021-07-01T04:15:00\",\"2021-07-01T04:30:00\",\"2021-07-01T04:45:00\",\"2021-07-01T05:00:00\",\"2021-07-01T05:15:00\",\"2021-07-01T05:30:00\",\"2021-07-01T05:45:00\",\"2021-07-01T06:00:00\",\"2021-07-01T06:15:00\",\"2021-07-01T06:30:00\",\"2021-07-01T06:45:00\",\"2021-07-01T07:00:00\",\"2021-07-01T07:15:00\",\"2021-07-01T07:30:00\",\"2021-07-01T07:45:00\",\"2021-07-01T08:00:00\",\"2021-07-01T08:15:00\",\"2021-07-01T08:30:00\",\"2021-07-01T08:45:00\",\"2021-07-01T09:00:00\",\"2021-07-01T09:15:00\",\"2021-07-01T09:30:00\",\"2021-07-01T09:45:00\",\"2021-07-01T10:00:00\",\"2021-07-01T10:15:00\",\"2021-07-01T10:30:00\",\"2021-07-01T10:45:00\",\"2021-07-01T11:00:00\",\"2021-07-01T11:15:00\",\"2021-07-01T11:30:00\",\"2021-07-01T11:45:00\",\"2021-07-01T12:00:00\",\"2021-07-01T12:15:00\",\"2021-07-01T12:30:00\",\"2021-07-01T12:45:00\",\"2021-07-01T13:00:00\",\"2021-07-01T13:15:00\",\"2021-07-01T13:30:00\",\"2021-07-01T13:45:00\",\"2021-07-01T14:00:00\",\"2021-07-01T14:15:00\",\"2021-07-01T14:30:00\",\"2021-07-01T14:45:00\",\"2021-07-01T15:00:00\",\"2021-07-01T15:15:00\",\"2021-07-01T15:30:00\",\"2021-07-01T15:45:00\",\"2021-07-01T16:00:00\",\"2021-07-01T16:15:00\",\"2021-07-01T16:30:00\",\"2021-07-01T16:45:00\",\"2021-07-01T17:00:00\",\"2021-07-01T17:15:00\",\"2021-07-01T17:30:00\",\"2021-07-01T17:45:00\",\"2021-07-01T18:00:00\",\"2021-07-01T18:15:00\",\"2021-07-01T18:30:00\",\"2021-07-01T18:45:00\",\"2021-07-01T19:00:00\",\"2021-07-01T19:15:00\",\"2021-07-01T19:30:00\",\"2021-07-01T19:45:00\",\"2021-07-01T20:00:00\",\"2021-07-01T20:15:00\",\"2021-07-01T20:30:00\",\"2021-07-01T20:45:00\",\"2021-07-01T21:00:00\",\"2021-07-01T21:15:00\",\"2021-07-01T21:30:00\",\"2021-07-01T21:45:00\",\"2021-07-01T22:00:00\",\"2021-07-01T22:15:00\",\"2021-07-01T22:30:00\",\"2021-07-01T22:45:00\",\"2021-07-01T23:00:00\",\"2021-07-01T23:15:00\",\"2021-07-01T23:30:00\",\"2021-07-01T23:45:00\",\"2021-07-02T00:00:00\",\"2021-07-02T00:15:00\",\"2021-07-02T00:30:00\",\"2021-07-02T00:45:00\",\"2021-07-02T01:00:00\",\"2021-07-02T01:15:00\",\"2021-07-02T01:30:00\",\"2021-07-02T01:45:00\",\"2021-07-02T02:00:00\",\"2021-07-02T02:15:00\",\"2021-07-02T02:30:00\",\"2021-07-02T02:45:00\",\"2021-07-02T03:00:00\",\"2021-07-02T03:15:00\",\"2021-07-02T03:30:00\",\"2021-07-02T03:45:00\",\"2021-07-02T04:00:00\",\"2021-07-02T04:15:00\",\"2021-07-02T04:30:00\",\"2021-07-02T04:45:00\",\"2021-07-02T05:00:00\",\"2021-07-02T05:15:00\",\"2021-07-02T05:30:00\",\"2021-07-02T05:45:00\",\"2021-07-02T06:00:00\",\"2021-07-02T06:15:00\",\"2021-07-02T06:30:00\",\"2021-07-02T06:45:00\",\"2021-07-02T07:00:00\",\"2021-07-02T07:15:00\",\"2021-07-02T07:30:00\",\"2021-07-02T07:45:00\",\"2021-07-02T08:00:00\",\"2021-07-02T08:15:00\",\"2021-07-02T08:30:00\",\"2021-07-02T08:45:00\",\"2021-07-02T09:00:00\",\"2021-07-02T09:15:00\",\"2021-07-02T09:30:00\",\"2021-07-02T09:45:00\",\"2021-07-02T10:00:00\",\"2021-07-02T10:15:00\",\"2021-07-02T10:30:00\",\"2021-07-02T10:45:00\",\"2021-07-02T11:00:00\",\"2021-07-02T11:15:00\",\"2021-07-02T11:30:00\",\"2021-07-02T11:45:00\",\"2021-07-02T12:00:00\"],\"y\":[null,null,null,null,null,null,null,null,null,null,null,null,null,null,null,null,null,null,null,null,null,null,null,null,null,null,null,null,null,1.8433633333333332,1.843435333333333,1.843285,1.8431676666666665,1.8432163333333333,1.8433076666666668,1.843404,1.8435236666666668,1.8435766666666666,1.843684333333333,1.8438496666666666,1.84399,1.844134,1.8441793333333332,1.8442319999999996,1.8442639999999997,1.8442876666666663,1.8443509999999996,1.8444313333333329,1.8444629999999997,1.844479333333333,1.8445256666666663,1.8445256666666663,1.8444693333333328,1.844411333333333,1.8443456666666662,1.844260333333333,1.844158666666666,1.8440363333333327,1.8439333333333328,1.8438133333333329,1.8436349999999995,1.8435869999999994,1.8435879999999996,1.8435069999999996,1.8434859999999995,1.8434446666666662,1.8434103333333327,1.8434359999999996,1.8433279999999996,1.8431949999999995,1.8430776666666662,1.8429396666666662,1.842888333333333,1.842872333333333,1.842836333333333,1.8428159999999998,1.8427619999999998,1.8425616666666664,1.8423869999999998,1.842241,1.8420866666666667,1.8420243333333333,1.8419969999999999,1.841983,1.841948,1.841917,1.8419023333333335,1.8418896666666669,1.8418723333333336,1.8419026666666667,1.8419133333333335,1.8418183333333336,1.8417593333333335,1.8416453333333334,1.8414906666666666,1.8413773333333334,1.841330666666667,1.841334666666667,1.8414033333333335,1.8414876666666669,1.8416036666666669,1.8417740000000002,1.8419156666666667,1.842011,1.8421556666666667,1.8422930000000002,1.8424613333333335,1.8427626666666668,1.843037,1.8433113333333335,1.8435703333333335,1.843798666666667,1.8439860000000003,1.8441753333333335,1.8443550000000002,1.8445326666666668,1.8446466666666668,1.8448056666666668,1.8449516666666668,1.845083,1.8452166666666667,1.8454393333333334,1.8456323333333333,1.8458856666666668,1.846103,1.8463016666666667,1.8464736666666668,1.8465269999999998,1.846647,1.846824,1.8469506666666669,1.8470333333333333,1.8471043333333335,1.8471773333333334,1.8472623333333333,1.8473313333333332,1.8474016666666666,1.8474226666666667,1.8474583333333334,1.8474886666666668,1.8475146666666666,1.8475096666666668,1.8475503333333336,1.847571666666667,1.8476026666666672,1.8476176666666673,1.847708666666667,1.8477546666666673,1.847798333333334,1.8477956666666675,1.8477766666666675,1.8477460000000008,1.8477383333333344,1.8477100000000009,1.847740000000001,1.847766333333334,1.8477410000000007,1.8477683333333343,1.8477500000000011,1.847692000000001,1.847653333333334,1.8476280000000007,1.8475730000000008,1.8475303333333342,1.8475200000000007,1.8475590000000008,1.847568000000001,1.8476240000000008,1.847667333333334,1.8476890000000006,1.8477096666666672,1.847748333333334,1.847791666666667,1.8478460000000003,1.8479223333333337,1.8480556666666672,1.8481746666666674,1.8483070000000006,1.8484720000000006,1.8486413333333338,1.848784333333334,1.8489040000000008,1.8489730000000006,1.8490626666666674,1.849108333333334,1.849146333333334,1.849219333333334,1.8493140000000006,1.8494330000000005,1.8495406666666672,1.849628333333334,1.8497176666666673,1.8497886666666672,1.8498673333333338,1.8499130000000006,1.8499413333333339,1.8500063333333339,1.8500440000000005,1.8500933333333338,1.8501493333333339,1.850174333333334,1.8501923333333339,1.8502140000000007,1.8502300000000005,1.850210666666667,1.8501123333333338,1.8499910000000002,1.8498820000000005,1.849746666666667,1.8496023333333336,1.8494800000000002,1.8494013333333335,1.8493670000000002,1.8493133333333336,1.8493380000000001,1.8493880000000005,1.849377666666667,1.849314666666667,1.849267666666667,1.8491943333333336,1.8492146666666671,1.8491983333333337,1.849255333333334,1.8493183333333338,1.849382333333334,1.8493856666666673,1.8493550000000005,1.8493146666666673,1.849289333333334,1.8492596666666674,1.849248333333334,1.849233333333334,1.8491876666666676,1.8491393333333341,1.849096000000001,1.8490683333333344,1.8490393333333344,1.8490136666666677,1.848972000000001,1.8489126666666678,1.8488456666666677,1.8487766666666678,1.8486973333333343,1.848613333333334,1.8484670000000007,1.8483103333333342,1.8481896666666675,1.8480983333333343,1.8480106666666678,1.8479480000000013,1.8478163333333344,1.8476833333333345,1.8475413333333344,1.847386333333334,1.847227333333334,1.847132333333334,1.8470476666666675,1.8469850000000008,1.8469196666666676,1.846821000000001,1.846745000000001,1.8466623333333343,1.8466170000000008,1.8465606666666676,1.8465106666666675,1.8464830000000008,1.8464396666666676,1.846418333333334,1.8464106666666673,1.8464500000000006,1.8465130000000007,1.8465230000000006,1.8465223333333336,1.846517666666667,1.8465040000000001,1.8464923333333336,1.8464793333333336,1.8465133333333335,1.8465213333333332,1.8465203333333335,1.8465160000000003,1.8465436666666668,1.8465463333333336,1.8465600000000004,1.8466070000000003,1.8466650000000004,1.846742666666667,1.8467766666666672,1.8468273333333338,1.8469546666666672,1.8470993333333336,1.847274666666667,1.847395666666667,1.847454666666667,1.847465666666667,1.8474583333333334,1.8474843333333335,1.8474520000000003,1.8474573333333337,1.847401666666667,1.847362666666667,1.8473933333333337,1.8473083333333338,1.8472533333333339,1.8472310000000005,1.8471840000000006,1.8471710000000006,1.847102333333334,1.847020333333334,1.8469666666666673,1.8469110000000009,1.8468656666666674,1.846823333333334,1.846796333333334,1.8467313333333342,1.8465666666666676,1.8463343333333342,1.8461553333333343,1.8459323333333342,1.8456236666666677,1.845296000000001,1.8449346666666675,1.8446110000000009,1.8443523333333343,1.8441783333333344,1.8440356666666675,1.8438960000000009,1.843790000000001,1.8436533333333343,1.8435740000000007,1.8434926666666673,1.8433730000000008,1.8433526666666677,1.8433203333333343,1.843257000000001,1.843241000000001,1.843188000000001,1.8431620000000009,1.843115333333334,1.8430560000000007,1.8430096666666673,1.8429476666666673,1.8428900000000008,1.8428000000000009,1.8426953333333345,1.8426443333333344,1.8426686666666678,1.842661000000001,1.8426920000000009,1.8427666666666676,1.8428186666666675,1.842922000000001,1.8430076666666677,1.8431003333333345,1.8431413333333344,1.843190000000001,1.843236666666668,1.8432763333333346,1.843323666666668,1.8433290000000013,1.8433076666666681,1.8432973333333347,1.843287000000001,1.8432616666666677,1.8432573333333344,1.843231666666668,1.8432026666666679,1.8431583333333346,1.8431680000000012,1.8431510000000013,1.8431233333333346,1.8431080000000013,1.8430760000000013,1.8430650000000015,1.8430760000000013,1.8430970000000013,1.8430940000000013,1.8430863333333347,1.843087666666668,1.843108666666668,1.8431513333333347,1.8431390000000012,1.8431070000000012,1.8430640000000014,1.843014666666668,1.8429450000000012,1.8428813333333345,1.8428236666666677,1.8427833333333343,1.8428050000000011,1.8428486666666677,1.8428756666666677,1.8429143333333344,1.842969666666668,1.843017000000001,1.8430176666666678,1.8430193333333342,1.8430363333333342,1.8430276666666676,1.8430306666666676,1.843035333333334,1.842849333333334,1.8426926666666674,1.8425070000000006,1.842259333333334,1.8419690000000004,1.8416710000000005,1.8414110000000006,1.8411686666666673,1.8408740000000003,1.840607333333334,1.8403556666666672,1.840099333333334,1.8398630000000005,1.8396506666666672,1.8394410000000005,1.8391756666666672,1.8389226666666674,1.838647333333334,1.838360333333334,1.838090000000001,1.8378133333333342,1.8375226666666675,1.8372546666666674,1.8369583333333341,1.8366976666666672,1.8364370000000008,1.836193333333334,1.835968333333334,1.8357630000000007,1.8355693333333343,1.8355700000000008,1.8355356666666676,1.8354976666666676,1.835512000000001,1.835584000000001,1.8356766666666677,1.8357376666666676,1.8357536666666678,1.835798666666668,1.8357573333333344,1.8357406666666678,1.8357333333333343,1.8357363333333343,1.835746000000001,1.8357436666666678,1.8357673333333342,1.8357943333333344,1.8358246666666675,1.8358400000000008,1.8358266666666672,1.835816333333334,1.8358196666666673,1.8357373333333342,1.8356736666666678,1.8356633333333343,1.8356453333333345,1.8356143333333346,1.8355540000000012,1.8355053333333344,1.8354660000000012,1.835400666666668,1.835344666666668,1.8353060000000014,1.8352870000000012,1.8352660000000012,1.8352086666666678,1.8351630000000012,1.8351003333333344,1.8350350000000013,1.8350180000000014,1.8349890000000013,1.8349856666666682,1.8349246666666683,1.8348693333333348,1.8348376666666681,1.8348060000000015,1.8347863333333347,1.8347483333333348,1.8346706666666681,1.8345746666666682,1.8344270000000016,1.834279666666668,1.8342083333333348,1.834086666666668,1.8339063333333347,1.8337650000000012,1.833628666666668,1.8335186666666676,1.8333763333333344,1.833238000000001,1.8331243333333342,1.833034000000001,1.832931000000001,1.8327856666666675,1.8326730000000009,1.832519000000001,1.8324086666666675,1.8323006666666677,1.8321613333333342,1.8320266666666674,1.831874333333334,1.8316516666666671,1.8314610000000007,1.8312416666666673,1.8309906666666675,1.830780333333334,1.8305540000000007,1.8304026666666675,1.8303280000000008,1.8302906666666674,1.8302846666666674,1.8302563333333342,1.8302343333333342,1.8302403333333344,1.830224000000001,1.8302076666666676,1.830199000000001,1.8302073333333344,1.830219000000001,1.8302006666666677,1.8301666666666678,1.8301180000000012,1.8300733333333346,1.830058666666668,1.8299930000000013,1.829953666666668,1.829867666666668,1.8297966666666678,1.8297583333333347,1.8296863333333349,1.8296293333333347,1.8296493333333348,1.829659666666668,1.829687666666668,1.8297236666666679,1.8297383333333348,1.8297683333333346,1.8297410000000012,1.829673000000001,1.829596000000001,1.8295713333333343,1.8295620000000012,1.8295323333333344,1.8295280000000012,1.8295343333333345,1.8295403333333344,1.8295346666666679,1.8295136666666678,1.8295196666666678,1.829487666666668,1.8294586666666677,1.8294413333333344,1.829431000000001,1.8294136666666676,1.8294026666666674,1.8294383333333342,1.8294870000000008,1.8295266666666674,1.8295800000000007,1.8296616666666672,1.829731333333334,1.8297973333333342,1.829854333333334,1.829931333333334,1.8300416666666672,1.8301496666666672,1.8302470000000006,1.8303743333333342,1.8305126666666676,1.830648000000001,1.8307823333333344,1.8309406666666674,1.8310476666666673,1.8311806666666672,1.8313503333333339,1.8315456666666672,1.8317103333333338,1.8318380000000005,1.8319576666666673,1.8321156666666671,1.8322616666666673,1.832376333333334,1.8324900000000006,1.832614333333334,1.8327370000000007,1.8328720000000007,1.833034333333334,1.8332656666666673,1.8335163333333342,1.8337883333333342,1.8340706666666675,1.8343096666666674,1.8345956666666676,1.8348426666666675,1.8350630000000008,1.8353050000000009,1.8355400000000008,1.8357156666666674,1.8358160000000008,1.8358516666666673,1.8358450000000006,1.8358330000000007,1.8358626666666673,1.8358800000000006,1.8359160000000008,1.8358906666666674,1.8359110000000007,1.8359370000000008,1.8359666666666674,1.8359790000000007,1.8360066666666672,1.8360493333333339,1.8360886666666674,1.8361193333333339,1.8361510000000008,1.8361466666666675,1.8361116666666673,1.8360076666666671,1.8358810000000005,1.835727333333334,1.8355716666666673,1.8354610000000007,1.8353233333333339,1.8351970000000004,1.8350453333333339,1.8348840000000004,1.8347000000000007,1.8345446666666672,1.8344820000000004,1.8344616666666669,1.8344653333333336,1.8344690000000006,1.834464333333334,1.8344460000000007,1.8343980000000006,1.8343506666666676,1.8343056666666675,1.834274333333334,1.8342010000000009,1.8341476666666676,1.8340883333333342,1.8340300000000012,1.8340016666666679,1.8339866666666678,1.8339946666666678,1.834015000000001,1.8340373333333346,1.8340730000000012,1.834135666666668,1.8341936666666678,1.8342593333333346,1.8342876666666679,1.834308000000001,1.834360000000001,1.8344240000000012,1.8344943333333346,1.8345576666666679,1.8346116666666679,1.8346330000000013,1.834642666666668,1.8346663333333346,1.8346620000000011,1.8346836666666677,1.834723000000001,1.8347763333333342,1.834851333333334,1.8349073333333341,1.8349736666666674,1.8350946666666672,1.8352230000000005,1.8353896666666674,1.835533333333334,1.835646666666667,1.8357866666666673,1.8359116666666673,1.836054666666667,1.8361910000000004,1.8363160000000005,1.836405333333334,1.8364720000000005,1.8365383333333338,1.8366586666666673,1.8367856666666673,1.8369210000000005,1.837064666666667,1.8372096666666669,1.8373813333333335,1.8375403333333336,1.8377063333333334,1.837842666666667,1.8379773333333338,1.8381763333333339,1.8383570000000007,1.8384636666666672,1.8385980000000004,1.838751666666667,1.8389220000000004,1.8390883333333337,1.8392183333333338,1.839359666666667,1.8394870000000003,1.839653,1.839835,1.8399393333333334,1.8400656666666668,1.8401846666666666,1.8403056666666666,1.8404426666666667,1.8405663333333335,1.840733,1.8408993333333332,1.8410393333333332,1.8411949999999997,1.8413309999999998,1.8414596666666665,1.841577,1.8416596666666665,1.8417643333333333,1.8418766666666668,1.841986,1.8420843333333332,1.8421143333333334,1.8421836666666667,1.8422676666666666,1.842362,1.8424216666666666,1.842467333333333,1.8425146666666665,1.8425489999999998,1.8425623333333332,1.842569,1.8425476666666663,1.8425209999999999,1.842539333333333,1.8425376666666662,1.8425526666666663,1.8425786666666661,1.842603333333333,1.8426329999999995,1.8426516666666661,1.842659333333333,1.842638333333333,1.842600333333333,1.8425309999999997,1.842468333333333,1.8423919999999996,1.8423356666666661,1.8422749999999994,1.8422089999999993,1.8421859999999992,1.8421916666666658,1.8421886666666656,1.8421629999999989,1.8421743333333322,1.8421393333333322,1.842131999999999,1.8421033333333325,1.8420566666666656,1.8420206666666656,1.8419249999999991,1.8418103333333324,1.8417203333333325,1.8416283333333325,1.8415499999999991,1.841490999999999,1.8415143333333326,1.8415243333333324,1.841559999999999,1.8415929999999991,1.841609666666666,1.8416593333333324,1.8418123333333325,1.8419526666666657,1.8421446666666659,1.8423273333333325,1.8425179999999992,1.8427209999999994,1.8429073333333326,1.8431079999999993,1.843320666666666,1.8434873333333326,1.8436913333333327,1.843893666666666,1.844026666666666,1.8440946666666662,1.8441563333333328,1.8441559999999992,1.8442643333333326,1.8443566666666662,1.8445003333333327,1.8446083333333327,1.8446316666666658,1.8447083333333325,1.8447703333333325,1.8448389999999992,1.8447686666666658,1.844675666666666,1.8445513333333325,1.844421666666666,1.8443303333333325,1.844188666666666,1.843989666666666,1.8438209999999993,1.8436506666666659,1.8434829999999993,1.8432903333333326,1.843092666666666,1.8429163333333327,1.8427096666666662,1.8425403333333328,1.8424219999999996,1.842342333333333,1.8422739999999995,1.8422816666666662,1.8423183333333328,1.842321333333333,1.8423733333333332,1.8423283333333331,1.842336333333333,1.8423079999999996,1.8423629999999998,1.8424956666666668,1.8425613333333333,1.842636,1.8426773333333335,1.8427630000000004,1.8428673333333336,1.8429760000000002,1.843135,1.8432626666666667,1.8434306666666667,1.8435693333333334,1.8436943333333333,1.843795,1.8438803333333333,1.8439866666666667,1.8440886666666667,1.8441956666666666,1.8443173333333331,1.84438,1.844421333333333,1.8444199999999997,1.844361333333333,1.8443276666666664,1.8443219999999996,1.844353333333333,1.844417333333333,1.8444766666666663,1.8444916666666664,1.8445793333333331,1.8446556666666665,1.8447286666666662,1.8448179999999998,1.8448843333333331,1.8449729999999998,1.8450206666666664,1.845013,1.8449753333333334,1.8449373333333334,1.84491,1.8448033333333336,1.8447170000000002,1.8445996666666669,1.8444470000000002,1.844316666666667,1.8441610000000002,1.8440033333333337,1.8438410000000005,1.843746333333334,1.8436696666666672,1.8435696666666672,1.8434600000000005,1.8433866666666672,1.8432943333333338,1.8431886666666673,1.8430426666666675,1.8428950000000008,1.842754333333334,1.8426026666666673,1.8424353333333339,1.8423053333333337,1.8421290000000003,1.8419463333333335,1.841779666666667,1.841600666666667,1.841431666666667,1.841363666666667,1.8413393333333337,1.8413000000000004,1.8413153333333336,1.8413853333333337,1.8414366666666668,1.8414670000000002,1.8415320000000002,1.8416196666666669,1.8417260000000004,1.8418210000000002,1.841928,1.841987,1.842056,1.8421336666666666,1.8421949999999998,1.8422433333333332,1.8423063333333332,1.8423516666666664,1.8424229999999997,1.8424929999999997,1.8425529999999997,1.8426479999999998,1.8427123333333333,1.8426963333333333,1.8427080000000002,1.842678666666667,1.8426973333333336,1.8427130000000003,1.842753666666667,1.8427760000000004,1.8427746666666671,1.8427590000000005,1.8426933333333337,1.8426493333333338,1.8426083333333338,1.8426063333333338,1.8426190000000005,1.8426243333333339,1.8426490000000006,1.842674333333334,1.8426986666666674,1.8426770000000008,1.8426480000000007,1.8426603333333342,1.8426943333333343,1.8427556666666676,1.8427900000000008,1.8428666666666673,1.842935333333334,1.8429946666666672,1.8430646666666672,1.8431263333333339,1.8432076666666672,1.8433010000000005,1.8434100000000007,1.843552333333334,1.8436440000000005,1.8437250000000003,1.8437870000000003,1.8438253333333336,1.8438750000000002,1.8439083333333335,1.843933,1.8439520000000003,1.8439620000000003,1.8440360000000002,1.8440913333333335,1.8441450000000001,1.844227,1.844299,1.844335,1.8443676666666666,1.8444463333333334,1.8444686666666668,1.844552,1.8446150000000001,1.844645,1.8446080000000002,1.8445503333333337,1.844437666666667,1.8443143333333336,1.8442073333333338,1.8441180000000004,1.8440203333333336,1.8439070000000004]},{\"line\":{\"color\":\"red\"},\"mode\":\"lines\",\"name\":\"MVS100\",\"type\":\"scatter\",\"x\":[\"2021-06-18T05:00:00\",\"2021-06-18T05:15:00\",\"2021-06-18T05:30:00\",\"2021-06-18T05:45:00\",\"2021-06-18T06:00:00\",\"2021-06-18T06:15:00\",\"2021-06-18T06:30:00\",\"2021-06-18T06:45:00\",\"2021-06-18T07:00:00\",\"2021-06-18T07:15:00\",\"2021-06-18T07:30:00\",\"2021-06-18T07:45:00\",\"2021-06-18T08:00:00\",\"2021-06-18T08:15:00\",\"2021-06-18T08:30:00\",\"2021-06-18T08:45:00\",\"2021-06-18T09:00:00\",\"2021-06-18T09:15:00\",\"2021-06-18T09:30:00\",\"2021-06-18T09:45:00\",\"2021-06-18T10:00:00\",\"2021-06-18T10:15:00\",\"2021-06-18T10:30:00\",\"2021-06-18T10:45:00\",\"2021-06-18T11:00:00\",\"2021-06-18T11:15:00\",\"2021-06-18T11:30:00\",\"2021-06-18T11:45:00\",\"2021-06-18T12:00:00\",\"2021-06-18T12:15:00\",\"2021-06-18T12:30:00\",\"2021-06-18T12:45:00\",\"2021-06-18T13:00:00\",\"2021-06-18T13:15:00\",\"2021-06-18T13:30:00\",\"2021-06-18T13:45:00\",\"2021-06-18T14:00:00\",\"2021-06-18T14:15:00\",\"2021-06-18T14:30:00\",\"2021-06-18T14:45:00\",\"2021-06-18T15:00:00\",\"2021-06-18T15:15:00\",\"2021-06-18T15:30:00\",\"2021-06-18T15:45:00\",\"2021-06-18T16:00:00\",\"2021-06-18T16:15:00\",\"2021-06-18T16:30:00\",\"2021-06-18T16:45:00\",\"2021-06-18T17:00:00\",\"2021-06-18T17:15:00\",\"2021-06-18T17:30:00\",\"2021-06-18T17:45:00\",\"2021-06-18T18:00:00\",\"2021-06-18T18:15:00\",\"2021-06-18T18:30:00\",\"2021-06-18T18:45:00\",\"2021-06-18T19:00:00\",\"2021-06-18T19:15:00\",\"2021-06-18T19:30:00\",\"2021-06-18T19:45:00\",\"2021-06-18T20:00:00\",\"2021-06-18T20:15:00\",\"2021-06-18T20:30:00\",\"2021-06-18T20:45:00\",\"2021-06-18T21:00:00\",\"2021-06-18T21:15:00\",\"2021-06-18T21:30:00\",\"2021-06-18T21:45:00\",\"2021-06-21T00:00:00\",\"2021-06-21T00:15:00\",\"2021-06-21T00:30:00\",\"2021-06-21T00:45:00\",\"2021-06-21T01:00:00\",\"2021-06-21T01:15:00\",\"2021-06-21T01:30:00\",\"2021-06-21T01:45:00\",\"2021-06-21T02:00:00\",\"2021-06-21T02:15:00\",\"2021-06-21T02:30:00\",\"2021-06-21T02:45:00\",\"2021-06-21T03:00:00\",\"2021-06-21T03:15:00\",\"2021-06-21T03:30:00\",\"2021-06-21T03:45:00\",\"2021-06-21T04:00:00\",\"2021-06-21T04:15:00\",\"2021-06-21T04:30:00\",\"2021-06-21T04:45:00\",\"2021-06-21T05:00:00\",\"2021-06-21T05:15:00\",\"2021-06-21T05:30:00\",\"2021-06-21T05:45:00\",\"2021-06-21T06:00:00\",\"2021-06-21T06:15:00\",\"2021-06-21T06:30:00\",\"2021-06-21T06:45:00\",\"2021-06-21T07:00:00\",\"2021-06-21T07:15:00\",\"2021-06-21T07:30:00\",\"2021-06-21T07:45:00\",\"2021-06-21T08:00:00\",\"2021-06-21T08:15:00\",\"2021-06-21T08:30:00\",\"2021-06-21T08:45:00\",\"2021-06-21T09:00:00\",\"2021-06-21T09:15:00\",\"2021-06-21T09:30:00\",\"2021-06-21T09:45:00\",\"2021-06-21T10:00:00\",\"2021-06-21T10:15:00\",\"2021-06-21T10:30:00\",\"2021-06-21T10:45:00\",\"2021-06-21T11:00:00\",\"2021-06-21T11:15:00\",\"2021-06-21T11:30:00\",\"2021-06-21T11:45:00\",\"2021-06-21T12:00:00\",\"2021-06-21T12:15:00\",\"2021-06-21T12:30:00\",\"2021-06-21T12:45:00\",\"2021-06-21T13:00:00\",\"2021-06-21T13:15:00\",\"2021-06-21T13:30:00\",\"2021-06-21T13:45:00\",\"2021-06-21T14:00:00\",\"2021-06-21T14:15:00\",\"2021-06-21T14:30:00\",\"2021-06-21T14:45:00\",\"2021-06-21T15:00:00\",\"2021-06-21T15:15:00\",\"2021-06-21T15:30:00\",\"2021-06-21T15:45:00\",\"2021-06-21T16:00:00\",\"2021-06-21T16:15:00\",\"2021-06-21T16:30:00\",\"2021-06-21T16:45:00\",\"2021-06-21T17:00:00\",\"2021-06-21T17:15:00\",\"2021-06-21T17:30:00\",\"2021-06-21T17:45:00\",\"2021-06-21T18:00:00\",\"2021-06-21T18:15:00\",\"2021-06-21T18:30:00\",\"2021-06-21T18:45:00\",\"2021-06-21T19:00:00\",\"2021-06-21T19:15:00\",\"2021-06-21T19:30:00\",\"2021-06-21T19:45:00\",\"2021-06-21T20:00:00\",\"2021-06-21T20:15:00\",\"2021-06-21T20:30:00\",\"2021-06-21T20:45:00\",\"2021-06-21T21:00:00\",\"2021-06-21T21:15:00\",\"2021-06-21T21:30:00\",\"2021-06-21T21:45:00\",\"2021-06-21T22:00:00\",\"2021-06-21T22:15:00\",\"2021-06-21T22:30:00\",\"2021-06-21T22:45:00\",\"2021-06-21T23:00:00\",\"2021-06-21T23:15:00\",\"2021-06-21T23:30:00\",\"2021-06-21T23:45:00\",\"2021-06-22T00:00:00\",\"2021-06-22T00:15:00\",\"2021-06-22T00:30:00\",\"2021-06-22T00:45:00\",\"2021-06-22T01:00:00\",\"2021-06-22T01:15:00\",\"2021-06-22T01:30:00\",\"2021-06-22T01:45:00\",\"2021-06-22T02:00:00\",\"2021-06-22T02:15:00\",\"2021-06-22T02:30:00\",\"2021-06-22T02:45:00\",\"2021-06-22T03:00:00\",\"2021-06-22T03:15:00\",\"2021-06-22T03:30:00\",\"2021-06-22T03:45:00\",\"2021-06-22T04:00:00\",\"2021-06-22T04:15:00\",\"2021-06-22T04:30:00\",\"2021-06-22T04:45:00\",\"2021-06-22T05:00:00\",\"2021-06-22T05:15:00\",\"2021-06-22T05:30:00\",\"2021-06-22T05:45:00\",\"2021-06-22T06:00:00\",\"2021-06-22T06:15:00\",\"2021-06-22T06:30:00\",\"2021-06-22T06:45:00\",\"2021-06-22T07:00:00\",\"2021-06-22T07:15:00\",\"2021-06-22T07:30:00\",\"2021-06-22T07:45:00\",\"2021-06-22T08:00:00\",\"2021-06-22T08:15:00\",\"2021-06-22T08:30:00\",\"2021-06-22T08:45:00\",\"2021-06-22T09:00:00\",\"2021-06-22T09:15:00\",\"2021-06-22T09:30:00\",\"2021-06-22T09:45:00\",\"2021-06-22T10:00:00\",\"2021-06-22T10:15:00\",\"2021-06-22T10:30:00\",\"2021-06-22T10:45:00\",\"2021-06-22T11:00:00\",\"2021-06-22T11:15:00\",\"2021-06-22T11:30:00\",\"2021-06-22T11:45:00\",\"2021-06-22T12:00:00\",\"2021-06-22T12:15:00\",\"2021-06-22T12:30:00\",\"2021-06-22T12:45:00\",\"2021-06-22T13:00:00\",\"2021-06-22T13:15:00\",\"2021-06-22T13:30:00\",\"2021-06-22T13:45:00\",\"2021-06-22T14:00:00\",\"2021-06-22T14:15:00\",\"2021-06-22T14:30:00\",\"2021-06-22T14:45:00\",\"2021-06-22T15:00:00\",\"2021-06-22T15:15:00\",\"2021-06-22T15:30:00\",\"2021-06-22T15:45:00\",\"2021-06-22T16:00:00\",\"2021-06-22T16:15:00\",\"2021-06-22T16:30:00\",\"2021-06-22T16:45:00\",\"2021-06-22T17:00:00\",\"2021-06-22T17:15:00\",\"2021-06-22T17:30:00\",\"2021-06-22T17:45:00\",\"2021-06-22T18:00:00\",\"2021-06-22T18:15:00\",\"2021-06-22T18:30:00\",\"2021-06-22T18:45:00\",\"2021-06-22T19:00:00\",\"2021-06-22T19:15:00\",\"2021-06-22T19:30:00\",\"2021-06-22T19:45:00\",\"2021-06-22T20:00:00\",\"2021-06-22T20:15:00\",\"2021-06-22T20:30:00\",\"2021-06-22T20:45:00\",\"2021-06-22T21:00:00\",\"2021-06-22T21:15:00\",\"2021-06-22T21:30:00\",\"2021-06-22T21:45:00\",\"2021-06-22T22:00:00\",\"2021-06-22T22:15:00\",\"2021-06-22T22:30:00\",\"2021-06-22T22:45:00\",\"2021-06-22T23:00:00\",\"2021-06-22T23:15:00\",\"2021-06-22T23:30:00\",\"2021-06-22T23:45:00\",\"2021-06-23T00:00:00\",\"2021-06-23T00:15:00\",\"2021-06-23T00:30:00\",\"2021-06-23T00:45:00\",\"2021-06-23T01:00:00\",\"2021-06-23T01:15:00\",\"2021-06-23T01:30:00\",\"2021-06-23T01:45:00\",\"2021-06-23T02:00:00\",\"2021-06-23T02:15:00\",\"2021-06-23T02:30:00\",\"2021-06-23T02:45:00\",\"2021-06-23T03:00:00\",\"2021-06-23T03:15:00\",\"2021-06-23T03:30:00\",\"2021-06-23T03:45:00\",\"2021-06-23T04:00:00\",\"2021-06-23T04:15:00\",\"2021-06-23T04:30:00\",\"2021-06-23T04:45:00\",\"2021-06-23T05:00:00\",\"2021-06-23T05:15:00\",\"2021-06-23T05:30:00\",\"2021-06-23T05:45:00\",\"2021-06-23T06:00:00\",\"2021-06-23T06:15:00\",\"2021-06-23T06:30:00\",\"2021-06-23T06:45:00\",\"2021-06-23T07:00:00\",\"2021-06-23T07:15:00\",\"2021-06-23T07:30:00\",\"2021-06-23T07:45:00\",\"2021-06-23T08:00:00\",\"2021-06-23T08:15:00\",\"2021-06-23T08:30:00\",\"2021-06-23T08:45:00\",\"2021-06-23T09:00:00\",\"2021-06-23T09:15:00\",\"2021-06-23T09:30:00\",\"2021-06-23T09:45:00\",\"2021-06-23T10:00:00\",\"2021-06-23T10:15:00\",\"2021-06-23T10:30:00\",\"2021-06-23T10:45:00\",\"2021-06-23T11:00:00\",\"2021-06-23T11:15:00\",\"2021-06-23T11:30:00\",\"2021-06-23T11:45:00\",\"2021-06-23T12:00:00\",\"2021-06-23T12:15:00\",\"2021-06-23T12:30:00\",\"2021-06-23T12:45:00\",\"2021-06-23T13:00:00\",\"2021-06-23T13:15:00\",\"2021-06-23T13:30:00\",\"2021-06-23T13:45:00\",\"2021-06-23T14:00:00\",\"2021-06-23T14:15:00\",\"2021-06-23T14:30:00\",\"2021-06-23T14:45:00\",\"2021-06-23T15:00:00\",\"2021-06-23T15:15:00\",\"2021-06-23T15:30:00\",\"2021-06-23T15:45:00\",\"2021-06-23T16:00:00\",\"2021-06-23T16:15:00\",\"2021-06-23T16:30:00\",\"2021-06-23T16:45:00\",\"2021-06-23T17:00:00\",\"2021-06-23T17:15:00\",\"2021-06-23T17:30:00\",\"2021-06-23T17:45:00\",\"2021-06-23T18:00:00\",\"2021-06-23T18:15:00\",\"2021-06-23T18:30:00\",\"2021-06-23T18:45:00\",\"2021-06-23T19:00:00\",\"2021-06-23T19:15:00\",\"2021-06-23T19:30:00\",\"2021-06-23T19:45:00\",\"2021-06-23T20:00:00\",\"2021-06-23T20:15:00\",\"2021-06-23T20:30:00\",\"2021-06-23T20:45:00\",\"2021-06-23T21:00:00\",\"2021-06-23T21:15:00\",\"2021-06-23T21:30:00\",\"2021-06-23T21:45:00\",\"2021-06-23T22:00:00\",\"2021-06-23T22:15:00\",\"2021-06-23T22:30:00\",\"2021-06-23T22:45:00\",\"2021-06-23T23:00:00\",\"2021-06-23T23:15:00\",\"2021-06-23T23:30:00\",\"2021-06-23T23:45:00\",\"2021-06-24T00:00:00\",\"2021-06-24T00:15:00\",\"2021-06-24T00:30:00\",\"2021-06-24T00:45:00\",\"2021-06-24T01:00:00\",\"2021-06-24T01:15:00\",\"2021-06-24T01:30:00\",\"2021-06-24T01:45:00\",\"2021-06-24T02:00:00\",\"2021-06-24T02:15:00\",\"2021-06-24T02:30:00\",\"2021-06-24T02:45:00\",\"2021-06-24T03:00:00\",\"2021-06-24T03:15:00\",\"2021-06-24T03:30:00\",\"2021-06-24T03:45:00\",\"2021-06-24T04:00:00\",\"2021-06-24T04:15:00\",\"2021-06-24T04:30:00\",\"2021-06-24T04:45:00\",\"2021-06-24T05:00:00\",\"2021-06-24T05:15:00\",\"2021-06-24T05:30:00\",\"2021-06-24T05:45:00\",\"2021-06-24T06:00:00\",\"2021-06-24T06:15:00\",\"2021-06-24T06:30:00\",\"2021-06-24T06:45:00\",\"2021-06-24T07:00:00\",\"2021-06-24T07:15:00\",\"2021-06-24T07:30:00\",\"2021-06-24T07:45:00\",\"2021-06-24T08:00:00\",\"2021-06-24T08:15:00\",\"2021-06-24T08:30:00\",\"2021-06-24T08:45:00\",\"2021-06-24T09:00:00\",\"2021-06-24T09:15:00\",\"2021-06-24T09:30:00\",\"2021-06-24T09:45:00\",\"2021-06-24T10:00:00\",\"2021-06-24T10:15:00\",\"2021-06-24T10:30:00\",\"2021-06-24T10:45:00\",\"2021-06-24T11:00:00\",\"2021-06-24T11:15:00\",\"2021-06-24T11:30:00\",\"2021-06-24T11:45:00\",\"2021-06-24T12:00:00\",\"2021-06-24T12:15:00\",\"2021-06-24T12:30:00\",\"2021-06-24T12:45:00\",\"2021-06-24T13:00:00\",\"2021-06-24T13:15:00\",\"2021-06-24T13:30:00\",\"2021-06-24T13:45:00\",\"2021-06-24T14:00:00\",\"2021-06-24T14:15:00\",\"2021-06-24T14:30:00\",\"2021-06-24T14:45:00\",\"2021-06-24T15:00:00\",\"2021-06-24T15:15:00\",\"2021-06-24T15:30:00\",\"2021-06-24T15:45:00\",\"2021-06-24T16:00:00\",\"2021-06-24T16:15:00\",\"2021-06-24T16:30:00\",\"2021-06-24T16:45:00\",\"2021-06-24T17:00:00\",\"2021-06-24T17:15:00\",\"2021-06-24T17:30:00\",\"2021-06-24T17:45:00\",\"2021-06-24T18:00:00\",\"2021-06-24T18:15:00\",\"2021-06-24T18:30:00\",\"2021-06-24T18:45:00\",\"2021-06-24T19:00:00\",\"2021-06-24T19:15:00\",\"2021-06-24T19:30:00\",\"2021-06-24T19:45:00\",\"2021-06-24T20:00:00\",\"2021-06-24T20:15:00\",\"2021-06-24T20:30:00\",\"2021-06-24T20:45:00\",\"2021-06-24T21:00:00\",\"2021-06-24T21:15:00\",\"2021-06-24T21:30:00\",\"2021-06-24T21:45:00\",\"2021-06-24T22:00:00\",\"2021-06-24T22:15:00\",\"2021-06-24T22:30:00\",\"2021-06-24T22:45:00\",\"2021-06-24T23:00:00\",\"2021-06-24T23:15:00\",\"2021-06-24T23:30:00\",\"2021-06-24T23:45:00\",\"2021-06-25T00:00:00\",\"2021-06-25T00:15:00\",\"2021-06-25T00:30:00\",\"2021-06-25T00:45:00\",\"2021-06-25T01:00:00\",\"2021-06-25T01:15:00\",\"2021-06-25T01:30:00\",\"2021-06-25T01:45:00\",\"2021-06-25T02:00:00\",\"2021-06-25T02:15:00\",\"2021-06-25T02:30:00\",\"2021-06-25T02:45:00\",\"2021-06-25T03:00:00\",\"2021-06-25T03:15:00\",\"2021-06-25T03:30:00\",\"2021-06-25T03:45:00\",\"2021-06-25T04:00:00\",\"2021-06-25T04:15:00\",\"2021-06-25T04:30:00\",\"2021-06-25T04:45:00\",\"2021-06-25T05:00:00\",\"2021-06-25T05:15:00\",\"2021-06-25T05:30:00\",\"2021-06-25T05:45:00\",\"2021-06-25T06:00:00\",\"2021-06-25T06:15:00\",\"2021-06-25T06:30:00\",\"2021-06-25T06:45:00\",\"2021-06-25T07:00:00\",\"2021-06-25T07:15:00\",\"2021-06-25T07:30:00\",\"2021-06-25T07:45:00\",\"2021-06-25T08:00:00\",\"2021-06-25T08:15:00\",\"2021-06-25T08:30:00\",\"2021-06-25T08:45:00\",\"2021-06-25T09:00:00\",\"2021-06-25T09:15:00\",\"2021-06-25T09:30:00\",\"2021-06-25T09:45:00\",\"2021-06-25T10:00:00\",\"2021-06-25T10:15:00\",\"2021-06-25T10:30:00\",\"2021-06-25T10:45:00\",\"2021-06-25T11:00:00\",\"2021-06-25T11:15:00\",\"2021-06-25T11:30:00\",\"2021-06-25T11:45:00\",\"2021-06-25T12:00:00\",\"2021-06-25T12:15:00\",\"2021-06-25T12:30:00\",\"2021-06-25T12:45:00\",\"2021-06-25T13:00:00\",\"2021-06-25T13:15:00\",\"2021-06-25T13:30:00\",\"2021-06-25T13:45:00\",\"2021-06-25T14:00:00\",\"2021-06-25T14:15:00\",\"2021-06-25T14:30:00\",\"2021-06-25T14:45:00\",\"2021-06-25T15:00:00\",\"2021-06-25T15:15:00\",\"2021-06-25T15:30:00\",\"2021-06-25T15:45:00\",\"2021-06-25T16:00:00\",\"2021-06-25T16:15:00\",\"2021-06-25T16:30:00\",\"2021-06-25T16:45:00\",\"2021-06-25T17:00:00\",\"2021-06-25T17:15:00\",\"2021-06-25T17:30:00\",\"2021-06-25T17:45:00\",\"2021-06-25T18:00:00\",\"2021-06-25T18:15:00\",\"2021-06-25T18:30:00\",\"2021-06-25T18:45:00\",\"2021-06-25T19:00:00\",\"2021-06-25T19:15:00\",\"2021-06-25T19:30:00\",\"2021-06-25T19:45:00\",\"2021-06-25T20:00:00\",\"2021-06-25T20:15:00\",\"2021-06-25T20:30:00\",\"2021-06-25T20:45:00\",\"2021-06-25T21:00:00\",\"2021-06-25T21:15:00\",\"2021-06-25T21:30:00\",\"2021-06-25T21:45:00\",\"2021-06-28T00:00:00\",\"2021-06-28T00:15:00\",\"2021-06-28T00:30:00\",\"2021-06-28T00:45:00\",\"2021-06-28T01:00:00\",\"2021-06-28T01:15:00\",\"2021-06-28T01:30:00\",\"2021-06-28T01:45:00\",\"2021-06-28T02:00:00\",\"2021-06-28T02:15:00\",\"2021-06-28T02:30:00\",\"2021-06-28T02:45:00\",\"2021-06-28T03:00:00\",\"2021-06-28T03:15:00\",\"2021-06-28T03:30:00\",\"2021-06-28T03:45:00\",\"2021-06-28T04:00:00\",\"2021-06-28T04:15:00\",\"2021-06-28T04:30:00\",\"2021-06-28T04:45:00\",\"2021-06-28T05:00:00\",\"2021-06-28T05:15:00\",\"2021-06-28T05:30:00\",\"2021-06-28T05:45:00\",\"2021-06-28T06:00:00\",\"2021-06-28T06:15:00\",\"2021-06-28T06:30:00\",\"2021-06-28T06:45:00\",\"2021-06-28T07:00:00\",\"2021-06-28T07:15:00\",\"2021-06-28T07:30:00\",\"2021-06-28T07:45:00\",\"2021-06-28T08:00:00\",\"2021-06-28T08:15:00\",\"2021-06-28T08:30:00\",\"2021-06-28T08:45:00\",\"2021-06-28T09:00:00\",\"2021-06-28T09:15:00\",\"2021-06-28T09:30:00\",\"2021-06-28T09:45:00\",\"2021-06-28T10:00:00\",\"2021-06-28T10:15:00\",\"2021-06-28T10:30:00\",\"2021-06-28T10:45:00\",\"2021-06-28T11:00:00\",\"2021-06-28T11:15:00\",\"2021-06-28T11:30:00\",\"2021-06-28T11:45:00\",\"2021-06-28T12:00:00\",\"2021-06-28T12:15:00\",\"2021-06-28T12:30:00\",\"2021-06-28T12:45:00\",\"2021-06-28T13:00:00\",\"2021-06-28T13:15:00\",\"2021-06-28T13:30:00\",\"2021-06-28T13:45:00\",\"2021-06-28T14:00:00\",\"2021-06-28T14:15:00\",\"2021-06-28T14:30:00\",\"2021-06-28T14:45:00\",\"2021-06-28T15:00:00\",\"2021-06-28T15:15:00\",\"2021-06-28T15:30:00\",\"2021-06-28T15:45:00\",\"2021-06-28T16:00:00\",\"2021-06-28T16:15:00\",\"2021-06-28T16:30:00\",\"2021-06-28T16:45:00\",\"2021-06-28T17:00:00\",\"2021-06-28T17:15:00\",\"2021-06-28T17:30:00\",\"2021-06-28T17:45:00\",\"2021-06-28T18:00:00\",\"2021-06-28T18:15:00\",\"2021-06-28T18:30:00\",\"2021-06-28T18:45:00\",\"2021-06-28T19:00:00\",\"2021-06-28T19:15:00\",\"2021-06-28T19:30:00\",\"2021-06-28T19:45:00\",\"2021-06-28T20:00:00\",\"2021-06-28T20:15:00\",\"2021-06-28T20:30:00\",\"2021-06-28T20:45:00\",\"2021-06-28T21:00:00\",\"2021-06-28T21:15:00\",\"2021-06-28T21:30:00\",\"2021-06-28T21:45:00\",\"2021-06-28T22:00:00\",\"2021-06-28T22:15:00\",\"2021-06-28T22:30:00\",\"2021-06-28T22:45:00\",\"2021-06-28T23:00:00\",\"2021-06-28T23:15:00\",\"2021-06-28T23:30:00\",\"2021-06-28T23:45:00\",\"2021-06-29T00:00:00\",\"2021-06-29T00:15:00\",\"2021-06-29T00:30:00\",\"2021-06-29T00:45:00\",\"2021-06-29T01:00:00\",\"2021-06-29T01:15:00\",\"2021-06-29T01:30:00\",\"2021-06-29T01:45:00\",\"2021-06-29T02:00:00\",\"2021-06-29T02:15:00\",\"2021-06-29T02:30:00\",\"2021-06-29T02:45:00\",\"2021-06-29T03:00:00\",\"2021-06-29T03:15:00\",\"2021-06-29T03:30:00\",\"2021-06-29T03:45:00\",\"2021-06-29T04:00:00\",\"2021-06-29T04:15:00\",\"2021-06-29T04:30:00\",\"2021-06-29T04:45:00\",\"2021-06-29T05:00:00\",\"2021-06-29T05:15:00\",\"2021-06-29T05:30:00\",\"2021-06-29T05:45:00\",\"2021-06-29T06:00:00\",\"2021-06-29T06:15:00\",\"2021-06-29T06:30:00\",\"2021-06-29T06:45:00\",\"2021-06-29T07:00:00\",\"2021-06-29T07:15:00\",\"2021-06-29T07:30:00\",\"2021-06-29T07:45:00\",\"2021-06-29T08:00:00\",\"2021-06-29T08:15:00\",\"2021-06-29T08:30:00\",\"2021-06-29T08:45:00\",\"2021-06-29T09:00:00\",\"2021-06-29T09:15:00\",\"2021-06-29T09:30:00\",\"2021-06-29T09:45:00\",\"2021-06-29T10:00:00\",\"2021-06-29T10:15:00\",\"2021-06-29T10:30:00\",\"2021-06-29T10:45:00\",\"2021-06-29T11:00:00\",\"2021-06-29T11:15:00\",\"2021-06-29T11:30:00\",\"2021-06-29T11:45:00\",\"2021-06-29T12:00:00\",\"2021-06-29T12:15:00\",\"2021-06-29T12:30:00\",\"2021-06-29T12:45:00\",\"2021-06-29T13:00:00\",\"2021-06-29T13:15:00\",\"2021-06-29T13:30:00\",\"2021-06-29T13:45:00\",\"2021-06-29T14:00:00\",\"2021-06-29T14:15:00\",\"2021-06-29T14:30:00\",\"2021-06-29T14:45:00\",\"2021-06-29T15:00:00\",\"2021-06-29T15:15:00\",\"2021-06-29T15:30:00\",\"2021-06-29T15:45:00\",\"2021-06-29T16:00:00\",\"2021-06-29T16:15:00\",\"2021-06-29T16:30:00\",\"2021-06-29T16:45:00\",\"2021-06-29T17:00:00\",\"2021-06-29T17:15:00\",\"2021-06-29T17:30:00\",\"2021-06-29T17:45:00\",\"2021-06-29T18:00:00\",\"2021-06-29T18:15:00\",\"2021-06-29T18:30:00\",\"2021-06-29T18:45:00\",\"2021-06-29T19:00:00\",\"2021-06-29T19:15:00\",\"2021-06-29T19:30:00\",\"2021-06-29T19:45:00\",\"2021-06-29T20:00:00\",\"2021-06-29T20:15:00\",\"2021-06-29T20:30:00\",\"2021-06-29T20:45:00\",\"2021-06-29T21:00:00\",\"2021-06-29T21:15:00\",\"2021-06-29T21:30:00\",\"2021-06-29T21:45:00\",\"2021-06-29T22:00:00\",\"2021-06-29T22:15:00\",\"2021-06-29T22:30:00\",\"2021-06-29T22:45:00\",\"2021-06-29T23:00:00\",\"2021-06-29T23:15:00\",\"2021-06-29T23:30:00\",\"2021-06-29T23:45:00\",\"2021-06-30T00:00:00\",\"2021-06-30T00:15:00\",\"2021-06-30T00:30:00\",\"2021-06-30T00:45:00\",\"2021-06-30T01:00:00\",\"2021-06-30T01:15:00\",\"2021-06-30T01:30:00\",\"2021-06-30T01:45:00\",\"2021-06-30T02:00:00\",\"2021-06-30T02:15:00\",\"2021-06-30T02:30:00\",\"2021-06-30T02:45:00\",\"2021-06-30T03:00:00\",\"2021-06-30T03:15:00\",\"2021-06-30T03:30:00\",\"2021-06-30T03:45:00\",\"2021-06-30T04:00:00\",\"2021-06-30T04:15:00\",\"2021-06-30T04:30:00\",\"2021-06-30T04:45:00\",\"2021-06-30T05:00:00\",\"2021-06-30T05:15:00\",\"2021-06-30T05:30:00\",\"2021-06-30T05:45:00\",\"2021-06-30T06:00:00\",\"2021-06-30T06:15:00\",\"2021-06-30T06:30:00\",\"2021-06-30T06:45:00\",\"2021-06-30T07:00:00\",\"2021-06-30T07:15:00\",\"2021-06-30T07:30:00\",\"2021-06-30T07:45:00\",\"2021-06-30T08:00:00\",\"2021-06-30T08:15:00\",\"2021-06-30T08:30:00\",\"2021-06-30T08:45:00\",\"2021-06-30T09:00:00\",\"2021-06-30T09:15:00\",\"2021-06-30T09:30:00\",\"2021-06-30T09:45:00\",\"2021-06-30T10:00:00\",\"2021-06-30T10:15:00\",\"2021-06-30T10:30:00\",\"2021-06-30T10:45:00\",\"2021-06-30T11:00:00\",\"2021-06-30T11:15:00\",\"2021-06-30T11:30:00\",\"2021-06-30T11:45:00\",\"2021-06-30T12:00:00\",\"2021-06-30T12:15:00\",\"2021-06-30T12:30:00\",\"2021-06-30T12:45:00\",\"2021-06-30T13:00:00\",\"2021-06-30T13:15:00\",\"2021-06-30T13:30:00\",\"2021-06-30T13:45:00\",\"2021-06-30T14:00:00\",\"2021-06-30T14:15:00\",\"2021-06-30T14:30:00\",\"2021-06-30T14:45:00\",\"2021-06-30T15:00:00\",\"2021-06-30T15:15:00\",\"2021-06-30T15:30:00\",\"2021-06-30T15:45:00\",\"2021-06-30T16:00:00\",\"2021-06-30T16:15:00\",\"2021-06-30T16:30:00\",\"2021-06-30T16:45:00\",\"2021-06-30T17:00:00\",\"2021-06-30T17:15:00\",\"2021-06-30T17:30:00\",\"2021-06-30T17:45:00\",\"2021-06-30T18:00:00\",\"2021-06-30T18:15:00\",\"2021-06-30T18:30:00\",\"2021-06-30T18:45:00\",\"2021-06-30T19:00:00\",\"2021-06-30T19:15:00\",\"2021-06-30T19:30:00\",\"2021-06-30T19:45:00\",\"2021-06-30T20:00:00\",\"2021-06-30T20:15:00\",\"2021-06-30T20:30:00\",\"2021-06-30T20:45:00\",\"2021-06-30T21:00:00\",\"2021-06-30T21:15:00\",\"2021-06-30T21:30:00\",\"2021-06-30T21:45:00\",\"2021-06-30T22:00:00\",\"2021-06-30T22:15:00\",\"2021-06-30T22:30:00\",\"2021-06-30T22:45:00\",\"2021-06-30T23:00:00\",\"2021-06-30T23:15:00\",\"2021-06-30T23:30:00\",\"2021-06-30T23:45:00\",\"2021-07-01T00:00:00\",\"2021-07-01T00:15:00\",\"2021-07-01T00:30:00\",\"2021-07-01T00:45:00\",\"2021-07-01T01:00:00\",\"2021-07-01T01:15:00\",\"2021-07-01T01:30:00\",\"2021-07-01T01:45:00\",\"2021-07-01T02:00:00\",\"2021-07-01T02:15:00\",\"2021-07-01T02:30:00\",\"2021-07-01T02:45:00\",\"2021-07-01T03:00:00\",\"2021-07-01T03:15:00\",\"2021-07-01T03:30:00\",\"2021-07-01T03:45:00\",\"2021-07-01T04:00:00\",\"2021-07-01T04:15:00\",\"2021-07-01T04:30:00\",\"2021-07-01T04:45:00\",\"2021-07-01T05:00:00\",\"2021-07-01T05:15:00\",\"2021-07-01T05:30:00\",\"2021-07-01T05:45:00\",\"2021-07-01T06:00:00\",\"2021-07-01T06:15:00\",\"2021-07-01T06:30:00\",\"2021-07-01T06:45:00\",\"2021-07-01T07:00:00\",\"2021-07-01T07:15:00\",\"2021-07-01T07:30:00\",\"2021-07-01T07:45:00\",\"2021-07-01T08:00:00\",\"2021-07-01T08:15:00\",\"2021-07-01T08:30:00\",\"2021-07-01T08:45:00\",\"2021-07-01T09:00:00\",\"2021-07-01T09:15:00\",\"2021-07-01T09:30:00\",\"2021-07-01T09:45:00\",\"2021-07-01T10:00:00\",\"2021-07-01T10:15:00\",\"2021-07-01T10:30:00\",\"2021-07-01T10:45:00\",\"2021-07-01T11:00:00\",\"2021-07-01T11:15:00\",\"2021-07-01T11:30:00\",\"2021-07-01T11:45:00\",\"2021-07-01T12:00:00\",\"2021-07-01T12:15:00\",\"2021-07-01T12:30:00\",\"2021-07-01T12:45:00\",\"2021-07-01T13:00:00\",\"2021-07-01T13:15:00\",\"2021-07-01T13:30:00\",\"2021-07-01T13:45:00\",\"2021-07-01T14:00:00\",\"2021-07-01T14:15:00\",\"2021-07-01T14:30:00\",\"2021-07-01T14:45:00\",\"2021-07-01T15:00:00\",\"2021-07-01T15:15:00\",\"2021-07-01T15:30:00\",\"2021-07-01T15:45:00\",\"2021-07-01T16:00:00\",\"2021-07-01T16:15:00\",\"2021-07-01T16:30:00\",\"2021-07-01T16:45:00\",\"2021-07-01T17:00:00\",\"2021-07-01T17:15:00\",\"2021-07-01T17:30:00\",\"2021-07-01T17:45:00\",\"2021-07-01T18:00:00\",\"2021-07-01T18:15:00\",\"2021-07-01T18:30:00\",\"2021-07-01T18:45:00\",\"2021-07-01T19:00:00\",\"2021-07-01T19:15:00\",\"2021-07-01T19:30:00\",\"2021-07-01T19:45:00\",\"2021-07-01T20:00:00\",\"2021-07-01T20:15:00\",\"2021-07-01T20:30:00\",\"2021-07-01T20:45:00\",\"2021-07-01T21:00:00\",\"2021-07-01T21:15:00\",\"2021-07-01T21:30:00\",\"2021-07-01T21:45:00\",\"2021-07-01T22:00:00\",\"2021-07-01T22:15:00\",\"2021-07-01T22:30:00\",\"2021-07-01T22:45:00\",\"2021-07-01T23:00:00\",\"2021-07-01T23:15:00\",\"2021-07-01T23:30:00\",\"2021-07-01T23:45:00\",\"2021-07-02T00:00:00\",\"2021-07-02T00:15:00\",\"2021-07-02T00:30:00\",\"2021-07-02T00:45:00\",\"2021-07-02T01:00:00\",\"2021-07-02T01:15:00\",\"2021-07-02T01:30:00\",\"2021-07-02T01:45:00\",\"2021-07-02T02:00:00\",\"2021-07-02T02:15:00\",\"2021-07-02T02:30:00\",\"2021-07-02T02:45:00\",\"2021-07-02T03:00:00\",\"2021-07-02T03:15:00\",\"2021-07-02T03:30:00\",\"2021-07-02T03:45:00\",\"2021-07-02T04:00:00\",\"2021-07-02T04:15:00\",\"2021-07-02T04:30:00\",\"2021-07-02T04:45:00\",\"2021-07-02T05:00:00\",\"2021-07-02T05:15:00\",\"2021-07-02T05:30:00\",\"2021-07-02T05:45:00\",\"2021-07-02T06:00:00\",\"2021-07-02T06:15:00\",\"2021-07-02T06:30:00\",\"2021-07-02T06:45:00\",\"2021-07-02T07:00:00\",\"2021-07-02T07:15:00\",\"2021-07-02T07:30:00\",\"2021-07-02T07:45:00\",\"2021-07-02T08:00:00\",\"2021-07-02T08:15:00\",\"2021-07-02T08:30:00\",\"2021-07-02T08:45:00\",\"2021-07-02T09:00:00\",\"2021-07-02T09:15:00\",\"2021-07-02T09:30:00\",\"2021-07-02T09:45:00\",\"2021-07-02T10:00:00\",\"2021-07-02T10:15:00\",\"2021-07-02T10:30:00\",\"2021-07-02T10:45:00\",\"2021-07-02T11:00:00\",\"2021-07-02T11:15:00\",\"2021-07-02T11:30:00\",\"2021-07-02T11:45:00\",\"2021-07-02T12:00:00\"],\"y\":[null,null,null,null,null,null,null,null,null,null,null,null,null,null,null,null,null,null,null,null,null,null,null,null,null,null,null,null,null,null,null,null,null,null,null,null,null,null,null,null,null,null,null,null,null,null,null,null,null,null,null,null,null,null,null,null,null,null,null,null,null,null,null,null,null,null,null,null,null,null,null,null,null,null,null,null,null,null,null,null,null,null,null,null,null,null,null,null,null,null,null,null,null,null,null,null,null,null,null,1.8429850000000005,1.8429692000000006,1.8429279000000005,1.8429156000000007,1.8429228000000006,1.8429434000000007,1.8429676000000006,1.8430049000000006,1.8430473000000003,1.8430910000000003,1.8431563000000002,1.8432196000000005,1.8432890000000006,1.8433335000000008,1.843387200000001,1.843439900000001,1.843495100000001,1.8435441000000008,1.8435944000000009,1.843631600000001,1.843676600000001,1.843727500000001,1.8437809000000014,1.8438258000000014,1.8438718000000014,1.8439043000000015,1.8439276000000016,1.8439571000000015,1.8439668000000013,1.8439895000000015,1.8440232000000014,1.8440238000000013,1.8440524000000016,1.8440966000000016,1.8441111000000014,1.8441298000000015,1.8441458000000017,1.8441683000000018,1.8442011000000016,1.8442232000000016,1.8442480000000014,1.8442770000000015,1.8443017000000015,1.8443448000000016,1.8443891000000017,1.8444415000000014,1.8444941000000015,1.8445514000000014,1.8445914000000014,1.8446322000000015,1.8446715000000014,1.8447028000000014,1.8447470000000015,1.8448065000000016,1.8448614000000014,1.8449226000000016,1.8449794000000017,1.8450318000000019,1.8450864000000018,1.8451345000000017,1.8451868000000016,1.8452293000000015,1.8452647000000013,1.845292100000001,1.8453181000000012,1.845340000000001,1.845380100000001,1.8454156000000013,1.845457500000001,1.8455250000000012,1.8455962000000015,1.8456666000000013,1.8457443000000016,1.8458158000000013,1.8458812000000016,1.8459673000000014,1.8460660000000013,1.8461752000000013,1.8463150000000013,1.8464577000000013,1.8465916000000016,1.8467121000000017,1.846810900000002,1.846899300000002,1.846985300000002,1.847070700000002,1.8471482000000017,1.8472269000000017,1.8473137000000017,1.8474027000000017,1.8474782000000016,1.8475438000000017,1.8476345000000018,1.8477009000000018,1.8477847000000016,1.8478667000000015,1.8479493000000016,1.8480183000000017,1.8480703000000016,1.8481320000000017,1.8481947000000016,1.8482378000000017,1.8482698000000015,1.8483053000000016,1.8483469000000015,1.8483838000000015,1.8484118000000012,1.8484341000000013,1.8484508000000013,1.8484706000000015,1.8484789000000015,1.8484850000000015,1.8484917000000012,1.848513600000001,1.848526700000001,1.8485656000000008,1.8486048000000008,1.8486462000000008,1.8486664000000008,1.8486975000000008,1.8487116000000006,1.8487432000000006,1.8487622000000008,1.8487878000000009,1.848814500000001,1.8488505000000008,1.8488745000000009,1.848882700000001,1.8489066000000007,1.8489247000000009,1.8489254000000008,1.8489271000000007,1.8489298000000007,1.8489303000000006,1.848935500000001,1.848933900000001,1.848932900000001,1.8489254000000008,1.8489281000000009,1.8489247000000009,1.8489061000000009,1.8488843000000008,1.8488718000000008,1.8488577000000008,1.8488392000000011,1.848824900000001,1.8488126000000011,1.848790500000001,1.848769500000001,1.848761200000001,1.8487573000000013,1.848755100000001,1.848743400000001,1.848728700000001,1.848717400000001,1.848696700000001,1.848684300000001,1.8486747000000008,1.8486716000000007,1.8486756000000006,1.8486641000000006,1.8486546000000006,1.8486401000000006,1.8486435000000008,1.8486446000000007,1.8486311000000006,1.8486101000000008,1.8485869000000008,1.8485664000000008,1.8485477000000006,1.8485344000000006,1.8485253000000006,1.8485042000000005,1.8484769000000005,1.8484407000000005,1.8483994000000004,1.8483436000000006,1.8482819000000006,1.8482314000000004,1.8481760000000005,1.8481210000000003,1.8480746000000006,1.8480353000000005,1.8480007000000003,1.8479666000000003,1.8479463000000005,1.8479399000000003,1.8479317000000004,1.8479104000000004,1.8478939000000003,1.8478883000000004,1.8478959000000004,1.8479072000000003,1.8479256000000002,1.8479208000000003,1.8478969000000003,1.8478652000000002,1.8478303000000003,1.8477888000000002,1.8477569000000003,1.8477101000000002,1.8476818,1.8476645000000003,1.8476052,1.8475477000000005,1.8475055000000002,1.8474651000000006,1.8474359000000007,1.8473975000000007,1.8473581000000008,1.8473303000000008,1.8473039000000007,1.8472746000000007,1.8472376000000006,1.847211500000001,1.8471643000000009,1.8470935000000008,1.8470187000000007,1.8469626000000008,1.8468933000000007,1.8468171000000007,1.8467203000000005,1.8466281000000007,1.8465323000000005,1.8464310000000004,1.8463357000000002,1.8462602000000001,1.8461926000000002,1.8461314000000004,1.8460661000000003,1.8460044000000002,1.8459551000000005,1.8459064000000003,1.8458547000000005,1.8458020000000002,1.8457538,1.8457169,1.8456805,1.845642,1.8456011,1.8455733,1.8455531000000003,1.8455259000000004,1.8454954000000003,1.8454675000000003,1.8454328000000004,1.8453937000000005,1.8453624000000004,1.8453314000000005,1.8452977000000006,1.8452627000000006,1.8452210000000009,1.8451997000000009,1.845172200000001,1.8451452000000008,1.8451099000000009,1.8450775000000008,1.8450493000000008,1.845018800000001,1.844987300000001,1.8449568000000012,1.844923900000001,1.844896900000001,1.844855700000001,1.8448123000000012,1.8447778000000015,1.8447415000000011,1.844709400000001,1.844664000000001,1.844628300000001,1.844583600000001,1.8445362000000012,1.8445014000000013,1.844461500000001,1.844431700000001,1.8444044000000008,1.8443751000000006,1.8443468000000005,1.8443033000000002,1.8442676,1.8442392,1.8442116000000002,1.8441783,1.8441404000000003,1.8440964000000006,1.8440322000000007,1.8439615000000007,1.8438909000000008,1.8438329000000007,1.8437741000000007,1.8437119000000006,1.8436487000000008,1.8435772000000008,1.843511300000001,1.8434668000000007,1.8434432000000007,1.8434093000000007,1.8433699000000008,1.8433393000000007,1.8432994000000005,1.8432723000000006,1.8432380000000008,1.8431382000000007,1.8430768000000008,1.843007800000001,1.8429129000000009,1.8428106000000009,1.8426968000000008,1.8425959000000005,1.8425121000000007,1.842411400000001,1.842320500000001,1.8422253000000008,1.842123200000001,1.8420164000000008,1.8419080000000008,1.841823800000001,1.8417433000000007,1.841663100000001,1.8415886000000008,1.841532900000001,1.841486900000001,1.8414408000000009,1.841384800000001,1.841337500000001,1.841277200000001,1.8412079000000012,1.841132200000001,1.841060300000001,1.8409939000000008,1.840929000000001,1.8408610000000007,1.8407973000000006,1.8407317000000005,1.8406610000000005,1.8405894000000007,1.8405135000000008,1.8404434000000007,1.8403686000000008,1.8403036000000006,1.8402342000000007,1.8401448000000007,1.8400632000000008,1.8399762000000006,1.8398973000000007,1.8398232000000008,1.8397536000000005,1.8396729000000005,1.8396031000000002,1.8395284,1.8394549,1.8393893,1.8393091,1.8392283999999999,1.8391286,1.8390369000000002,1.8389499,1.8388548,1.8387617,1.838663,1.8385819,1.8385085,1.8384283000000001,1.838349,1.8382743,1.8381983,1.8381238000000002,1.8380452000000003,1.8379700000000003,1.8378833000000003,1.8377994000000002,1.8377132,1.8376275000000002,1.8375491000000002,1.8374552000000002,1.8373612000000004,1.8372758000000005,1.8371865000000005,1.8371131000000005,1.8370266000000006,1.8369235000000006,1.8368163000000004,1.8366955000000005,1.8365802000000002,1.8364719000000003,1.8363585,1.8362383,1.8361199000000001,1.8360032000000002,1.8358836000000003,1.8357533000000004,1.8356253000000005,1.8355029000000005,1.8353849000000002,1.8352627000000004,1.8351289000000002,1.8350204000000003,1.8348951000000002,1.8347817000000004,1.8346652000000003,1.8345386000000001,1.8344106000000002,1.8343350000000003,1.8342368000000004,1.8341414000000003,1.8340559000000005,1.8339823000000004,1.8339193000000003,1.8338560000000004,1.8337968000000004,1.8337597000000003,1.8337213000000003,1.8336742000000004,1.8336273000000005,1.8335833000000006,1.8335354000000004,1.8334732000000005,1.8334295000000005,1.8333861000000005,1.8333516000000005,1.8333109000000007,1.8332585000000006,1.8332089000000005,1.8331635000000006,1.8331083000000006,1.8330590000000007,1.8330090000000003,1.8329501000000006,1.8328840000000006,1.8328137000000004,1.8327372000000002,1.8326457000000005,1.8325528000000006,1.8324709000000008,1.8323900000000009,1.8323086000000008,1.8322242000000009,1.8321378000000008,1.8320652000000006,1.8319930000000009,1.8319220000000007,1.8318729000000007,1.8318234000000007,1.8317759000000007,1.8317221000000006,1.8316700000000006,1.8316104000000006,1.831561400000001,1.831508200000001,1.831458300000001,1.8314148000000012,1.8313568000000011,1.8313016000000013,1.8312500000000014,1.8312164000000013,1.831181000000001,1.831130800000001,1.8310880000000012,1.8310458000000014,1.8310055000000014,1.8309596000000012,1.8309044000000012,1.830852000000001,1.830806700000001,1.8307545000000014,1.8307019000000013,1.8306569000000013,1.8306201000000013,1.8305904000000013,1.8305752000000013,1.8305653000000013,1.8305619000000013,1.8305614000000012,1.8305624000000011,1.8305590000000012,1.8305634000000013,1.830564200000001,1.8305833000000014,1.8305854000000013,1.8305852000000014,1.8306009000000014,1.8306191000000016,1.8306520000000015,1.8306790000000015,1.8307009000000014,1.8307393000000016,1.8307800000000016,1.8308201000000017,1.8308675000000016,1.8309296000000015,1.8310016000000013,1.8310695000000012,1.8311359000000014,1.8311894000000015,1.8312539000000014,1.8313190000000017,1.8313739000000018,1.8314559000000017,1.8315298000000015,1.8315997000000015,1.8316617000000017,1.8317094000000014,1.8317526000000013,1.8318168000000012,1.8318795000000012,1.8319549000000013,1.8320418000000012,1.8321164000000012,1.8321925000000012,1.832245500000001,1.8322925000000012,1.8323256000000012,1.8323686000000012,1.8324169000000012,1.8324572000000012,1.8325030000000013,1.832558100000001,1.832601800000001,1.832641300000001,1.832669700000001,1.832700200000001,1.8327275000000012,1.8327574000000013,1.8327923000000013,1.8328289000000013,1.8328605000000013,1.8328896000000015,1.8329350000000013,1.8329795000000013,1.8330241000000012,1.8330788000000013,1.8331420000000012,1.833203400000001,1.833262700000001,1.833320900000001,1.8333824000000012,1.8334441000000012,1.8335001000000013,1.8335537000000013,1.8336055000000013,1.8336509000000012,1.8336911000000011,1.8337237000000013,1.8337573000000011,1.833798000000001,1.833840600000001,1.833896200000001,1.8339442000000008,1.8339921000000006,1.8340375000000007,1.8340850000000006,1.8341393000000006,1.8341976000000004,1.8342462000000004,1.8342920000000005,1.8343444000000004,1.8343960000000004,1.8344518000000005,1.8345007000000004,1.8345496000000003,1.8345947000000005,1.8346363000000006,1.8346839000000006,1.8347221000000005,1.8347697000000003,1.8348199,1.8348645,1.8349106,1.8349518,1.8349853000000003,1.8350255000000004,1.8350636000000007,1.8351059000000007,1.8351351000000005,1.8351777000000005,1.8352224000000004,1.8352646000000004,1.8352969000000001,1.8353363000000003,1.8353809,1.8354193000000003,1.8354462000000005,1.8354806000000006,1.8355309000000006,1.8355807000000006,1.8356364000000005,1.8356943000000003,1.8357531000000002,1.8358048000000002,1.8358320000000004,1.8358517000000003,1.8358526000000004,1.8358559000000003,1.8358821,1.8358981,1.8359062,1.835925,1.8359446,1.8359664,1.8359971000000002,1.8360462000000002,1.836116,1.8361985,1.8362811,1.8363694000000002,1.8364401999999997,1.8365095,1.8365851,1.8366547,1.8367326,1.8367991999999997,1.8368723999999998,1.8369483999999998,1.8370278999999996,1.8371125999999995,1.8371998999999997,1.8372868999999996,1.8373821999999997,1.8374692,1.837559,1.8376503999999998,1.8377301999999998,1.8378096999999998,1.8378780999999995,1.8379561999999996,1.8380273999999996,1.8381199999999998,1.8382058999999997,1.8382965999999998,1.8383881,1.8384663,1.8385462000000001,1.8386296000000002,1.8387047,1.8387863999999998,1.8388681999999996,1.8389513999999998,1.8390456999999998,1.8391365999999996,1.8392312999999996,1.8393287999999997,1.8394235999999995,1.8395196999999994,1.8396103999999993,1.8396921999999996,1.8397631999999995,1.8398289999999995,1.8398952999999993,1.8399586999999997,1.8400195999999998,1.8400723999999997,1.8401278999999997,1.8401893999999996,1.8402483999999995,1.8403126999999995,1.8403716999999995,1.8404345999999996,1.8404971999999995,1.8405602999999993,1.8406215999999995,1.8406825999999996,1.8407308999999996,1.8407727999999994,1.8408221999999994,1.8408697999999994,1.8409162999999997,1.8409658,1.8410445999999998,1.8411217,1.8412071999999997,1.8412782999999997,1.8413395999999995,1.8414005999999994,1.8414940999999996,1.8415839999999997,1.8416705999999998,1.8417537,1.8418343,1.8419177,1.841997,1.8420831999999998,1.8421824999999998,1.8422740999999996,1.8423581999999996,1.8424450999999993,1.8425033999999993,1.8425435999999993,1.8425811999999993,1.8425926999999995,1.8426387999999998,1.8426776999999999,1.8427282,1.8427620999999998,1.8427588,1.8427752000000002,1.8428083000000002,1.8428381000000003,1.8428497000000001,1.8428478000000001,1.8428461,1.8428393000000003,1.8428308000000004,1.8428111000000005,1.8427951000000002,1.8427798000000004,1.8427840000000006,1.8427789000000003,1.8427660000000003,1.8427538000000003,1.8427391000000006,1.8427262000000006,1.8427247000000009,1.8427309000000007,1.842749100000001,1.8427688000000009,1.8427886000000009,1.842801200000001,1.8428045000000008,1.8428068000000009,1.842808000000001,1.8428156000000009,1.8428248000000007,1.842845700000001,1.842873200000001,1.842888500000001,1.842918800000001,1.8429327000000009,1.842952100000001,1.842967800000001,1.8429845000000011,1.843015100000001,1.843040900000001,1.8430696000000009,1.843101600000001,1.843131800000001,1.8431607000000012,1.8431817000000013,1.843196200000001,1.8432068000000013,1.8432168000000013,1.8432315000000015,1.8432432000000014,1.8432595000000014,1.8432836000000015,1.8432971000000016,1.8433276000000014,1.8433573000000016,1.8433929000000018,1.8434313000000018,1.843468500000002,1.8435004000000017,1.8435428000000018,1.843584900000002,1.843635200000002,1.843685000000002,1.8437318000000023,1.8437828000000023,1.8438187000000021,1.8438407000000023,1.8438601000000023,1.843890100000002,1.843936400000002,1.8439675000000022,1.8440006000000022,1.8440232000000023,1.8440298000000022,1.844029400000002,1.8439902000000021,1.843950500000002,1.8439011000000018,1.843877500000002,1.843861200000002,1.843832600000002,1.843777900000002,1.843727300000002,1.843672500000002,1.843615700000002,1.8435503000000022,1.843483500000002,1.843422600000002,1.8433488000000022,1.8432772000000022,1.8432303000000025,1.8431665000000024,1.8431008000000026,1.8430577000000026,1.8430346000000026,1.8430013000000025,1.8430030000000024,1.8429826000000022,1.842973100000002,1.842980900000002,1.843000600000002,1.8430421000000021,1.843050800000002,1.8430583000000018,1.8430636000000018,1.8430774000000019,1.843094100000002,1.8431141000000022,1.8431471000000021,1.843178900000002,1.8432161000000022,1.8432395000000021,1.843254000000002,1.843269200000002,1.843276300000002,1.8432901000000022,1.843303600000002,1.843313600000002,1.843330300000002,1.8433288000000019,1.8433126000000017,1.8432762000000016,1.8432222000000018,1.8431824000000017,1.8431530000000018,1.8431310000000019,1.8431238000000019,1.8431165000000018,1.843099900000002,1.8430965000000021,1.843086500000002,1.843075900000002,1.843064300000002,1.843053200000002,1.8430477000000018,1.8430432000000019,1.843036200000002,1.8430309000000016,1.8430097000000019,1.8429945000000019,1.8429850000000019,1.8429770000000019,1.8429724000000018,1.8429677000000018,1.8429722000000017,1.842974700000002,1.842975400000002,1.8429743000000018,1.8429730000000017,1.8429771000000017,1.8429765000000018,1.8429732000000019,1.8429795000000018,1.8429773000000018,1.8429739000000018,1.8429611000000017,1.8429462000000014,1.8429360000000015,1.8429249000000012,1.8429026000000013,1.8428754000000014,1.8428459000000015,1.8428297000000016,1.8428153000000014,1.8427993000000016,1.8428051000000014,1.8428220000000013,1.8428388000000013,1.8428388000000013,1.8428554000000015,1.8428846000000012,1.8429275000000012,1.8429770000000014,1.8430271000000014,1.8430596000000015,1.8430915000000012,1.8431057000000015,1.8431163000000017,1.8431113000000017,1.8431116000000016,1.8431117000000017,1.8431073000000018]},{\"line\":{\"color\":\"green\"},\"marker\":{\"color\":\"green\",\"size\":10,\"symbol\":[5]},\"mode\":\"markers\",\"name\":\"PosibleCompra\",\"type\":\"scatter\",\"x\":[\"2021-06-18T05:00:00\",\"2021-06-18T05:15:00\",\"2021-06-18T05:30:00\",\"2021-06-18T05:45:00\",\"2021-06-18T06:00:00\",\"2021-06-18T06:15:00\",\"2021-06-18T06:30:00\",\"2021-06-18T06:45:00\",\"2021-06-18T07:00:00\",\"2021-06-18T07:15:00\",\"2021-06-18T07:30:00\",\"2021-06-18T07:45:00\",\"2021-06-18T08:00:00\",\"2021-06-18T08:15:00\",\"2021-06-18T08:30:00\",\"2021-06-18T08:45:00\",\"2021-06-18T09:00:00\",\"2021-06-18T09:15:00\",\"2021-06-18T09:30:00\",\"2021-06-18T09:45:00\",\"2021-06-18T10:00:00\",\"2021-06-18T10:15:00\",\"2021-06-18T10:30:00\",\"2021-06-18T10:45:00\",\"2021-06-18T11:00:00\",\"2021-06-18T11:15:00\",\"2021-06-18T11:30:00\",\"2021-06-18T11:45:00\",\"2021-06-18T12:00:00\",\"2021-06-18T12:15:00\",\"2021-06-18T12:30:00\",\"2021-06-18T12:45:00\",\"2021-06-18T13:00:00\",\"2021-06-18T13:15:00\",\"2021-06-18T13:30:00\",\"2021-06-18T13:45:00\",\"2021-06-18T14:00:00\",\"2021-06-18T14:15:00\",\"2021-06-18T14:30:00\",\"2021-06-18T14:45:00\",\"2021-06-18T15:00:00\",\"2021-06-18T15:15:00\",\"2021-06-18T15:30:00\",\"2021-06-18T15:45:00\",\"2021-06-18T16:00:00\",\"2021-06-18T16:15:00\",\"2021-06-18T16:30:00\",\"2021-06-18T16:45:00\",\"2021-06-18T17:00:00\",\"2021-06-18T17:15:00\",\"2021-06-18T17:30:00\",\"2021-06-18T17:45:00\",\"2021-06-18T18:00:00\",\"2021-06-18T18:15:00\",\"2021-06-18T18:30:00\",\"2021-06-18T18:45:00\",\"2021-06-18T19:00:00\",\"2021-06-18T19:15:00\",\"2021-06-18T19:30:00\",\"2021-06-18T19:45:00\",\"2021-06-18T20:00:00\",\"2021-06-18T20:15:00\",\"2021-06-18T20:30:00\",\"2021-06-18T20:45:00\",\"2021-06-18T21:00:00\",\"2021-06-18T21:15:00\",\"2021-06-18T21:30:00\",\"2021-06-18T21:45:00\",\"2021-06-21T00:00:00\",\"2021-06-21T00:15:00\",\"2021-06-21T00:30:00\",\"2021-06-21T00:45:00\",\"2021-06-21T01:00:00\",\"2021-06-21T01:15:00\",\"2021-06-21T01:30:00\",\"2021-06-21T01:45:00\",\"2021-06-21T02:00:00\",\"2021-06-21T02:15:00\",\"2021-06-21T02:30:00\",\"2021-06-21T02:45:00\",\"2021-06-21T03:00:00\",\"2021-06-21T03:15:00\",\"2021-06-21T03:30:00\",\"2021-06-21T03:45:00\",\"2021-06-21T04:00:00\",\"2021-06-21T04:15:00\",\"2021-06-21T04:30:00\",\"2021-06-21T04:45:00\",\"2021-06-21T05:00:00\",\"2021-06-21T05:15:00\",\"2021-06-21T05:30:00\",\"2021-06-21T05:45:00\",\"2021-06-21T06:00:00\",\"2021-06-21T06:15:00\",\"2021-06-21T06:30:00\",\"2021-06-21T06:45:00\",\"2021-06-21T07:00:00\",\"2021-06-21T07:15:00\",\"2021-06-21T07:30:00\",\"2021-06-21T07:45:00\",\"2021-06-21T08:00:00\",\"2021-06-21T08:15:00\",\"2021-06-21T08:30:00\",\"2021-06-21T08:45:00\",\"2021-06-21T09:00:00\",\"2021-06-21T09:15:00\",\"2021-06-21T09:30:00\",\"2021-06-21T09:45:00\",\"2021-06-21T10:00:00\",\"2021-06-21T10:15:00\",\"2021-06-21T10:30:00\",\"2021-06-21T10:45:00\",\"2021-06-21T11:00:00\",\"2021-06-21T11:15:00\",\"2021-06-21T11:30:00\",\"2021-06-21T11:45:00\",\"2021-06-21T12:00:00\",\"2021-06-21T12:15:00\",\"2021-06-21T12:30:00\",\"2021-06-21T12:45:00\",\"2021-06-21T13:00:00\",\"2021-06-21T13:15:00\",\"2021-06-21T13:30:00\",\"2021-06-21T13:45:00\",\"2021-06-21T14:00:00\",\"2021-06-21T14:15:00\",\"2021-06-21T14:30:00\",\"2021-06-21T14:45:00\",\"2021-06-21T15:00:00\",\"2021-06-21T15:15:00\",\"2021-06-21T15:30:00\",\"2021-06-21T15:45:00\",\"2021-06-21T16:00:00\",\"2021-06-21T16:15:00\",\"2021-06-21T16:30:00\",\"2021-06-21T16:45:00\",\"2021-06-21T17:00:00\",\"2021-06-21T17:15:00\",\"2021-06-21T17:30:00\",\"2021-06-21T17:45:00\",\"2021-06-21T18:00:00\",\"2021-06-21T18:15:00\",\"2021-06-21T18:30:00\",\"2021-06-21T18:45:00\",\"2021-06-21T19:00:00\",\"2021-06-21T19:15:00\",\"2021-06-21T19:30:00\",\"2021-06-21T19:45:00\",\"2021-06-21T20:00:00\",\"2021-06-21T20:15:00\",\"2021-06-21T20:30:00\",\"2021-06-21T20:45:00\",\"2021-06-21T21:00:00\",\"2021-06-21T21:15:00\",\"2021-06-21T21:30:00\",\"2021-06-21T21:45:00\",\"2021-06-21T22:00:00\",\"2021-06-21T22:15:00\",\"2021-06-21T22:30:00\",\"2021-06-21T22:45:00\",\"2021-06-21T23:00:00\",\"2021-06-21T23:15:00\",\"2021-06-21T23:30:00\",\"2021-06-21T23:45:00\",\"2021-06-22T00:00:00\",\"2021-06-22T00:15:00\",\"2021-06-22T00:30:00\",\"2021-06-22T00:45:00\",\"2021-06-22T01:00:00\",\"2021-06-22T01:15:00\",\"2021-06-22T01:30:00\",\"2021-06-22T01:45:00\",\"2021-06-22T02:00:00\",\"2021-06-22T02:15:00\",\"2021-06-22T02:30:00\",\"2021-06-22T02:45:00\",\"2021-06-22T03:00:00\",\"2021-06-22T03:15:00\",\"2021-06-22T03:30:00\",\"2021-06-22T03:45:00\",\"2021-06-22T04:00:00\",\"2021-06-22T04:15:00\",\"2021-06-22T04:30:00\",\"2021-06-22T04:45:00\",\"2021-06-22T05:00:00\",\"2021-06-22T05:15:00\",\"2021-06-22T05:30:00\",\"2021-06-22T05:45:00\",\"2021-06-22T06:00:00\",\"2021-06-22T06:15:00\",\"2021-06-22T06:30:00\",\"2021-06-22T06:45:00\",\"2021-06-22T07:00:00\",\"2021-06-22T07:15:00\",\"2021-06-22T07:30:00\",\"2021-06-22T07:45:00\",\"2021-06-22T08:00:00\",\"2021-06-22T08:15:00\",\"2021-06-22T08:30:00\",\"2021-06-22T08:45:00\",\"2021-06-22T09:00:00\",\"2021-06-22T09:15:00\",\"2021-06-22T09:30:00\",\"2021-06-22T09:45:00\",\"2021-06-22T10:00:00\",\"2021-06-22T10:15:00\",\"2021-06-22T10:30:00\",\"2021-06-22T10:45:00\",\"2021-06-22T11:00:00\",\"2021-06-22T11:15:00\",\"2021-06-22T11:30:00\",\"2021-06-22T11:45:00\",\"2021-06-22T12:00:00\",\"2021-06-22T12:15:00\",\"2021-06-22T12:30:00\",\"2021-06-22T12:45:00\",\"2021-06-22T13:00:00\",\"2021-06-22T13:15:00\",\"2021-06-22T13:30:00\",\"2021-06-22T13:45:00\",\"2021-06-22T14:00:00\",\"2021-06-22T14:15:00\",\"2021-06-22T14:30:00\",\"2021-06-22T14:45:00\",\"2021-06-22T15:00:00\",\"2021-06-22T15:15:00\",\"2021-06-22T15:30:00\",\"2021-06-22T15:45:00\",\"2021-06-22T16:00:00\",\"2021-06-22T16:15:00\",\"2021-06-22T16:30:00\",\"2021-06-22T16:45:00\",\"2021-06-22T17:00:00\",\"2021-06-22T17:15:00\",\"2021-06-22T17:30:00\",\"2021-06-22T17:45:00\",\"2021-06-22T18:00:00\",\"2021-06-22T18:15:00\",\"2021-06-22T18:30:00\",\"2021-06-22T18:45:00\",\"2021-06-22T19:00:00\",\"2021-06-22T19:15:00\",\"2021-06-22T19:30:00\",\"2021-06-22T19:45:00\",\"2021-06-22T20:00:00\",\"2021-06-22T20:15:00\",\"2021-06-22T20:30:00\",\"2021-06-22T20:45:00\",\"2021-06-22T21:00:00\",\"2021-06-22T21:15:00\",\"2021-06-22T21:30:00\",\"2021-06-22T21:45:00\",\"2021-06-22T22:00:00\",\"2021-06-22T22:15:00\",\"2021-06-22T22:30:00\",\"2021-06-22T22:45:00\",\"2021-06-22T23:00:00\",\"2021-06-22T23:15:00\",\"2021-06-22T23:30:00\",\"2021-06-22T23:45:00\",\"2021-06-23T00:00:00\",\"2021-06-23T00:15:00\",\"2021-06-23T00:30:00\",\"2021-06-23T00:45:00\",\"2021-06-23T01:00:00\",\"2021-06-23T01:15:00\",\"2021-06-23T01:30:00\",\"2021-06-23T01:45:00\",\"2021-06-23T02:00:00\",\"2021-06-23T02:15:00\",\"2021-06-23T02:30:00\",\"2021-06-23T02:45:00\",\"2021-06-23T03:00:00\",\"2021-06-23T03:15:00\",\"2021-06-23T03:30:00\",\"2021-06-23T03:45:00\",\"2021-06-23T04:00:00\",\"2021-06-23T04:15:00\",\"2021-06-23T04:30:00\",\"2021-06-23T04:45:00\",\"2021-06-23T05:00:00\",\"2021-06-23T05:15:00\",\"2021-06-23T05:30:00\",\"2021-06-23T05:45:00\",\"2021-06-23T06:00:00\",\"2021-06-23T06:15:00\",\"2021-06-23T06:30:00\",\"2021-06-23T06:45:00\",\"2021-06-23T07:00:00\",\"2021-06-23T07:15:00\",\"2021-06-23T07:30:00\",\"2021-06-23T07:45:00\",\"2021-06-23T08:00:00\",\"2021-06-23T08:15:00\",\"2021-06-23T08:30:00\",\"2021-06-23T08:45:00\",\"2021-06-23T09:00:00\",\"2021-06-23T09:15:00\",\"2021-06-23T09:30:00\",\"2021-06-23T09:45:00\",\"2021-06-23T10:00:00\",\"2021-06-23T10:15:00\",\"2021-06-23T10:30:00\",\"2021-06-23T10:45:00\",\"2021-06-23T11:00:00\",\"2021-06-23T11:15:00\",\"2021-06-23T11:30:00\",\"2021-06-23T11:45:00\",\"2021-06-23T12:00:00\",\"2021-06-23T12:15:00\",\"2021-06-23T12:30:00\",\"2021-06-23T12:45:00\",\"2021-06-23T13:00:00\",\"2021-06-23T13:15:00\",\"2021-06-23T13:30:00\",\"2021-06-23T13:45:00\",\"2021-06-23T14:00:00\",\"2021-06-23T14:15:00\",\"2021-06-23T14:30:00\",\"2021-06-23T14:45:00\",\"2021-06-23T15:00:00\",\"2021-06-23T15:15:00\",\"2021-06-23T15:30:00\",\"2021-06-23T15:45:00\",\"2021-06-23T16:00:00\",\"2021-06-23T16:15:00\",\"2021-06-23T16:30:00\",\"2021-06-23T16:45:00\",\"2021-06-23T17:00:00\",\"2021-06-23T17:15:00\",\"2021-06-23T17:30:00\",\"2021-06-23T17:45:00\",\"2021-06-23T18:00:00\",\"2021-06-23T18:15:00\",\"2021-06-23T18:30:00\",\"2021-06-23T18:45:00\",\"2021-06-23T19:00:00\",\"2021-06-23T19:15:00\",\"2021-06-23T19:30:00\",\"2021-06-23T19:45:00\",\"2021-06-23T20:00:00\",\"2021-06-23T20:15:00\",\"2021-06-23T20:30:00\",\"2021-06-23T20:45:00\",\"2021-06-23T21:00:00\",\"2021-06-23T21:15:00\",\"2021-06-23T21:30:00\",\"2021-06-23T21:45:00\",\"2021-06-23T22:00:00\",\"2021-06-23T22:15:00\",\"2021-06-23T22:30:00\",\"2021-06-23T22:45:00\",\"2021-06-23T23:00:00\",\"2021-06-23T23:15:00\",\"2021-06-23T23:30:00\",\"2021-06-23T23:45:00\",\"2021-06-24T00:00:00\",\"2021-06-24T00:15:00\",\"2021-06-24T00:30:00\",\"2021-06-24T00:45:00\",\"2021-06-24T01:00:00\",\"2021-06-24T01:15:00\",\"2021-06-24T01:30:00\",\"2021-06-24T01:45:00\",\"2021-06-24T02:00:00\",\"2021-06-24T02:15:00\",\"2021-06-24T02:30:00\",\"2021-06-24T02:45:00\",\"2021-06-24T03:00:00\",\"2021-06-24T03:15:00\",\"2021-06-24T03:30:00\",\"2021-06-24T03:45:00\",\"2021-06-24T04:00:00\",\"2021-06-24T04:15:00\",\"2021-06-24T04:30:00\",\"2021-06-24T04:45:00\",\"2021-06-24T05:00:00\",\"2021-06-24T05:15:00\",\"2021-06-24T05:30:00\",\"2021-06-24T05:45:00\",\"2021-06-24T06:00:00\",\"2021-06-24T06:15:00\",\"2021-06-24T06:30:00\",\"2021-06-24T06:45:00\",\"2021-06-24T07:00:00\",\"2021-06-24T07:15:00\",\"2021-06-24T07:30:00\",\"2021-06-24T07:45:00\",\"2021-06-24T08:00:00\",\"2021-06-24T08:15:00\",\"2021-06-24T08:30:00\",\"2021-06-24T08:45:00\",\"2021-06-24T09:00:00\",\"2021-06-24T09:15:00\",\"2021-06-24T09:30:00\",\"2021-06-24T09:45:00\",\"2021-06-24T10:00:00\",\"2021-06-24T10:15:00\",\"2021-06-24T10:30:00\",\"2021-06-24T10:45:00\",\"2021-06-24T11:00:00\",\"2021-06-24T11:15:00\",\"2021-06-24T11:30:00\",\"2021-06-24T11:45:00\",\"2021-06-24T12:00:00\",\"2021-06-24T12:15:00\",\"2021-06-24T12:30:00\",\"2021-06-24T12:45:00\",\"2021-06-24T13:00:00\",\"2021-06-24T13:15:00\",\"2021-06-24T13:30:00\",\"2021-06-24T13:45:00\",\"2021-06-24T14:00:00\",\"2021-06-24T14:15:00\",\"2021-06-24T14:30:00\",\"2021-06-24T14:45:00\",\"2021-06-24T15:00:00\",\"2021-06-24T15:15:00\",\"2021-06-24T15:30:00\",\"2021-06-24T15:45:00\",\"2021-06-24T16:00:00\",\"2021-06-24T16:15:00\",\"2021-06-24T16:30:00\",\"2021-06-24T16:45:00\",\"2021-06-24T17:00:00\",\"2021-06-24T17:15:00\",\"2021-06-24T17:30:00\",\"2021-06-24T17:45:00\",\"2021-06-24T18:00:00\",\"2021-06-24T18:15:00\",\"2021-06-24T18:30:00\",\"2021-06-24T18:45:00\",\"2021-06-24T19:00:00\",\"2021-06-24T19:15:00\",\"2021-06-24T19:30:00\",\"2021-06-24T19:45:00\",\"2021-06-24T20:00:00\",\"2021-06-24T20:15:00\",\"2021-06-24T20:30:00\",\"2021-06-24T20:45:00\",\"2021-06-24T21:00:00\",\"2021-06-24T21:15:00\",\"2021-06-24T21:30:00\",\"2021-06-24T21:45:00\",\"2021-06-24T22:00:00\",\"2021-06-24T22:15:00\",\"2021-06-24T22:30:00\",\"2021-06-24T22:45:00\",\"2021-06-24T23:00:00\",\"2021-06-24T23:15:00\",\"2021-06-24T23:30:00\",\"2021-06-24T23:45:00\",\"2021-06-25T00:00:00\",\"2021-06-25T00:15:00\",\"2021-06-25T00:30:00\",\"2021-06-25T00:45:00\",\"2021-06-25T01:00:00\",\"2021-06-25T01:15:00\",\"2021-06-25T01:30:00\",\"2021-06-25T01:45:00\",\"2021-06-25T02:00:00\",\"2021-06-25T02:15:00\",\"2021-06-25T02:30:00\",\"2021-06-25T02:45:00\",\"2021-06-25T03:00:00\",\"2021-06-25T03:15:00\",\"2021-06-25T03:30:00\",\"2021-06-25T03:45:00\",\"2021-06-25T04:00:00\",\"2021-06-25T04:15:00\",\"2021-06-25T04:30:00\",\"2021-06-25T04:45:00\",\"2021-06-25T05:00:00\",\"2021-06-25T05:15:00\",\"2021-06-25T05:30:00\",\"2021-06-25T05:45:00\",\"2021-06-25T06:00:00\",\"2021-06-25T06:15:00\",\"2021-06-25T06:30:00\",\"2021-06-25T06:45:00\",\"2021-06-25T07:00:00\",\"2021-06-25T07:15:00\",\"2021-06-25T07:30:00\",\"2021-06-25T07:45:00\",\"2021-06-25T08:00:00\",\"2021-06-25T08:15:00\",\"2021-06-25T08:30:00\",\"2021-06-25T08:45:00\",\"2021-06-25T09:00:00\",\"2021-06-25T09:15:00\",\"2021-06-25T09:30:00\",\"2021-06-25T09:45:00\",\"2021-06-25T10:00:00\",\"2021-06-25T10:15:00\",\"2021-06-25T10:30:00\",\"2021-06-25T10:45:00\",\"2021-06-25T11:00:00\",\"2021-06-25T11:15:00\",\"2021-06-25T11:30:00\",\"2021-06-25T11:45:00\",\"2021-06-25T12:00:00\",\"2021-06-25T12:15:00\",\"2021-06-25T12:30:00\",\"2021-06-25T12:45:00\",\"2021-06-25T13:00:00\",\"2021-06-25T13:15:00\",\"2021-06-25T13:30:00\",\"2021-06-25T13:45:00\",\"2021-06-25T14:00:00\",\"2021-06-25T14:15:00\",\"2021-06-25T14:30:00\",\"2021-06-25T14:45:00\",\"2021-06-25T15:00:00\",\"2021-06-25T15:15:00\",\"2021-06-25T15:30:00\",\"2021-06-25T15:45:00\",\"2021-06-25T16:00:00\",\"2021-06-25T16:15:00\",\"2021-06-25T16:30:00\",\"2021-06-25T16:45:00\",\"2021-06-25T17:00:00\",\"2021-06-25T17:15:00\",\"2021-06-25T17:30:00\",\"2021-06-25T17:45:00\",\"2021-06-25T18:00:00\",\"2021-06-25T18:15:00\",\"2021-06-25T18:30:00\",\"2021-06-25T18:45:00\",\"2021-06-25T19:00:00\",\"2021-06-25T19:15:00\",\"2021-06-25T19:30:00\",\"2021-06-25T19:45:00\",\"2021-06-25T20:00:00\",\"2021-06-25T20:15:00\",\"2021-06-25T20:30:00\",\"2021-06-25T20:45:00\",\"2021-06-25T21:00:00\",\"2021-06-25T21:15:00\",\"2021-06-25T21:30:00\",\"2021-06-25T21:45:00\",\"2021-06-28T00:00:00\",\"2021-06-28T00:15:00\",\"2021-06-28T00:30:00\",\"2021-06-28T00:45:00\",\"2021-06-28T01:00:00\",\"2021-06-28T01:15:00\",\"2021-06-28T01:30:00\",\"2021-06-28T01:45:00\",\"2021-06-28T02:00:00\",\"2021-06-28T02:15:00\",\"2021-06-28T02:30:00\",\"2021-06-28T02:45:00\",\"2021-06-28T03:00:00\",\"2021-06-28T03:15:00\",\"2021-06-28T03:30:00\",\"2021-06-28T03:45:00\",\"2021-06-28T04:00:00\",\"2021-06-28T04:15:00\",\"2021-06-28T04:30:00\",\"2021-06-28T04:45:00\",\"2021-06-28T05:00:00\",\"2021-06-28T05:15:00\",\"2021-06-28T05:30:00\",\"2021-06-28T05:45:00\",\"2021-06-28T06:00:00\",\"2021-06-28T06:15:00\",\"2021-06-28T06:30:00\",\"2021-06-28T06:45:00\",\"2021-06-28T07:00:00\",\"2021-06-28T07:15:00\",\"2021-06-28T07:30:00\",\"2021-06-28T07:45:00\",\"2021-06-28T08:00:00\",\"2021-06-28T08:15:00\",\"2021-06-28T08:30:00\",\"2021-06-28T08:45:00\",\"2021-06-28T09:00:00\",\"2021-06-28T09:15:00\",\"2021-06-28T09:30:00\",\"2021-06-28T09:45:00\",\"2021-06-28T10:00:00\",\"2021-06-28T10:15:00\",\"2021-06-28T10:30:00\",\"2021-06-28T10:45:00\",\"2021-06-28T11:00:00\",\"2021-06-28T11:15:00\",\"2021-06-28T11:30:00\",\"2021-06-28T11:45:00\",\"2021-06-28T12:00:00\",\"2021-06-28T12:15:00\",\"2021-06-28T12:30:00\",\"2021-06-28T12:45:00\",\"2021-06-28T13:00:00\",\"2021-06-28T13:15:00\",\"2021-06-28T13:30:00\",\"2021-06-28T13:45:00\",\"2021-06-28T14:00:00\",\"2021-06-28T14:15:00\",\"2021-06-28T14:30:00\",\"2021-06-28T14:45:00\",\"2021-06-28T15:00:00\",\"2021-06-28T15:15:00\",\"2021-06-28T15:30:00\",\"2021-06-28T15:45:00\",\"2021-06-28T16:00:00\",\"2021-06-28T16:15:00\",\"2021-06-28T16:30:00\",\"2021-06-28T16:45:00\",\"2021-06-28T17:00:00\",\"2021-06-28T17:15:00\",\"2021-06-28T17:30:00\",\"2021-06-28T17:45:00\",\"2021-06-28T18:00:00\",\"2021-06-28T18:15:00\",\"2021-06-28T18:30:00\",\"2021-06-28T18:45:00\",\"2021-06-28T19:00:00\",\"2021-06-28T19:15:00\",\"2021-06-28T19:30:00\",\"2021-06-28T19:45:00\",\"2021-06-28T20:00:00\",\"2021-06-28T20:15:00\",\"2021-06-28T20:30:00\",\"2021-06-28T20:45:00\",\"2021-06-28T21:00:00\",\"2021-06-28T21:15:00\",\"2021-06-28T21:30:00\",\"2021-06-28T21:45:00\",\"2021-06-28T22:00:00\",\"2021-06-28T22:15:00\",\"2021-06-28T22:30:00\",\"2021-06-28T22:45:00\",\"2021-06-28T23:00:00\",\"2021-06-28T23:15:00\",\"2021-06-28T23:30:00\",\"2021-06-28T23:45:00\",\"2021-06-29T00:00:00\",\"2021-06-29T00:15:00\",\"2021-06-29T00:30:00\",\"2021-06-29T00:45:00\",\"2021-06-29T01:00:00\",\"2021-06-29T01:15:00\",\"2021-06-29T01:30:00\",\"2021-06-29T01:45:00\",\"2021-06-29T02:00:00\",\"2021-06-29T02:15:00\",\"2021-06-29T02:30:00\",\"2021-06-29T02:45:00\",\"2021-06-29T03:00:00\",\"2021-06-29T03:15:00\",\"2021-06-29T03:30:00\",\"2021-06-29T03:45:00\",\"2021-06-29T04:00:00\",\"2021-06-29T04:15:00\",\"2021-06-29T04:30:00\",\"2021-06-29T04:45:00\",\"2021-06-29T05:00:00\",\"2021-06-29T05:15:00\",\"2021-06-29T05:30:00\",\"2021-06-29T05:45:00\",\"2021-06-29T06:00:00\",\"2021-06-29T06:15:00\",\"2021-06-29T06:30:00\",\"2021-06-29T06:45:00\",\"2021-06-29T07:00:00\",\"2021-06-29T07:15:00\",\"2021-06-29T07:30:00\",\"2021-06-29T07:45:00\",\"2021-06-29T08:00:00\",\"2021-06-29T08:15:00\",\"2021-06-29T08:30:00\",\"2021-06-29T08:45:00\",\"2021-06-29T09:00:00\",\"2021-06-29T09:15:00\",\"2021-06-29T09:30:00\",\"2021-06-29T09:45:00\",\"2021-06-29T10:00:00\",\"2021-06-29T10:15:00\",\"2021-06-29T10:30:00\",\"2021-06-29T10:45:00\",\"2021-06-29T11:00:00\",\"2021-06-29T11:15:00\",\"2021-06-29T11:30:00\",\"2021-06-29T11:45:00\",\"2021-06-29T12:00:00\",\"2021-06-29T12:15:00\",\"2021-06-29T12:30:00\",\"2021-06-29T12:45:00\",\"2021-06-29T13:00:00\",\"2021-06-29T13:15:00\",\"2021-06-29T13:30:00\",\"2021-06-29T13:45:00\",\"2021-06-29T14:00:00\",\"2021-06-29T14:15:00\",\"2021-06-29T14:30:00\",\"2021-06-29T14:45:00\",\"2021-06-29T15:00:00\",\"2021-06-29T15:15:00\",\"2021-06-29T15:30:00\",\"2021-06-29T15:45:00\",\"2021-06-29T16:00:00\",\"2021-06-29T16:15:00\",\"2021-06-29T16:30:00\",\"2021-06-29T16:45:00\",\"2021-06-29T17:00:00\",\"2021-06-29T17:15:00\",\"2021-06-29T17:30:00\",\"2021-06-29T17:45:00\",\"2021-06-29T18:00:00\",\"2021-06-29T18:15:00\",\"2021-06-29T18:30:00\",\"2021-06-29T18:45:00\",\"2021-06-29T19:00:00\",\"2021-06-29T19:15:00\",\"2021-06-29T19:30:00\",\"2021-06-29T19:45:00\",\"2021-06-29T20:00:00\",\"2021-06-29T20:15:00\",\"2021-06-29T20:30:00\",\"2021-06-29T20:45:00\",\"2021-06-29T21:00:00\",\"2021-06-29T21:15:00\",\"2021-06-29T21:30:00\",\"2021-06-29T21:45:00\",\"2021-06-29T22:00:00\",\"2021-06-29T22:15:00\",\"2021-06-29T22:30:00\",\"2021-06-29T22:45:00\",\"2021-06-29T23:00:00\",\"2021-06-29T23:15:00\",\"2021-06-29T23:30:00\",\"2021-06-29T23:45:00\",\"2021-06-30T00:00:00\",\"2021-06-30T00:15:00\",\"2021-06-30T00:30:00\",\"2021-06-30T00:45:00\",\"2021-06-30T01:00:00\",\"2021-06-30T01:15:00\",\"2021-06-30T01:30:00\",\"2021-06-30T01:45:00\",\"2021-06-30T02:00:00\",\"2021-06-30T02:15:00\",\"2021-06-30T02:30:00\",\"2021-06-30T02:45:00\",\"2021-06-30T03:00:00\",\"2021-06-30T03:15:00\",\"2021-06-30T03:30:00\",\"2021-06-30T03:45:00\",\"2021-06-30T04:00:00\",\"2021-06-30T04:15:00\",\"2021-06-30T04:30:00\",\"2021-06-30T04:45:00\",\"2021-06-30T05:00:00\",\"2021-06-30T05:15:00\",\"2021-06-30T05:30:00\",\"2021-06-30T05:45:00\",\"2021-06-30T06:00:00\",\"2021-06-30T06:15:00\",\"2021-06-30T06:30:00\",\"2021-06-30T06:45:00\",\"2021-06-30T07:00:00\",\"2021-06-30T07:15:00\",\"2021-06-30T07:30:00\",\"2021-06-30T07:45:00\",\"2021-06-30T08:00:00\",\"2021-06-30T08:15:00\",\"2021-06-30T08:30:00\",\"2021-06-30T08:45:00\",\"2021-06-30T09:00:00\",\"2021-06-30T09:15:00\",\"2021-06-30T09:30:00\",\"2021-06-30T09:45:00\",\"2021-06-30T10:00:00\",\"2021-06-30T10:15:00\",\"2021-06-30T10:30:00\",\"2021-06-30T10:45:00\",\"2021-06-30T11:00:00\",\"2021-06-30T11:15:00\",\"2021-06-30T11:30:00\",\"2021-06-30T11:45:00\",\"2021-06-30T12:00:00\",\"2021-06-30T12:15:00\",\"2021-06-30T12:30:00\",\"2021-06-30T12:45:00\",\"2021-06-30T13:00:00\",\"2021-06-30T13:15:00\",\"2021-06-30T13:30:00\",\"2021-06-30T13:45:00\",\"2021-06-30T14:00:00\",\"2021-06-30T14:15:00\",\"2021-06-30T14:30:00\",\"2021-06-30T14:45:00\",\"2021-06-30T15:00:00\",\"2021-06-30T15:15:00\",\"2021-06-30T15:30:00\",\"2021-06-30T15:45:00\",\"2021-06-30T16:00:00\",\"2021-06-30T16:15:00\",\"2021-06-30T16:30:00\",\"2021-06-30T16:45:00\",\"2021-06-30T17:00:00\",\"2021-06-30T17:15:00\",\"2021-06-30T17:30:00\",\"2021-06-30T17:45:00\",\"2021-06-30T18:00:00\",\"2021-06-30T18:15:00\",\"2021-06-30T18:30:00\",\"2021-06-30T18:45:00\",\"2021-06-30T19:00:00\",\"2021-06-30T19:15:00\",\"2021-06-30T19:30:00\",\"2021-06-30T19:45:00\",\"2021-06-30T20:00:00\",\"2021-06-30T20:15:00\",\"2021-06-30T20:30:00\",\"2021-06-30T20:45:00\",\"2021-06-30T21:00:00\",\"2021-06-30T21:15:00\",\"2021-06-30T21:30:00\",\"2021-06-30T21:45:00\",\"2021-06-30T22:00:00\",\"2021-06-30T22:15:00\",\"2021-06-30T22:30:00\",\"2021-06-30T22:45:00\",\"2021-06-30T23:00:00\",\"2021-06-30T23:15:00\",\"2021-06-30T23:30:00\",\"2021-06-30T23:45:00\",\"2021-07-01T00:00:00\",\"2021-07-01T00:15:00\",\"2021-07-01T00:30:00\",\"2021-07-01T00:45:00\",\"2021-07-01T01:00:00\",\"2021-07-01T01:15:00\",\"2021-07-01T01:30:00\",\"2021-07-01T01:45:00\",\"2021-07-01T02:00:00\",\"2021-07-01T02:15:00\",\"2021-07-01T02:30:00\",\"2021-07-01T02:45:00\",\"2021-07-01T03:00:00\",\"2021-07-01T03:15:00\",\"2021-07-01T03:30:00\",\"2021-07-01T03:45:00\",\"2021-07-01T04:00:00\",\"2021-07-01T04:15:00\",\"2021-07-01T04:30:00\",\"2021-07-01T04:45:00\",\"2021-07-01T05:00:00\",\"2021-07-01T05:15:00\",\"2021-07-01T05:30:00\",\"2021-07-01T05:45:00\",\"2021-07-01T06:00:00\",\"2021-07-01T06:15:00\",\"2021-07-01T06:30:00\",\"2021-07-01T06:45:00\",\"2021-07-01T07:00:00\",\"2021-07-01T07:15:00\",\"2021-07-01T07:30:00\",\"2021-07-01T07:45:00\",\"2021-07-01T08:00:00\",\"2021-07-01T08:15:00\",\"2021-07-01T08:30:00\",\"2021-07-01T08:45:00\",\"2021-07-01T09:00:00\",\"2021-07-01T09:15:00\",\"2021-07-01T09:30:00\",\"2021-07-01T09:45:00\",\"2021-07-01T10:00:00\",\"2021-07-01T10:15:00\",\"2021-07-01T10:30:00\",\"2021-07-01T10:45:00\",\"2021-07-01T11:00:00\",\"2021-07-01T11:15:00\",\"2021-07-01T11:30:00\",\"2021-07-01T11:45:00\",\"2021-07-01T12:00:00\",\"2021-07-01T12:15:00\",\"2021-07-01T12:30:00\",\"2021-07-01T12:45:00\",\"2021-07-01T13:00:00\",\"2021-07-01T13:15:00\",\"2021-07-01T13:30:00\",\"2021-07-01T13:45:00\",\"2021-07-01T14:00:00\",\"2021-07-01T14:15:00\",\"2021-07-01T14:30:00\",\"2021-07-01T14:45:00\",\"2021-07-01T15:00:00\",\"2021-07-01T15:15:00\",\"2021-07-01T15:30:00\",\"2021-07-01T15:45:00\",\"2021-07-01T16:00:00\",\"2021-07-01T16:15:00\",\"2021-07-01T16:30:00\",\"2021-07-01T16:45:00\",\"2021-07-01T17:00:00\",\"2021-07-01T17:15:00\",\"2021-07-01T17:30:00\",\"2021-07-01T17:45:00\",\"2021-07-01T18:00:00\",\"2021-07-01T18:15:00\",\"2021-07-01T18:30:00\",\"2021-07-01T18:45:00\",\"2021-07-01T19:00:00\",\"2021-07-01T19:15:00\",\"2021-07-01T19:30:00\",\"2021-07-01T19:45:00\",\"2021-07-01T20:00:00\",\"2021-07-01T20:15:00\",\"2021-07-01T20:30:00\",\"2021-07-01T20:45:00\",\"2021-07-01T21:00:00\",\"2021-07-01T21:15:00\",\"2021-07-01T21:30:00\",\"2021-07-01T21:45:00\",\"2021-07-01T22:00:00\",\"2021-07-01T22:15:00\",\"2021-07-01T22:30:00\",\"2021-07-01T22:45:00\",\"2021-07-01T23:00:00\",\"2021-07-01T23:15:00\",\"2021-07-01T23:30:00\",\"2021-07-01T23:45:00\",\"2021-07-02T00:00:00\",\"2021-07-02T00:15:00\",\"2021-07-02T00:30:00\",\"2021-07-02T00:45:00\",\"2021-07-02T01:00:00\",\"2021-07-02T01:15:00\",\"2021-07-02T01:30:00\",\"2021-07-02T01:45:00\",\"2021-07-02T02:00:00\",\"2021-07-02T02:15:00\",\"2021-07-02T02:30:00\",\"2021-07-02T02:45:00\",\"2021-07-02T03:00:00\",\"2021-07-02T03:15:00\",\"2021-07-02T03:30:00\",\"2021-07-02T03:45:00\",\"2021-07-02T04:00:00\",\"2021-07-02T04:15:00\",\"2021-07-02T04:30:00\",\"2021-07-02T04:45:00\",\"2021-07-02T05:00:00\",\"2021-07-02T05:15:00\",\"2021-07-02T05:30:00\",\"2021-07-02T05:45:00\",\"2021-07-02T06:00:00\",\"2021-07-02T06:15:00\",\"2021-07-02T06:30:00\",\"2021-07-02T06:45:00\",\"2021-07-02T07:00:00\",\"2021-07-02T07:15:00\",\"2021-07-02T07:30:00\",\"2021-07-02T07:45:00\",\"2021-07-02T08:00:00\",\"2021-07-02T08:15:00\",\"2021-07-02T08:30:00\",\"2021-07-02T08:45:00\",\"2021-07-02T09:00:00\",\"2021-07-02T09:15:00\",\"2021-07-02T09:30:00\",\"2021-07-02T09:45:00\",\"2021-07-02T10:00:00\",\"2021-07-02T10:15:00\",\"2021-07-02T10:30:00\",\"2021-07-02T10:45:00\",\"2021-07-02T11:00:00\",\"2021-07-02T11:15:00\",\"2021-07-02T11:30:00\",\"2021-07-02T11:45:00\",\"2021-07-02T12:00:00\"],\"y\":[null,null,null,null,null,null,null,null,null,null,null,null,null,null,null,null,null,null,null,null,null,null,null,null,null,null,null,null,null,null,null,null,null,null,null,null,null,null,null,null,null,null,null,null,null,null,null,null,null,null,null,null,null,null,null,null,null,null,null,null,null,null,null,null,null,null,null,null,null,null,null,null,null,null,null,null,null,null,null,null,null,null,null,null,null,null,null,null,null,null,null,null,null,null,null,null,null,null,null,null,null,null,null,null,null,null,null,null,null,1.84685,null,null,null,null,null,null,null,null,null,null,null,null,null,null,null,null,null,null,null,null,null,null,null,null,null,null,null,null,null,null,null,null,null,null,null,null,null,null,null,null,null,null,null,null,null,null,null,null,null,null,null,null,null,null,null,null,null,null,null,null,null,null,null,null,null,null,null,null,null,null,null,null,null,null,null,null,null,null,null,null,null,null,null,null,null,null,null,null,null,null,null,null,null,null,null,null,null,null,null,null,null,null,null,null,null,null,null,null,null,null,null,null,null,null,null,null,null,null,null,null,null,null,null,null,null,null,null,null,null,null,null,null,null,null,null,null,null,null,null,null,null,null,null,null,null,null,null,null,null,null,null,null,null,null,null,null,null,null,null,null,null,null,null,null,null,null,null,null,null,null,null,null,null,null,null,null,null,null,null,null,null,null,null,null,null,null,null,null,null,null,null,null,null,null,null,null,null,null,null,null,null,null,null,null,null,null,null,null,null,null,null,null,null,null,null,null,null,null,null,null,null,null,null,null,null,null,null,null,null,null,null,null,null,null,null,null,null,null,null,null,null,null,null,null,null,null,null,null,null,null,null,null,null,null,null,null,null,null,null,null,null,null,null,null,null,null,null,null,null,null,null,null,null,null,null,null,null,null,null,null,null,null,null,null,null,null,null,null,null,null,null,null,null,null,null,null,null,null,null,null,null,null,null,null,null,null,null,null,null,null,null,null,null,null,null,null,null,null,null,null,null,null,null,null,null,null,null,null,null,null,null,null,null,null,null,null,null,null,null,null,null,null,null,null,null,null,null,null,null,null,null,null,null,null,null,null,null,null,null,null,null,null,null,null,null,null,null,null,null,null,null,null,null,null,null,null,null,null,null,null,null,null,null,null,null,null,null,null,null,null,null,null,null,null,null,null,null,null,null,null,null,null,null,null,null,null,null,null,null,null,null,null,null,null,null,null,null,null,null,null,null,null,null,null,null,null,null,null,null,null,null,null,null,null,null,null,null,null,null,null,null,null,null,null,null,null,null,null,null,null,null,null,null,null,null,null,null,null,null,null,1.8337,null,null,null,null,null,null,null,null,null,null,null,null,null,null,null,null,null,null,null,null,null,null,null,null,null,null,null,null,null,null,null,null,null,null,null,null,null,null,null,null,null,null,null,null,null,null,null,null,null,null,null,null,null,null,null,null,null,null,null,null,null,null,null,null,null,null,null,null,null,null,null,null,null,null,null,null,null,null,null,null,null,null,null,null,null,null,null,null,null,null,null,null,null,null,null,null,null,null,1.83725,null,null,null,null,null,null,null,null,null,null,null,null,null,null,null,null,null,null,null,null,null,null,null,null,null,null,null,null,null,null,null,null,null,null,null,null,null,null,null,null,null,null,null,null,null,null,null,null,null,null,null,null,null,null,null,null,null,null,null,null,null,null,null,null,null,null,null,null,null,null,null,null,null,null,null,null,null,null,null,null,null,null,null,null,null,null,null,null,null,null,null,null,null,null,null,null,null,null,null,null,null,null,null,null,null,null,null,null,null,null,null,null,null,null,null,null,null,null,null,null,null,null,null,null,null,null,null,null,null,null,null,null,null,null,null,null,null,null,null,null,null,null,null,null,null,null,null,null,null,null,null,null,null,null,null,null,null,null,null,1.84524,null,null,null,null,null,null,null,null,null,null,null,null,null,null,null,null,null,null,null,null,null,null,null,null,null,null,null,null,null,null,null,null,null,null,null,null,null,null,null,null,null,null,null,null,null,null,null,null,null,null,null,null,null,null,null,null,null,null,null,null,null,null,null,null,null,null,null,null,null,null,null,null,null,null,null,null,null,null,null,null,null,null,null,null,null,null,null,null,null,null,null,null,null,null,null,null,null,null,null,null,null,null,null,null,null,null,null,1.84466,null,null,null,null,null,null,null,null,null,null,null,null,null,null,null,null,null,null,null,null,null,null,null,null,null,null,null,null,null,null,null,null,null,null,null]},{\"line\":{\"color\":\"red\"},\"marker\":{\"color\":\"red\",\"size\":10,\"symbol\":[6]},\"mode\":\"markers\",\"name\":\"PosibleVenta\",\"type\":\"scatter\",\"x\":[\"2021-06-18T05:00:00\",\"2021-06-18T05:15:00\",\"2021-06-18T05:30:00\",\"2021-06-18T05:45:00\",\"2021-06-18T06:00:00\",\"2021-06-18T06:15:00\",\"2021-06-18T06:30:00\",\"2021-06-18T06:45:00\",\"2021-06-18T07:00:00\",\"2021-06-18T07:15:00\",\"2021-06-18T07:30:00\",\"2021-06-18T07:45:00\",\"2021-06-18T08:00:00\",\"2021-06-18T08:15:00\",\"2021-06-18T08:30:00\",\"2021-06-18T08:45:00\",\"2021-06-18T09:00:00\",\"2021-06-18T09:15:00\",\"2021-06-18T09:30:00\",\"2021-06-18T09:45:00\",\"2021-06-18T10:00:00\",\"2021-06-18T10:15:00\",\"2021-06-18T10:30:00\",\"2021-06-18T10:45:00\",\"2021-06-18T11:00:00\",\"2021-06-18T11:15:00\",\"2021-06-18T11:30:00\",\"2021-06-18T11:45:00\",\"2021-06-18T12:00:00\",\"2021-06-18T12:15:00\",\"2021-06-18T12:30:00\",\"2021-06-18T12:45:00\",\"2021-06-18T13:00:00\",\"2021-06-18T13:15:00\",\"2021-06-18T13:30:00\",\"2021-06-18T13:45:00\",\"2021-06-18T14:00:00\",\"2021-06-18T14:15:00\",\"2021-06-18T14:30:00\",\"2021-06-18T14:45:00\",\"2021-06-18T15:00:00\",\"2021-06-18T15:15:00\",\"2021-06-18T15:30:00\",\"2021-06-18T15:45:00\",\"2021-06-18T16:00:00\",\"2021-06-18T16:15:00\",\"2021-06-18T16:30:00\",\"2021-06-18T16:45:00\",\"2021-06-18T17:00:00\",\"2021-06-18T17:15:00\",\"2021-06-18T17:30:00\",\"2021-06-18T17:45:00\",\"2021-06-18T18:00:00\",\"2021-06-18T18:15:00\",\"2021-06-18T18:30:00\",\"2021-06-18T18:45:00\",\"2021-06-18T19:00:00\",\"2021-06-18T19:15:00\",\"2021-06-18T19:30:00\",\"2021-06-18T19:45:00\",\"2021-06-18T20:00:00\",\"2021-06-18T20:15:00\",\"2021-06-18T20:30:00\",\"2021-06-18T20:45:00\",\"2021-06-18T21:00:00\",\"2021-06-18T21:15:00\",\"2021-06-18T21:30:00\",\"2021-06-18T21:45:00\",\"2021-06-21T00:00:00\",\"2021-06-21T00:15:00\",\"2021-06-21T00:30:00\",\"2021-06-21T00:45:00\",\"2021-06-21T01:00:00\",\"2021-06-21T01:15:00\",\"2021-06-21T01:30:00\",\"2021-06-21T01:45:00\",\"2021-06-21T02:00:00\",\"2021-06-21T02:15:00\",\"2021-06-21T02:30:00\",\"2021-06-21T02:45:00\",\"2021-06-21T03:00:00\",\"2021-06-21T03:15:00\",\"2021-06-21T03:30:00\",\"2021-06-21T03:45:00\",\"2021-06-21T04:00:00\",\"2021-06-21T04:15:00\",\"2021-06-21T04:30:00\",\"2021-06-21T04:45:00\",\"2021-06-21T05:00:00\",\"2021-06-21T05:15:00\",\"2021-06-21T05:30:00\",\"2021-06-21T05:45:00\",\"2021-06-21T06:00:00\",\"2021-06-21T06:15:00\",\"2021-06-21T06:30:00\",\"2021-06-21T06:45:00\",\"2021-06-21T07:00:00\",\"2021-06-21T07:15:00\",\"2021-06-21T07:30:00\",\"2021-06-21T07:45:00\",\"2021-06-21T08:00:00\",\"2021-06-21T08:15:00\",\"2021-06-21T08:30:00\",\"2021-06-21T08:45:00\",\"2021-06-21T09:00:00\",\"2021-06-21T09:15:00\",\"2021-06-21T09:30:00\",\"2021-06-21T09:45:00\",\"2021-06-21T10:00:00\",\"2021-06-21T10:15:00\",\"2021-06-21T10:30:00\",\"2021-06-21T10:45:00\",\"2021-06-21T11:00:00\",\"2021-06-21T11:15:00\",\"2021-06-21T11:30:00\",\"2021-06-21T11:45:00\",\"2021-06-21T12:00:00\",\"2021-06-21T12:15:00\",\"2021-06-21T12:30:00\",\"2021-06-21T12:45:00\",\"2021-06-21T13:00:00\",\"2021-06-21T13:15:00\",\"2021-06-21T13:30:00\",\"2021-06-21T13:45:00\",\"2021-06-21T14:00:00\",\"2021-06-21T14:15:00\",\"2021-06-21T14:30:00\",\"2021-06-21T14:45:00\",\"2021-06-21T15:00:00\",\"2021-06-21T15:15:00\",\"2021-06-21T15:30:00\",\"2021-06-21T15:45:00\",\"2021-06-21T16:00:00\",\"2021-06-21T16:15:00\",\"2021-06-21T16:30:00\",\"2021-06-21T16:45:00\",\"2021-06-21T17:00:00\",\"2021-06-21T17:15:00\",\"2021-06-21T17:30:00\",\"2021-06-21T17:45:00\",\"2021-06-21T18:00:00\",\"2021-06-21T18:15:00\",\"2021-06-21T18:30:00\",\"2021-06-21T18:45:00\",\"2021-06-21T19:00:00\",\"2021-06-21T19:15:00\",\"2021-06-21T19:30:00\",\"2021-06-21T19:45:00\",\"2021-06-21T20:00:00\",\"2021-06-21T20:15:00\",\"2021-06-21T20:30:00\",\"2021-06-21T20:45:00\",\"2021-06-21T21:00:00\",\"2021-06-21T21:15:00\",\"2021-06-21T21:30:00\",\"2021-06-21T21:45:00\",\"2021-06-21T22:00:00\",\"2021-06-21T22:15:00\",\"2021-06-21T22:30:00\",\"2021-06-21T22:45:00\",\"2021-06-21T23:00:00\",\"2021-06-21T23:15:00\",\"2021-06-21T23:30:00\",\"2021-06-21T23:45:00\",\"2021-06-22T00:00:00\",\"2021-06-22T00:15:00\",\"2021-06-22T00:30:00\",\"2021-06-22T00:45:00\",\"2021-06-22T01:00:00\",\"2021-06-22T01:15:00\",\"2021-06-22T01:30:00\",\"2021-06-22T01:45:00\",\"2021-06-22T02:00:00\",\"2021-06-22T02:15:00\",\"2021-06-22T02:30:00\",\"2021-06-22T02:45:00\",\"2021-06-22T03:00:00\",\"2021-06-22T03:15:00\",\"2021-06-22T03:30:00\",\"2021-06-22T03:45:00\",\"2021-06-22T04:00:00\",\"2021-06-22T04:15:00\",\"2021-06-22T04:30:00\",\"2021-06-22T04:45:00\",\"2021-06-22T05:00:00\",\"2021-06-22T05:15:00\",\"2021-06-22T05:30:00\",\"2021-06-22T05:45:00\",\"2021-06-22T06:00:00\",\"2021-06-22T06:15:00\",\"2021-06-22T06:30:00\",\"2021-06-22T06:45:00\",\"2021-06-22T07:00:00\",\"2021-06-22T07:15:00\",\"2021-06-22T07:30:00\",\"2021-06-22T07:45:00\",\"2021-06-22T08:00:00\",\"2021-06-22T08:15:00\",\"2021-06-22T08:30:00\",\"2021-06-22T08:45:00\",\"2021-06-22T09:00:00\",\"2021-06-22T09:15:00\",\"2021-06-22T09:30:00\",\"2021-06-22T09:45:00\",\"2021-06-22T10:00:00\",\"2021-06-22T10:15:00\",\"2021-06-22T10:30:00\",\"2021-06-22T10:45:00\",\"2021-06-22T11:00:00\",\"2021-06-22T11:15:00\",\"2021-06-22T11:30:00\",\"2021-06-22T11:45:00\",\"2021-06-22T12:00:00\",\"2021-06-22T12:15:00\",\"2021-06-22T12:30:00\",\"2021-06-22T12:45:00\",\"2021-06-22T13:00:00\",\"2021-06-22T13:15:00\",\"2021-06-22T13:30:00\",\"2021-06-22T13:45:00\",\"2021-06-22T14:00:00\",\"2021-06-22T14:15:00\",\"2021-06-22T14:30:00\",\"2021-06-22T14:45:00\",\"2021-06-22T15:00:00\",\"2021-06-22T15:15:00\",\"2021-06-22T15:30:00\",\"2021-06-22T15:45:00\",\"2021-06-22T16:00:00\",\"2021-06-22T16:15:00\",\"2021-06-22T16:30:00\",\"2021-06-22T16:45:00\",\"2021-06-22T17:00:00\",\"2021-06-22T17:15:00\",\"2021-06-22T17:30:00\",\"2021-06-22T17:45:00\",\"2021-06-22T18:00:00\",\"2021-06-22T18:15:00\",\"2021-06-22T18:30:00\",\"2021-06-22T18:45:00\",\"2021-06-22T19:00:00\",\"2021-06-22T19:15:00\",\"2021-06-22T19:30:00\",\"2021-06-22T19:45:00\",\"2021-06-22T20:00:00\",\"2021-06-22T20:15:00\",\"2021-06-22T20:30:00\",\"2021-06-22T20:45:00\",\"2021-06-22T21:00:00\",\"2021-06-22T21:15:00\",\"2021-06-22T21:30:00\",\"2021-06-22T21:45:00\",\"2021-06-22T22:00:00\",\"2021-06-22T22:15:00\",\"2021-06-22T22:30:00\",\"2021-06-22T22:45:00\",\"2021-06-22T23:00:00\",\"2021-06-22T23:15:00\",\"2021-06-22T23:30:00\",\"2021-06-22T23:45:00\",\"2021-06-23T00:00:00\",\"2021-06-23T00:15:00\",\"2021-06-23T00:30:00\",\"2021-06-23T00:45:00\",\"2021-06-23T01:00:00\",\"2021-06-23T01:15:00\",\"2021-06-23T01:30:00\",\"2021-06-23T01:45:00\",\"2021-06-23T02:00:00\",\"2021-06-23T02:15:00\",\"2021-06-23T02:30:00\",\"2021-06-23T02:45:00\",\"2021-06-23T03:00:00\",\"2021-06-23T03:15:00\",\"2021-06-23T03:30:00\",\"2021-06-23T03:45:00\",\"2021-06-23T04:00:00\",\"2021-06-23T04:15:00\",\"2021-06-23T04:30:00\",\"2021-06-23T04:45:00\",\"2021-06-23T05:00:00\",\"2021-06-23T05:15:00\",\"2021-06-23T05:30:00\",\"2021-06-23T05:45:00\",\"2021-06-23T06:00:00\",\"2021-06-23T06:15:00\",\"2021-06-23T06:30:00\",\"2021-06-23T06:45:00\",\"2021-06-23T07:00:00\",\"2021-06-23T07:15:00\",\"2021-06-23T07:30:00\",\"2021-06-23T07:45:00\",\"2021-06-23T08:00:00\",\"2021-06-23T08:15:00\",\"2021-06-23T08:30:00\",\"2021-06-23T08:45:00\",\"2021-06-23T09:00:00\",\"2021-06-23T09:15:00\",\"2021-06-23T09:30:00\",\"2021-06-23T09:45:00\",\"2021-06-23T10:00:00\",\"2021-06-23T10:15:00\",\"2021-06-23T10:30:00\",\"2021-06-23T10:45:00\",\"2021-06-23T11:00:00\",\"2021-06-23T11:15:00\",\"2021-06-23T11:30:00\",\"2021-06-23T11:45:00\",\"2021-06-23T12:00:00\",\"2021-06-23T12:15:00\",\"2021-06-23T12:30:00\",\"2021-06-23T12:45:00\",\"2021-06-23T13:00:00\",\"2021-06-23T13:15:00\",\"2021-06-23T13:30:00\",\"2021-06-23T13:45:00\",\"2021-06-23T14:00:00\",\"2021-06-23T14:15:00\",\"2021-06-23T14:30:00\",\"2021-06-23T14:45:00\",\"2021-06-23T15:00:00\",\"2021-06-23T15:15:00\",\"2021-06-23T15:30:00\",\"2021-06-23T15:45:00\",\"2021-06-23T16:00:00\",\"2021-06-23T16:15:00\",\"2021-06-23T16:30:00\",\"2021-06-23T16:45:00\",\"2021-06-23T17:00:00\",\"2021-06-23T17:15:00\",\"2021-06-23T17:30:00\",\"2021-06-23T17:45:00\",\"2021-06-23T18:00:00\",\"2021-06-23T18:15:00\",\"2021-06-23T18:30:00\",\"2021-06-23T18:45:00\",\"2021-06-23T19:00:00\",\"2021-06-23T19:15:00\",\"2021-06-23T19:30:00\",\"2021-06-23T19:45:00\",\"2021-06-23T20:00:00\",\"2021-06-23T20:15:00\",\"2021-06-23T20:30:00\",\"2021-06-23T20:45:00\",\"2021-06-23T21:00:00\",\"2021-06-23T21:15:00\",\"2021-06-23T21:30:00\",\"2021-06-23T21:45:00\",\"2021-06-23T22:00:00\",\"2021-06-23T22:15:00\",\"2021-06-23T22:30:00\",\"2021-06-23T22:45:00\",\"2021-06-23T23:00:00\",\"2021-06-23T23:15:00\",\"2021-06-23T23:30:00\",\"2021-06-23T23:45:00\",\"2021-06-24T00:00:00\",\"2021-06-24T00:15:00\",\"2021-06-24T00:30:00\",\"2021-06-24T00:45:00\",\"2021-06-24T01:00:00\",\"2021-06-24T01:15:00\",\"2021-06-24T01:30:00\",\"2021-06-24T01:45:00\",\"2021-06-24T02:00:00\",\"2021-06-24T02:15:00\",\"2021-06-24T02:30:00\",\"2021-06-24T02:45:00\",\"2021-06-24T03:00:00\",\"2021-06-24T03:15:00\",\"2021-06-24T03:30:00\",\"2021-06-24T03:45:00\",\"2021-06-24T04:00:00\",\"2021-06-24T04:15:00\",\"2021-06-24T04:30:00\",\"2021-06-24T04:45:00\",\"2021-06-24T05:00:00\",\"2021-06-24T05:15:00\",\"2021-06-24T05:30:00\",\"2021-06-24T05:45:00\",\"2021-06-24T06:00:00\",\"2021-06-24T06:15:00\",\"2021-06-24T06:30:00\",\"2021-06-24T06:45:00\",\"2021-06-24T07:00:00\",\"2021-06-24T07:15:00\",\"2021-06-24T07:30:00\",\"2021-06-24T07:45:00\",\"2021-06-24T08:00:00\",\"2021-06-24T08:15:00\",\"2021-06-24T08:30:00\",\"2021-06-24T08:45:00\",\"2021-06-24T09:00:00\",\"2021-06-24T09:15:00\",\"2021-06-24T09:30:00\",\"2021-06-24T09:45:00\",\"2021-06-24T10:00:00\",\"2021-06-24T10:15:00\",\"2021-06-24T10:30:00\",\"2021-06-24T10:45:00\",\"2021-06-24T11:00:00\",\"2021-06-24T11:15:00\",\"2021-06-24T11:30:00\",\"2021-06-24T11:45:00\",\"2021-06-24T12:00:00\",\"2021-06-24T12:15:00\",\"2021-06-24T12:30:00\",\"2021-06-24T12:45:00\",\"2021-06-24T13:00:00\",\"2021-06-24T13:15:00\",\"2021-06-24T13:30:00\",\"2021-06-24T13:45:00\",\"2021-06-24T14:00:00\",\"2021-06-24T14:15:00\",\"2021-06-24T14:30:00\",\"2021-06-24T14:45:00\",\"2021-06-24T15:00:00\",\"2021-06-24T15:15:00\",\"2021-06-24T15:30:00\",\"2021-06-24T15:45:00\",\"2021-06-24T16:00:00\",\"2021-06-24T16:15:00\",\"2021-06-24T16:30:00\",\"2021-06-24T16:45:00\",\"2021-06-24T17:00:00\",\"2021-06-24T17:15:00\",\"2021-06-24T17:30:00\",\"2021-06-24T17:45:00\",\"2021-06-24T18:00:00\",\"2021-06-24T18:15:00\",\"2021-06-24T18:30:00\",\"2021-06-24T18:45:00\",\"2021-06-24T19:00:00\",\"2021-06-24T19:15:00\",\"2021-06-24T19:30:00\",\"2021-06-24T19:45:00\",\"2021-06-24T20:00:00\",\"2021-06-24T20:15:00\",\"2021-06-24T20:30:00\",\"2021-06-24T20:45:00\",\"2021-06-24T21:00:00\",\"2021-06-24T21:15:00\",\"2021-06-24T21:30:00\",\"2021-06-24T21:45:00\",\"2021-06-24T22:00:00\",\"2021-06-24T22:15:00\",\"2021-06-24T22:30:00\",\"2021-06-24T22:45:00\",\"2021-06-24T23:00:00\",\"2021-06-24T23:15:00\",\"2021-06-24T23:30:00\",\"2021-06-24T23:45:00\",\"2021-06-25T00:00:00\",\"2021-06-25T00:15:00\",\"2021-06-25T00:30:00\",\"2021-06-25T00:45:00\",\"2021-06-25T01:00:00\",\"2021-06-25T01:15:00\",\"2021-06-25T01:30:00\",\"2021-06-25T01:45:00\",\"2021-06-25T02:00:00\",\"2021-06-25T02:15:00\",\"2021-06-25T02:30:00\",\"2021-06-25T02:45:00\",\"2021-06-25T03:00:00\",\"2021-06-25T03:15:00\",\"2021-06-25T03:30:00\",\"2021-06-25T03:45:00\",\"2021-06-25T04:00:00\",\"2021-06-25T04:15:00\",\"2021-06-25T04:30:00\",\"2021-06-25T04:45:00\",\"2021-06-25T05:00:00\",\"2021-06-25T05:15:00\",\"2021-06-25T05:30:00\",\"2021-06-25T05:45:00\",\"2021-06-25T06:00:00\",\"2021-06-25T06:15:00\",\"2021-06-25T06:30:00\",\"2021-06-25T06:45:00\",\"2021-06-25T07:00:00\",\"2021-06-25T07:15:00\",\"2021-06-25T07:30:00\",\"2021-06-25T07:45:00\",\"2021-06-25T08:00:00\",\"2021-06-25T08:15:00\",\"2021-06-25T08:30:00\",\"2021-06-25T08:45:00\",\"2021-06-25T09:00:00\",\"2021-06-25T09:15:00\",\"2021-06-25T09:30:00\",\"2021-06-25T09:45:00\",\"2021-06-25T10:00:00\",\"2021-06-25T10:15:00\",\"2021-06-25T10:30:00\",\"2021-06-25T10:45:00\",\"2021-06-25T11:00:00\",\"2021-06-25T11:15:00\",\"2021-06-25T11:30:00\",\"2021-06-25T11:45:00\",\"2021-06-25T12:00:00\",\"2021-06-25T12:15:00\",\"2021-06-25T12:30:00\",\"2021-06-25T12:45:00\",\"2021-06-25T13:00:00\",\"2021-06-25T13:15:00\",\"2021-06-25T13:30:00\",\"2021-06-25T13:45:00\",\"2021-06-25T14:00:00\",\"2021-06-25T14:15:00\",\"2021-06-25T14:30:00\",\"2021-06-25T14:45:00\",\"2021-06-25T15:00:00\",\"2021-06-25T15:15:00\",\"2021-06-25T15:30:00\",\"2021-06-25T15:45:00\",\"2021-06-25T16:00:00\",\"2021-06-25T16:15:00\",\"2021-06-25T16:30:00\",\"2021-06-25T16:45:00\",\"2021-06-25T17:00:00\",\"2021-06-25T17:15:00\",\"2021-06-25T17:30:00\",\"2021-06-25T17:45:00\",\"2021-06-25T18:00:00\",\"2021-06-25T18:15:00\",\"2021-06-25T18:30:00\",\"2021-06-25T18:45:00\",\"2021-06-25T19:00:00\",\"2021-06-25T19:15:00\",\"2021-06-25T19:30:00\",\"2021-06-25T19:45:00\",\"2021-06-25T20:00:00\",\"2021-06-25T20:15:00\",\"2021-06-25T20:30:00\",\"2021-06-25T20:45:00\",\"2021-06-25T21:00:00\",\"2021-06-25T21:15:00\",\"2021-06-25T21:30:00\",\"2021-06-25T21:45:00\",\"2021-06-28T00:00:00\",\"2021-06-28T00:15:00\",\"2021-06-28T00:30:00\",\"2021-06-28T00:45:00\",\"2021-06-28T01:00:00\",\"2021-06-28T01:15:00\",\"2021-06-28T01:30:00\",\"2021-06-28T01:45:00\",\"2021-06-28T02:00:00\",\"2021-06-28T02:15:00\",\"2021-06-28T02:30:00\",\"2021-06-28T02:45:00\",\"2021-06-28T03:00:00\",\"2021-06-28T03:15:00\",\"2021-06-28T03:30:00\",\"2021-06-28T03:45:00\",\"2021-06-28T04:00:00\",\"2021-06-28T04:15:00\",\"2021-06-28T04:30:00\",\"2021-06-28T04:45:00\",\"2021-06-28T05:00:00\",\"2021-06-28T05:15:00\",\"2021-06-28T05:30:00\",\"2021-06-28T05:45:00\",\"2021-06-28T06:00:00\",\"2021-06-28T06:15:00\",\"2021-06-28T06:30:00\",\"2021-06-28T06:45:00\",\"2021-06-28T07:00:00\",\"2021-06-28T07:15:00\",\"2021-06-28T07:30:00\",\"2021-06-28T07:45:00\",\"2021-06-28T08:00:00\",\"2021-06-28T08:15:00\",\"2021-06-28T08:30:00\",\"2021-06-28T08:45:00\",\"2021-06-28T09:00:00\",\"2021-06-28T09:15:00\",\"2021-06-28T09:30:00\",\"2021-06-28T09:45:00\",\"2021-06-28T10:00:00\",\"2021-06-28T10:15:00\",\"2021-06-28T10:30:00\",\"2021-06-28T10:45:00\",\"2021-06-28T11:00:00\",\"2021-06-28T11:15:00\",\"2021-06-28T11:30:00\",\"2021-06-28T11:45:00\",\"2021-06-28T12:00:00\",\"2021-06-28T12:15:00\",\"2021-06-28T12:30:00\",\"2021-06-28T12:45:00\",\"2021-06-28T13:00:00\",\"2021-06-28T13:15:00\",\"2021-06-28T13:30:00\",\"2021-06-28T13:45:00\",\"2021-06-28T14:00:00\",\"2021-06-28T14:15:00\",\"2021-06-28T14:30:00\",\"2021-06-28T14:45:00\",\"2021-06-28T15:00:00\",\"2021-06-28T15:15:00\",\"2021-06-28T15:30:00\",\"2021-06-28T15:45:00\",\"2021-06-28T16:00:00\",\"2021-06-28T16:15:00\",\"2021-06-28T16:30:00\",\"2021-06-28T16:45:00\",\"2021-06-28T17:00:00\",\"2021-06-28T17:15:00\",\"2021-06-28T17:30:00\",\"2021-06-28T17:45:00\",\"2021-06-28T18:00:00\",\"2021-06-28T18:15:00\",\"2021-06-28T18:30:00\",\"2021-06-28T18:45:00\",\"2021-06-28T19:00:00\",\"2021-06-28T19:15:00\",\"2021-06-28T19:30:00\",\"2021-06-28T19:45:00\",\"2021-06-28T20:00:00\",\"2021-06-28T20:15:00\",\"2021-06-28T20:30:00\",\"2021-06-28T20:45:00\",\"2021-06-28T21:00:00\",\"2021-06-28T21:15:00\",\"2021-06-28T21:30:00\",\"2021-06-28T21:45:00\",\"2021-06-28T22:00:00\",\"2021-06-28T22:15:00\",\"2021-06-28T22:30:00\",\"2021-06-28T22:45:00\",\"2021-06-28T23:00:00\",\"2021-06-28T23:15:00\",\"2021-06-28T23:30:00\",\"2021-06-28T23:45:00\",\"2021-06-29T00:00:00\",\"2021-06-29T00:15:00\",\"2021-06-29T00:30:00\",\"2021-06-29T00:45:00\",\"2021-06-29T01:00:00\",\"2021-06-29T01:15:00\",\"2021-06-29T01:30:00\",\"2021-06-29T01:45:00\",\"2021-06-29T02:00:00\",\"2021-06-29T02:15:00\",\"2021-06-29T02:30:00\",\"2021-06-29T02:45:00\",\"2021-06-29T03:00:00\",\"2021-06-29T03:15:00\",\"2021-06-29T03:30:00\",\"2021-06-29T03:45:00\",\"2021-06-29T04:00:00\",\"2021-06-29T04:15:00\",\"2021-06-29T04:30:00\",\"2021-06-29T04:45:00\",\"2021-06-29T05:00:00\",\"2021-06-29T05:15:00\",\"2021-06-29T05:30:00\",\"2021-06-29T05:45:00\",\"2021-06-29T06:00:00\",\"2021-06-29T06:15:00\",\"2021-06-29T06:30:00\",\"2021-06-29T06:45:00\",\"2021-06-29T07:00:00\",\"2021-06-29T07:15:00\",\"2021-06-29T07:30:00\",\"2021-06-29T07:45:00\",\"2021-06-29T08:00:00\",\"2021-06-29T08:15:00\",\"2021-06-29T08:30:00\",\"2021-06-29T08:45:00\",\"2021-06-29T09:00:00\",\"2021-06-29T09:15:00\",\"2021-06-29T09:30:00\",\"2021-06-29T09:45:00\",\"2021-06-29T10:00:00\",\"2021-06-29T10:15:00\",\"2021-06-29T10:30:00\",\"2021-06-29T10:45:00\",\"2021-06-29T11:00:00\",\"2021-06-29T11:15:00\",\"2021-06-29T11:30:00\",\"2021-06-29T11:45:00\",\"2021-06-29T12:00:00\",\"2021-06-29T12:15:00\",\"2021-06-29T12:30:00\",\"2021-06-29T12:45:00\",\"2021-06-29T13:00:00\",\"2021-06-29T13:15:00\",\"2021-06-29T13:30:00\",\"2021-06-29T13:45:00\",\"2021-06-29T14:00:00\",\"2021-06-29T14:15:00\",\"2021-06-29T14:30:00\",\"2021-06-29T14:45:00\",\"2021-06-29T15:00:00\",\"2021-06-29T15:15:00\",\"2021-06-29T15:30:00\",\"2021-06-29T15:45:00\",\"2021-06-29T16:00:00\",\"2021-06-29T16:15:00\",\"2021-06-29T16:30:00\",\"2021-06-29T16:45:00\",\"2021-06-29T17:00:00\",\"2021-06-29T17:15:00\",\"2021-06-29T17:30:00\",\"2021-06-29T17:45:00\",\"2021-06-29T18:00:00\",\"2021-06-29T18:15:00\",\"2021-06-29T18:30:00\",\"2021-06-29T18:45:00\",\"2021-06-29T19:00:00\",\"2021-06-29T19:15:00\",\"2021-06-29T19:30:00\",\"2021-06-29T19:45:00\",\"2021-06-29T20:00:00\",\"2021-06-29T20:15:00\",\"2021-06-29T20:30:00\",\"2021-06-29T20:45:00\",\"2021-06-29T21:00:00\",\"2021-06-29T21:15:00\",\"2021-06-29T21:30:00\",\"2021-06-29T21:45:00\",\"2021-06-29T22:00:00\",\"2021-06-29T22:15:00\",\"2021-06-29T22:30:00\",\"2021-06-29T22:45:00\",\"2021-06-29T23:00:00\",\"2021-06-29T23:15:00\",\"2021-06-29T23:30:00\",\"2021-06-29T23:45:00\",\"2021-06-30T00:00:00\",\"2021-06-30T00:15:00\",\"2021-06-30T00:30:00\",\"2021-06-30T00:45:00\",\"2021-06-30T01:00:00\",\"2021-06-30T01:15:00\",\"2021-06-30T01:30:00\",\"2021-06-30T01:45:00\",\"2021-06-30T02:00:00\",\"2021-06-30T02:15:00\",\"2021-06-30T02:30:00\",\"2021-06-30T02:45:00\",\"2021-06-30T03:00:00\",\"2021-06-30T03:15:00\",\"2021-06-30T03:30:00\",\"2021-06-30T03:45:00\",\"2021-06-30T04:00:00\",\"2021-06-30T04:15:00\",\"2021-06-30T04:30:00\",\"2021-06-30T04:45:00\",\"2021-06-30T05:00:00\",\"2021-06-30T05:15:00\",\"2021-06-30T05:30:00\",\"2021-06-30T05:45:00\",\"2021-06-30T06:00:00\",\"2021-06-30T06:15:00\",\"2021-06-30T06:30:00\",\"2021-06-30T06:45:00\",\"2021-06-30T07:00:00\",\"2021-06-30T07:15:00\",\"2021-06-30T07:30:00\",\"2021-06-30T07:45:00\",\"2021-06-30T08:00:00\",\"2021-06-30T08:15:00\",\"2021-06-30T08:30:00\",\"2021-06-30T08:45:00\",\"2021-06-30T09:00:00\",\"2021-06-30T09:15:00\",\"2021-06-30T09:30:00\",\"2021-06-30T09:45:00\",\"2021-06-30T10:00:00\",\"2021-06-30T10:15:00\",\"2021-06-30T10:30:00\",\"2021-06-30T10:45:00\",\"2021-06-30T11:00:00\",\"2021-06-30T11:15:00\",\"2021-06-30T11:30:00\",\"2021-06-30T11:45:00\",\"2021-06-30T12:00:00\",\"2021-06-30T12:15:00\",\"2021-06-30T12:30:00\",\"2021-06-30T12:45:00\",\"2021-06-30T13:00:00\",\"2021-06-30T13:15:00\",\"2021-06-30T13:30:00\",\"2021-06-30T13:45:00\",\"2021-06-30T14:00:00\",\"2021-06-30T14:15:00\",\"2021-06-30T14:30:00\",\"2021-06-30T14:45:00\",\"2021-06-30T15:00:00\",\"2021-06-30T15:15:00\",\"2021-06-30T15:30:00\",\"2021-06-30T15:45:00\",\"2021-06-30T16:00:00\",\"2021-06-30T16:15:00\",\"2021-06-30T16:30:00\",\"2021-06-30T16:45:00\",\"2021-06-30T17:00:00\",\"2021-06-30T17:15:00\",\"2021-06-30T17:30:00\",\"2021-06-30T17:45:00\",\"2021-06-30T18:00:00\",\"2021-06-30T18:15:00\",\"2021-06-30T18:30:00\",\"2021-06-30T18:45:00\",\"2021-06-30T19:00:00\",\"2021-06-30T19:15:00\",\"2021-06-30T19:30:00\",\"2021-06-30T19:45:00\",\"2021-06-30T20:00:00\",\"2021-06-30T20:15:00\",\"2021-06-30T20:30:00\",\"2021-06-30T20:45:00\",\"2021-06-30T21:00:00\",\"2021-06-30T21:15:00\",\"2021-06-30T21:30:00\",\"2021-06-30T21:45:00\",\"2021-06-30T22:00:00\",\"2021-06-30T22:15:00\",\"2021-06-30T22:30:00\",\"2021-06-30T22:45:00\",\"2021-06-30T23:00:00\",\"2021-06-30T23:15:00\",\"2021-06-30T23:30:00\",\"2021-06-30T23:45:00\",\"2021-07-01T00:00:00\",\"2021-07-01T00:15:00\",\"2021-07-01T00:30:00\",\"2021-07-01T00:45:00\",\"2021-07-01T01:00:00\",\"2021-07-01T01:15:00\",\"2021-07-01T01:30:00\",\"2021-07-01T01:45:00\",\"2021-07-01T02:00:00\",\"2021-07-01T02:15:00\",\"2021-07-01T02:30:00\",\"2021-07-01T02:45:00\",\"2021-07-01T03:00:00\",\"2021-07-01T03:15:00\",\"2021-07-01T03:30:00\",\"2021-07-01T03:45:00\",\"2021-07-01T04:00:00\",\"2021-07-01T04:15:00\",\"2021-07-01T04:30:00\",\"2021-07-01T04:45:00\",\"2021-07-01T05:00:00\",\"2021-07-01T05:15:00\",\"2021-07-01T05:30:00\",\"2021-07-01T05:45:00\",\"2021-07-01T06:00:00\",\"2021-07-01T06:15:00\",\"2021-07-01T06:30:00\",\"2021-07-01T06:45:00\",\"2021-07-01T07:00:00\",\"2021-07-01T07:15:00\",\"2021-07-01T07:30:00\",\"2021-07-01T07:45:00\",\"2021-07-01T08:00:00\",\"2021-07-01T08:15:00\",\"2021-07-01T08:30:00\",\"2021-07-01T08:45:00\",\"2021-07-01T09:00:00\",\"2021-07-01T09:15:00\",\"2021-07-01T09:30:00\",\"2021-07-01T09:45:00\",\"2021-07-01T10:00:00\",\"2021-07-01T10:15:00\",\"2021-07-01T10:30:00\",\"2021-07-01T10:45:00\",\"2021-07-01T11:00:00\",\"2021-07-01T11:15:00\",\"2021-07-01T11:30:00\",\"2021-07-01T11:45:00\",\"2021-07-01T12:00:00\",\"2021-07-01T12:15:00\",\"2021-07-01T12:30:00\",\"2021-07-01T12:45:00\",\"2021-07-01T13:00:00\",\"2021-07-01T13:15:00\",\"2021-07-01T13:30:00\",\"2021-07-01T13:45:00\",\"2021-07-01T14:00:00\",\"2021-07-01T14:15:00\",\"2021-07-01T14:30:00\",\"2021-07-01T14:45:00\",\"2021-07-01T15:00:00\",\"2021-07-01T15:15:00\",\"2021-07-01T15:30:00\",\"2021-07-01T15:45:00\",\"2021-07-01T16:00:00\",\"2021-07-01T16:15:00\",\"2021-07-01T16:30:00\",\"2021-07-01T16:45:00\",\"2021-07-01T17:00:00\",\"2021-07-01T17:15:00\",\"2021-07-01T17:30:00\",\"2021-07-01T17:45:00\",\"2021-07-01T18:00:00\",\"2021-07-01T18:15:00\",\"2021-07-01T18:30:00\",\"2021-07-01T18:45:00\",\"2021-07-01T19:00:00\",\"2021-07-01T19:15:00\",\"2021-07-01T19:30:00\",\"2021-07-01T19:45:00\",\"2021-07-01T20:00:00\",\"2021-07-01T20:15:00\",\"2021-07-01T20:30:00\",\"2021-07-01T20:45:00\",\"2021-07-01T21:00:00\",\"2021-07-01T21:15:00\",\"2021-07-01T21:30:00\",\"2021-07-01T21:45:00\",\"2021-07-01T22:00:00\",\"2021-07-01T22:15:00\",\"2021-07-01T22:30:00\",\"2021-07-01T22:45:00\",\"2021-07-01T23:00:00\",\"2021-07-01T23:15:00\",\"2021-07-01T23:30:00\",\"2021-07-01T23:45:00\",\"2021-07-02T00:00:00\",\"2021-07-02T00:15:00\",\"2021-07-02T00:30:00\",\"2021-07-02T00:45:00\",\"2021-07-02T01:00:00\",\"2021-07-02T01:15:00\",\"2021-07-02T01:30:00\",\"2021-07-02T01:45:00\",\"2021-07-02T02:00:00\",\"2021-07-02T02:15:00\",\"2021-07-02T02:30:00\",\"2021-07-02T02:45:00\",\"2021-07-02T03:00:00\",\"2021-07-02T03:15:00\",\"2021-07-02T03:30:00\",\"2021-07-02T03:45:00\",\"2021-07-02T04:00:00\",\"2021-07-02T04:15:00\",\"2021-07-02T04:30:00\",\"2021-07-02T04:45:00\",\"2021-07-02T05:00:00\",\"2021-07-02T05:15:00\",\"2021-07-02T05:30:00\",\"2021-07-02T05:45:00\",\"2021-07-02T06:00:00\",\"2021-07-02T06:15:00\",\"2021-07-02T06:30:00\",\"2021-07-02T06:45:00\",\"2021-07-02T07:00:00\",\"2021-07-02T07:15:00\",\"2021-07-02T07:30:00\",\"2021-07-02T07:45:00\",\"2021-07-02T08:00:00\",\"2021-07-02T08:15:00\",\"2021-07-02T08:30:00\",\"2021-07-02T08:45:00\",\"2021-07-02T09:00:00\",\"2021-07-02T09:15:00\",\"2021-07-02T09:30:00\",\"2021-07-02T09:45:00\",\"2021-07-02T10:00:00\",\"2021-07-02T10:15:00\",\"2021-07-02T10:30:00\",\"2021-07-02T10:45:00\",\"2021-07-02T11:00:00\",\"2021-07-02T11:15:00\",\"2021-07-02T11:30:00\",\"2021-07-02T11:45:00\",\"2021-07-02T12:00:00\"],\"y\":[null,null,null,null,null,null,null,null,null,null,null,null,null,null,null,null,null,null,null,null,null,null,null,null,null,null,null,null,null,null,null,null,null,null,null,null,null,null,null,null,null,null,null,null,null,null,null,null,null,null,null,null,null,null,null,null,null,null,null,null,null,null,null,null,null,null,null,null,null,null,null,null,null,null,null,null,null,null,null,null,null,null,null,null,null,null,null,null,null,null,null,null,null,null,null,null,null,null,null,1.84382,null,null,null,null,null,null,null,null,null,null,null,null,null,null,null,null,null,null,null,null,null,null,null,null,null,null,null,null,null,null,null,null,null,null,null,null,null,null,null,null,null,null,null,null,null,null,null,null,null,null,null,null,null,null,null,null,null,null,null,null,null,null,null,null,null,null,null,null,null,null,null,null,null,null,null,null,null,null,null,null,null,null,null,null,null,null,null,null,null,null,null,null,null,null,null,null,null,null,null,null,null,null,null,null,null,null,null,null,null,null,null,null,null,null,null,null,null,null,null,null,null,null,null,null,null,null,null,null,null,null,null,null,null,null,null,null,null,null,null,null,1.84551,null,null,null,null,null,null,null,null,null,null,null,null,null,null,null,null,null,null,null,null,null,null,null,null,null,null,null,null,null,null,null,null,null,null,null,null,null,null,null,null,null,null,null,null,null,null,null,null,null,null,null,null,null,null,null,null,null,null,null,null,null,null,null,null,null,null,null,null,null,null,null,null,null,null,null,null,null,null,null,null,null,null,null,null,null,null,null,null,null,null,null,null,null,null,null,null,null,null,null,null,null,null,null,null,null,null,null,null,null,null,null,null,null,null,null,null,null,null,null,null,null,null,null,null,null,null,null,null,null,null,null,null,null,null,null,null,null,null,null,null,null,null,null,null,null,null,null,null,null,null,null,null,null,null,null,null,null,null,null,null,null,null,null,null,null,null,null,null,null,null,null,null,null,null,null,null,null,null,null,null,null,null,null,null,null,null,null,null,null,null,null,null,null,null,null,null,null,null,null,null,null,null,null,null,null,null,null,null,null,null,null,null,null,null,null,null,null,null,null,null,null,null,null,null,null,null,null,null,null,null,null,null,null,null,null,null,null,null,null,null,null,null,null,null,null,null,null,null,null,null,null,null,null,null,null,null,null,null,null,null,null,null,null,null,null,null,null,null,null,null,null,null,null,null,null,null,null,null,null,null,null,null,null,null,null,null,null,null,null,null,null,null,null,null,null,null,null,null,null,null,null,null,null,null,null,null,null,null,null,null,null,null,null,null,null,null,null,null,null,null,null,null,null,null,null,null,null,null,null,null,null,null,null,null,null,null,null,null,null,null,null,null,null,null,null,null,null,null,null,null,null,null,null,null,null,null,null,null,null,null,null,null,null,null,null,null,null,null,null,null,null,null,null,null,null,null,null,null,null,null,null,null,null,null,null,null,null,null,null,null,null,null,null,null,null,null,null,null,null,null,null,null,null,null,null,null,null,null,null,null,null,null,null,null,null,null,null,null,null,null,1.83477,null,null,null,null,null,null,null,null,null,null,null,null,null,null,null,null,null,null,null,null,null,null,null,null,null,null,null,null,null,null,null,null,null,null,null,null,null,null,null,null,null,null,null,null,null,null,null,null,null,null,null,null,null,null,null,null,null,null,null,null,null,null,null,null,null,null,null,null,null,null,null,null,null,null,null,null,null,null,null,null,null,null,null,null,null,null,null,null,null,null,null,null,null,null,null,null,null,null,null,null,null,null,null,null,null,null,null,null,null,null,null,null,null,null,null,null,null,null,null,null,null,null,null,null,null,null,null,null,null,null,null,null,null,null,null,null,null,null,null,null,null,null,null,null,null,null,null,1.84119,null,null,null,null,null,null,null,null,null,null,null,null,null,null,null,null,null,null,null,null,null,null,null,null,null,null,null,null,null,null,null,null,null,null,null,null,null,null,null,null,null,null,null,null,null,null,null,null,null,null,null,null,null,null,null,null,null,null,1.83986,null,null,null,null,null,null,null,null,null,null,null,null,null,null,null,null,null,null,null,null,null,null,null,null,null,null,null,null,null,null,null,null,null,null,null,null,null,null,null,null,null,null,null,null,null,null,null,null,null,null,null,null,null,null,null,null,null,null,null,null,null,null,null,null,null,null,null,null,null,null,null,null,null,null,null,null,null,null,null,null,null,null,null,null,null,null,null,null,null,null,null,null,null,null,null,null,null,null,null,null,null,null,null,null]}],                        {\"template\":{\"data\":{\"bar\":[{\"error_x\":{\"color\":\"#2a3f5f\"},\"error_y\":{\"color\":\"#2a3f5f\"},\"marker\":{\"line\":{\"color\":\"#E5ECF6\",\"width\":0.5},\"pattern\":{\"fillmode\":\"overlay\",\"size\":10,\"solidity\":0.2}},\"type\":\"bar\"}],\"barpolar\":[{\"marker\":{\"line\":{\"color\":\"#E5ECF6\",\"width\":0.5},\"pattern\":{\"fillmode\":\"overlay\",\"size\":10,\"solidity\":0.2}},\"type\":\"barpolar\"}],\"carpet\":[{\"aaxis\":{\"endlinecolor\":\"#2a3f5f\",\"gridcolor\":\"white\",\"linecolor\":\"white\",\"minorgridcolor\":\"white\",\"startlinecolor\":\"#2a3f5f\"},\"baxis\":{\"endlinecolor\":\"#2a3f5f\",\"gridcolor\":\"white\",\"linecolor\":\"white\",\"minorgridcolor\":\"white\",\"startlinecolor\":\"#2a3f5f\"},\"type\":\"carpet\"}],\"choropleth\":[{\"colorbar\":{\"outlinewidth\":0,\"ticks\":\"\"},\"type\":\"choropleth\"}],\"contour\":[{\"colorbar\":{\"outlinewidth\":0,\"ticks\":\"\"},\"colorscale\":[[0.0,\"#0d0887\"],[0.1111111111111111,\"#46039f\"],[0.2222222222222222,\"#7201a8\"],[0.3333333333333333,\"#9c179e\"],[0.4444444444444444,\"#bd3786\"],[0.5555555555555556,\"#d8576b\"],[0.6666666666666666,\"#ed7953\"],[0.7777777777777778,\"#fb9f3a\"],[0.8888888888888888,\"#fdca26\"],[1.0,\"#f0f921\"]],\"type\":\"contour\"}],\"contourcarpet\":[{\"colorbar\":{\"outlinewidth\":0,\"ticks\":\"\"},\"type\":\"contourcarpet\"}],\"heatmap\":[{\"colorbar\":{\"outlinewidth\":0,\"ticks\":\"\"},\"colorscale\":[[0.0,\"#0d0887\"],[0.1111111111111111,\"#46039f\"],[0.2222222222222222,\"#7201a8\"],[0.3333333333333333,\"#9c179e\"],[0.4444444444444444,\"#bd3786\"],[0.5555555555555556,\"#d8576b\"],[0.6666666666666666,\"#ed7953\"],[0.7777777777777778,\"#fb9f3a\"],[0.8888888888888888,\"#fdca26\"],[1.0,\"#f0f921\"]],\"type\":\"heatmap\"}],\"heatmapgl\":[{\"colorbar\":{\"outlinewidth\":0,\"ticks\":\"\"},\"colorscale\":[[0.0,\"#0d0887\"],[0.1111111111111111,\"#46039f\"],[0.2222222222222222,\"#7201a8\"],[0.3333333333333333,\"#9c179e\"],[0.4444444444444444,\"#bd3786\"],[0.5555555555555556,\"#d8576b\"],[0.6666666666666666,\"#ed7953\"],[0.7777777777777778,\"#fb9f3a\"],[0.8888888888888888,\"#fdca26\"],[1.0,\"#f0f921\"]],\"type\":\"heatmapgl\"}],\"histogram\":[{\"marker\":{\"pattern\":{\"fillmode\":\"overlay\",\"size\":10,\"solidity\":0.2}},\"type\":\"histogram\"}],\"histogram2d\":[{\"colorbar\":{\"outlinewidth\":0,\"ticks\":\"\"},\"colorscale\":[[0.0,\"#0d0887\"],[0.1111111111111111,\"#46039f\"],[0.2222222222222222,\"#7201a8\"],[0.3333333333333333,\"#9c179e\"],[0.4444444444444444,\"#bd3786\"],[0.5555555555555556,\"#d8576b\"],[0.6666666666666666,\"#ed7953\"],[0.7777777777777778,\"#fb9f3a\"],[0.8888888888888888,\"#fdca26\"],[1.0,\"#f0f921\"]],\"type\":\"histogram2d\"}],\"histogram2dcontour\":[{\"colorbar\":{\"outlinewidth\":0,\"ticks\":\"\"},\"colorscale\":[[0.0,\"#0d0887\"],[0.1111111111111111,\"#46039f\"],[0.2222222222222222,\"#7201a8\"],[0.3333333333333333,\"#9c179e\"],[0.4444444444444444,\"#bd3786\"],[0.5555555555555556,\"#d8576b\"],[0.6666666666666666,\"#ed7953\"],[0.7777777777777778,\"#fb9f3a\"],[0.8888888888888888,\"#fdca26\"],[1.0,\"#f0f921\"]],\"type\":\"histogram2dcontour\"}],\"mesh3d\":[{\"colorbar\":{\"outlinewidth\":0,\"ticks\":\"\"},\"type\":\"mesh3d\"}],\"parcoords\":[{\"line\":{\"colorbar\":{\"outlinewidth\":0,\"ticks\":\"\"}},\"type\":\"parcoords\"}],\"pie\":[{\"automargin\":true,\"type\":\"pie\"}],\"scatter\":[{\"marker\":{\"colorbar\":{\"outlinewidth\":0,\"ticks\":\"\"}},\"type\":\"scatter\"}],\"scatter3d\":[{\"line\":{\"colorbar\":{\"outlinewidth\":0,\"ticks\":\"\"}},\"marker\":{\"colorbar\":{\"outlinewidth\":0,\"ticks\":\"\"}},\"type\":\"scatter3d\"}],\"scattercarpet\":[{\"marker\":{\"colorbar\":{\"outlinewidth\":0,\"ticks\":\"\"}},\"type\":\"scattercarpet\"}],\"scattergeo\":[{\"marker\":{\"colorbar\":{\"outlinewidth\":0,\"ticks\":\"\"}},\"type\":\"scattergeo\"}],\"scattergl\":[{\"marker\":{\"colorbar\":{\"outlinewidth\":0,\"ticks\":\"\"}},\"type\":\"scattergl\"}],\"scattermapbox\":[{\"marker\":{\"colorbar\":{\"outlinewidth\":0,\"ticks\":\"\"}},\"type\":\"scattermapbox\"}],\"scatterpolar\":[{\"marker\":{\"colorbar\":{\"outlinewidth\":0,\"ticks\":\"\"}},\"type\":\"scatterpolar\"}],\"scatterpolargl\":[{\"marker\":{\"colorbar\":{\"outlinewidth\":0,\"ticks\":\"\"}},\"type\":\"scatterpolargl\"}],\"scatterternary\":[{\"marker\":{\"colorbar\":{\"outlinewidth\":0,\"ticks\":\"\"}},\"type\":\"scatterternary\"}],\"surface\":[{\"colorbar\":{\"outlinewidth\":0,\"ticks\":\"\"},\"colorscale\":[[0.0,\"#0d0887\"],[0.1111111111111111,\"#46039f\"],[0.2222222222222222,\"#7201a8\"],[0.3333333333333333,\"#9c179e\"],[0.4444444444444444,\"#bd3786\"],[0.5555555555555556,\"#d8576b\"],[0.6666666666666666,\"#ed7953\"],[0.7777777777777778,\"#fb9f3a\"],[0.8888888888888888,\"#fdca26\"],[1.0,\"#f0f921\"]],\"type\":\"surface\"}],\"table\":[{\"cells\":{\"fill\":{\"color\":\"#EBF0F8\"},\"line\":{\"color\":\"white\"}},\"header\":{\"fill\":{\"color\":\"#C8D4E3\"},\"line\":{\"color\":\"white\"}},\"type\":\"table\"}]},\"layout\":{\"annotationdefaults\":{\"arrowcolor\":\"#2a3f5f\",\"arrowhead\":0,\"arrowwidth\":1},\"autotypenumbers\":\"strict\",\"coloraxis\":{\"colorbar\":{\"outlinewidth\":0,\"ticks\":\"\"}},\"colorscale\":{\"diverging\":[[0,\"#8e0152\"],[0.1,\"#c51b7d\"],[0.2,\"#de77ae\"],[0.3,\"#f1b6da\"],[0.4,\"#fde0ef\"],[0.5,\"#f7f7f7\"],[0.6,\"#e6f5d0\"],[0.7,\"#b8e186\"],[0.8,\"#7fbc41\"],[0.9,\"#4d9221\"],[1,\"#276419\"]],\"sequential\":[[0.0,\"#0d0887\"],[0.1111111111111111,\"#46039f\"],[0.2222222222222222,\"#7201a8\"],[0.3333333333333333,\"#9c179e\"],[0.4444444444444444,\"#bd3786\"],[0.5555555555555556,\"#d8576b\"],[0.6666666666666666,\"#ed7953\"],[0.7777777777777778,\"#fb9f3a\"],[0.8888888888888888,\"#fdca26\"],[1.0,\"#f0f921\"]],\"sequentialminus\":[[0.0,\"#0d0887\"],[0.1111111111111111,\"#46039f\"],[0.2222222222222222,\"#7201a8\"],[0.3333333333333333,\"#9c179e\"],[0.4444444444444444,\"#bd3786\"],[0.5555555555555556,\"#d8576b\"],[0.6666666666666666,\"#ed7953\"],[0.7777777777777778,\"#fb9f3a\"],[0.8888888888888888,\"#fdca26\"],[1.0,\"#f0f921\"]]},\"colorway\":[\"#636efa\",\"#EF553B\",\"#00cc96\",\"#ab63fa\",\"#FFA15A\",\"#19d3f3\",\"#FF6692\",\"#B6E880\",\"#FF97FF\",\"#FECB52\"],\"font\":{\"color\":\"#2a3f5f\"},\"geo\":{\"bgcolor\":\"white\",\"lakecolor\":\"white\",\"landcolor\":\"#E5ECF6\",\"showlakes\":true,\"showland\":true,\"subunitcolor\":\"white\"},\"hoverlabel\":{\"align\":\"left\"},\"hovermode\":\"closest\",\"mapbox\":{\"style\":\"light\"},\"paper_bgcolor\":\"white\",\"plot_bgcolor\":\"#E5ECF6\",\"polar\":{\"angularaxis\":{\"gridcolor\":\"white\",\"linecolor\":\"white\",\"ticks\":\"\"},\"bgcolor\":\"#E5ECF6\",\"radialaxis\":{\"gridcolor\":\"white\",\"linecolor\":\"white\",\"ticks\":\"\"}},\"scene\":{\"xaxis\":{\"backgroundcolor\":\"#E5ECF6\",\"gridcolor\":\"white\",\"gridwidth\":2,\"linecolor\":\"white\",\"showbackground\":true,\"ticks\":\"\",\"zerolinecolor\":\"white\"},\"yaxis\":{\"backgroundcolor\":\"#E5ECF6\",\"gridcolor\":\"white\",\"gridwidth\":2,\"linecolor\":\"white\",\"showbackground\":true,\"ticks\":\"\",\"zerolinecolor\":\"white\"},\"zaxis\":{\"backgroundcolor\":\"#E5ECF6\",\"gridcolor\":\"white\",\"gridwidth\":2,\"linecolor\":\"white\",\"showbackground\":true,\"ticks\":\"\",\"zerolinecolor\":\"white\"}},\"shapedefaults\":{\"line\":{\"color\":\"#2a3f5f\"}},\"ternary\":{\"aaxis\":{\"gridcolor\":\"white\",\"linecolor\":\"white\",\"ticks\":\"\"},\"baxis\":{\"gridcolor\":\"white\",\"linecolor\":\"white\",\"ticks\":\"\"},\"bgcolor\":\"#E5ECF6\",\"caxis\":{\"gridcolor\":\"white\",\"linecolor\":\"white\",\"ticks\":\"\"}},\"title\":{\"x\":0.05},\"xaxis\":{\"automargin\":true,\"gridcolor\":\"white\",\"linecolor\":\"white\",\"ticks\":\"\",\"title\":{\"standoff\":15},\"zerolinecolor\":\"white\",\"zerolinewidth\":2},\"yaxis\":{\"automargin\":true,\"gridcolor\":\"white\",\"linecolor\":\"white\",\"ticks\":\"\",\"title\":{\"standoff\":15},\"zerolinecolor\":\"white\",\"zerolinewidth\":2}}},\"title\":{\"text\":\"Estrategia simplePrices:GBP-AUD\"},\"xaxis\":{\"rangebreaks\":[{\"bounds\":[\"sat\",\"mon\"]}]}},                        {\"responsive\": true}                    ).then(function(){\n",
              "                            \n",
              "var gd = document.getElementById('a585916a-4eaa-4747-8c0f-4cd1b1eb4366');\n",
              "var x = new MutationObserver(function (mutations, observer) {{\n",
              "        var display = window.getComputedStyle(gd).display;\n",
              "        if (!display || display === 'none') {{\n",
              "            console.log([gd, 'removed!']);\n",
              "            Plotly.purge(gd);\n",
              "            observer.disconnect();\n",
              "        }}\n",
              "}});\n",
              "\n",
              "// Listen for the removal of the full notebook cells\n",
              "var notebookContainer = gd.closest('#notebook-container');\n",
              "if (notebookContainer) {{\n",
              "    x.observe(notebookContainer, {childList: true});\n",
              "}}\n",
              "\n",
              "// Listen for the clearing of the current output cell\n",
              "var outputEl = gd.closest('.output');\n",
              "if (outputEl) {{\n",
              "    x.observe(outputEl, {childList: true});\n",
              "}}\n",
              "\n",
              "                        })                };                            </script>        </div>\n",
              "</body>\n",
              "</html>"
            ]
          },
          "metadata": {
            "tags": []
          }
        }
      ]
    },
    {
      "cell_type": "code",
      "metadata": {
        "id": "2ubebyQDFKTV"
      },
      "source": [
        "def bbands(price, window_size=10, num_of_std=5):\n",
        "    rolling_mean = price.rolling(window=window_size).mean()\n",
        "    rolling_std  = price.rolling(window=window_size).std()\n",
        "    upper_band = rolling_mean + (rolling_std*num_of_std)\n",
        "    lower_band = rolling_mean - (rolling_std*num_of_std)\n",
        "    return rolling_mean, upper_band, lower_band\n",
        "\n",
        "bb_avg, bb_upper, bb_lower = bbands(data_intraday.close)"
      ],
      "execution_count": 73,
      "outputs": []
    },
    {
      "cell_type": "code",
      "metadata": {
        "colab": {
          "base_uri": "https://localhost:8080/",
          "height": 542
        },
        "id": "XW1Vd5XGGJCp",
        "outputId": "a56b1954-af84-4161-c684-749be98139a5"
      },
      "source": [
        "df_trunc = data_intraday.copy()\n",
        "layout = go.Layout(\n",
        "    xaxis=dict(rangebreaks=[\n",
        "        dict(bounds=[\"sat\", \"mon\"])#, # hide weekends\n",
        "        ],\n",
        "    \n",
        "    ),\n",
        "    title=go.layout.Title(text=\"Bandas Bollinger \" + titulo)   \n",
        ")\n",
        "\n",
        "\n",
        "\n",
        "fig = go.Figure(layout=layout)\n",
        "fig.add_trace(go.Scatter(x=df_trunc.date, y=df_trunc.close, mode='lines',  name='Close Price',line=dict(color='grey')))\n",
        "fig.add_trace(go.Scatter(x=df_trunc.date, y=bb_avg, mode='lines',  name='bb_avg',line=dict(color='green')))\n",
        "fig.add_trace(go.Scatter(x=df_trunc.date, y=bb_upper, mode='lines',  name='bb_upper',line=dict(color='blue')))\n",
        "fig.add_trace(go.Scatter(x=df_trunc.date, y=bb_lower, mode='lines',  name='bb_lower',line=dict(color='red')))\n",
        "\n",
        "fig.update_xaxes(\n",
        "    rangebreaks=[\n",
        "        dict(bounds=[\"sat\", \"mon\"]) #, #hide weekends\n",
        "    ]\n",
        ")\n",
        "\n",
        "fig.show()"
      ],
      "execution_count": 92,
      "outputs": [
        {
          "output_type": "display_data",
          "data": {
            "text/html": [
              "<html>\n",
              "<head><meta charset=\"utf-8\" /></head>\n",
              "<body>\n",
              "    <div>            <script src=\"https://cdnjs.cloudflare.com/ajax/libs/mathjax/2.7.5/MathJax.js?config=TeX-AMS-MML_SVG\"></script><script type=\"text/javascript\">if (window.MathJax) {MathJax.Hub.Config({SVG: {font: \"STIX-Web\"}});}</script>                <script type=\"text/javascript\">window.PlotlyConfig = {MathJaxConfig: 'local'};</script>\n",
              "        <script src=\"https://cdn.plot.ly/plotly-2.1.0.min.js\"></script>                <div id=\"f380b179-1594-44a3-8dec-1cafb7ce96a1\" class=\"plotly-graph-div\" style=\"height:525px; width:100%;\"></div>            <script type=\"text/javascript\">                                    window.PLOTLYENV=window.PLOTLYENV || {};                                    if (document.getElementById(\"f380b179-1594-44a3-8dec-1cafb7ce96a1\")) {                    Plotly.newPlot(                        \"f380b179-1594-44a3-8dec-1cafb7ce96a1\",                        [{\"line\":{\"color\":\"grey\"},\"mode\":\"lines\",\"name\":\"Close Price\",\"type\":\"scatter\",\"x\":[\"2021-06-18T05:00:00\",\"2021-06-18T05:15:00\",\"2021-06-18T05:30:00\",\"2021-06-18T05:45:00\",\"2021-06-18T06:00:00\",\"2021-06-18T06:15:00\",\"2021-06-18T06:30:00\",\"2021-06-18T06:45:00\",\"2021-06-18T07:00:00\",\"2021-06-18T07:15:00\",\"2021-06-18T07:30:00\",\"2021-06-18T07:45:00\",\"2021-06-18T08:00:00\",\"2021-06-18T08:15:00\",\"2021-06-18T08:30:00\",\"2021-06-18T08:45:00\",\"2021-06-18T09:00:00\",\"2021-06-18T09:15:00\",\"2021-06-18T09:30:00\",\"2021-06-18T09:45:00\",\"2021-06-18T10:00:00\",\"2021-06-18T10:15:00\",\"2021-06-18T10:30:00\",\"2021-06-18T10:45:00\",\"2021-06-18T11:00:00\",\"2021-06-18T11:15:00\",\"2021-06-18T11:30:00\",\"2021-06-18T11:45:00\",\"2021-06-18T12:00:00\",\"2021-06-18T12:15:00\",\"2021-06-18T12:30:00\",\"2021-06-18T12:45:00\",\"2021-06-18T13:00:00\",\"2021-06-18T13:15:00\",\"2021-06-18T13:30:00\",\"2021-06-18T13:45:00\",\"2021-06-18T14:00:00\",\"2021-06-18T14:15:00\",\"2021-06-18T14:30:00\",\"2021-06-18T14:45:00\",\"2021-06-18T15:00:00\",\"2021-06-18T15:15:00\",\"2021-06-18T15:30:00\",\"2021-06-18T15:45:00\",\"2021-06-18T16:00:00\",\"2021-06-18T16:15:00\",\"2021-06-18T16:30:00\",\"2021-06-18T16:45:00\",\"2021-06-18T17:00:00\",\"2021-06-18T17:15:00\",\"2021-06-18T17:30:00\",\"2021-06-18T17:45:00\",\"2021-06-18T18:00:00\",\"2021-06-18T18:15:00\",\"2021-06-18T18:30:00\",\"2021-06-18T18:45:00\",\"2021-06-18T19:00:00\",\"2021-06-18T19:15:00\",\"2021-06-18T19:30:00\",\"2021-06-18T19:45:00\",\"2021-06-18T20:00:00\",\"2021-06-18T20:15:00\",\"2021-06-18T20:30:00\",\"2021-06-18T20:45:00\",\"2021-06-18T21:00:00\",\"2021-06-18T21:15:00\",\"2021-06-18T21:30:00\",\"2021-06-18T21:45:00\",\"2021-06-21T00:00:00\",\"2021-06-21T00:15:00\",\"2021-06-21T00:30:00\",\"2021-06-21T00:45:00\",\"2021-06-21T01:00:00\",\"2021-06-21T01:15:00\",\"2021-06-21T01:30:00\",\"2021-06-21T01:45:00\",\"2021-06-21T02:00:00\",\"2021-06-21T02:15:00\",\"2021-06-21T02:30:00\",\"2021-06-21T02:45:00\",\"2021-06-21T03:00:00\",\"2021-06-21T03:15:00\",\"2021-06-21T03:30:00\",\"2021-06-21T03:45:00\",\"2021-06-21T04:00:00\",\"2021-06-21T04:15:00\",\"2021-06-21T04:30:00\",\"2021-06-21T04:45:00\",\"2021-06-21T05:00:00\",\"2021-06-21T05:15:00\",\"2021-06-21T05:30:00\",\"2021-06-21T05:45:00\",\"2021-06-21T06:00:00\",\"2021-06-21T06:15:00\",\"2021-06-21T06:30:00\",\"2021-06-21T06:45:00\",\"2021-06-21T07:00:00\",\"2021-06-21T07:15:00\",\"2021-06-21T07:30:00\",\"2021-06-21T07:45:00\",\"2021-06-21T08:00:00\",\"2021-06-21T08:15:00\",\"2021-06-21T08:30:00\",\"2021-06-21T08:45:00\",\"2021-06-21T09:00:00\",\"2021-06-21T09:15:00\",\"2021-06-21T09:30:00\",\"2021-06-21T09:45:00\",\"2021-06-21T10:00:00\",\"2021-06-21T10:15:00\",\"2021-06-21T10:30:00\",\"2021-06-21T10:45:00\",\"2021-06-21T11:00:00\",\"2021-06-21T11:15:00\",\"2021-06-21T11:30:00\",\"2021-06-21T11:45:00\",\"2021-06-21T12:00:00\",\"2021-06-21T12:15:00\",\"2021-06-21T12:30:00\",\"2021-06-21T12:45:00\",\"2021-06-21T13:00:00\",\"2021-06-21T13:15:00\",\"2021-06-21T13:30:00\",\"2021-06-21T13:45:00\",\"2021-06-21T14:00:00\",\"2021-06-21T14:15:00\",\"2021-06-21T14:30:00\",\"2021-06-21T14:45:00\",\"2021-06-21T15:00:00\",\"2021-06-21T15:15:00\",\"2021-06-21T15:30:00\",\"2021-06-21T15:45:00\",\"2021-06-21T16:00:00\",\"2021-06-21T16:15:00\",\"2021-06-21T16:30:00\",\"2021-06-21T16:45:00\",\"2021-06-21T17:00:00\",\"2021-06-21T17:15:00\",\"2021-06-21T17:30:00\",\"2021-06-21T17:45:00\",\"2021-06-21T18:00:00\",\"2021-06-21T18:15:00\",\"2021-06-21T18:30:00\",\"2021-06-21T18:45:00\",\"2021-06-21T19:00:00\",\"2021-06-21T19:15:00\",\"2021-06-21T19:30:00\",\"2021-06-21T19:45:00\",\"2021-06-21T20:00:00\",\"2021-06-21T20:15:00\",\"2021-06-21T20:30:00\",\"2021-06-21T20:45:00\",\"2021-06-21T21:00:00\",\"2021-06-21T21:15:00\",\"2021-06-21T21:30:00\",\"2021-06-21T21:45:00\",\"2021-06-21T22:00:00\",\"2021-06-21T22:15:00\",\"2021-06-21T22:30:00\",\"2021-06-21T22:45:00\",\"2021-06-21T23:00:00\",\"2021-06-21T23:15:00\",\"2021-06-21T23:30:00\",\"2021-06-21T23:45:00\",\"2021-06-22T00:00:00\",\"2021-06-22T00:15:00\",\"2021-06-22T00:30:00\",\"2021-06-22T00:45:00\",\"2021-06-22T01:00:00\",\"2021-06-22T01:15:00\",\"2021-06-22T01:30:00\",\"2021-06-22T01:45:00\",\"2021-06-22T02:00:00\",\"2021-06-22T02:15:00\",\"2021-06-22T02:30:00\",\"2021-06-22T02:45:00\",\"2021-06-22T03:00:00\",\"2021-06-22T03:15:00\",\"2021-06-22T03:30:00\",\"2021-06-22T03:45:00\",\"2021-06-22T04:00:00\",\"2021-06-22T04:15:00\",\"2021-06-22T04:30:00\",\"2021-06-22T04:45:00\",\"2021-06-22T05:00:00\",\"2021-06-22T05:15:00\",\"2021-06-22T05:30:00\",\"2021-06-22T05:45:00\",\"2021-06-22T06:00:00\",\"2021-06-22T06:15:00\",\"2021-06-22T06:30:00\",\"2021-06-22T06:45:00\",\"2021-06-22T07:00:00\",\"2021-06-22T07:15:00\",\"2021-06-22T07:30:00\",\"2021-06-22T07:45:00\",\"2021-06-22T08:00:00\",\"2021-06-22T08:15:00\",\"2021-06-22T08:30:00\",\"2021-06-22T08:45:00\",\"2021-06-22T09:00:00\",\"2021-06-22T09:15:00\",\"2021-06-22T09:30:00\",\"2021-06-22T09:45:00\",\"2021-06-22T10:00:00\",\"2021-06-22T10:15:00\",\"2021-06-22T10:30:00\",\"2021-06-22T10:45:00\",\"2021-06-22T11:00:00\",\"2021-06-22T11:15:00\",\"2021-06-22T11:30:00\",\"2021-06-22T11:45:00\",\"2021-06-22T12:00:00\",\"2021-06-22T12:15:00\",\"2021-06-22T12:30:00\",\"2021-06-22T12:45:00\",\"2021-06-22T13:00:00\",\"2021-06-22T13:15:00\",\"2021-06-22T13:30:00\",\"2021-06-22T13:45:00\",\"2021-06-22T14:00:00\",\"2021-06-22T14:15:00\",\"2021-06-22T14:30:00\",\"2021-06-22T14:45:00\",\"2021-06-22T15:00:00\",\"2021-06-22T15:15:00\",\"2021-06-22T15:30:00\",\"2021-06-22T15:45:00\",\"2021-06-22T16:00:00\",\"2021-06-22T16:15:00\",\"2021-06-22T16:30:00\",\"2021-06-22T16:45:00\",\"2021-06-22T17:00:00\",\"2021-06-22T17:15:00\",\"2021-06-22T17:30:00\",\"2021-06-22T17:45:00\",\"2021-06-22T18:00:00\",\"2021-06-22T18:15:00\",\"2021-06-22T18:30:00\",\"2021-06-22T18:45:00\",\"2021-06-22T19:00:00\",\"2021-06-22T19:15:00\",\"2021-06-22T19:30:00\",\"2021-06-22T19:45:00\",\"2021-06-22T20:00:00\",\"2021-06-22T20:15:00\",\"2021-06-22T20:30:00\",\"2021-06-22T20:45:00\",\"2021-06-22T21:00:00\",\"2021-06-22T21:15:00\",\"2021-06-22T21:30:00\",\"2021-06-22T21:45:00\",\"2021-06-22T22:00:00\",\"2021-06-22T22:15:00\",\"2021-06-22T22:30:00\",\"2021-06-22T22:45:00\",\"2021-06-22T23:00:00\",\"2021-06-22T23:15:00\",\"2021-06-22T23:30:00\",\"2021-06-22T23:45:00\",\"2021-06-23T00:00:00\",\"2021-06-23T00:15:00\",\"2021-06-23T00:30:00\",\"2021-06-23T00:45:00\",\"2021-06-23T01:00:00\",\"2021-06-23T01:15:00\",\"2021-06-23T01:30:00\",\"2021-06-23T01:45:00\",\"2021-06-23T02:00:00\",\"2021-06-23T02:15:00\",\"2021-06-23T02:30:00\",\"2021-06-23T02:45:00\",\"2021-06-23T03:00:00\",\"2021-06-23T03:15:00\",\"2021-06-23T03:30:00\",\"2021-06-23T03:45:00\",\"2021-06-23T04:00:00\",\"2021-06-23T04:15:00\",\"2021-06-23T04:30:00\",\"2021-06-23T04:45:00\",\"2021-06-23T05:00:00\",\"2021-06-23T05:15:00\",\"2021-06-23T05:30:00\",\"2021-06-23T05:45:00\",\"2021-06-23T06:00:00\",\"2021-06-23T06:15:00\",\"2021-06-23T06:30:00\",\"2021-06-23T06:45:00\",\"2021-06-23T07:00:00\",\"2021-06-23T07:15:00\",\"2021-06-23T07:30:00\",\"2021-06-23T07:45:00\",\"2021-06-23T08:00:00\",\"2021-06-23T08:15:00\",\"2021-06-23T08:30:00\",\"2021-06-23T08:45:00\",\"2021-06-23T09:00:00\",\"2021-06-23T09:15:00\",\"2021-06-23T09:30:00\",\"2021-06-23T09:45:00\",\"2021-06-23T10:00:00\",\"2021-06-23T10:15:00\",\"2021-06-23T10:30:00\",\"2021-06-23T10:45:00\",\"2021-06-23T11:00:00\",\"2021-06-23T11:15:00\",\"2021-06-23T11:30:00\",\"2021-06-23T11:45:00\",\"2021-06-23T12:00:00\",\"2021-06-23T12:15:00\",\"2021-06-23T12:30:00\",\"2021-06-23T12:45:00\",\"2021-06-23T13:00:00\",\"2021-06-23T13:15:00\",\"2021-06-23T13:30:00\",\"2021-06-23T13:45:00\",\"2021-06-23T14:00:00\",\"2021-06-23T14:15:00\",\"2021-06-23T14:30:00\",\"2021-06-23T14:45:00\",\"2021-06-23T15:00:00\",\"2021-06-23T15:15:00\",\"2021-06-23T15:30:00\",\"2021-06-23T15:45:00\",\"2021-06-23T16:00:00\",\"2021-06-23T16:15:00\",\"2021-06-23T16:30:00\",\"2021-06-23T16:45:00\",\"2021-06-23T17:00:00\",\"2021-06-23T17:15:00\",\"2021-06-23T17:30:00\",\"2021-06-23T17:45:00\",\"2021-06-23T18:00:00\",\"2021-06-23T18:15:00\",\"2021-06-23T18:30:00\",\"2021-06-23T18:45:00\",\"2021-06-23T19:00:00\",\"2021-06-23T19:15:00\",\"2021-06-23T19:30:00\",\"2021-06-23T19:45:00\",\"2021-06-23T20:00:00\",\"2021-06-23T20:15:00\",\"2021-06-23T20:30:00\",\"2021-06-23T20:45:00\",\"2021-06-23T21:00:00\",\"2021-06-23T21:15:00\",\"2021-06-23T21:30:00\",\"2021-06-23T21:45:00\",\"2021-06-23T22:00:00\",\"2021-06-23T22:15:00\",\"2021-06-23T22:30:00\",\"2021-06-23T22:45:00\",\"2021-06-23T23:00:00\",\"2021-06-23T23:15:00\",\"2021-06-23T23:30:00\",\"2021-06-23T23:45:00\",\"2021-06-24T00:00:00\",\"2021-06-24T00:15:00\",\"2021-06-24T00:30:00\",\"2021-06-24T00:45:00\",\"2021-06-24T01:00:00\",\"2021-06-24T01:15:00\",\"2021-06-24T01:30:00\",\"2021-06-24T01:45:00\",\"2021-06-24T02:00:00\",\"2021-06-24T02:15:00\",\"2021-06-24T02:30:00\",\"2021-06-24T02:45:00\",\"2021-06-24T03:00:00\",\"2021-06-24T03:15:00\",\"2021-06-24T03:30:00\",\"2021-06-24T03:45:00\",\"2021-06-24T04:00:00\",\"2021-06-24T04:15:00\",\"2021-06-24T04:30:00\",\"2021-06-24T04:45:00\",\"2021-06-24T05:00:00\",\"2021-06-24T05:15:00\",\"2021-06-24T05:30:00\",\"2021-06-24T05:45:00\",\"2021-06-24T06:00:00\",\"2021-06-24T06:15:00\",\"2021-06-24T06:30:00\",\"2021-06-24T06:45:00\",\"2021-06-24T07:00:00\",\"2021-06-24T07:15:00\",\"2021-06-24T07:30:00\",\"2021-06-24T07:45:00\",\"2021-06-24T08:00:00\",\"2021-06-24T08:15:00\",\"2021-06-24T08:30:00\",\"2021-06-24T08:45:00\",\"2021-06-24T09:00:00\",\"2021-06-24T09:15:00\",\"2021-06-24T09:30:00\",\"2021-06-24T09:45:00\",\"2021-06-24T10:00:00\",\"2021-06-24T10:15:00\",\"2021-06-24T10:30:00\",\"2021-06-24T10:45:00\",\"2021-06-24T11:00:00\",\"2021-06-24T11:15:00\",\"2021-06-24T11:30:00\",\"2021-06-24T11:45:00\",\"2021-06-24T12:00:00\",\"2021-06-24T12:15:00\",\"2021-06-24T12:30:00\",\"2021-06-24T12:45:00\",\"2021-06-24T13:00:00\",\"2021-06-24T13:15:00\",\"2021-06-24T13:30:00\",\"2021-06-24T13:45:00\",\"2021-06-24T14:00:00\",\"2021-06-24T14:15:00\",\"2021-06-24T14:30:00\",\"2021-06-24T14:45:00\",\"2021-06-24T15:00:00\",\"2021-06-24T15:15:00\",\"2021-06-24T15:30:00\",\"2021-06-24T15:45:00\",\"2021-06-24T16:00:00\",\"2021-06-24T16:15:00\",\"2021-06-24T16:30:00\",\"2021-06-24T16:45:00\",\"2021-06-24T17:00:00\",\"2021-06-24T17:15:00\",\"2021-06-24T17:30:00\",\"2021-06-24T17:45:00\",\"2021-06-24T18:00:00\",\"2021-06-24T18:15:00\",\"2021-06-24T18:30:00\",\"2021-06-24T18:45:00\",\"2021-06-24T19:00:00\",\"2021-06-24T19:15:00\",\"2021-06-24T19:30:00\",\"2021-06-24T19:45:00\",\"2021-06-24T20:00:00\",\"2021-06-24T20:15:00\",\"2021-06-24T20:30:00\",\"2021-06-24T20:45:00\",\"2021-06-24T21:00:00\",\"2021-06-24T21:15:00\",\"2021-06-24T21:30:00\",\"2021-06-24T21:45:00\",\"2021-06-24T22:00:00\",\"2021-06-24T22:15:00\",\"2021-06-24T22:30:00\",\"2021-06-24T22:45:00\",\"2021-06-24T23:00:00\",\"2021-06-24T23:15:00\",\"2021-06-24T23:30:00\",\"2021-06-24T23:45:00\",\"2021-06-25T00:00:00\",\"2021-06-25T00:15:00\",\"2021-06-25T00:30:00\",\"2021-06-25T00:45:00\",\"2021-06-25T01:00:00\",\"2021-06-25T01:15:00\",\"2021-06-25T01:30:00\",\"2021-06-25T01:45:00\",\"2021-06-25T02:00:00\",\"2021-06-25T02:15:00\",\"2021-06-25T02:30:00\",\"2021-06-25T02:45:00\",\"2021-06-25T03:00:00\",\"2021-06-25T03:15:00\",\"2021-06-25T03:30:00\",\"2021-06-25T03:45:00\",\"2021-06-25T04:00:00\",\"2021-06-25T04:15:00\",\"2021-06-25T04:30:00\",\"2021-06-25T04:45:00\",\"2021-06-25T05:00:00\",\"2021-06-25T05:15:00\",\"2021-06-25T05:30:00\",\"2021-06-25T05:45:00\",\"2021-06-25T06:00:00\",\"2021-06-25T06:15:00\",\"2021-06-25T06:30:00\",\"2021-06-25T06:45:00\",\"2021-06-25T07:00:00\",\"2021-06-25T07:15:00\",\"2021-06-25T07:30:00\",\"2021-06-25T07:45:00\",\"2021-06-25T08:00:00\",\"2021-06-25T08:15:00\",\"2021-06-25T08:30:00\",\"2021-06-25T08:45:00\",\"2021-06-25T09:00:00\",\"2021-06-25T09:15:00\",\"2021-06-25T09:30:00\",\"2021-06-25T09:45:00\",\"2021-06-25T10:00:00\",\"2021-06-25T10:15:00\",\"2021-06-25T10:30:00\",\"2021-06-25T10:45:00\",\"2021-06-25T11:00:00\",\"2021-06-25T11:15:00\",\"2021-06-25T11:30:00\",\"2021-06-25T11:45:00\",\"2021-06-25T12:00:00\",\"2021-06-25T12:15:00\",\"2021-06-25T12:30:00\",\"2021-06-25T12:45:00\",\"2021-06-25T13:00:00\",\"2021-06-25T13:15:00\",\"2021-06-25T13:30:00\",\"2021-06-25T13:45:00\",\"2021-06-25T14:00:00\",\"2021-06-25T14:15:00\",\"2021-06-25T14:30:00\",\"2021-06-25T14:45:00\",\"2021-06-25T15:00:00\",\"2021-06-25T15:15:00\",\"2021-06-25T15:30:00\",\"2021-06-25T15:45:00\",\"2021-06-25T16:00:00\",\"2021-06-25T16:15:00\",\"2021-06-25T16:30:00\",\"2021-06-25T16:45:00\",\"2021-06-25T17:00:00\",\"2021-06-25T17:15:00\",\"2021-06-25T17:30:00\",\"2021-06-25T17:45:00\",\"2021-06-25T18:00:00\",\"2021-06-25T18:15:00\",\"2021-06-25T18:30:00\",\"2021-06-25T18:45:00\",\"2021-06-25T19:00:00\",\"2021-06-25T19:15:00\",\"2021-06-25T19:30:00\",\"2021-06-25T19:45:00\",\"2021-06-25T20:00:00\",\"2021-06-25T20:15:00\",\"2021-06-25T20:30:00\",\"2021-06-25T20:45:00\",\"2021-06-25T21:00:00\",\"2021-06-25T21:15:00\",\"2021-06-25T21:30:00\",\"2021-06-25T21:45:00\",\"2021-06-28T00:00:00\",\"2021-06-28T00:15:00\",\"2021-06-28T00:30:00\",\"2021-06-28T00:45:00\",\"2021-06-28T01:00:00\",\"2021-06-28T01:15:00\",\"2021-06-28T01:30:00\",\"2021-06-28T01:45:00\",\"2021-06-28T02:00:00\",\"2021-06-28T02:15:00\",\"2021-06-28T02:30:00\",\"2021-06-28T02:45:00\",\"2021-06-28T03:00:00\",\"2021-06-28T03:15:00\",\"2021-06-28T03:30:00\",\"2021-06-28T03:45:00\",\"2021-06-28T04:00:00\",\"2021-06-28T04:15:00\",\"2021-06-28T04:30:00\",\"2021-06-28T04:45:00\",\"2021-06-28T05:00:00\",\"2021-06-28T05:15:00\",\"2021-06-28T05:30:00\",\"2021-06-28T05:45:00\",\"2021-06-28T06:00:00\",\"2021-06-28T06:15:00\",\"2021-06-28T06:30:00\",\"2021-06-28T06:45:00\",\"2021-06-28T07:00:00\",\"2021-06-28T07:15:00\",\"2021-06-28T07:30:00\",\"2021-06-28T07:45:00\",\"2021-06-28T08:00:00\",\"2021-06-28T08:15:00\",\"2021-06-28T08:30:00\",\"2021-06-28T08:45:00\",\"2021-06-28T09:00:00\",\"2021-06-28T09:15:00\",\"2021-06-28T09:30:00\",\"2021-06-28T09:45:00\",\"2021-06-28T10:00:00\",\"2021-06-28T10:15:00\",\"2021-06-28T10:30:00\",\"2021-06-28T10:45:00\",\"2021-06-28T11:00:00\",\"2021-06-28T11:15:00\",\"2021-06-28T11:30:00\",\"2021-06-28T11:45:00\",\"2021-06-28T12:00:00\",\"2021-06-28T12:15:00\",\"2021-06-28T12:30:00\",\"2021-06-28T12:45:00\",\"2021-06-28T13:00:00\",\"2021-06-28T13:15:00\",\"2021-06-28T13:30:00\",\"2021-06-28T13:45:00\",\"2021-06-28T14:00:00\",\"2021-06-28T14:15:00\",\"2021-06-28T14:30:00\",\"2021-06-28T14:45:00\",\"2021-06-28T15:00:00\",\"2021-06-28T15:15:00\",\"2021-06-28T15:30:00\",\"2021-06-28T15:45:00\",\"2021-06-28T16:00:00\",\"2021-06-28T16:15:00\",\"2021-06-28T16:30:00\",\"2021-06-28T16:45:00\",\"2021-06-28T17:00:00\",\"2021-06-28T17:15:00\",\"2021-06-28T17:30:00\",\"2021-06-28T17:45:00\",\"2021-06-28T18:00:00\",\"2021-06-28T18:15:00\",\"2021-06-28T18:30:00\",\"2021-06-28T18:45:00\",\"2021-06-28T19:00:00\",\"2021-06-28T19:15:00\",\"2021-06-28T19:30:00\",\"2021-06-28T19:45:00\",\"2021-06-28T20:00:00\",\"2021-06-28T20:15:00\",\"2021-06-28T20:30:00\",\"2021-06-28T20:45:00\",\"2021-06-28T21:00:00\",\"2021-06-28T21:15:00\",\"2021-06-28T21:30:00\",\"2021-06-28T21:45:00\",\"2021-06-28T22:00:00\",\"2021-06-28T22:15:00\",\"2021-06-28T22:30:00\",\"2021-06-28T22:45:00\",\"2021-06-28T23:00:00\",\"2021-06-28T23:15:00\",\"2021-06-28T23:30:00\",\"2021-06-28T23:45:00\",\"2021-06-29T00:00:00\",\"2021-06-29T00:15:00\",\"2021-06-29T00:30:00\",\"2021-06-29T00:45:00\",\"2021-06-29T01:00:00\",\"2021-06-29T01:15:00\",\"2021-06-29T01:30:00\",\"2021-06-29T01:45:00\",\"2021-06-29T02:00:00\",\"2021-06-29T02:15:00\",\"2021-06-29T02:30:00\",\"2021-06-29T02:45:00\",\"2021-06-29T03:00:00\",\"2021-06-29T03:15:00\",\"2021-06-29T03:30:00\",\"2021-06-29T03:45:00\",\"2021-06-29T04:00:00\",\"2021-06-29T04:15:00\",\"2021-06-29T04:30:00\",\"2021-06-29T04:45:00\",\"2021-06-29T05:00:00\",\"2021-06-29T05:15:00\",\"2021-06-29T05:30:00\",\"2021-06-29T05:45:00\",\"2021-06-29T06:00:00\",\"2021-06-29T06:15:00\",\"2021-06-29T06:30:00\",\"2021-06-29T06:45:00\",\"2021-06-29T07:00:00\",\"2021-06-29T07:15:00\",\"2021-06-29T07:30:00\",\"2021-06-29T07:45:00\",\"2021-06-29T08:00:00\",\"2021-06-29T08:15:00\",\"2021-06-29T08:30:00\",\"2021-06-29T08:45:00\",\"2021-06-29T09:00:00\",\"2021-06-29T09:15:00\",\"2021-06-29T09:30:00\",\"2021-06-29T09:45:00\",\"2021-06-29T10:00:00\",\"2021-06-29T10:15:00\",\"2021-06-29T10:30:00\",\"2021-06-29T10:45:00\",\"2021-06-29T11:00:00\",\"2021-06-29T11:15:00\",\"2021-06-29T11:30:00\",\"2021-06-29T11:45:00\",\"2021-06-29T12:00:00\",\"2021-06-29T12:15:00\",\"2021-06-29T12:30:00\",\"2021-06-29T12:45:00\",\"2021-06-29T13:00:00\",\"2021-06-29T13:15:00\",\"2021-06-29T13:30:00\",\"2021-06-29T13:45:00\",\"2021-06-29T14:00:00\",\"2021-06-29T14:15:00\",\"2021-06-29T14:30:00\",\"2021-06-29T14:45:00\",\"2021-06-29T15:00:00\",\"2021-06-29T15:15:00\",\"2021-06-29T15:30:00\",\"2021-06-29T15:45:00\",\"2021-06-29T16:00:00\",\"2021-06-29T16:15:00\",\"2021-06-29T16:30:00\",\"2021-06-29T16:45:00\",\"2021-06-29T17:00:00\",\"2021-06-29T17:15:00\",\"2021-06-29T17:30:00\",\"2021-06-29T17:45:00\",\"2021-06-29T18:00:00\",\"2021-06-29T18:15:00\",\"2021-06-29T18:30:00\",\"2021-06-29T18:45:00\",\"2021-06-29T19:00:00\",\"2021-06-29T19:15:00\",\"2021-06-29T19:30:00\",\"2021-06-29T19:45:00\",\"2021-06-29T20:00:00\",\"2021-06-29T20:15:00\",\"2021-06-29T20:30:00\",\"2021-06-29T20:45:00\",\"2021-06-29T21:00:00\",\"2021-06-29T21:15:00\",\"2021-06-29T21:30:00\",\"2021-06-29T21:45:00\",\"2021-06-29T22:00:00\",\"2021-06-29T22:15:00\",\"2021-06-29T22:30:00\",\"2021-06-29T22:45:00\",\"2021-06-29T23:00:00\",\"2021-06-29T23:15:00\",\"2021-06-29T23:30:00\",\"2021-06-29T23:45:00\",\"2021-06-30T00:00:00\",\"2021-06-30T00:15:00\",\"2021-06-30T00:30:00\",\"2021-06-30T00:45:00\",\"2021-06-30T01:00:00\",\"2021-06-30T01:15:00\",\"2021-06-30T01:30:00\",\"2021-06-30T01:45:00\",\"2021-06-30T02:00:00\",\"2021-06-30T02:15:00\",\"2021-06-30T02:30:00\",\"2021-06-30T02:45:00\",\"2021-06-30T03:00:00\",\"2021-06-30T03:15:00\",\"2021-06-30T03:30:00\",\"2021-06-30T03:45:00\",\"2021-06-30T04:00:00\",\"2021-06-30T04:15:00\",\"2021-06-30T04:30:00\",\"2021-06-30T04:45:00\",\"2021-06-30T05:00:00\",\"2021-06-30T05:15:00\",\"2021-06-30T05:30:00\",\"2021-06-30T05:45:00\",\"2021-06-30T06:00:00\",\"2021-06-30T06:15:00\",\"2021-06-30T06:30:00\",\"2021-06-30T06:45:00\",\"2021-06-30T07:00:00\",\"2021-06-30T07:15:00\",\"2021-06-30T07:30:00\",\"2021-06-30T07:45:00\",\"2021-06-30T08:00:00\",\"2021-06-30T08:15:00\",\"2021-06-30T08:30:00\",\"2021-06-30T08:45:00\",\"2021-06-30T09:00:00\",\"2021-06-30T09:15:00\",\"2021-06-30T09:30:00\",\"2021-06-30T09:45:00\",\"2021-06-30T10:00:00\",\"2021-06-30T10:15:00\",\"2021-06-30T10:30:00\",\"2021-06-30T10:45:00\",\"2021-06-30T11:00:00\",\"2021-06-30T11:15:00\",\"2021-06-30T11:30:00\",\"2021-06-30T11:45:00\",\"2021-06-30T12:00:00\",\"2021-06-30T12:15:00\",\"2021-06-30T12:30:00\",\"2021-06-30T12:45:00\",\"2021-06-30T13:00:00\",\"2021-06-30T13:15:00\",\"2021-06-30T13:30:00\",\"2021-06-30T13:45:00\",\"2021-06-30T14:00:00\",\"2021-06-30T14:15:00\",\"2021-06-30T14:30:00\",\"2021-06-30T14:45:00\",\"2021-06-30T15:00:00\",\"2021-06-30T15:15:00\",\"2021-06-30T15:30:00\",\"2021-06-30T15:45:00\",\"2021-06-30T16:00:00\",\"2021-06-30T16:15:00\",\"2021-06-30T16:30:00\",\"2021-06-30T16:45:00\",\"2021-06-30T17:00:00\",\"2021-06-30T17:15:00\",\"2021-06-30T17:30:00\",\"2021-06-30T17:45:00\",\"2021-06-30T18:00:00\",\"2021-06-30T18:15:00\",\"2021-06-30T18:30:00\",\"2021-06-30T18:45:00\",\"2021-06-30T19:00:00\",\"2021-06-30T19:15:00\",\"2021-06-30T19:30:00\",\"2021-06-30T19:45:00\",\"2021-06-30T20:00:00\",\"2021-06-30T20:15:00\",\"2021-06-30T20:30:00\",\"2021-06-30T20:45:00\",\"2021-06-30T21:00:00\",\"2021-06-30T21:15:00\",\"2021-06-30T21:30:00\",\"2021-06-30T21:45:00\",\"2021-06-30T22:00:00\",\"2021-06-30T22:15:00\",\"2021-06-30T22:30:00\",\"2021-06-30T22:45:00\",\"2021-06-30T23:00:00\",\"2021-06-30T23:15:00\",\"2021-06-30T23:30:00\",\"2021-06-30T23:45:00\",\"2021-07-01T00:00:00\",\"2021-07-01T00:15:00\",\"2021-07-01T00:30:00\",\"2021-07-01T00:45:00\",\"2021-07-01T01:00:00\",\"2021-07-01T01:15:00\",\"2021-07-01T01:30:00\",\"2021-07-01T01:45:00\",\"2021-07-01T02:00:00\",\"2021-07-01T02:15:00\",\"2021-07-01T02:30:00\",\"2021-07-01T02:45:00\",\"2021-07-01T03:00:00\",\"2021-07-01T03:15:00\",\"2021-07-01T03:30:00\",\"2021-07-01T03:45:00\",\"2021-07-01T04:00:00\",\"2021-07-01T04:15:00\",\"2021-07-01T04:30:00\",\"2021-07-01T04:45:00\",\"2021-07-01T05:00:00\",\"2021-07-01T05:15:00\",\"2021-07-01T05:30:00\",\"2021-07-01T05:45:00\",\"2021-07-01T06:00:00\",\"2021-07-01T06:15:00\",\"2021-07-01T06:30:00\",\"2021-07-01T06:45:00\",\"2021-07-01T07:00:00\",\"2021-07-01T07:15:00\",\"2021-07-01T07:30:00\",\"2021-07-01T07:45:00\",\"2021-07-01T08:00:00\",\"2021-07-01T08:15:00\",\"2021-07-01T08:30:00\",\"2021-07-01T08:45:00\",\"2021-07-01T09:00:00\",\"2021-07-01T09:15:00\",\"2021-07-01T09:30:00\",\"2021-07-01T09:45:00\",\"2021-07-01T10:00:00\",\"2021-07-01T10:15:00\",\"2021-07-01T10:30:00\",\"2021-07-01T10:45:00\",\"2021-07-01T11:00:00\",\"2021-07-01T11:15:00\",\"2021-07-01T11:30:00\",\"2021-07-01T11:45:00\",\"2021-07-01T12:00:00\",\"2021-07-01T12:15:00\",\"2021-07-01T12:30:00\",\"2021-07-01T12:45:00\",\"2021-07-01T13:00:00\",\"2021-07-01T13:15:00\",\"2021-07-01T13:30:00\",\"2021-07-01T13:45:00\",\"2021-07-01T14:00:00\",\"2021-07-01T14:15:00\",\"2021-07-01T14:30:00\",\"2021-07-01T14:45:00\",\"2021-07-01T15:00:00\",\"2021-07-01T15:15:00\",\"2021-07-01T15:30:00\",\"2021-07-01T15:45:00\",\"2021-07-01T16:00:00\",\"2021-07-01T16:15:00\",\"2021-07-01T16:30:00\",\"2021-07-01T16:45:00\",\"2021-07-01T17:00:00\",\"2021-07-01T17:15:00\",\"2021-07-01T17:30:00\",\"2021-07-01T17:45:00\",\"2021-07-01T18:00:00\",\"2021-07-01T18:15:00\",\"2021-07-01T18:30:00\",\"2021-07-01T18:45:00\",\"2021-07-01T19:00:00\",\"2021-07-01T19:15:00\",\"2021-07-01T19:30:00\",\"2021-07-01T19:45:00\",\"2021-07-01T20:00:00\",\"2021-07-01T20:15:00\",\"2021-07-01T20:30:00\",\"2021-07-01T20:45:00\",\"2021-07-01T21:00:00\",\"2021-07-01T21:15:00\",\"2021-07-01T21:30:00\",\"2021-07-01T21:45:00\",\"2021-07-01T22:00:00\",\"2021-07-01T22:15:00\",\"2021-07-01T22:30:00\",\"2021-07-01T22:45:00\",\"2021-07-01T23:00:00\",\"2021-07-01T23:15:00\",\"2021-07-01T23:30:00\",\"2021-07-01T23:45:00\",\"2021-07-02T00:00:00\",\"2021-07-02T00:15:00\",\"2021-07-02T00:30:00\",\"2021-07-02T00:45:00\",\"2021-07-02T01:00:00\",\"2021-07-02T01:15:00\",\"2021-07-02T01:30:00\",\"2021-07-02T01:45:00\",\"2021-07-02T02:00:00\",\"2021-07-02T02:15:00\",\"2021-07-02T02:30:00\",\"2021-07-02T02:45:00\",\"2021-07-02T03:00:00\",\"2021-07-02T03:15:00\",\"2021-07-02T03:30:00\",\"2021-07-02T03:45:00\",\"2021-07-02T04:00:00\",\"2021-07-02T04:15:00\",\"2021-07-02T04:30:00\",\"2021-07-02T04:45:00\",\"2021-07-02T05:00:00\",\"2021-07-02T05:15:00\",\"2021-07-02T05:30:00\",\"2021-07-02T05:45:00\",\"2021-07-02T06:00:00\",\"2021-07-02T06:15:00\",\"2021-07-02T06:30:00\",\"2021-07-02T06:45:00\",\"2021-07-02T07:00:00\",\"2021-07-02T07:15:00\",\"2021-07-02T07:30:00\",\"2021-07-02T07:45:00\",\"2021-07-02T08:00:00\",\"2021-07-02T08:15:00\",\"2021-07-02T08:30:00\",\"2021-07-02T08:45:00\",\"2021-07-02T09:00:00\",\"2021-07-02T09:15:00\",\"2021-07-02T09:30:00\",\"2021-07-02T09:45:00\",\"2021-07-02T10:00:00\",\"2021-07-02T10:15:00\",\"2021-07-02T10:30:00\",\"2021-07-02T10:45:00\",\"2021-07-02T11:00:00\",\"2021-07-02T11:15:00\",\"2021-07-02T11:30:00\",\"2021-07-02T11:45:00\",\"2021-07-02T12:00:00\"],\"y\":[1.84633,1.84983,1.84742,1.84511,1.84363,1.84324,1.84233,1.84253,1.84179,1.84032,1.84058,1.84041,1.84212,1.84187,1.84147,1.84144,1.84073,1.84133,1.84222,1.84251,1.84238,1.84237,1.84346,1.84372,1.84437,1.84512,1.8457,1.84564,1.84517,1.84576,1.84849,1.84532,1.8439,1.84657,1.84637,1.84613,1.84592,1.84412,1.84502,1.84528,1.84479,1.84473,1.84348,1.84345,1.84243,1.84215,1.84263,1.84374,1.84317,1.843,1.84377,1.84237,1.84177,1.84198,1.8424,1.84256,1.84265,1.84197,1.84208,1.84216,1.84314,1.84388,1.84393,1.84414,1.84574,1.84489,1.84489,1.84489,1.84178,1.84129,1.84127,1.84059,1.84194,1.84297,1.84135,1.84154,1.84101,1.83773,1.83793,1.83862,1.83914,1.8405,1.84095,1.84156,1.84135,1.84163,1.84221,1.84159,1.84156,1.84307,1.84346,1.84103,1.84216,1.84072,1.8411,1.84149,1.84349,1.84501,1.84384,1.84382,1.84475,1.8457,1.84619,1.84583,1.84569,1.84566,1.84606,1.84677,1.84616,1.84685,1.84691,1.84735,1.84657,1.84724,1.84674,1.84696,1.84563,1.84636,1.84594,1.84701,1.84747,1.84771,1.84795,1.84832,1.84762,1.84745,1.84865,1.84661,1.84744,1.84913,1.84855,1.84818,1.84832,1.84802,1.84824,1.84773,1.84817,1.8474,1.84723,1.84776,1.84769,1.8472,1.84779,1.84788,1.84767,1.84741,1.84836,1.84774,1.84725,1.84693,1.8469,1.84679,1.84772,1.84747,1.84852,1.84824,1.84789,1.84743,1.84689,1.84739,1.84739,1.84742,1.84667,1.84674,1.84793,1.8489,1.84844,1.84908,1.84853,1.84841,1.84831,1.84836,1.84909,1.84951,1.84996,1.85141,1.85193,1.85171,1.8522,1.85201,1.85119,1.85038,1.84979,1.85016,1.84989,1.84938,1.85008,1.85027,1.85046,1.85062,1.85002,1.8501,1.8488,1.8491,1.8493,1.84975,1.85039,1.85021,1.85001,1.85009,1.84906,1.8489,1.84974,1.84999,1.84938,1.84846,1.84829,1.84844,1.84814,1.84768,1.84752,1.84802,1.84876,1.84855,1.85063,1.85088,1.84977,1.84838,1.84905,1.84842,1.85063,1.84961,1.85051,1.85099,1.85122,1.84985,1.84947,1.849,1.84925,1.8492,1.84872,1.84845,1.84837,1.84854,1.84808,1.84763,1.84742,1.84767,1.84689,1.8459,1.84551,1.84595,1.84638,1.84603,1.84624,1.84618,1.84615,1.84564,1.84642,1.84654,1.84668,1.84562,1.84625,1.84634,1.84645,1.847,1.84693,1.84712,1.84729,1.84624,1.84644,1.84597,1.84701,1.84685,1.84658,1.8468,1.84612,1.84703,1.84666,1.84708,1.8474,1.84625,1.84636,1.84589,1.84583,1.84583,1.84576,1.84666,1.84666,1.84651,1.84655,1.84645,1.84633,1.84675,1.84786,1.84874,1.84926,1.84814,1.84881,1.85006,1.85078,1.85123,1.85064,1.84862,1.84691,1.84658,1.8469,1.84606,1.84682,1.84541,1.84623,1.84717,1.84381,1.84424,1.84516,1.84442,1.84537,1.8446,1.8442,1.8449,1.84488,1.84509,1.84506,1.84594,1.84591,1.8438,1.84229,1.84277,1.84212,1.8408,1.84095,1.84039,1.84093,1.84086,1.84169,1.8423,1.84271,1.84288,1.84272,1.84303,1.84379,1.84358,1.8432,1.84327,1.84326,1.84394,1.84378,1.84382,1.8428,1.84312,1.84349,1.84323,1.84333,1.84324,1.84277,1.84227,1.84302,1.84254,1.84305,1.84304,1.84251,1.84349,1.8435,1.84364,1.84292,1.84376,1.84411,1.84407,1.84414,1.84319,1.84315,1.84327,1.84289,1.84251,1.84313,1.84317,1.84291,1.84249,1.84309,1.84261,1.84266,1.84277,1.84237,1.84291,1.8431,1.8429,1.84293,1.84231,1.84309,1.84367,1.84379,1.84312,1.84254,1.84235,1.84144,1.84167,1.8422,1.84234,1.84293,1.84384,1.84446,1.84408,1.84405,1.84417,1.84455,1.84319,1.84296,1.843,1.84283,1.8427,1.8428,1.83719,1.83767,1.83734,1.83567,1.83419,1.83399,1.83451,1.83582,1.83483,1.83579,1.83557,1.83485,1.83526,1.83507,1.83538,1.83424,1.83475,1.83467,1.83523,1.83635,1.83578,1.83533,1.83613,1.83566,1.83537,1.83514,1.83569,1.83608,1.83654,1.83699,1.83721,1.83664,1.8362,1.8361,1.83635,1.83677,1.83634,1.8363,1.83618,1.83455,1.83507,1.83463,1.83535,1.83536,1.83531,1.83495,1.83556,1.83558,1.83569,1.83595,1.83547,1.83543,1.83366,1.83375,1.83506,1.8346,1.83476,1.83427,1.83508,1.83581,1.83525,1.83496,1.83504,1.83553,1.83572,1.83505,1.83497,1.83442,1.83422,1.83404,1.8342,1.83453,1.83352,1.8337,1.83436,1.834,1.83497,1.83444,1.83336,1.83307,1.83104,1.83101,1.83152,1.8301,1.82965,1.83036,1.83067,1.83097,1.83081,1.83166,1.83184,1.83225,1.83195,1.83117,1.83234,1.83043,1.83166,1.83118,1.83004,1.83,1.82963,1.82785,1.8278,1.82712,1.82683,1.82769,1.82818,1.8299,1.83112,1.83195,1.83086,1.83016,1.83086,1.83028,1.82916,1.82987,1.83041,1.83122,1.83116,1.83111,1.83082,1.83079,1.83061,1.83073,1.83037,1.82925,1.82908,1.82905,1.82889,1.82784,1.82792,1.82845,1.82811,1.82796,1.82791,1.82813,1.82908,1.82908,1.82908,1.82964,1.83012,1.82988,1.82997,1.83015,1.82935,1.83005,1.83024,1.83059,1.83134,1.83015,1.82995,1.83027,1.8303,1.83021,1.83004,1.83032,1.83054,1.83024,1.83049,1.83029,1.83001,1.83043,1.82982,1.83027,1.83122,1.83137,1.832,1.8329,1.83323,1.8337,1.83415,1.83463,1.83318,1.83414,1.83444,1.83591,1.83518,1.83442,1.83493,1.83489,1.83433,1.83371,1.83371,1.83394,1.83372,1.83437,1.83541,1.83718,1.83801,1.83845,1.83848,1.8376,1.8384,1.83768,1.83783,1.83863,1.83905,1.83817,1.83624,1.83477,1.83395,1.83427,1.83407,1.83466,1.83552,1.83515,1.83579,1.8352,1.83582,1.83526,1.83516,1.83499,1.83489,1.83486,1.83467,1.83424,1.83436,1.83406,1.83421,1.83384,1.83381,1.83428,1.83427,1.83389,1.83328,1.83379,1.83353,1.83351,1.83436,1.83416,1.83406,1.83438,1.83393,1.83411,1.83408,1.83373,1.83444,1.83426,1.83362,1.83366,1.83338,1.83324,1.83404,1.83441,1.83491,1.83485,1.83503,1.83513,1.83609,1.83558,1.83578,1.83513,1.83488,1.83545,1.8352,1.8359,1.83543,1.83513,1.835,1.83445,1.83477,1.83425,1.83458,1.83529,1.83568,1.83598,1.83612,1.83625,1.83725,1.83751,1.83838,1.83755,1.83744,1.83861,1.83866,1.83914,1.83912,1.83888,1.83877,1.83758,1.83777,1.83874,1.83869,1.83951,1.83951,1.84025,1.84058,1.8399,1.83998,1.83854,1.83881,1.84022,1.84,1.83849,1.83971,1.84059,1.84123,1.84124,1.84115,1.84175,1.8422,1.84253,1.8429,1.84174,1.84245,1.84271,1.84275,1.84299,1.84248,1.84258,1.84276,1.84294,1.84336,1.84359,1.84337,1.84377,1.84306,1.84304,1.84335,1.84182,1.84176,1.84112,1.84208,1.84101,1.84254,1.84238,1.8426,1.84266,1.84218,1.84215,1.8424,1.84189,1.8421,1.84229,1.8424,1.84316,1.84353,1.84373,1.84337,1.84314,1.84299,1.84231,1.84222,1.84151,1.84149,1.84148,1.84137,1.84122,1.84137,1.84113,1.84193,1.84103,1.84131,1.84135,1.84149,1.84216,1.84174,1.84126,1.8411,1.83928,1.83896,1.83919,1.83934,1.83994,1.84063,1.84386,1.84383,1.8448,1.84436,1.84364,1.84448,1.8469,1.84643,1.84727,1.84697,1.8472,1.84746,1.84681,1.84739,1.84751,1.84693,1.84715,1.84738,1.84534,1.84353,1.84401,1.84173,1.84451,1.84387,1.84359,1.8422,1.83989,1.84164,1.8418,1.84269,1.84175,1.84104,1.84107,1.84047,1.8409,1.84023,1.84093,1.84137,1.84216,1.84194,1.84142,1.84153,1.84152,1.84119,1.84243,1.84338,1.84476,1.84533,1.84557,1.84463,1.8441,1.84329,1.84316,1.84411,1.84274,1.84385,1.84387,1.84361,1.84404,1.84393,1.84432,1.84417,1.84433,1.84524,1.84473,1.84527,1.84509,1.84512,1.84518,1.8445,1.84461,1.84459,1.84473,1.84484,1.84431,1.84462,1.84472,1.84357,1.84456,1.84446,1.84504,1.84521,1.84494,1.84456,1.84537,1.84614,1.84606,1.84629,1.84603,1.84659,1.84575,1.84394,1.8432,1.8441,1.84391,1.84207,1.8425,1.8416,1.8406,1.84059,1.83994,1.83986,1.83986,1.842,1.84201,1.84162,1.84143,1.84137,1.84179,1.84129,1.84066,1.84078,1.84072,1.84001,1.84035,1.84224,1.84077,1.84081,1.84103,1.84122,1.84068,1.8419,1.84247,1.84292,1.84437,1.84417,1.84404,1.84251,1.84255,1.84322,1.84313,1.84271,1.84307,1.84377,1.84408,1.84395,1.84327,1.84282,1.84368,1.84265,1.8428,1.84288,1.84252,1.84286,1.84228,1.84176,1.84112,1.83993,1.84159,1.84169,1.8419,1.84257,1.84243,1.84245,1.8424,1.84285,1.84281,1.84245,1.84293,1.84338,1.84387,1.84347,1.8438,1.84312,1.84321,1.84432,1.84429,1.84466,1.84471,1.84495,1.84486,1.84466,1.84462,1.84471,1.84472,1.84456,1.84439,1.8442,1.84434,1.84412,1.84376,1.84372,1.84392,1.84345,1.84314,1.84342,1.84311,1.84467,1.84459,1.84499,1.84633,1.84563,1.84488,1.8441,1.84557,1.84499,1.84679,1.84655,1.84561,1.84384,1.84313,1.84128,1.84092,1.8415,1.84204,1.84163,1.84099]},{\"line\":{\"color\":\"green\"},\"mode\":\"lines\",\"name\":\"bb_avg\",\"type\":\"scatter\",\"x\":[\"2021-06-18T05:00:00\",\"2021-06-18T05:15:00\",\"2021-06-18T05:30:00\",\"2021-06-18T05:45:00\",\"2021-06-18T06:00:00\",\"2021-06-18T06:15:00\",\"2021-06-18T06:30:00\",\"2021-06-18T06:45:00\",\"2021-06-18T07:00:00\",\"2021-06-18T07:15:00\",\"2021-06-18T07:30:00\",\"2021-06-18T07:45:00\",\"2021-06-18T08:00:00\",\"2021-06-18T08:15:00\",\"2021-06-18T08:30:00\",\"2021-06-18T08:45:00\",\"2021-06-18T09:00:00\",\"2021-06-18T09:15:00\",\"2021-06-18T09:30:00\",\"2021-06-18T09:45:00\",\"2021-06-18T10:00:00\",\"2021-06-18T10:15:00\",\"2021-06-18T10:30:00\",\"2021-06-18T10:45:00\",\"2021-06-18T11:00:00\",\"2021-06-18T11:15:00\",\"2021-06-18T11:30:00\",\"2021-06-18T11:45:00\",\"2021-06-18T12:00:00\",\"2021-06-18T12:15:00\",\"2021-06-18T12:30:00\",\"2021-06-18T12:45:00\",\"2021-06-18T13:00:00\",\"2021-06-18T13:15:00\",\"2021-06-18T13:30:00\",\"2021-06-18T13:45:00\",\"2021-06-18T14:00:00\",\"2021-06-18T14:15:00\",\"2021-06-18T14:30:00\",\"2021-06-18T14:45:00\",\"2021-06-18T15:00:00\",\"2021-06-18T15:15:00\",\"2021-06-18T15:30:00\",\"2021-06-18T15:45:00\",\"2021-06-18T16:00:00\",\"2021-06-18T16:15:00\",\"2021-06-18T16:30:00\",\"2021-06-18T16:45:00\",\"2021-06-18T17:00:00\",\"2021-06-18T17:15:00\",\"2021-06-18T17:30:00\",\"2021-06-18T17:45:00\",\"2021-06-18T18:00:00\",\"2021-06-18T18:15:00\",\"2021-06-18T18:30:00\",\"2021-06-18T18:45:00\",\"2021-06-18T19:00:00\",\"2021-06-18T19:15:00\",\"2021-06-18T19:30:00\",\"2021-06-18T19:45:00\",\"2021-06-18T20:00:00\",\"2021-06-18T20:15:00\",\"2021-06-18T20:30:00\",\"2021-06-18T20:45:00\",\"2021-06-18T21:00:00\",\"2021-06-18T21:15:00\",\"2021-06-18T21:30:00\",\"2021-06-18T21:45:00\",\"2021-06-21T00:00:00\",\"2021-06-21T00:15:00\",\"2021-06-21T00:30:00\",\"2021-06-21T00:45:00\",\"2021-06-21T01:00:00\",\"2021-06-21T01:15:00\",\"2021-06-21T01:30:00\",\"2021-06-21T01:45:00\",\"2021-06-21T02:00:00\",\"2021-06-21T02:15:00\",\"2021-06-21T02:30:00\",\"2021-06-21T02:45:00\",\"2021-06-21T03:00:00\",\"2021-06-21T03:15:00\",\"2021-06-21T03:30:00\",\"2021-06-21T03:45:00\",\"2021-06-21T04:00:00\",\"2021-06-21T04:15:00\",\"2021-06-21T04:30:00\",\"2021-06-21T04:45:00\",\"2021-06-21T05:00:00\",\"2021-06-21T05:15:00\",\"2021-06-21T05:30:00\",\"2021-06-21T05:45:00\",\"2021-06-21T06:00:00\",\"2021-06-21T06:15:00\",\"2021-06-21T06:30:00\",\"2021-06-21T06:45:00\",\"2021-06-21T07:00:00\",\"2021-06-21T07:15:00\",\"2021-06-21T07:30:00\",\"2021-06-21T07:45:00\",\"2021-06-21T08:00:00\",\"2021-06-21T08:15:00\",\"2021-06-21T08:30:00\",\"2021-06-21T08:45:00\",\"2021-06-21T09:00:00\",\"2021-06-21T09:15:00\",\"2021-06-21T09:30:00\",\"2021-06-21T09:45:00\",\"2021-06-21T10:00:00\",\"2021-06-21T10:15:00\",\"2021-06-21T10:30:00\",\"2021-06-21T10:45:00\",\"2021-06-21T11:00:00\",\"2021-06-21T11:15:00\",\"2021-06-21T11:30:00\",\"2021-06-21T11:45:00\",\"2021-06-21T12:00:00\",\"2021-06-21T12:15:00\",\"2021-06-21T12:30:00\",\"2021-06-21T12:45:00\",\"2021-06-21T13:00:00\",\"2021-06-21T13:15:00\",\"2021-06-21T13:30:00\",\"2021-06-21T13:45:00\",\"2021-06-21T14:00:00\",\"2021-06-21T14:15:00\",\"2021-06-21T14:30:00\",\"2021-06-21T14:45:00\",\"2021-06-21T15:00:00\",\"2021-06-21T15:15:00\",\"2021-06-21T15:30:00\",\"2021-06-21T15:45:00\",\"2021-06-21T16:00:00\",\"2021-06-21T16:15:00\",\"2021-06-21T16:30:00\",\"2021-06-21T16:45:00\",\"2021-06-21T17:00:00\",\"2021-06-21T17:15:00\",\"2021-06-21T17:30:00\",\"2021-06-21T17:45:00\",\"2021-06-21T18:00:00\",\"2021-06-21T18:15:00\",\"2021-06-21T18:30:00\",\"2021-06-21T18:45:00\",\"2021-06-21T19:00:00\",\"2021-06-21T19:15:00\",\"2021-06-21T19:30:00\",\"2021-06-21T19:45:00\",\"2021-06-21T20:00:00\",\"2021-06-21T20:15:00\",\"2021-06-21T20:30:00\",\"2021-06-21T20:45:00\",\"2021-06-21T21:00:00\",\"2021-06-21T21:15:00\",\"2021-06-21T21:30:00\",\"2021-06-21T21:45:00\",\"2021-06-21T22:00:00\",\"2021-06-21T22:15:00\",\"2021-06-21T22:30:00\",\"2021-06-21T22:45:00\",\"2021-06-21T23:00:00\",\"2021-06-21T23:15:00\",\"2021-06-21T23:30:00\",\"2021-06-21T23:45:00\",\"2021-06-22T00:00:00\",\"2021-06-22T00:15:00\",\"2021-06-22T00:30:00\",\"2021-06-22T00:45:00\",\"2021-06-22T01:00:00\",\"2021-06-22T01:15:00\",\"2021-06-22T01:30:00\",\"2021-06-22T01:45:00\",\"2021-06-22T02:00:00\",\"2021-06-22T02:15:00\",\"2021-06-22T02:30:00\",\"2021-06-22T02:45:00\",\"2021-06-22T03:00:00\",\"2021-06-22T03:15:00\",\"2021-06-22T03:30:00\",\"2021-06-22T03:45:00\",\"2021-06-22T04:00:00\",\"2021-06-22T04:15:00\",\"2021-06-22T04:30:00\",\"2021-06-22T04:45:00\",\"2021-06-22T05:00:00\",\"2021-06-22T05:15:00\",\"2021-06-22T05:30:00\",\"2021-06-22T05:45:00\",\"2021-06-22T06:00:00\",\"2021-06-22T06:15:00\",\"2021-06-22T06:30:00\",\"2021-06-22T06:45:00\",\"2021-06-22T07:00:00\",\"2021-06-22T07:15:00\",\"2021-06-22T07:30:00\",\"2021-06-22T07:45:00\",\"2021-06-22T08:00:00\",\"2021-06-22T08:15:00\",\"2021-06-22T08:30:00\",\"2021-06-22T08:45:00\",\"2021-06-22T09:00:00\",\"2021-06-22T09:15:00\",\"2021-06-22T09:30:00\",\"2021-06-22T09:45:00\",\"2021-06-22T10:00:00\",\"2021-06-22T10:15:00\",\"2021-06-22T10:30:00\",\"2021-06-22T10:45:00\",\"2021-06-22T11:00:00\",\"2021-06-22T11:15:00\",\"2021-06-22T11:30:00\",\"2021-06-22T11:45:00\",\"2021-06-22T12:00:00\",\"2021-06-22T12:15:00\",\"2021-06-22T12:30:00\",\"2021-06-22T12:45:00\",\"2021-06-22T13:00:00\",\"2021-06-22T13:15:00\",\"2021-06-22T13:30:00\",\"2021-06-22T13:45:00\",\"2021-06-22T14:00:00\",\"2021-06-22T14:15:00\",\"2021-06-22T14:30:00\",\"2021-06-22T14:45:00\",\"2021-06-22T15:00:00\",\"2021-06-22T15:15:00\",\"2021-06-22T15:30:00\",\"2021-06-22T15:45:00\",\"2021-06-22T16:00:00\",\"2021-06-22T16:15:00\",\"2021-06-22T16:30:00\",\"2021-06-22T16:45:00\",\"2021-06-22T17:00:00\",\"2021-06-22T17:15:00\",\"2021-06-22T17:30:00\",\"2021-06-22T17:45:00\",\"2021-06-22T18:00:00\",\"2021-06-22T18:15:00\",\"2021-06-22T18:30:00\",\"2021-06-22T18:45:00\",\"2021-06-22T19:00:00\",\"2021-06-22T19:15:00\",\"2021-06-22T19:30:00\",\"2021-06-22T19:45:00\",\"2021-06-22T20:00:00\",\"2021-06-22T20:15:00\",\"2021-06-22T20:30:00\",\"2021-06-22T20:45:00\",\"2021-06-22T21:00:00\",\"2021-06-22T21:15:00\",\"2021-06-22T21:30:00\",\"2021-06-22T21:45:00\",\"2021-06-22T22:00:00\",\"2021-06-22T22:15:00\",\"2021-06-22T22:30:00\",\"2021-06-22T22:45:00\",\"2021-06-22T23:00:00\",\"2021-06-22T23:15:00\",\"2021-06-22T23:30:00\",\"2021-06-22T23:45:00\",\"2021-06-23T00:00:00\",\"2021-06-23T00:15:00\",\"2021-06-23T00:30:00\",\"2021-06-23T00:45:00\",\"2021-06-23T01:00:00\",\"2021-06-23T01:15:00\",\"2021-06-23T01:30:00\",\"2021-06-23T01:45:00\",\"2021-06-23T02:00:00\",\"2021-06-23T02:15:00\",\"2021-06-23T02:30:00\",\"2021-06-23T02:45:00\",\"2021-06-23T03:00:00\",\"2021-06-23T03:15:00\",\"2021-06-23T03:30:00\",\"2021-06-23T03:45:00\",\"2021-06-23T04:00:00\",\"2021-06-23T04:15:00\",\"2021-06-23T04:30:00\",\"2021-06-23T04:45:00\",\"2021-06-23T05:00:00\",\"2021-06-23T05:15:00\",\"2021-06-23T05:30:00\",\"2021-06-23T05:45:00\",\"2021-06-23T06:00:00\",\"2021-06-23T06:15:00\",\"2021-06-23T06:30:00\",\"2021-06-23T06:45:00\",\"2021-06-23T07:00:00\",\"2021-06-23T07:15:00\",\"2021-06-23T07:30:00\",\"2021-06-23T07:45:00\",\"2021-06-23T08:00:00\",\"2021-06-23T08:15:00\",\"2021-06-23T08:30:00\",\"2021-06-23T08:45:00\",\"2021-06-23T09:00:00\",\"2021-06-23T09:15:00\",\"2021-06-23T09:30:00\",\"2021-06-23T09:45:00\",\"2021-06-23T10:00:00\",\"2021-06-23T10:15:00\",\"2021-06-23T10:30:00\",\"2021-06-23T10:45:00\",\"2021-06-23T11:00:00\",\"2021-06-23T11:15:00\",\"2021-06-23T11:30:00\",\"2021-06-23T11:45:00\",\"2021-06-23T12:00:00\",\"2021-06-23T12:15:00\",\"2021-06-23T12:30:00\",\"2021-06-23T12:45:00\",\"2021-06-23T13:00:00\",\"2021-06-23T13:15:00\",\"2021-06-23T13:30:00\",\"2021-06-23T13:45:00\",\"2021-06-23T14:00:00\",\"2021-06-23T14:15:00\",\"2021-06-23T14:30:00\",\"2021-06-23T14:45:00\",\"2021-06-23T15:00:00\",\"2021-06-23T15:15:00\",\"2021-06-23T15:30:00\",\"2021-06-23T15:45:00\",\"2021-06-23T16:00:00\",\"2021-06-23T16:15:00\",\"2021-06-23T16:30:00\",\"2021-06-23T16:45:00\",\"2021-06-23T17:00:00\",\"2021-06-23T17:15:00\",\"2021-06-23T17:30:00\",\"2021-06-23T17:45:00\",\"2021-06-23T18:00:00\",\"2021-06-23T18:15:00\",\"2021-06-23T18:30:00\",\"2021-06-23T18:45:00\",\"2021-06-23T19:00:00\",\"2021-06-23T19:15:00\",\"2021-06-23T19:30:00\",\"2021-06-23T19:45:00\",\"2021-06-23T20:00:00\",\"2021-06-23T20:15:00\",\"2021-06-23T20:30:00\",\"2021-06-23T20:45:00\",\"2021-06-23T21:00:00\",\"2021-06-23T21:15:00\",\"2021-06-23T21:30:00\",\"2021-06-23T21:45:00\",\"2021-06-23T22:00:00\",\"2021-06-23T22:15:00\",\"2021-06-23T22:30:00\",\"2021-06-23T22:45:00\",\"2021-06-23T23:00:00\",\"2021-06-23T23:15:00\",\"2021-06-23T23:30:00\",\"2021-06-23T23:45:00\",\"2021-06-24T00:00:00\",\"2021-06-24T00:15:00\",\"2021-06-24T00:30:00\",\"2021-06-24T00:45:00\",\"2021-06-24T01:00:00\",\"2021-06-24T01:15:00\",\"2021-06-24T01:30:00\",\"2021-06-24T01:45:00\",\"2021-06-24T02:00:00\",\"2021-06-24T02:15:00\",\"2021-06-24T02:30:00\",\"2021-06-24T02:45:00\",\"2021-06-24T03:00:00\",\"2021-06-24T03:15:00\",\"2021-06-24T03:30:00\",\"2021-06-24T03:45:00\",\"2021-06-24T04:00:00\",\"2021-06-24T04:15:00\",\"2021-06-24T04:30:00\",\"2021-06-24T04:45:00\",\"2021-06-24T05:00:00\",\"2021-06-24T05:15:00\",\"2021-06-24T05:30:00\",\"2021-06-24T05:45:00\",\"2021-06-24T06:00:00\",\"2021-06-24T06:15:00\",\"2021-06-24T06:30:00\",\"2021-06-24T06:45:00\",\"2021-06-24T07:00:00\",\"2021-06-24T07:15:00\",\"2021-06-24T07:30:00\",\"2021-06-24T07:45:00\",\"2021-06-24T08:00:00\",\"2021-06-24T08:15:00\",\"2021-06-24T08:30:00\",\"2021-06-24T08:45:00\",\"2021-06-24T09:00:00\",\"2021-06-24T09:15:00\",\"2021-06-24T09:30:00\",\"2021-06-24T09:45:00\",\"2021-06-24T10:00:00\",\"2021-06-24T10:15:00\",\"2021-06-24T10:30:00\",\"2021-06-24T10:45:00\",\"2021-06-24T11:00:00\",\"2021-06-24T11:15:00\",\"2021-06-24T11:30:00\",\"2021-06-24T11:45:00\",\"2021-06-24T12:00:00\",\"2021-06-24T12:15:00\",\"2021-06-24T12:30:00\",\"2021-06-24T12:45:00\",\"2021-06-24T13:00:00\",\"2021-06-24T13:15:00\",\"2021-06-24T13:30:00\",\"2021-06-24T13:45:00\",\"2021-06-24T14:00:00\",\"2021-06-24T14:15:00\",\"2021-06-24T14:30:00\",\"2021-06-24T14:45:00\",\"2021-06-24T15:00:00\",\"2021-06-24T15:15:00\",\"2021-06-24T15:30:00\",\"2021-06-24T15:45:00\",\"2021-06-24T16:00:00\",\"2021-06-24T16:15:00\",\"2021-06-24T16:30:00\",\"2021-06-24T16:45:00\",\"2021-06-24T17:00:00\",\"2021-06-24T17:15:00\",\"2021-06-24T17:30:00\",\"2021-06-24T17:45:00\",\"2021-06-24T18:00:00\",\"2021-06-24T18:15:00\",\"2021-06-24T18:30:00\",\"2021-06-24T18:45:00\",\"2021-06-24T19:00:00\",\"2021-06-24T19:15:00\",\"2021-06-24T19:30:00\",\"2021-06-24T19:45:00\",\"2021-06-24T20:00:00\",\"2021-06-24T20:15:00\",\"2021-06-24T20:30:00\",\"2021-06-24T20:45:00\",\"2021-06-24T21:00:00\",\"2021-06-24T21:15:00\",\"2021-06-24T21:30:00\",\"2021-06-24T21:45:00\",\"2021-06-24T22:00:00\",\"2021-06-24T22:15:00\",\"2021-06-24T22:30:00\",\"2021-06-24T22:45:00\",\"2021-06-24T23:00:00\",\"2021-06-24T23:15:00\",\"2021-06-24T23:30:00\",\"2021-06-24T23:45:00\",\"2021-06-25T00:00:00\",\"2021-06-25T00:15:00\",\"2021-06-25T00:30:00\",\"2021-06-25T00:45:00\",\"2021-06-25T01:00:00\",\"2021-06-25T01:15:00\",\"2021-06-25T01:30:00\",\"2021-06-25T01:45:00\",\"2021-06-25T02:00:00\",\"2021-06-25T02:15:00\",\"2021-06-25T02:30:00\",\"2021-06-25T02:45:00\",\"2021-06-25T03:00:00\",\"2021-06-25T03:15:00\",\"2021-06-25T03:30:00\",\"2021-06-25T03:45:00\",\"2021-06-25T04:00:00\",\"2021-06-25T04:15:00\",\"2021-06-25T04:30:00\",\"2021-06-25T04:45:00\",\"2021-06-25T05:00:00\",\"2021-06-25T05:15:00\",\"2021-06-25T05:30:00\",\"2021-06-25T05:45:00\",\"2021-06-25T06:00:00\",\"2021-06-25T06:15:00\",\"2021-06-25T06:30:00\",\"2021-06-25T06:45:00\",\"2021-06-25T07:00:00\",\"2021-06-25T07:15:00\",\"2021-06-25T07:30:00\",\"2021-06-25T07:45:00\",\"2021-06-25T08:00:00\",\"2021-06-25T08:15:00\",\"2021-06-25T08:30:00\",\"2021-06-25T08:45:00\",\"2021-06-25T09:00:00\",\"2021-06-25T09:15:00\",\"2021-06-25T09:30:00\",\"2021-06-25T09:45:00\",\"2021-06-25T10:00:00\",\"2021-06-25T10:15:00\",\"2021-06-25T10:30:00\",\"2021-06-25T10:45:00\",\"2021-06-25T11:00:00\",\"2021-06-25T11:15:00\",\"2021-06-25T11:30:00\",\"2021-06-25T11:45:00\",\"2021-06-25T12:00:00\",\"2021-06-25T12:15:00\",\"2021-06-25T12:30:00\",\"2021-06-25T12:45:00\",\"2021-06-25T13:00:00\",\"2021-06-25T13:15:00\",\"2021-06-25T13:30:00\",\"2021-06-25T13:45:00\",\"2021-06-25T14:00:00\",\"2021-06-25T14:15:00\",\"2021-06-25T14:30:00\",\"2021-06-25T14:45:00\",\"2021-06-25T15:00:00\",\"2021-06-25T15:15:00\",\"2021-06-25T15:30:00\",\"2021-06-25T15:45:00\",\"2021-06-25T16:00:00\",\"2021-06-25T16:15:00\",\"2021-06-25T16:30:00\",\"2021-06-25T16:45:00\",\"2021-06-25T17:00:00\",\"2021-06-25T17:15:00\",\"2021-06-25T17:30:00\",\"2021-06-25T17:45:00\",\"2021-06-25T18:00:00\",\"2021-06-25T18:15:00\",\"2021-06-25T18:30:00\",\"2021-06-25T18:45:00\",\"2021-06-25T19:00:00\",\"2021-06-25T19:15:00\",\"2021-06-25T19:30:00\",\"2021-06-25T19:45:00\",\"2021-06-25T20:00:00\",\"2021-06-25T20:15:00\",\"2021-06-25T20:30:00\",\"2021-06-25T20:45:00\",\"2021-06-25T21:00:00\",\"2021-06-25T21:15:00\",\"2021-06-25T21:30:00\",\"2021-06-25T21:45:00\",\"2021-06-28T00:00:00\",\"2021-06-28T00:15:00\",\"2021-06-28T00:30:00\",\"2021-06-28T00:45:00\",\"2021-06-28T01:00:00\",\"2021-06-28T01:15:00\",\"2021-06-28T01:30:00\",\"2021-06-28T01:45:00\",\"2021-06-28T02:00:00\",\"2021-06-28T02:15:00\",\"2021-06-28T02:30:00\",\"2021-06-28T02:45:00\",\"2021-06-28T03:00:00\",\"2021-06-28T03:15:00\",\"2021-06-28T03:30:00\",\"2021-06-28T03:45:00\",\"2021-06-28T04:00:00\",\"2021-06-28T04:15:00\",\"2021-06-28T04:30:00\",\"2021-06-28T04:45:00\",\"2021-06-28T05:00:00\",\"2021-06-28T05:15:00\",\"2021-06-28T05:30:00\",\"2021-06-28T05:45:00\",\"2021-06-28T06:00:00\",\"2021-06-28T06:15:00\",\"2021-06-28T06:30:00\",\"2021-06-28T06:45:00\",\"2021-06-28T07:00:00\",\"2021-06-28T07:15:00\",\"2021-06-28T07:30:00\",\"2021-06-28T07:45:00\",\"2021-06-28T08:00:00\",\"2021-06-28T08:15:00\",\"2021-06-28T08:30:00\",\"2021-06-28T08:45:00\",\"2021-06-28T09:00:00\",\"2021-06-28T09:15:00\",\"2021-06-28T09:30:00\",\"2021-06-28T09:45:00\",\"2021-06-28T10:00:00\",\"2021-06-28T10:15:00\",\"2021-06-28T10:30:00\",\"2021-06-28T10:45:00\",\"2021-06-28T11:00:00\",\"2021-06-28T11:15:00\",\"2021-06-28T11:30:00\",\"2021-06-28T11:45:00\",\"2021-06-28T12:00:00\",\"2021-06-28T12:15:00\",\"2021-06-28T12:30:00\",\"2021-06-28T12:45:00\",\"2021-06-28T13:00:00\",\"2021-06-28T13:15:00\",\"2021-06-28T13:30:00\",\"2021-06-28T13:45:00\",\"2021-06-28T14:00:00\",\"2021-06-28T14:15:00\",\"2021-06-28T14:30:00\",\"2021-06-28T14:45:00\",\"2021-06-28T15:00:00\",\"2021-06-28T15:15:00\",\"2021-06-28T15:30:00\",\"2021-06-28T15:45:00\",\"2021-06-28T16:00:00\",\"2021-06-28T16:15:00\",\"2021-06-28T16:30:00\",\"2021-06-28T16:45:00\",\"2021-06-28T17:00:00\",\"2021-06-28T17:15:00\",\"2021-06-28T17:30:00\",\"2021-06-28T17:45:00\",\"2021-06-28T18:00:00\",\"2021-06-28T18:15:00\",\"2021-06-28T18:30:00\",\"2021-06-28T18:45:00\",\"2021-06-28T19:00:00\",\"2021-06-28T19:15:00\",\"2021-06-28T19:30:00\",\"2021-06-28T19:45:00\",\"2021-06-28T20:00:00\",\"2021-06-28T20:15:00\",\"2021-06-28T20:30:00\",\"2021-06-28T20:45:00\",\"2021-06-28T21:00:00\",\"2021-06-28T21:15:00\",\"2021-06-28T21:30:00\",\"2021-06-28T21:45:00\",\"2021-06-28T22:00:00\",\"2021-06-28T22:15:00\",\"2021-06-28T22:30:00\",\"2021-06-28T22:45:00\",\"2021-06-28T23:00:00\",\"2021-06-28T23:15:00\",\"2021-06-28T23:30:00\",\"2021-06-28T23:45:00\",\"2021-06-29T00:00:00\",\"2021-06-29T00:15:00\",\"2021-06-29T00:30:00\",\"2021-06-29T00:45:00\",\"2021-06-29T01:00:00\",\"2021-06-29T01:15:00\",\"2021-06-29T01:30:00\",\"2021-06-29T01:45:00\",\"2021-06-29T02:00:00\",\"2021-06-29T02:15:00\",\"2021-06-29T02:30:00\",\"2021-06-29T02:45:00\",\"2021-06-29T03:00:00\",\"2021-06-29T03:15:00\",\"2021-06-29T03:30:00\",\"2021-06-29T03:45:00\",\"2021-06-29T04:00:00\",\"2021-06-29T04:15:00\",\"2021-06-29T04:30:00\",\"2021-06-29T04:45:00\",\"2021-06-29T05:00:00\",\"2021-06-29T05:15:00\",\"2021-06-29T05:30:00\",\"2021-06-29T05:45:00\",\"2021-06-29T06:00:00\",\"2021-06-29T06:15:00\",\"2021-06-29T06:30:00\",\"2021-06-29T06:45:00\",\"2021-06-29T07:00:00\",\"2021-06-29T07:15:00\",\"2021-06-29T07:30:00\",\"2021-06-29T07:45:00\",\"2021-06-29T08:00:00\",\"2021-06-29T08:15:00\",\"2021-06-29T08:30:00\",\"2021-06-29T08:45:00\",\"2021-06-29T09:00:00\",\"2021-06-29T09:15:00\",\"2021-06-29T09:30:00\",\"2021-06-29T09:45:00\",\"2021-06-29T10:00:00\",\"2021-06-29T10:15:00\",\"2021-06-29T10:30:00\",\"2021-06-29T10:45:00\",\"2021-06-29T11:00:00\",\"2021-06-29T11:15:00\",\"2021-06-29T11:30:00\",\"2021-06-29T11:45:00\",\"2021-06-29T12:00:00\",\"2021-06-29T12:15:00\",\"2021-06-29T12:30:00\",\"2021-06-29T12:45:00\",\"2021-06-29T13:00:00\",\"2021-06-29T13:15:00\",\"2021-06-29T13:30:00\",\"2021-06-29T13:45:00\",\"2021-06-29T14:00:00\",\"2021-06-29T14:15:00\",\"2021-06-29T14:30:00\",\"2021-06-29T14:45:00\",\"2021-06-29T15:00:00\",\"2021-06-29T15:15:00\",\"2021-06-29T15:30:00\",\"2021-06-29T15:45:00\",\"2021-06-29T16:00:00\",\"2021-06-29T16:15:00\",\"2021-06-29T16:30:00\",\"2021-06-29T16:45:00\",\"2021-06-29T17:00:00\",\"2021-06-29T17:15:00\",\"2021-06-29T17:30:00\",\"2021-06-29T17:45:00\",\"2021-06-29T18:00:00\",\"2021-06-29T18:15:00\",\"2021-06-29T18:30:00\",\"2021-06-29T18:45:00\",\"2021-06-29T19:00:00\",\"2021-06-29T19:15:00\",\"2021-06-29T19:30:00\",\"2021-06-29T19:45:00\",\"2021-06-29T20:00:00\",\"2021-06-29T20:15:00\",\"2021-06-29T20:30:00\",\"2021-06-29T20:45:00\",\"2021-06-29T21:00:00\",\"2021-06-29T21:15:00\",\"2021-06-29T21:30:00\",\"2021-06-29T21:45:00\",\"2021-06-29T22:00:00\",\"2021-06-29T22:15:00\",\"2021-06-29T22:30:00\",\"2021-06-29T22:45:00\",\"2021-06-29T23:00:00\",\"2021-06-29T23:15:00\",\"2021-06-29T23:30:00\",\"2021-06-29T23:45:00\",\"2021-06-30T00:00:00\",\"2021-06-30T00:15:00\",\"2021-06-30T00:30:00\",\"2021-06-30T00:45:00\",\"2021-06-30T01:00:00\",\"2021-06-30T01:15:00\",\"2021-06-30T01:30:00\",\"2021-06-30T01:45:00\",\"2021-06-30T02:00:00\",\"2021-06-30T02:15:00\",\"2021-06-30T02:30:00\",\"2021-06-30T02:45:00\",\"2021-06-30T03:00:00\",\"2021-06-30T03:15:00\",\"2021-06-30T03:30:00\",\"2021-06-30T03:45:00\",\"2021-06-30T04:00:00\",\"2021-06-30T04:15:00\",\"2021-06-30T04:30:00\",\"2021-06-30T04:45:00\",\"2021-06-30T05:00:00\",\"2021-06-30T05:15:00\",\"2021-06-30T05:30:00\",\"2021-06-30T05:45:00\",\"2021-06-30T06:00:00\",\"2021-06-30T06:15:00\",\"2021-06-30T06:30:00\",\"2021-06-30T06:45:00\",\"2021-06-30T07:00:00\",\"2021-06-30T07:15:00\",\"2021-06-30T07:30:00\",\"2021-06-30T07:45:00\",\"2021-06-30T08:00:00\",\"2021-06-30T08:15:00\",\"2021-06-30T08:30:00\",\"2021-06-30T08:45:00\",\"2021-06-30T09:00:00\",\"2021-06-30T09:15:00\",\"2021-06-30T09:30:00\",\"2021-06-30T09:45:00\",\"2021-06-30T10:00:00\",\"2021-06-30T10:15:00\",\"2021-06-30T10:30:00\",\"2021-06-30T10:45:00\",\"2021-06-30T11:00:00\",\"2021-06-30T11:15:00\",\"2021-06-30T11:30:00\",\"2021-06-30T11:45:00\",\"2021-06-30T12:00:00\",\"2021-06-30T12:15:00\",\"2021-06-30T12:30:00\",\"2021-06-30T12:45:00\",\"2021-06-30T13:00:00\",\"2021-06-30T13:15:00\",\"2021-06-30T13:30:00\",\"2021-06-30T13:45:00\",\"2021-06-30T14:00:00\",\"2021-06-30T14:15:00\",\"2021-06-30T14:30:00\",\"2021-06-30T14:45:00\",\"2021-06-30T15:00:00\",\"2021-06-30T15:15:00\",\"2021-06-30T15:30:00\",\"2021-06-30T15:45:00\",\"2021-06-30T16:00:00\",\"2021-06-30T16:15:00\",\"2021-06-30T16:30:00\",\"2021-06-30T16:45:00\",\"2021-06-30T17:00:00\",\"2021-06-30T17:15:00\",\"2021-06-30T17:30:00\",\"2021-06-30T17:45:00\",\"2021-06-30T18:00:00\",\"2021-06-30T18:15:00\",\"2021-06-30T18:30:00\",\"2021-06-30T18:45:00\",\"2021-06-30T19:00:00\",\"2021-06-30T19:15:00\",\"2021-06-30T19:30:00\",\"2021-06-30T19:45:00\",\"2021-06-30T20:00:00\",\"2021-06-30T20:15:00\",\"2021-06-30T20:30:00\",\"2021-06-30T20:45:00\",\"2021-06-30T21:00:00\",\"2021-06-30T21:15:00\",\"2021-06-30T21:30:00\",\"2021-06-30T21:45:00\",\"2021-06-30T22:00:00\",\"2021-06-30T22:15:00\",\"2021-06-30T22:30:00\",\"2021-06-30T22:45:00\",\"2021-06-30T23:00:00\",\"2021-06-30T23:15:00\",\"2021-06-30T23:30:00\",\"2021-06-30T23:45:00\",\"2021-07-01T00:00:00\",\"2021-07-01T00:15:00\",\"2021-07-01T00:30:00\",\"2021-07-01T00:45:00\",\"2021-07-01T01:00:00\",\"2021-07-01T01:15:00\",\"2021-07-01T01:30:00\",\"2021-07-01T01:45:00\",\"2021-07-01T02:00:00\",\"2021-07-01T02:15:00\",\"2021-07-01T02:30:00\",\"2021-07-01T02:45:00\",\"2021-07-01T03:00:00\",\"2021-07-01T03:15:00\",\"2021-07-01T03:30:00\",\"2021-07-01T03:45:00\",\"2021-07-01T04:00:00\",\"2021-07-01T04:15:00\",\"2021-07-01T04:30:00\",\"2021-07-01T04:45:00\",\"2021-07-01T05:00:00\",\"2021-07-01T05:15:00\",\"2021-07-01T05:30:00\",\"2021-07-01T05:45:00\",\"2021-07-01T06:00:00\",\"2021-07-01T06:15:00\",\"2021-07-01T06:30:00\",\"2021-07-01T06:45:00\",\"2021-07-01T07:00:00\",\"2021-07-01T07:15:00\",\"2021-07-01T07:30:00\",\"2021-07-01T07:45:00\",\"2021-07-01T08:00:00\",\"2021-07-01T08:15:00\",\"2021-07-01T08:30:00\",\"2021-07-01T08:45:00\",\"2021-07-01T09:00:00\",\"2021-07-01T09:15:00\",\"2021-07-01T09:30:00\",\"2021-07-01T09:45:00\",\"2021-07-01T10:00:00\",\"2021-07-01T10:15:00\",\"2021-07-01T10:30:00\",\"2021-07-01T10:45:00\",\"2021-07-01T11:00:00\",\"2021-07-01T11:15:00\",\"2021-07-01T11:30:00\",\"2021-07-01T11:45:00\",\"2021-07-01T12:00:00\",\"2021-07-01T12:15:00\",\"2021-07-01T12:30:00\",\"2021-07-01T12:45:00\",\"2021-07-01T13:00:00\",\"2021-07-01T13:15:00\",\"2021-07-01T13:30:00\",\"2021-07-01T13:45:00\",\"2021-07-01T14:00:00\",\"2021-07-01T14:15:00\",\"2021-07-01T14:30:00\",\"2021-07-01T14:45:00\",\"2021-07-01T15:00:00\",\"2021-07-01T15:15:00\",\"2021-07-01T15:30:00\",\"2021-07-01T15:45:00\",\"2021-07-01T16:00:00\",\"2021-07-01T16:15:00\",\"2021-07-01T16:30:00\",\"2021-07-01T16:45:00\",\"2021-07-01T17:00:00\",\"2021-07-01T17:15:00\",\"2021-07-01T17:30:00\",\"2021-07-01T17:45:00\",\"2021-07-01T18:00:00\",\"2021-07-01T18:15:00\",\"2021-07-01T18:30:00\",\"2021-07-01T18:45:00\",\"2021-07-01T19:00:00\",\"2021-07-01T19:15:00\",\"2021-07-01T19:30:00\",\"2021-07-01T19:45:00\",\"2021-07-01T20:00:00\",\"2021-07-01T20:15:00\",\"2021-07-01T20:30:00\",\"2021-07-01T20:45:00\",\"2021-07-01T21:00:00\",\"2021-07-01T21:15:00\",\"2021-07-01T21:30:00\",\"2021-07-01T21:45:00\",\"2021-07-01T22:00:00\",\"2021-07-01T22:15:00\",\"2021-07-01T22:30:00\",\"2021-07-01T22:45:00\",\"2021-07-01T23:00:00\",\"2021-07-01T23:15:00\",\"2021-07-01T23:30:00\",\"2021-07-01T23:45:00\",\"2021-07-02T00:00:00\",\"2021-07-02T00:15:00\",\"2021-07-02T00:30:00\",\"2021-07-02T00:45:00\",\"2021-07-02T01:00:00\",\"2021-07-02T01:15:00\",\"2021-07-02T01:30:00\",\"2021-07-02T01:45:00\",\"2021-07-02T02:00:00\",\"2021-07-02T02:15:00\",\"2021-07-02T02:30:00\",\"2021-07-02T02:45:00\",\"2021-07-02T03:00:00\",\"2021-07-02T03:15:00\",\"2021-07-02T03:30:00\",\"2021-07-02T03:45:00\",\"2021-07-02T04:00:00\",\"2021-07-02T04:15:00\",\"2021-07-02T04:30:00\",\"2021-07-02T04:45:00\",\"2021-07-02T05:00:00\",\"2021-07-02T05:15:00\",\"2021-07-02T05:30:00\",\"2021-07-02T05:45:00\",\"2021-07-02T06:00:00\",\"2021-07-02T06:15:00\",\"2021-07-02T06:30:00\",\"2021-07-02T06:45:00\",\"2021-07-02T07:00:00\",\"2021-07-02T07:15:00\",\"2021-07-02T07:30:00\",\"2021-07-02T07:45:00\",\"2021-07-02T08:00:00\",\"2021-07-02T08:15:00\",\"2021-07-02T08:30:00\",\"2021-07-02T08:45:00\",\"2021-07-02T09:00:00\",\"2021-07-02T09:15:00\",\"2021-07-02T09:30:00\",\"2021-07-02T09:45:00\",\"2021-07-02T10:00:00\",\"2021-07-02T10:15:00\",\"2021-07-02T10:30:00\",\"2021-07-02T10:45:00\",\"2021-07-02T11:00:00\",\"2021-07-02T11:15:00\",\"2021-07-02T11:30:00\",\"2021-07-02T11:45:00\",\"2021-07-02T12:00:00\"],\"y\":[null,null,null,null,null,null,null,null,null,1.8442530000000001,1.843678,1.8427359999999997,1.8422059999999998,1.8418819999999996,1.8416659999999996,1.8414859999999993,1.8413259999999994,1.8412059999999992,1.8412489999999995,1.8414679999999997,1.8416479999999997,1.8418439999999996,1.8419779999999997,1.8421629999999998,1.8424529999999997,1.842821,1.843318,1.843749,1.8440439999999998,1.8443689999999997,1.8449799999999996,1.8452749999999998,1.845319,1.8456039999999998,1.8458039999999998,1.8459049999999995,1.8459269999999992,1.8457749999999993,1.8457599999999996,1.8457119999999996,1.8453419999999994,1.8452829999999991,1.845240999999999,1.8449289999999992,1.8445349999999991,1.8441369999999992,1.8438079999999992,1.8437699999999992,1.8435849999999991,1.8433569999999992,1.8432549999999992,1.8430189999999993,1.8428479999999994,1.8427009999999993,1.8426979999999993,1.8427389999999992,1.842740999999999,1.842563999999999,1.8424549999999988,1.8423709999999989,1.8423079999999992,1.8424589999999992,1.8426749999999992,1.8428909999999992,1.843224999999999,1.843457999999999,1.843681999999999,1.843973999999999,1.8439439999999991,1.8438569999999992,1.8436699999999995,1.8433409999999995,1.8431419999999996,1.8430249999999997,1.8425859999999996,1.8422509999999996,1.8418629999999996,1.8411469999999999,1.8407619999999998,1.8404949999999995,1.8402819999999995,1.8402729999999994,1.8401739999999993,1.8400329999999994,1.8400329999999994,1.8400419999999993,1.8401619999999994,1.8405479999999994,1.8409109999999995,1.8413559999999998,1.8417879999999998,1.8418409999999998,1.8419619999999999,1.841878,1.841853,1.8418390000000002,1.841967,1.8423089999999998,1.8425369999999996,1.8426119999999997,1.8427409999999997,1.843208,1.8436109999999999,1.8441219999999998,1.8445809999999998,1.8449979999999997,1.8452549999999999,1.845431,1.845663,1.845966,1.846182,1.8463469999999997,1.8463849999999997,1.8465259999999997,1.8466309999999997,1.8467609999999997,1.8467179999999996,1.8466769999999997,1.8466549999999995,1.8466709999999995,1.8467269999999996,1.8467629999999997,1.8469009999999997,1.847009,1.8470969999999998,1.8471459999999997,1.8474479999999995,1.8474729999999997,1.8476229999999998,1.8478349999999995,1.8479429999999994,1.8479899999999994,1.8480269999999994,1.8479969999999994,1.8480589999999997,1.8480869999999996,1.8480389999999995,1.8481179999999995,1.8480969999999997,1.8479599999999998,1.8478739999999998,1.847776,1.8477229999999998,1.8477089999999996,1.8476519999999996,1.8476199999999998,1.8476389999999998,1.8476729999999997,1.8476749999999995,1.8475919999999995,1.8475129999999997,1.8474719999999993,1.8474649999999992,1.8474239999999995,1.8475089999999994,1.8475919999999995,1.8475449999999995,1.8475139999999997,1.8474779999999995,1.8475239999999995,1.8475729999999995,1.8476359999999996,1.8475309999999996,1.8474579999999996,1.8473989999999998,1.8474649999999997,1.8475199999999998,1.8476849999999998,1.847849,1.8479510000000001,1.848043,1.8481370000000001,1.8483790000000002,1.848656,1.8488589999999998,1.84911,1.849459,1.8497219999999999,1.8500889999999999,1.8504489999999998,1.8507369999999994,1.8509389999999997,1.8510089999999995,1.8510739999999994,1.8510669999999994,1.8508639999999992,1.850678999999999,1.850534999999999,1.850360999999999,1.8502219999999991,1.8501049999999992,1.8500769999999993,1.8499779999999995,1.8498719999999995,1.8498129999999997,1.8498499999999996,1.8498809999999999,1.8498750000000002,1.84983,1.8497770000000002,1.8496810000000004,1.8495610000000002,1.8496550000000003,1.8497440000000005,1.8497520000000005,1.8496230000000005,1.8494130000000002,1.849236,1.8490490000000002,1.848808,1.8486539999999998,1.8485659999999995,1.8484679999999993,1.8483239999999994,1.8484489999999993,1.8486909999999994,1.8488389999999995,1.8488329999999995,1.8489239999999996,1.8489979999999995,1.8493089999999994,1.8494679999999994,1.8496429999999997,1.8498869999999996,1.8499459999999999,1.849843,1.849813,1.8498750000000002,1.849895,1.8499729999999999,1.849782,1.8496660000000003,1.849452,1.8492070000000003,1.848893,1.848671,1.8484659999999997,1.8483329999999998,1.8480969999999997,1.8477669999999997,1.8474459999999997,1.8471959999999996,1.8469969999999996,1.8467459999999996,1.8465619999999998,1.846417,1.8462900000000002,1.846087,1.84604,1.846104,1.846221,1.8461880000000002,1.8461750000000001,1.8462060000000005,1.8462270000000003,1.8463090000000004,1.8463870000000004,1.8465350000000005,1.8466220000000007,1.8465920000000007,1.8465680000000009,1.846603000000001,1.846679000000001,1.8467300000000009,1.8467430000000007,1.8467230000000008,1.8466420000000006,1.8466330000000006,1.8465700000000005,1.8466540000000002,1.8467500000000001,1.846778,1.846713,1.8466170000000002,1.8465420000000001,1.846445,1.846409,1.846372,1.846372,1.846315,1.8462299999999998,1.84625,1.846247,1.846333,1.846536,1.846827,1.8471770000000003,1.8473250000000003,1.8475400000000004,1.8478950000000005,1.8483180000000003,1.8487960000000006,1.8492270000000004,1.8494140000000006,1.8493190000000006,1.8491030000000006,1.8488670000000007,1.8486590000000007,1.8484600000000007,1.847995000000001,1.8475400000000008,1.8471340000000005,1.8464510000000007,1.8460130000000006,1.8458380000000005,1.8456220000000005,1.8454690000000002,1.845323,1.845061,1.8450099999999998,1.844875,1.844667,1.844792,1.844962,1.845037,1.8449750000000003,1.844667,1.8444840000000002,1.8442760000000002,1.8438660000000007,1.8434730000000006,1.8430030000000006,1.8425900000000006,1.8420820000000007,1.8416600000000005,1.8415100000000006,1.8415520000000007,1.8415630000000007,1.8416230000000007,1.8418460000000003,1.8421300000000003,1.8424490000000002,1.8426760000000002,1.8429170000000004,1.8430740000000003,1.8432380000000002,1.843345,1.843439,1.843447,1.8434560000000002,1.8434260000000002,1.843391,1.843404,1.843401,1.843352,1.843185,1.843109,1.842981,1.8430060000000001,1.8429980000000001,1.8429000000000002,1.8429260000000003,1.8429430000000004,1.8429830000000003,1.8429980000000001,1.843147,1.8432560000000002,1.843409,1.843518,1.843533,1.8435970000000002,1.8435750000000002,1.8435140000000003,1.8434010000000005,1.8434220000000003,1.8433630000000005,1.8432430000000004,1.8430850000000008,1.8429800000000007,1.8429220000000008,1.8428730000000004,1.8428230000000005,1.8427710000000004,1.8428110000000004,1.8428080000000004,1.8427810000000004,1.8427830000000003,1.8427650000000004,1.8427650000000004,1.8428710000000001,1.8429840000000002,1.843019,1.8430360000000001,1.84298,1.842814,1.8426909999999999,1.8426179999999999,1.8426209999999998,1.8426049999999996,1.8426219999999998,1.842689,1.842785,1.842936,1.843118,1.8434290000000004,1.8435810000000004,1.8436570000000003,1.8437230000000002,1.8437130000000004,1.8435990000000004,1.8434330000000003,1.8427440000000004,1.8421060000000005,1.8414230000000003,1.8405350000000005,1.8396350000000006,1.8387380000000004,1.8378890000000006,1.8371880000000005,1.8364010000000004,1.8357000000000003,1.8355380000000003,1.8352560000000004,1.835048,1.8349879999999998,1.835107,1.8351320000000002,1.835156,1.8350409999999997,1.8350809999999995,1.8351369999999996,1.8351579999999994,1.8352059999999994,1.8352929999999994,1.8353519999999997,1.8353509999999997,1.8354409999999994,1.8355349999999995,1.8356759999999994,1.8358069999999995,1.8358709999999996,1.8360139999999994,1.8361449999999995,1.8361519999999996,1.8361959999999993,1.8362939999999992,1.8364569999999993,1.8365219999999993,1.8365439999999995,1.8365079999999996,1.8362639999999995,1.8360499999999995,1.8358489999999996,1.8357639999999993,1.8356899999999996,1.8355859999999997,1.8354039999999994,1.8353259999999996,1.8352539999999995,1.8352049999999995,1.8353449999999996,1.8353849999999994,1.8354649999999992,1.8352959999999996,1.8351349999999993,1.8351099999999991,1.8350749999999991,1.8349949999999988,1.834863999999999,1.834802999999999,1.834788999999999,1.8347669999999987,1.8347199999999986,1.8348579999999983,1.8350359999999983,1.8351019999999985,1.8351469999999985,1.8351679999999984,1.8351829999999985,1.8350969999999982,1.8349199999999986,1.8348149999999985,1.8347719999999987,1.8346199999999988,1.834436999999999,1.8343009999999993,1.8341959999999993,1.8341959999999993,1.8341979999999993,1.8341119999999993,1.8340149999999995,1.8336989999999997,1.8333469999999994,1.8331469999999996,1.8327869999999997,1.8323159999999998,1.8319519999999998,1.831522,1.831175,1.83092,1.8307790000000002,1.8308589999999998,1.8309829999999998,1.8310259999999996,1.8311329999999995,1.8314019999999993,1.8314089999999994,1.831507999999999,1.831528999999999,1.8314519999999992,1.8312859999999993,1.8310649999999995,1.830625,1.83021,1.829805,1.8292540000000002,1.8289800000000003,1.8286320000000003,1.8285040000000001,1.8286120000000001,1.8288069999999998,1.8289299999999997,1.8291609999999996,1.8294669999999997,1.8297829999999995,1.8300159999999992,1.830233999999999,1.8304569999999991,1.8305889999999994,1.8305929999999997,1.8305089999999997,1.8305049999999994,1.8305679999999995,1.8305429999999994,1.8305879999999994,1.8307089999999995,1.8306469999999997,1.8305139999999998,1.8302969999999994,1.8300699999999996,1.8297429999999995,1.8294529999999996,1.8292189999999995,1.8289689999999994,1.8286919999999995,1.8284459999999996,1.8283339999999995,1.8283339999999995,1.8283369999999999,1.8283559999999999,1.8285360000000002,1.8287560000000003,1.8288990000000003,1.8290850000000003,1.829304,1.8294480000000004,1.8296400000000002,1.8297560000000002,1.829907,1.830133,1.8301839999999998,1.8301669999999999,1.8302059999999998,1.830239,1.8302450000000001,1.830314,1.830341,1.830371,1.8303359999999997,1.8302509999999999,1.830265,1.8302710000000002,1.8302870000000002,1.8302390000000002,1.8302450000000001,1.8303630000000002,1.8304680000000002,1.8306140000000002,1.83088,1.8311540000000002,1.8314949999999999,1.831909,1.832329,1.8326649999999998,1.833052,1.8333739999999998,1.8338279999999998,1.8341459999999998,1.834298,1.834468,1.8345870000000002,1.8346050000000003,1.834513,1.8345660000000001,1.834546,1.8344739999999997,1.83432,1.8343429999999998,1.8346189999999996,1.8349269999999998,1.8352829999999998,1.8356979999999996,1.8360869999999996,1.8365559999999994,1.8369299999999995,1.8373409999999997,1.8377669999999995,1.8381309999999995,1.8382299999999998,1.8380529999999997,1.8376849999999998,1.8372319999999998,1.836899,1.8364660000000002,1.8361640000000001,1.835933,1.835585,1.835259,1.8349619999999998,1.8349199999999999,1.8349690000000003,1.8350899999999999,1.835162,1.835244,1.835264,1.8351790000000001,1.8350880000000003,1.8349450000000005,1.8348310000000005,1.8346700000000005,1.8345280000000002,1.8343930000000004,1.8343220000000002,1.83426,1.8341630000000002,1.834024,1.833979,1.833896,1.833841,1.8338560000000002,1.8338880000000004,1.8339130000000003,1.8339230000000004,1.8338890000000003,1.833911,1.8339910000000004,1.8339850000000002,1.8340760000000003,1.8341510000000003,1.8340770000000002,1.834027,1.8339590000000001,1.8338450000000002,1.8338560000000004,1.8338860000000008,1.8339690000000008,1.8340810000000007,1.8341400000000008,1.8342270000000007,1.8344740000000006,1.8346660000000008,1.8349060000000008,1.8350950000000008,1.8351790000000008,1.835283000000001,1.8353120000000012,1.835417000000001,1.835457000000001,1.835457000000001,1.835348000000001,1.8352350000000013,1.8351340000000012,1.8350460000000013,1.8350160000000009,1.8350000000000009,1.835048000000001,1.835056000000001,1.835125000000001,1.8352370000000011,1.835462000000001,1.8357680000000012,1.8361290000000015,1.8364590000000014,1.8367450000000016,1.8370770000000014,1.8373750000000015,1.8376910000000017,1.8379910000000017,1.8382540000000016,1.8384060000000015,1.8384130000000014,1.838352000000001,1.8384710000000013,1.8385960000000012,1.8386860000000014,1.8387710000000013,1.8388820000000012,1.8390280000000012,1.8391300000000013,1.8392510000000013,1.8393470000000012,1.839451000000001,1.8395990000000009,1.8397300000000008,1.8396280000000007,1.8396480000000008,1.8396820000000005,1.8397470000000005,1.8398810000000005,1.8399980000000002,1.8403190000000003,1.8406580000000001,1.8408890000000002,1.8411790000000003,1.8415040000000005,1.8417780000000004,1.8419900000000005,1.8421420000000004,1.8423170000000006,1.8424500000000006,1.8425330000000006,1.8425890000000003,1.8426300000000002,1.8426760000000002,1.8428609999999999,1.842953,1.8430589999999998,1.8430900000000001,1.843095,1.843182,1.843106,1.8430060000000001,1.8428240000000002,1.8426960000000001,1.8424380000000002,1.8423550000000002,1.842216,1.84217,1.842132,1.842015,1.8420480000000001,1.8421120000000002,1.842189,1.8421910000000001,1.8423189999999998,1.842305,1.8423830000000003,1.8424760000000002,1.8425830000000005,1.8427020000000005,1.8428010000000004,1.8428600000000004,1.8429020000000005,1.8429140000000008,1.8428360000000008,1.8427450000000007,1.8425770000000008,1.8423610000000008,1.8421100000000006,1.8419100000000008,1.841709000000001,1.841603000000001,1.8414750000000009,1.8413840000000008,1.8413680000000006,1.8413680000000006,1.8414360000000005,1.8414730000000006,1.8414770000000005,1.8414500000000005,1.8412650000000004,1.8409680000000002,1.840784,1.840587,1.840446,1.84036,1.84053,1.840739,1.841093,1.8414190000000001,1.8418550000000002,1.8424070000000003,1.8431780000000006,1.843887000000001,1.8446200000000013,1.845254000000001,1.8455880000000011,1.8459510000000012,1.8461520000000013,1.8464550000000017,1.8468420000000016,1.8470870000000015,1.8471120000000014,1.8472070000000014,1.8470140000000015,1.8466700000000018,1.8463510000000016,1.8457780000000017,1.8455480000000015,1.8451960000000014,1.8448040000000012,1.844331000000001,1.8436050000000013,1.8430310000000012,1.8426770000000012,1.8425930000000013,1.8423670000000012,1.8422980000000009,1.8419540000000008,1.841614000000001,1.8413450000000011,1.8411480000000011,1.8412520000000012,1.8412250000000014,1.8412610000000016,1.8411860000000015,1.8411530000000014,1.8412020000000013,1.8412470000000014,1.8413190000000015,1.8414720000000013,1.8417870000000014,1.8421700000000016,1.8425660000000015,1.8429070000000014,1.843176000000001,1.8434440000000012,1.8436200000000014,1.8437840000000016,1.8440760000000016,1.8441070000000015,1.8441540000000014,1.8440650000000012,1.843893000000001,1.843740000000001,1.8436700000000013,1.8436920000000012,1.8437800000000013,1.8438970000000012,1.8440100000000013,1.844209000000001,1.844351000000001,1.8444730000000011,1.844624000000001,1.8447380000000009,1.8447950000000009,1.844824000000001,1.844866000000001,1.844906000000001,1.844866000000001,1.8448240000000014,1.8447590000000011,1.8447220000000013,1.844567000000001,1.8445050000000012,1.8445010000000015,1.8445440000000015,1.8446060000000017,1.844627000000002,1.8445990000000019,1.8447050000000018,1.8448570000000017,1.844991000000002,1.845263000000002,1.8454100000000018,1.8456230000000016,1.8456940000000013,1.8455670000000013,1.845393000000001,1.845347000000001,1.8452010000000012,1.8447940000000014,1.8444380000000014,1.8439690000000013,1.8434260000000013,1.8428260000000012,1.8422450000000012,1.8418370000000013,1.8415030000000017,1.8412930000000014,1.841103000000001,1.841058000000001,1.840951000000001,1.840928000000001,1.841047000000001,1.8411170000000012,1.8411890000000013,1.841281000000001,1.841367000000001,1.841168000000001,1.8410020000000014,1.8410640000000016,1.8409980000000015,1.8409420000000014,1.8408660000000014,1.8408590000000014,1.8408610000000014,1.8409730000000013,1.8411480000000011,1.8414390000000012,1.8418410000000012,1.8420340000000013,1.8423610000000015,1.8425310000000015,1.8426830000000014,1.8428830000000012,1.8431280000000012,1.8432090000000012,1.8432690000000016,1.8433540000000015,1.8433250000000012,1.843303000000001,1.843226000000001,1.8432570000000008,1.8433700000000008,1.8433130000000009,1.8432800000000011,1.843297000000001,1.8432420000000012,1.843151000000001,1.8429710000000008,1.8427520000000008,1.8425370000000008,1.8422480000000008,1.8420390000000009,1.841943000000001,1.8418530000000009,1.8418220000000005,1.8418130000000006,1.8417720000000002,1.8417840000000005,1.8418930000000002,1.8420620000000003,1.8423140000000005,1.8424480000000003,1.8426170000000002,1.8428140000000002,1.8429040000000003,1.8430410000000006,1.8431080000000004,1.8431890000000002,1.8433360000000003,1.8434840000000006,1.8437050000000006,1.8438830000000006,1.8440400000000008,1.8441390000000009,1.844258000000001,1.8443400000000008,1.8444990000000008,1.8446500000000008,1.8446740000000008,1.8446840000000009,1.8446380000000009,1.8446010000000008,1.8445180000000008,1.8444080000000007,1.8443140000000007,1.8442440000000009,1.844118000000001,1.843960000000001,1.8438460000000005,1.8437180000000004,1.8437650000000005,1.8437900000000007,1.8438770000000004,1.8441340000000008,1.8443250000000007,1.8444210000000005,1.8444860000000005,1.8447290000000003,1.8448860000000002,1.8452540000000002,1.8454420000000002,1.8455440000000003,1.8454290000000004,1.845109,1.8446740000000001,1.8442780000000003,1.8440180000000002,1.8436650000000003,1.8433290000000002,1.8427490000000006]},{\"line\":{\"color\":\"blue\"},\"mode\":\"lines\",\"name\":\"bb_upper\",\"type\":\"scatter\",\"x\":[\"2021-06-18T05:00:00\",\"2021-06-18T05:15:00\",\"2021-06-18T05:30:00\",\"2021-06-18T05:45:00\",\"2021-06-18T06:00:00\",\"2021-06-18T06:15:00\",\"2021-06-18T06:30:00\",\"2021-06-18T06:45:00\",\"2021-06-18T07:00:00\",\"2021-06-18T07:15:00\",\"2021-06-18T07:30:00\",\"2021-06-18T07:45:00\",\"2021-06-18T08:00:00\",\"2021-06-18T08:15:00\",\"2021-06-18T08:30:00\",\"2021-06-18T08:45:00\",\"2021-06-18T09:00:00\",\"2021-06-18T09:15:00\",\"2021-06-18T09:30:00\",\"2021-06-18T09:45:00\",\"2021-06-18T10:00:00\",\"2021-06-18T10:15:00\",\"2021-06-18T10:30:00\",\"2021-06-18T10:45:00\",\"2021-06-18T11:00:00\",\"2021-06-18T11:15:00\",\"2021-06-18T11:30:00\",\"2021-06-18T11:45:00\",\"2021-06-18T12:00:00\",\"2021-06-18T12:15:00\",\"2021-06-18T12:30:00\",\"2021-06-18T12:45:00\",\"2021-06-18T13:00:00\",\"2021-06-18T13:15:00\",\"2021-06-18T13:30:00\",\"2021-06-18T13:45:00\",\"2021-06-18T14:00:00\",\"2021-06-18T14:15:00\",\"2021-06-18T14:30:00\",\"2021-06-18T14:45:00\",\"2021-06-18T15:00:00\",\"2021-06-18T15:15:00\",\"2021-06-18T15:30:00\",\"2021-06-18T15:45:00\",\"2021-06-18T16:00:00\",\"2021-06-18T16:15:00\",\"2021-06-18T16:30:00\",\"2021-06-18T16:45:00\",\"2021-06-18T17:00:00\",\"2021-06-18T17:15:00\",\"2021-06-18T17:30:00\",\"2021-06-18T17:45:00\",\"2021-06-18T18:00:00\",\"2021-06-18T18:15:00\",\"2021-06-18T18:30:00\",\"2021-06-18T18:45:00\",\"2021-06-18T19:00:00\",\"2021-06-18T19:15:00\",\"2021-06-18T19:30:00\",\"2021-06-18T19:45:00\",\"2021-06-18T20:00:00\",\"2021-06-18T20:15:00\",\"2021-06-18T20:30:00\",\"2021-06-18T20:45:00\",\"2021-06-18T21:00:00\",\"2021-06-18T21:15:00\",\"2021-06-18T21:30:00\",\"2021-06-18T21:45:00\",\"2021-06-21T00:00:00\",\"2021-06-21T00:15:00\",\"2021-06-21T00:30:00\",\"2021-06-21T00:45:00\",\"2021-06-21T01:00:00\",\"2021-06-21T01:15:00\",\"2021-06-21T01:30:00\",\"2021-06-21T01:45:00\",\"2021-06-21T02:00:00\",\"2021-06-21T02:15:00\",\"2021-06-21T02:30:00\",\"2021-06-21T02:45:00\",\"2021-06-21T03:00:00\",\"2021-06-21T03:15:00\",\"2021-06-21T03:30:00\",\"2021-06-21T03:45:00\",\"2021-06-21T04:00:00\",\"2021-06-21T04:15:00\",\"2021-06-21T04:30:00\",\"2021-06-21T04:45:00\",\"2021-06-21T05:00:00\",\"2021-06-21T05:15:00\",\"2021-06-21T05:30:00\",\"2021-06-21T05:45:00\",\"2021-06-21T06:00:00\",\"2021-06-21T06:15:00\",\"2021-06-21T06:30:00\",\"2021-06-21T06:45:00\",\"2021-06-21T07:00:00\",\"2021-06-21T07:15:00\",\"2021-06-21T07:30:00\",\"2021-06-21T07:45:00\",\"2021-06-21T08:00:00\",\"2021-06-21T08:15:00\",\"2021-06-21T08:30:00\",\"2021-06-21T08:45:00\",\"2021-06-21T09:00:00\",\"2021-06-21T09:15:00\",\"2021-06-21T09:30:00\",\"2021-06-21T09:45:00\",\"2021-06-21T10:00:00\",\"2021-06-21T10:15:00\",\"2021-06-21T10:30:00\",\"2021-06-21T10:45:00\",\"2021-06-21T11:00:00\",\"2021-06-21T11:15:00\",\"2021-06-21T11:30:00\",\"2021-06-21T11:45:00\",\"2021-06-21T12:00:00\",\"2021-06-21T12:15:00\",\"2021-06-21T12:30:00\",\"2021-06-21T12:45:00\",\"2021-06-21T13:00:00\",\"2021-06-21T13:15:00\",\"2021-06-21T13:30:00\",\"2021-06-21T13:45:00\",\"2021-06-21T14:00:00\",\"2021-06-21T14:15:00\",\"2021-06-21T14:30:00\",\"2021-06-21T14:45:00\",\"2021-06-21T15:00:00\",\"2021-06-21T15:15:00\",\"2021-06-21T15:30:00\",\"2021-06-21T15:45:00\",\"2021-06-21T16:00:00\",\"2021-06-21T16:15:00\",\"2021-06-21T16:30:00\",\"2021-06-21T16:45:00\",\"2021-06-21T17:00:00\",\"2021-06-21T17:15:00\",\"2021-06-21T17:30:00\",\"2021-06-21T17:45:00\",\"2021-06-21T18:00:00\",\"2021-06-21T18:15:00\",\"2021-06-21T18:30:00\",\"2021-06-21T18:45:00\",\"2021-06-21T19:00:00\",\"2021-06-21T19:15:00\",\"2021-06-21T19:30:00\",\"2021-06-21T19:45:00\",\"2021-06-21T20:00:00\",\"2021-06-21T20:15:00\",\"2021-06-21T20:30:00\",\"2021-06-21T20:45:00\",\"2021-06-21T21:00:00\",\"2021-06-21T21:15:00\",\"2021-06-21T21:30:00\",\"2021-06-21T21:45:00\",\"2021-06-21T22:00:00\",\"2021-06-21T22:15:00\",\"2021-06-21T22:30:00\",\"2021-06-21T22:45:00\",\"2021-06-21T23:00:00\",\"2021-06-21T23:15:00\",\"2021-06-21T23:30:00\",\"2021-06-21T23:45:00\",\"2021-06-22T00:00:00\",\"2021-06-22T00:15:00\",\"2021-06-22T00:30:00\",\"2021-06-22T00:45:00\",\"2021-06-22T01:00:00\",\"2021-06-22T01:15:00\",\"2021-06-22T01:30:00\",\"2021-06-22T01:45:00\",\"2021-06-22T02:00:00\",\"2021-06-22T02:15:00\",\"2021-06-22T02:30:00\",\"2021-06-22T02:45:00\",\"2021-06-22T03:00:00\",\"2021-06-22T03:15:00\",\"2021-06-22T03:30:00\",\"2021-06-22T03:45:00\",\"2021-06-22T04:00:00\",\"2021-06-22T04:15:00\",\"2021-06-22T04:30:00\",\"2021-06-22T04:45:00\",\"2021-06-22T05:00:00\",\"2021-06-22T05:15:00\",\"2021-06-22T05:30:00\",\"2021-06-22T05:45:00\",\"2021-06-22T06:00:00\",\"2021-06-22T06:15:00\",\"2021-06-22T06:30:00\",\"2021-06-22T06:45:00\",\"2021-06-22T07:00:00\",\"2021-06-22T07:15:00\",\"2021-06-22T07:30:00\",\"2021-06-22T07:45:00\",\"2021-06-22T08:00:00\",\"2021-06-22T08:15:00\",\"2021-06-22T08:30:00\",\"2021-06-22T08:45:00\",\"2021-06-22T09:00:00\",\"2021-06-22T09:15:00\",\"2021-06-22T09:30:00\",\"2021-06-22T09:45:00\",\"2021-06-22T10:00:00\",\"2021-06-22T10:15:00\",\"2021-06-22T10:30:00\",\"2021-06-22T10:45:00\",\"2021-06-22T11:00:00\",\"2021-06-22T11:15:00\",\"2021-06-22T11:30:00\",\"2021-06-22T11:45:00\",\"2021-06-22T12:00:00\",\"2021-06-22T12:15:00\",\"2021-06-22T12:30:00\",\"2021-06-22T12:45:00\",\"2021-06-22T13:00:00\",\"2021-06-22T13:15:00\",\"2021-06-22T13:30:00\",\"2021-06-22T13:45:00\",\"2021-06-22T14:00:00\",\"2021-06-22T14:15:00\",\"2021-06-22T14:30:00\",\"2021-06-22T14:45:00\",\"2021-06-22T15:00:00\",\"2021-06-22T15:15:00\",\"2021-06-22T15:30:00\",\"2021-06-22T15:45:00\",\"2021-06-22T16:00:00\",\"2021-06-22T16:15:00\",\"2021-06-22T16:30:00\",\"2021-06-22T16:45:00\",\"2021-06-22T17:00:00\",\"2021-06-22T17:15:00\",\"2021-06-22T17:30:00\",\"2021-06-22T17:45:00\",\"2021-06-22T18:00:00\",\"2021-06-22T18:15:00\",\"2021-06-22T18:30:00\",\"2021-06-22T18:45:00\",\"2021-06-22T19:00:00\",\"2021-06-22T19:15:00\",\"2021-06-22T19:30:00\",\"2021-06-22T19:45:00\",\"2021-06-22T20:00:00\",\"2021-06-22T20:15:00\",\"2021-06-22T20:30:00\",\"2021-06-22T20:45:00\",\"2021-06-22T21:00:00\",\"2021-06-22T21:15:00\",\"2021-06-22T21:30:00\",\"2021-06-22T21:45:00\",\"2021-06-22T22:00:00\",\"2021-06-22T22:15:00\",\"2021-06-22T22:30:00\",\"2021-06-22T22:45:00\",\"2021-06-22T23:00:00\",\"2021-06-22T23:15:00\",\"2021-06-22T23:30:00\",\"2021-06-22T23:45:00\",\"2021-06-23T00:00:00\",\"2021-06-23T00:15:00\",\"2021-06-23T00:30:00\",\"2021-06-23T00:45:00\",\"2021-06-23T01:00:00\",\"2021-06-23T01:15:00\",\"2021-06-23T01:30:00\",\"2021-06-23T01:45:00\",\"2021-06-23T02:00:00\",\"2021-06-23T02:15:00\",\"2021-06-23T02:30:00\",\"2021-06-23T02:45:00\",\"2021-06-23T03:00:00\",\"2021-06-23T03:15:00\",\"2021-06-23T03:30:00\",\"2021-06-23T03:45:00\",\"2021-06-23T04:00:00\",\"2021-06-23T04:15:00\",\"2021-06-23T04:30:00\",\"2021-06-23T04:45:00\",\"2021-06-23T05:00:00\",\"2021-06-23T05:15:00\",\"2021-06-23T05:30:00\",\"2021-06-23T05:45:00\",\"2021-06-23T06:00:00\",\"2021-06-23T06:15:00\",\"2021-06-23T06:30:00\",\"2021-06-23T06:45:00\",\"2021-06-23T07:00:00\",\"2021-06-23T07:15:00\",\"2021-06-23T07:30:00\",\"2021-06-23T07:45:00\",\"2021-06-23T08:00:00\",\"2021-06-23T08:15:00\",\"2021-06-23T08:30:00\",\"2021-06-23T08:45:00\",\"2021-06-23T09:00:00\",\"2021-06-23T09:15:00\",\"2021-06-23T09:30:00\",\"2021-06-23T09:45:00\",\"2021-06-23T10:00:00\",\"2021-06-23T10:15:00\",\"2021-06-23T10:30:00\",\"2021-06-23T10:45:00\",\"2021-06-23T11:00:00\",\"2021-06-23T11:15:00\",\"2021-06-23T11:30:00\",\"2021-06-23T11:45:00\",\"2021-06-23T12:00:00\",\"2021-06-23T12:15:00\",\"2021-06-23T12:30:00\",\"2021-06-23T12:45:00\",\"2021-06-23T13:00:00\",\"2021-06-23T13:15:00\",\"2021-06-23T13:30:00\",\"2021-06-23T13:45:00\",\"2021-06-23T14:00:00\",\"2021-06-23T14:15:00\",\"2021-06-23T14:30:00\",\"2021-06-23T14:45:00\",\"2021-06-23T15:00:00\",\"2021-06-23T15:15:00\",\"2021-06-23T15:30:00\",\"2021-06-23T15:45:00\",\"2021-06-23T16:00:00\",\"2021-06-23T16:15:00\",\"2021-06-23T16:30:00\",\"2021-06-23T16:45:00\",\"2021-06-23T17:00:00\",\"2021-06-23T17:15:00\",\"2021-06-23T17:30:00\",\"2021-06-23T17:45:00\",\"2021-06-23T18:00:00\",\"2021-06-23T18:15:00\",\"2021-06-23T18:30:00\",\"2021-06-23T18:45:00\",\"2021-06-23T19:00:00\",\"2021-06-23T19:15:00\",\"2021-06-23T19:30:00\",\"2021-06-23T19:45:00\",\"2021-06-23T20:00:00\",\"2021-06-23T20:15:00\",\"2021-06-23T20:30:00\",\"2021-06-23T20:45:00\",\"2021-06-23T21:00:00\",\"2021-06-23T21:15:00\",\"2021-06-23T21:30:00\",\"2021-06-23T21:45:00\",\"2021-06-23T22:00:00\",\"2021-06-23T22:15:00\",\"2021-06-23T22:30:00\",\"2021-06-23T22:45:00\",\"2021-06-23T23:00:00\",\"2021-06-23T23:15:00\",\"2021-06-23T23:30:00\",\"2021-06-23T23:45:00\",\"2021-06-24T00:00:00\",\"2021-06-24T00:15:00\",\"2021-06-24T00:30:00\",\"2021-06-24T00:45:00\",\"2021-06-24T01:00:00\",\"2021-06-24T01:15:00\",\"2021-06-24T01:30:00\",\"2021-06-24T01:45:00\",\"2021-06-24T02:00:00\",\"2021-06-24T02:15:00\",\"2021-06-24T02:30:00\",\"2021-06-24T02:45:00\",\"2021-06-24T03:00:00\",\"2021-06-24T03:15:00\",\"2021-06-24T03:30:00\",\"2021-06-24T03:45:00\",\"2021-06-24T04:00:00\",\"2021-06-24T04:15:00\",\"2021-06-24T04:30:00\",\"2021-06-24T04:45:00\",\"2021-06-24T05:00:00\",\"2021-06-24T05:15:00\",\"2021-06-24T05:30:00\",\"2021-06-24T05:45:00\",\"2021-06-24T06:00:00\",\"2021-06-24T06:15:00\",\"2021-06-24T06:30:00\",\"2021-06-24T06:45:00\",\"2021-06-24T07:00:00\",\"2021-06-24T07:15:00\",\"2021-06-24T07:30:00\",\"2021-06-24T07:45:00\",\"2021-06-24T08:00:00\",\"2021-06-24T08:15:00\",\"2021-06-24T08:30:00\",\"2021-06-24T08:45:00\",\"2021-06-24T09:00:00\",\"2021-06-24T09:15:00\",\"2021-06-24T09:30:00\",\"2021-06-24T09:45:00\",\"2021-06-24T10:00:00\",\"2021-06-24T10:15:00\",\"2021-06-24T10:30:00\",\"2021-06-24T10:45:00\",\"2021-06-24T11:00:00\",\"2021-06-24T11:15:00\",\"2021-06-24T11:30:00\",\"2021-06-24T11:45:00\",\"2021-06-24T12:00:00\",\"2021-06-24T12:15:00\",\"2021-06-24T12:30:00\",\"2021-06-24T12:45:00\",\"2021-06-24T13:00:00\",\"2021-06-24T13:15:00\",\"2021-06-24T13:30:00\",\"2021-06-24T13:45:00\",\"2021-06-24T14:00:00\",\"2021-06-24T14:15:00\",\"2021-06-24T14:30:00\",\"2021-06-24T14:45:00\",\"2021-06-24T15:00:00\",\"2021-06-24T15:15:00\",\"2021-06-24T15:30:00\",\"2021-06-24T15:45:00\",\"2021-06-24T16:00:00\",\"2021-06-24T16:15:00\",\"2021-06-24T16:30:00\",\"2021-06-24T16:45:00\",\"2021-06-24T17:00:00\",\"2021-06-24T17:15:00\",\"2021-06-24T17:30:00\",\"2021-06-24T17:45:00\",\"2021-06-24T18:00:00\",\"2021-06-24T18:15:00\",\"2021-06-24T18:30:00\",\"2021-06-24T18:45:00\",\"2021-06-24T19:00:00\",\"2021-06-24T19:15:00\",\"2021-06-24T19:30:00\",\"2021-06-24T19:45:00\",\"2021-06-24T20:00:00\",\"2021-06-24T20:15:00\",\"2021-06-24T20:30:00\",\"2021-06-24T20:45:00\",\"2021-06-24T21:00:00\",\"2021-06-24T21:15:00\",\"2021-06-24T21:30:00\",\"2021-06-24T21:45:00\",\"2021-06-24T22:00:00\",\"2021-06-24T22:15:00\",\"2021-06-24T22:30:00\",\"2021-06-24T22:45:00\",\"2021-06-24T23:00:00\",\"2021-06-24T23:15:00\",\"2021-06-24T23:30:00\",\"2021-06-24T23:45:00\",\"2021-06-25T00:00:00\",\"2021-06-25T00:15:00\",\"2021-06-25T00:30:00\",\"2021-06-25T00:45:00\",\"2021-06-25T01:00:00\",\"2021-06-25T01:15:00\",\"2021-06-25T01:30:00\",\"2021-06-25T01:45:00\",\"2021-06-25T02:00:00\",\"2021-06-25T02:15:00\",\"2021-06-25T02:30:00\",\"2021-06-25T02:45:00\",\"2021-06-25T03:00:00\",\"2021-06-25T03:15:00\",\"2021-06-25T03:30:00\",\"2021-06-25T03:45:00\",\"2021-06-25T04:00:00\",\"2021-06-25T04:15:00\",\"2021-06-25T04:30:00\",\"2021-06-25T04:45:00\",\"2021-06-25T05:00:00\",\"2021-06-25T05:15:00\",\"2021-06-25T05:30:00\",\"2021-06-25T05:45:00\",\"2021-06-25T06:00:00\",\"2021-06-25T06:15:00\",\"2021-06-25T06:30:00\",\"2021-06-25T06:45:00\",\"2021-06-25T07:00:00\",\"2021-06-25T07:15:00\",\"2021-06-25T07:30:00\",\"2021-06-25T07:45:00\",\"2021-06-25T08:00:00\",\"2021-06-25T08:15:00\",\"2021-06-25T08:30:00\",\"2021-06-25T08:45:00\",\"2021-06-25T09:00:00\",\"2021-06-25T09:15:00\",\"2021-06-25T09:30:00\",\"2021-06-25T09:45:00\",\"2021-06-25T10:00:00\",\"2021-06-25T10:15:00\",\"2021-06-25T10:30:00\",\"2021-06-25T10:45:00\",\"2021-06-25T11:00:00\",\"2021-06-25T11:15:00\",\"2021-06-25T11:30:00\",\"2021-06-25T11:45:00\",\"2021-06-25T12:00:00\",\"2021-06-25T12:15:00\",\"2021-06-25T12:30:00\",\"2021-06-25T12:45:00\",\"2021-06-25T13:00:00\",\"2021-06-25T13:15:00\",\"2021-06-25T13:30:00\",\"2021-06-25T13:45:00\",\"2021-06-25T14:00:00\",\"2021-06-25T14:15:00\",\"2021-06-25T14:30:00\",\"2021-06-25T14:45:00\",\"2021-06-25T15:00:00\",\"2021-06-25T15:15:00\",\"2021-06-25T15:30:00\",\"2021-06-25T15:45:00\",\"2021-06-25T16:00:00\",\"2021-06-25T16:15:00\",\"2021-06-25T16:30:00\",\"2021-06-25T16:45:00\",\"2021-06-25T17:00:00\",\"2021-06-25T17:15:00\",\"2021-06-25T17:30:00\",\"2021-06-25T17:45:00\",\"2021-06-25T18:00:00\",\"2021-06-25T18:15:00\",\"2021-06-25T18:30:00\",\"2021-06-25T18:45:00\",\"2021-06-25T19:00:00\",\"2021-06-25T19:15:00\",\"2021-06-25T19:30:00\",\"2021-06-25T19:45:00\",\"2021-06-25T20:00:00\",\"2021-06-25T20:15:00\",\"2021-06-25T20:30:00\",\"2021-06-25T20:45:00\",\"2021-06-25T21:00:00\",\"2021-06-25T21:15:00\",\"2021-06-25T21:30:00\",\"2021-06-25T21:45:00\",\"2021-06-28T00:00:00\",\"2021-06-28T00:15:00\",\"2021-06-28T00:30:00\",\"2021-06-28T00:45:00\",\"2021-06-28T01:00:00\",\"2021-06-28T01:15:00\",\"2021-06-28T01:30:00\",\"2021-06-28T01:45:00\",\"2021-06-28T02:00:00\",\"2021-06-28T02:15:00\",\"2021-06-28T02:30:00\",\"2021-06-28T02:45:00\",\"2021-06-28T03:00:00\",\"2021-06-28T03:15:00\",\"2021-06-28T03:30:00\",\"2021-06-28T03:45:00\",\"2021-06-28T04:00:00\",\"2021-06-28T04:15:00\",\"2021-06-28T04:30:00\",\"2021-06-28T04:45:00\",\"2021-06-28T05:00:00\",\"2021-06-28T05:15:00\",\"2021-06-28T05:30:00\",\"2021-06-28T05:45:00\",\"2021-06-28T06:00:00\",\"2021-06-28T06:15:00\",\"2021-06-28T06:30:00\",\"2021-06-28T06:45:00\",\"2021-06-28T07:00:00\",\"2021-06-28T07:15:00\",\"2021-06-28T07:30:00\",\"2021-06-28T07:45:00\",\"2021-06-28T08:00:00\",\"2021-06-28T08:15:00\",\"2021-06-28T08:30:00\",\"2021-06-28T08:45:00\",\"2021-06-28T09:00:00\",\"2021-06-28T09:15:00\",\"2021-06-28T09:30:00\",\"2021-06-28T09:45:00\",\"2021-06-28T10:00:00\",\"2021-06-28T10:15:00\",\"2021-06-28T10:30:00\",\"2021-06-28T10:45:00\",\"2021-06-28T11:00:00\",\"2021-06-28T11:15:00\",\"2021-06-28T11:30:00\",\"2021-06-28T11:45:00\",\"2021-06-28T12:00:00\",\"2021-06-28T12:15:00\",\"2021-06-28T12:30:00\",\"2021-06-28T12:45:00\",\"2021-06-28T13:00:00\",\"2021-06-28T13:15:00\",\"2021-06-28T13:30:00\",\"2021-06-28T13:45:00\",\"2021-06-28T14:00:00\",\"2021-06-28T14:15:00\",\"2021-06-28T14:30:00\",\"2021-06-28T14:45:00\",\"2021-06-28T15:00:00\",\"2021-06-28T15:15:00\",\"2021-06-28T15:30:00\",\"2021-06-28T15:45:00\",\"2021-06-28T16:00:00\",\"2021-06-28T16:15:00\",\"2021-06-28T16:30:00\",\"2021-06-28T16:45:00\",\"2021-06-28T17:00:00\",\"2021-06-28T17:15:00\",\"2021-06-28T17:30:00\",\"2021-06-28T17:45:00\",\"2021-06-28T18:00:00\",\"2021-06-28T18:15:00\",\"2021-06-28T18:30:00\",\"2021-06-28T18:45:00\",\"2021-06-28T19:00:00\",\"2021-06-28T19:15:00\",\"2021-06-28T19:30:00\",\"2021-06-28T19:45:00\",\"2021-06-28T20:00:00\",\"2021-06-28T20:15:00\",\"2021-06-28T20:30:00\",\"2021-06-28T20:45:00\",\"2021-06-28T21:00:00\",\"2021-06-28T21:15:00\",\"2021-06-28T21:30:00\",\"2021-06-28T21:45:00\",\"2021-06-28T22:00:00\",\"2021-06-28T22:15:00\",\"2021-06-28T22:30:00\",\"2021-06-28T22:45:00\",\"2021-06-28T23:00:00\",\"2021-06-28T23:15:00\",\"2021-06-28T23:30:00\",\"2021-06-28T23:45:00\",\"2021-06-29T00:00:00\",\"2021-06-29T00:15:00\",\"2021-06-29T00:30:00\",\"2021-06-29T00:45:00\",\"2021-06-29T01:00:00\",\"2021-06-29T01:15:00\",\"2021-06-29T01:30:00\",\"2021-06-29T01:45:00\",\"2021-06-29T02:00:00\",\"2021-06-29T02:15:00\",\"2021-06-29T02:30:00\",\"2021-06-29T02:45:00\",\"2021-06-29T03:00:00\",\"2021-06-29T03:15:00\",\"2021-06-29T03:30:00\",\"2021-06-29T03:45:00\",\"2021-06-29T04:00:00\",\"2021-06-29T04:15:00\",\"2021-06-29T04:30:00\",\"2021-06-29T04:45:00\",\"2021-06-29T05:00:00\",\"2021-06-29T05:15:00\",\"2021-06-29T05:30:00\",\"2021-06-29T05:45:00\",\"2021-06-29T06:00:00\",\"2021-06-29T06:15:00\",\"2021-06-29T06:30:00\",\"2021-06-29T06:45:00\",\"2021-06-29T07:00:00\",\"2021-06-29T07:15:00\",\"2021-06-29T07:30:00\",\"2021-06-29T07:45:00\",\"2021-06-29T08:00:00\",\"2021-06-29T08:15:00\",\"2021-06-29T08:30:00\",\"2021-06-29T08:45:00\",\"2021-06-29T09:00:00\",\"2021-06-29T09:15:00\",\"2021-06-29T09:30:00\",\"2021-06-29T09:45:00\",\"2021-06-29T10:00:00\",\"2021-06-29T10:15:00\",\"2021-06-29T10:30:00\",\"2021-06-29T10:45:00\",\"2021-06-29T11:00:00\",\"2021-06-29T11:15:00\",\"2021-06-29T11:30:00\",\"2021-06-29T11:45:00\",\"2021-06-29T12:00:00\",\"2021-06-29T12:15:00\",\"2021-06-29T12:30:00\",\"2021-06-29T12:45:00\",\"2021-06-29T13:00:00\",\"2021-06-29T13:15:00\",\"2021-06-29T13:30:00\",\"2021-06-29T13:45:00\",\"2021-06-29T14:00:00\",\"2021-06-29T14:15:00\",\"2021-06-29T14:30:00\",\"2021-06-29T14:45:00\",\"2021-06-29T15:00:00\",\"2021-06-29T15:15:00\",\"2021-06-29T15:30:00\",\"2021-06-29T15:45:00\",\"2021-06-29T16:00:00\",\"2021-06-29T16:15:00\",\"2021-06-29T16:30:00\",\"2021-06-29T16:45:00\",\"2021-06-29T17:00:00\",\"2021-06-29T17:15:00\",\"2021-06-29T17:30:00\",\"2021-06-29T17:45:00\",\"2021-06-29T18:00:00\",\"2021-06-29T18:15:00\",\"2021-06-29T18:30:00\",\"2021-06-29T18:45:00\",\"2021-06-29T19:00:00\",\"2021-06-29T19:15:00\",\"2021-06-29T19:30:00\",\"2021-06-29T19:45:00\",\"2021-06-29T20:00:00\",\"2021-06-29T20:15:00\",\"2021-06-29T20:30:00\",\"2021-06-29T20:45:00\",\"2021-06-29T21:00:00\",\"2021-06-29T21:15:00\",\"2021-06-29T21:30:00\",\"2021-06-29T21:45:00\",\"2021-06-29T22:00:00\",\"2021-06-29T22:15:00\",\"2021-06-29T22:30:00\",\"2021-06-29T22:45:00\",\"2021-06-29T23:00:00\",\"2021-06-29T23:15:00\",\"2021-06-29T23:30:00\",\"2021-06-29T23:45:00\",\"2021-06-30T00:00:00\",\"2021-06-30T00:15:00\",\"2021-06-30T00:30:00\",\"2021-06-30T00:45:00\",\"2021-06-30T01:00:00\",\"2021-06-30T01:15:00\",\"2021-06-30T01:30:00\",\"2021-06-30T01:45:00\",\"2021-06-30T02:00:00\",\"2021-06-30T02:15:00\",\"2021-06-30T02:30:00\",\"2021-06-30T02:45:00\",\"2021-06-30T03:00:00\",\"2021-06-30T03:15:00\",\"2021-06-30T03:30:00\",\"2021-06-30T03:45:00\",\"2021-06-30T04:00:00\",\"2021-06-30T04:15:00\",\"2021-06-30T04:30:00\",\"2021-06-30T04:45:00\",\"2021-06-30T05:00:00\",\"2021-06-30T05:15:00\",\"2021-06-30T05:30:00\",\"2021-06-30T05:45:00\",\"2021-06-30T06:00:00\",\"2021-06-30T06:15:00\",\"2021-06-30T06:30:00\",\"2021-06-30T06:45:00\",\"2021-06-30T07:00:00\",\"2021-06-30T07:15:00\",\"2021-06-30T07:30:00\",\"2021-06-30T07:45:00\",\"2021-06-30T08:00:00\",\"2021-06-30T08:15:00\",\"2021-06-30T08:30:00\",\"2021-06-30T08:45:00\",\"2021-06-30T09:00:00\",\"2021-06-30T09:15:00\",\"2021-06-30T09:30:00\",\"2021-06-30T09:45:00\",\"2021-06-30T10:00:00\",\"2021-06-30T10:15:00\",\"2021-06-30T10:30:00\",\"2021-06-30T10:45:00\",\"2021-06-30T11:00:00\",\"2021-06-30T11:15:00\",\"2021-06-30T11:30:00\",\"2021-06-30T11:45:00\",\"2021-06-30T12:00:00\",\"2021-06-30T12:15:00\",\"2021-06-30T12:30:00\",\"2021-06-30T12:45:00\",\"2021-06-30T13:00:00\",\"2021-06-30T13:15:00\",\"2021-06-30T13:30:00\",\"2021-06-30T13:45:00\",\"2021-06-30T14:00:00\",\"2021-06-30T14:15:00\",\"2021-06-30T14:30:00\",\"2021-06-30T14:45:00\",\"2021-06-30T15:00:00\",\"2021-06-30T15:15:00\",\"2021-06-30T15:30:00\",\"2021-06-30T15:45:00\",\"2021-06-30T16:00:00\",\"2021-06-30T16:15:00\",\"2021-06-30T16:30:00\",\"2021-06-30T16:45:00\",\"2021-06-30T17:00:00\",\"2021-06-30T17:15:00\",\"2021-06-30T17:30:00\",\"2021-06-30T17:45:00\",\"2021-06-30T18:00:00\",\"2021-06-30T18:15:00\",\"2021-06-30T18:30:00\",\"2021-06-30T18:45:00\",\"2021-06-30T19:00:00\",\"2021-06-30T19:15:00\",\"2021-06-30T19:30:00\",\"2021-06-30T19:45:00\",\"2021-06-30T20:00:00\",\"2021-06-30T20:15:00\",\"2021-06-30T20:30:00\",\"2021-06-30T20:45:00\",\"2021-06-30T21:00:00\",\"2021-06-30T21:15:00\",\"2021-06-30T21:30:00\",\"2021-06-30T21:45:00\",\"2021-06-30T22:00:00\",\"2021-06-30T22:15:00\",\"2021-06-30T22:30:00\",\"2021-06-30T22:45:00\",\"2021-06-30T23:00:00\",\"2021-06-30T23:15:00\",\"2021-06-30T23:30:00\",\"2021-06-30T23:45:00\",\"2021-07-01T00:00:00\",\"2021-07-01T00:15:00\",\"2021-07-01T00:30:00\",\"2021-07-01T00:45:00\",\"2021-07-01T01:00:00\",\"2021-07-01T01:15:00\",\"2021-07-01T01:30:00\",\"2021-07-01T01:45:00\",\"2021-07-01T02:00:00\",\"2021-07-01T02:15:00\",\"2021-07-01T02:30:00\",\"2021-07-01T02:45:00\",\"2021-07-01T03:00:00\",\"2021-07-01T03:15:00\",\"2021-07-01T03:30:00\",\"2021-07-01T03:45:00\",\"2021-07-01T04:00:00\",\"2021-07-01T04:15:00\",\"2021-07-01T04:30:00\",\"2021-07-01T04:45:00\",\"2021-07-01T05:00:00\",\"2021-07-01T05:15:00\",\"2021-07-01T05:30:00\",\"2021-07-01T05:45:00\",\"2021-07-01T06:00:00\",\"2021-07-01T06:15:00\",\"2021-07-01T06:30:00\",\"2021-07-01T06:45:00\",\"2021-07-01T07:00:00\",\"2021-07-01T07:15:00\",\"2021-07-01T07:30:00\",\"2021-07-01T07:45:00\",\"2021-07-01T08:00:00\",\"2021-07-01T08:15:00\",\"2021-07-01T08:30:00\",\"2021-07-01T08:45:00\",\"2021-07-01T09:00:00\",\"2021-07-01T09:15:00\",\"2021-07-01T09:30:00\",\"2021-07-01T09:45:00\",\"2021-07-01T10:00:00\",\"2021-07-01T10:15:00\",\"2021-07-01T10:30:00\",\"2021-07-01T10:45:00\",\"2021-07-01T11:00:00\",\"2021-07-01T11:15:00\",\"2021-07-01T11:30:00\",\"2021-07-01T11:45:00\",\"2021-07-01T12:00:00\",\"2021-07-01T12:15:00\",\"2021-07-01T12:30:00\",\"2021-07-01T12:45:00\",\"2021-07-01T13:00:00\",\"2021-07-01T13:15:00\",\"2021-07-01T13:30:00\",\"2021-07-01T13:45:00\",\"2021-07-01T14:00:00\",\"2021-07-01T14:15:00\",\"2021-07-01T14:30:00\",\"2021-07-01T14:45:00\",\"2021-07-01T15:00:00\",\"2021-07-01T15:15:00\",\"2021-07-01T15:30:00\",\"2021-07-01T15:45:00\",\"2021-07-01T16:00:00\",\"2021-07-01T16:15:00\",\"2021-07-01T16:30:00\",\"2021-07-01T16:45:00\",\"2021-07-01T17:00:00\",\"2021-07-01T17:15:00\",\"2021-07-01T17:30:00\",\"2021-07-01T17:45:00\",\"2021-07-01T18:00:00\",\"2021-07-01T18:15:00\",\"2021-07-01T18:30:00\",\"2021-07-01T18:45:00\",\"2021-07-01T19:00:00\",\"2021-07-01T19:15:00\",\"2021-07-01T19:30:00\",\"2021-07-01T19:45:00\",\"2021-07-01T20:00:00\",\"2021-07-01T20:15:00\",\"2021-07-01T20:30:00\",\"2021-07-01T20:45:00\",\"2021-07-01T21:00:00\",\"2021-07-01T21:15:00\",\"2021-07-01T21:30:00\",\"2021-07-01T21:45:00\",\"2021-07-01T22:00:00\",\"2021-07-01T22:15:00\",\"2021-07-01T22:30:00\",\"2021-07-01T22:45:00\",\"2021-07-01T23:00:00\",\"2021-07-01T23:15:00\",\"2021-07-01T23:30:00\",\"2021-07-01T23:45:00\",\"2021-07-02T00:00:00\",\"2021-07-02T00:15:00\",\"2021-07-02T00:30:00\",\"2021-07-02T00:45:00\",\"2021-07-02T01:00:00\",\"2021-07-02T01:15:00\",\"2021-07-02T01:30:00\",\"2021-07-02T01:45:00\",\"2021-07-02T02:00:00\",\"2021-07-02T02:15:00\",\"2021-07-02T02:30:00\",\"2021-07-02T02:45:00\",\"2021-07-02T03:00:00\",\"2021-07-02T03:15:00\",\"2021-07-02T03:30:00\",\"2021-07-02T03:45:00\",\"2021-07-02T04:00:00\",\"2021-07-02T04:15:00\",\"2021-07-02T04:30:00\",\"2021-07-02T04:45:00\",\"2021-07-02T05:00:00\",\"2021-07-02T05:15:00\",\"2021-07-02T05:30:00\",\"2021-07-02T05:45:00\",\"2021-07-02T06:00:00\",\"2021-07-02T06:15:00\",\"2021-07-02T06:30:00\",\"2021-07-02T06:45:00\",\"2021-07-02T07:00:00\",\"2021-07-02T07:15:00\",\"2021-07-02T07:30:00\",\"2021-07-02T07:45:00\",\"2021-07-02T08:00:00\",\"2021-07-02T08:15:00\",\"2021-07-02T08:30:00\",\"2021-07-02T08:45:00\",\"2021-07-02T09:00:00\",\"2021-07-02T09:15:00\",\"2021-07-02T09:30:00\",\"2021-07-02T09:45:00\",\"2021-07-02T10:00:00\",\"2021-07-02T10:15:00\",\"2021-07-02T10:30:00\",\"2021-07-02T10:45:00\",\"2021-07-02T11:00:00\",\"2021-07-02T11:15:00\",\"2021-07-02T11:30:00\",\"2021-07-02T11:45:00\",\"2021-07-02T12:00:00\"],\"y\":[null,null,null,null,null,null,null,null,null,1.8587632463797141,1.858739702722099,1.85399394040765,1.849890298565544,1.8476283418314976,1.8465351317957537,1.845494546425379,1.8451946201961678,1.844452468166413,1.8447699255411956,1.8450852272990939,1.8451557533170546,1.8447470826527783,1.845847309441687,1.8468977445079462,1.8481343559609942,1.8495607020211056,1.8503494294421512,1.8506973591188414,1.8507505142461091,1.8509785658791664,1.8533167326400115,1.8522379276250036,1.8519920573535953,1.8518903697349407,1.8517879229050236,1.8517803368697685,1.8517913011329317,1.8523010695164286,1.8523288659599606,1.8523245637993089,1.8499079245138947,1.8499509789821393,1.8502865948883847,1.850101816232739,1.8503681071384634,1.8503304575696105,1.8495377372443054,1.849473702501193,1.848899249711849,1.8478030375616814,1.8470296412632916,1.8459910410121065,1.8462778364068333,1.8462009563489135,1.8462047237004027,1.8461256117121312,1.8461259708680626,1.845640812925354,1.8454159730007138,1.845197309922429,1.8443288359106131,1.84566900605743,1.8463763698665143,1.847017031857456,1.8492085074254965,1.8498428692669011,1.8502588871393928,1.8500402179321112,1.8502828221829088,1.8509770830987566,1.851848426906596,1.8528335540995666,1.8528113904208576,1.852534593109643,1.851094629606325,1.8498386892251615,1.8480536313625118,1.847935268065801,1.8491045216012005,1.8494162060096426,1.849324086779784,1.8493076877828258,1.8488289022717266,1.8476471699044044,1.8476471699044044,1.8477068113697037,1.8484567372873693,1.8478895786979097,1.84674578315315,1.8465437098351,1.8463029012539822,1.8459996222344388,1.8458304478655885,1.8461913384853006,1.8462682544912052,1.8462793734827776,1.8471100670702196,1.849275285874753,1.8497507234182808,1.8500728906230282,1.8508590337657667,1.8519277349602894,1.8532635888870366,1.852861590633684,1.8517913879538062,1.8498820329419172,1.8495949468762711,1.8503486806863916,1.8498022464424206,1.8489762786877253,1.8486586464781598,1.8492661941429873,1.8493092520411225,1.8495548611721264,1.849286858304457,1.8488263826656532,1.8492483491195266,1.8492662995620908,1.8493858169310906,1.8494449312256191,1.8497638157665592,1.8500481560084758,1.8506524774867197,1.8513706032984867,1.8515292085039246,1.8516037772238885,1.8515998269071237,1.851458323770487,1.8505781320707564,1.8514055780733432,1.851613834752184,1.8516531801605918,1.8517255019489967,1.8516597289462091,1.8516753555933905,1.8515979392538913,1.8514155901603806,1.8507044819521818,1.85085220215029,1.8500626438384045,1.8497317465441463,1.8498220259583602,1.8495359242798592,1.8494710143144997,1.8491471402758597,1.8491538767153297,1.8493778454023824,1.8493644901385888,1.849352175204539,1.8496274906588515,1.8498093800014712,1.8500031174519564,1.849974011536229,1.8498261055578706,1.850465015523948,1.8507548749228866,1.8504691570485339,1.850421767375695,1.8505287558262102,1.8504284219160982,1.8502817358675303,1.8500001065965914,1.8503337218913125,1.850529626424051,1.8500113052824902,1.8507811431747734,1.8511327090481673,1.852047673110229,1.8521517413742161,1.8522537413742166,1.852257528443381,1.8522257413167902,1.8517901296597519,1.8510215161522936,1.8516357336926872,1.8540122670492678,1.8559004219444777,1.8570190237464115,1.85800197984328,1.858287064174283,1.8576613952804697,1.8565490826890505,1.8560594922752567,1.8556729853953753,1.8557141646074888,1.8561583470901808,1.8557416327143281,1.8552853947204602,1.8541080321589454,1.852699207208879,1.8519124306503207,1.8518191331114298,1.8526357768487844,1.8528386479400418,1.8529133628820111,1.8528607215820458,1.8529956116219701,1.8529701799445342,1.8527666458569334,1.852422756560595,1.8525108458929647,1.8525299551098977,1.8523101051454662,1.8522511231854097,1.8522226949090257,1.8528290749627563,1.852928050971674,1.8527503515286308,1.8526617436480852,1.8525004698148306,1.8528262096463894,1.8528251861507514,1.852229633805804,1.850999423123351,1.8527382274621778,1.8544517604629251,1.8547858689240722,1.8547917960193394,1.8547612938935862,1.854505156959619,1.8546916083103213,1.854357433050537,1.8546108438202464,1.8548616607924706,1.8552424977946789,1.8548789292423025,1.8548832317501416,1.8545367980556067,1.8544683679542098,1.8539786245178407,1.8540474164835248,1.8544269056094784,1.8543592395499027,1.8534676761331075,1.8516654888538187,1.8515353837809454,1.8515661971263628,1.8515091305948648,1.8515595015042219,1.8521250098669064,1.852714522879648,1.8526216694415454,1.8521310935584279,1.8512839388370599,1.8504888873735372,1.8498916742453226,1.8492948109572618,1.8480280836034377,1.8475310846164152,1.847762178384715,1.8477411334005736,1.8479429612214724,1.8479022730595376,1.8479305289211796,1.8479944605134633,1.8484516165208795,1.8487156918120589,1.8487160102144546,1.8490904453046864,1.8491326473365846,1.8491138899339052,1.8488266169234444,1.8488921488376944,1.8488719098435256,1.8488472351474037,1.848782672304036,1.8488670842680694,1.8488083735311458,1.8484206755523338,1.8485642355875673,1.8489435511543335,1.848725904857365,1.8487161988307619,1.8489805014044622,1.8492153042392434,1.849292537922876,1.8494227140246238,1.8492265091035436,1.8492265091035436,1.848907001586074,1.8480742101591456,1.8481270544300366,1.8481197653350023,1.8482436499766637,1.849413518220814,1.8510739629671649,1.8524604148258743,1.8527231092368894,1.8532630042615614,1.8545241129790482,1.8558724615221078,1.8568324862415897,1.8564366020078282,1.8553290091575172,1.8560603092200385,1.857106577325182,1.8575803693572415,1.8584129578861401,1.8586271311369382,1.8587696680794512,1.8574117329335438,1.854579140100171,1.8526975301479238,1.8518611739790207,1.8515944360115921,1.8516133734281501,1.85102649993752,1.850928456171344,1.8502371445325823,1.8501533344134755,1.849550482743935,1.8471481567642585,1.8468195601100692,1.8474364022847187,1.847927314285095,1.8483573274366691,1.8499959070173853,1.8506036949815001,1.8514557245381957,1.8527744292168165,1.853262451522481,1.8534354826596702,1.852801866735425,1.850699063175909,1.847047897961566,1.8456113547896895,1.8459203075797055,1.8460190851028955,1.8463783507873675,1.8468309328536467,1.8476866776644403,1.8474967965489748,1.847058490413232,1.8459849390476115,1.8452813362528626,1.84536974419976,1.8454108936726143,1.8454511091752739,1.8453822074249717,1.8453419421458959,1.8452218594352003,1.845188753227379,1.845174938232155,1.845178865449195,1.8453879000193463,1.8455644548861936,1.8452522646437632,1.8448871960374522,1.8448870753425397,1.8448698380746325,1.844696137831842,1.8448936833529923,1.8450228036766,1.8453036859617793,1.8452924135052775,1.84533523241704,1.8458997767597578,1.8460081932508843,1.846266110461936,1.846218149488887,1.845740990308826,1.845776924663134,1.8459701939843551,1.8463051588952364,1.8462474596479357,1.8461460888115946,1.8457660107675589,1.8453974361852792,1.844376225069363,1.8443758836877993,1.84431984522703,1.844094055991371,1.844219457033412,1.844195928798763,1.8441744227424106,1.844008339036687,1.8440165697970967,1.844141842200221,1.844141842200221,1.8448182844339063,1.8453629820418467,1.8453747789464037,1.8452740795338585,1.8454669660230636,1.8462733833747071,1.8465848305903734,1.8465581635611668,1.846554930039466,1.8464938194438056,1.8466470465835634,1.8473441912479958,1.8479107655254687,1.8484057755387504,1.8487990503723528,1.8486694648860684,1.8478687376837146,1.8473983641302958,1.8469257809096888,1.846987654349855,1.8472277777250312,1.846913904256704,1.8530411463144925,1.8548143349726702,1.8555582995880602,1.8561131051835846,1.857310614872212,1.8573896427635044,1.8559737917998522,1.8532343529951192,1.849490339385738,1.8424063817036445,1.8417126704814886,1.8402164659278757,1.8384155576377879,1.8381765907718748,1.8380107380122566,1.8377846506658315,1.8376761631339267,1.8373680689717697,1.8373932199528775,1.8380242372414237,1.8381499150313687,1.838156630817571,1.8385883713328857,1.8386684405282114,1.8386672436915295,1.8381736676017422,1.8379983141630862,1.8377405419183765,1.8381106263681104,1.8387452583583461,1.8395707775676982,1.8396037449553393,1.8396116724314235,1.8395502013454899,1.839319649608758,1.8387692920325676,1.8384281013146357,1.838336763230166,1.8383910825790268,1.8397130900570506,1.8395282658513619,1.8397999808907932,1.839733760698003,1.8396582069837746,1.839411876805746,1.8387125915095677,1.8382263064971107,1.8376647629035603,1.837177625154307,1.837267707870416,1.8372520014579128,1.8367803474401438,1.8384503796712686,1.8391171999781606,1.8390812858258383,1.839123267805076,1.8389740597716113,1.8388471729395113,1.8385442156371736,1.838415786915814,1.8382943573676884,1.8380760889935635,1.8376682787523757,1.8372409439396886,1.8375593924752003,1.8374470060385077,1.8373925848550174,1.8372461758150582,1.8376656193869372,1.837643763735767,1.837687305500513,1.8376644038444498,1.8380665764010498,1.8377535452238138,1.8367360963931283,1.8362736856781425,1.8362736856781425,1.8362819065876492,1.8365790945573561,1.8369859940348199,1.8392255746875577,1.8400751766557129,1.8404508441171932,1.8414291142603103,1.841749250882999,1.8413358158549378,1.8394077043650339,1.8371778349783379,1.8355391028469272,1.833855474352863,1.8343553830516435,1.8351192926233577,1.8353681192981508,1.835159374851379,1.8348861546080366,1.8348362964725102,1.8346910977224202,1.8346297570759107,1.8352166602324826,1.8356613222102853,1.8360199778561492,1.8372571292876625,1.837726167758716,1.8385170048081465,1.8378679486363985,1.8376441663059513,1.8359484502625152,1.8347894859265412,1.8357980513032366,1.837535244382429,1.8381813962909785,1.838384263160765,1.838704996716427,1.8380957428953273,1.8366830083245307,1.835540557787767,1.8343486613132605,1.8345153674191879,1.834534872792273,1.8338210529047405,1.8338058626817544,1.8338360949257628,1.8337727273705748,1.8337942265809266,1.8327924599959928,1.8335091136322295,1.8343041333895342,1.8344953495433616,1.8345000112865961,1.8349836027006483,1.8350330761643003,1.8344578214322882,1.8338424798198996,1.832671098166878,1.8312796470413566,1.8308165166441186,1.8308165166441186,1.830843884963787,1.8309938863591677,1.8316821793407045,1.832559886900918,1.8330403531067718,1.833285810106987,1.8332976894665154,1.8326073599913513,1.831906911751321,1.8319682386849943,1.8321258648247456,1.8328365008167262,1.832745705161158,1.832754475174209,1.832746363053544,1.832747590795077,1.8327494682290815,1.8323219287281034,1.8322949774249313,1.8323394243556221,1.83227381090679,1.831156676542353,1.8311542100110842,1.8311044833194565,1.831157520278295,1.8313787977400655,1.8313845052529898,1.8322165326629707,1.832905416665111,1.8340569638393915,1.8357806235430252,1.837224291957046,1.83853422541504,1.8395408211747737,1.8405651820307531,1.8396809837355146,1.8389827485005683,1.8386958731037608,1.8392415016393449,1.838867475757908,1.8384868608898752,1.8383000867537223,1.8382129902860758,1.8381815633721097,1.838357480169924,1.8379656078203954,1.8380289106600411,1.8381956483801978,1.8370574968288675,1.8372968157994274,1.8399994920261622,1.8425419359812898,1.844713772620594,1.8461872219814854,1.8463286375100842,1.8464528345107099,1.8457935019414278,1.8442328006838322,1.8425159209299566,1.8409616310641246,1.8405174051283462,1.8419552820957135,1.8440855750608922,1.8457327123883909,1.8465517903276807,1.8466611568021933,1.8464777771935947,1.8458493459331449,1.8443295935677892,1.8416058036574205,1.8387438866542856,1.8383495286361053,1.8384263954550404,1.8380503866112514,1.8377658219770314,1.8371111427962001,1.8369778650275068,1.837059078307845,1.8374862400953083,1.8372443054505123,1.8374617423961233,1.8368042445968567,1.8367509609881358,1.8365742394537925,1.836235954602766,1.8358933333330976,1.8354996729007804,1.8356677085438176,1.8356124098619209,1.8355187890940263,1.835540583282038,1.8356594226716392,1.8357534460292748,1.8357912453393532,1.835861219400298,1.835730263153177,1.8357851590704815,1.8355102194630861,1.8355290297202511,1.8355436511844565,1.8352473196002534,1.835385317409378,1.8354782542465493,1.8357302911170856,1.8357737661569358,1.835805957264297,1.8359956603200323,1.8366274717830873,1.8370333484059902,1.8374207519462116,1.8378650741241165,1.8389638156358208,1.8392148215811333,1.8391421670305008,1.8381580640068877,1.837673599722791,1.8374005260720556,1.8373351713277402,1.8374552522467507,1.8373791009914626,1.8373791009914626,1.8370307226612608,1.837372138533246,1.8371488338777018,1.8374985723455788,1.8375687980290192,1.8374889756927675,1.8377506530174106,1.837830707191612,1.838337929607982,1.8389098773158048,1.8402769535591676,1.8411891417410844,1.8426061585847864,1.8423522376499772,1.841777298458644,1.8421802696489789,1.842386611517173,1.8427496806579435,1.8426714825248796,1.8419636121389227,1.8417315074799208,1.8416875695220232,1.84178199838016,1.8416337563574807,1.8411939906763792,1.8416599797501918,1.8420156922468502,1.842867445743799,1.8438387402986656,1.844120546618812,1.8443642969358847,1.8437671589965205,1.8430745686827983,1.8431711492128613,1.8429603250608777,1.8434072415463436,1.8434231232502394,1.8436415033357234,1.8442165295550401,1.8449411081454221,1.8454450583293516,1.845743914233731,1.8461114800305227,1.8470094325372717,1.8478244433009012,1.8461962039359539,1.8454491185093775,1.845264310783948,1.8453167965812138,1.8453113511630457,1.8446330152437147,1.8443385547005036,1.8443233666787926,1.8444449074046945,1.8448003561112987,1.8447181857439678,1.844814309276,1.8452595617966594,1.84522320312072,1.845223151257893,1.8450390885214407,1.8458326381414203,1.8464493672148752,1.84738526200846,1.847288336611603,1.8474296485808082,1.847081653149823,1.8462464535171983,1.8459931749456977,1.845757051723596,1.8449554506455217,1.8449739186589424,1.845037918658942,1.844597255477142,1.8445969474915453,1.843538164102918,1.8434726781324304,1.844174499991893,1.8450241147712794,1.8458154784091139,1.8460672472253314,1.8460780625394693,1.8460685822412244,1.8458127845446486,1.8457378271899496,1.846328706686612,1.8468037525449248,1.8470105244318278,1.8468201634739747,1.8461774862560547,1.8454518137222626,1.8446939111281946,1.8436462884712048,1.8432759642475662,1.8426279185391847,1.842592472675125,1.842592472675125,1.843190549641143,1.8432854645587062,1.8432750004322422,1.8433409139468375,1.8451919192050827,1.846115858238459,1.8466432377205146,1.8467737712813503,1.8465508796511003,1.8462021362149839,1.8481690808055955,1.849867266538552,1.852268892954577,1.8537314474053666,1.8539920930529736,1.8540132495137958,1.855241185501479,1.8548421877613985,1.8542951112539507,1.8525724773764476,1.8530433783716924,1.8532360474717102,1.853245612149795,1.8530205350123472,1.8513170418990563,1.848784882667863,1.8487791332674999,1.848405390123103,1.8501877814806913,1.853033786433886,1.853870657571882,1.8559428577624948,1.8557147431690337,1.8551115097363569,1.854095908068531,1.8536264424315638,1.8538262809046568,1.8511834859875007,1.8499145199096854,1.8496757274249707,1.849085839598787,1.8492819021247127,1.8479610884053599,1.8469800040997675,1.845510816579798,1.8453549915351153,1.8448761320798337,1.844793554796004,1.8450304274541476,1.844294161299775,1.8441361052052214,1.8442337578323975,1.8443076871049329,1.8440677825585698,1.8446099221714831,1.8453811348825924,1.8477695535535157,1.8498432934528337,1.8515289374594224,1.852006446068936,1.851797914584641,1.8512892386989062,1.8505963335860376,1.8491399356673421,1.8489079287294434,1.8488126359470787,1.8486132750086253,1.8478923784237449,1.8464954995511387,1.8459844473779328,1.8461421473875612,1.8462241540228543,1.8462134927989151,1.8471557201964077,1.8466080102122573,1.8471730805954816,1.8473755898394835,1.847248055385305,1.847274927274967,1.846960544580885,1.8468573606551766,1.8466122976705066,1.8464088121781854,1.8462502767861533,1.8464594068466351,1.8462151078251523,1.8460569573437318,1.84665533399804,1.8462968410763596,1.8462942667269657,1.846528551446279,1.8468549750748662,1.8469319523973469,1.846874405946354,1.8472119071246866,1.8482249081866966,1.8488396252954946,1.8487032075193526,1.8488005915574615,1.8490283919661092,1.8489432050307302,1.8498101677106407,1.8510174530596886,1.8512029585038166,1.8514807049646365,1.8525150822498913,1.8525780518697945,1.852512758280411,1.8526202675376635,1.8511367092890743,1.8499312160173484,1.8497283824305621,1.849557296644847,1.8480456558560223,1.8462991016368995,1.8460668144526415,1.8453531112357717,1.8452502165094233,1.8455250979343778,1.8455330093849147,1.8452001268850098,1.8446592350748536,1.8439110617128407,1.8442297533101297,1.8439171710448945,1.8444680988363524,1.844364732672438,1.8442528239992986,1.8438367088564673,1.8438039061480809,1.8438023196204925,1.8443320714654332,1.8452075429407329,1.8458267639203776,1.8477851123997566,1.8490284898947382,1.8496199580671684,1.8492592344554546,1.848877354508457,1.8485499632274143,1.8472674980907193,1.846849012972925,1.8466875320109262,1.8467955920086734,1.846552679764982,1.8463862026997095,1.8460252260832732,1.8458728756763587,1.8457357275128954,1.845936721910812,1.8460170909128633,1.8459475816969004,1.8461532616582952,1.8459574855441867,1.8455567998974665,1.8453530467975563,1.846020456935411,1.8475838223357468,1.8468101779350128,1.846613061265218,1.8462744785107352,1.8460671148392793,1.8460192156386317,1.8457378122327384,1.845796771278307,1.846243545942599,1.8463990368787393,1.8445135201493805,1.844432215489745,1.8446071214364859,1.8452255693366104,1.8454770656162007,1.8458168332079936,1.8456824255019832,1.8454433106851662,1.8461137088877795,1.846461713514822,1.8466001348075896,1.8468222034065744,1.8472670557614388,1.847592858550582,1.8475816358937298,1.8476020715978714,1.8469859045906432,1.8456852133428308,1.8455547194020647,1.8454503767558057,1.8457232035132527,1.845772288463692,1.8457365601697926,1.8459635992052623,1.8461341343047748,1.8460737237188776,1.8461316754672563,1.8461986752031543,1.8459580290398623,1.8458832302927826,1.8463143190809188,1.8465201811089096,1.8471847392411496,1.849211685386811,1.8498485983640585,1.849957618000858,1.8497967438272365,1.8497084829047319,1.8493064197888458,1.8493876155815778,1.849894327730603,1.8497387851221119,1.850372876683853,1.850942021420103,1.8529649321281785,1.8544471472382935,1.8551032454490288,1.8547824849773134,1.8546023818744628,1.8527323875902117]},{\"line\":{\"color\":\"red\"},\"mode\":\"lines\",\"name\":\"bb_lower\",\"type\":\"scatter\",\"x\":[\"2021-06-18T05:00:00\",\"2021-06-18T05:15:00\",\"2021-06-18T05:30:00\",\"2021-06-18T05:45:00\",\"2021-06-18T06:00:00\",\"2021-06-18T06:15:00\",\"2021-06-18T06:30:00\",\"2021-06-18T06:45:00\",\"2021-06-18T07:00:00\",\"2021-06-18T07:15:00\",\"2021-06-18T07:30:00\",\"2021-06-18T07:45:00\",\"2021-06-18T08:00:00\",\"2021-06-18T08:15:00\",\"2021-06-18T08:30:00\",\"2021-06-18T08:45:00\",\"2021-06-18T09:00:00\",\"2021-06-18T09:15:00\",\"2021-06-18T09:30:00\",\"2021-06-18T09:45:00\",\"2021-06-18T10:00:00\",\"2021-06-18T10:15:00\",\"2021-06-18T10:30:00\",\"2021-06-18T10:45:00\",\"2021-06-18T11:00:00\",\"2021-06-18T11:15:00\",\"2021-06-18T11:30:00\",\"2021-06-18T11:45:00\",\"2021-06-18T12:00:00\",\"2021-06-18T12:15:00\",\"2021-06-18T12:30:00\",\"2021-06-18T12:45:00\",\"2021-06-18T13:00:00\",\"2021-06-18T13:15:00\",\"2021-06-18T13:30:00\",\"2021-06-18T13:45:00\",\"2021-06-18T14:00:00\",\"2021-06-18T14:15:00\",\"2021-06-18T14:30:00\",\"2021-06-18T14:45:00\",\"2021-06-18T15:00:00\",\"2021-06-18T15:15:00\",\"2021-06-18T15:30:00\",\"2021-06-18T15:45:00\",\"2021-06-18T16:00:00\",\"2021-06-18T16:15:00\",\"2021-06-18T16:30:00\",\"2021-06-18T16:45:00\",\"2021-06-18T17:00:00\",\"2021-06-18T17:15:00\",\"2021-06-18T17:30:00\",\"2021-06-18T17:45:00\",\"2021-06-18T18:00:00\",\"2021-06-18T18:15:00\",\"2021-06-18T18:30:00\",\"2021-06-18T18:45:00\",\"2021-06-18T19:00:00\",\"2021-06-18T19:15:00\",\"2021-06-18T19:30:00\",\"2021-06-18T19:45:00\",\"2021-06-18T20:00:00\",\"2021-06-18T20:15:00\",\"2021-06-18T20:30:00\",\"2021-06-18T20:45:00\",\"2021-06-18T21:00:00\",\"2021-06-18T21:15:00\",\"2021-06-18T21:30:00\",\"2021-06-18T21:45:00\",\"2021-06-21T00:00:00\",\"2021-06-21T00:15:00\",\"2021-06-21T00:30:00\",\"2021-06-21T00:45:00\",\"2021-06-21T01:00:00\",\"2021-06-21T01:15:00\",\"2021-06-21T01:30:00\",\"2021-06-21T01:45:00\",\"2021-06-21T02:00:00\",\"2021-06-21T02:15:00\",\"2021-06-21T02:30:00\",\"2021-06-21T02:45:00\",\"2021-06-21T03:00:00\",\"2021-06-21T03:15:00\",\"2021-06-21T03:30:00\",\"2021-06-21T03:45:00\",\"2021-06-21T04:00:00\",\"2021-06-21T04:15:00\",\"2021-06-21T04:30:00\",\"2021-06-21T04:45:00\",\"2021-06-21T05:00:00\",\"2021-06-21T05:15:00\",\"2021-06-21T05:30:00\",\"2021-06-21T05:45:00\",\"2021-06-21T06:00:00\",\"2021-06-21T06:15:00\",\"2021-06-21T06:30:00\",\"2021-06-21T06:45:00\",\"2021-06-21T07:00:00\",\"2021-06-21T07:15:00\",\"2021-06-21T07:30:00\",\"2021-06-21T07:45:00\",\"2021-06-21T08:00:00\",\"2021-06-21T08:15:00\",\"2021-06-21T08:30:00\",\"2021-06-21T08:45:00\",\"2021-06-21T09:00:00\",\"2021-06-21T09:15:00\",\"2021-06-21T09:30:00\",\"2021-06-21T09:45:00\",\"2021-06-21T10:00:00\",\"2021-06-21T10:15:00\",\"2021-06-21T10:30:00\",\"2021-06-21T10:45:00\",\"2021-06-21T11:00:00\",\"2021-06-21T11:15:00\",\"2021-06-21T11:30:00\",\"2021-06-21T11:45:00\",\"2021-06-21T12:00:00\",\"2021-06-21T12:15:00\",\"2021-06-21T12:30:00\",\"2021-06-21T12:45:00\",\"2021-06-21T13:00:00\",\"2021-06-21T13:15:00\",\"2021-06-21T13:30:00\",\"2021-06-21T13:45:00\",\"2021-06-21T14:00:00\",\"2021-06-21T14:15:00\",\"2021-06-21T14:30:00\",\"2021-06-21T14:45:00\",\"2021-06-21T15:00:00\",\"2021-06-21T15:15:00\",\"2021-06-21T15:30:00\",\"2021-06-21T15:45:00\",\"2021-06-21T16:00:00\",\"2021-06-21T16:15:00\",\"2021-06-21T16:30:00\",\"2021-06-21T16:45:00\",\"2021-06-21T17:00:00\",\"2021-06-21T17:15:00\",\"2021-06-21T17:30:00\",\"2021-06-21T17:45:00\",\"2021-06-21T18:00:00\",\"2021-06-21T18:15:00\",\"2021-06-21T18:30:00\",\"2021-06-21T18:45:00\",\"2021-06-21T19:00:00\",\"2021-06-21T19:15:00\",\"2021-06-21T19:30:00\",\"2021-06-21T19:45:00\",\"2021-06-21T20:00:00\",\"2021-06-21T20:15:00\",\"2021-06-21T20:30:00\",\"2021-06-21T20:45:00\",\"2021-06-21T21:00:00\",\"2021-06-21T21:15:00\",\"2021-06-21T21:30:00\",\"2021-06-21T21:45:00\",\"2021-06-21T22:00:00\",\"2021-06-21T22:15:00\",\"2021-06-21T22:30:00\",\"2021-06-21T22:45:00\",\"2021-06-21T23:00:00\",\"2021-06-21T23:15:00\",\"2021-06-21T23:30:00\",\"2021-06-21T23:45:00\",\"2021-06-22T00:00:00\",\"2021-06-22T00:15:00\",\"2021-06-22T00:30:00\",\"2021-06-22T00:45:00\",\"2021-06-22T01:00:00\",\"2021-06-22T01:15:00\",\"2021-06-22T01:30:00\",\"2021-06-22T01:45:00\",\"2021-06-22T02:00:00\",\"2021-06-22T02:15:00\",\"2021-06-22T02:30:00\",\"2021-06-22T02:45:00\",\"2021-06-22T03:00:00\",\"2021-06-22T03:15:00\",\"2021-06-22T03:30:00\",\"2021-06-22T03:45:00\",\"2021-06-22T04:00:00\",\"2021-06-22T04:15:00\",\"2021-06-22T04:30:00\",\"2021-06-22T04:45:00\",\"2021-06-22T05:00:00\",\"2021-06-22T05:15:00\",\"2021-06-22T05:30:00\",\"2021-06-22T05:45:00\",\"2021-06-22T06:00:00\",\"2021-06-22T06:15:00\",\"2021-06-22T06:30:00\",\"2021-06-22T06:45:00\",\"2021-06-22T07:00:00\",\"2021-06-22T07:15:00\",\"2021-06-22T07:30:00\",\"2021-06-22T07:45:00\",\"2021-06-22T08:00:00\",\"2021-06-22T08:15:00\",\"2021-06-22T08:30:00\",\"2021-06-22T08:45:00\",\"2021-06-22T09:00:00\",\"2021-06-22T09:15:00\",\"2021-06-22T09:30:00\",\"2021-06-22T09:45:00\",\"2021-06-22T10:00:00\",\"2021-06-22T10:15:00\",\"2021-06-22T10:30:00\",\"2021-06-22T10:45:00\",\"2021-06-22T11:00:00\",\"2021-06-22T11:15:00\",\"2021-06-22T11:30:00\",\"2021-06-22T11:45:00\",\"2021-06-22T12:00:00\",\"2021-06-22T12:15:00\",\"2021-06-22T12:30:00\",\"2021-06-22T12:45:00\",\"2021-06-22T13:00:00\",\"2021-06-22T13:15:00\",\"2021-06-22T13:30:00\",\"2021-06-22T13:45:00\",\"2021-06-22T14:00:00\",\"2021-06-22T14:15:00\",\"2021-06-22T14:30:00\",\"2021-06-22T14:45:00\",\"2021-06-22T15:00:00\",\"2021-06-22T15:15:00\",\"2021-06-22T15:30:00\",\"2021-06-22T15:45:00\",\"2021-06-22T16:00:00\",\"2021-06-22T16:15:00\",\"2021-06-22T16:30:00\",\"2021-06-22T16:45:00\",\"2021-06-22T17:00:00\",\"2021-06-22T17:15:00\",\"2021-06-22T17:30:00\",\"2021-06-22T17:45:00\",\"2021-06-22T18:00:00\",\"2021-06-22T18:15:00\",\"2021-06-22T18:30:00\",\"2021-06-22T18:45:00\",\"2021-06-22T19:00:00\",\"2021-06-22T19:15:00\",\"2021-06-22T19:30:00\",\"2021-06-22T19:45:00\",\"2021-06-22T20:00:00\",\"2021-06-22T20:15:00\",\"2021-06-22T20:30:00\",\"2021-06-22T20:45:00\",\"2021-06-22T21:00:00\",\"2021-06-22T21:15:00\",\"2021-06-22T21:30:00\",\"2021-06-22T21:45:00\",\"2021-06-22T22:00:00\",\"2021-06-22T22:15:00\",\"2021-06-22T22:30:00\",\"2021-06-22T22:45:00\",\"2021-06-22T23:00:00\",\"2021-06-22T23:15:00\",\"2021-06-22T23:30:00\",\"2021-06-22T23:45:00\",\"2021-06-23T00:00:00\",\"2021-06-23T00:15:00\",\"2021-06-23T00:30:00\",\"2021-06-23T00:45:00\",\"2021-06-23T01:00:00\",\"2021-06-23T01:15:00\",\"2021-06-23T01:30:00\",\"2021-06-23T01:45:00\",\"2021-06-23T02:00:00\",\"2021-06-23T02:15:00\",\"2021-06-23T02:30:00\",\"2021-06-23T02:45:00\",\"2021-06-23T03:00:00\",\"2021-06-23T03:15:00\",\"2021-06-23T03:30:00\",\"2021-06-23T03:45:00\",\"2021-06-23T04:00:00\",\"2021-06-23T04:15:00\",\"2021-06-23T04:30:00\",\"2021-06-23T04:45:00\",\"2021-06-23T05:00:00\",\"2021-06-23T05:15:00\",\"2021-06-23T05:30:00\",\"2021-06-23T05:45:00\",\"2021-06-23T06:00:00\",\"2021-06-23T06:15:00\",\"2021-06-23T06:30:00\",\"2021-06-23T06:45:00\",\"2021-06-23T07:00:00\",\"2021-06-23T07:15:00\",\"2021-06-23T07:30:00\",\"2021-06-23T07:45:00\",\"2021-06-23T08:00:00\",\"2021-06-23T08:15:00\",\"2021-06-23T08:30:00\",\"2021-06-23T08:45:00\",\"2021-06-23T09:00:00\",\"2021-06-23T09:15:00\",\"2021-06-23T09:30:00\",\"2021-06-23T09:45:00\",\"2021-06-23T10:00:00\",\"2021-06-23T10:15:00\",\"2021-06-23T10:30:00\",\"2021-06-23T10:45:00\",\"2021-06-23T11:00:00\",\"2021-06-23T11:15:00\",\"2021-06-23T11:30:00\",\"2021-06-23T11:45:00\",\"2021-06-23T12:00:00\",\"2021-06-23T12:15:00\",\"2021-06-23T12:30:00\",\"2021-06-23T12:45:00\",\"2021-06-23T13:00:00\",\"2021-06-23T13:15:00\",\"2021-06-23T13:30:00\",\"2021-06-23T13:45:00\",\"2021-06-23T14:00:00\",\"2021-06-23T14:15:00\",\"2021-06-23T14:30:00\",\"2021-06-23T14:45:00\",\"2021-06-23T15:00:00\",\"2021-06-23T15:15:00\",\"2021-06-23T15:30:00\",\"2021-06-23T15:45:00\",\"2021-06-23T16:00:00\",\"2021-06-23T16:15:00\",\"2021-06-23T16:30:00\",\"2021-06-23T16:45:00\",\"2021-06-23T17:00:00\",\"2021-06-23T17:15:00\",\"2021-06-23T17:30:00\",\"2021-06-23T17:45:00\",\"2021-06-23T18:00:00\",\"2021-06-23T18:15:00\",\"2021-06-23T18:30:00\",\"2021-06-23T18:45:00\",\"2021-06-23T19:00:00\",\"2021-06-23T19:15:00\",\"2021-06-23T19:30:00\",\"2021-06-23T19:45:00\",\"2021-06-23T20:00:00\",\"2021-06-23T20:15:00\",\"2021-06-23T20:30:00\",\"2021-06-23T20:45:00\",\"2021-06-23T21:00:00\",\"2021-06-23T21:15:00\",\"2021-06-23T21:30:00\",\"2021-06-23T21:45:00\",\"2021-06-23T22:00:00\",\"2021-06-23T22:15:00\",\"2021-06-23T22:30:00\",\"2021-06-23T22:45:00\",\"2021-06-23T23:00:00\",\"2021-06-23T23:15:00\",\"2021-06-23T23:30:00\",\"2021-06-23T23:45:00\",\"2021-06-24T00:00:00\",\"2021-06-24T00:15:00\",\"2021-06-24T00:30:00\",\"2021-06-24T00:45:00\",\"2021-06-24T01:00:00\",\"2021-06-24T01:15:00\",\"2021-06-24T01:30:00\",\"2021-06-24T01:45:00\",\"2021-06-24T02:00:00\",\"2021-06-24T02:15:00\",\"2021-06-24T02:30:00\",\"2021-06-24T02:45:00\",\"2021-06-24T03:00:00\",\"2021-06-24T03:15:00\",\"2021-06-24T03:30:00\",\"2021-06-24T03:45:00\",\"2021-06-24T04:00:00\",\"2021-06-24T04:15:00\",\"2021-06-24T04:30:00\",\"2021-06-24T04:45:00\",\"2021-06-24T05:00:00\",\"2021-06-24T05:15:00\",\"2021-06-24T05:30:00\",\"2021-06-24T05:45:00\",\"2021-06-24T06:00:00\",\"2021-06-24T06:15:00\",\"2021-06-24T06:30:00\",\"2021-06-24T06:45:00\",\"2021-06-24T07:00:00\",\"2021-06-24T07:15:00\",\"2021-06-24T07:30:00\",\"2021-06-24T07:45:00\",\"2021-06-24T08:00:00\",\"2021-06-24T08:15:00\",\"2021-06-24T08:30:00\",\"2021-06-24T08:45:00\",\"2021-06-24T09:00:00\",\"2021-06-24T09:15:00\",\"2021-06-24T09:30:00\",\"2021-06-24T09:45:00\",\"2021-06-24T10:00:00\",\"2021-06-24T10:15:00\",\"2021-06-24T10:30:00\",\"2021-06-24T10:45:00\",\"2021-06-24T11:00:00\",\"2021-06-24T11:15:00\",\"2021-06-24T11:30:00\",\"2021-06-24T11:45:00\",\"2021-06-24T12:00:00\",\"2021-06-24T12:15:00\",\"2021-06-24T12:30:00\",\"2021-06-24T12:45:00\",\"2021-06-24T13:00:00\",\"2021-06-24T13:15:00\",\"2021-06-24T13:30:00\",\"2021-06-24T13:45:00\",\"2021-06-24T14:00:00\",\"2021-06-24T14:15:00\",\"2021-06-24T14:30:00\",\"2021-06-24T14:45:00\",\"2021-06-24T15:00:00\",\"2021-06-24T15:15:00\",\"2021-06-24T15:30:00\",\"2021-06-24T15:45:00\",\"2021-06-24T16:00:00\",\"2021-06-24T16:15:00\",\"2021-06-24T16:30:00\",\"2021-06-24T16:45:00\",\"2021-06-24T17:00:00\",\"2021-06-24T17:15:00\",\"2021-06-24T17:30:00\",\"2021-06-24T17:45:00\",\"2021-06-24T18:00:00\",\"2021-06-24T18:15:00\",\"2021-06-24T18:30:00\",\"2021-06-24T18:45:00\",\"2021-06-24T19:00:00\",\"2021-06-24T19:15:00\",\"2021-06-24T19:30:00\",\"2021-06-24T19:45:00\",\"2021-06-24T20:00:00\",\"2021-06-24T20:15:00\",\"2021-06-24T20:30:00\",\"2021-06-24T20:45:00\",\"2021-06-24T21:00:00\",\"2021-06-24T21:15:00\",\"2021-06-24T21:30:00\",\"2021-06-24T21:45:00\",\"2021-06-24T22:00:00\",\"2021-06-24T22:15:00\",\"2021-06-24T22:30:00\",\"2021-06-24T22:45:00\",\"2021-06-24T23:00:00\",\"2021-06-24T23:15:00\",\"2021-06-24T23:30:00\",\"2021-06-24T23:45:00\",\"2021-06-25T00:00:00\",\"2021-06-25T00:15:00\",\"2021-06-25T00:30:00\",\"2021-06-25T00:45:00\",\"2021-06-25T01:00:00\",\"2021-06-25T01:15:00\",\"2021-06-25T01:30:00\",\"2021-06-25T01:45:00\",\"2021-06-25T02:00:00\",\"2021-06-25T02:15:00\",\"2021-06-25T02:30:00\",\"2021-06-25T02:45:00\",\"2021-06-25T03:00:00\",\"2021-06-25T03:15:00\",\"2021-06-25T03:30:00\",\"2021-06-25T03:45:00\",\"2021-06-25T04:00:00\",\"2021-06-25T04:15:00\",\"2021-06-25T04:30:00\",\"2021-06-25T04:45:00\",\"2021-06-25T05:00:00\",\"2021-06-25T05:15:00\",\"2021-06-25T05:30:00\",\"2021-06-25T05:45:00\",\"2021-06-25T06:00:00\",\"2021-06-25T06:15:00\",\"2021-06-25T06:30:00\",\"2021-06-25T06:45:00\",\"2021-06-25T07:00:00\",\"2021-06-25T07:15:00\",\"2021-06-25T07:30:00\",\"2021-06-25T07:45:00\",\"2021-06-25T08:00:00\",\"2021-06-25T08:15:00\",\"2021-06-25T08:30:00\",\"2021-06-25T08:45:00\",\"2021-06-25T09:00:00\",\"2021-06-25T09:15:00\",\"2021-06-25T09:30:00\",\"2021-06-25T09:45:00\",\"2021-06-25T10:00:00\",\"2021-06-25T10:15:00\",\"2021-06-25T10:30:00\",\"2021-06-25T10:45:00\",\"2021-06-25T11:00:00\",\"2021-06-25T11:15:00\",\"2021-06-25T11:30:00\",\"2021-06-25T11:45:00\",\"2021-06-25T12:00:00\",\"2021-06-25T12:15:00\",\"2021-06-25T12:30:00\",\"2021-06-25T12:45:00\",\"2021-06-25T13:00:00\",\"2021-06-25T13:15:00\",\"2021-06-25T13:30:00\",\"2021-06-25T13:45:00\",\"2021-06-25T14:00:00\",\"2021-06-25T14:15:00\",\"2021-06-25T14:30:00\",\"2021-06-25T14:45:00\",\"2021-06-25T15:00:00\",\"2021-06-25T15:15:00\",\"2021-06-25T15:30:00\",\"2021-06-25T15:45:00\",\"2021-06-25T16:00:00\",\"2021-06-25T16:15:00\",\"2021-06-25T16:30:00\",\"2021-06-25T16:45:00\",\"2021-06-25T17:00:00\",\"2021-06-25T17:15:00\",\"2021-06-25T17:30:00\",\"2021-06-25T17:45:00\",\"2021-06-25T18:00:00\",\"2021-06-25T18:15:00\",\"2021-06-25T18:30:00\",\"2021-06-25T18:45:00\",\"2021-06-25T19:00:00\",\"2021-06-25T19:15:00\",\"2021-06-25T19:30:00\",\"2021-06-25T19:45:00\",\"2021-06-25T20:00:00\",\"2021-06-25T20:15:00\",\"2021-06-25T20:30:00\",\"2021-06-25T20:45:00\",\"2021-06-25T21:00:00\",\"2021-06-25T21:15:00\",\"2021-06-25T21:30:00\",\"2021-06-25T21:45:00\",\"2021-06-28T00:00:00\",\"2021-06-28T00:15:00\",\"2021-06-28T00:30:00\",\"2021-06-28T00:45:00\",\"2021-06-28T01:00:00\",\"2021-06-28T01:15:00\",\"2021-06-28T01:30:00\",\"2021-06-28T01:45:00\",\"2021-06-28T02:00:00\",\"2021-06-28T02:15:00\",\"2021-06-28T02:30:00\",\"2021-06-28T02:45:00\",\"2021-06-28T03:00:00\",\"2021-06-28T03:15:00\",\"2021-06-28T03:30:00\",\"2021-06-28T03:45:00\",\"2021-06-28T04:00:00\",\"2021-06-28T04:15:00\",\"2021-06-28T04:30:00\",\"2021-06-28T04:45:00\",\"2021-06-28T05:00:00\",\"2021-06-28T05:15:00\",\"2021-06-28T05:30:00\",\"2021-06-28T05:45:00\",\"2021-06-28T06:00:00\",\"2021-06-28T06:15:00\",\"2021-06-28T06:30:00\",\"2021-06-28T06:45:00\",\"2021-06-28T07:00:00\",\"2021-06-28T07:15:00\",\"2021-06-28T07:30:00\",\"2021-06-28T07:45:00\",\"2021-06-28T08:00:00\",\"2021-06-28T08:15:00\",\"2021-06-28T08:30:00\",\"2021-06-28T08:45:00\",\"2021-06-28T09:00:00\",\"2021-06-28T09:15:00\",\"2021-06-28T09:30:00\",\"2021-06-28T09:45:00\",\"2021-06-28T10:00:00\",\"2021-06-28T10:15:00\",\"2021-06-28T10:30:00\",\"2021-06-28T10:45:00\",\"2021-06-28T11:00:00\",\"2021-06-28T11:15:00\",\"2021-06-28T11:30:00\",\"2021-06-28T11:45:00\",\"2021-06-28T12:00:00\",\"2021-06-28T12:15:00\",\"2021-06-28T12:30:00\",\"2021-06-28T12:45:00\",\"2021-06-28T13:00:00\",\"2021-06-28T13:15:00\",\"2021-06-28T13:30:00\",\"2021-06-28T13:45:00\",\"2021-06-28T14:00:00\",\"2021-06-28T14:15:00\",\"2021-06-28T14:30:00\",\"2021-06-28T14:45:00\",\"2021-06-28T15:00:00\",\"2021-06-28T15:15:00\",\"2021-06-28T15:30:00\",\"2021-06-28T15:45:00\",\"2021-06-28T16:00:00\",\"2021-06-28T16:15:00\",\"2021-06-28T16:30:00\",\"2021-06-28T16:45:00\",\"2021-06-28T17:00:00\",\"2021-06-28T17:15:00\",\"2021-06-28T17:30:00\",\"2021-06-28T17:45:00\",\"2021-06-28T18:00:00\",\"2021-06-28T18:15:00\",\"2021-06-28T18:30:00\",\"2021-06-28T18:45:00\",\"2021-06-28T19:00:00\",\"2021-06-28T19:15:00\",\"2021-06-28T19:30:00\",\"2021-06-28T19:45:00\",\"2021-06-28T20:00:00\",\"2021-06-28T20:15:00\",\"2021-06-28T20:30:00\",\"2021-06-28T20:45:00\",\"2021-06-28T21:00:00\",\"2021-06-28T21:15:00\",\"2021-06-28T21:30:00\",\"2021-06-28T21:45:00\",\"2021-06-28T22:00:00\",\"2021-06-28T22:15:00\",\"2021-06-28T22:30:00\",\"2021-06-28T22:45:00\",\"2021-06-28T23:00:00\",\"2021-06-28T23:15:00\",\"2021-06-28T23:30:00\",\"2021-06-28T23:45:00\",\"2021-06-29T00:00:00\",\"2021-06-29T00:15:00\",\"2021-06-29T00:30:00\",\"2021-06-29T00:45:00\",\"2021-06-29T01:00:00\",\"2021-06-29T01:15:00\",\"2021-06-29T01:30:00\",\"2021-06-29T01:45:00\",\"2021-06-29T02:00:00\",\"2021-06-29T02:15:00\",\"2021-06-29T02:30:00\",\"2021-06-29T02:45:00\",\"2021-06-29T03:00:00\",\"2021-06-29T03:15:00\",\"2021-06-29T03:30:00\",\"2021-06-29T03:45:00\",\"2021-06-29T04:00:00\",\"2021-06-29T04:15:00\",\"2021-06-29T04:30:00\",\"2021-06-29T04:45:00\",\"2021-06-29T05:00:00\",\"2021-06-29T05:15:00\",\"2021-06-29T05:30:00\",\"2021-06-29T05:45:00\",\"2021-06-29T06:00:00\",\"2021-06-29T06:15:00\",\"2021-06-29T06:30:00\",\"2021-06-29T06:45:00\",\"2021-06-29T07:00:00\",\"2021-06-29T07:15:00\",\"2021-06-29T07:30:00\",\"2021-06-29T07:45:00\",\"2021-06-29T08:00:00\",\"2021-06-29T08:15:00\",\"2021-06-29T08:30:00\",\"2021-06-29T08:45:00\",\"2021-06-29T09:00:00\",\"2021-06-29T09:15:00\",\"2021-06-29T09:30:00\",\"2021-06-29T09:45:00\",\"2021-06-29T10:00:00\",\"2021-06-29T10:15:00\",\"2021-06-29T10:30:00\",\"2021-06-29T10:45:00\",\"2021-06-29T11:00:00\",\"2021-06-29T11:15:00\",\"2021-06-29T11:30:00\",\"2021-06-29T11:45:00\",\"2021-06-29T12:00:00\",\"2021-06-29T12:15:00\",\"2021-06-29T12:30:00\",\"2021-06-29T12:45:00\",\"2021-06-29T13:00:00\",\"2021-06-29T13:15:00\",\"2021-06-29T13:30:00\",\"2021-06-29T13:45:00\",\"2021-06-29T14:00:00\",\"2021-06-29T14:15:00\",\"2021-06-29T14:30:00\",\"2021-06-29T14:45:00\",\"2021-06-29T15:00:00\",\"2021-06-29T15:15:00\",\"2021-06-29T15:30:00\",\"2021-06-29T15:45:00\",\"2021-06-29T16:00:00\",\"2021-06-29T16:15:00\",\"2021-06-29T16:30:00\",\"2021-06-29T16:45:00\",\"2021-06-29T17:00:00\",\"2021-06-29T17:15:00\",\"2021-06-29T17:30:00\",\"2021-06-29T17:45:00\",\"2021-06-29T18:00:00\",\"2021-06-29T18:15:00\",\"2021-06-29T18:30:00\",\"2021-06-29T18:45:00\",\"2021-06-29T19:00:00\",\"2021-06-29T19:15:00\",\"2021-06-29T19:30:00\",\"2021-06-29T19:45:00\",\"2021-06-29T20:00:00\",\"2021-06-29T20:15:00\",\"2021-06-29T20:30:00\",\"2021-06-29T20:45:00\",\"2021-06-29T21:00:00\",\"2021-06-29T21:15:00\",\"2021-06-29T21:30:00\",\"2021-06-29T21:45:00\",\"2021-06-29T22:00:00\",\"2021-06-29T22:15:00\",\"2021-06-29T22:30:00\",\"2021-06-29T22:45:00\",\"2021-06-29T23:00:00\",\"2021-06-29T23:15:00\",\"2021-06-29T23:30:00\",\"2021-06-29T23:45:00\",\"2021-06-30T00:00:00\",\"2021-06-30T00:15:00\",\"2021-06-30T00:30:00\",\"2021-06-30T00:45:00\",\"2021-06-30T01:00:00\",\"2021-06-30T01:15:00\",\"2021-06-30T01:30:00\",\"2021-06-30T01:45:00\",\"2021-06-30T02:00:00\",\"2021-06-30T02:15:00\",\"2021-06-30T02:30:00\",\"2021-06-30T02:45:00\",\"2021-06-30T03:00:00\",\"2021-06-30T03:15:00\",\"2021-06-30T03:30:00\",\"2021-06-30T03:45:00\",\"2021-06-30T04:00:00\",\"2021-06-30T04:15:00\",\"2021-06-30T04:30:00\",\"2021-06-30T04:45:00\",\"2021-06-30T05:00:00\",\"2021-06-30T05:15:00\",\"2021-06-30T05:30:00\",\"2021-06-30T05:45:00\",\"2021-06-30T06:00:00\",\"2021-06-30T06:15:00\",\"2021-06-30T06:30:00\",\"2021-06-30T06:45:00\",\"2021-06-30T07:00:00\",\"2021-06-30T07:15:00\",\"2021-06-30T07:30:00\",\"2021-06-30T07:45:00\",\"2021-06-30T08:00:00\",\"2021-06-30T08:15:00\",\"2021-06-30T08:30:00\",\"2021-06-30T08:45:00\",\"2021-06-30T09:00:00\",\"2021-06-30T09:15:00\",\"2021-06-30T09:30:00\",\"2021-06-30T09:45:00\",\"2021-06-30T10:00:00\",\"2021-06-30T10:15:00\",\"2021-06-30T10:30:00\",\"2021-06-30T10:45:00\",\"2021-06-30T11:00:00\",\"2021-06-30T11:15:00\",\"2021-06-30T11:30:00\",\"2021-06-30T11:45:00\",\"2021-06-30T12:00:00\",\"2021-06-30T12:15:00\",\"2021-06-30T12:30:00\",\"2021-06-30T12:45:00\",\"2021-06-30T13:00:00\",\"2021-06-30T13:15:00\",\"2021-06-30T13:30:00\",\"2021-06-30T13:45:00\",\"2021-06-30T14:00:00\",\"2021-06-30T14:15:00\",\"2021-06-30T14:30:00\",\"2021-06-30T14:45:00\",\"2021-06-30T15:00:00\",\"2021-06-30T15:15:00\",\"2021-06-30T15:30:00\",\"2021-06-30T15:45:00\",\"2021-06-30T16:00:00\",\"2021-06-30T16:15:00\",\"2021-06-30T16:30:00\",\"2021-06-30T16:45:00\",\"2021-06-30T17:00:00\",\"2021-06-30T17:15:00\",\"2021-06-30T17:30:00\",\"2021-06-30T17:45:00\",\"2021-06-30T18:00:00\",\"2021-06-30T18:15:00\",\"2021-06-30T18:30:00\",\"2021-06-30T18:45:00\",\"2021-06-30T19:00:00\",\"2021-06-30T19:15:00\",\"2021-06-30T19:30:00\",\"2021-06-30T19:45:00\",\"2021-06-30T20:00:00\",\"2021-06-30T20:15:00\",\"2021-06-30T20:30:00\",\"2021-06-30T20:45:00\",\"2021-06-30T21:00:00\",\"2021-06-30T21:15:00\",\"2021-06-30T21:30:00\",\"2021-06-30T21:45:00\",\"2021-06-30T22:00:00\",\"2021-06-30T22:15:00\",\"2021-06-30T22:30:00\",\"2021-06-30T22:45:00\",\"2021-06-30T23:00:00\",\"2021-06-30T23:15:00\",\"2021-06-30T23:30:00\",\"2021-06-30T23:45:00\",\"2021-07-01T00:00:00\",\"2021-07-01T00:15:00\",\"2021-07-01T00:30:00\",\"2021-07-01T00:45:00\",\"2021-07-01T01:00:00\",\"2021-07-01T01:15:00\",\"2021-07-01T01:30:00\",\"2021-07-01T01:45:00\",\"2021-07-01T02:00:00\",\"2021-07-01T02:15:00\",\"2021-07-01T02:30:00\",\"2021-07-01T02:45:00\",\"2021-07-01T03:00:00\",\"2021-07-01T03:15:00\",\"2021-07-01T03:30:00\",\"2021-07-01T03:45:00\",\"2021-07-01T04:00:00\",\"2021-07-01T04:15:00\",\"2021-07-01T04:30:00\",\"2021-07-01T04:45:00\",\"2021-07-01T05:00:00\",\"2021-07-01T05:15:00\",\"2021-07-01T05:30:00\",\"2021-07-01T05:45:00\",\"2021-07-01T06:00:00\",\"2021-07-01T06:15:00\",\"2021-07-01T06:30:00\",\"2021-07-01T06:45:00\",\"2021-07-01T07:00:00\",\"2021-07-01T07:15:00\",\"2021-07-01T07:30:00\",\"2021-07-01T07:45:00\",\"2021-07-01T08:00:00\",\"2021-07-01T08:15:00\",\"2021-07-01T08:30:00\",\"2021-07-01T08:45:00\",\"2021-07-01T09:00:00\",\"2021-07-01T09:15:00\",\"2021-07-01T09:30:00\",\"2021-07-01T09:45:00\",\"2021-07-01T10:00:00\",\"2021-07-01T10:15:00\",\"2021-07-01T10:30:00\",\"2021-07-01T10:45:00\",\"2021-07-01T11:00:00\",\"2021-07-01T11:15:00\",\"2021-07-01T11:30:00\",\"2021-07-01T11:45:00\",\"2021-07-01T12:00:00\",\"2021-07-01T12:15:00\",\"2021-07-01T12:30:00\",\"2021-07-01T12:45:00\",\"2021-07-01T13:00:00\",\"2021-07-01T13:15:00\",\"2021-07-01T13:30:00\",\"2021-07-01T13:45:00\",\"2021-07-01T14:00:00\",\"2021-07-01T14:15:00\",\"2021-07-01T14:30:00\",\"2021-07-01T14:45:00\",\"2021-07-01T15:00:00\",\"2021-07-01T15:15:00\",\"2021-07-01T15:30:00\",\"2021-07-01T15:45:00\",\"2021-07-01T16:00:00\",\"2021-07-01T16:15:00\",\"2021-07-01T16:30:00\",\"2021-07-01T16:45:00\",\"2021-07-01T17:00:00\",\"2021-07-01T17:15:00\",\"2021-07-01T17:30:00\",\"2021-07-01T17:45:00\",\"2021-07-01T18:00:00\",\"2021-07-01T18:15:00\",\"2021-07-01T18:30:00\",\"2021-07-01T18:45:00\",\"2021-07-01T19:00:00\",\"2021-07-01T19:15:00\",\"2021-07-01T19:30:00\",\"2021-07-01T19:45:00\",\"2021-07-01T20:00:00\",\"2021-07-01T20:15:00\",\"2021-07-01T20:30:00\",\"2021-07-01T20:45:00\",\"2021-07-01T21:00:00\",\"2021-07-01T21:15:00\",\"2021-07-01T21:30:00\",\"2021-07-01T21:45:00\",\"2021-07-01T22:00:00\",\"2021-07-01T22:15:00\",\"2021-07-01T22:30:00\",\"2021-07-01T22:45:00\",\"2021-07-01T23:00:00\",\"2021-07-01T23:15:00\",\"2021-07-01T23:30:00\",\"2021-07-01T23:45:00\",\"2021-07-02T00:00:00\",\"2021-07-02T00:15:00\",\"2021-07-02T00:30:00\",\"2021-07-02T00:45:00\",\"2021-07-02T01:00:00\",\"2021-07-02T01:15:00\",\"2021-07-02T01:30:00\",\"2021-07-02T01:45:00\",\"2021-07-02T02:00:00\",\"2021-07-02T02:15:00\",\"2021-07-02T02:30:00\",\"2021-07-02T02:45:00\",\"2021-07-02T03:00:00\",\"2021-07-02T03:15:00\",\"2021-07-02T03:30:00\",\"2021-07-02T03:45:00\",\"2021-07-02T04:00:00\",\"2021-07-02T04:15:00\",\"2021-07-02T04:30:00\",\"2021-07-02T04:45:00\",\"2021-07-02T05:00:00\",\"2021-07-02T05:15:00\",\"2021-07-02T05:30:00\",\"2021-07-02T05:45:00\",\"2021-07-02T06:00:00\",\"2021-07-02T06:15:00\",\"2021-07-02T06:30:00\",\"2021-07-02T06:45:00\",\"2021-07-02T07:00:00\",\"2021-07-02T07:15:00\",\"2021-07-02T07:30:00\",\"2021-07-02T07:45:00\",\"2021-07-02T08:00:00\",\"2021-07-02T08:15:00\",\"2021-07-02T08:30:00\",\"2021-07-02T08:45:00\",\"2021-07-02T09:00:00\",\"2021-07-02T09:15:00\",\"2021-07-02T09:30:00\",\"2021-07-02T09:45:00\",\"2021-07-02T10:00:00\",\"2021-07-02T10:15:00\",\"2021-07-02T10:30:00\",\"2021-07-02T10:45:00\",\"2021-07-02T11:00:00\",\"2021-07-02T11:15:00\",\"2021-07-02T11:30:00\",\"2021-07-02T11:45:00\",\"2021-07-02T12:00:00\"],\"y\":[null,null,null,null,null,null,null,null,null,1.8297427536202862,1.8286162972779008,1.8314780595923494,1.8345217014344555,1.8361356581685015,1.8367968682042455,1.8374774535746197,1.837457379803831,1.8379595318335855,1.8377280744588034,1.8378507727009055,1.8381402466829448,1.8389409173472209,1.8381086905583124,1.8374282554920534,1.8367716440390052,1.8360812979788945,1.8362865705578488,1.8368006408811588,1.8373374857538904,1.837759434120833,1.8366432673599877,1.838312072374996,1.8386459426464046,1.839317630265059,1.839820077094976,1.8400296631302304,1.8400626988670667,1.83924893048357,1.8391911340400386,1.8390994362006903,1.840776075486104,1.840615021017859,1.8401954051116134,1.8397561837672594,1.8387018928615348,1.837943542430388,1.838078262755693,1.8380662974988056,1.8382707502881492,1.838910962438317,1.8394803587367068,1.840046958987892,1.8394181635931655,1.839201043651085,1.839191276299596,1.8393523882878673,1.8393560291319355,1.8394871870746439,1.8394940269992839,1.8395446900775687,1.8402871640893852,1.8392489939425685,1.838973630133484,1.8387649681425424,1.8372414925745015,1.8370731307330967,1.837105112860605,1.8379077820678866,1.8376051778170894,1.8367369169012417,1.835491573093403,1.8338484459004323,1.8334726095791416,1.8335154068903563,1.8340773703936741,1.8346633107748378,1.8356723686374874,1.8343587319341987,1.832419478398799,1.8315737939903565,1.831239913220215,1.831238312217173,1.831519097728272,1.8324188300955944,1.8324188300955944,1.8323771886302949,1.8318672627126296,1.833206421302089,1.835076216846849,1.8361682901648995,1.8372730987460173,1.8376823777655609,1.8380935521344113,1.8375646615146992,1.8374377455087947,1.8373986265172229,1.8368239329297802,1.8353427141252465,1.8353232765817185,1.8351511093769712,1.8346229662342328,1.8344882650397105,1.8339584111129632,1.8353824093663156,1.8373706120461935,1.8401139670580822,1.8409150531237286,1.8405133193136085,1.8415237535575795,1.8429557213122747,1.8437053535218402,1.8434278058570122,1.843460747958877,1.843497138827873,1.8439751416955423,1.844695617334346,1.8441876508804727,1.8440877004379086,1.8439241830689084,1.8438970687743799,1.8436901842334399,1.8434778439915236,1.8431495225132797,1.8426473967015131,1.842664791496075,1.842688222776111,1.8432961730928754,1.8434876762295125,1.8446678679292432,1.8442644219266557,1.844272165247815,1.844326819839407,1.8443284980510022,1.8443342710537898,1.8444426444066089,1.844576060746108,1.8446624098396185,1.8455315180478171,1.8453417978497093,1.8458573561615952,1.8460162534558533,1.84572997404164,1.8459100757201403,1.8459469856854995,1.8461568597241396,1.84608612328467,1.8459001545976172,1.8459815098614105,1.84599782479546,1.8455565093411475,1.8452166199985283,1.8449408825480422,1.8449559884637694,1.8450218944421284,1.8445529844760509,1.8444291250771123,1.8446208429514652,1.8446062326243042,1.8444272441737888,1.8446195780839008,1.8448642641324686,1.8452718934034078,1.8447282781086867,1.8443863735759483,1.8447866947175093,1.844148856825226,1.8439072909518324,1.8433223268897705,1.843546258625784,1.8436482586257836,1.843828471556619,1.84404825868321,1.8449678703402486,1.8462904838477066,1.8460822663073124,1.8442077329507323,1.8430175780555222,1.8424249762535883,1.8421760201567197,1.8426109358257166,1.8438126047195291,1.8453289173109488,1.8459585077247422,1.8464750146046236,1.8464198353925099,1.8455696529098176,1.84561636728567,1.8457846052795377,1.8466139678410527,1.8477447927911193,1.8482975693496777,1.8483348668885689,1.8473202231512145,1.8469053520599572,1.8467126371179883,1.8468392784179533,1.8467663883780296,1.8467798200554661,1.8468933541430668,1.8471312434394054,1.846851154107036,1.8465920448901028,1.8469998948545343,1.8472368768145913,1.8472813050909753,1.8464169250372446,1.8458979490283265,1.8457216484713694,1.845436256351915,1.8451155301851694,1.8444817903536102,1.8443068138492476,1.8447063661941947,1.8456485768766477,1.844159772537821,1.8429302395370737,1.8428921310759268,1.8428742039806596,1.843086706106413,1.84349084304038,1.8439263916896775,1.8445785669494619,1.844675156179753,1.8449123392075286,1.8446495022053209,1.8448070707576973,1.8447427682498583,1.8452132019443936,1.8453216320457904,1.845967375482159,1.8455165835164753,1.844905094390522,1.8445447604500975,1.844946323866893,1.8461205111461811,1.8458066162190545,1.8453658028736366,1.8451568694051348,1.8446344984957774,1.843408990133093,1.8421774771203514,1.8417703305584538,1.8418629064415712,1.8422080611629392,1.8426351126264624,1.8429423257546773,1.8432851890427386,1.8441459163965623,1.8445489153835846,1.844445821615285,1.8447008665994262,1.844433038778528,1.8444477269404627,1.8444814710788213,1.8444595394865373,1.8441663834791213,1.844058308187942,1.8443539897855463,1.844153554695315,1.8440513526634168,1.8440221100660965,1.8443793830765578,1.8444658511623078,1.8445880901564762,1.8446387648525977,1.8446633276959656,1.8444169157319317,1.8444576264688555,1.8447193244476672,1.8447437644124332,1.8445564488456667,1.844830095142635,1.8447098011692382,1.844253498595538,1.8438686957607568,1.8435974620771238,1.8433952859753762,1.8435174908964562,1.8435174908964562,1.8437229984139258,1.844385789840854,1.8443729455699633,1.8443742346649976,1.8444223500233363,1.843658481779186,1.8425800370328351,1.8418935851741263,1.8419268907631112,1.8418169957384394,1.8412658870209528,1.8407635384778929,1.8407595137584114,1.8420173979921726,1.843498990842484,1.8425776907799627,1.8410994226748192,1.84015363064276,1.8389050421138613,1.838292868863063,1.8372203319205507,1.837668267066458,1.83968885989983,1.8402044698520776,1.8401648260209804,1.840081563988409,1.839630626571851,1.8399115000624804,1.8397175438286562,1.8398848554674179,1.8398666655865241,1.840199517256065,1.8421858432357416,1.8427644398899308,1.8424875977152813,1.8421466857149051,1.8415926725633314,1.8393380929826149,1.8383643050185003,1.8370962754618048,1.8349575707831849,1.8336835484775202,1.832570517340331,1.8323781332645763,1.8334649368240923,1.836272102038435,1.8374086452103118,1.837183692420296,1.837106914897106,1.836867649212634,1.8368610671463539,1.8365733223355603,1.8374012034510256,1.8382935095867685,1.8398490609523892,1.840866663747138,1.8411062558002402,1.8412791063273857,1.8414268908247262,1.8415117925750284,1.8415700578541045,1.8416301405648001,1.841593246772621,1.8416330617678451,1.8416231345508052,1.841316099980654,1.8408055451138066,1.840965735356237,1.8410748039625477,1.8411249246574606,1.8411261619253678,1.8411038621681584,1.8409583166470083,1.8408631963234008,1.8406623140382212,1.8407035864947228,1.8409587675829602,1.8406122232402427,1.8408098067491159,1.840769889538064,1.8408478505111132,1.8414530096911743,1.8413730753368664,1.8410578060156455,1.8404968411047646,1.840596540352065,1.8405799111884065,1.840719989232442,1.8407725638147223,1.8415837749306385,1.8414681163122024,1.841426154772971,1.84155194400863,1.8413225429665887,1.8414260712012378,1.8414415772575903,1.8415536609633139,1.8415494302029038,1.84138815779978,1.84138815779978,1.840923715566094,1.8406050179581537,1.8406632210535963,1.8407979204661418,1.8404930339769365,1.8393546166252928,1.8387971694096263,1.838677836438833,1.8386870699605338,1.8387161805561936,1.8385969534164361,1.8380338087520043,1.837659234474531,1.8374662244612494,1.8374369496276473,1.8381885351139324,1.839293262316286,1.8399156358697049,1.8405202190903116,1.8404383456501459,1.8399702222749696,1.8399520957432967,1.8324468536855083,1.8293976650273307,1.8272877004119403,1.8249568948164163,1.821959385127789,1.8200863572364965,1.8198042082001489,1.8211416470048818,1.8233116606142628,1.8289936182963562,1.829363329518512,1.8302955340721252,1.8316804423622122,1.831799409228125,1.8322032619877435,1.832479349334169,1.8326358368660733,1.8327139310282297,1.8327687800471215,1.8322497627585754,1.83216608496863,1.832255369182428,1.8319976286671131,1.8320355594717879,1.83203475630847,1.8327083323982567,1.8330716858369127,1.8336114580816223,1.8335033736318886,1.832996741641653,1.8324572224323006,1.8326862550446597,1.8326923275685756,1.8328417986545087,1.8332683503912404,1.8341447079674311,1.834615898685363,1.834751236769833,1.8346249174209723,1.8328149099429483,1.8325717341486372,1.831898019109206,1.8317942393019955,1.8317217930162246,1.8317601231942535,1.832095408490431,1.8324256935028884,1.8328432370964387,1.833232374845692,1.833422292129583,1.833517998542086,1.8341496525598546,1.8321416203287306,1.831152800021838,1.83113871417416,1.8310267321949223,1.8310159402283863,1.8308808270604866,1.8310617843628245,1.8311622130841838,1.831239642632309,1.8313639110064337,1.832047721247621,1.832831056060308,1.8326446075247966,1.8328469939614893,1.8329434151449793,1.8331198241849387,1.8325283806130592,1.8321962362642301,1.831942694499484,1.8318795961555476,1.8311734235989479,1.8311204547761841,1.8318659036068703,1.832118314321856,1.832118314321856,1.8321140934123494,1.8316449054426425,1.8310440059651791,1.8281724253124418,1.826618823344286,1.825843155882806,1.8241448857396891,1.8228827491170008,1.8225681841450618,1.8236362956349663,1.8251721650216621,1.826300897153073,1.8277025256471373,1.8273626169483561,1.826846707376642,1.8266838807018484,1.8271066251486199,1.827917845391962,1.8279817035274886,1.8283249022775778,1.8284282429240875,1.8276873397675157,1.8269106777897133,1.8261100221438498,1.8239928707123374,1.8226938322412838,1.8210929951918533,1.8206400513636019,1.8203158336940493,1.8213155497374853,1.822218514073459,1.8214259486967637,1.8200787556175706,1.819678603709021,1.8199377368392342,1.8202290032835724,1.8214702571046717,1.8233489916754677,1.824927442212231,1.8265653386867378,1.8266626325808109,1.8266511272077264,1.827196947095259,1.8272041373182444,1.8272999050742362,1.827313272629424,1.8273817734190723,1.8286255400040061,1.82778488636777,1.8267238666104653,1.8260986504566372,1.8256399887134032,1.8245023972993506,1.8238729238356988,1.8239801785677108,1.8240955201800992,1.8247129018331212,1.8256123529586425,1.8258514833558803,1.8258514833558803,1.8258301150362128,1.825718113640832,1.8253898206592958,1.8249521130990825,1.8247576468932287,1.8248841898930135,1.8253103105334847,1.8262886400086495,1.8273730882486794,1.827543761315006,1.8276881351752543,1.8274294991832738,1.8276222948388416,1.8275795248257907,1.8276656369464555,1.827730409204923,1.8277405317709188,1.8283060712718966,1.8283870225750687,1.8284025756443778,1.8283981890932095,1.8293453234576467,1.8293757899889158,1.8294375166805439,1.8294164797217054,1.8290992022599348,1.8291054947470105,1.8285094673370297,1.8280305833348893,1.8271710361606088,1.825979376456975,1.8250837080429543,1.8244557745849597,1.8242771788252263,1.824092817969247,1.825649016264485,1.8271212514994315,1.8280521268962389,1.8284144983606547,1.8294245242420917,1.8301091391101247,1.8306359132462777,1.8309610097139246,1.8310284366278908,1.830668519830076,1.8311663921796049,1.8310630893399589,1.8307523516198017,1.8315825031711324,1.8313891842005723,1.829238507973837,1.8273120640187097,1.8258522273794056,1.8252087780185138,1.825845362489915,1.826659165489289,1.8280664980585712,1.8304491993161671,1.8330180790700423,1.8353003689358744,1.8359425948716535,1.834150717904286,1.8312844249391074,1.8287312876116086,1.8272462096723194,1.826270843197807,1.8258502228064055,1.8260166540668552,1.8268404064322108,1.8289121963425794,1.831180113345714,1.8314904713638944,1.8315116045449602,1.8321296133887484,1.8325581780229685,1.8333768572038,1.8335501349724932,1.8332989216921551,1.8326897599046923,1.8326456945494887,1.8322002576038778,1.8325357554031443,1.8323050390118645,1.8322117605462083,1.8324080453972345,1.8326266666669024,1.83282632709922,1.8323802914561826,1.8323455901380792,1.8322732109059736,1.8321414167179622,1.8320525773283611,1.832022553970726,1.8320347546606475,1.831984780599703,1.8320477368468235,1.8320368409295187,1.8324717805369146,1.8324409702797493,1.832608348815544,1.8330546803997472,1.8327686825906224,1.8325757457534508,1.8321877088829146,1.8319162338430646,1.8319060427357037,1.8317763396799693,1.8313105282169144,1.8311286515940113,1.83085924805379,1.830588925875885,1.8299841843641804,1.8301171784188683,1.8306698329695008,1.8320319359931139,1.8326844002772105,1.8331654739279466,1.8332888286722622,1.8333787477532513,1.8335348990085394,1.8335348990085394,1.8336652773387414,1.8330978614667566,1.8331191661223005,1.8325934276544238,1.8324632019709826,1.8325110243072342,1.8323453469825912,1.8322812928083898,1.83191207039202,1.8315641226841974,1.8306470464408344,1.830346858258918,1.8296518414152165,1.8305657623500255,1.8317127015413592,1.831973730351024,1.83236338848283,1.83263231934206,1.8333105174751239,1.8345443878610805,1.8350804925200823,1.8351384304779796,1.8349220016198422,1.8353082436425219,1.8359980093236232,1.835712020249811,1.8355263077531523,1.8348965542562035,1.8342172597013369,1.8341394533811906,1.834137703064118,1.8349268410034818,1.8358274313172038,1.8360268507871405,1.8364996749391238,1.8358487584536578,1.8358728767497623,1.8357224966642776,1.8352774704449608,1.834820891854579,1.834550941670649,1.8348940857662694,1.8352045199694775,1.8347685674627288,1.8345335566990995,1.836811796064047,1.8381068814906232,1.838715689216053,1.838967203418787,1.8393226488369556,1.8402669847562865,1.8407274452994977,1.840854633321208,1.840815092595306,1.8405516438887017,1.8410038142560319,1.841091690724,1.8408584382033402,1.8409567968792802,1.840966848742107,1.8413249114785595,1.8403793618585795,1.839562632785125,1.8382627379915404,1.8381036633883971,1.8374463514191923,1.8376283468501773,1.8381855464828019,1.8383468250543025,1.8385069482764043,1.8390745493544782,1.8391220813410578,1.8391860813410583,1.8397807445228582,1.839785052508455,1.8410998358970816,1.8411373218675697,1.8405915000081077,1.839927885228721,1.8393505215908872,1.8393367527746696,1.8395239374605314,1.8396514177587764,1.8399912154553524,1.840090172810052,1.8393432933133895,1.8386862474550767,1.8381434755681738,1.837901836526027,1.8380425137439464,1.838368186277739,1.8387240888718073,1.8395597115287972,1.8396740357524355,1.8401400814608169,1.840143527324876,1.840143527324876,1.839681450358858,1.839660535441295,1.8396789995677587,1.8395590860531634,1.837338080794918,1.8358201417615414,1.8349247622794853,1.8344002287186496,1.8343411203488997,1.8345178637850161,1.8328909191944045,1.8316107334614478,1.8299171070454232,1.8291065525946337,1.8297179069470269,1.830800750486205,1.8311148144985223,1.8329318122386034,1.8349448887460518,1.8379355226235545,1.8381326216283098,1.8386659525282922,1.8390583878502076,1.8398894649876563,1.842366958100947,1.84538911733214,1.845444866732503,1.8460086098768997,1.8438402185193117,1.8403062135661177,1.8388313424281213,1.8356131422375086,1.8353812568309693,1.835280490263646,1.8355120919314714,1.8350355575684383,1.8333837190953457,1.8348785140125017,1.835439480090317,1.8355102725750319,1.8356481604012154,1.835314097875289,1.8359469115946416,1.8362479959002345,1.8371791834202043,1.836941008464887,1.8376278679201687,1.837656445203999,1.8374915725458556,1.8380778387002281,1.8381698947947813,1.8381702421676052,1.83818631289507,1.8385702174414331,1.8383340778285195,1.8381928651174104,1.8365704464464876,1.8352887065471692,1.8342850625405804,1.834345553931066,1.8350900854153613,1.8359507613010966,1.8369716664139657,1.839012064332661,1.8393060712705596,1.8394953640529241,1.839516724991377,1.839893621576257,1.8409845004488634,1.8413555526220697,1.8412418526124412,1.8413358459771483,1.8415805072010873,1.8408642798035948,1.841809989787745,1.8415289194045203,1.8415704101605188,1.8419999446146968,1.8422010727250349,1.8426294554191167,1.8427906393448252,1.8431197023294954,1.8434031878218167,1.8434817232138487,1.8431885931533676,1.84330289217485,1.8433870426562708,1.8424786660019619,1.8427131589236427,1.8427077332730373,1.842559448553724,1.8423570249251373,1.8423220476026572,1.8423235940536498,1.842198092875317,1.8414890918133069,1.8411423747045095,1.8418227924806516,1.842019408442542,1.842217608033894,1.8424447949692724,1.841323832289362,1.8397685469403133,1.8394910414961854,1.838921295035366,1.8370729177501115,1.8362979481302082,1.8354252417195915,1.8342317324623392,1.8345152907109281,1.834558783982654,1.8339456175694404,1.8334487033551563,1.8345403441439805,1.8359068983631026,1.8360491855473604,1.83654888876423,1.8366057834905787,1.8365689020656242,1.8367009906150877,1.8371778731149928,1.8379027649251485,1.8388229382871615,1.8381062466898723,1.8380868289551082,1.8376599011636507,1.837631267327565,1.8376311760007042,1.8378952911435356,1.8379140938519218,1.8379196803795104,1.8376139285345694,1.8370884570592694,1.8370512360796247,1.8358968876002457,1.8350395101052643,1.8351020419328345,1.8358027655445484,1.836488645491546,1.837216036772588,1.838988501909283,1.8395689870270775,1.839850467989077,1.8399124079913296,1.8400973202350204,1.8402197973002925,1.8404267739167286,1.840641124323643,1.8410042724871063,1.8406892780891897,1.840542909087139,1.8406464183031017,1.8403307383417071,1.8403445144558155,1.8403852001025351,1.8401509532024454,1.8390535430645905,1.8369121776642547,1.837267822064989,1.837272938734784,1.8374315214892665,1.8375768851607217,1.8376067843613695,1.837806187767262,1.837771228721694,1.8375424540574015,1.8377249631212613,1.8401144798506204,1.8404637845102556,1.8406268785635145,1.84040243066339,1.8403309343838,1.8402651667920076,1.8405335744980176,1.8409346893148342,1.8405582911122211,1.840506286485179,1.8408098651924116,1.8409437965934268,1.8408129442385628,1.8406851414494196,1.8409343641062723,1.8410779284021301,1.8420120954093584,1.8436147866571708,1.843793280597937,1.843917623244196,1.843552796486749,1.8434297115363096,1.843299439830209,1.842852400794739,1.8424938656952266,1.8424142762811242,1.8421043245327458,1.8417213247968476,1.8417339709601388,1.8415527697072183,1.8412156809190823,1.8410598188910918,1.8405692607588513,1.8390563146131906,1.8388014016359429,1.8388843819991432,1.8391752561727646,1.8397495170952687,1.8404655802111547,1.8411203844184225,1.8409896722693975,1.8413492148778887,1.8404851233161479,1.8392759785798973,1.8363830678718218,1.834108852761707,1.8329327545509715,1.8325475150226873,1.8320556181255376,1.8327656124097895]}],                        {\"template\":{\"data\":{\"bar\":[{\"error_x\":{\"color\":\"#2a3f5f\"},\"error_y\":{\"color\":\"#2a3f5f\"},\"marker\":{\"line\":{\"color\":\"#E5ECF6\",\"width\":0.5},\"pattern\":{\"fillmode\":\"overlay\",\"size\":10,\"solidity\":0.2}},\"type\":\"bar\"}],\"barpolar\":[{\"marker\":{\"line\":{\"color\":\"#E5ECF6\",\"width\":0.5},\"pattern\":{\"fillmode\":\"overlay\",\"size\":10,\"solidity\":0.2}},\"type\":\"barpolar\"}],\"carpet\":[{\"aaxis\":{\"endlinecolor\":\"#2a3f5f\",\"gridcolor\":\"white\",\"linecolor\":\"white\",\"minorgridcolor\":\"white\",\"startlinecolor\":\"#2a3f5f\"},\"baxis\":{\"endlinecolor\":\"#2a3f5f\",\"gridcolor\":\"white\",\"linecolor\":\"white\",\"minorgridcolor\":\"white\",\"startlinecolor\":\"#2a3f5f\"},\"type\":\"carpet\"}],\"choropleth\":[{\"colorbar\":{\"outlinewidth\":0,\"ticks\":\"\"},\"type\":\"choropleth\"}],\"contour\":[{\"colorbar\":{\"outlinewidth\":0,\"ticks\":\"\"},\"colorscale\":[[0.0,\"#0d0887\"],[0.1111111111111111,\"#46039f\"],[0.2222222222222222,\"#7201a8\"],[0.3333333333333333,\"#9c179e\"],[0.4444444444444444,\"#bd3786\"],[0.5555555555555556,\"#d8576b\"],[0.6666666666666666,\"#ed7953\"],[0.7777777777777778,\"#fb9f3a\"],[0.8888888888888888,\"#fdca26\"],[1.0,\"#f0f921\"]],\"type\":\"contour\"}],\"contourcarpet\":[{\"colorbar\":{\"outlinewidth\":0,\"ticks\":\"\"},\"type\":\"contourcarpet\"}],\"heatmap\":[{\"colorbar\":{\"outlinewidth\":0,\"ticks\":\"\"},\"colorscale\":[[0.0,\"#0d0887\"],[0.1111111111111111,\"#46039f\"],[0.2222222222222222,\"#7201a8\"],[0.3333333333333333,\"#9c179e\"],[0.4444444444444444,\"#bd3786\"],[0.5555555555555556,\"#d8576b\"],[0.6666666666666666,\"#ed7953\"],[0.7777777777777778,\"#fb9f3a\"],[0.8888888888888888,\"#fdca26\"],[1.0,\"#f0f921\"]],\"type\":\"heatmap\"}],\"heatmapgl\":[{\"colorbar\":{\"outlinewidth\":0,\"ticks\":\"\"},\"colorscale\":[[0.0,\"#0d0887\"],[0.1111111111111111,\"#46039f\"],[0.2222222222222222,\"#7201a8\"],[0.3333333333333333,\"#9c179e\"],[0.4444444444444444,\"#bd3786\"],[0.5555555555555556,\"#d8576b\"],[0.6666666666666666,\"#ed7953\"],[0.7777777777777778,\"#fb9f3a\"],[0.8888888888888888,\"#fdca26\"],[1.0,\"#f0f921\"]],\"type\":\"heatmapgl\"}],\"histogram\":[{\"marker\":{\"pattern\":{\"fillmode\":\"overlay\",\"size\":10,\"solidity\":0.2}},\"type\":\"histogram\"}],\"histogram2d\":[{\"colorbar\":{\"outlinewidth\":0,\"ticks\":\"\"},\"colorscale\":[[0.0,\"#0d0887\"],[0.1111111111111111,\"#46039f\"],[0.2222222222222222,\"#7201a8\"],[0.3333333333333333,\"#9c179e\"],[0.4444444444444444,\"#bd3786\"],[0.5555555555555556,\"#d8576b\"],[0.6666666666666666,\"#ed7953\"],[0.7777777777777778,\"#fb9f3a\"],[0.8888888888888888,\"#fdca26\"],[1.0,\"#f0f921\"]],\"type\":\"histogram2d\"}],\"histogram2dcontour\":[{\"colorbar\":{\"outlinewidth\":0,\"ticks\":\"\"},\"colorscale\":[[0.0,\"#0d0887\"],[0.1111111111111111,\"#46039f\"],[0.2222222222222222,\"#7201a8\"],[0.3333333333333333,\"#9c179e\"],[0.4444444444444444,\"#bd3786\"],[0.5555555555555556,\"#d8576b\"],[0.6666666666666666,\"#ed7953\"],[0.7777777777777778,\"#fb9f3a\"],[0.8888888888888888,\"#fdca26\"],[1.0,\"#f0f921\"]],\"type\":\"histogram2dcontour\"}],\"mesh3d\":[{\"colorbar\":{\"outlinewidth\":0,\"ticks\":\"\"},\"type\":\"mesh3d\"}],\"parcoords\":[{\"line\":{\"colorbar\":{\"outlinewidth\":0,\"ticks\":\"\"}},\"type\":\"parcoords\"}],\"pie\":[{\"automargin\":true,\"type\":\"pie\"}],\"scatter\":[{\"marker\":{\"colorbar\":{\"outlinewidth\":0,\"ticks\":\"\"}},\"type\":\"scatter\"}],\"scatter3d\":[{\"line\":{\"colorbar\":{\"outlinewidth\":0,\"ticks\":\"\"}},\"marker\":{\"colorbar\":{\"outlinewidth\":0,\"ticks\":\"\"}},\"type\":\"scatter3d\"}],\"scattercarpet\":[{\"marker\":{\"colorbar\":{\"outlinewidth\":0,\"ticks\":\"\"}},\"type\":\"scattercarpet\"}],\"scattergeo\":[{\"marker\":{\"colorbar\":{\"outlinewidth\":0,\"ticks\":\"\"}},\"type\":\"scattergeo\"}],\"scattergl\":[{\"marker\":{\"colorbar\":{\"outlinewidth\":0,\"ticks\":\"\"}},\"type\":\"scattergl\"}],\"scattermapbox\":[{\"marker\":{\"colorbar\":{\"outlinewidth\":0,\"ticks\":\"\"}},\"type\":\"scattermapbox\"}],\"scatterpolar\":[{\"marker\":{\"colorbar\":{\"outlinewidth\":0,\"ticks\":\"\"}},\"type\":\"scatterpolar\"}],\"scatterpolargl\":[{\"marker\":{\"colorbar\":{\"outlinewidth\":0,\"ticks\":\"\"}},\"type\":\"scatterpolargl\"}],\"scatterternary\":[{\"marker\":{\"colorbar\":{\"outlinewidth\":0,\"ticks\":\"\"}},\"type\":\"scatterternary\"}],\"surface\":[{\"colorbar\":{\"outlinewidth\":0,\"ticks\":\"\"},\"colorscale\":[[0.0,\"#0d0887\"],[0.1111111111111111,\"#46039f\"],[0.2222222222222222,\"#7201a8\"],[0.3333333333333333,\"#9c179e\"],[0.4444444444444444,\"#bd3786\"],[0.5555555555555556,\"#d8576b\"],[0.6666666666666666,\"#ed7953\"],[0.7777777777777778,\"#fb9f3a\"],[0.8888888888888888,\"#fdca26\"],[1.0,\"#f0f921\"]],\"type\":\"surface\"}],\"table\":[{\"cells\":{\"fill\":{\"color\":\"#EBF0F8\"},\"line\":{\"color\":\"white\"}},\"header\":{\"fill\":{\"color\":\"#C8D4E3\"},\"line\":{\"color\":\"white\"}},\"type\":\"table\"}]},\"layout\":{\"annotationdefaults\":{\"arrowcolor\":\"#2a3f5f\",\"arrowhead\":0,\"arrowwidth\":1},\"autotypenumbers\":\"strict\",\"coloraxis\":{\"colorbar\":{\"outlinewidth\":0,\"ticks\":\"\"}},\"colorscale\":{\"diverging\":[[0,\"#8e0152\"],[0.1,\"#c51b7d\"],[0.2,\"#de77ae\"],[0.3,\"#f1b6da\"],[0.4,\"#fde0ef\"],[0.5,\"#f7f7f7\"],[0.6,\"#e6f5d0\"],[0.7,\"#b8e186\"],[0.8,\"#7fbc41\"],[0.9,\"#4d9221\"],[1,\"#276419\"]],\"sequential\":[[0.0,\"#0d0887\"],[0.1111111111111111,\"#46039f\"],[0.2222222222222222,\"#7201a8\"],[0.3333333333333333,\"#9c179e\"],[0.4444444444444444,\"#bd3786\"],[0.5555555555555556,\"#d8576b\"],[0.6666666666666666,\"#ed7953\"],[0.7777777777777778,\"#fb9f3a\"],[0.8888888888888888,\"#fdca26\"],[1.0,\"#f0f921\"]],\"sequentialminus\":[[0.0,\"#0d0887\"],[0.1111111111111111,\"#46039f\"],[0.2222222222222222,\"#7201a8\"],[0.3333333333333333,\"#9c179e\"],[0.4444444444444444,\"#bd3786\"],[0.5555555555555556,\"#d8576b\"],[0.6666666666666666,\"#ed7953\"],[0.7777777777777778,\"#fb9f3a\"],[0.8888888888888888,\"#fdca26\"],[1.0,\"#f0f921\"]]},\"colorway\":[\"#636efa\",\"#EF553B\",\"#00cc96\",\"#ab63fa\",\"#FFA15A\",\"#19d3f3\",\"#FF6692\",\"#B6E880\",\"#FF97FF\",\"#FECB52\"],\"font\":{\"color\":\"#2a3f5f\"},\"geo\":{\"bgcolor\":\"white\",\"lakecolor\":\"white\",\"landcolor\":\"#E5ECF6\",\"showlakes\":true,\"showland\":true,\"subunitcolor\":\"white\"},\"hoverlabel\":{\"align\":\"left\"},\"hovermode\":\"closest\",\"mapbox\":{\"style\":\"light\"},\"paper_bgcolor\":\"white\",\"plot_bgcolor\":\"#E5ECF6\",\"polar\":{\"angularaxis\":{\"gridcolor\":\"white\",\"linecolor\":\"white\",\"ticks\":\"\"},\"bgcolor\":\"#E5ECF6\",\"radialaxis\":{\"gridcolor\":\"white\",\"linecolor\":\"white\",\"ticks\":\"\"}},\"scene\":{\"xaxis\":{\"backgroundcolor\":\"#E5ECF6\",\"gridcolor\":\"white\",\"gridwidth\":2,\"linecolor\":\"white\",\"showbackground\":true,\"ticks\":\"\",\"zerolinecolor\":\"white\"},\"yaxis\":{\"backgroundcolor\":\"#E5ECF6\",\"gridcolor\":\"white\",\"gridwidth\":2,\"linecolor\":\"white\",\"showbackground\":true,\"ticks\":\"\",\"zerolinecolor\":\"white\"},\"zaxis\":{\"backgroundcolor\":\"#E5ECF6\",\"gridcolor\":\"white\",\"gridwidth\":2,\"linecolor\":\"white\",\"showbackground\":true,\"ticks\":\"\",\"zerolinecolor\":\"white\"}},\"shapedefaults\":{\"line\":{\"color\":\"#2a3f5f\"}},\"ternary\":{\"aaxis\":{\"gridcolor\":\"white\",\"linecolor\":\"white\",\"ticks\":\"\"},\"baxis\":{\"gridcolor\":\"white\",\"linecolor\":\"white\",\"ticks\":\"\"},\"bgcolor\":\"#E5ECF6\",\"caxis\":{\"gridcolor\":\"white\",\"linecolor\":\"white\",\"ticks\":\"\"}},\"title\":{\"x\":0.05},\"xaxis\":{\"automargin\":true,\"gridcolor\":\"white\",\"linecolor\":\"white\",\"ticks\":\"\",\"title\":{\"standoff\":15},\"zerolinecolor\":\"white\",\"zerolinewidth\":2},\"yaxis\":{\"automargin\":true,\"gridcolor\":\"white\",\"linecolor\":\"white\",\"ticks\":\"\",\"title\":{\"standoff\":15},\"zerolinecolor\":\"white\",\"zerolinewidth\":2}}},\"title\":{\"text\":\"Bandas Bollinger Prices:GBP-AUD\"},\"xaxis\":{\"rangebreaks\":[{\"bounds\":[\"sat\",\"mon\"]}]}},                        {\"responsive\": true}                    ).then(function(){\n",
              "                            \n",
              "var gd = document.getElementById('f380b179-1594-44a3-8dec-1cafb7ce96a1');\n",
              "var x = new MutationObserver(function (mutations, observer) {{\n",
              "        var display = window.getComputedStyle(gd).display;\n",
              "        if (!display || display === 'none') {{\n",
              "            console.log([gd, 'removed!']);\n",
              "            Plotly.purge(gd);\n",
              "            observer.disconnect();\n",
              "        }}\n",
              "}});\n",
              "\n",
              "// Listen for the removal of the full notebook cells\n",
              "var notebookContainer = gd.closest('#notebook-container');\n",
              "if (notebookContainer) {{\n",
              "    x.observe(notebookContainer, {childList: true});\n",
              "}}\n",
              "\n",
              "// Listen for the clearing of the current output cell\n",
              "var outputEl = gd.closest('.output');\n",
              "if (outputEl) {{\n",
              "    x.observe(outputEl, {childList: true});\n",
              "}}\n",
              "\n",
              "                        })                };                            </script>        </div>\n",
              "</body>\n",
              "</html>"
            ]
          },
          "metadata": {
            "tags": []
          }
        }
      ]
    },
    {
      "cell_type": "code",
      "metadata": {
        "id": "A1_UjFcB6HF9"
      },
      "source": [
        "import chart_studio as ch"
      ],
      "execution_count": null,
      "outputs": []
    },
    {
      "cell_type": "code",
      "metadata": {
        "colab": {
          "base_uri": "https://localhost:8080/",
          "height": 141
        },
        "id": "SlL8P2W_kx0c",
        "outputId": "959b8e97-dcad-4e7e-89f0-10289d9094f6"
      },
      "source": [
        "data_intraday[\"TimeDate\"] = data_intraday.index\n",
        "data_intraday.head(2)\n"
      ],
      "execution_count": null,
      "outputs": [
        {
          "output_type": "execute_result",
          "data": {
            "text/html": [
              "<div>\n",
              "<style scoped>\n",
              "    .dataframe tbody tr th:only-of-type {\n",
              "        vertical-align: middle;\n",
              "    }\n",
              "\n",
              "    .dataframe tbody tr th {\n",
              "        vertical-align: top;\n",
              "    }\n",
              "\n",
              "    .dataframe thead th {\n",
              "        text-align: right;\n",
              "    }\n",
              "</style>\n",
              "<table border=\"1\" class=\"dataframe\">\n",
              "  <thead>\n",
              "    <tr style=\"text-align: right;\">\n",
              "      <th></th>\n",
              "      <th>open</th>\n",
              "      <th>high</th>\n",
              "      <th>low</th>\n",
              "      <th>close</th>\n",
              "      <th>TradeDate</th>\n",
              "      <th>time</th>\n",
              "      <th>date</th>\n",
              "      <th>LOGRET_1</th>\n",
              "      <th>PCTRET_1</th>\n",
              "      <th>close_return</th>\n",
              "      <th>close_log_return</th>\n",
              "      <th>intra_return</th>\n",
              "      <th>MVS50</th>\n",
              "      <th>MVS30</th>\n",
              "      <th>MVS100</th>\n",
              "      <th>MVS10</th>\n",
              "      <th>PosibleCompra</th>\n",
              "      <th>PosibleVenta</th>\n",
              "      <th>TimeDate</th>\n",
              "    </tr>\n",
              "  </thead>\n",
              "  <tbody>\n",
              "    <tr>\n",
              "      <th>0</th>\n",
              "      <td>1.84369</td>\n",
              "      <td>1.84413</td>\n",
              "      <td>1.84316</td>\n",
              "      <td>1.84380</td>\n",
              "      <td>2021-06-17</td>\n",
              "      <td>19:30:00</td>\n",
              "      <td>2021-06-17 19:30:00</td>\n",
              "      <td>NaN</td>\n",
              "      <td>NaN</td>\n",
              "      <td>NaN</td>\n",
              "      <td>NaN</td>\n",
              "      <td>NaN</td>\n",
              "      <td>NaN</td>\n",
              "      <td>NaN</td>\n",
              "      <td>NaN</td>\n",
              "      <td>NaN</td>\n",
              "      <td>NaN</td>\n",
              "      <td>NaN</td>\n",
              "      <td>0</td>\n",
              "    </tr>\n",
              "    <tr>\n",
              "      <th>1</th>\n",
              "      <td>1.84378</td>\n",
              "      <td>1.84443</td>\n",
              "      <td>1.84331</td>\n",
              "      <td>1.84417</td>\n",
              "      <td>2021-06-17</td>\n",
              "      <td>19:45:00</td>\n",
              "      <td>2021-06-17 19:45:00</td>\n",
              "      <td>0.000201</td>\n",
              "      <td>0.000201</td>\n",
              "      <td>0.020067</td>\n",
              "      <td>0.020065</td>\n",
              "      <td>0.020067</td>\n",
              "      <td>NaN</td>\n",
              "      <td>NaN</td>\n",
              "      <td>NaN</td>\n",
              "      <td>NaN</td>\n",
              "      <td>NaN</td>\n",
              "      <td>NaN</td>\n",
              "      <td>1</td>\n",
              "    </tr>\n",
              "  </tbody>\n",
              "</table>\n",
              "</div>"
            ],
            "text/plain": [
              "      open     high      low    close   TradeDate      time  \\\n",
              "0  1.84369  1.84413  1.84316  1.84380  2021-06-17  19:30:00   \n",
              "1  1.84378  1.84443  1.84331  1.84417  2021-06-17  19:45:00   \n",
              "\n",
              "                 date  LOGRET_1  PCTRET_1  close_return  close_log_return  \\\n",
              "0 2021-06-17 19:30:00       NaN       NaN           NaN               NaN   \n",
              "1 2021-06-17 19:45:00  0.000201  0.000201      0.020067          0.020065   \n",
              "\n",
              "   intra_return  MVS50  MVS30  MVS100  MVS10  PosibleCompra  PosibleVenta  \\\n",
              "0           NaN    NaN    NaN     NaN    NaN            NaN           NaN   \n",
              "1      0.020067    NaN    NaN     NaN    NaN            NaN           NaN   \n",
              "\n",
              "   TimeDate  \n",
              "0         0  \n",
              "1         1  "
            ]
          },
          "metadata": {
            "tags": []
          },
          "execution_count": 65
        }
      ]
    },
    {
      "cell_type": "code",
      "metadata": {
        "colab": {
          "base_uri": "https://localhost:8080/",
          "height": 138
        },
        "id": "_i5AEFcaitd9",
        "outputId": "3f182862-126d-463f-cf58-ff2f3481dcea"
      },
      "source": [
        "\n",
        "\n",
        "df_long=pd.melt(data_intraday, id_vars=['TimeDate','date'], value_vars=['MVS30', 'MVS100'])\n",
        "\n",
        "\n",
        "df_long.head(3)"
      ],
      "execution_count": null,
      "outputs": [
        {
          "output_type": "execute_result",
          "data": {
            "text/html": [
              "<div>\n",
              "<style scoped>\n",
              "    .dataframe tbody tr th:only-of-type {\n",
              "        vertical-align: middle;\n",
              "    }\n",
              "\n",
              "    .dataframe tbody tr th {\n",
              "        vertical-align: top;\n",
              "    }\n",
              "\n",
              "    .dataframe thead th {\n",
              "        text-align: right;\n",
              "    }\n",
              "</style>\n",
              "<table border=\"1\" class=\"dataframe\">\n",
              "  <thead>\n",
              "    <tr style=\"text-align: right;\">\n",
              "      <th></th>\n",
              "      <th>TimeDate</th>\n",
              "      <th>date</th>\n",
              "      <th>variable</th>\n",
              "      <th>value</th>\n",
              "    </tr>\n",
              "  </thead>\n",
              "  <tbody>\n",
              "    <tr>\n",
              "      <th>0</th>\n",
              "      <td>0</td>\n",
              "      <td>2021-06-17 19:30:00</td>\n",
              "      <td>MVS30</td>\n",
              "      <td>NaN</td>\n",
              "    </tr>\n",
              "    <tr>\n",
              "      <th>1</th>\n",
              "      <td>1</td>\n",
              "      <td>2021-06-17 19:45:00</td>\n",
              "      <td>MVS30</td>\n",
              "      <td>NaN</td>\n",
              "    </tr>\n",
              "    <tr>\n",
              "      <th>2</th>\n",
              "      <td>2</td>\n",
              "      <td>2021-06-17 20:00:00</td>\n",
              "      <td>MVS30</td>\n",
              "      <td>NaN</td>\n",
              "    </tr>\n",
              "  </tbody>\n",
              "</table>\n",
              "</div>"
            ],
            "text/plain": [
              "   TimeDate                date variable  value\n",
              "0         0 2021-06-17 19:30:00    MVS30    NaN\n",
              "1         1 2021-06-17 19:45:00    MVS30    NaN\n",
              "2         2 2021-06-17 20:00:00    MVS30    NaN"
            ]
          },
          "metadata": {
            "tags": []
          },
          "execution_count": 66
        }
      ]
    },
    {
      "cell_type": "markdown",
      "metadata": {
        "id": "URJrTFHeQVnB"
      },
      "source": [
        "PARA IMPRIMIR VELAS SIN EL RANGO DE FECHAS DE FIN DE SEMANA"
      ]
    },
    {
      "cell_type": "code",
      "metadata": {
        "colab": {
          "base_uri": "https://localhost:8080/",
          "height": 542
        },
        "id": "XSwA6n76Uolr",
        "outputId": "faa6ff62-c11d-43b6-f847-53adb5713e02"
      },
      "source": [
        "\n",
        "layout = go.Layout(\n",
        "    xaxis=dict(rangebreaks=[\n",
        "        dict(bounds=[\"sat\", \"mon\"])#, # hide weekends\n",
        "        ],\n",
        "    \n",
        "    ),\n",
        "    title=go.layout.Title(text=\"A Figure Specified By A Graph Object\")   \n",
        ")\n",
        "\n",
        "trace = go.Candlestick(x=df_trunc.date, open=df_trunc.open, high=df_trunc.high, low=df_trunc.low, close=df_trunc.close,\n",
        "                       name=titulo)\n",
        "\n",
        "data = [trace]\n",
        "\n",
        "fig = go.Figure(data=data,layout=layout)\n",
        "\n",
        "fig.add_trace(go.Scatter(x=df_trunc.date, y=df_trunc.MVS30, mode='lines',  name='MVS30',line=dict(color='black')))\n",
        "fig.add_trace(go.Scatter(x=df_trunc.date, y=df_trunc.MVS100, mode='lines',  name='MVS100',line=dict(color='blue')))\n",
        "\n",
        "fig.update_xaxes(\n",
        "    rangebreaks=[\n",
        "        dict(bounds=[\"sat\", \"mon\"]) #, #hide weekends\n",
        "    ]\n",
        ")\n",
        "\n",
        "fig.show()\n",
        "#py.offline.plot(fig, filename='USDCAD.html')"
      ],
      "execution_count": null,
      "outputs": [
        {
          "output_type": "display_data",
          "data": {
            "text/html": [
              "<html>\n",
              "<head><meta charset=\"utf-8\" /></head>\n",
              "<body>\n",
              "    <div>            <script src=\"https://cdnjs.cloudflare.com/ajax/libs/mathjax/2.7.5/MathJax.js?config=TeX-AMS-MML_SVG\"></script><script type=\"text/javascript\">if (window.MathJax) {MathJax.Hub.Config({SVG: {font: \"STIX-Web\"}});}</script>                <script type=\"text/javascript\">window.PlotlyConfig = {MathJaxConfig: 'local'};</script>\n",
              "        <script src=\"https://cdn.plot.ly/plotly-2.1.0.min.js\"></script>                <div id=\"97128700-d807-4420-99fa-40be26c8dd73\" class=\"plotly-graph-div\" style=\"height:525px; width:100%;\"></div>            <script type=\"text/javascript\">                                    window.PLOTLYENV=window.PLOTLYENV || {};                                    if (document.getElementById(\"97128700-d807-4420-99fa-40be26c8dd73\")) {                    Plotly.newPlot(                        \"97128700-d807-4420-99fa-40be26c8dd73\",                        [{\"close\":[1.8438,1.84417,1.84424,1.84429,1.84454,1.84388,1.84101,1.84305,1.84288,1.84246,1.84296,1.84379,1.84344,1.84372,1.84295,1.84357,1.84385,1.8439,1.84426,1.84514,1.84387,1.84522,1.84536,1.84512,1.84433,1.84446,1.84569,1.84538,1.84577,1.84522,1.84447,1.84403,1.84395,1.84392,1.84377,1.84421,1.84384,1.845,1.84633,1.84983,1.84742,1.84511,1.84363,1.84324,1.84233,1.84253,1.84179,1.84032,1.84058,1.84041,1.84212,1.84187,1.84147,1.84144,1.84073,1.84133,1.84222,1.84251,1.84238,1.84237,1.84346,1.84372,1.84437,1.84512,1.8457,1.84564,1.84517,1.84576,1.84849,1.84532,1.8439,1.84657,1.84637,1.84613,1.84592,1.84412,1.84502,1.84528,1.84479,1.84473,1.84348,1.84345,1.84243,1.84215,1.84263,1.84374,1.84317,1.843,1.84377,1.84237,1.84177,1.84198,1.8424,1.84256,1.84265,1.84197,1.84208,1.84216,1.84314,1.84388,1.84393,1.84414,1.84574,1.84489,1.84489,1.84489,1.84178,1.84129,1.84127,1.84059,1.84194,1.84297,1.84135,1.84154,1.84101,1.83773,1.83793,1.83862,1.83914,1.8405,1.84095,1.84156,1.84135,1.84163,1.84221,1.84159,1.84156,1.84307,1.84346,1.84103,1.84216,1.84072,1.8411,1.84149,1.84349,1.84501,1.84384,1.84382,1.84475,1.8457,1.84619,1.84583,1.84569,1.84566,1.84606,1.84677,1.84616,1.84685,1.84691,1.84735,1.84657,1.84724,1.84674,1.84696,1.84563,1.84636,1.84594,1.84701,1.84747,1.84771,1.84795,1.84832,1.84762,1.84745,1.84865,1.84661,1.84744,1.84913,1.84855,1.84818,1.84832,1.84802,1.84824,1.84773,1.84817,1.8474,1.84723,1.84776,1.84769,1.8472,1.84779,1.84788,1.84767,1.84741,1.84836,1.84774,1.84725,1.84693,1.8469,1.84679,1.84772,1.84747,1.84852,1.84824,1.84789,1.84743,1.84689,1.84739,1.84739,1.84742,1.84667,1.84674,1.84793,1.8489,1.84844,1.84908,1.84853,1.84841,1.84831,1.84836,1.84909,1.84951,1.84996,1.85141,1.85193,1.85171,1.8522,1.85201,1.85119,1.85038,1.84979,1.85016,1.84989,1.84938,1.85008,1.85027,1.85046,1.85062,1.85002,1.8501,1.8488,1.8491,1.8493,1.84975,1.85039,1.85021,1.85001,1.85009,1.84906,1.8489,1.84974,1.84999,1.84938,1.84846,1.84829,1.84844,1.84814,1.84768,1.84752,1.84802,1.84876,1.84855,1.85063,1.85088,1.84977,1.84838,1.84905,1.84842,1.85063,1.84961,1.85051,1.85099,1.85122,1.84985,1.84947,1.849,1.84925,1.8492,1.84872,1.84845,1.84837,1.84854,1.84808,1.84763,1.84742,1.84767,1.84689,1.8459,1.84551,1.84595,1.84638,1.84603,1.84624,1.84618,1.84615,1.84564,1.84642,1.84654,1.84668,1.84562,1.84625,1.84634,1.84645,1.847,1.84693,1.84712,1.84729,1.84624,1.84644,1.84597,1.84701,1.84685,1.84658,1.8468,1.84612,1.84703,1.84666,1.84708,1.8474,1.84625,1.84636,1.84589,1.84583,1.84583,1.84576,1.84666,1.84666,1.84651,1.84655,1.84645,1.84633,1.84675,1.84786,1.84874,1.84926,1.84814,1.84881,1.85006,1.85078,1.85123,1.85064,1.84862,1.84691,1.84658,1.8469,1.84606,1.84682,1.84541,1.84623,1.84717,1.84381,1.84424,1.84516,1.84442,1.84537,1.8446,1.8442,1.8449,1.84488,1.84509,1.84506,1.84594,1.84591,1.8438,1.84229,1.84277,1.84212,1.8408,1.84095,1.84039,1.84093,1.84086,1.84169,1.8423,1.84271,1.84288,1.84272,1.84303,1.84379,1.84358,1.8432,1.84327,1.84326,1.84394,1.84378,1.84382,1.8428,1.84312,1.84349,1.84323,1.84333,1.84324,1.84277,1.84227,1.84302,1.84254,1.84305,1.84304,1.84251,1.84349,1.8435,1.84364,1.84292,1.84376,1.84411,1.84407,1.84414,1.84319,1.84315,1.84327,1.84289,1.84251,1.84313,1.84317,1.84291,1.84249,1.84309,1.84261,1.84266,1.84277,1.84237,1.84291,1.8431,1.8429,1.84293,1.84231,1.84309,1.84367,1.84379,1.84312,1.84254,1.84235,1.84144,1.84167,1.8422,1.84234,1.84293,1.84384,1.84446,1.84408,1.84405,1.84417,1.84455,1.84319,1.84296,1.843,1.84283,1.8427,1.8428,1.83719,1.83767,1.83734,1.83567,1.83419,1.83399,1.83451,1.83582,1.83483,1.83579,1.83557,1.83485,1.83526,1.83507,1.83538,1.83424,1.83475,1.83467,1.83523,1.83635,1.83578,1.83533,1.83613,1.83566,1.83537,1.83514,1.83569,1.83608,1.83654,1.83699,1.83721,1.83664,1.8362,1.8361,1.83635,1.83677,1.83634,1.8363,1.83618,1.83455,1.83507,1.83463,1.83535,1.83536,1.83531,1.83495,1.83556,1.83558,1.83569,1.83595,1.83547,1.83543,1.83366,1.83375,1.83506,1.8346,1.83476,1.83427,1.83508,1.83581,1.83525,1.83496,1.83504,1.83553,1.83572,1.83505,1.83497,1.83442,1.83422,1.83404,1.8342,1.83453,1.83352,1.8337,1.83436,1.834,1.83497,1.83444,1.83336,1.83307,1.83104,1.83101,1.83152,1.8301,1.82965,1.83036,1.83067,1.83097,1.83081,1.83166,1.83184,1.83225,1.83195,1.83117,1.83234,1.83043,1.83166,1.83118,1.83004,1.83,1.82963,1.82785,1.8278,1.82712,1.82683,1.82769,1.82818,1.8299,1.83112,1.83195,1.83086,1.83016,1.83086,1.83028,1.82916,1.82987,1.83041,1.83122,1.83116,1.83111,1.83082,1.83079,1.83061,1.83073,1.83037,1.82925,1.82908,1.82905,1.82889,1.82784,1.82792,1.82845,1.82811,1.82796,1.82791,1.82813,1.82908,1.82908,1.82908,1.82964,1.83012,1.82988,1.82997,1.83015,1.82935,1.83005,1.83024,1.83059,1.83134,1.83015,1.82995,1.83027,1.8303,1.83021,1.83004,1.83032,1.83054,1.83024,1.83049,1.83029,1.83001,1.83043,1.82982,1.83027,1.83122,1.83137,1.832,1.8329,1.83323,1.8337,1.83415,1.83463,1.83318,1.83414,1.83444,1.83591,1.83518,1.83442,1.83493,1.83489,1.83433,1.83371,1.83371,1.83394,1.83372,1.83437,1.83541,1.83718,1.83801,1.83845,1.83848,1.8376,1.8384,1.83768,1.83783,1.83863,1.83905,1.83817,1.83624,1.83477,1.83395,1.83427,1.83407,1.83466,1.83552,1.83515,1.83579,1.8352,1.83582,1.83526,1.83516,1.83499,1.83489,1.83486,1.83467,1.83424,1.83436,1.83406,1.83421,1.83384,1.83381,1.83428,1.83427,1.83389,1.83328,1.83379,1.83353,1.83351,1.83436,1.83416,1.83406,1.83438,1.83393,1.83411,1.83408,1.83373,1.83444,1.83426,1.83362,1.83366,1.83338,1.83324,1.83404,1.83441,1.83491,1.83485,1.83503,1.83513,1.83609,1.83558,1.83578,1.83513,1.83488,1.83545,1.8352,1.8359,1.83543,1.83513,1.835,1.83445,1.83477,1.83425,1.83458,1.83529,1.83568,1.83598,1.83612,1.83625,1.83725,1.83751,1.83838,1.83755,1.83744,1.83861,1.83866,1.83914,1.83912,1.83888,1.83877,1.83758,1.83777,1.83874,1.83869,1.83951,1.83951,1.84025,1.84058,1.8399,1.83998,1.83854,1.83881,1.84022,1.84,1.83849,1.83971,1.84059,1.84123,1.84124,1.84115,1.84175,1.8422,1.84253,1.8429,1.84174,1.84245,1.84271,1.84275,1.84299,1.84248,1.84258,1.84276,1.84294,1.84336,1.84359,1.84337,1.84377,1.84306,1.84304,1.84335,1.84182,1.84176,1.84112,1.84208,1.84101,1.84254,1.84238,1.8426,1.84266,1.84218,1.84215,1.8424,1.84189,1.8421,1.84229,1.8424,1.84316,1.84353,1.84373,1.84337,1.84314,1.84299,1.84231,1.84222,1.84151,1.84149,1.84148,1.84137,1.84122,1.84137,1.84113,1.84193,1.84103,1.84131,1.84135,1.84149,1.84216,1.84174,1.84126,1.8411,1.83928,1.83896,1.83919,1.83934,1.83994,1.84063,1.84386,1.84383,1.8448,1.84436,1.84364,1.84448,1.8469,1.84643,1.84727,1.84697,1.8472,1.84746,1.84681,1.84739,1.84751,1.84693,1.84715,1.84738,1.84534,1.84353,1.84401,1.84173,1.84451,1.84387,1.84359,1.8422,1.83989,1.84164,1.8418,1.84269,1.84175,1.84104,1.84107,1.84047,1.8409,1.84023,1.84093,1.84137,1.84216,1.84194,1.84142,1.84153,1.84152,1.84119,1.84243,1.84338,1.84476,1.84533,1.84557,1.84463,1.8441,1.84329,1.84316,1.84411,1.84274,1.84385,1.84387,1.84361,1.84404,1.84393,1.84432,1.84417,1.84433,1.84524,1.84473,1.84527,1.84509,1.84512,1.84518,1.8445,1.84461,1.84459,1.84473,1.84484,1.84431,1.84462,1.84472,1.84357,1.84456,1.84446,1.84504,1.84521,1.84494,1.84456,1.84537,1.84614,1.84606,1.84629,1.84603,1.84659,1.84575,1.84394,1.8432,1.8441,1.84391,1.84207,1.8425,1.8416,1.8406,1.84059,1.83994,1.83986,1.83986,1.842,1.84201,1.84162,1.84143,1.84137,1.84179,1.84129,1.84066,1.84078,1.84072,1.84001,1.84035,1.84224,1.84077,1.84081,1.84103,1.84122,1.84068,1.8419,1.84247,1.84292,1.84437,1.84417,1.84404,1.84251,1.84255,1.84322,1.84313,1.84271,1.84307,1.84377,1.84408,1.84395,1.84327,1.84282,1.84368,1.84265,1.8428,1.84288,1.84252,1.84286,1.84228,1.84176,1.84112,1.83993,1.84159,1.84169,1.8419,1.84257,1.84243,1.84245,1.8424,1.84285,1.84281,1.84245,1.84293,1.84338,1.84387,1.84347,1.8438,1.84312,1.84321,1.84432,1.84429,1.84466,1.8444],\"high\":[1.84413,1.84443,1.84467,1.84459,1.84473,1.84453,1.84428,1.8439,1.8436,1.84337,1.84402,1.84394,1.84417,1.84397,1.84377,1.84398,1.84423,1.84446,1.84448,1.84606,1.84552,1.84537,1.8456,1.84555,1.8455,1.84488,1.84583,1.84597,1.84595,1.84601,1.84535,1.84473,1.84422,1.84431,1.84418,1.84479,1.84457,1.84524,1.84669,1.85002,1.85022,1.84755,1.84559,1.84481,1.84348,1.843,1.84285,1.84188,1.84204,1.84089,1.84221,1.84225,1.84266,1.84254,1.84187,1.84169,1.84322,1.84303,1.8435,1.8431,1.84391,1.84428,1.84466,1.84606,1.84667,1.84593,1.84576,1.84615,1.8485,1.84852,1.84603,1.84681,1.84724,1.8474,1.84737,1.84688,1.84604,1.84624,1.84596,1.84593,1.84485,1.84408,1.84367,1.84254,1.84293,1.84397,1.8441,1.84354,1.84388,1.84386,1.84248,1.84218,1.8429,1.84281,1.84297,1.84276,1.84231,1.84291,1.84325,1.84389,1.84423,1.84464,1.84589,1.84489,1.84489,1.84489,1.84213,1.84256,1.84205,1.84162,1.84232,1.8436,1.84333,1.84209,1.84204,1.84184,1.83822,1.83925,1.83934,1.8406,1.84159,1.84232,1.84284,1.84239,1.8423,1.84228,1.8427,1.8433,1.84374,1.84374,1.84241,1.84237,1.84135,1.84233,1.84367,1.84527,1.84567,1.8443,1.84507,1.84639,1.84632,1.84685,1.84643,1.84656,1.84656,1.84799,1.84739,1.84689,1.84785,1.8474,1.84813,1.84743,1.84724,1.84751,1.84698,1.84686,1.84701,1.8474,1.84752,1.84806,1.84816,1.84912,1.84925,1.84812,1.84916,1.84873,1.84767,1.84915,1.84922,1.84955,1.8487,1.84836,1.84839,1.84846,1.84875,1.84819,1.84775,1.84797,1.84815,1.84812,1.84788,1.84798,1.84824,1.84789,1.84851,1.84863,1.84809,1.8475,1.84718,1.84705,1.8479,1.84909,1.84955,1.84889,1.84887,1.84815,1.84758,1.84764,1.84767,1.84773,1.84754,1.84682,1.84809,1.84914,1.84903,1.84911,1.84932,1.84899,1.84882,1.84901,1.84961,1.84984,1.85022,1.85155,1.85237,1.85214,1.85225,1.85233,1.85218,1.85124,1.8505,1.85026,1.85017,1.85009,1.85023,1.85082,1.85077,1.85174,1.85062,1.85058,1.85017,1.84941,1.84946,1.85048,1.85052,1.85115,1.85099,1.85037,1.85076,1.84993,1.84981,1.85019,1.85013,1.84945,1.84865,1.84887,1.84945,1.84865,1.84792,1.84874,1.84917,1.84969,1.85088,1.85109,1.85105,1.85064,1.84911,1.84921,1.85126,1.85117,1.85067,1.85162,1.85188,1.85142,1.85031,1.84962,1.84987,1.84961,1.84954,1.84892,1.84905,1.84911,1.84884,1.84822,1.84775,1.84821,1.8478,1.847,1.8461,1.84676,1.84702,1.8465,1.84636,1.847,1.84633,1.84642,1.84686,1.84763,1.84823,1.84743,1.84673,1.84667,1.84674,1.84727,1.84717,1.84736,1.84744,1.84734,1.84671,1.84677,1.84738,1.84714,1.84719,1.84707,1.84698,1.84711,1.84734,1.84777,1.84772,1.8476,1.84662,1.84639,1.84642,1.84613,1.84656,1.84672,1.84699,1.84687,1.84701,1.84723,1.84653,1.84724,1.84807,1.84896,1.84954,1.84942,1.84897,1.85026,1.85119,1.8513,1.85201,1.85089,1.84904,1.84737,1.84708,1.84695,1.84694,1.84698,1.84625,1.84719,1.84716,1.84495,1.84574,1.84519,1.84595,1.8456,1.84499,1.84562,1.84521,1.84565,1.8457,1.84646,1.84653,1.84602,1.84409,1.84329,1.84293,1.84253,1.84224,1.84179,1.84122,1.84117,1.84201,1.84235,1.84312,1.84362,1.84344,1.84352,1.84383,1.84389,1.84383,1.84345,1.84376,1.84421,1.84417,1.84445,1.84388,1.84345,1.84387,1.84362,1.84349,1.84337,1.84334,1.84424,1.84382,1.84353,1.84355,1.84349,1.84322,1.84371,1.8437,1.84372,1.84378,1.84385,1.84457,1.84455,1.8444,1.8444,1.84383,1.84376,1.8433,1.84374,1.84345,1.84375,1.84338,1.84325,1.84317,1.84319,1.84308,1.84303,1.84283,1.84303,1.84319,1.84319,1.84311,1.84292,1.84323,1.84379,1.84405,1.84398,1.84384,1.84317,1.84239,1.84274,1.84257,1.84274,1.84368,1.84395,1.84531,1.84473,1.84503,1.8447,1.84552,1.84457,1.84373,1.84335,1.84355,1.84348,1.84393,1.84406,1.83794,1.83775,1.8374,1.83578,1.83459,1.83525,1.83601,1.83588,1.83622,1.83583,1.83573,1.83604,1.83529,1.83561,1.83581,1.83541,1.83528,1.83562,1.83641,1.8364,1.83588,1.8362,1.83661,1.83578,1.83565,1.83595,1.83619,1.83663,1.83736,1.83745,1.83743,1.83709,1.83654,1.83679,1.83699,1.83685,1.83656,1.83648,1.83645,1.83631,1.83581,1.83576,1.83598,1.83576,1.83568,1.83614,1.83599,1.83579,1.83603,1.83604,1.83574,1.83576,1.8343,1.83549,1.83571,1.83487,1.83494,1.83555,1.83605,1.83584,1.83561,1.83537,1.8357,1.83588,1.83585,1.83552,1.83511,1.83463,1.83436,1.8345,1.83461,1.83459,1.83404,1.83448,1.83452,1.8351,1.8351,1.83451,1.83383,1.83328,1.83184,1.83241,1.83173,1.83034,1.83084,1.8307,1.8314,1.83116,1.83196,1.83253,1.83299,1.83245,1.83212,1.83255,1.83252,1.83194,1.83209,1.83127,1.83075,1.83027,1.83009,1.82805,1.82793,1.82799,1.82792,1.82925,1.82995,1.83163,1.83237,1.83202,1.83109,1.83112,1.83113,1.83053,1.83023,1.83073,1.83135,1.83151,1.83131,1.83156,1.8312,1.83114,1.83081,1.83096,1.83053,1.82995,1.82943,1.82924,1.82889,1.82825,1.82852,1.82881,1.82836,1.82829,1.82915,1.82908,1.82908,1.82908,1.83027,1.83042,1.83023,1.83025,1.83041,1.83025,1.83056,1.83079,1.83086,1.83179,1.83159,1.83026,1.83033,1.83071,1.83032,1.83045,1.83082,1.83089,1.83101,1.83052,1.83077,1.83046,1.83045,1.83055,1.83035,1.83147,1.83181,1.83253,1.83323,1.83385,1.83384,1.83469,1.83486,1.83483,1.83479,1.8347,1.83624,1.83612,1.8353,1.83534,1.83535,1.83518,1.83481,1.83425,1.83398,1.83444,1.83447,1.83548,1.83735,1.83802,1.83869,1.8389,1.83931,1.83853,1.83839,1.83822,1.83907,1.8394,1.83971,1.83856,1.83682,1.83516,1.83441,1.83454,1.83489,1.83566,1.83567,1.83603,1.83595,1.83584,1.83586,1.83535,1.83528,1.8356,1.83507,1.83485,1.83474,1.83448,1.83452,1.8343,1.8344,1.83389,1.83434,1.83469,1.83467,1.83455,1.83477,1.83407,1.8344,1.8345,1.83449,1.83435,1.83473,1.8346,1.83441,1.83438,1.83419,1.8347,1.83505,1.83453,1.83422,1.83407,1.83381,1.83449,1.83451,1.83522,1.83525,1.83572,1.83554,1.83619,1.83661,1.83597,1.83601,1.83524,1.83548,1.83548,1.83612,1.83637,1.83544,1.83566,1.83536,1.83502,1.83507,1.83479,1.83534,1.83592,1.83643,1.83651,1.83708,1.83786,1.83866,1.8384,1.83875,1.83874,1.83893,1.83917,1.8399,1.83967,1.84003,1.84053,1.83972,1.83862,1.83887,1.83921,1.84002,1.84006,1.84052,1.84063,1.84063,1.84077,1.84026,1.83925,1.84067,1.84072,1.84006,1.83979,1.84093,1.84138,1.84154,1.8417,1.84242,1.84262,1.84256,1.84331,1.843,1.84246,1.84277,1.84302,1.84324,1.84335,1.84275,1.84312,1.84314,1.84369,1.84371,1.84383,1.84394,1.84376,1.84339,1.84358,1.84335,1.84251,1.84307,1.8429,1.84275,1.84287,1.84277,1.84326,1.843,1.84306,1.84265,1.84269,1.84255,1.84241,1.84258,1.84262,1.84327,1.84376,1.84397,1.84396,1.84385,1.84385,1.84318,1.84256,1.8425,1.84207,1.84168,1.84172,1.84155,1.84178,1.8414,1.84238,1.84223,1.84169,1.84156,1.8421,1.84217,1.84221,1.84194,1.84141,1.84151,1.83992,1.83979,1.83967,1.8402,1.84106,1.844,1.84429,1.84578,1.84533,1.84461,1.84558,1.84699,1.84699,1.84779,1.84853,1.84808,1.84786,1.84746,1.84755,1.84777,1.84765,1.84783,1.84744,1.84741,1.84544,1.8441,1.84413,1.84478,1.84463,1.84431,1.84405,1.84306,1.84171,1.84256,1.8428,1.84274,1.84212,1.84117,1.84132,1.84113,1.84097,1.8411,1.84152,1.84278,1.84243,1.8421,1.84178,1.84164,1.84158,1.84246,1.84357,1.84493,1.84548,1.84604,1.84574,1.84482,1.84559,1.84465,1.84458,1.84446,1.84446,1.84422,1.84413,1.84414,1.84453,1.84443,1.84457,1.84486,1.84552,1.84542,1.84532,1.84579,1.84565,1.8454,1.84538,1.84523,1.84492,1.84509,1.84497,1.84492,1.84502,1.84497,1.84478,1.84461,1.84502,1.84513,1.84549,1.84542,1.84526,1.84545,1.84617,1.84626,1.84633,1.84644,1.84719,1.84698,1.84653,1.84432,1.84422,1.84491,1.84594,1.84281,1.84265,1.84226,1.84132,1.84132,1.84048,1.8404,1.8421,1.84278,1.84217,1.84165,1.84196,1.84184,1.842,1.84154,1.84096,1.84176,1.84128,1.84059,1.84232,1.84226,1.84149,1.84183,1.84161,1.84182,1.84237,1.84367,1.84389,1.84463,1.8449,1.84467,1.84451,1.84304,1.84384,1.84336,1.84354,1.8432,1.84384,1.84412,1.8441,1.84398,1.84338,1.84378,1.84371,1.84286,1.84305,1.84313,1.84318,1.84308,1.84236,1.84222,1.84345,1.84283,1.84333,1.84319,1.84343,1.84287,1.843,1.84285,1.84305,1.84336,1.84337,1.84344,1.84339,1.84404,1.84392,1.84485,1.84424,1.84354,1.84442,1.84472,1.84483,1.84482],\"low\":[1.84316,1.84331,1.84366,1.84382,1.84371,1.84365,1.8408,1.84119,1.84127,1.84202,1.84166,1.84265,1.84284,1.84302,1.84263,1.84296,1.84314,1.84359,1.84349,1.84414,1.84355,1.84354,1.84423,1.84443,1.84382,1.8434,1.84405,1.84476,1.84463,1.84471,1.84397,1.84367,1.84303,1.84347,1.84331,1.8436,1.84335,1.84364,1.84443,1.84552,1.84725,1.84479,1.84272,1.84261,1.841,1.84071,1.84138,1.8398,1.83988,1.83955,1.83983,1.84021,1.841,1.84099,1.84052,1.83985,1.84084,1.84116,1.84195,1.84172,1.84137,1.84299,1.84308,1.84384,1.84495,1.84436,1.84435,1.84456,1.84512,1.8446,1.84351,1.84357,1.84552,1.84521,1.84513,1.84359,1.84369,1.84315,1.84429,1.84373,1.84252,1.84183,1.84231,1.84121,1.84154,1.84243,1.8428,1.84211,1.8423,1.84187,1.84066,1.84116,1.84138,1.84156,1.84134,1.84153,1.84113,1.8416,1.84181,1.84254,1.84313,1.84353,1.84334,1.84489,1.84489,1.84489,1.84108,1.84064,1.84072,1.84008,1.84033,1.84124,1.84059,1.84007,1.83999,1.83739,1.83655,1.83733,1.83807,1.83877,1.83989,1.84045,1.84038,1.84051,1.84081,1.84081,1.84128,1.84132,1.84262,1.84044,1.84022,1.83977,1.84032,1.84042,1.8405,1.84297,1.84354,1.84282,1.84313,1.8442,1.84512,1.84539,1.84508,1.84511,1.84471,1.84586,1.84568,1.84512,1.84598,1.84608,1.84619,1.84606,1.84509,1.84636,1.84512,1.84476,1.84548,1.84542,1.84581,1.84661,1.84629,1.84707,1.84745,1.84635,1.84702,1.84598,1.84577,1.84709,1.84753,1.84745,1.84751,1.84749,1.84741,1.8474,1.84741,1.84701,1.84681,1.8469,1.84711,1.84681,1.84678,1.84696,1.84725,1.84676,1.84642,1.84702,1.84674,1.84633,1.84652,1.84597,1.84634,1.84687,1.84699,1.8478,1.84717,1.84715,1.84652,1.84658,1.84671,1.8469,1.8464,1.84576,1.84646,1.84781,1.848,1.8477,1.84805,1.84782,1.84763,1.8477,1.84804,1.84855,1.84911,1.84934,1.85095,1.85083,1.85113,1.85152,1.85074,1.84989,1.84926,1.84917,1.84938,1.84852,1.84893,1.84979,1.84969,1.85019,1.84915,1.84902,1.84818,1.84822,1.84808,1.84858,1.84881,1.84909,1.84939,1.84884,1.84888,1.84807,1.848,1.84901,1.84842,1.84746,1.84781,1.84754,1.84761,1.84671,1.84676,1.84725,1.84762,1.84815,1.84829,1.84956,1.84899,1.84802,1.8478,1.84781,1.84795,1.84859,1.8488,1.85002,1.85041,1.84928,1.84886,1.84859,1.84844,1.84842,1.84775,1.84771,1.84775,1.84784,1.84744,1.84707,1.84674,1.84695,1.84631,1.84547,1.84496,1.84519,1.84551,1.84541,1.84547,1.8457,1.84536,1.84515,1.84515,1.84506,1.84446,1.84411,1.84479,1.84553,1.84583,1.84631,1.84616,1.84639,1.84672,1.84552,1.8452,1.84491,1.84543,1.84576,1.84601,1.84567,1.84541,1.84565,1.84626,1.84646,1.84624,1.84587,1.84547,1.84535,1.8454,1.84517,1.8454,1.84532,1.84622,1.84607,1.84593,1.84591,1.84547,1.84588,1.8456,1.84712,1.8481,1.84772,1.84737,1.84825,1.84931,1.84988,1.85059,1.8479,1.84675,1.84498,1.84516,1.84547,1.84524,1.84494,1.8449,1.84533,1.84377,1.84313,1.84391,1.84303,1.84416,1.8439,1.84301,1.84384,1.84415,1.84425,1.8444,1.84456,1.84514,1.84354,1.84201,1.84188,1.84181,1.84063,1.8402,1.83998,1.83979,1.8401,1.84007,1.84124,1.84171,1.84202,1.84228,1.84233,1.84257,1.84297,1.84279,1.84253,1.84262,1.8431,1.84327,1.84332,1.84237,1.84233,1.84286,1.8426,1.84255,1.84252,1.84201,1.84161,1.84188,1.84199,1.84188,1.84236,1.84217,1.84228,1.84278,1.84277,1.84259,1.84244,1.84318,1.84338,1.84322,1.84283,1.84224,1.84268,1.84219,1.84229,1.8419,1.84276,1.84222,1.84196,1.84206,1.84222,1.84208,1.84222,1.84174,1.84198,1.84254,1.84232,1.84214,1.84182,1.84195,1.84253,1.84266,1.84196,1.8422,1.84139,1.84061,1.84058,1.84119,1.84113,1.84183,1.84258,1.84344,1.84311,1.84347,1.84341,1.84405,1.84222,1.84249,1.84146,1.84201,1.84184,1.84228,1.83505,1.83652,1.83559,1.83512,1.83301,1.8331,1.83354,1.83405,1.8342,1.83423,1.83386,1.83393,1.83398,1.83398,1.83377,1.83349,1.83417,1.834,1.83424,1.8352,1.83531,1.83502,1.83468,1.83545,1.83486,1.83465,1.8347,1.83524,1.83508,1.83615,1.83652,1.83627,1.83584,1.83578,1.83568,1.836,1.83577,1.83564,1.83541,1.83422,1.83368,1.83362,1.83414,1.83454,1.83428,1.83457,1.83467,1.83521,1.8347,1.8352,1.83485,1.83433,1.83334,1.83319,1.83319,1.83414,1.83348,1.8337,1.83375,1.8348,1.83477,1.83441,1.83456,1.83467,1.83499,1.83483,1.83457,1.83412,1.83374,1.83367,1.83346,1.83383,1.83294,1.83317,1.83338,1.83357,1.83334,1.83343,1.8328,1.83257,1.83046,1.83068,1.83059,1.82957,1.8282,1.82905,1.82946,1.83006,1.83022,1.83036,1.83118,1.83137,1.83131,1.83065,1.83085,1.83005,1.83015,1.83097,1.82925,1.82957,1.8288,1.82704,1.82643,1.82637,1.82631,1.8258,1.82698,1.82789,1.82944,1.83076,1.82998,1.82904,1.82938,1.82981,1.82887,1.82883,1.82935,1.82985,1.83065,1.83001,1.83015,1.83035,1.83017,1.8299,1.82981,1.82886,1.82864,1.82852,1.82831,1.82747,1.8274,1.82723,1.82756,1.8275,1.82747,1.8263,1.82908,1.82908,1.82908,1.82931,1.82923,1.82927,1.82936,1.82925,1.82874,1.8289,1.82936,1.82988,1.83035,1.82977,1.82896,1.82922,1.8297,1.82964,1.82944,1.82968,1.82994,1.82969,1.82961,1.82989,1.82947,1.82955,1.82926,1.82924,1.83,1.83056,1.83121,1.83109,1.83221,1.83269,1.83347,1.83353,1.8328,1.83298,1.83375,1.83403,1.8337,1.83398,1.83405,1.83417,1.83383,1.8329,1.83284,1.83269,1.83313,1.8329,1.83373,1.83514,1.83673,1.83741,1.83742,1.83714,1.83711,1.83701,1.83697,1.83722,1.83819,1.83781,1.83598,1.83341,1.83305,1.83311,1.83342,1.83332,1.83412,1.83472,1.83485,1.83466,1.83453,1.8347,1.83446,1.8344,1.83438,1.83425,1.83412,1.83392,1.8337,1.83357,1.83354,1.83345,1.83314,1.83344,1.83379,1.83347,1.83281,1.83246,1.83242,1.83284,1.83312,1.83377,1.83371,1.83377,1.83352,1.8335,1.83359,1.83327,1.83306,1.83362,1.83311,1.83291,1.83281,1.83267,1.83296,1.83341,1.83354,1.83408,1.83449,1.83443,1.83458,1.83516,1.83514,1.83465,1.8344,1.83432,1.83456,1.8349,1.83506,1.83464,1.83456,1.83395,1.83398,1.83376,1.83376,1.83389,1.83386,1.83483,1.83529,1.83531,1.83577,1.83673,1.83701,1.83716,1.837,1.83685,1.838,1.83809,1.83824,1.8382,1.8383,1.83742,1.83721,1.83711,1.83804,1.83828,1.83879,1.83879,1.83913,1.83932,1.83898,1.83796,1.83741,1.83806,1.83904,1.8377,1.83806,1.83922,1.84017,1.84035,1.84067,1.84074,1.84125,1.84164,1.84192,1.84135,1.84145,1.84196,1.84226,1.84221,1.84207,1.84204,1.84201,1.84192,1.84265,1.84294,1.84286,1.84296,1.84269,1.84261,1.84281,1.84016,1.84052,1.84078,1.84118,1.83997,1.8398,1.84197,1.84196,1.84218,1.84174,1.84182,1.84202,1.84151,1.84144,1.84147,1.84174,1.84195,1.84246,1.84282,1.84303,1.84249,1.84264,1.84166,1.84158,1.84085,1.84104,1.8406,1.84094,1.84058,1.84083,1.84036,1.84085,1.84064,1.84062,1.84076,1.84068,1.84106,1.84088,1.84039,1.84041,1.8388,1.83796,1.83839,1.83854,1.83872,1.83929,1.84019,1.84246,1.84359,1.84405,1.84325,1.84332,1.84409,1.84571,1.84615,1.84651,1.84624,1.84661,1.8461,1.84635,1.84635,1.84634,1.84524,1.84552,1.84504,1.84324,1.84293,1.84109,1.84165,1.84281,1.8429,1.84165,1.8389,1.83967,1.84076,1.84145,1.84145,1.8406,1.8401,1.8402,1.83961,1.83964,1.8399,1.84048,1.84076,1.84127,1.841,1.84088,1.84092,1.84053,1.84043,1.84228,1.84297,1.84368,1.84489,1.84434,1.84293,1.84223,1.84257,1.84277,1.84258,1.84273,1.84334,1.84305,1.84308,1.84356,1.84346,1.84371,1.84385,1.84405,1.84429,1.84402,1.84448,1.84454,1.84427,1.84409,1.84401,1.84418,1.84412,1.84411,1.84364,1.84387,1.84403,1.84324,1.84326,1.84401,1.84404,1.84462,1.84459,1.84397,1.84417,1.84498,1.8454,1.84488,1.84545,1.84578,1.84538,1.84351,1.84275,1.84274,1.8435,1.84164,1.84119,1.84107,1.83986,1.83979,1.83938,1.83934,1.83913,1.83908,1.84115,1.84077,1.83959,1.8408,1.84026,1.84049,1.84021,1.83936,1.84026,1.83968,1.83934,1.83971,1.84026,1.83985,1.83947,1.84009,1.84001,1.84064,1.84048,1.84152,1.8425,1.84362,1.8434,1.84183,1.84169,1.84214,1.84211,1.84222,1.84214,1.84273,1.84285,1.84276,1.84281,1.84226,1.84229,1.84222,1.84185,1.84223,1.84214,1.84225,1.84172,1.8414,1.84093,1.83993,1.84054,1.84063,1.84099,1.84123,1.84194,1.84184,1.842,1.84213,1.84236,1.84206,1.84227,1.84214,1.84295,1.84256,1.84309,1.84266,1.8424,1.84279,1.84331,1.84387,1.84376],\"name\":\"Prices:GBP-AUD\",\"open\":[1.84369,1.84378,1.84431,1.84426,1.84428,1.84452,1.84398,1.84119,1.84308,1.84238,1.84258,1.84323,1.84382,1.84342,1.84375,1.8431,1.84349,1.84388,1.8439,1.84432,1.84513,1.84397,1.84527,1.8454,1.84503,1.84432,1.84447,1.84569,1.84533,1.84579,1.84519,1.84451,1.84404,1.84396,1.84391,1.84375,1.84421,1.84386,1.84503,1.84637,1.84986,1.84743,1.8451,1.84364,1.84318,1.84236,1.84248,1.84182,1.84034,1.84055,1.84043,1.84215,1.84196,1.84157,1.84144,1.84071,1.84132,1.84233,1.84257,1.84239,1.84239,1.84346,1.84376,1.84439,1.84549,1.84572,1.84561,1.84519,1.84576,1.84849,1.84531,1.84391,1.84656,1.84642,1.84615,1.84602,1.84411,1.84501,1.8453,1.84479,1.84474,1.84347,1.84345,1.84244,1.84217,1.84264,1.84371,1.84316,1.8429,1.84377,1.84243,1.84178,1.84202,1.84241,1.84253,1.84264,1.842,1.84207,1.84219,1.84313,1.84389,1.84399,1.84421,1.84489,1.84489,1.84489,1.84181,1.84173,1.8413,1.84128,1.8406,1.84194,1.84301,1.84134,1.84163,1.841,1.83774,1.83796,1.83859,1.83914,1.84051,1.84095,1.84155,1.84126,1.84158,1.84222,1.84165,1.84157,1.84307,1.8435,1.84103,1.84226,1.8407,1.84107,1.84144,1.84349,1.84508,1.84391,1.84382,1.84484,1.84568,1.84616,1.84592,1.84573,1.84558,1.84602,1.84675,1.84616,1.84685,1.84685,1.84732,1.84653,1.84717,1.84663,1.84693,1.84567,1.8468,1.84634,1.84689,1.84746,1.84773,1.84799,1.84827,1.84768,1.84746,1.84859,1.8466,1.84739,1.84913,1.84855,1.84811,1.84826,1.8481,1.84822,1.84778,1.84816,1.84743,1.8473,1.84775,1.84774,1.84717,1.84773,1.84784,1.84768,1.8474,1.84832,1.84774,1.84725,1.84695,1.84695,1.84663,1.84764,1.84776,1.84851,1.84776,1.84808,1.84752,1.8469,1.84739,1.84744,1.84751,1.84672,1.8467,1.84793,1.84889,1.84844,1.84908,1.8485,1.84841,1.84839,1.84837,1.84915,1.84956,1.84996,1.85132,1.85186,1.85172,1.8522,1.85213,1.8512,1.85039,1.84979,1.85016,1.84993,1.84937,1.85015,1.85024,1.85047,1.85062,1.85009,1.85011,1.84889,1.84911,1.84927,1.84975,1.8504,1.85016,1.85003,1.85006,1.84905,1.84891,1.84975,1.85001,1.84937,1.8484,1.84828,1.84847,1.84816,1.84767,1.84762,1.84796,1.84878,1.84866,1.85064,1.85098,1.84982,1.84838,1.84902,1.84842,1.85064,1.84964,1.85051,1.85104,1.8512,1.84988,1.84948,1.849,1.84926,1.84922,1.84873,1.84848,1.84832,1.84856,1.84808,1.84764,1.84747,1.84772,1.84685,1.84592,1.84546,1.84598,1.84638,1.84606,1.84624,1.84618,1.84614,1.84572,1.84631,1.84673,1.84594,1.84568,1.84647,1.84638,1.84659,1.84699,1.84709,1.84712,1.8473,1.84621,1.84645,1.84598,1.84699,1.8469,1.84644,1.84678,1.84607,1.84706,1.84705,1.84704,1.8474,1.84624,1.84637,1.84593,1.84583,1.84588,1.84582,1.84669,1.84676,1.84652,1.84655,1.84643,1.84634,1.84674,1.84786,1.84873,1.84926,1.84804,1.84892,1.85006,1.85074,1.85123,1.85077,1.84863,1.84693,1.84655,1.84694,1.84607,1.84682,1.84542,1.84625,1.84716,1.84382,1.84419,1.84517,1.84456,1.84545,1.84457,1.8443,1.84501,1.84486,1.84504,1.84506,1.84593,1.84588,1.84377,1.8423,1.84282,1.84212,1.84086,1.84091,1.84041,1.84093,1.84084,1.8418,1.84229,1.84272,1.84284,1.84276,1.84312,1.84377,1.84358,1.84327,1.84326,1.84334,1.84394,1.84379,1.84378,1.84277,1.84302,1.84347,1.84329,1.84329,1.84323,1.84286,1.84324,1.84283,1.84246,1.84306,1.84303,1.84246,1.84351,1.84345,1.84369,1.84258,1.8438,1.84413,1.84412,1.84414,1.84326,1.84316,1.84328,1.84291,1.84252,1.84317,1.84324,1.84296,1.8425,1.8431,1.84256,1.84266,1.84277,1.84241,1.84291,1.84309,1.84281,1.84292,1.84231,1.84307,1.84366,1.84379,1.84312,1.84251,1.84235,1.84142,1.84166,1.84221,1.84234,1.84296,1.84382,1.84444,1.84413,1.84405,1.84415,1.84456,1.8432,1.84296,1.843,1.84291,1.84276,1.84285,1.83717,1.83753,1.83732,1.83566,1.83432,1.83395,1.83452,1.83582,1.83483,1.8358,1.83558,1.83484,1.83525,1.83506,1.83536,1.83422,1.83476,1.83463,1.83558,1.8364,1.83578,1.83535,1.83606,1.83577,1.83536,1.83499,1.83576,1.83607,1.83659,1.83706,1.83709,1.83664,1.83611,1.83619,1.83633,1.83679,1.83632,1.83648,1.83622,1.83497,1.83504,1.83479,1.83541,1.83536,1.83529,1.83495,1.83556,1.83557,1.83569,1.83602,1.83549,1.83543,1.83374,1.83374,1.83513,1.83469,1.83472,1.83425,1.83507,1.8358,1.83524,1.83496,1.83511,1.83553,1.83575,1.83518,1.83494,1.83452,1.83421,1.83412,1.83421,1.83453,1.83363,1.83377,1.83436,1.83395,1.83504,1.83445,1.83342,1.83313,1.83103,1.83099,1.83149,1.8301,1.82963,1.83036,1.83061,1.83094,1.83081,1.83169,1.83179,1.83225,1.83189,1.83147,1.83201,1.83046,1.8317,1.83124,1.83014,1.83,1.8296,1.82779,1.82784,1.827,1.82681,1.82768,1.82822,1.82991,1.83119,1.83196,1.83088,1.83005,1.83089,1.83027,1.8291,1.82987,1.83037,1.83125,1.83125,1.83114,1.83088,1.83073,1.83064,1.83074,1.83036,1.82927,1.82909,1.82905,1.82882,1.82792,1.82792,1.82845,1.82811,1.82795,1.82795,1.82908,1.82908,1.82908,1.83017,1.82964,1.83007,1.83001,1.83002,1.83011,1.82934,1.83,1.83023,1.8306,1.8314,1.83018,1.82999,1.83027,1.83025,1.8302,1.83009,1.83033,1.83056,1.8303,1.83049,1.8303,1.82992,1.83031,1.82992,1.83027,1.83127,1.83138,1.832,1.8329,1.83327,1.83371,1.8341,1.8347,1.83319,1.83413,1.83449,1.83594,1.8352,1.83446,1.83494,1.83493,1.83435,1.83371,1.83367,1.83394,1.83376,1.83436,1.83542,1.83731,1.83794,1.83848,1.83848,1.83759,1.83836,1.83768,1.83784,1.83864,1.83905,1.83815,1.83621,1.83487,1.83391,1.83424,1.83412,1.83466,1.83555,1.83523,1.83578,1.83519,1.83582,1.83527,1.83516,1.83493,1.83488,1.83478,1.83468,1.83426,1.83436,1.83408,1.83417,1.83386,1.83381,1.83429,1.83439,1.83415,1.83386,1.83295,1.83358,1.83341,1.8343,1.83409,1.83377,1.83449,1.83405,1.83408,1.8341,1.83369,1.83452,1.83424,1.83364,1.83365,1.83338,1.83324,1.83413,1.83427,1.83493,1.83482,1.8351,1.83507,1.83603,1.83551,1.83583,1.83519,1.83483,1.83545,1.83525,1.8359,1.83541,1.83521,1.83507,1.83443,1.83482,1.83425,1.83462,1.83533,1.8357,1.83638,1.83621,1.83624,1.83724,1.83757,1.83838,1.83758,1.83744,1.83858,1.83865,1.83913,1.83912,1.8388,1.83864,1.83758,1.83774,1.83882,1.83868,1.8395,1.83953,1.84026,1.84049,1.83998,1.83996,1.83858,1.83875,1.84022,1.84,1.83848,1.83974,1.84059,1.84124,1.84131,1.84109,1.84174,1.84215,1.84248,1.8429,1.84181,1.84242,1.84278,1.84284,1.843,1.84241,1.84262,1.84288,1.8431,1.84339,1.84364,1.84331,1.84375,1.84311,1.84304,1.84335,1.8418,1.84175,1.84178,1.8424,1.84101,1.8426,1.84251,1.84259,1.84271,1.84218,1.8425,1.84252,1.842,1.84205,1.84231,1.84248,1.84316,1.84358,1.84371,1.84377,1.84319,1.84307,1.84231,1.84182,1.84151,1.84149,1.84148,1.84147,1.84123,1.84126,1.84118,1.84194,1.84111,1.84131,1.84125,1.84148,1.84216,1.84176,1.8413,1.84112,1.83929,1.83899,1.83919,1.83949,1.83994,1.84064,1.84385,1.84381,1.8448,1.84446,1.84364,1.84447,1.84689,1.8464,1.84733,1.84695,1.84741,1.84745,1.84682,1.84739,1.8476,1.84696,1.84725,1.84741,1.84537,1.84354,1.84399,1.84179,1.84445,1.84393,1.84353,1.84215,1.83989,1.84158,1.8418,1.84271,1.84175,1.84107,1.84097,1.84048,1.84086,1.84022,1.84099,1.84128,1.84215,1.84196,1.84137,1.84155,1.84144,1.8412,1.84247,1.84345,1.84476,1.84529,1.84557,1.84468,1.84395,1.84296,1.84353,1.8441,1.84273,1.84391,1.84372,1.84358,1.84406,1.84397,1.84434,1.84411,1.84436,1.84522,1.84474,1.84526,1.8451,1.84511,1.84512,1.84453,1.8446,1.84458,1.84472,1.84483,1.84424,1.84462,1.84467,1.8437,1.84451,1.84448,1.84505,1.84522,1.84501,1.84459,1.84538,1.84615,1.84604,1.84619,1.84607,1.84658,1.84575,1.844,1.84324,1.8442,1.84395,1.84206,1.8425,1.84157,1.84062,1.84069,1.83994,1.83986,1.83985,1.84203,1.84206,1.84162,1.84149,1.8414,1.84179,1.84131,1.84065,1.84075,1.84067,1.84012,1.84034,1.84222,1.84071,1.8408,1.84103,1.84125,1.84068,1.84189,1.84249,1.84294,1.84444,1.84459,1.84406,1.84254,1.84256,1.84326,1.84317,1.84273,1.84308,1.84375,1.8441,1.84395,1.84327,1.84288,1.84367,1.84266,1.84281,1.84292,1.8426,1.84286,1.84228,1.84176,1.8418,1.84126,1.84167,1.84239,1.84237,1.84247,1.8425,1.84245,1.84247,1.84284,1.8428,1.84246,1.84293,1.84338,1.84387,1.84351,1.8438,1.84305,1.84321,1.84437,1.8443,1.84466],\"type\":\"candlestick\",\"x\":[\"2021-06-17T19:30:00\",\"2021-06-17T19:45:00\",\"2021-06-17T20:00:00\",\"2021-06-17T20:15:00\",\"2021-06-17T20:30:00\",\"2021-06-17T20:45:00\",\"2021-06-17T21:00:00\",\"2021-06-17T21:15:00\",\"2021-06-17T21:30:00\",\"2021-06-17T21:45:00\",\"2021-06-17T22:00:00\",\"2021-06-17T22:15:00\",\"2021-06-17T22:30:00\",\"2021-06-17T22:45:00\",\"2021-06-17T23:00:00\",\"2021-06-17T23:15:00\",\"2021-06-17T23:30:00\",\"2021-06-17T23:45:00\",\"2021-06-18T00:00:00\",\"2021-06-18T00:15:00\",\"2021-06-18T00:30:00\",\"2021-06-18T00:45:00\",\"2021-06-18T01:00:00\",\"2021-06-18T01:15:00\",\"2021-06-18T01:30:00\",\"2021-06-18T01:45:00\",\"2021-06-18T02:00:00\",\"2021-06-18T02:15:00\",\"2021-06-18T02:30:00\",\"2021-06-18T02:45:00\",\"2021-06-18T03:00:00\",\"2021-06-18T03:15:00\",\"2021-06-18T03:30:00\",\"2021-06-18T03:45:00\",\"2021-06-18T04:00:00\",\"2021-06-18T04:15:00\",\"2021-06-18T04:30:00\",\"2021-06-18T04:45:00\",\"2021-06-18T05:00:00\",\"2021-06-18T05:15:00\",\"2021-06-18T05:30:00\",\"2021-06-18T05:45:00\",\"2021-06-18T06:00:00\",\"2021-06-18T06:15:00\",\"2021-06-18T06:30:00\",\"2021-06-18T06:45:00\",\"2021-06-18T07:00:00\",\"2021-06-18T07:15:00\",\"2021-06-18T07:30:00\",\"2021-06-18T07:45:00\",\"2021-06-18T08:00:00\",\"2021-06-18T08:15:00\",\"2021-06-18T08:30:00\",\"2021-06-18T08:45:00\",\"2021-06-18T09:00:00\",\"2021-06-18T09:15:00\",\"2021-06-18T09:30:00\",\"2021-06-18T09:45:00\",\"2021-06-18T10:00:00\",\"2021-06-18T10:15:00\",\"2021-06-18T10:30:00\",\"2021-06-18T10:45:00\",\"2021-06-18T11:00:00\",\"2021-06-18T11:15:00\",\"2021-06-18T11:30:00\",\"2021-06-18T11:45:00\",\"2021-06-18T12:00:00\",\"2021-06-18T12:15:00\",\"2021-06-18T12:30:00\",\"2021-06-18T12:45:00\",\"2021-06-18T13:00:00\",\"2021-06-18T13:15:00\",\"2021-06-18T13:30:00\",\"2021-06-18T13:45:00\",\"2021-06-18T14:00:00\",\"2021-06-18T14:15:00\",\"2021-06-18T14:30:00\",\"2021-06-18T14:45:00\",\"2021-06-18T15:00:00\",\"2021-06-18T15:15:00\",\"2021-06-18T15:30:00\",\"2021-06-18T15:45:00\",\"2021-06-18T16:00:00\",\"2021-06-18T16:15:00\",\"2021-06-18T16:30:00\",\"2021-06-18T16:45:00\",\"2021-06-18T17:00:00\",\"2021-06-18T17:15:00\",\"2021-06-18T17:30:00\",\"2021-06-18T17:45:00\",\"2021-06-18T18:00:00\",\"2021-06-18T18:15:00\",\"2021-06-18T18:30:00\",\"2021-06-18T18:45:00\",\"2021-06-18T19:00:00\",\"2021-06-18T19:15:00\",\"2021-06-18T19:30:00\",\"2021-06-18T19:45:00\",\"2021-06-18T20:00:00\",\"2021-06-18T20:15:00\",\"2021-06-18T20:30:00\",\"2021-06-18T20:45:00\",\"2021-06-18T21:00:00\",\"2021-06-18T21:15:00\",\"2021-06-18T21:30:00\",\"2021-06-18T21:45:00\",\"2021-06-21T00:00:00\",\"2021-06-21T00:15:00\",\"2021-06-21T00:30:00\",\"2021-06-21T00:45:00\",\"2021-06-21T01:00:00\",\"2021-06-21T01:15:00\",\"2021-06-21T01:30:00\",\"2021-06-21T01:45:00\",\"2021-06-21T02:00:00\",\"2021-06-21T02:15:00\",\"2021-06-21T02:30:00\",\"2021-06-21T02:45:00\",\"2021-06-21T03:00:00\",\"2021-06-21T03:15:00\",\"2021-06-21T03:30:00\",\"2021-06-21T03:45:00\",\"2021-06-21T04:00:00\",\"2021-06-21T04:15:00\",\"2021-06-21T04:30:00\",\"2021-06-21T04:45:00\",\"2021-06-21T05:00:00\",\"2021-06-21T05:15:00\",\"2021-06-21T05:30:00\",\"2021-06-21T05:45:00\",\"2021-06-21T06:00:00\",\"2021-06-21T06:15:00\",\"2021-06-21T06:30:00\",\"2021-06-21T06:45:00\",\"2021-06-21T07:00:00\",\"2021-06-21T07:15:00\",\"2021-06-21T07:30:00\",\"2021-06-21T07:45:00\",\"2021-06-21T08:00:00\",\"2021-06-21T08:15:00\",\"2021-06-21T08:30:00\",\"2021-06-21T08:45:00\",\"2021-06-21T09:00:00\",\"2021-06-21T09:15:00\",\"2021-06-21T09:30:00\",\"2021-06-21T09:45:00\",\"2021-06-21T10:00:00\",\"2021-06-21T10:15:00\",\"2021-06-21T10:30:00\",\"2021-06-21T10:45:00\",\"2021-06-21T11:00:00\",\"2021-06-21T11:15:00\",\"2021-06-21T11:30:00\",\"2021-06-21T11:45:00\",\"2021-06-21T12:00:00\",\"2021-06-21T12:15:00\",\"2021-06-21T12:30:00\",\"2021-06-21T12:45:00\",\"2021-06-21T13:00:00\",\"2021-06-21T13:15:00\",\"2021-06-21T13:30:00\",\"2021-06-21T13:45:00\",\"2021-06-21T14:00:00\",\"2021-06-21T14:15:00\",\"2021-06-21T14:30:00\",\"2021-06-21T14:45:00\",\"2021-06-21T15:00:00\",\"2021-06-21T15:15:00\",\"2021-06-21T15:30:00\",\"2021-06-21T15:45:00\",\"2021-06-21T16:00:00\",\"2021-06-21T16:15:00\",\"2021-06-21T16:30:00\",\"2021-06-21T16:45:00\",\"2021-06-21T17:00:00\",\"2021-06-21T17:15:00\",\"2021-06-21T17:30:00\",\"2021-06-21T17:45:00\",\"2021-06-21T18:00:00\",\"2021-06-21T18:15:00\",\"2021-06-21T18:30:00\",\"2021-06-21T18:45:00\",\"2021-06-21T19:00:00\",\"2021-06-21T19:15:00\",\"2021-06-21T19:30:00\",\"2021-06-21T19:45:00\",\"2021-06-21T20:00:00\",\"2021-06-21T20:15:00\",\"2021-06-21T20:30:00\",\"2021-06-21T20:45:00\",\"2021-06-21T21:00:00\",\"2021-06-21T21:15:00\",\"2021-06-21T21:30:00\",\"2021-06-21T21:45:00\",\"2021-06-21T22:00:00\",\"2021-06-21T22:15:00\",\"2021-06-21T22:30:00\",\"2021-06-21T22:45:00\",\"2021-06-21T23:00:00\",\"2021-06-21T23:15:00\",\"2021-06-21T23:30:00\",\"2021-06-21T23:45:00\",\"2021-06-22T00:00:00\",\"2021-06-22T00:15:00\",\"2021-06-22T00:30:00\",\"2021-06-22T00:45:00\",\"2021-06-22T01:00:00\",\"2021-06-22T01:15:00\",\"2021-06-22T01:30:00\",\"2021-06-22T01:45:00\",\"2021-06-22T02:00:00\",\"2021-06-22T02:15:00\",\"2021-06-22T02:30:00\",\"2021-06-22T02:45:00\",\"2021-06-22T03:00:00\",\"2021-06-22T03:15:00\",\"2021-06-22T03:30:00\",\"2021-06-22T03:45:00\",\"2021-06-22T04:00:00\",\"2021-06-22T04:15:00\",\"2021-06-22T04:30:00\",\"2021-06-22T04:45:00\",\"2021-06-22T05:00:00\",\"2021-06-22T05:15:00\",\"2021-06-22T05:30:00\",\"2021-06-22T05:45:00\",\"2021-06-22T06:00:00\",\"2021-06-22T06:15:00\",\"2021-06-22T06:30:00\",\"2021-06-22T06:45:00\",\"2021-06-22T07:00:00\",\"2021-06-22T07:15:00\",\"2021-06-22T07:30:00\",\"2021-06-22T07:45:00\",\"2021-06-22T08:00:00\",\"2021-06-22T08:15:00\",\"2021-06-22T08:30:00\",\"2021-06-22T08:45:00\",\"2021-06-22T09:00:00\",\"2021-06-22T09:15:00\",\"2021-06-22T09:30:00\",\"2021-06-22T09:45:00\",\"2021-06-22T10:00:00\",\"2021-06-22T10:15:00\",\"2021-06-22T10:30:00\",\"2021-06-22T10:45:00\",\"2021-06-22T11:00:00\",\"2021-06-22T11:15:00\",\"2021-06-22T11:30:00\",\"2021-06-22T11:45:00\",\"2021-06-22T12:00:00\",\"2021-06-22T12:15:00\",\"2021-06-22T12:30:00\",\"2021-06-22T12:45:00\",\"2021-06-22T13:00:00\",\"2021-06-22T13:15:00\",\"2021-06-22T13:30:00\",\"2021-06-22T13:45:00\",\"2021-06-22T14:00:00\",\"2021-06-22T14:15:00\",\"2021-06-22T14:30:00\",\"2021-06-22T14:45:00\",\"2021-06-22T15:00:00\",\"2021-06-22T15:15:00\",\"2021-06-22T15:30:00\",\"2021-06-22T15:45:00\",\"2021-06-22T16:00:00\",\"2021-06-22T16:15:00\",\"2021-06-22T16:30:00\",\"2021-06-22T16:45:00\",\"2021-06-22T17:00:00\",\"2021-06-22T17:15:00\",\"2021-06-22T17:30:00\",\"2021-06-22T17:45:00\",\"2021-06-22T18:00:00\",\"2021-06-22T18:15:00\",\"2021-06-22T18:30:00\",\"2021-06-22T18:45:00\",\"2021-06-22T19:00:00\",\"2021-06-22T19:15:00\",\"2021-06-22T19:30:00\",\"2021-06-22T19:45:00\",\"2021-06-22T20:00:00\",\"2021-06-22T20:15:00\",\"2021-06-22T20:30:00\",\"2021-06-22T20:45:00\",\"2021-06-22T21:00:00\",\"2021-06-22T21:15:00\",\"2021-06-22T21:30:00\",\"2021-06-22T21:45:00\",\"2021-06-22T22:00:00\",\"2021-06-22T22:15:00\",\"2021-06-22T22:30:00\",\"2021-06-22T22:45:00\",\"2021-06-22T23:00:00\",\"2021-06-22T23:15:00\",\"2021-06-22T23:30:00\",\"2021-06-22T23:45:00\",\"2021-06-23T00:00:00\",\"2021-06-23T00:15:00\",\"2021-06-23T00:30:00\",\"2021-06-23T00:45:00\",\"2021-06-23T01:00:00\",\"2021-06-23T01:15:00\",\"2021-06-23T01:30:00\",\"2021-06-23T01:45:00\",\"2021-06-23T02:00:00\",\"2021-06-23T02:15:00\",\"2021-06-23T02:30:00\",\"2021-06-23T02:45:00\",\"2021-06-23T03:00:00\",\"2021-06-23T03:15:00\",\"2021-06-23T03:30:00\",\"2021-06-23T03:45:00\",\"2021-06-23T04:00:00\",\"2021-06-23T04:15:00\",\"2021-06-23T04:30:00\",\"2021-06-23T04:45:00\",\"2021-06-23T05:00:00\",\"2021-06-23T05:15:00\",\"2021-06-23T05:30:00\",\"2021-06-23T05:45:00\",\"2021-06-23T06:00:00\",\"2021-06-23T06:15:00\",\"2021-06-23T06:30:00\",\"2021-06-23T06:45:00\",\"2021-06-23T07:00:00\",\"2021-06-23T07:15:00\",\"2021-06-23T07:30:00\",\"2021-06-23T07:45:00\",\"2021-06-23T08:00:00\",\"2021-06-23T08:15:00\",\"2021-06-23T08:30:00\",\"2021-06-23T08:45:00\",\"2021-06-23T09:00:00\",\"2021-06-23T09:15:00\",\"2021-06-23T09:30:00\",\"2021-06-23T09:45:00\",\"2021-06-23T10:00:00\",\"2021-06-23T10:15:00\",\"2021-06-23T10:30:00\",\"2021-06-23T10:45:00\",\"2021-06-23T11:00:00\",\"2021-06-23T11:15:00\",\"2021-06-23T11:30:00\",\"2021-06-23T11:45:00\",\"2021-06-23T12:00:00\",\"2021-06-23T12:15:00\",\"2021-06-23T12:30:00\",\"2021-06-23T12:45:00\",\"2021-06-23T13:00:00\",\"2021-06-23T13:15:00\",\"2021-06-23T13:30:00\",\"2021-06-23T13:45:00\",\"2021-06-23T14:00:00\",\"2021-06-23T14:15:00\",\"2021-06-23T14:30:00\",\"2021-06-23T14:45:00\",\"2021-06-23T15:00:00\",\"2021-06-23T15:15:00\",\"2021-06-23T15:30:00\",\"2021-06-23T15:45:00\",\"2021-06-23T16:00:00\",\"2021-06-23T16:15:00\",\"2021-06-23T16:30:00\",\"2021-06-23T16:45:00\",\"2021-06-23T17:00:00\",\"2021-06-23T17:15:00\",\"2021-06-23T17:30:00\",\"2021-06-23T17:45:00\",\"2021-06-23T18:00:00\",\"2021-06-23T18:15:00\",\"2021-06-23T18:30:00\",\"2021-06-23T18:45:00\",\"2021-06-23T19:00:00\",\"2021-06-23T19:15:00\",\"2021-06-23T19:30:00\",\"2021-06-23T19:45:00\",\"2021-06-23T20:00:00\",\"2021-06-23T20:15:00\",\"2021-06-23T20:30:00\",\"2021-06-23T20:45:00\",\"2021-06-23T21:00:00\",\"2021-06-23T21:15:00\",\"2021-06-23T21:30:00\",\"2021-06-23T21:45:00\",\"2021-06-23T22:00:00\",\"2021-06-23T22:15:00\",\"2021-06-23T22:30:00\",\"2021-06-23T22:45:00\",\"2021-06-23T23:00:00\",\"2021-06-23T23:15:00\",\"2021-06-23T23:30:00\",\"2021-06-23T23:45:00\",\"2021-06-24T00:00:00\",\"2021-06-24T00:15:00\",\"2021-06-24T00:30:00\",\"2021-06-24T00:45:00\",\"2021-06-24T01:00:00\",\"2021-06-24T01:15:00\",\"2021-06-24T01:30:00\",\"2021-06-24T01:45:00\",\"2021-06-24T02:00:00\",\"2021-06-24T02:15:00\",\"2021-06-24T02:30:00\",\"2021-06-24T02:45:00\",\"2021-06-24T03:00:00\",\"2021-06-24T03:15:00\",\"2021-06-24T03:30:00\",\"2021-06-24T03:45:00\",\"2021-06-24T04:00:00\",\"2021-06-24T04:15:00\",\"2021-06-24T04:30:00\",\"2021-06-24T04:45:00\",\"2021-06-24T05:00:00\",\"2021-06-24T05:15:00\",\"2021-06-24T05:30:00\",\"2021-06-24T05:45:00\",\"2021-06-24T06:00:00\",\"2021-06-24T06:15:00\",\"2021-06-24T06:30:00\",\"2021-06-24T06:45:00\",\"2021-06-24T07:00:00\",\"2021-06-24T07:15:00\",\"2021-06-24T07:30:00\",\"2021-06-24T07:45:00\",\"2021-06-24T08:00:00\",\"2021-06-24T08:15:00\",\"2021-06-24T08:30:00\",\"2021-06-24T08:45:00\",\"2021-06-24T09:00:00\",\"2021-06-24T09:15:00\",\"2021-06-24T09:30:00\",\"2021-06-24T09:45:00\",\"2021-06-24T10:00:00\",\"2021-06-24T10:15:00\",\"2021-06-24T10:30:00\",\"2021-06-24T10:45:00\",\"2021-06-24T11:00:00\",\"2021-06-24T11:15:00\",\"2021-06-24T11:30:00\",\"2021-06-24T11:45:00\",\"2021-06-24T12:00:00\",\"2021-06-24T12:15:00\",\"2021-06-24T12:30:00\",\"2021-06-24T12:45:00\",\"2021-06-24T13:00:00\",\"2021-06-24T13:15:00\",\"2021-06-24T13:30:00\",\"2021-06-24T13:45:00\",\"2021-06-24T14:00:00\",\"2021-06-24T14:15:00\",\"2021-06-24T14:30:00\",\"2021-06-24T14:45:00\",\"2021-06-24T15:00:00\",\"2021-06-24T15:15:00\",\"2021-06-24T15:30:00\",\"2021-06-24T15:45:00\",\"2021-06-24T16:00:00\",\"2021-06-24T16:15:00\",\"2021-06-24T16:30:00\",\"2021-06-24T16:45:00\",\"2021-06-24T17:00:00\",\"2021-06-24T17:15:00\",\"2021-06-24T17:30:00\",\"2021-06-24T17:45:00\",\"2021-06-24T18:00:00\",\"2021-06-24T18:15:00\",\"2021-06-24T18:30:00\",\"2021-06-24T18:45:00\",\"2021-06-24T19:00:00\",\"2021-06-24T19:15:00\",\"2021-06-24T19:30:00\",\"2021-06-24T19:45:00\",\"2021-06-24T20:00:00\",\"2021-06-24T20:15:00\",\"2021-06-24T20:30:00\",\"2021-06-24T20:45:00\",\"2021-06-24T21:00:00\",\"2021-06-24T21:15:00\",\"2021-06-24T21:30:00\",\"2021-06-24T21:45:00\",\"2021-06-24T22:00:00\",\"2021-06-24T22:15:00\",\"2021-06-24T22:30:00\",\"2021-06-24T22:45:00\",\"2021-06-24T23:00:00\",\"2021-06-24T23:15:00\",\"2021-06-24T23:30:00\",\"2021-06-24T23:45:00\",\"2021-06-25T00:00:00\",\"2021-06-25T00:15:00\",\"2021-06-25T00:30:00\",\"2021-06-25T00:45:00\",\"2021-06-25T01:00:00\",\"2021-06-25T01:15:00\",\"2021-06-25T01:30:00\",\"2021-06-25T01:45:00\",\"2021-06-25T02:00:00\",\"2021-06-25T02:15:00\",\"2021-06-25T02:30:00\",\"2021-06-25T02:45:00\",\"2021-06-25T03:00:00\",\"2021-06-25T03:15:00\",\"2021-06-25T03:30:00\",\"2021-06-25T03:45:00\",\"2021-06-25T04:00:00\",\"2021-06-25T04:15:00\",\"2021-06-25T04:30:00\",\"2021-06-25T04:45:00\",\"2021-06-25T05:00:00\",\"2021-06-25T05:15:00\",\"2021-06-25T05:30:00\",\"2021-06-25T05:45:00\",\"2021-06-25T06:00:00\",\"2021-06-25T06:15:00\",\"2021-06-25T06:30:00\",\"2021-06-25T06:45:00\",\"2021-06-25T07:00:00\",\"2021-06-25T07:15:00\",\"2021-06-25T07:30:00\",\"2021-06-25T07:45:00\",\"2021-06-25T08:00:00\",\"2021-06-25T08:15:00\",\"2021-06-25T08:30:00\",\"2021-06-25T08:45:00\",\"2021-06-25T09:00:00\",\"2021-06-25T09:15:00\",\"2021-06-25T09:30:00\",\"2021-06-25T09:45:00\",\"2021-06-25T10:00:00\",\"2021-06-25T10:15:00\",\"2021-06-25T10:30:00\",\"2021-06-25T10:45:00\",\"2021-06-25T11:00:00\",\"2021-06-25T11:15:00\",\"2021-06-25T11:30:00\",\"2021-06-25T11:45:00\",\"2021-06-25T12:00:00\",\"2021-06-25T12:15:00\",\"2021-06-25T12:30:00\",\"2021-06-25T12:45:00\",\"2021-06-25T13:00:00\",\"2021-06-25T13:15:00\",\"2021-06-25T13:30:00\",\"2021-06-25T13:45:00\",\"2021-06-25T14:00:00\",\"2021-06-25T14:15:00\",\"2021-06-25T14:30:00\",\"2021-06-25T14:45:00\",\"2021-06-25T15:00:00\",\"2021-06-25T15:15:00\",\"2021-06-25T15:30:00\",\"2021-06-25T15:45:00\",\"2021-06-25T16:00:00\",\"2021-06-25T16:15:00\",\"2021-06-25T16:30:00\",\"2021-06-25T16:45:00\",\"2021-06-25T17:00:00\",\"2021-06-25T17:15:00\",\"2021-06-25T17:30:00\",\"2021-06-25T17:45:00\",\"2021-06-25T18:00:00\",\"2021-06-25T18:15:00\",\"2021-06-25T18:30:00\",\"2021-06-25T18:45:00\",\"2021-06-25T19:00:00\",\"2021-06-25T19:15:00\",\"2021-06-25T19:30:00\",\"2021-06-25T19:45:00\",\"2021-06-25T20:00:00\",\"2021-06-25T20:15:00\",\"2021-06-25T20:30:00\",\"2021-06-25T20:45:00\",\"2021-06-25T21:00:00\",\"2021-06-25T21:15:00\",\"2021-06-25T21:30:00\",\"2021-06-25T21:45:00\",\"2021-06-28T00:00:00\",\"2021-06-28T00:15:00\",\"2021-06-28T00:30:00\",\"2021-06-28T00:45:00\",\"2021-06-28T01:00:00\",\"2021-06-28T01:15:00\",\"2021-06-28T01:30:00\",\"2021-06-28T01:45:00\",\"2021-06-28T02:00:00\",\"2021-06-28T02:15:00\",\"2021-06-28T02:30:00\",\"2021-06-28T02:45:00\",\"2021-06-28T03:00:00\",\"2021-06-28T03:15:00\",\"2021-06-28T03:30:00\",\"2021-06-28T03:45:00\",\"2021-06-28T04:00:00\",\"2021-06-28T04:15:00\",\"2021-06-28T04:30:00\",\"2021-06-28T04:45:00\",\"2021-06-28T05:00:00\",\"2021-06-28T05:15:00\",\"2021-06-28T05:30:00\",\"2021-06-28T05:45:00\",\"2021-06-28T06:00:00\",\"2021-06-28T06:15:00\",\"2021-06-28T06:30:00\",\"2021-06-28T06:45:00\",\"2021-06-28T07:00:00\",\"2021-06-28T07:15:00\",\"2021-06-28T07:30:00\",\"2021-06-28T07:45:00\",\"2021-06-28T08:00:00\",\"2021-06-28T08:15:00\",\"2021-06-28T08:30:00\",\"2021-06-28T08:45:00\",\"2021-06-28T09:00:00\",\"2021-06-28T09:15:00\",\"2021-06-28T09:30:00\",\"2021-06-28T09:45:00\",\"2021-06-28T10:00:00\",\"2021-06-28T10:15:00\",\"2021-06-28T10:30:00\",\"2021-06-28T10:45:00\",\"2021-06-28T11:00:00\",\"2021-06-28T11:15:00\",\"2021-06-28T11:30:00\",\"2021-06-28T11:45:00\",\"2021-06-28T12:00:00\",\"2021-06-28T12:15:00\",\"2021-06-28T12:30:00\",\"2021-06-28T12:45:00\",\"2021-06-28T13:00:00\",\"2021-06-28T13:15:00\",\"2021-06-28T13:30:00\",\"2021-06-28T13:45:00\",\"2021-06-28T14:00:00\",\"2021-06-28T14:15:00\",\"2021-06-28T14:30:00\",\"2021-06-28T14:45:00\",\"2021-06-28T15:00:00\",\"2021-06-28T15:15:00\",\"2021-06-28T15:30:00\",\"2021-06-28T15:45:00\",\"2021-06-28T16:00:00\",\"2021-06-28T16:15:00\",\"2021-06-28T16:30:00\",\"2021-06-28T16:45:00\",\"2021-06-28T17:00:00\",\"2021-06-28T17:15:00\",\"2021-06-28T17:30:00\",\"2021-06-28T17:45:00\",\"2021-06-28T18:00:00\",\"2021-06-28T18:15:00\",\"2021-06-28T18:30:00\",\"2021-06-28T18:45:00\",\"2021-06-28T19:00:00\",\"2021-06-28T19:15:00\",\"2021-06-28T19:30:00\",\"2021-06-28T19:45:00\",\"2021-06-28T20:00:00\",\"2021-06-28T20:15:00\",\"2021-06-28T20:30:00\",\"2021-06-28T20:45:00\",\"2021-06-28T21:00:00\",\"2021-06-28T21:15:00\",\"2021-06-28T21:30:00\",\"2021-06-28T21:45:00\",\"2021-06-28T22:00:00\",\"2021-06-28T22:15:00\",\"2021-06-28T22:30:00\",\"2021-06-28T22:45:00\",\"2021-06-28T23:00:00\",\"2021-06-28T23:15:00\",\"2021-06-28T23:30:00\",\"2021-06-28T23:45:00\",\"2021-06-29T00:00:00\",\"2021-06-29T00:15:00\",\"2021-06-29T00:30:00\",\"2021-06-29T00:45:00\",\"2021-06-29T01:00:00\",\"2021-06-29T01:15:00\",\"2021-06-29T01:30:00\",\"2021-06-29T01:45:00\",\"2021-06-29T02:00:00\",\"2021-06-29T02:15:00\",\"2021-06-29T02:30:00\",\"2021-06-29T02:45:00\",\"2021-06-29T03:00:00\",\"2021-06-29T03:15:00\",\"2021-06-29T03:30:00\",\"2021-06-29T03:45:00\",\"2021-06-29T04:00:00\",\"2021-06-29T04:15:00\",\"2021-06-29T04:30:00\",\"2021-06-29T04:45:00\",\"2021-06-29T05:00:00\",\"2021-06-29T05:15:00\",\"2021-06-29T05:30:00\",\"2021-06-29T05:45:00\",\"2021-06-29T06:00:00\",\"2021-06-29T06:15:00\",\"2021-06-29T06:30:00\",\"2021-06-29T06:45:00\",\"2021-06-29T07:00:00\",\"2021-06-29T07:15:00\",\"2021-06-29T07:30:00\",\"2021-06-29T07:45:00\",\"2021-06-29T08:00:00\",\"2021-06-29T08:15:00\",\"2021-06-29T08:30:00\",\"2021-06-29T08:45:00\",\"2021-06-29T09:00:00\",\"2021-06-29T09:15:00\",\"2021-06-29T09:30:00\",\"2021-06-29T09:45:00\",\"2021-06-29T10:00:00\",\"2021-06-29T10:15:00\",\"2021-06-29T10:30:00\",\"2021-06-29T10:45:00\",\"2021-06-29T11:00:00\",\"2021-06-29T11:15:00\",\"2021-06-29T11:30:00\",\"2021-06-29T11:45:00\",\"2021-06-29T12:00:00\",\"2021-06-29T12:15:00\",\"2021-06-29T12:30:00\",\"2021-06-29T12:45:00\",\"2021-06-29T13:00:00\",\"2021-06-29T13:15:00\",\"2021-06-29T13:30:00\",\"2021-06-29T13:45:00\",\"2021-06-29T14:00:00\",\"2021-06-29T14:15:00\",\"2021-06-29T14:30:00\",\"2021-06-29T14:45:00\",\"2021-06-29T15:00:00\",\"2021-06-29T15:15:00\",\"2021-06-29T15:30:00\",\"2021-06-29T15:45:00\",\"2021-06-29T16:00:00\",\"2021-06-29T16:15:00\",\"2021-06-29T16:30:00\",\"2021-06-29T16:45:00\",\"2021-06-29T17:00:00\",\"2021-06-29T17:15:00\",\"2021-06-29T17:30:00\",\"2021-06-29T17:45:00\",\"2021-06-29T18:00:00\",\"2021-06-29T18:15:00\",\"2021-06-29T18:30:00\",\"2021-06-29T18:45:00\",\"2021-06-29T19:00:00\",\"2021-06-29T19:15:00\",\"2021-06-29T19:30:00\",\"2021-06-29T19:45:00\",\"2021-06-29T20:00:00\",\"2021-06-29T20:15:00\",\"2021-06-29T20:30:00\",\"2021-06-29T20:45:00\",\"2021-06-29T21:00:00\",\"2021-06-29T21:15:00\",\"2021-06-29T21:30:00\",\"2021-06-29T21:45:00\",\"2021-06-29T22:00:00\",\"2021-06-29T22:15:00\",\"2021-06-29T22:30:00\",\"2021-06-29T22:45:00\",\"2021-06-29T23:00:00\",\"2021-06-29T23:15:00\",\"2021-06-29T23:30:00\",\"2021-06-29T23:45:00\",\"2021-06-30T00:00:00\",\"2021-06-30T00:15:00\",\"2021-06-30T00:30:00\",\"2021-06-30T00:45:00\",\"2021-06-30T01:00:00\",\"2021-06-30T01:15:00\",\"2021-06-30T01:30:00\",\"2021-06-30T01:45:00\",\"2021-06-30T02:00:00\",\"2021-06-30T02:15:00\",\"2021-06-30T02:30:00\",\"2021-06-30T02:45:00\",\"2021-06-30T03:00:00\",\"2021-06-30T03:15:00\",\"2021-06-30T03:30:00\",\"2021-06-30T03:45:00\",\"2021-06-30T04:00:00\",\"2021-06-30T04:15:00\",\"2021-06-30T04:30:00\",\"2021-06-30T04:45:00\",\"2021-06-30T05:00:00\",\"2021-06-30T05:15:00\",\"2021-06-30T05:30:00\",\"2021-06-30T05:45:00\",\"2021-06-30T06:00:00\",\"2021-06-30T06:15:00\",\"2021-06-30T06:30:00\",\"2021-06-30T06:45:00\",\"2021-06-30T07:00:00\",\"2021-06-30T07:15:00\",\"2021-06-30T07:30:00\",\"2021-06-30T07:45:00\",\"2021-06-30T08:00:00\",\"2021-06-30T08:15:00\",\"2021-06-30T08:30:00\",\"2021-06-30T08:45:00\",\"2021-06-30T09:00:00\",\"2021-06-30T09:15:00\",\"2021-06-30T09:30:00\",\"2021-06-30T09:45:00\",\"2021-06-30T10:00:00\",\"2021-06-30T10:15:00\",\"2021-06-30T10:30:00\",\"2021-06-30T10:45:00\",\"2021-06-30T11:00:00\",\"2021-06-30T11:15:00\",\"2021-06-30T11:30:00\",\"2021-06-30T11:45:00\",\"2021-06-30T12:00:00\",\"2021-06-30T12:15:00\",\"2021-06-30T12:30:00\",\"2021-06-30T12:45:00\",\"2021-06-30T13:00:00\",\"2021-06-30T13:15:00\",\"2021-06-30T13:30:00\",\"2021-06-30T13:45:00\",\"2021-06-30T14:00:00\",\"2021-06-30T14:15:00\",\"2021-06-30T14:30:00\",\"2021-06-30T14:45:00\",\"2021-06-30T15:00:00\",\"2021-06-30T15:15:00\",\"2021-06-30T15:30:00\",\"2021-06-30T15:45:00\",\"2021-06-30T16:00:00\",\"2021-06-30T16:15:00\",\"2021-06-30T16:30:00\",\"2021-06-30T16:45:00\",\"2021-06-30T17:00:00\",\"2021-06-30T17:15:00\",\"2021-06-30T17:30:00\",\"2021-06-30T17:45:00\",\"2021-06-30T18:00:00\",\"2021-06-30T18:15:00\",\"2021-06-30T18:30:00\",\"2021-06-30T18:45:00\",\"2021-06-30T19:00:00\",\"2021-06-30T19:15:00\",\"2021-06-30T19:30:00\",\"2021-06-30T19:45:00\",\"2021-06-30T20:00:00\",\"2021-06-30T20:15:00\",\"2021-06-30T20:30:00\",\"2021-06-30T20:45:00\",\"2021-06-30T21:00:00\",\"2021-06-30T21:15:00\",\"2021-06-30T21:30:00\",\"2021-06-30T21:45:00\",\"2021-06-30T22:00:00\",\"2021-06-30T22:15:00\",\"2021-06-30T22:30:00\",\"2021-06-30T22:45:00\",\"2021-06-30T23:00:00\",\"2021-06-30T23:15:00\",\"2021-06-30T23:30:00\",\"2021-06-30T23:45:00\",\"2021-07-01T00:00:00\",\"2021-07-01T00:15:00\",\"2021-07-01T00:30:00\",\"2021-07-01T00:45:00\",\"2021-07-01T01:00:00\",\"2021-07-01T01:15:00\",\"2021-07-01T01:30:00\",\"2021-07-01T01:45:00\",\"2021-07-01T02:00:00\",\"2021-07-01T02:15:00\",\"2021-07-01T02:30:00\",\"2021-07-01T02:45:00\",\"2021-07-01T03:00:00\",\"2021-07-01T03:15:00\",\"2021-07-01T03:30:00\",\"2021-07-01T03:45:00\",\"2021-07-01T04:00:00\",\"2021-07-01T04:15:00\",\"2021-07-01T04:30:00\",\"2021-07-01T04:45:00\",\"2021-07-01T05:00:00\",\"2021-07-01T05:15:00\",\"2021-07-01T05:30:00\",\"2021-07-01T05:45:00\",\"2021-07-01T06:00:00\",\"2021-07-01T06:15:00\",\"2021-07-01T06:30:00\",\"2021-07-01T06:45:00\",\"2021-07-01T07:00:00\",\"2021-07-01T07:15:00\",\"2021-07-01T07:30:00\",\"2021-07-01T07:45:00\",\"2021-07-01T08:00:00\",\"2021-07-01T08:15:00\",\"2021-07-01T08:30:00\",\"2021-07-01T08:45:00\",\"2021-07-01T09:00:00\",\"2021-07-01T09:15:00\",\"2021-07-01T09:30:00\",\"2021-07-01T09:45:00\",\"2021-07-01T10:00:00\",\"2021-07-01T10:15:00\",\"2021-07-01T10:30:00\",\"2021-07-01T10:45:00\",\"2021-07-01T11:00:00\",\"2021-07-01T11:15:00\",\"2021-07-01T11:30:00\",\"2021-07-01T11:45:00\",\"2021-07-01T12:00:00\",\"2021-07-01T12:15:00\",\"2021-07-01T12:30:00\",\"2021-07-01T12:45:00\",\"2021-07-01T13:00:00\",\"2021-07-01T13:15:00\",\"2021-07-01T13:30:00\",\"2021-07-01T13:45:00\",\"2021-07-01T14:00:00\",\"2021-07-01T14:15:00\",\"2021-07-01T14:30:00\",\"2021-07-01T14:45:00\",\"2021-07-01T15:00:00\",\"2021-07-01T15:15:00\",\"2021-07-01T15:30:00\",\"2021-07-01T15:45:00\",\"2021-07-01T16:00:00\",\"2021-07-01T16:15:00\",\"2021-07-01T16:30:00\",\"2021-07-01T16:45:00\",\"2021-07-01T17:00:00\",\"2021-07-01T17:15:00\",\"2021-07-01T17:30:00\",\"2021-07-01T17:45:00\",\"2021-07-01T18:00:00\",\"2021-07-01T18:15:00\",\"2021-07-01T18:30:00\",\"2021-07-01T18:45:00\",\"2021-07-01T19:00:00\",\"2021-07-01T19:15:00\",\"2021-07-01T19:30:00\",\"2021-07-01T19:45:00\",\"2021-07-01T20:00:00\",\"2021-07-01T20:15:00\",\"2021-07-01T20:30:00\",\"2021-07-01T20:45:00\",\"2021-07-01T21:00:00\",\"2021-07-01T21:15:00\",\"2021-07-01T21:30:00\",\"2021-07-01T21:45:00\",\"2021-07-01T22:00:00\",\"2021-07-01T22:15:00\",\"2021-07-01T22:30:00\",\"2021-07-01T22:45:00\",\"2021-07-01T23:00:00\",\"2021-07-01T23:15:00\",\"2021-07-01T23:30:00\",\"2021-07-01T23:45:00\",\"2021-07-02T00:00:00\",\"2021-07-02T00:15:00\",\"2021-07-02T00:30:00\",\"2021-07-02T00:45:00\",\"2021-07-02T01:00:00\",\"2021-07-02T01:15:00\",\"2021-07-02T01:30:00\",\"2021-07-02T01:45:00\",\"2021-07-02T02:00:00\",\"2021-07-02T02:15:00\",\"2021-07-02T02:30:00\"]},{\"line\":{\"color\":\"black\"},\"mode\":\"lines\",\"name\":\"MVS30\",\"type\":\"scatter\",\"x\":[\"2021-06-17T19:30:00\",\"2021-06-17T19:45:00\",\"2021-06-17T20:00:00\",\"2021-06-17T20:15:00\",\"2021-06-17T20:30:00\",\"2021-06-17T20:45:00\",\"2021-06-17T21:00:00\",\"2021-06-17T21:15:00\",\"2021-06-17T21:30:00\",\"2021-06-17T21:45:00\",\"2021-06-17T22:00:00\",\"2021-06-17T22:15:00\",\"2021-06-17T22:30:00\",\"2021-06-17T22:45:00\",\"2021-06-17T23:00:00\",\"2021-06-17T23:15:00\",\"2021-06-17T23:30:00\",\"2021-06-17T23:45:00\",\"2021-06-18T00:00:00\",\"2021-06-18T00:15:00\",\"2021-06-18T00:30:00\",\"2021-06-18T00:45:00\",\"2021-06-18T01:00:00\",\"2021-06-18T01:15:00\",\"2021-06-18T01:30:00\",\"2021-06-18T01:45:00\",\"2021-06-18T02:00:00\",\"2021-06-18T02:15:00\",\"2021-06-18T02:30:00\",\"2021-06-18T02:45:00\",\"2021-06-18T03:00:00\",\"2021-06-18T03:15:00\",\"2021-06-18T03:30:00\",\"2021-06-18T03:45:00\",\"2021-06-18T04:00:00\",\"2021-06-18T04:15:00\",\"2021-06-18T04:30:00\",\"2021-06-18T04:45:00\",\"2021-06-18T05:00:00\",\"2021-06-18T05:15:00\",\"2021-06-18T05:30:00\",\"2021-06-18T05:45:00\",\"2021-06-18T06:00:00\",\"2021-06-18T06:15:00\",\"2021-06-18T06:30:00\",\"2021-06-18T06:45:00\",\"2021-06-18T07:00:00\",\"2021-06-18T07:15:00\",\"2021-06-18T07:30:00\",\"2021-06-18T07:45:00\",\"2021-06-18T08:00:00\",\"2021-06-18T08:15:00\",\"2021-06-18T08:30:00\",\"2021-06-18T08:45:00\",\"2021-06-18T09:00:00\",\"2021-06-18T09:15:00\",\"2021-06-18T09:30:00\",\"2021-06-18T09:45:00\",\"2021-06-18T10:00:00\",\"2021-06-18T10:15:00\",\"2021-06-18T10:30:00\",\"2021-06-18T10:45:00\",\"2021-06-18T11:00:00\",\"2021-06-18T11:15:00\",\"2021-06-18T11:30:00\",\"2021-06-18T11:45:00\",\"2021-06-18T12:00:00\",\"2021-06-18T12:15:00\",\"2021-06-18T12:30:00\",\"2021-06-18T12:45:00\",\"2021-06-18T13:00:00\",\"2021-06-18T13:15:00\",\"2021-06-18T13:30:00\",\"2021-06-18T13:45:00\",\"2021-06-18T14:00:00\",\"2021-06-18T14:15:00\",\"2021-06-18T14:30:00\",\"2021-06-18T14:45:00\",\"2021-06-18T15:00:00\",\"2021-06-18T15:15:00\",\"2021-06-18T15:30:00\",\"2021-06-18T15:45:00\",\"2021-06-18T16:00:00\",\"2021-06-18T16:15:00\",\"2021-06-18T16:30:00\",\"2021-06-18T16:45:00\",\"2021-06-18T17:00:00\",\"2021-06-18T17:15:00\",\"2021-06-18T17:30:00\",\"2021-06-18T17:45:00\",\"2021-06-18T18:00:00\",\"2021-06-18T18:15:00\",\"2021-06-18T18:30:00\",\"2021-06-18T18:45:00\",\"2021-06-18T19:00:00\",\"2021-06-18T19:15:00\",\"2021-06-18T19:30:00\",\"2021-06-18T19:45:00\",\"2021-06-18T20:00:00\",\"2021-06-18T20:15:00\",\"2021-06-18T20:30:00\",\"2021-06-18T20:45:00\",\"2021-06-18T21:00:00\",\"2021-06-18T21:15:00\",\"2021-06-18T21:30:00\",\"2021-06-18T21:45:00\",\"2021-06-21T00:00:00\",\"2021-06-21T00:15:00\",\"2021-06-21T00:30:00\",\"2021-06-21T00:45:00\",\"2021-06-21T01:00:00\",\"2021-06-21T01:15:00\",\"2021-06-21T01:30:00\",\"2021-06-21T01:45:00\",\"2021-06-21T02:00:00\",\"2021-06-21T02:15:00\",\"2021-06-21T02:30:00\",\"2021-06-21T02:45:00\",\"2021-06-21T03:00:00\",\"2021-06-21T03:15:00\",\"2021-06-21T03:30:00\",\"2021-06-21T03:45:00\",\"2021-06-21T04:00:00\",\"2021-06-21T04:15:00\",\"2021-06-21T04:30:00\",\"2021-06-21T04:45:00\",\"2021-06-21T05:00:00\",\"2021-06-21T05:15:00\",\"2021-06-21T05:30:00\",\"2021-06-21T05:45:00\",\"2021-06-21T06:00:00\",\"2021-06-21T06:15:00\",\"2021-06-21T06:30:00\",\"2021-06-21T06:45:00\",\"2021-06-21T07:00:00\",\"2021-06-21T07:15:00\",\"2021-06-21T07:30:00\",\"2021-06-21T07:45:00\",\"2021-06-21T08:00:00\",\"2021-06-21T08:15:00\",\"2021-06-21T08:30:00\",\"2021-06-21T08:45:00\",\"2021-06-21T09:00:00\",\"2021-06-21T09:15:00\",\"2021-06-21T09:30:00\",\"2021-06-21T09:45:00\",\"2021-06-21T10:00:00\",\"2021-06-21T10:15:00\",\"2021-06-21T10:30:00\",\"2021-06-21T10:45:00\",\"2021-06-21T11:00:00\",\"2021-06-21T11:15:00\",\"2021-06-21T11:30:00\",\"2021-06-21T11:45:00\",\"2021-06-21T12:00:00\",\"2021-06-21T12:15:00\",\"2021-06-21T12:30:00\",\"2021-06-21T12:45:00\",\"2021-06-21T13:00:00\",\"2021-06-21T13:15:00\",\"2021-06-21T13:30:00\",\"2021-06-21T13:45:00\",\"2021-06-21T14:00:00\",\"2021-06-21T14:15:00\",\"2021-06-21T14:30:00\",\"2021-06-21T14:45:00\",\"2021-06-21T15:00:00\",\"2021-06-21T15:15:00\",\"2021-06-21T15:30:00\",\"2021-06-21T15:45:00\",\"2021-06-21T16:00:00\",\"2021-06-21T16:15:00\",\"2021-06-21T16:30:00\",\"2021-06-21T16:45:00\",\"2021-06-21T17:00:00\",\"2021-06-21T17:15:00\",\"2021-06-21T17:30:00\",\"2021-06-21T17:45:00\",\"2021-06-21T18:00:00\",\"2021-06-21T18:15:00\",\"2021-06-21T18:30:00\",\"2021-06-21T18:45:00\",\"2021-06-21T19:00:00\",\"2021-06-21T19:15:00\",\"2021-06-21T19:30:00\",\"2021-06-21T19:45:00\",\"2021-06-21T20:00:00\",\"2021-06-21T20:15:00\",\"2021-06-21T20:30:00\",\"2021-06-21T20:45:00\",\"2021-06-21T21:00:00\",\"2021-06-21T21:15:00\",\"2021-06-21T21:30:00\",\"2021-06-21T21:45:00\",\"2021-06-21T22:00:00\",\"2021-06-21T22:15:00\",\"2021-06-21T22:30:00\",\"2021-06-21T22:45:00\",\"2021-06-21T23:00:00\",\"2021-06-21T23:15:00\",\"2021-06-21T23:30:00\",\"2021-06-21T23:45:00\",\"2021-06-22T00:00:00\",\"2021-06-22T00:15:00\",\"2021-06-22T00:30:00\",\"2021-06-22T00:45:00\",\"2021-06-22T01:00:00\",\"2021-06-22T01:15:00\",\"2021-06-22T01:30:00\",\"2021-06-22T01:45:00\",\"2021-06-22T02:00:00\",\"2021-06-22T02:15:00\",\"2021-06-22T02:30:00\",\"2021-06-22T02:45:00\",\"2021-06-22T03:00:00\",\"2021-06-22T03:15:00\",\"2021-06-22T03:30:00\",\"2021-06-22T03:45:00\",\"2021-06-22T04:00:00\",\"2021-06-22T04:15:00\",\"2021-06-22T04:30:00\",\"2021-06-22T04:45:00\",\"2021-06-22T05:00:00\",\"2021-06-22T05:15:00\",\"2021-06-22T05:30:00\",\"2021-06-22T05:45:00\",\"2021-06-22T06:00:00\",\"2021-06-22T06:15:00\",\"2021-06-22T06:30:00\",\"2021-06-22T06:45:00\",\"2021-06-22T07:00:00\",\"2021-06-22T07:15:00\",\"2021-06-22T07:30:00\",\"2021-06-22T07:45:00\",\"2021-06-22T08:00:00\",\"2021-06-22T08:15:00\",\"2021-06-22T08:30:00\",\"2021-06-22T08:45:00\",\"2021-06-22T09:00:00\",\"2021-06-22T09:15:00\",\"2021-06-22T09:30:00\",\"2021-06-22T09:45:00\",\"2021-06-22T10:00:00\",\"2021-06-22T10:15:00\",\"2021-06-22T10:30:00\",\"2021-06-22T10:45:00\",\"2021-06-22T11:00:00\",\"2021-06-22T11:15:00\",\"2021-06-22T11:30:00\",\"2021-06-22T11:45:00\",\"2021-06-22T12:00:00\",\"2021-06-22T12:15:00\",\"2021-06-22T12:30:00\",\"2021-06-22T12:45:00\",\"2021-06-22T13:00:00\",\"2021-06-22T13:15:00\",\"2021-06-22T13:30:00\",\"2021-06-22T13:45:00\",\"2021-06-22T14:00:00\",\"2021-06-22T14:15:00\",\"2021-06-22T14:30:00\",\"2021-06-22T14:45:00\",\"2021-06-22T15:00:00\",\"2021-06-22T15:15:00\",\"2021-06-22T15:30:00\",\"2021-06-22T15:45:00\",\"2021-06-22T16:00:00\",\"2021-06-22T16:15:00\",\"2021-06-22T16:30:00\",\"2021-06-22T16:45:00\",\"2021-06-22T17:00:00\",\"2021-06-22T17:15:00\",\"2021-06-22T17:30:00\",\"2021-06-22T17:45:00\",\"2021-06-22T18:00:00\",\"2021-06-22T18:15:00\",\"2021-06-22T18:30:00\",\"2021-06-22T18:45:00\",\"2021-06-22T19:00:00\",\"2021-06-22T19:15:00\",\"2021-06-22T19:30:00\",\"2021-06-22T19:45:00\",\"2021-06-22T20:00:00\",\"2021-06-22T20:15:00\",\"2021-06-22T20:30:00\",\"2021-06-22T20:45:00\",\"2021-06-22T21:00:00\",\"2021-06-22T21:15:00\",\"2021-06-22T21:30:00\",\"2021-06-22T21:45:00\",\"2021-06-22T22:00:00\",\"2021-06-22T22:15:00\",\"2021-06-22T22:30:00\",\"2021-06-22T22:45:00\",\"2021-06-22T23:00:00\",\"2021-06-22T23:15:00\",\"2021-06-22T23:30:00\",\"2021-06-22T23:45:00\",\"2021-06-23T00:00:00\",\"2021-06-23T00:15:00\",\"2021-06-23T00:30:00\",\"2021-06-23T00:45:00\",\"2021-06-23T01:00:00\",\"2021-06-23T01:15:00\",\"2021-06-23T01:30:00\",\"2021-06-23T01:45:00\",\"2021-06-23T02:00:00\",\"2021-06-23T02:15:00\",\"2021-06-23T02:30:00\",\"2021-06-23T02:45:00\",\"2021-06-23T03:00:00\",\"2021-06-23T03:15:00\",\"2021-06-23T03:30:00\",\"2021-06-23T03:45:00\",\"2021-06-23T04:00:00\",\"2021-06-23T04:15:00\",\"2021-06-23T04:30:00\",\"2021-06-23T04:45:00\",\"2021-06-23T05:00:00\",\"2021-06-23T05:15:00\",\"2021-06-23T05:30:00\",\"2021-06-23T05:45:00\",\"2021-06-23T06:00:00\",\"2021-06-23T06:15:00\",\"2021-06-23T06:30:00\",\"2021-06-23T06:45:00\",\"2021-06-23T07:00:00\",\"2021-06-23T07:15:00\",\"2021-06-23T07:30:00\",\"2021-06-23T07:45:00\",\"2021-06-23T08:00:00\",\"2021-06-23T08:15:00\",\"2021-06-23T08:30:00\",\"2021-06-23T08:45:00\",\"2021-06-23T09:00:00\",\"2021-06-23T09:15:00\",\"2021-06-23T09:30:00\",\"2021-06-23T09:45:00\",\"2021-06-23T10:00:00\",\"2021-06-23T10:15:00\",\"2021-06-23T10:30:00\",\"2021-06-23T10:45:00\",\"2021-06-23T11:00:00\",\"2021-06-23T11:15:00\",\"2021-06-23T11:30:00\",\"2021-06-23T11:45:00\",\"2021-06-23T12:00:00\",\"2021-06-23T12:15:00\",\"2021-06-23T12:30:00\",\"2021-06-23T12:45:00\",\"2021-06-23T13:00:00\",\"2021-06-23T13:15:00\",\"2021-06-23T13:30:00\",\"2021-06-23T13:45:00\",\"2021-06-23T14:00:00\",\"2021-06-23T14:15:00\",\"2021-06-23T14:30:00\",\"2021-06-23T14:45:00\",\"2021-06-23T15:00:00\",\"2021-06-23T15:15:00\",\"2021-06-23T15:30:00\",\"2021-06-23T15:45:00\",\"2021-06-23T16:00:00\",\"2021-06-23T16:15:00\",\"2021-06-23T16:30:00\",\"2021-06-23T16:45:00\",\"2021-06-23T17:00:00\",\"2021-06-23T17:15:00\",\"2021-06-23T17:30:00\",\"2021-06-23T17:45:00\",\"2021-06-23T18:00:00\",\"2021-06-23T18:15:00\",\"2021-06-23T18:30:00\",\"2021-06-23T18:45:00\",\"2021-06-23T19:00:00\",\"2021-06-23T19:15:00\",\"2021-06-23T19:30:00\",\"2021-06-23T19:45:00\",\"2021-06-23T20:00:00\",\"2021-06-23T20:15:00\",\"2021-06-23T20:30:00\",\"2021-06-23T20:45:00\",\"2021-06-23T21:00:00\",\"2021-06-23T21:15:00\",\"2021-06-23T21:30:00\",\"2021-06-23T21:45:00\",\"2021-06-23T22:00:00\",\"2021-06-23T22:15:00\",\"2021-06-23T22:30:00\",\"2021-06-23T22:45:00\",\"2021-06-23T23:00:00\",\"2021-06-23T23:15:00\",\"2021-06-23T23:30:00\",\"2021-06-23T23:45:00\",\"2021-06-24T00:00:00\",\"2021-06-24T00:15:00\",\"2021-06-24T00:30:00\",\"2021-06-24T00:45:00\",\"2021-06-24T01:00:00\",\"2021-06-24T01:15:00\",\"2021-06-24T01:30:00\",\"2021-06-24T01:45:00\",\"2021-06-24T02:00:00\",\"2021-06-24T02:15:00\",\"2021-06-24T02:30:00\",\"2021-06-24T02:45:00\",\"2021-06-24T03:00:00\",\"2021-06-24T03:15:00\",\"2021-06-24T03:30:00\",\"2021-06-24T03:45:00\",\"2021-06-24T04:00:00\",\"2021-06-24T04:15:00\",\"2021-06-24T04:30:00\",\"2021-06-24T04:45:00\",\"2021-06-24T05:00:00\",\"2021-06-24T05:15:00\",\"2021-06-24T05:30:00\",\"2021-06-24T05:45:00\",\"2021-06-24T06:00:00\",\"2021-06-24T06:15:00\",\"2021-06-24T06:30:00\",\"2021-06-24T06:45:00\",\"2021-06-24T07:00:00\",\"2021-06-24T07:15:00\",\"2021-06-24T07:30:00\",\"2021-06-24T07:45:00\",\"2021-06-24T08:00:00\",\"2021-06-24T08:15:00\",\"2021-06-24T08:30:00\",\"2021-06-24T08:45:00\",\"2021-06-24T09:00:00\",\"2021-06-24T09:15:00\",\"2021-06-24T09:30:00\",\"2021-06-24T09:45:00\",\"2021-06-24T10:00:00\",\"2021-06-24T10:15:00\",\"2021-06-24T10:30:00\",\"2021-06-24T10:45:00\",\"2021-06-24T11:00:00\",\"2021-06-24T11:15:00\",\"2021-06-24T11:30:00\",\"2021-06-24T11:45:00\",\"2021-06-24T12:00:00\",\"2021-06-24T12:15:00\",\"2021-06-24T12:30:00\",\"2021-06-24T12:45:00\",\"2021-06-24T13:00:00\",\"2021-06-24T13:15:00\",\"2021-06-24T13:30:00\",\"2021-06-24T13:45:00\",\"2021-06-24T14:00:00\",\"2021-06-24T14:15:00\",\"2021-06-24T14:30:00\",\"2021-06-24T14:45:00\",\"2021-06-24T15:00:00\",\"2021-06-24T15:15:00\",\"2021-06-24T15:30:00\",\"2021-06-24T15:45:00\",\"2021-06-24T16:00:00\",\"2021-06-24T16:15:00\",\"2021-06-24T16:30:00\",\"2021-06-24T16:45:00\",\"2021-06-24T17:00:00\",\"2021-06-24T17:15:00\",\"2021-06-24T17:30:00\",\"2021-06-24T17:45:00\",\"2021-06-24T18:00:00\",\"2021-06-24T18:15:00\",\"2021-06-24T18:30:00\",\"2021-06-24T18:45:00\",\"2021-06-24T19:00:00\",\"2021-06-24T19:15:00\",\"2021-06-24T19:30:00\",\"2021-06-24T19:45:00\",\"2021-06-24T20:00:00\",\"2021-06-24T20:15:00\",\"2021-06-24T20:30:00\",\"2021-06-24T20:45:00\",\"2021-06-24T21:00:00\",\"2021-06-24T21:15:00\",\"2021-06-24T21:30:00\",\"2021-06-24T21:45:00\",\"2021-06-24T22:00:00\",\"2021-06-24T22:15:00\",\"2021-06-24T22:30:00\",\"2021-06-24T22:45:00\",\"2021-06-24T23:00:00\",\"2021-06-24T23:15:00\",\"2021-06-24T23:30:00\",\"2021-06-24T23:45:00\",\"2021-06-25T00:00:00\",\"2021-06-25T00:15:00\",\"2021-06-25T00:30:00\",\"2021-06-25T00:45:00\",\"2021-06-25T01:00:00\",\"2021-06-25T01:15:00\",\"2021-06-25T01:30:00\",\"2021-06-25T01:45:00\",\"2021-06-25T02:00:00\",\"2021-06-25T02:15:00\",\"2021-06-25T02:30:00\",\"2021-06-25T02:45:00\",\"2021-06-25T03:00:00\",\"2021-06-25T03:15:00\",\"2021-06-25T03:30:00\",\"2021-06-25T03:45:00\",\"2021-06-25T04:00:00\",\"2021-06-25T04:15:00\",\"2021-06-25T04:30:00\",\"2021-06-25T04:45:00\",\"2021-06-25T05:00:00\",\"2021-06-25T05:15:00\",\"2021-06-25T05:30:00\",\"2021-06-25T05:45:00\",\"2021-06-25T06:00:00\",\"2021-06-25T06:15:00\",\"2021-06-25T06:30:00\",\"2021-06-25T06:45:00\",\"2021-06-25T07:00:00\",\"2021-06-25T07:15:00\",\"2021-06-25T07:30:00\",\"2021-06-25T07:45:00\",\"2021-06-25T08:00:00\",\"2021-06-25T08:15:00\",\"2021-06-25T08:30:00\",\"2021-06-25T08:45:00\",\"2021-06-25T09:00:00\",\"2021-06-25T09:15:00\",\"2021-06-25T09:30:00\",\"2021-06-25T09:45:00\",\"2021-06-25T10:00:00\",\"2021-06-25T10:15:00\",\"2021-06-25T10:30:00\",\"2021-06-25T10:45:00\",\"2021-06-25T11:00:00\",\"2021-06-25T11:15:00\",\"2021-06-25T11:30:00\",\"2021-06-25T11:45:00\",\"2021-06-25T12:00:00\",\"2021-06-25T12:15:00\",\"2021-06-25T12:30:00\",\"2021-06-25T12:45:00\",\"2021-06-25T13:00:00\",\"2021-06-25T13:15:00\",\"2021-06-25T13:30:00\",\"2021-06-25T13:45:00\",\"2021-06-25T14:00:00\",\"2021-06-25T14:15:00\",\"2021-06-25T14:30:00\",\"2021-06-25T14:45:00\",\"2021-06-25T15:00:00\",\"2021-06-25T15:15:00\",\"2021-06-25T15:30:00\",\"2021-06-25T15:45:00\",\"2021-06-25T16:00:00\",\"2021-06-25T16:15:00\",\"2021-06-25T16:30:00\",\"2021-06-25T16:45:00\",\"2021-06-25T17:00:00\",\"2021-06-25T17:15:00\",\"2021-06-25T17:30:00\",\"2021-06-25T17:45:00\",\"2021-06-25T18:00:00\",\"2021-06-25T18:15:00\",\"2021-06-25T18:30:00\",\"2021-06-25T18:45:00\",\"2021-06-25T19:00:00\",\"2021-06-25T19:15:00\",\"2021-06-25T19:30:00\",\"2021-06-25T19:45:00\",\"2021-06-25T20:00:00\",\"2021-06-25T20:15:00\",\"2021-06-25T20:30:00\",\"2021-06-25T20:45:00\",\"2021-06-25T21:00:00\",\"2021-06-25T21:15:00\",\"2021-06-25T21:30:00\",\"2021-06-25T21:45:00\",\"2021-06-28T00:00:00\",\"2021-06-28T00:15:00\",\"2021-06-28T00:30:00\",\"2021-06-28T00:45:00\",\"2021-06-28T01:00:00\",\"2021-06-28T01:15:00\",\"2021-06-28T01:30:00\",\"2021-06-28T01:45:00\",\"2021-06-28T02:00:00\",\"2021-06-28T02:15:00\",\"2021-06-28T02:30:00\",\"2021-06-28T02:45:00\",\"2021-06-28T03:00:00\",\"2021-06-28T03:15:00\",\"2021-06-28T03:30:00\",\"2021-06-28T03:45:00\",\"2021-06-28T04:00:00\",\"2021-06-28T04:15:00\",\"2021-06-28T04:30:00\",\"2021-06-28T04:45:00\",\"2021-06-28T05:00:00\",\"2021-06-28T05:15:00\",\"2021-06-28T05:30:00\",\"2021-06-28T05:45:00\",\"2021-06-28T06:00:00\",\"2021-06-28T06:15:00\",\"2021-06-28T06:30:00\",\"2021-06-28T06:45:00\",\"2021-06-28T07:00:00\",\"2021-06-28T07:15:00\",\"2021-06-28T07:30:00\",\"2021-06-28T07:45:00\",\"2021-06-28T08:00:00\",\"2021-06-28T08:15:00\",\"2021-06-28T08:30:00\",\"2021-06-28T08:45:00\",\"2021-06-28T09:00:00\",\"2021-06-28T09:15:00\",\"2021-06-28T09:30:00\",\"2021-06-28T09:45:00\",\"2021-06-28T10:00:00\",\"2021-06-28T10:15:00\",\"2021-06-28T10:30:00\",\"2021-06-28T10:45:00\",\"2021-06-28T11:00:00\",\"2021-06-28T11:15:00\",\"2021-06-28T11:30:00\",\"2021-06-28T11:45:00\",\"2021-06-28T12:00:00\",\"2021-06-28T12:15:00\",\"2021-06-28T12:30:00\",\"2021-06-28T12:45:00\",\"2021-06-28T13:00:00\",\"2021-06-28T13:15:00\",\"2021-06-28T13:30:00\",\"2021-06-28T13:45:00\",\"2021-06-28T14:00:00\",\"2021-06-28T14:15:00\",\"2021-06-28T14:30:00\",\"2021-06-28T14:45:00\",\"2021-06-28T15:00:00\",\"2021-06-28T15:15:00\",\"2021-06-28T15:30:00\",\"2021-06-28T15:45:00\",\"2021-06-28T16:00:00\",\"2021-06-28T16:15:00\",\"2021-06-28T16:30:00\",\"2021-06-28T16:45:00\",\"2021-06-28T17:00:00\",\"2021-06-28T17:15:00\",\"2021-06-28T17:30:00\",\"2021-06-28T17:45:00\",\"2021-06-28T18:00:00\",\"2021-06-28T18:15:00\",\"2021-06-28T18:30:00\",\"2021-06-28T18:45:00\",\"2021-06-28T19:00:00\",\"2021-06-28T19:15:00\",\"2021-06-28T19:30:00\",\"2021-06-28T19:45:00\",\"2021-06-28T20:00:00\",\"2021-06-28T20:15:00\",\"2021-06-28T20:30:00\",\"2021-06-28T20:45:00\",\"2021-06-28T21:00:00\",\"2021-06-28T21:15:00\",\"2021-06-28T21:30:00\",\"2021-06-28T21:45:00\",\"2021-06-28T22:00:00\",\"2021-06-28T22:15:00\",\"2021-06-28T22:30:00\",\"2021-06-28T22:45:00\",\"2021-06-28T23:00:00\",\"2021-06-28T23:15:00\",\"2021-06-28T23:30:00\",\"2021-06-28T23:45:00\",\"2021-06-29T00:00:00\",\"2021-06-29T00:15:00\",\"2021-06-29T00:30:00\",\"2021-06-29T00:45:00\",\"2021-06-29T01:00:00\",\"2021-06-29T01:15:00\",\"2021-06-29T01:30:00\",\"2021-06-29T01:45:00\",\"2021-06-29T02:00:00\",\"2021-06-29T02:15:00\",\"2021-06-29T02:30:00\",\"2021-06-29T02:45:00\",\"2021-06-29T03:00:00\",\"2021-06-29T03:15:00\",\"2021-06-29T03:30:00\",\"2021-06-29T03:45:00\",\"2021-06-29T04:00:00\",\"2021-06-29T04:15:00\",\"2021-06-29T04:30:00\",\"2021-06-29T04:45:00\",\"2021-06-29T05:00:00\",\"2021-06-29T05:15:00\",\"2021-06-29T05:30:00\",\"2021-06-29T05:45:00\",\"2021-06-29T06:00:00\",\"2021-06-29T06:15:00\",\"2021-06-29T06:30:00\",\"2021-06-29T06:45:00\",\"2021-06-29T07:00:00\",\"2021-06-29T07:15:00\",\"2021-06-29T07:30:00\",\"2021-06-29T07:45:00\",\"2021-06-29T08:00:00\",\"2021-06-29T08:15:00\",\"2021-06-29T08:30:00\",\"2021-06-29T08:45:00\",\"2021-06-29T09:00:00\",\"2021-06-29T09:15:00\",\"2021-06-29T09:30:00\",\"2021-06-29T09:45:00\",\"2021-06-29T10:00:00\",\"2021-06-29T10:15:00\",\"2021-06-29T10:30:00\",\"2021-06-29T10:45:00\",\"2021-06-29T11:00:00\",\"2021-06-29T11:15:00\",\"2021-06-29T11:30:00\",\"2021-06-29T11:45:00\",\"2021-06-29T12:00:00\",\"2021-06-29T12:15:00\",\"2021-06-29T12:30:00\",\"2021-06-29T12:45:00\",\"2021-06-29T13:00:00\",\"2021-06-29T13:15:00\",\"2021-06-29T13:30:00\",\"2021-06-29T13:45:00\",\"2021-06-29T14:00:00\",\"2021-06-29T14:15:00\",\"2021-06-29T14:30:00\",\"2021-06-29T14:45:00\",\"2021-06-29T15:00:00\",\"2021-06-29T15:15:00\",\"2021-06-29T15:30:00\",\"2021-06-29T15:45:00\",\"2021-06-29T16:00:00\",\"2021-06-29T16:15:00\",\"2021-06-29T16:30:00\",\"2021-06-29T16:45:00\",\"2021-06-29T17:00:00\",\"2021-06-29T17:15:00\",\"2021-06-29T17:30:00\",\"2021-06-29T17:45:00\",\"2021-06-29T18:00:00\",\"2021-06-29T18:15:00\",\"2021-06-29T18:30:00\",\"2021-06-29T18:45:00\",\"2021-06-29T19:00:00\",\"2021-06-29T19:15:00\",\"2021-06-29T19:30:00\",\"2021-06-29T19:45:00\",\"2021-06-29T20:00:00\",\"2021-06-29T20:15:00\",\"2021-06-29T20:30:00\",\"2021-06-29T20:45:00\",\"2021-06-29T21:00:00\",\"2021-06-29T21:15:00\",\"2021-06-29T21:30:00\",\"2021-06-29T21:45:00\",\"2021-06-29T22:00:00\",\"2021-06-29T22:15:00\",\"2021-06-29T22:30:00\",\"2021-06-29T22:45:00\",\"2021-06-29T23:00:00\",\"2021-06-29T23:15:00\",\"2021-06-29T23:30:00\",\"2021-06-29T23:45:00\",\"2021-06-30T00:00:00\",\"2021-06-30T00:15:00\",\"2021-06-30T00:30:00\",\"2021-06-30T00:45:00\",\"2021-06-30T01:00:00\",\"2021-06-30T01:15:00\",\"2021-06-30T01:30:00\",\"2021-06-30T01:45:00\",\"2021-06-30T02:00:00\",\"2021-06-30T02:15:00\",\"2021-06-30T02:30:00\",\"2021-06-30T02:45:00\",\"2021-06-30T03:00:00\",\"2021-06-30T03:15:00\",\"2021-06-30T03:30:00\",\"2021-06-30T03:45:00\",\"2021-06-30T04:00:00\",\"2021-06-30T04:15:00\",\"2021-06-30T04:30:00\",\"2021-06-30T04:45:00\",\"2021-06-30T05:00:00\",\"2021-06-30T05:15:00\",\"2021-06-30T05:30:00\",\"2021-06-30T05:45:00\",\"2021-06-30T06:00:00\",\"2021-06-30T06:15:00\",\"2021-06-30T06:30:00\",\"2021-06-30T06:45:00\",\"2021-06-30T07:00:00\",\"2021-06-30T07:15:00\",\"2021-06-30T07:30:00\",\"2021-06-30T07:45:00\",\"2021-06-30T08:00:00\",\"2021-06-30T08:15:00\",\"2021-06-30T08:30:00\",\"2021-06-30T08:45:00\",\"2021-06-30T09:00:00\",\"2021-06-30T09:15:00\",\"2021-06-30T09:30:00\",\"2021-06-30T09:45:00\",\"2021-06-30T10:00:00\",\"2021-06-30T10:15:00\",\"2021-06-30T10:30:00\",\"2021-06-30T10:45:00\",\"2021-06-30T11:00:00\",\"2021-06-30T11:15:00\",\"2021-06-30T11:30:00\",\"2021-06-30T11:45:00\",\"2021-06-30T12:00:00\",\"2021-06-30T12:15:00\",\"2021-06-30T12:30:00\",\"2021-06-30T12:45:00\",\"2021-06-30T13:00:00\",\"2021-06-30T13:15:00\",\"2021-06-30T13:30:00\",\"2021-06-30T13:45:00\",\"2021-06-30T14:00:00\",\"2021-06-30T14:15:00\",\"2021-06-30T14:30:00\",\"2021-06-30T14:45:00\",\"2021-06-30T15:00:00\",\"2021-06-30T15:15:00\",\"2021-06-30T15:30:00\",\"2021-06-30T15:45:00\",\"2021-06-30T16:00:00\",\"2021-06-30T16:15:00\",\"2021-06-30T16:30:00\",\"2021-06-30T16:45:00\",\"2021-06-30T17:00:00\",\"2021-06-30T17:15:00\",\"2021-06-30T17:30:00\",\"2021-06-30T17:45:00\",\"2021-06-30T18:00:00\",\"2021-06-30T18:15:00\",\"2021-06-30T18:30:00\",\"2021-06-30T18:45:00\",\"2021-06-30T19:00:00\",\"2021-06-30T19:15:00\",\"2021-06-30T19:30:00\",\"2021-06-30T19:45:00\",\"2021-06-30T20:00:00\",\"2021-06-30T20:15:00\",\"2021-06-30T20:30:00\",\"2021-06-30T20:45:00\",\"2021-06-30T21:00:00\",\"2021-06-30T21:15:00\",\"2021-06-30T21:30:00\",\"2021-06-30T21:45:00\",\"2021-06-30T22:00:00\",\"2021-06-30T22:15:00\",\"2021-06-30T22:30:00\",\"2021-06-30T22:45:00\",\"2021-06-30T23:00:00\",\"2021-06-30T23:15:00\",\"2021-06-30T23:30:00\",\"2021-06-30T23:45:00\",\"2021-07-01T00:00:00\",\"2021-07-01T00:15:00\",\"2021-07-01T00:30:00\",\"2021-07-01T00:45:00\",\"2021-07-01T01:00:00\",\"2021-07-01T01:15:00\",\"2021-07-01T01:30:00\",\"2021-07-01T01:45:00\",\"2021-07-01T02:00:00\",\"2021-07-01T02:15:00\",\"2021-07-01T02:30:00\",\"2021-07-01T02:45:00\",\"2021-07-01T03:00:00\",\"2021-07-01T03:15:00\",\"2021-07-01T03:30:00\",\"2021-07-01T03:45:00\",\"2021-07-01T04:00:00\",\"2021-07-01T04:15:00\",\"2021-07-01T04:30:00\",\"2021-07-01T04:45:00\",\"2021-07-01T05:00:00\",\"2021-07-01T05:15:00\",\"2021-07-01T05:30:00\",\"2021-07-01T05:45:00\",\"2021-07-01T06:00:00\",\"2021-07-01T06:15:00\",\"2021-07-01T06:30:00\",\"2021-07-01T06:45:00\",\"2021-07-01T07:00:00\",\"2021-07-01T07:15:00\",\"2021-07-01T07:30:00\",\"2021-07-01T07:45:00\",\"2021-07-01T08:00:00\",\"2021-07-01T08:15:00\",\"2021-07-01T08:30:00\",\"2021-07-01T08:45:00\",\"2021-07-01T09:00:00\",\"2021-07-01T09:15:00\",\"2021-07-01T09:30:00\",\"2021-07-01T09:45:00\",\"2021-07-01T10:00:00\",\"2021-07-01T10:15:00\",\"2021-07-01T10:30:00\",\"2021-07-01T10:45:00\",\"2021-07-01T11:00:00\",\"2021-07-01T11:15:00\",\"2021-07-01T11:30:00\",\"2021-07-01T11:45:00\",\"2021-07-01T12:00:00\",\"2021-07-01T12:15:00\",\"2021-07-01T12:30:00\",\"2021-07-01T12:45:00\",\"2021-07-01T13:00:00\",\"2021-07-01T13:15:00\",\"2021-07-01T13:30:00\",\"2021-07-01T13:45:00\",\"2021-07-01T14:00:00\",\"2021-07-01T14:15:00\",\"2021-07-01T14:30:00\",\"2021-07-01T14:45:00\",\"2021-07-01T15:00:00\",\"2021-07-01T15:15:00\",\"2021-07-01T15:30:00\",\"2021-07-01T15:45:00\",\"2021-07-01T16:00:00\",\"2021-07-01T16:15:00\",\"2021-07-01T16:30:00\",\"2021-07-01T16:45:00\",\"2021-07-01T17:00:00\",\"2021-07-01T17:15:00\",\"2021-07-01T17:30:00\",\"2021-07-01T17:45:00\",\"2021-07-01T18:00:00\",\"2021-07-01T18:15:00\",\"2021-07-01T18:30:00\",\"2021-07-01T18:45:00\",\"2021-07-01T19:00:00\",\"2021-07-01T19:15:00\",\"2021-07-01T19:30:00\",\"2021-07-01T19:45:00\",\"2021-07-01T20:00:00\",\"2021-07-01T20:15:00\",\"2021-07-01T20:30:00\",\"2021-07-01T20:45:00\",\"2021-07-01T21:00:00\",\"2021-07-01T21:15:00\",\"2021-07-01T21:30:00\",\"2021-07-01T21:45:00\",\"2021-07-01T22:00:00\",\"2021-07-01T22:15:00\",\"2021-07-01T22:30:00\",\"2021-07-01T22:45:00\",\"2021-07-01T23:00:00\",\"2021-07-01T23:15:00\",\"2021-07-01T23:30:00\",\"2021-07-01T23:45:00\",\"2021-07-02T00:00:00\",\"2021-07-02T00:15:00\",\"2021-07-02T00:30:00\",\"2021-07-02T00:45:00\",\"2021-07-02T01:00:00\",\"2021-07-02T01:15:00\",\"2021-07-02T01:30:00\",\"2021-07-02T01:45:00\",\"2021-07-02T02:00:00\",\"2021-07-02T02:15:00\",\"2021-07-02T02:30:00\"],\"y\":[null,null,null,null,null,null,null,null,null,null,null,null,null,null,null,null,null,null,null,null,null,null,null,null,null,null,null,null,null,1.8440773333333333,1.8440996666666665,1.8440949999999998,1.8440853333333331,1.8440729999999996,1.844047333333333,1.844058333333333,1.8441526666666663,1.8442176666666663,1.8443326666666664,1.844578333333333,1.8447269999999996,1.8447709999999995,1.8447773333333328,1.844761333333333,1.8447406666666661,1.8447059999999993,1.8446373333333326,1.8445179999999994,1.8443953333333327,1.844237666666666,1.8441793333333327,1.8440676666666662,1.8439379999999994,1.8438153333333327,1.8436953333333328,1.8435909999999995,1.843475333333333,1.8433796666666662,1.843266666666666,1.8431716666666662,1.8431379999999995,1.8431276666666663,1.8431416666666662,1.8431816666666663,1.8432459999999997,1.8432936666666666,1.843338,1.8433633333333332,1.843435333333333,1.843285,1.8431676666666665,1.8432163333333333,1.8433076666666668,1.843404,1.8435236666666668,1.8435766666666666,1.843684333333333,1.8438496666666666,1.84399,1.844134,1.8441793333333332,1.8442319999999996,1.8442639999999997,1.8442876666666663,1.8443509999999996,1.8444313333333329,1.8444629999999997,1.844479333333333,1.8445256666666663,1.8445256666666663,1.8444693333333328,1.844411333333333,1.8443456666666662,1.844260333333333,1.844158666666666,1.8440363333333327,1.8439333333333328,1.8438133333333329,1.8436349999999995,1.8435869999999994,1.8435879999999996,1.8435069999999996,1.8434859999999995,1.8434446666666662,1.8434103333333327,1.8434359999999996,1.8433279999999996,1.8431949999999995,1.8430776666666662,1.8429396666666662,1.842888333333333,1.842872333333333,1.842836333333333,1.8428159999999998,1.8427619999999998,1.8425616666666664,1.8423869999999998,1.842241,1.8420866666666667,1.8420243333333333,1.8419969999999999,1.841983,1.841948,1.841917,1.8419023333333335,1.8418896666666669,1.8418723333333336,1.8419026666666667,1.8419133333333335,1.8418183333333336,1.8417593333333335,1.8416453333333334,1.8414906666666666,1.8413773333333334,1.841330666666667,1.841334666666667,1.8414033333333335,1.8414876666666669,1.8416036666666669,1.8417740000000002,1.8419156666666667,1.842011,1.8421556666666667,1.8422930000000002,1.8424613333333335,1.8427626666666668,1.843037,1.8433113333333335,1.8435703333333335,1.843798666666667,1.8439860000000003,1.8441753333333335,1.8443550000000002,1.8445326666666668,1.8446466666666668,1.8448056666666668,1.8449516666666668,1.845083,1.8452166666666667,1.8454393333333334,1.8456323333333333,1.8458856666666668,1.846103,1.8463016666666667,1.8464736666666668,1.8465269999999998,1.846647,1.846824,1.8469506666666669,1.8470333333333333,1.8471043333333335,1.8471773333333334,1.8472623333333333,1.8473313333333332,1.8474016666666666,1.8474226666666667,1.8474583333333334,1.8474886666666668,1.8475146666666666,1.8475096666666668,1.8475503333333336,1.847571666666667,1.8476026666666672,1.8476176666666673,1.847708666666667,1.8477546666666673,1.847798333333334,1.8477956666666675,1.8477766666666675,1.8477460000000008,1.8477383333333344,1.8477100000000009,1.847740000000001,1.847766333333334,1.8477410000000007,1.8477683333333343,1.8477500000000011,1.847692000000001,1.847653333333334,1.8476280000000007,1.8475730000000008,1.8475303333333342,1.8475200000000007,1.8475590000000008,1.847568000000001,1.8476240000000008,1.847667333333334,1.8476890000000006,1.8477096666666672,1.847748333333334,1.847791666666667,1.8478460000000003,1.8479223333333337,1.8480556666666672,1.8481746666666674,1.8483070000000006,1.8484720000000006,1.8486413333333338,1.848784333333334,1.8489040000000008,1.8489730000000006,1.8490626666666674,1.849108333333334,1.849146333333334,1.849219333333334,1.8493140000000006,1.8494330000000005,1.8495406666666672,1.849628333333334,1.8497176666666673,1.8497886666666672,1.8498673333333338,1.8499130000000006,1.8499413333333339,1.8500063333333339,1.8500440000000005,1.8500933333333338,1.8501493333333339,1.850174333333334,1.8501923333333339,1.8502140000000007,1.8502300000000005,1.850210666666667,1.8501123333333338,1.8499910000000002,1.8498820000000005,1.849746666666667,1.8496023333333336,1.8494800000000002,1.8494013333333335,1.8493670000000002,1.8493133333333336,1.8493380000000001,1.8493880000000005,1.849377666666667,1.849314666666667,1.849267666666667,1.8491943333333336,1.8492146666666671,1.8491983333333337,1.849255333333334,1.8493183333333338,1.849382333333334,1.8493856666666673,1.8493550000000005,1.8493146666666673,1.849289333333334,1.8492596666666674,1.849248333333334,1.849233333333334,1.8491876666666676,1.8491393333333341,1.849096000000001,1.8490683333333344,1.8490393333333344,1.8490136666666677,1.848972000000001,1.8489126666666678,1.8488456666666677,1.8487766666666678,1.8486973333333343,1.848613333333334,1.8484670000000007,1.8483103333333342,1.8481896666666675,1.8480983333333343,1.8480106666666678,1.8479480000000013,1.8478163333333344,1.8476833333333345,1.8475413333333344,1.847386333333334,1.847227333333334,1.847132333333334,1.8470476666666675,1.8469850000000008,1.8469196666666676,1.846821000000001,1.846745000000001,1.8466623333333343,1.8466170000000008,1.8465606666666676,1.8465106666666675,1.8464830000000008,1.8464396666666676,1.846418333333334,1.8464106666666673,1.8464500000000006,1.8465130000000007,1.8465230000000006,1.8465223333333336,1.846517666666667,1.8465040000000001,1.8464923333333336,1.8464793333333336,1.8465133333333335,1.8465213333333332,1.8465203333333335,1.8465160000000003,1.8465436666666668,1.8465463333333336,1.8465600000000004,1.8466070000000003,1.8466650000000004,1.846742666666667,1.8467766666666672,1.8468273333333338,1.8469546666666672,1.8470993333333336,1.847274666666667,1.847395666666667,1.847454666666667,1.847465666666667,1.8474583333333334,1.8474843333333335,1.8474520000000003,1.8474573333333337,1.847401666666667,1.847362666666667,1.8473933333333337,1.8473083333333338,1.8472533333333339,1.8472310000000005,1.8471840000000006,1.8471710000000006,1.847102333333334,1.847020333333334,1.8469666666666673,1.8469110000000009,1.8468656666666674,1.846823333333334,1.846796333333334,1.8467313333333342,1.8465666666666676,1.8463343333333342,1.8461553333333343,1.8459323333333342,1.8456236666666677,1.845296000000001,1.8449346666666675,1.8446110000000009,1.8443523333333343,1.8441783333333344,1.8440356666666675,1.8438960000000009,1.843790000000001,1.8436533333333343,1.8435740000000007,1.8434926666666673,1.8433730000000008,1.8433526666666677,1.8433203333333343,1.843257000000001,1.843241000000001,1.843188000000001,1.8431620000000009,1.843115333333334,1.8430560000000007,1.8430096666666673,1.8429476666666673,1.8428900000000008,1.8428000000000009,1.8426953333333345,1.8426443333333344,1.8426686666666678,1.842661000000001,1.8426920000000009,1.8427666666666676,1.8428186666666675,1.842922000000001,1.8430076666666677,1.8431003333333345,1.8431413333333344,1.843190000000001,1.843236666666668,1.8432763333333346,1.843323666666668,1.8433290000000013,1.8433076666666681,1.8432973333333347,1.843287000000001,1.8432616666666677,1.8432573333333344,1.843231666666668,1.8432026666666679,1.8431583333333346,1.8431680000000012,1.8431510000000013,1.8431233333333346,1.8431080000000013,1.8430760000000013,1.8430650000000015,1.8430760000000013,1.8430970000000013,1.8430940000000013,1.8430863333333347,1.843087666666668,1.843108666666668,1.8431513333333347,1.8431390000000012,1.8431070000000012,1.8430640000000014,1.843014666666668,1.8429450000000012,1.8428813333333345,1.8428236666666677,1.8427833333333343,1.8428050000000011,1.8428486666666677,1.8428756666666677,1.8429143333333344,1.842969666666668,1.843017000000001,1.8430176666666678,1.8430193333333342,1.8430363333333342,1.8430276666666676,1.8430306666666676,1.843035333333334,1.842849333333334,1.8426926666666674,1.8425070000000006,1.842259333333334,1.8419690000000004,1.8416710000000005,1.8414110000000006,1.8411686666666673,1.8408740000000003,1.840607333333334,1.8403556666666672,1.840099333333334,1.8398630000000005,1.8396506666666672,1.8394410000000005,1.8391756666666672,1.8389226666666674,1.838647333333334,1.838360333333334,1.838090000000001,1.8378133333333342,1.8375226666666675,1.8372546666666674,1.8369583333333341,1.8366976666666672,1.8364370000000008,1.836193333333334,1.835968333333334,1.8357630000000007,1.8355693333333343,1.8355700000000008,1.8355356666666676,1.8354976666666676,1.835512000000001,1.835584000000001,1.8356766666666677,1.8357376666666676,1.8357536666666678,1.835798666666668,1.8357573333333344,1.8357406666666678,1.8357333333333343,1.8357363333333343,1.835746000000001,1.8357436666666678,1.8357673333333342,1.8357943333333344,1.8358246666666675,1.8358400000000008,1.8358266666666672,1.835816333333334,1.8358196666666673,1.8357373333333342,1.8356736666666678,1.8356633333333343,1.8356453333333345,1.8356143333333346,1.8355540000000012,1.8355053333333344,1.8354660000000012,1.835400666666668,1.835344666666668,1.8353060000000014,1.8352870000000012,1.8352660000000012,1.8352086666666678,1.8351630000000012,1.8351003333333344,1.8350350000000013,1.8350180000000014,1.8349890000000013,1.8349856666666682,1.8349246666666683,1.8348693333333348,1.8348376666666681,1.8348060000000015,1.8347863333333347,1.8347483333333348,1.8346706666666681,1.8345746666666682,1.8344270000000016,1.834279666666668,1.8342083333333348,1.834086666666668,1.8339063333333347,1.8337650000000012,1.833628666666668,1.8335186666666676,1.8333763333333344,1.833238000000001,1.8331243333333342,1.833034000000001,1.832931000000001,1.8327856666666675,1.8326730000000009,1.832519000000001,1.8324086666666675,1.8323006666666677,1.8321613333333342,1.8320266666666674,1.831874333333334,1.8316516666666671,1.8314610000000007,1.8312416666666673,1.8309906666666675,1.830780333333334,1.8305540000000007,1.8304026666666675,1.8303280000000008,1.8302906666666674,1.8302846666666674,1.8302563333333342,1.8302343333333342,1.8302403333333344,1.830224000000001,1.8302076666666676,1.830199000000001,1.8302073333333344,1.830219000000001,1.8302006666666677,1.8301666666666678,1.8301180000000012,1.8300733333333346,1.830058666666668,1.8299930000000013,1.829953666666668,1.829867666666668,1.8297966666666678,1.8297583333333347,1.8296863333333349,1.8296293333333347,1.8296493333333348,1.829659666666668,1.829687666666668,1.8297236666666679,1.8297383333333348,1.8297683333333346,1.8297410000000012,1.829673000000001,1.829596000000001,1.8295713333333343,1.8295620000000012,1.8295323333333344,1.8295280000000012,1.8295343333333345,1.8295403333333344,1.8295346666666679,1.8295136666666678,1.8295196666666678,1.829487666666668,1.8294586666666677,1.8294413333333344,1.829431000000001,1.8294136666666676,1.8294026666666674,1.8294383333333342,1.8294870000000008,1.8295266666666674,1.8295800000000007,1.8296616666666672,1.829731333333334,1.8297973333333342,1.829854333333334,1.829931333333334,1.8300416666666672,1.8301496666666672,1.8302470000000006,1.8303743333333342,1.8305126666666676,1.830648000000001,1.8307823333333344,1.8309406666666674,1.8310476666666673,1.8311806666666672,1.8313503333333339,1.8315456666666672,1.8317103333333338,1.8318380000000005,1.8319576666666673,1.8321156666666671,1.8322616666666673,1.832376333333334,1.8324900000000006,1.832614333333334,1.8327370000000007,1.8328720000000007,1.833034333333334,1.8332656666666673,1.8335163333333342,1.8337883333333342,1.8340706666666675,1.8343096666666674,1.8345956666666676,1.8348426666666675,1.8350630000000008,1.8353050000000009,1.8355400000000008,1.8357156666666674,1.8358160000000008,1.8358516666666673,1.8358450000000006,1.8358330000000007,1.8358626666666673,1.8358800000000006,1.8359160000000008,1.8358906666666674,1.8359110000000007,1.8359370000000008,1.8359666666666674,1.8359790000000007,1.8360066666666672,1.8360493333333339,1.8360886666666674,1.8361193333333339,1.8361510000000008,1.8361466666666675,1.8361116666666673,1.8360076666666671,1.8358810000000005,1.835727333333334,1.8355716666666673,1.8354610000000007,1.8353233333333339,1.8351970000000004,1.8350453333333339,1.8348840000000004,1.8347000000000007,1.8345446666666672,1.8344820000000004,1.8344616666666669,1.8344653333333336,1.8344690000000006,1.834464333333334,1.8344460000000007,1.8343980000000006,1.8343506666666676,1.8343056666666675,1.834274333333334,1.8342010000000009,1.8341476666666676,1.8340883333333342,1.8340300000000012,1.8340016666666679,1.8339866666666678,1.8339946666666678,1.834015000000001,1.8340373333333346,1.8340730000000012,1.834135666666668,1.8341936666666678,1.8342593333333346,1.8342876666666679,1.834308000000001,1.834360000000001,1.8344240000000012,1.8344943333333346,1.8345576666666679,1.8346116666666679,1.8346330000000013,1.834642666666668,1.8346663333333346,1.8346620000000011,1.8346836666666677,1.834723000000001,1.8347763333333342,1.834851333333334,1.8349073333333341,1.8349736666666674,1.8350946666666672,1.8352230000000005,1.8353896666666674,1.835533333333334,1.835646666666667,1.8357866666666673,1.8359116666666673,1.836054666666667,1.8361910000000004,1.8363160000000005,1.836405333333334,1.8364720000000005,1.8365383333333338,1.8366586666666673,1.8367856666666673,1.8369210000000005,1.837064666666667,1.8372096666666669,1.8373813333333335,1.8375403333333336,1.8377063333333334,1.837842666666667,1.8379773333333338,1.8381763333333339,1.8383570000000007,1.8384636666666672,1.8385980000000004,1.838751666666667,1.8389220000000004,1.8390883333333337,1.8392183333333338,1.839359666666667,1.8394870000000003,1.839653,1.839835,1.8399393333333334,1.8400656666666668,1.8401846666666666,1.8403056666666666,1.8404426666666667,1.8405663333333335,1.840733,1.8408993333333332,1.8410393333333332,1.8411949999999997,1.8413309999999998,1.8414596666666665,1.841577,1.8416596666666665,1.8417643333333333,1.8418766666666668,1.841986,1.8420843333333332,1.8421143333333334,1.8421836666666667,1.8422676666666666,1.842362,1.8424216666666666,1.842467333333333,1.8425146666666665,1.8425489999999998,1.8425623333333332,1.842569,1.8425476666666663,1.8425209999999999,1.842539333333333,1.8425376666666662,1.8425526666666663,1.8425786666666661,1.842603333333333,1.8426329999999995,1.8426516666666661,1.842659333333333,1.842638333333333,1.842600333333333,1.8425309999999997,1.842468333333333,1.8423919999999996,1.8423356666666661,1.8422749999999994,1.8422089999999993,1.8421859999999992,1.8421916666666658,1.8421886666666656,1.8421629999999989,1.8421743333333322,1.8421393333333322,1.842131999999999,1.8421033333333325,1.8420566666666656,1.8420206666666656,1.8419249999999991,1.8418103333333324,1.8417203333333325,1.8416283333333325,1.8415499999999991,1.841490999999999,1.8415143333333326,1.8415243333333324,1.841559999999999,1.8415929999999991,1.841609666666666,1.8416593333333324,1.8418123333333325,1.8419526666666657,1.8421446666666659,1.8423273333333325,1.8425179999999992,1.8427209999999994,1.8429073333333326,1.8431079999999993,1.843320666666666,1.8434873333333326,1.8436913333333327,1.843893666666666,1.844026666666666,1.8440946666666662,1.8441563333333328,1.8441559999999992,1.8442643333333326,1.8443566666666662,1.8445003333333327,1.8446083333333327,1.8446316666666658,1.8447083333333325,1.8447703333333325,1.8448389999999992,1.8447686666666658,1.844675666666666,1.8445513333333325,1.844421666666666,1.8443303333333325,1.844188666666666,1.843989666666666,1.8438209999999993,1.8436506666666659,1.8434829999999993,1.8432903333333326,1.843092666666666,1.8429163333333327,1.8427096666666662,1.8425403333333328,1.8424219999999996,1.842342333333333,1.8422739999999995,1.8422816666666662,1.8423183333333328,1.842321333333333,1.8423733333333332,1.8423283333333331,1.842336333333333,1.8423079999999996,1.8423629999999998,1.8424956666666668,1.8425613333333333,1.842636,1.8426773333333335,1.8427630000000004,1.8428673333333336,1.8429760000000002,1.843135,1.8432626666666667,1.8434306666666667,1.8435693333333334,1.8436943333333333,1.843795,1.8438803333333333,1.8439866666666667,1.8440886666666667,1.8441956666666666,1.8443173333333331,1.84438,1.844421333333333,1.8444199999999997,1.844361333333333,1.8443276666666664,1.8443219999999996,1.844353333333333,1.844417333333333,1.8444766666666663,1.8444916666666664,1.8445793333333331,1.8446556666666665,1.8447286666666662,1.8448179999999998,1.8448843333333331,1.8449729999999998,1.8450206666666664,1.845013,1.8449753333333334,1.8449373333333334,1.84491,1.8448033333333336,1.8447170000000002,1.8445996666666669,1.8444470000000002,1.844316666666667,1.8441610000000002,1.8440033333333337,1.8438410000000005,1.843746333333334,1.8436696666666672,1.8435696666666672,1.8434600000000005,1.8433866666666672,1.8432943333333338,1.8431886666666673,1.8430426666666675,1.8428950000000008,1.842754333333334,1.8426026666666673,1.8424353333333339,1.8423053333333337,1.8421290000000003,1.8419463333333335,1.841779666666667,1.841600666666667,1.841431666666667,1.841363666666667,1.8413393333333337,1.8413000000000004,1.8413153333333336,1.8413853333333337,1.8414366666666668,1.8414670000000002,1.8415320000000002,1.8416196666666669,1.8417260000000004,1.8418210000000002,1.841928,1.841987,1.842056,1.8421336666666666,1.8421949999999998,1.8422433333333332,1.8423063333333332,1.8423516666666664,1.8424229999999997,1.8424929999999997,1.8425529999999997,1.8426479999999998,1.8427123333333333,1.8426963333333333,1.8427080000000002,1.842678666666667,1.8426973333333336,1.8427130000000003,1.842753666666667,1.8427760000000004,1.8427746666666671,1.8427590000000005,1.8426933333333337,1.8426493333333338,1.8426083333333338,1.8426063333333338,1.8426190000000005,1.8426243333333339,1.8426490000000006,1.842674333333334,1.8426986666666674,1.8426770000000008,1.8426480000000007,1.8426603333333342,1.8426943333333343,1.8427556666666676,1.8427796666666676]},{\"line\":{\"color\":\"blue\"},\"mode\":\"lines\",\"name\":\"MVS100\",\"type\":\"scatter\",\"x\":[\"2021-06-17T19:30:00\",\"2021-06-17T19:45:00\",\"2021-06-17T20:00:00\",\"2021-06-17T20:15:00\",\"2021-06-17T20:30:00\",\"2021-06-17T20:45:00\",\"2021-06-17T21:00:00\",\"2021-06-17T21:15:00\",\"2021-06-17T21:30:00\",\"2021-06-17T21:45:00\",\"2021-06-17T22:00:00\",\"2021-06-17T22:15:00\",\"2021-06-17T22:30:00\",\"2021-06-17T22:45:00\",\"2021-06-17T23:00:00\",\"2021-06-17T23:15:00\",\"2021-06-17T23:30:00\",\"2021-06-17T23:45:00\",\"2021-06-18T00:00:00\",\"2021-06-18T00:15:00\",\"2021-06-18T00:30:00\",\"2021-06-18T00:45:00\",\"2021-06-18T01:00:00\",\"2021-06-18T01:15:00\",\"2021-06-18T01:30:00\",\"2021-06-18T01:45:00\",\"2021-06-18T02:00:00\",\"2021-06-18T02:15:00\",\"2021-06-18T02:30:00\",\"2021-06-18T02:45:00\",\"2021-06-18T03:00:00\",\"2021-06-18T03:15:00\",\"2021-06-18T03:30:00\",\"2021-06-18T03:45:00\",\"2021-06-18T04:00:00\",\"2021-06-18T04:15:00\",\"2021-06-18T04:30:00\",\"2021-06-18T04:45:00\",\"2021-06-18T05:00:00\",\"2021-06-18T05:15:00\",\"2021-06-18T05:30:00\",\"2021-06-18T05:45:00\",\"2021-06-18T06:00:00\",\"2021-06-18T06:15:00\",\"2021-06-18T06:30:00\",\"2021-06-18T06:45:00\",\"2021-06-18T07:00:00\",\"2021-06-18T07:15:00\",\"2021-06-18T07:30:00\",\"2021-06-18T07:45:00\",\"2021-06-18T08:00:00\",\"2021-06-18T08:15:00\",\"2021-06-18T08:30:00\",\"2021-06-18T08:45:00\",\"2021-06-18T09:00:00\",\"2021-06-18T09:15:00\",\"2021-06-18T09:30:00\",\"2021-06-18T09:45:00\",\"2021-06-18T10:00:00\",\"2021-06-18T10:15:00\",\"2021-06-18T10:30:00\",\"2021-06-18T10:45:00\",\"2021-06-18T11:00:00\",\"2021-06-18T11:15:00\",\"2021-06-18T11:30:00\",\"2021-06-18T11:45:00\",\"2021-06-18T12:00:00\",\"2021-06-18T12:15:00\",\"2021-06-18T12:30:00\",\"2021-06-18T12:45:00\",\"2021-06-18T13:00:00\",\"2021-06-18T13:15:00\",\"2021-06-18T13:30:00\",\"2021-06-18T13:45:00\",\"2021-06-18T14:00:00\",\"2021-06-18T14:15:00\",\"2021-06-18T14:30:00\",\"2021-06-18T14:45:00\",\"2021-06-18T15:00:00\",\"2021-06-18T15:15:00\",\"2021-06-18T15:30:00\",\"2021-06-18T15:45:00\",\"2021-06-18T16:00:00\",\"2021-06-18T16:15:00\",\"2021-06-18T16:30:00\",\"2021-06-18T16:45:00\",\"2021-06-18T17:00:00\",\"2021-06-18T17:15:00\",\"2021-06-18T17:30:00\",\"2021-06-18T17:45:00\",\"2021-06-18T18:00:00\",\"2021-06-18T18:15:00\",\"2021-06-18T18:30:00\",\"2021-06-18T18:45:00\",\"2021-06-18T19:00:00\",\"2021-06-18T19:15:00\",\"2021-06-18T19:30:00\",\"2021-06-18T19:45:00\",\"2021-06-18T20:00:00\",\"2021-06-18T20:15:00\",\"2021-06-18T20:30:00\",\"2021-06-18T20:45:00\",\"2021-06-18T21:00:00\",\"2021-06-18T21:15:00\",\"2021-06-18T21:30:00\",\"2021-06-18T21:45:00\",\"2021-06-21T00:00:00\",\"2021-06-21T00:15:00\",\"2021-06-21T00:30:00\",\"2021-06-21T00:45:00\",\"2021-06-21T01:00:00\",\"2021-06-21T01:15:00\",\"2021-06-21T01:30:00\",\"2021-06-21T01:45:00\",\"2021-06-21T02:00:00\",\"2021-06-21T02:15:00\",\"2021-06-21T02:30:00\",\"2021-06-21T02:45:00\",\"2021-06-21T03:00:00\",\"2021-06-21T03:15:00\",\"2021-06-21T03:30:00\",\"2021-06-21T03:45:00\",\"2021-06-21T04:00:00\",\"2021-06-21T04:15:00\",\"2021-06-21T04:30:00\",\"2021-06-21T04:45:00\",\"2021-06-21T05:00:00\",\"2021-06-21T05:15:00\",\"2021-06-21T05:30:00\",\"2021-06-21T05:45:00\",\"2021-06-21T06:00:00\",\"2021-06-21T06:15:00\",\"2021-06-21T06:30:00\",\"2021-06-21T06:45:00\",\"2021-06-21T07:00:00\",\"2021-06-21T07:15:00\",\"2021-06-21T07:30:00\",\"2021-06-21T07:45:00\",\"2021-06-21T08:00:00\",\"2021-06-21T08:15:00\",\"2021-06-21T08:30:00\",\"2021-06-21T08:45:00\",\"2021-06-21T09:00:00\",\"2021-06-21T09:15:00\",\"2021-06-21T09:30:00\",\"2021-06-21T09:45:00\",\"2021-06-21T10:00:00\",\"2021-06-21T10:15:00\",\"2021-06-21T10:30:00\",\"2021-06-21T10:45:00\",\"2021-06-21T11:00:00\",\"2021-06-21T11:15:00\",\"2021-06-21T11:30:00\",\"2021-06-21T11:45:00\",\"2021-06-21T12:00:00\",\"2021-06-21T12:15:00\",\"2021-06-21T12:30:00\",\"2021-06-21T12:45:00\",\"2021-06-21T13:00:00\",\"2021-06-21T13:15:00\",\"2021-06-21T13:30:00\",\"2021-06-21T13:45:00\",\"2021-06-21T14:00:00\",\"2021-06-21T14:15:00\",\"2021-06-21T14:30:00\",\"2021-06-21T14:45:00\",\"2021-06-21T15:00:00\",\"2021-06-21T15:15:00\",\"2021-06-21T15:30:00\",\"2021-06-21T15:45:00\",\"2021-06-21T16:00:00\",\"2021-06-21T16:15:00\",\"2021-06-21T16:30:00\",\"2021-06-21T16:45:00\",\"2021-06-21T17:00:00\",\"2021-06-21T17:15:00\",\"2021-06-21T17:30:00\",\"2021-06-21T17:45:00\",\"2021-06-21T18:00:00\",\"2021-06-21T18:15:00\",\"2021-06-21T18:30:00\",\"2021-06-21T18:45:00\",\"2021-06-21T19:00:00\",\"2021-06-21T19:15:00\",\"2021-06-21T19:30:00\",\"2021-06-21T19:45:00\",\"2021-06-21T20:00:00\",\"2021-06-21T20:15:00\",\"2021-06-21T20:30:00\",\"2021-06-21T20:45:00\",\"2021-06-21T21:00:00\",\"2021-06-21T21:15:00\",\"2021-06-21T21:30:00\",\"2021-06-21T21:45:00\",\"2021-06-21T22:00:00\",\"2021-06-21T22:15:00\",\"2021-06-21T22:30:00\",\"2021-06-21T22:45:00\",\"2021-06-21T23:00:00\",\"2021-06-21T23:15:00\",\"2021-06-21T23:30:00\",\"2021-06-21T23:45:00\",\"2021-06-22T00:00:00\",\"2021-06-22T00:15:00\",\"2021-06-22T00:30:00\",\"2021-06-22T00:45:00\",\"2021-06-22T01:00:00\",\"2021-06-22T01:15:00\",\"2021-06-22T01:30:00\",\"2021-06-22T01:45:00\",\"2021-06-22T02:00:00\",\"2021-06-22T02:15:00\",\"2021-06-22T02:30:00\",\"2021-06-22T02:45:00\",\"2021-06-22T03:00:00\",\"2021-06-22T03:15:00\",\"2021-06-22T03:30:00\",\"2021-06-22T03:45:00\",\"2021-06-22T04:00:00\",\"2021-06-22T04:15:00\",\"2021-06-22T04:30:00\",\"2021-06-22T04:45:00\",\"2021-06-22T05:00:00\",\"2021-06-22T05:15:00\",\"2021-06-22T05:30:00\",\"2021-06-22T05:45:00\",\"2021-06-22T06:00:00\",\"2021-06-22T06:15:00\",\"2021-06-22T06:30:00\",\"2021-06-22T06:45:00\",\"2021-06-22T07:00:00\",\"2021-06-22T07:15:00\",\"2021-06-22T07:30:00\",\"2021-06-22T07:45:00\",\"2021-06-22T08:00:00\",\"2021-06-22T08:15:00\",\"2021-06-22T08:30:00\",\"2021-06-22T08:45:00\",\"2021-06-22T09:00:00\",\"2021-06-22T09:15:00\",\"2021-06-22T09:30:00\",\"2021-06-22T09:45:00\",\"2021-06-22T10:00:00\",\"2021-06-22T10:15:00\",\"2021-06-22T10:30:00\",\"2021-06-22T10:45:00\",\"2021-06-22T11:00:00\",\"2021-06-22T11:15:00\",\"2021-06-22T11:30:00\",\"2021-06-22T11:45:00\",\"2021-06-22T12:00:00\",\"2021-06-22T12:15:00\",\"2021-06-22T12:30:00\",\"2021-06-22T12:45:00\",\"2021-06-22T13:00:00\",\"2021-06-22T13:15:00\",\"2021-06-22T13:30:00\",\"2021-06-22T13:45:00\",\"2021-06-22T14:00:00\",\"2021-06-22T14:15:00\",\"2021-06-22T14:30:00\",\"2021-06-22T14:45:00\",\"2021-06-22T15:00:00\",\"2021-06-22T15:15:00\",\"2021-06-22T15:30:00\",\"2021-06-22T15:45:00\",\"2021-06-22T16:00:00\",\"2021-06-22T16:15:00\",\"2021-06-22T16:30:00\",\"2021-06-22T16:45:00\",\"2021-06-22T17:00:00\",\"2021-06-22T17:15:00\",\"2021-06-22T17:30:00\",\"2021-06-22T17:45:00\",\"2021-06-22T18:00:00\",\"2021-06-22T18:15:00\",\"2021-06-22T18:30:00\",\"2021-06-22T18:45:00\",\"2021-06-22T19:00:00\",\"2021-06-22T19:15:00\",\"2021-06-22T19:30:00\",\"2021-06-22T19:45:00\",\"2021-06-22T20:00:00\",\"2021-06-22T20:15:00\",\"2021-06-22T20:30:00\",\"2021-06-22T20:45:00\",\"2021-06-22T21:00:00\",\"2021-06-22T21:15:00\",\"2021-06-22T21:30:00\",\"2021-06-22T21:45:00\",\"2021-06-22T22:00:00\",\"2021-06-22T22:15:00\",\"2021-06-22T22:30:00\",\"2021-06-22T22:45:00\",\"2021-06-22T23:00:00\",\"2021-06-22T23:15:00\",\"2021-06-22T23:30:00\",\"2021-06-22T23:45:00\",\"2021-06-23T00:00:00\",\"2021-06-23T00:15:00\",\"2021-06-23T00:30:00\",\"2021-06-23T00:45:00\",\"2021-06-23T01:00:00\",\"2021-06-23T01:15:00\",\"2021-06-23T01:30:00\",\"2021-06-23T01:45:00\",\"2021-06-23T02:00:00\",\"2021-06-23T02:15:00\",\"2021-06-23T02:30:00\",\"2021-06-23T02:45:00\",\"2021-06-23T03:00:00\",\"2021-06-23T03:15:00\",\"2021-06-23T03:30:00\",\"2021-06-23T03:45:00\",\"2021-06-23T04:00:00\",\"2021-06-23T04:15:00\",\"2021-06-23T04:30:00\",\"2021-06-23T04:45:00\",\"2021-06-23T05:00:00\",\"2021-06-23T05:15:00\",\"2021-06-23T05:30:00\",\"2021-06-23T05:45:00\",\"2021-06-23T06:00:00\",\"2021-06-23T06:15:00\",\"2021-06-23T06:30:00\",\"2021-06-23T06:45:00\",\"2021-06-23T07:00:00\",\"2021-06-23T07:15:00\",\"2021-06-23T07:30:00\",\"2021-06-23T07:45:00\",\"2021-06-23T08:00:00\",\"2021-06-23T08:15:00\",\"2021-06-23T08:30:00\",\"2021-06-23T08:45:00\",\"2021-06-23T09:00:00\",\"2021-06-23T09:15:00\",\"2021-06-23T09:30:00\",\"2021-06-23T09:45:00\",\"2021-06-23T10:00:00\",\"2021-06-23T10:15:00\",\"2021-06-23T10:30:00\",\"2021-06-23T10:45:00\",\"2021-06-23T11:00:00\",\"2021-06-23T11:15:00\",\"2021-06-23T11:30:00\",\"2021-06-23T11:45:00\",\"2021-06-23T12:00:00\",\"2021-06-23T12:15:00\",\"2021-06-23T12:30:00\",\"2021-06-23T12:45:00\",\"2021-06-23T13:00:00\",\"2021-06-23T13:15:00\",\"2021-06-23T13:30:00\",\"2021-06-23T13:45:00\",\"2021-06-23T14:00:00\",\"2021-06-23T14:15:00\",\"2021-06-23T14:30:00\",\"2021-06-23T14:45:00\",\"2021-06-23T15:00:00\",\"2021-06-23T15:15:00\",\"2021-06-23T15:30:00\",\"2021-06-23T15:45:00\",\"2021-06-23T16:00:00\",\"2021-06-23T16:15:00\",\"2021-06-23T16:30:00\",\"2021-06-23T16:45:00\",\"2021-06-23T17:00:00\",\"2021-06-23T17:15:00\",\"2021-06-23T17:30:00\",\"2021-06-23T17:45:00\",\"2021-06-23T18:00:00\",\"2021-06-23T18:15:00\",\"2021-06-23T18:30:00\",\"2021-06-23T18:45:00\",\"2021-06-23T19:00:00\",\"2021-06-23T19:15:00\",\"2021-06-23T19:30:00\",\"2021-06-23T19:45:00\",\"2021-06-23T20:00:00\",\"2021-06-23T20:15:00\",\"2021-06-23T20:30:00\",\"2021-06-23T20:45:00\",\"2021-06-23T21:00:00\",\"2021-06-23T21:15:00\",\"2021-06-23T21:30:00\",\"2021-06-23T21:45:00\",\"2021-06-23T22:00:00\",\"2021-06-23T22:15:00\",\"2021-06-23T22:30:00\",\"2021-06-23T22:45:00\",\"2021-06-23T23:00:00\",\"2021-06-23T23:15:00\",\"2021-06-23T23:30:00\",\"2021-06-23T23:45:00\",\"2021-06-24T00:00:00\",\"2021-06-24T00:15:00\",\"2021-06-24T00:30:00\",\"2021-06-24T00:45:00\",\"2021-06-24T01:00:00\",\"2021-06-24T01:15:00\",\"2021-06-24T01:30:00\",\"2021-06-24T01:45:00\",\"2021-06-24T02:00:00\",\"2021-06-24T02:15:00\",\"2021-06-24T02:30:00\",\"2021-06-24T02:45:00\",\"2021-06-24T03:00:00\",\"2021-06-24T03:15:00\",\"2021-06-24T03:30:00\",\"2021-06-24T03:45:00\",\"2021-06-24T04:00:00\",\"2021-06-24T04:15:00\",\"2021-06-24T04:30:00\",\"2021-06-24T04:45:00\",\"2021-06-24T05:00:00\",\"2021-06-24T05:15:00\",\"2021-06-24T05:30:00\",\"2021-06-24T05:45:00\",\"2021-06-24T06:00:00\",\"2021-06-24T06:15:00\",\"2021-06-24T06:30:00\",\"2021-06-24T06:45:00\",\"2021-06-24T07:00:00\",\"2021-06-24T07:15:00\",\"2021-06-24T07:30:00\",\"2021-06-24T07:45:00\",\"2021-06-24T08:00:00\",\"2021-06-24T08:15:00\",\"2021-06-24T08:30:00\",\"2021-06-24T08:45:00\",\"2021-06-24T09:00:00\",\"2021-06-24T09:15:00\",\"2021-06-24T09:30:00\",\"2021-06-24T09:45:00\",\"2021-06-24T10:00:00\",\"2021-06-24T10:15:00\",\"2021-06-24T10:30:00\",\"2021-06-24T10:45:00\",\"2021-06-24T11:00:00\",\"2021-06-24T11:15:00\",\"2021-06-24T11:30:00\",\"2021-06-24T11:45:00\",\"2021-06-24T12:00:00\",\"2021-06-24T12:15:00\",\"2021-06-24T12:30:00\",\"2021-06-24T12:45:00\",\"2021-06-24T13:00:00\",\"2021-06-24T13:15:00\",\"2021-06-24T13:30:00\",\"2021-06-24T13:45:00\",\"2021-06-24T14:00:00\",\"2021-06-24T14:15:00\",\"2021-06-24T14:30:00\",\"2021-06-24T14:45:00\",\"2021-06-24T15:00:00\",\"2021-06-24T15:15:00\",\"2021-06-24T15:30:00\",\"2021-06-24T15:45:00\",\"2021-06-24T16:00:00\",\"2021-06-24T16:15:00\",\"2021-06-24T16:30:00\",\"2021-06-24T16:45:00\",\"2021-06-24T17:00:00\",\"2021-06-24T17:15:00\",\"2021-06-24T17:30:00\",\"2021-06-24T17:45:00\",\"2021-06-24T18:00:00\",\"2021-06-24T18:15:00\",\"2021-06-24T18:30:00\",\"2021-06-24T18:45:00\",\"2021-06-24T19:00:00\",\"2021-06-24T19:15:00\",\"2021-06-24T19:30:00\",\"2021-06-24T19:45:00\",\"2021-06-24T20:00:00\",\"2021-06-24T20:15:00\",\"2021-06-24T20:30:00\",\"2021-06-24T20:45:00\",\"2021-06-24T21:00:00\",\"2021-06-24T21:15:00\",\"2021-06-24T21:30:00\",\"2021-06-24T21:45:00\",\"2021-06-24T22:00:00\",\"2021-06-24T22:15:00\",\"2021-06-24T22:30:00\",\"2021-06-24T22:45:00\",\"2021-06-24T23:00:00\",\"2021-06-24T23:15:00\",\"2021-06-24T23:30:00\",\"2021-06-24T23:45:00\",\"2021-06-25T00:00:00\",\"2021-06-25T00:15:00\",\"2021-06-25T00:30:00\",\"2021-06-25T00:45:00\",\"2021-06-25T01:00:00\",\"2021-06-25T01:15:00\",\"2021-06-25T01:30:00\",\"2021-06-25T01:45:00\",\"2021-06-25T02:00:00\",\"2021-06-25T02:15:00\",\"2021-06-25T02:30:00\",\"2021-06-25T02:45:00\",\"2021-06-25T03:00:00\",\"2021-06-25T03:15:00\",\"2021-06-25T03:30:00\",\"2021-06-25T03:45:00\",\"2021-06-25T04:00:00\",\"2021-06-25T04:15:00\",\"2021-06-25T04:30:00\",\"2021-06-25T04:45:00\",\"2021-06-25T05:00:00\",\"2021-06-25T05:15:00\",\"2021-06-25T05:30:00\",\"2021-06-25T05:45:00\",\"2021-06-25T06:00:00\",\"2021-06-25T06:15:00\",\"2021-06-25T06:30:00\",\"2021-06-25T06:45:00\",\"2021-06-25T07:00:00\",\"2021-06-25T07:15:00\",\"2021-06-25T07:30:00\",\"2021-06-25T07:45:00\",\"2021-06-25T08:00:00\",\"2021-06-25T08:15:00\",\"2021-06-25T08:30:00\",\"2021-06-25T08:45:00\",\"2021-06-25T09:00:00\",\"2021-06-25T09:15:00\",\"2021-06-25T09:30:00\",\"2021-06-25T09:45:00\",\"2021-06-25T10:00:00\",\"2021-06-25T10:15:00\",\"2021-06-25T10:30:00\",\"2021-06-25T10:45:00\",\"2021-06-25T11:00:00\",\"2021-06-25T11:15:00\",\"2021-06-25T11:30:00\",\"2021-06-25T11:45:00\",\"2021-06-25T12:00:00\",\"2021-06-25T12:15:00\",\"2021-06-25T12:30:00\",\"2021-06-25T12:45:00\",\"2021-06-25T13:00:00\",\"2021-06-25T13:15:00\",\"2021-06-25T13:30:00\",\"2021-06-25T13:45:00\",\"2021-06-25T14:00:00\",\"2021-06-25T14:15:00\",\"2021-06-25T14:30:00\",\"2021-06-25T14:45:00\",\"2021-06-25T15:00:00\",\"2021-06-25T15:15:00\",\"2021-06-25T15:30:00\",\"2021-06-25T15:45:00\",\"2021-06-25T16:00:00\",\"2021-06-25T16:15:00\",\"2021-06-25T16:30:00\",\"2021-06-25T16:45:00\",\"2021-06-25T17:00:00\",\"2021-06-25T17:15:00\",\"2021-06-25T17:30:00\",\"2021-06-25T17:45:00\",\"2021-06-25T18:00:00\",\"2021-06-25T18:15:00\",\"2021-06-25T18:30:00\",\"2021-06-25T18:45:00\",\"2021-06-25T19:00:00\",\"2021-06-25T19:15:00\",\"2021-06-25T19:30:00\",\"2021-06-25T19:45:00\",\"2021-06-25T20:00:00\",\"2021-06-25T20:15:00\",\"2021-06-25T20:30:00\",\"2021-06-25T20:45:00\",\"2021-06-25T21:00:00\",\"2021-06-25T21:15:00\",\"2021-06-25T21:30:00\",\"2021-06-25T21:45:00\",\"2021-06-28T00:00:00\",\"2021-06-28T00:15:00\",\"2021-06-28T00:30:00\",\"2021-06-28T00:45:00\",\"2021-06-28T01:00:00\",\"2021-06-28T01:15:00\",\"2021-06-28T01:30:00\",\"2021-06-28T01:45:00\",\"2021-06-28T02:00:00\",\"2021-06-28T02:15:00\",\"2021-06-28T02:30:00\",\"2021-06-28T02:45:00\",\"2021-06-28T03:00:00\",\"2021-06-28T03:15:00\",\"2021-06-28T03:30:00\",\"2021-06-28T03:45:00\",\"2021-06-28T04:00:00\",\"2021-06-28T04:15:00\",\"2021-06-28T04:30:00\",\"2021-06-28T04:45:00\",\"2021-06-28T05:00:00\",\"2021-06-28T05:15:00\",\"2021-06-28T05:30:00\",\"2021-06-28T05:45:00\",\"2021-06-28T06:00:00\",\"2021-06-28T06:15:00\",\"2021-06-28T06:30:00\",\"2021-06-28T06:45:00\",\"2021-06-28T07:00:00\",\"2021-06-28T07:15:00\",\"2021-06-28T07:30:00\",\"2021-06-28T07:45:00\",\"2021-06-28T08:00:00\",\"2021-06-28T08:15:00\",\"2021-06-28T08:30:00\",\"2021-06-28T08:45:00\",\"2021-06-28T09:00:00\",\"2021-06-28T09:15:00\",\"2021-06-28T09:30:00\",\"2021-06-28T09:45:00\",\"2021-06-28T10:00:00\",\"2021-06-28T10:15:00\",\"2021-06-28T10:30:00\",\"2021-06-28T10:45:00\",\"2021-06-28T11:00:00\",\"2021-06-28T11:15:00\",\"2021-06-28T11:30:00\",\"2021-06-28T11:45:00\",\"2021-06-28T12:00:00\",\"2021-06-28T12:15:00\",\"2021-06-28T12:30:00\",\"2021-06-28T12:45:00\",\"2021-06-28T13:00:00\",\"2021-06-28T13:15:00\",\"2021-06-28T13:30:00\",\"2021-06-28T13:45:00\",\"2021-06-28T14:00:00\",\"2021-06-28T14:15:00\",\"2021-06-28T14:30:00\",\"2021-06-28T14:45:00\",\"2021-06-28T15:00:00\",\"2021-06-28T15:15:00\",\"2021-06-28T15:30:00\",\"2021-06-28T15:45:00\",\"2021-06-28T16:00:00\",\"2021-06-28T16:15:00\",\"2021-06-28T16:30:00\",\"2021-06-28T16:45:00\",\"2021-06-28T17:00:00\",\"2021-06-28T17:15:00\",\"2021-06-28T17:30:00\",\"2021-06-28T17:45:00\",\"2021-06-28T18:00:00\",\"2021-06-28T18:15:00\",\"2021-06-28T18:30:00\",\"2021-06-28T18:45:00\",\"2021-06-28T19:00:00\",\"2021-06-28T19:15:00\",\"2021-06-28T19:30:00\",\"2021-06-28T19:45:00\",\"2021-06-28T20:00:00\",\"2021-06-28T20:15:00\",\"2021-06-28T20:30:00\",\"2021-06-28T20:45:00\",\"2021-06-28T21:00:00\",\"2021-06-28T21:15:00\",\"2021-06-28T21:30:00\",\"2021-06-28T21:45:00\",\"2021-06-28T22:00:00\",\"2021-06-28T22:15:00\",\"2021-06-28T22:30:00\",\"2021-06-28T22:45:00\",\"2021-06-28T23:00:00\",\"2021-06-28T23:15:00\",\"2021-06-28T23:30:00\",\"2021-06-28T23:45:00\",\"2021-06-29T00:00:00\",\"2021-06-29T00:15:00\",\"2021-06-29T00:30:00\",\"2021-06-29T00:45:00\",\"2021-06-29T01:00:00\",\"2021-06-29T01:15:00\",\"2021-06-29T01:30:00\",\"2021-06-29T01:45:00\",\"2021-06-29T02:00:00\",\"2021-06-29T02:15:00\",\"2021-06-29T02:30:00\",\"2021-06-29T02:45:00\",\"2021-06-29T03:00:00\",\"2021-06-29T03:15:00\",\"2021-06-29T03:30:00\",\"2021-06-29T03:45:00\",\"2021-06-29T04:00:00\",\"2021-06-29T04:15:00\",\"2021-06-29T04:30:00\",\"2021-06-29T04:45:00\",\"2021-06-29T05:00:00\",\"2021-06-29T05:15:00\",\"2021-06-29T05:30:00\",\"2021-06-29T05:45:00\",\"2021-06-29T06:00:00\",\"2021-06-29T06:15:00\",\"2021-06-29T06:30:00\",\"2021-06-29T06:45:00\",\"2021-06-29T07:00:00\",\"2021-06-29T07:15:00\",\"2021-06-29T07:30:00\",\"2021-06-29T07:45:00\",\"2021-06-29T08:00:00\",\"2021-06-29T08:15:00\",\"2021-06-29T08:30:00\",\"2021-06-29T08:45:00\",\"2021-06-29T09:00:00\",\"2021-06-29T09:15:00\",\"2021-06-29T09:30:00\",\"2021-06-29T09:45:00\",\"2021-06-29T10:00:00\",\"2021-06-29T10:15:00\",\"2021-06-29T10:30:00\",\"2021-06-29T10:45:00\",\"2021-06-29T11:00:00\",\"2021-06-29T11:15:00\",\"2021-06-29T11:30:00\",\"2021-06-29T11:45:00\",\"2021-06-29T12:00:00\",\"2021-06-29T12:15:00\",\"2021-06-29T12:30:00\",\"2021-06-29T12:45:00\",\"2021-06-29T13:00:00\",\"2021-06-29T13:15:00\",\"2021-06-29T13:30:00\",\"2021-06-29T13:45:00\",\"2021-06-29T14:00:00\",\"2021-06-29T14:15:00\",\"2021-06-29T14:30:00\",\"2021-06-29T14:45:00\",\"2021-06-29T15:00:00\",\"2021-06-29T15:15:00\",\"2021-06-29T15:30:00\",\"2021-06-29T15:45:00\",\"2021-06-29T16:00:00\",\"2021-06-29T16:15:00\",\"2021-06-29T16:30:00\",\"2021-06-29T16:45:00\",\"2021-06-29T17:00:00\",\"2021-06-29T17:15:00\",\"2021-06-29T17:30:00\",\"2021-06-29T17:45:00\",\"2021-06-29T18:00:00\",\"2021-06-29T18:15:00\",\"2021-06-29T18:30:00\",\"2021-06-29T18:45:00\",\"2021-06-29T19:00:00\",\"2021-06-29T19:15:00\",\"2021-06-29T19:30:00\",\"2021-06-29T19:45:00\",\"2021-06-29T20:00:00\",\"2021-06-29T20:15:00\",\"2021-06-29T20:30:00\",\"2021-06-29T20:45:00\",\"2021-06-29T21:00:00\",\"2021-06-29T21:15:00\",\"2021-06-29T21:30:00\",\"2021-06-29T21:45:00\",\"2021-06-29T22:00:00\",\"2021-06-29T22:15:00\",\"2021-06-29T22:30:00\",\"2021-06-29T22:45:00\",\"2021-06-29T23:00:00\",\"2021-06-29T23:15:00\",\"2021-06-29T23:30:00\",\"2021-06-29T23:45:00\",\"2021-06-30T00:00:00\",\"2021-06-30T00:15:00\",\"2021-06-30T00:30:00\",\"2021-06-30T00:45:00\",\"2021-06-30T01:00:00\",\"2021-06-30T01:15:00\",\"2021-06-30T01:30:00\",\"2021-06-30T01:45:00\",\"2021-06-30T02:00:00\",\"2021-06-30T02:15:00\",\"2021-06-30T02:30:00\",\"2021-06-30T02:45:00\",\"2021-06-30T03:00:00\",\"2021-06-30T03:15:00\",\"2021-06-30T03:30:00\",\"2021-06-30T03:45:00\",\"2021-06-30T04:00:00\",\"2021-06-30T04:15:00\",\"2021-06-30T04:30:00\",\"2021-06-30T04:45:00\",\"2021-06-30T05:00:00\",\"2021-06-30T05:15:00\",\"2021-06-30T05:30:00\",\"2021-06-30T05:45:00\",\"2021-06-30T06:00:00\",\"2021-06-30T06:15:00\",\"2021-06-30T06:30:00\",\"2021-06-30T06:45:00\",\"2021-06-30T07:00:00\",\"2021-06-30T07:15:00\",\"2021-06-30T07:30:00\",\"2021-06-30T07:45:00\",\"2021-06-30T08:00:00\",\"2021-06-30T08:15:00\",\"2021-06-30T08:30:00\",\"2021-06-30T08:45:00\",\"2021-06-30T09:00:00\",\"2021-06-30T09:15:00\",\"2021-06-30T09:30:00\",\"2021-06-30T09:45:00\",\"2021-06-30T10:00:00\",\"2021-06-30T10:15:00\",\"2021-06-30T10:30:00\",\"2021-06-30T10:45:00\",\"2021-06-30T11:00:00\",\"2021-06-30T11:15:00\",\"2021-06-30T11:30:00\",\"2021-06-30T11:45:00\",\"2021-06-30T12:00:00\",\"2021-06-30T12:15:00\",\"2021-06-30T12:30:00\",\"2021-06-30T12:45:00\",\"2021-06-30T13:00:00\",\"2021-06-30T13:15:00\",\"2021-06-30T13:30:00\",\"2021-06-30T13:45:00\",\"2021-06-30T14:00:00\",\"2021-06-30T14:15:00\",\"2021-06-30T14:30:00\",\"2021-06-30T14:45:00\",\"2021-06-30T15:00:00\",\"2021-06-30T15:15:00\",\"2021-06-30T15:30:00\",\"2021-06-30T15:45:00\",\"2021-06-30T16:00:00\",\"2021-06-30T16:15:00\",\"2021-06-30T16:30:00\",\"2021-06-30T16:45:00\",\"2021-06-30T17:00:00\",\"2021-06-30T17:15:00\",\"2021-06-30T17:30:00\",\"2021-06-30T17:45:00\",\"2021-06-30T18:00:00\",\"2021-06-30T18:15:00\",\"2021-06-30T18:30:00\",\"2021-06-30T18:45:00\",\"2021-06-30T19:00:00\",\"2021-06-30T19:15:00\",\"2021-06-30T19:30:00\",\"2021-06-30T19:45:00\",\"2021-06-30T20:00:00\",\"2021-06-30T20:15:00\",\"2021-06-30T20:30:00\",\"2021-06-30T20:45:00\",\"2021-06-30T21:00:00\",\"2021-06-30T21:15:00\",\"2021-06-30T21:30:00\",\"2021-06-30T21:45:00\",\"2021-06-30T22:00:00\",\"2021-06-30T22:15:00\",\"2021-06-30T22:30:00\",\"2021-06-30T22:45:00\",\"2021-06-30T23:00:00\",\"2021-06-30T23:15:00\",\"2021-06-30T23:30:00\",\"2021-06-30T23:45:00\",\"2021-07-01T00:00:00\",\"2021-07-01T00:15:00\",\"2021-07-01T00:30:00\",\"2021-07-01T00:45:00\",\"2021-07-01T01:00:00\",\"2021-07-01T01:15:00\",\"2021-07-01T01:30:00\",\"2021-07-01T01:45:00\",\"2021-07-01T02:00:00\",\"2021-07-01T02:15:00\",\"2021-07-01T02:30:00\",\"2021-07-01T02:45:00\",\"2021-07-01T03:00:00\",\"2021-07-01T03:15:00\",\"2021-07-01T03:30:00\",\"2021-07-01T03:45:00\",\"2021-07-01T04:00:00\",\"2021-07-01T04:15:00\",\"2021-07-01T04:30:00\",\"2021-07-01T04:45:00\",\"2021-07-01T05:00:00\",\"2021-07-01T05:15:00\",\"2021-07-01T05:30:00\",\"2021-07-01T05:45:00\",\"2021-07-01T06:00:00\",\"2021-07-01T06:15:00\",\"2021-07-01T06:30:00\",\"2021-07-01T06:45:00\",\"2021-07-01T07:00:00\",\"2021-07-01T07:15:00\",\"2021-07-01T07:30:00\",\"2021-07-01T07:45:00\",\"2021-07-01T08:00:00\",\"2021-07-01T08:15:00\",\"2021-07-01T08:30:00\",\"2021-07-01T08:45:00\",\"2021-07-01T09:00:00\",\"2021-07-01T09:15:00\",\"2021-07-01T09:30:00\",\"2021-07-01T09:45:00\",\"2021-07-01T10:00:00\",\"2021-07-01T10:15:00\",\"2021-07-01T10:30:00\",\"2021-07-01T10:45:00\",\"2021-07-01T11:00:00\",\"2021-07-01T11:15:00\",\"2021-07-01T11:30:00\",\"2021-07-01T11:45:00\",\"2021-07-01T12:00:00\",\"2021-07-01T12:15:00\",\"2021-07-01T12:30:00\",\"2021-07-01T12:45:00\",\"2021-07-01T13:00:00\",\"2021-07-01T13:15:00\",\"2021-07-01T13:30:00\",\"2021-07-01T13:45:00\",\"2021-07-01T14:00:00\",\"2021-07-01T14:15:00\",\"2021-07-01T14:30:00\",\"2021-07-01T14:45:00\",\"2021-07-01T15:00:00\",\"2021-07-01T15:15:00\",\"2021-07-01T15:30:00\",\"2021-07-01T15:45:00\",\"2021-07-01T16:00:00\",\"2021-07-01T16:15:00\",\"2021-07-01T16:30:00\",\"2021-07-01T16:45:00\",\"2021-07-01T17:00:00\",\"2021-07-01T17:15:00\",\"2021-07-01T17:30:00\",\"2021-07-01T17:45:00\",\"2021-07-01T18:00:00\",\"2021-07-01T18:15:00\",\"2021-07-01T18:30:00\",\"2021-07-01T18:45:00\",\"2021-07-01T19:00:00\",\"2021-07-01T19:15:00\",\"2021-07-01T19:30:00\",\"2021-07-01T19:45:00\",\"2021-07-01T20:00:00\",\"2021-07-01T20:15:00\",\"2021-07-01T20:30:00\",\"2021-07-01T20:45:00\",\"2021-07-01T21:00:00\",\"2021-07-01T21:15:00\",\"2021-07-01T21:30:00\",\"2021-07-01T21:45:00\",\"2021-07-01T22:00:00\",\"2021-07-01T22:15:00\",\"2021-07-01T22:30:00\",\"2021-07-01T22:45:00\",\"2021-07-01T23:00:00\",\"2021-07-01T23:15:00\",\"2021-07-01T23:30:00\",\"2021-07-01T23:45:00\",\"2021-07-02T00:00:00\",\"2021-07-02T00:15:00\",\"2021-07-02T00:30:00\",\"2021-07-02T00:45:00\",\"2021-07-02T01:00:00\",\"2021-07-02T01:15:00\",\"2021-07-02T01:30:00\",\"2021-07-02T01:45:00\",\"2021-07-02T02:00:00\",\"2021-07-02T02:15:00\",\"2021-07-02T02:30:00\"],\"y\":[null,null,null,null,null,null,null,null,null,null,null,null,null,null,null,null,null,null,null,null,null,null,null,null,null,null,null,null,null,null,null,null,null,null,null,null,null,null,null,null,null,null,null,null,null,null,null,null,null,null,null,null,null,null,null,null,null,null,null,null,null,null,null,null,null,null,null,null,null,null,null,null,null,null,null,null,null,null,null,null,null,null,null,null,null,null,null,null,null,null,null,null,null,null,null,null,null,null,null,1.8437782999999999,1.8437796,1.8437793000000002,1.8437943,1.8438003,1.8438038,1.8438138999999998,1.8438215999999996,1.8438039999999996,1.8437878999999995,1.8437691999999997,1.8437589999999995,1.8437507999999994,1.8437298999999996,1.8437080999999997,1.8436887,1.8436302999999998,1.8435710999999997,1.8435182999999997,1.8434670999999998,1.8434206999999998,1.8433914999999996,1.8433548999999994,1.8433147999999995,1.8432798999999995,1.8432586999999991,1.8432299999999993,1.8431886999999991,1.8431655999999992,1.8431424999999992,1.843100599999999,1.843077499999999,1.8430443999999992,1.8430158999999993,1.842991599999999,1.8429887999999992,1.842996799999999,1.842996799999999,1.842984999999999,1.842969199999999,1.8429278999999992,1.842915599999999,1.8429227999999993,1.8429433999999991,1.8429675999999993,1.843004899999999,1.843047299999999,1.843090999999999,1.8431562999999989,1.843219599999999,1.8432889999999993,1.8433334999999993,1.8433871999999993,1.8434398999999997,1.8434950999999995,1.8435440999999995,1.8435943999999995,1.8436315999999997,1.8436765999999998,1.8437274999999997,1.8437808999999998,1.8438257999999998,1.8438718,1.8439043000000002,1.8439276,1.8439571000000001,1.8439668,1.8439895000000002,1.8440232,1.8440238,1.8440524000000003,1.8440966000000003,1.8441111000000001,1.8441298000000002,1.8441458000000004,1.8441683000000004,1.8442011000000003,1.8442232,1.844248,1.8442770000000002,1.8443017,1.8443448,1.8443891000000001,1.8444415,1.8444941,1.8445514,1.8445913999999999,1.8446322000000002,1.8446715,1.8447028,1.8447470000000001,1.8448065000000002,1.8448614,1.8449226,1.8449794000000004,1.8450318000000003,1.8450864000000005,1.8451345000000003,1.8451868000000002,1.8452293,1.8452647,1.8452920999999998,1.8453180999999999,1.8453399999999995,1.8453800999999996,1.8454155999999997,1.8454574999999998,1.8455249999999999,1.8455962,1.8456666,1.8457443,1.8458158,1.8458812,1.8459673,1.8460659999999998,1.8461751999999998,1.846315,1.8464577,1.8465916000000002,1.8467121000000004,1.8468109000000004,1.8468993000000007,1.8469853000000007,1.8470707000000004,1.8471482000000004,1.8472269000000003,1.8473137000000002,1.8474027000000004,1.8474782000000003,1.8475438000000002,1.8476345000000003,1.8477009000000004,1.8477847000000003,1.8478667000000002,1.8479493000000002,1.8480183000000003,1.8480703000000003,1.8481320000000003,1.8481947000000003,1.8482378000000004,1.8482698000000002,1.8483053,1.8483469,1.8483838,1.8484117999999998,1.8484340999999997,1.8484508,1.8484706,1.8484789000000001,1.848485,1.8484916999999998,1.8485135999999998,1.8485266999999996,1.8485655999999995,1.8486047999999995,1.8486461999999995,1.8486663999999993,1.8486974999999992,1.8487115999999992,1.8487431999999993,1.8487621999999992,1.8487877999999995,1.8488144999999994,1.8488504999999995,1.8488744999999995,1.8488826999999994,1.8489065999999994,1.8489246999999995,1.8489253999999995,1.8489270999999994,1.8489297999999994,1.8489302999999992,1.8489354999999994,1.8489338999999996,1.8489328999999994,1.8489253999999995,1.8489280999999993,1.8489246999999995,1.8489060999999996,1.8488842999999995,1.8488717999999995,1.8488576999999995,1.8488391999999996,1.8488248999999997,1.8488125999999996,1.8487904999999996,1.8487694999999997,1.8487611999999995,1.8487572999999997,1.8487550999999995,1.8487433999999996,1.8487286999999994,1.8487173999999995,1.8486966999999996,1.8486842999999995,1.8486746999999994,1.8486715999999992,1.848675599999999,1.8486640999999993,1.8486545999999993,1.8486400999999992,1.8486434999999994,1.8486445999999992,1.8486310999999993,1.8486100999999993,1.8485868999999995,1.8485663999999995,1.8485476999999995,1.8485343999999995,1.8485252999999995,1.8485041999999994,1.8484768999999994,1.8484406999999994,1.8483993999999992,1.8483435999999995,1.8482818999999995,1.8482313999999993,1.8481759999999994,1.8481209999999992,1.8480745999999995,1.8480352999999994,1.8480006999999992,1.8479665999999992,1.8479462999999994,1.8479398999999992,1.8479316999999993,1.8479103999999993,1.8478938999999992,1.8478882999999993,1.8478958999999993,1.847907199999999,1.847925599999999,1.8479207999999991,1.8478968999999992,1.847865199999999,1.8478302999999991,1.8477887999999991,1.8477568999999991,1.8477100999999991,1.8476817999999988,1.8476644999999992,1.847605199999999,1.8475476999999991,1.8475054999999991,1.8474650999999995,1.8474358999999996,1.8473974999999996,1.8473580999999997,1.8473302999999996,1.8473038999999993,1.8472745999999995,1.8472375999999995,1.8472114999999996,1.8471642999999998,1.8470934999999997,1.8470186999999996,1.8469625999999997,1.8468932999999996,1.8468170999999995,1.8467202999999994,1.8466280999999996,1.8465322999999991,1.8464309999999993,1.8463356999999991,1.846260199999999,1.846192599999999,1.8461313999999993,1.846066099999999,1.846004399999999,1.8459550999999994,1.8459063999999992,1.8458546999999994,1.845801999999999,1.845753799999999,1.8457168999999987,1.845680499999999,1.845641999999999,1.845601099999999,1.845573299999999,1.8455530999999992,1.8455258999999993,1.8454953999999992,1.8454674999999992,1.8454327999999993,1.8453936999999994,1.8453623999999993,1.8453313999999994,1.8452976999999995,1.8452626999999995,1.8452209999999996,1.8451996999999998,1.8451721999999997,1.8451451999999997,1.8451098999999997,1.8450774999999995,1.8450492999999997,1.8450187999999996,1.8449872999999999,1.8449567999999998,1.8449239,1.8448969,1.8448556999999999,1.8448123,1.8447778000000001,1.8447415,1.8447094,1.8446639999999999,1.8446282999999999,1.8445836,1.8445362,1.8445014,1.8444615,1.8444317,1.8444043999999997,1.8443750999999995,1.8443467999999994,1.844303299999999,1.844267599999999,1.844239199999999,1.844211599999999,1.844178299999999,1.8441403999999992,1.8440963999999993,1.8440321999999996,1.8439614999999996,1.8438908999999994,1.8438328999999996,1.8437740999999996,1.8437118999999995,1.8436486999999997,1.8435771999999997,1.8435112999999999,1.8434667999999996,1.8434431999999996,1.8434092999999996,1.8433698999999997,1.8433392999999996,1.8432993999999994,1.8432722999999995,1.8432379999999997,1.8431381999999996,1.8430767999999997,1.8430077999999996,1.8429128999999997,1.8428105999999997,1.8426967999999997,1.8425958999999994,1.8425120999999995,1.8424113999999998,1.8423204999999998,1.8422252999999997,1.8421231999999998,1.8420163999999997,1.8419079999999997,1.8418237999999996,1.8417432999999996,1.8416630999999999,1.8415885999999997,1.8415328999999998,1.8414868999999998,1.8414407999999998,1.8413848,1.8413374999999998,1.8412771999999997,1.8412079,1.8411321999999999,1.8410602999999996,1.8409938999999997,1.8409289999999998,1.8408609999999996,1.8407972999999995,1.8407316999999994,1.8406609999999994,1.8405893999999996,1.8405134999999995,1.8404433999999994,1.8403685999999997,1.8403035999999995,1.8402341999999996,1.8401447999999996,1.8400631999999997,1.8399761999999995,1.8398972999999996,1.8398231999999997,1.8397535999999994,1.8396728999999994,1.839603099999999,1.839528399999999,1.839454899999999,1.8393892999999988,1.8393090999999986,1.8392283999999988,1.839128599999999,1.839036899999999,1.838949899999999,1.838854799999999,1.838761699999999,1.8386629999999988,1.838581899999999,1.838508499999999,1.838428299999999,1.838348999999999,1.8382742999999988,1.8381982999999988,1.838123799999999,1.8380451999999992,1.8379699999999992,1.8378832999999992,1.8377993999999989,1.837713199999999,1.837627499999999,1.837549099999999,1.837455199999999,1.8373611999999993,1.8372757999999993,1.8371864999999994,1.8371130999999994,1.8370265999999995,1.8369234999999995,1.8368162999999993,1.8366954999999994,1.836580199999999,1.8364718999999992,1.836358499999999,1.8362382999999989,1.836119899999999,1.836003199999999,1.8358835999999992,1.8357532999999993,1.8356252999999993,1.8355028999999994,1.835384899999999,1.8352626999999992,1.835128899999999,1.835020399999999,1.8348950999999991,1.8347816999999993,1.8346651999999992,1.834538599999999,1.8344105999999991,1.8343349999999992,1.8342367999999993,1.8341413999999991,1.8340558999999994,1.8339822999999993,1.8339192999999991,1.8338559999999993,1.8337967999999991,1.833759699999999,1.8337212999999992,1.8336741999999993,1.8336272999999994,1.8335832999999995,1.8335353999999993,1.8334731999999994,1.8334294999999994,1.8333860999999994,1.8333515999999994,1.8333108999999996,1.8332584999999995,1.8332088999999994,1.8331634999999995,1.8331082999999995,1.8330589999999995,1.8330089999999992,1.8329500999999992,1.8328839999999993,1.8328136999999993,1.832737199999999,1.8326456999999994,1.8325527999999993,1.8324708999999997,1.8323899999999997,1.8323085999999997,1.8322241999999997,1.8321377999999995,1.8320651999999995,1.8319929999999998,1.8319219999999996,1.8318728999999996,1.8318233999999995,1.8317758999999996,1.8317220999999995,1.8316699999999995,1.8316103999999995,1.8315613999999996,1.8315081999999998,1.8314583,1.8314148000000001,1.8313568,1.8313016000000002,1.8312500000000003,1.8312164000000002,1.831181,1.8311308,1.831088,1.8310458000000003,1.8310055000000003,1.8309596000000001,1.8309044,1.830852,1.8308067,1.8307545000000003,1.8307019000000002,1.8306569000000001,1.8306201000000002,1.8305904000000002,1.8305752000000002,1.8305653000000002,1.8305619000000002,1.8305614,1.8305624,1.830559,1.8305634,1.8305642,1.8305833,1.8305854000000001,1.8305852000000002,1.8306009000000003,1.8306191000000005,1.8306520000000004,1.8306790000000004,1.8307009000000003,1.8307393000000005,1.8307800000000005,1.8308201000000006,1.8308675000000005,1.8309296000000004,1.8310016000000002,1.8310695000000001,1.8311359000000003,1.8311894000000004,1.8312539000000003,1.8313190000000006,1.8313739000000007,1.8314559000000006,1.8315298000000004,1.8315997000000004,1.8316617000000006,1.8317094000000003,1.8317526000000002,1.8318168,1.8318795,1.8319549000000002,1.8320418,1.8321164,1.8321925000000001,1.8322455,1.8322925,1.8323256,1.8323686000000001,1.8324169000000001,1.8324572000000001,1.832503,1.8325581,1.8326018,1.8326413,1.8326696999999998,1.8327002,1.8327275,1.8327574000000002,1.8327923000000002,1.8328289,1.8328605000000002,1.8328896000000003,1.8329350000000002,1.8329795000000002,1.8330241,1.8330788,1.833142,1.8332034,1.8332627,1.8333209,1.8333824,1.8334441000000001,1.8335001000000002,1.8335537000000002,1.8336055000000002,1.8336509,1.8336911,1.8337237000000002,1.8337573,1.8337979999999998,1.8338405999999998,1.8338961999999999,1.8339441999999997,1.8339920999999995,1.8340374999999995,1.8340849999999995,1.8341392999999995,1.8341975999999993,1.8342461999999993,1.8342919999999991,1.8343443999999993,1.8343959999999992,1.8344517999999994,1.8345006999999993,1.8345495999999992,1.8345946999999994,1.8346362999999994,1.8346838999999995,1.8347220999999994,1.8347696999999992,1.8348198999999987,1.8348644999999988,1.8349105999999988,1.834951799999999,1.834985299999999,1.8350254999999993,1.8350635999999994,1.8351058999999994,1.8351350999999994,1.8351776999999994,1.8352223999999993,1.8352645999999992,1.835296899999999,1.835336299999999,1.835380899999999,1.8354192999999992,1.8354461999999991,1.8354805999999995,1.8355308999999993,1.8355806999999995,1.8356363999999994,1.8356942999999992,1.8357530999999991,1.8358047999999991,1.8358319999999992,1.8358516999999992,1.8358525999999993,1.8358558999999992,1.835882099999999,1.8358980999999988,1.8359061999999988,1.835924999999999,1.8359445999999988,1.8359663999999989,1.835997099999999,1.836046199999999,1.836115999999999,1.836198499999999,1.836281099999999,1.836369399999999,1.8364401999999986,1.836509499999999,1.8365850999999989,1.8366546999999989,1.8367325999999988,1.8367991999999986,1.8368723999999985,1.8369483999999985,1.8370278999999985,1.8371125999999984,1.8371998999999986,1.8372868999999985,1.8373821999999986,1.8374691999999988,1.8375589999999988,1.8376503999999985,1.8377301999999986,1.8378096999999984,1.8378780999999984,1.8379561999999985,1.8380273999999985,1.8381199999999986,1.8382058999999986,1.8382965999999987,1.8383880999999989,1.838466299999999,1.838546199999999,1.838629599999999,1.838704699999999,1.8387863999999987,1.8388681999999985,1.8389513999999985,1.8390456999999987,1.8391365999999985,1.8392312999999985,1.8393287999999983,1.8394235999999984,1.839519699999998,1.8396103999999982,1.8396921999999984,1.8397631999999984,1.8398289999999984,1.8398952999999982,1.8399586999999986,1.8400195999999986,1.8400723999999986,1.8401278999999986,1.8401893999999985,1.8402483999999983,1.8403126999999984,1.8403716999999984,1.8404345999999985,1.8404971999999984,1.8405602999999982,1.8406215999999984,1.8406825999999983,1.8407308999999983,1.8407727999999983,1.8408221999999983,1.8408697999999983,1.8409162999999986,1.8409657999999987,1.8410445999999987,1.8411216999999989,1.8412071999999986,1.8412782999999984,1.8413395999999984,1.8414005999999983,1.8414940999999985,1.8415839999999986,1.8416705999999987,1.8417536999999988,1.8418342999999988,1.8419176999999989,1.841996999999999,1.8420831999999987,1.8421824999999987,1.8422740999999985,1.8423581999999985,1.8424450999999982,1.8425033999999982,1.8425435999999982,1.8425811999999981,1.8425926999999984,1.8426387999999987,1.8426776999999988,1.842728199999999,1.8427620999999987,1.8427587999999988,1.842775199999999,1.8428082999999988,1.842838099999999,1.842849699999999,1.842847799999999,1.842846099999999,1.8428392999999992,1.8428307999999993,1.8428110999999994,1.8427950999999991,1.8427797999999993,1.8427839999999995,1.8427788999999992,1.8427659999999992,1.8427537999999992,1.8427390999999995,1.8427261999999995,1.8427246999999998,1.8427308999999996,1.8427490999999998,1.8427687999999998,1.8427885999999998,1.8428011999999998,1.8428044999999997,1.8428067999999995,1.8428079999999998,1.8428155999999998,1.8428247999999996,1.8428456999999998,1.8428731999999999,1.8428885,1.8429187999999999,1.8429326999999998,1.8429521,1.8429677999999998,1.8429845,1.8430150999999997,1.8430408999999996,1.8430695999999998,1.8431015999999998,1.8431317999999999,1.8431606999999999,1.8431817000000001,1.8431962,1.8432068000000001,1.8432168000000002,1.8432315000000004,1.8432432000000003,1.8432595000000003,1.8432836000000004,1.8432971000000002,1.8433276000000003,1.8433573000000003,1.8433929000000007,1.8434313000000007,1.8434685000000008,1.8435004000000006,1.8435428000000007,1.8435849000000006,1.8436352000000007,1.843685000000001,1.8437318000000011,1.843782800000001,1.843818700000001,1.8438407000000012,1.8438601000000012,1.843890100000001,1.843936400000001,1.843967500000001,1.844000600000001,1.8440232000000012,1.844029800000001,1.8440294000000008,1.843990200000001,1.843950500000001,1.8439011000000007,1.843877500000001,1.843861200000001,1.843832600000001,1.843777900000001,1.843727300000001,1.843672500000001,1.8436157000000009,1.843550300000001,1.843483500000001,1.843422600000001,1.8433488000000011,1.843277200000001,1.8432303000000012,1.8431665000000013,1.8431008000000013,1.8430577000000015,1.8430346000000015,1.8430013000000014,1.8430030000000013,1.8429826000000011,1.842973100000001,1.8429809000000008,1.8430006000000008,1.843042100000001,1.843050800000001,1.8430583000000007,1.8430636000000007,1.8430774000000008,1.843094100000001,1.843114100000001,1.843147100000001,1.843178900000001,1.8432161000000011,1.843239500000001,1.8432540000000008,1.8432692000000008,1.8432763000000008,1.843290100000001,1.843303600000001,1.843313600000001,1.843330300000001,1.8433288000000008,1.8433126000000006,1.8432762000000005,1.8432222000000007,1.8431824000000006,1.8431530000000007,1.8431310000000007,1.8431238000000008,1.8431165000000007,1.8430999000000008,1.8430965000000008,1.843086500000001,1.843075900000001,1.8430643000000009,1.8430532000000008,1.8430477000000007,1.8430432000000008,1.843036200000001,1.8430309000000005,1.8430097000000005,1.8429945000000005,1.8429850000000008,1.8429770000000008,1.8429724000000007,1.8429646000000008]}],                        {\"template\":{\"data\":{\"bar\":[{\"error_x\":{\"color\":\"#2a3f5f\"},\"error_y\":{\"color\":\"#2a3f5f\"},\"marker\":{\"line\":{\"color\":\"#E5ECF6\",\"width\":0.5},\"pattern\":{\"fillmode\":\"overlay\",\"size\":10,\"solidity\":0.2}},\"type\":\"bar\"}],\"barpolar\":[{\"marker\":{\"line\":{\"color\":\"#E5ECF6\",\"width\":0.5},\"pattern\":{\"fillmode\":\"overlay\",\"size\":10,\"solidity\":0.2}},\"type\":\"barpolar\"}],\"carpet\":[{\"aaxis\":{\"endlinecolor\":\"#2a3f5f\",\"gridcolor\":\"white\",\"linecolor\":\"white\",\"minorgridcolor\":\"white\",\"startlinecolor\":\"#2a3f5f\"},\"baxis\":{\"endlinecolor\":\"#2a3f5f\",\"gridcolor\":\"white\",\"linecolor\":\"white\",\"minorgridcolor\":\"white\",\"startlinecolor\":\"#2a3f5f\"},\"type\":\"carpet\"}],\"choropleth\":[{\"colorbar\":{\"outlinewidth\":0,\"ticks\":\"\"},\"type\":\"choropleth\"}],\"contour\":[{\"colorbar\":{\"outlinewidth\":0,\"ticks\":\"\"},\"colorscale\":[[0.0,\"#0d0887\"],[0.1111111111111111,\"#46039f\"],[0.2222222222222222,\"#7201a8\"],[0.3333333333333333,\"#9c179e\"],[0.4444444444444444,\"#bd3786\"],[0.5555555555555556,\"#d8576b\"],[0.6666666666666666,\"#ed7953\"],[0.7777777777777778,\"#fb9f3a\"],[0.8888888888888888,\"#fdca26\"],[1.0,\"#f0f921\"]],\"type\":\"contour\"}],\"contourcarpet\":[{\"colorbar\":{\"outlinewidth\":0,\"ticks\":\"\"},\"type\":\"contourcarpet\"}],\"heatmap\":[{\"colorbar\":{\"outlinewidth\":0,\"ticks\":\"\"},\"colorscale\":[[0.0,\"#0d0887\"],[0.1111111111111111,\"#46039f\"],[0.2222222222222222,\"#7201a8\"],[0.3333333333333333,\"#9c179e\"],[0.4444444444444444,\"#bd3786\"],[0.5555555555555556,\"#d8576b\"],[0.6666666666666666,\"#ed7953\"],[0.7777777777777778,\"#fb9f3a\"],[0.8888888888888888,\"#fdca26\"],[1.0,\"#f0f921\"]],\"type\":\"heatmap\"}],\"heatmapgl\":[{\"colorbar\":{\"outlinewidth\":0,\"ticks\":\"\"},\"colorscale\":[[0.0,\"#0d0887\"],[0.1111111111111111,\"#46039f\"],[0.2222222222222222,\"#7201a8\"],[0.3333333333333333,\"#9c179e\"],[0.4444444444444444,\"#bd3786\"],[0.5555555555555556,\"#d8576b\"],[0.6666666666666666,\"#ed7953\"],[0.7777777777777778,\"#fb9f3a\"],[0.8888888888888888,\"#fdca26\"],[1.0,\"#f0f921\"]],\"type\":\"heatmapgl\"}],\"histogram\":[{\"marker\":{\"pattern\":{\"fillmode\":\"overlay\",\"size\":10,\"solidity\":0.2}},\"type\":\"histogram\"}],\"histogram2d\":[{\"colorbar\":{\"outlinewidth\":0,\"ticks\":\"\"},\"colorscale\":[[0.0,\"#0d0887\"],[0.1111111111111111,\"#46039f\"],[0.2222222222222222,\"#7201a8\"],[0.3333333333333333,\"#9c179e\"],[0.4444444444444444,\"#bd3786\"],[0.5555555555555556,\"#d8576b\"],[0.6666666666666666,\"#ed7953\"],[0.7777777777777778,\"#fb9f3a\"],[0.8888888888888888,\"#fdca26\"],[1.0,\"#f0f921\"]],\"type\":\"histogram2d\"}],\"histogram2dcontour\":[{\"colorbar\":{\"outlinewidth\":0,\"ticks\":\"\"},\"colorscale\":[[0.0,\"#0d0887\"],[0.1111111111111111,\"#46039f\"],[0.2222222222222222,\"#7201a8\"],[0.3333333333333333,\"#9c179e\"],[0.4444444444444444,\"#bd3786\"],[0.5555555555555556,\"#d8576b\"],[0.6666666666666666,\"#ed7953\"],[0.7777777777777778,\"#fb9f3a\"],[0.8888888888888888,\"#fdca26\"],[1.0,\"#f0f921\"]],\"type\":\"histogram2dcontour\"}],\"mesh3d\":[{\"colorbar\":{\"outlinewidth\":0,\"ticks\":\"\"},\"type\":\"mesh3d\"}],\"parcoords\":[{\"line\":{\"colorbar\":{\"outlinewidth\":0,\"ticks\":\"\"}},\"type\":\"parcoords\"}],\"pie\":[{\"automargin\":true,\"type\":\"pie\"}],\"scatter\":[{\"marker\":{\"colorbar\":{\"outlinewidth\":0,\"ticks\":\"\"}},\"type\":\"scatter\"}],\"scatter3d\":[{\"line\":{\"colorbar\":{\"outlinewidth\":0,\"ticks\":\"\"}},\"marker\":{\"colorbar\":{\"outlinewidth\":0,\"ticks\":\"\"}},\"type\":\"scatter3d\"}],\"scattercarpet\":[{\"marker\":{\"colorbar\":{\"outlinewidth\":0,\"ticks\":\"\"}},\"type\":\"scattercarpet\"}],\"scattergeo\":[{\"marker\":{\"colorbar\":{\"outlinewidth\":0,\"ticks\":\"\"}},\"type\":\"scattergeo\"}],\"scattergl\":[{\"marker\":{\"colorbar\":{\"outlinewidth\":0,\"ticks\":\"\"}},\"type\":\"scattergl\"}],\"scattermapbox\":[{\"marker\":{\"colorbar\":{\"outlinewidth\":0,\"ticks\":\"\"}},\"type\":\"scattermapbox\"}],\"scatterpolar\":[{\"marker\":{\"colorbar\":{\"outlinewidth\":0,\"ticks\":\"\"}},\"type\":\"scatterpolar\"}],\"scatterpolargl\":[{\"marker\":{\"colorbar\":{\"outlinewidth\":0,\"ticks\":\"\"}},\"type\":\"scatterpolargl\"}],\"scatterternary\":[{\"marker\":{\"colorbar\":{\"outlinewidth\":0,\"ticks\":\"\"}},\"type\":\"scatterternary\"}],\"surface\":[{\"colorbar\":{\"outlinewidth\":0,\"ticks\":\"\"},\"colorscale\":[[0.0,\"#0d0887\"],[0.1111111111111111,\"#46039f\"],[0.2222222222222222,\"#7201a8\"],[0.3333333333333333,\"#9c179e\"],[0.4444444444444444,\"#bd3786\"],[0.5555555555555556,\"#d8576b\"],[0.6666666666666666,\"#ed7953\"],[0.7777777777777778,\"#fb9f3a\"],[0.8888888888888888,\"#fdca26\"],[1.0,\"#f0f921\"]],\"type\":\"surface\"}],\"table\":[{\"cells\":{\"fill\":{\"color\":\"#EBF0F8\"},\"line\":{\"color\":\"white\"}},\"header\":{\"fill\":{\"color\":\"#C8D4E3\"},\"line\":{\"color\":\"white\"}},\"type\":\"table\"}]},\"layout\":{\"annotationdefaults\":{\"arrowcolor\":\"#2a3f5f\",\"arrowhead\":0,\"arrowwidth\":1},\"autotypenumbers\":\"strict\",\"coloraxis\":{\"colorbar\":{\"outlinewidth\":0,\"ticks\":\"\"}},\"colorscale\":{\"diverging\":[[0,\"#8e0152\"],[0.1,\"#c51b7d\"],[0.2,\"#de77ae\"],[0.3,\"#f1b6da\"],[0.4,\"#fde0ef\"],[0.5,\"#f7f7f7\"],[0.6,\"#e6f5d0\"],[0.7,\"#b8e186\"],[0.8,\"#7fbc41\"],[0.9,\"#4d9221\"],[1,\"#276419\"]],\"sequential\":[[0.0,\"#0d0887\"],[0.1111111111111111,\"#46039f\"],[0.2222222222222222,\"#7201a8\"],[0.3333333333333333,\"#9c179e\"],[0.4444444444444444,\"#bd3786\"],[0.5555555555555556,\"#d8576b\"],[0.6666666666666666,\"#ed7953\"],[0.7777777777777778,\"#fb9f3a\"],[0.8888888888888888,\"#fdca26\"],[1.0,\"#f0f921\"]],\"sequentialminus\":[[0.0,\"#0d0887\"],[0.1111111111111111,\"#46039f\"],[0.2222222222222222,\"#7201a8\"],[0.3333333333333333,\"#9c179e\"],[0.4444444444444444,\"#bd3786\"],[0.5555555555555556,\"#d8576b\"],[0.6666666666666666,\"#ed7953\"],[0.7777777777777778,\"#fb9f3a\"],[0.8888888888888888,\"#fdca26\"],[1.0,\"#f0f921\"]]},\"colorway\":[\"#636efa\",\"#EF553B\",\"#00cc96\",\"#ab63fa\",\"#FFA15A\",\"#19d3f3\",\"#FF6692\",\"#B6E880\",\"#FF97FF\",\"#FECB52\"],\"font\":{\"color\":\"#2a3f5f\"},\"geo\":{\"bgcolor\":\"white\",\"lakecolor\":\"white\",\"landcolor\":\"#E5ECF6\",\"showlakes\":true,\"showland\":true,\"subunitcolor\":\"white\"},\"hoverlabel\":{\"align\":\"left\"},\"hovermode\":\"closest\",\"mapbox\":{\"style\":\"light\"},\"paper_bgcolor\":\"white\",\"plot_bgcolor\":\"#E5ECF6\",\"polar\":{\"angularaxis\":{\"gridcolor\":\"white\",\"linecolor\":\"white\",\"ticks\":\"\"},\"bgcolor\":\"#E5ECF6\",\"radialaxis\":{\"gridcolor\":\"white\",\"linecolor\":\"white\",\"ticks\":\"\"}},\"scene\":{\"xaxis\":{\"backgroundcolor\":\"#E5ECF6\",\"gridcolor\":\"white\",\"gridwidth\":2,\"linecolor\":\"white\",\"showbackground\":true,\"ticks\":\"\",\"zerolinecolor\":\"white\"},\"yaxis\":{\"backgroundcolor\":\"#E5ECF6\",\"gridcolor\":\"white\",\"gridwidth\":2,\"linecolor\":\"white\",\"showbackground\":true,\"ticks\":\"\",\"zerolinecolor\":\"white\"},\"zaxis\":{\"backgroundcolor\":\"#E5ECF6\",\"gridcolor\":\"white\",\"gridwidth\":2,\"linecolor\":\"white\",\"showbackground\":true,\"ticks\":\"\",\"zerolinecolor\":\"white\"}},\"shapedefaults\":{\"line\":{\"color\":\"#2a3f5f\"}},\"ternary\":{\"aaxis\":{\"gridcolor\":\"white\",\"linecolor\":\"white\",\"ticks\":\"\"},\"baxis\":{\"gridcolor\":\"white\",\"linecolor\":\"white\",\"ticks\":\"\"},\"bgcolor\":\"#E5ECF6\",\"caxis\":{\"gridcolor\":\"white\",\"linecolor\":\"white\",\"ticks\":\"\"}},\"title\":{\"x\":0.05},\"xaxis\":{\"automargin\":true,\"gridcolor\":\"white\",\"linecolor\":\"white\",\"ticks\":\"\",\"title\":{\"standoff\":15},\"zerolinecolor\":\"white\",\"zerolinewidth\":2},\"yaxis\":{\"automargin\":true,\"gridcolor\":\"white\",\"linecolor\":\"white\",\"ticks\":\"\",\"title\":{\"standoff\":15},\"zerolinecolor\":\"white\",\"zerolinewidth\":2}}},\"title\":{\"text\":\"A Figure Specified By A Graph Object\"},\"xaxis\":{\"rangebreaks\":[{\"bounds\":[\"sat\",\"mon\"]}]}},                        {\"responsive\": true}                    ).then(function(){\n",
              "                            \n",
              "var gd = document.getElementById('97128700-d807-4420-99fa-40be26c8dd73');\n",
              "var x = new MutationObserver(function (mutations, observer) {{\n",
              "        var display = window.getComputedStyle(gd).display;\n",
              "        if (!display || display === 'none') {{\n",
              "            console.log([gd, 'removed!']);\n",
              "            Plotly.purge(gd);\n",
              "            observer.disconnect();\n",
              "        }}\n",
              "}});\n",
              "\n",
              "// Listen for the removal of the full notebook cells\n",
              "var notebookContainer = gd.closest('#notebook-container');\n",
              "if (notebookContainer) {{\n",
              "    x.observe(notebookContainer, {childList: true});\n",
              "}}\n",
              "\n",
              "// Listen for the clearing of the current output cell\n",
              "var outputEl = gd.closest('.output');\n",
              "if (outputEl) {{\n",
              "    x.observe(outputEl, {childList: true});\n",
              "}}\n",
              "\n",
              "                        })                };                            </script>        </div>\n",
              "</body>\n",
              "</html>"
            ]
          },
          "metadata": {
            "tags": []
          }
        }
      ]
    },
    {
      "cell_type": "code",
      "metadata": {
        "id": "Yi0qHX6FonU6"
      },
      "source": [
        "#para evaluar activos\n",
        "\n",
        "# # Download historical prices\n",
        "# bt_data = bt.get('fb, amzn, goog, nflx, aapl',\n",
        "               # start='2020-6-1', end='2020-12-1')\n",
        "# # Print the top five rows\n",
        "# print(bt_data.head())\n",
        "# # Define the strategy\n",
        "# bt_strategy = bt.Strategy('Trade_Weekly', \n",
        "                         # [bt.algos.RunWeekly(),\n",
        "                          # bt.algos.SelectAll(),\n",
        "                          # bt.algos.WeighEqually(),\n",
        "                          # bt.algos.Rebalance()])\n",
        "# # Create a backtest\n",
        "# bt_test = bt.Backtest(bt_strategy, bt_data)\n",
        "# # Run the backtest\n",
        "# bt_res = bt.run(bt_test)\n",
        "# # Plot the test result\n",
        "# bt_res.plot(title=\"Backtest result\")\n",
        "# plt.show()"
      ],
      "execution_count": 89,
      "outputs": []
    },
    {
      "cell_type": "code",
      "metadata": {
        "id": "QxkHqcTqmS6h"
      },
      "source": [
        "# # Calculate 12-day EMA\n",
        "# stock_data['EMA_12'] = talib.EMA(stock_data['Close'], timeperiod=12)\n",
        "# # Calculate 26-day EMA\n",
        "# stock_data['EMA_26'] = talib.EMA(stock_data['Close'], timeperiod=26)\n",
        "\n",
        "# # Plot the EMAs with price\n",
        "# plt.plot(stock_data['EMA_12'], label='EMA_12')\n",
        "# plt.plot(stock_data['EMA_26'], label='EMA_26')\n",
        "# plt.plot(stock_data['Close'], label='Close')\n",
        "\n",
        "# # Customize and show the plot\n",
        "# plt.legend()\n",
        "# plt.title('EMAs')\n",
        "# plt.show()"
      ],
      "execution_count": 90,
      "outputs": []
    },
    {
      "cell_type": "code",
      "metadata": {
        "id": "EYhfoYLiLV0X"
      },
      "source": [
        ""
      ],
      "execution_count": null,
      "outputs": []
    }
  ]
}