{
  "nbformat": 4,
  "nbformat_minor": 0,
  "metadata": {
    "colab": {
      "name": "AlphaVantage.ipynb",
      "provenance": [],
      "collapsed_sections": [],
      "include_colab_link": true
    },
    "kernelspec": {
      "name": "python3",
      "display_name": "Python 3"
    },
    "language_info": {
      "name": "python"
    }
  },
  "cells": [
    {
      "cell_type": "markdown",
      "metadata": {
        "id": "view-in-github",
        "colab_type": "text"
      },
      "source": [
        "<a href=\"https://colab.research.google.com/github/cvillarr123/trading/blob/master/notebook/AlphaVantage.ipynb\" target=\"_parent\"><img src=\"https://colab.research.google.com/assets/colab-badge.svg\" alt=\"Open In Colab\"/></a>"
      ]
    },
    {
      "cell_type": "code",
      "metadata": {
        "colab": {
          "base_uri": "https://localhost:8080/"
        },
        "id": "tNwiyPu6DSsj",
        "outputId": "1555536c-543e-49fa-87ea-14067bc28830"
      },
      "source": [
        "pip install alpha_vantage"
      ],
      "execution_count": null,
      "outputs": [
        {
          "output_type": "stream",
          "text": [
            "Collecting alpha_vantage\n",
            "  Downloading https://files.pythonhosted.org/packages/ba/b4/d95f9e0eccea6732bab5a079772d453a4f0b68a9f63740d9cf320f92beaa/alpha_vantage-2.3.1-py3-none-any.whl\n",
            "Collecting aiohttp\n",
            "\u001b[?25l  Downloading https://files.pythonhosted.org/packages/88/c0/5890b4c8b04a79b7360e8fe4490feb0bb3ab179743f199f0e6220cebd568/aiohttp-3.7.4.post0-cp37-cp37m-manylinux2014_x86_64.whl (1.3MB)\n",
            "\u001b[K     |████████████████████████████████| 1.3MB 21.7MB/s \n",
            "\u001b[?25hRequirement already satisfied: requests in /usr/local/lib/python3.7/dist-packages (from alpha_vantage) (2.23.0)\n",
            "Collecting yarl<2.0,>=1.0\n",
            "\u001b[?25l  Downloading https://files.pythonhosted.org/packages/f1/62/046834c5fc998c88ab2ef722f5d42122230a632212c8afa76418324f53ff/yarl-1.6.3-cp37-cp37m-manylinux2014_x86_64.whl (294kB)\n",
            "\u001b[K     |████████████████████████████████| 296kB 54.9MB/s \n",
            "\u001b[?25hCollecting async-timeout<4.0,>=3.0\n",
            "  Downloading https://files.pythonhosted.org/packages/e1/1e/5a4441be21b0726c4464f3f23c8b19628372f606755a9d2e46c187e65ec4/async_timeout-3.0.1-py3-none-any.whl\n",
            "Requirement already satisfied: typing-extensions>=3.6.5 in /usr/local/lib/python3.7/dist-packages (from aiohttp->alpha_vantage) (3.7.4.3)\n",
            "Requirement already satisfied: attrs>=17.3.0 in /usr/local/lib/python3.7/dist-packages (from aiohttp->alpha_vantage) (21.2.0)\n",
            "Requirement already satisfied: chardet<5.0,>=2.0 in /usr/local/lib/python3.7/dist-packages (from aiohttp->alpha_vantage) (3.0.4)\n",
            "Collecting multidict<7.0,>=4.5\n",
            "\u001b[?25l  Downloading https://files.pythonhosted.org/packages/7c/a6/4123b8165acbe773d1a8dc8e3f0d1edea16d29f7de018eda769abb56bd30/multidict-5.1.0-cp37-cp37m-manylinux2014_x86_64.whl (142kB)\n",
            "\u001b[K     |████████████████████████████████| 143kB 52.5MB/s \n",
            "\u001b[?25hRequirement already satisfied: certifi>=2017.4.17 in /usr/local/lib/python3.7/dist-packages (from requests->alpha_vantage) (2021.5.30)\n",
            "Requirement already satisfied: urllib3!=1.25.0,!=1.25.1,<1.26,>=1.21.1 in /usr/local/lib/python3.7/dist-packages (from requests->alpha_vantage) (1.24.3)\n",
            "Requirement already satisfied: idna<3,>=2.5 in /usr/local/lib/python3.7/dist-packages (from requests->alpha_vantage) (2.10)\n",
            "Installing collected packages: multidict, yarl, async-timeout, aiohttp, alpha-vantage\n",
            "Successfully installed aiohttp-3.7.4.post0 alpha-vantage-2.3.1 async-timeout-3.0.1 multidict-5.1.0 yarl-1.6.3\n"
          ],
          "name": "stdout"
        }
      ]
    },
    {
      "cell_type": "markdown",
      "metadata": {
        "id": "x3Fdp_UeItJx"
      },
      "source": [
        "\n",
        "**Instala soporte para Pandas**"
      ]
    },
    {
      "cell_type": "code",
      "metadata": {
        "colab": {
          "base_uri": "https://localhost:8080/"
        },
        "id": "gEUdIHDKGXYO",
        "outputId": "0b674998-331e-4845-9525-6ebbee779238"
      },
      "source": [
        "pip install alpha_vantage pandas"
      ],
      "execution_count": null,
      "outputs": [
        {
          "output_type": "stream",
          "text": [
            "Requirement already satisfied: alpha_vantage in /usr/local/lib/python3.7/dist-packages (2.3.1)\n",
            "Requirement already satisfied: pandas in /usr/local/lib/python3.7/dist-packages (1.1.5)\n",
            "Requirement already satisfied: aiohttp in /usr/local/lib/python3.7/dist-packages (from alpha_vantage) (3.7.4.post0)\n",
            "Requirement already satisfied: requests in /usr/local/lib/python3.7/dist-packages (from alpha_vantage) (2.23.0)\n",
            "Requirement already satisfied: python-dateutil>=2.7.3 in /usr/local/lib/python3.7/dist-packages (from pandas) (2.8.1)\n",
            "Requirement already satisfied: pytz>=2017.2 in /usr/local/lib/python3.7/dist-packages (from pandas) (2018.9)\n",
            "Requirement already satisfied: numpy>=1.15.4 in /usr/local/lib/python3.7/dist-packages (from pandas) (1.19.5)\n",
            "Requirement already satisfied: typing-extensions>=3.6.5 in /usr/local/lib/python3.7/dist-packages (from aiohttp->alpha_vantage) (3.7.4.3)\n",
            "Requirement already satisfied: yarl<2.0,>=1.0 in /usr/local/lib/python3.7/dist-packages (from aiohttp->alpha_vantage) (1.6.3)\n",
            "Requirement already satisfied: async-timeout<4.0,>=3.0 in /usr/local/lib/python3.7/dist-packages (from aiohttp->alpha_vantage) (3.0.1)\n",
            "Requirement already satisfied: chardet<5.0,>=2.0 in /usr/local/lib/python3.7/dist-packages (from aiohttp->alpha_vantage) (3.0.4)\n",
            "Requirement already satisfied: attrs>=17.3.0 in /usr/local/lib/python3.7/dist-packages (from aiohttp->alpha_vantage) (21.2.0)\n",
            "Requirement already satisfied: multidict<7.0,>=4.5 in /usr/local/lib/python3.7/dist-packages (from aiohttp->alpha_vantage) (5.1.0)\n",
            "Requirement already satisfied: idna<3,>=2.5 in /usr/local/lib/python3.7/dist-packages (from requests->alpha_vantage) (2.10)\n",
            "Requirement already satisfied: certifi>=2017.4.17 in /usr/local/lib/python3.7/dist-packages (from requests->alpha_vantage) (2021.5.30)\n",
            "Requirement already satisfied: urllib3!=1.25.0,!=1.25.1,<1.26,>=1.21.1 in /usr/local/lib/python3.7/dist-packages (from requests->alpha_vantage) (1.24.3)\n",
            "Requirement already satisfied: six>=1.5 in /usr/local/lib/python3.7/dist-packages (from python-dateutil>=2.7.3->pandas) (1.15.0)\n"
          ],
          "name": "stdout"
        }
      ]
    },
    {
      "cell_type": "code",
      "metadata": {
        "id": "xSgGeeORIn-X"
      },
      "source": [
        "import matplotlib\n",
        "import matplotlib.pyplot as plt\n",
        "import os\n",
        "# Make plots bigger\n",
        "matplotlib.rcParams['figure.figsize'] = (20.0, 10.0)"
      ],
      "execution_count": null,
      "outputs": []
    },
    {
      "cell_type": "markdown",
      "metadata": {
        "id": "YfHyNx8hQFzA"
      },
      "source": [
        "**Ver el precio de intercambio al cierre**"
      ]
    },
    {
      "cell_type": "code",
      "metadata": {
        "colab": {
          "base_uri": "https://localhost:8080/"
        },
        "id": "2jwV15q4Iq-R",
        "outputId": "7da0fbcd-0ed1-4b58-c9a8-2318846f6bbe"
      },
      "source": [
        "from alpha_vantage.foreignexchange import ForeignExchange\n",
        "from pprint import pprint\n",
        "cc = ForeignExchange(key='1035HSNE5D7XWHLM')\n",
        "# There is no metadata in this call\n",
        "data, _ = cc.get_currency_exchange_rate(from_currency='GBP',to_currency='AUD')\n",
        "pprint(data)"
      ],
      "execution_count": null,
      "outputs": [
        {
          "output_type": "stream",
          "text": [
            "{'1. From_Currency Code': 'GBP',\n",
            " '2. From_Currency Name': 'British Pound Sterling',\n",
            " '3. To_Currency Code': 'AUD',\n",
            " '4. To_Currency Name': 'Australian Dollar',\n",
            " '5. Exchange Rate': '1.83463000',\n",
            " '6. Last Refreshed': '2021-06-17 04:12:08',\n",
            " '7. Time Zone': 'UTC',\n",
            " '8. Bid Price': '1.83457800',\n",
            " '9. Ask Price': '1.83464500'}\n"
          ],
          "name": "stdout"
        }
      ]
    },
    {
      "cell_type": "code",
      "metadata": {
        "id": "JOnxxOWGP_JM"
      },
      "source": [
        ""
      ],
      "execution_count": null,
      "outputs": []
    },
    {
      "cell_type": "markdown",
      "metadata": {
        "id": "muIZZ2cXQB6W"
      },
      "source": [
        ""
      ]
    },
    {
      "cell_type": "code",
      "metadata": {
        "colab": {
          "base_uri": "https://localhost:8080/"
        },
        "id": "azmGo7ziKx_9",
        "outputId": "b13c6f43-f323-4fad-aa06-25d96b2fdddb"
      },
      "source": [
        "from alpha_vantage.foreignexchange import ForeignExchange\n",
        "from pprint import pprint\n",
        "cc = ForeignExchange(key='1035HSNE5D7XWHLM', output_format='pandas')\n",
        "# There is no metadata in this call\n",
        "data, _ = cc.get_currency_exchange_rate(from_currency='GBP',to_currency='AUD')\n",
        "pprint(data)"
      ],
      "execution_count": null,
      "outputs": [
        {
          "output_type": "stream",
          "text": [
            "                                1. From_Currency Code  ... 9. Ask Price\n",
            "Realtime Currency Exchange Rate                   GBP  ...   1.83455400\n",
            "\n",
            "[1 rows x 9 columns]\n"
          ],
          "name": "stdout"
        }
      ]
    },
    {
      "cell_type": "code",
      "metadata": {
        "colab": {
          "base_uri": "https://localhost:8080/",
          "height": 114
        },
        "id": "rVC9efavLvRR",
        "outputId": "8c453cda-1192-421d-f655-bfb2e066a741"
      },
      "source": [
        "data.head()"
      ],
      "execution_count": null,
      "outputs": [
        {
          "output_type": "execute_result",
          "data": {
            "text/html": [
              "<div>\n",
              "<style scoped>\n",
              "    .dataframe tbody tr th:only-of-type {\n",
              "        vertical-align: middle;\n",
              "    }\n",
              "\n",
              "    .dataframe tbody tr th {\n",
              "        vertical-align: top;\n",
              "    }\n",
              "\n",
              "    .dataframe thead th {\n",
              "        text-align: right;\n",
              "    }\n",
              "</style>\n",
              "<table border=\"1\" class=\"dataframe\">\n",
              "  <thead>\n",
              "    <tr style=\"text-align: right;\">\n",
              "      <th></th>\n",
              "      <th>1. From_Currency Code</th>\n",
              "      <th>2. From_Currency Name</th>\n",
              "      <th>3. To_Currency Code</th>\n",
              "      <th>4. To_Currency Name</th>\n",
              "      <th>5. Exchange Rate</th>\n",
              "      <th>6. Last Refreshed</th>\n",
              "      <th>7. Time Zone</th>\n",
              "      <th>8. Bid Price</th>\n",
              "      <th>9. Ask Price</th>\n",
              "    </tr>\n",
              "  </thead>\n",
              "  <tbody>\n",
              "    <tr>\n",
              "      <th>Realtime Currency Exchange Rate</th>\n",
              "      <td>GBP</td>\n",
              "      <td>British Pound Sterling</td>\n",
              "      <td>AUD</td>\n",
              "      <td>Australian Dollar</td>\n",
              "      <td>1.83455000</td>\n",
              "      <td>2021-06-17 04:16:11</td>\n",
              "      <td>UTC</td>\n",
              "      <td>1.83448200</td>\n",
              "      <td>1.83455400</td>\n",
              "    </tr>\n",
              "  </tbody>\n",
              "</table>\n",
              "</div>"
            ],
            "text/plain": [
              "                                1. From_Currency Code  ... 9. Ask Price\n",
              "Realtime Currency Exchange Rate                   GBP  ...   1.83455400\n",
              "\n",
              "[1 rows x 9 columns]"
            ]
          },
          "metadata": {
            "tags": []
          },
          "execution_count": 6
        }
      ]
    },
    {
      "cell_type": "markdown",
      "metadata": {
        "id": "B9nkBEenTgnX"
      },
      "source": [
        "Ver el intraday para el calculo de banderas"
      ]
    },
    {
      "cell_type": "code",
      "metadata": {
        "colab": {
          "base_uri": "https://localhost:8080/"
        },
        "id": "TB2aST5tRs6H",
        "outputId": "8f57dae9-de02-44cf-a7ee-59f6cbc74902"
      },
      "source": [
        "data, _ = cc.get_currency_exchange_intraday('GBP','AUD',interval='15min',outputsize='compact')\n",
        "pprint(data)"
      ],
      "execution_count": null,
      "outputs": [
        {
          "output_type": "stream",
          "text": [
            "                     1. open  2. high   3. low  4. close\n",
            "date                                                    \n",
            "2021-06-17 04:45:00  1.83463  1.83530  1.83421   1.83524\n",
            "2021-06-17 04:30:00  1.83460  1.83493  1.83409   1.83463\n",
            "2021-06-17 04:15:00  1.83450  1.83490  1.83411   1.83459\n",
            "2021-06-17 04:00:00  1.83523  1.83551  1.83408   1.83446\n",
            "2021-06-17 03:45:00  1.83487  1.83584  1.83448   1.83522\n",
            "...                      ...      ...      ...       ...\n",
            "2021-06-16 05:00:00  1.83063  1.83079  1.83003   1.83043\n",
            "2021-06-16 04:45:00  1.83092  1.83102  1.83007   1.83070\n",
            "2021-06-16 04:30:00  1.83152  1.83159  1.83032   1.83094\n",
            "2021-06-16 04:15:00  1.83019  1.83173  1.82978   1.83147\n",
            "2021-06-16 04:00:00  1.83005  1.83038  1.82944   1.83015\n",
            "\n",
            "[100 rows x 4 columns]\n"
          ],
          "name": "stdout"
        }
      ]
    },
    {
      "cell_type": "code",
      "metadata": {
        "colab": {
          "base_uri": "https://localhost:8080/",
          "height": 235
        },
        "id": "_nutkT-ISIqX",
        "outputId": "02d1c66d-3747-4b5d-bea6-547cd927fefc"
      },
      "source": [
        "data.head()"
      ],
      "execution_count": null,
      "outputs": [
        {
          "output_type": "execute_result",
          "data": {
            "text/html": [
              "<div>\n",
              "<style scoped>\n",
              "    .dataframe tbody tr th:only-of-type {\n",
              "        vertical-align: middle;\n",
              "    }\n",
              "\n",
              "    .dataframe tbody tr th {\n",
              "        vertical-align: top;\n",
              "    }\n",
              "\n",
              "    .dataframe thead th {\n",
              "        text-align: right;\n",
              "    }\n",
              "</style>\n",
              "<table border=\"1\" class=\"dataframe\">\n",
              "  <thead>\n",
              "    <tr style=\"text-align: right;\">\n",
              "      <th></th>\n",
              "      <th>1. open</th>\n",
              "      <th>2. high</th>\n",
              "      <th>3. low</th>\n",
              "      <th>4. close</th>\n",
              "    </tr>\n",
              "    <tr>\n",
              "      <th>date</th>\n",
              "      <th></th>\n",
              "      <th></th>\n",
              "      <th></th>\n",
              "      <th></th>\n",
              "    </tr>\n",
              "  </thead>\n",
              "  <tbody>\n",
              "    <tr>\n",
              "      <th>2021-06-17 04:45:00</th>\n",
              "      <td>1.83463</td>\n",
              "      <td>1.83530</td>\n",
              "      <td>1.83421</td>\n",
              "      <td>1.83524</td>\n",
              "    </tr>\n",
              "    <tr>\n",
              "      <th>2021-06-17 04:30:00</th>\n",
              "      <td>1.83460</td>\n",
              "      <td>1.83493</td>\n",
              "      <td>1.83409</td>\n",
              "      <td>1.83463</td>\n",
              "    </tr>\n",
              "    <tr>\n",
              "      <th>2021-06-17 04:15:00</th>\n",
              "      <td>1.83450</td>\n",
              "      <td>1.83490</td>\n",
              "      <td>1.83411</td>\n",
              "      <td>1.83459</td>\n",
              "    </tr>\n",
              "    <tr>\n",
              "      <th>2021-06-17 04:00:00</th>\n",
              "      <td>1.83523</td>\n",
              "      <td>1.83551</td>\n",
              "      <td>1.83408</td>\n",
              "      <td>1.83446</td>\n",
              "    </tr>\n",
              "    <tr>\n",
              "      <th>2021-06-17 03:45:00</th>\n",
              "      <td>1.83487</td>\n",
              "      <td>1.83584</td>\n",
              "      <td>1.83448</td>\n",
              "      <td>1.83522</td>\n",
              "    </tr>\n",
              "  </tbody>\n",
              "</table>\n",
              "</div>"
            ],
            "text/plain": [
              "                     1. open  2. high   3. low  4. close\n",
              "date                                                    \n",
              "2021-06-17 04:45:00  1.83463  1.83530  1.83421   1.83524\n",
              "2021-06-17 04:30:00  1.83460  1.83493  1.83409   1.83463\n",
              "2021-06-17 04:15:00  1.83450  1.83490  1.83411   1.83459\n",
              "2021-06-17 04:00:00  1.83523  1.83551  1.83408   1.83446\n",
              "2021-06-17 03:45:00  1.83487  1.83584  1.83448   1.83522"
            ]
          },
          "metadata": {
            "tags": []
          },
          "execution_count": 14
        }
      ]
    },
    {
      "cell_type": "markdown",
      "metadata": {
        "id": "93ml1O9HTmxe"
      },
      "source": [
        ""
      ]
    },
    {
      "cell_type": "code",
      "metadata": {
        "colab": {
          "base_uri": "https://localhost:8080/"
        },
        "id": "YBVeRWhnSoC6",
        "outputId": "74bcb324-a928-47ce-c9f1-501cba1fba53"
      },
      "source": [
        "data, _ = cc.get_currency_exchange_daily ('GBP','AUD',outputsize='compact')\n",
        "pprint(data)"
      ],
      "execution_count": null,
      "outputs": [
        {
          "output_type": "stream",
          "text": [
            "            1. open  2. high   3. low  4. close\n",
            "date                                           \n",
            "2021-06-17  1.83713  1.83917  1.82960   1.83525\n",
            "2021-06-16  1.83176  1.84018  1.82897   1.83708\n",
            "2021-06-15  1.82847  1.83486  1.82473   1.83159\n",
            "2021-06-14  1.83066  1.83366  1.82473   1.82860\n",
            "2021-06-11  1.82802  1.83500  1.82191   1.83077\n",
            "...             ...      ...      ...       ...\n",
            "2021-02-04  1.79066  1.80008  1.77880   1.79845\n",
            "2021-02-03  1.79649  1.79827  1.78837   1.79077\n",
            "2021-02-02  1.79196  1.80157  1.78747   1.79626\n",
            "2021-02-01  1.79815  1.80063  1.78849   1.79199\n",
            "2021-01-29  1.78530  1.79492  1.78314   1.79191\n",
            "\n",
            "[100 rows x 4 columns]\n"
          ],
          "name": "stdout"
        }
      ]
    },
    {
      "cell_type": "code",
      "metadata": {
        "colab": {
          "base_uri": "https://localhost:8080/",
          "height": 235
        },
        "id": "90xqRBweTl75",
        "outputId": "1046a33f-b9df-4120-ed8a-e59888e7259d"
      },
      "source": [
        "data.head()"
      ],
      "execution_count": null,
      "outputs": [
        {
          "output_type": "execute_result",
          "data": {
            "text/html": [
              "<div>\n",
              "<style scoped>\n",
              "    .dataframe tbody tr th:only-of-type {\n",
              "        vertical-align: middle;\n",
              "    }\n",
              "\n",
              "    .dataframe tbody tr th {\n",
              "        vertical-align: top;\n",
              "    }\n",
              "\n",
              "    .dataframe thead th {\n",
              "        text-align: right;\n",
              "    }\n",
              "</style>\n",
              "<table border=\"1\" class=\"dataframe\">\n",
              "  <thead>\n",
              "    <tr style=\"text-align: right;\">\n",
              "      <th></th>\n",
              "      <th>1. open</th>\n",
              "      <th>2. high</th>\n",
              "      <th>3. low</th>\n",
              "      <th>4. close</th>\n",
              "    </tr>\n",
              "    <tr>\n",
              "      <th>date</th>\n",
              "      <th></th>\n",
              "      <th></th>\n",
              "      <th></th>\n",
              "      <th></th>\n",
              "    </tr>\n",
              "  </thead>\n",
              "  <tbody>\n",
              "    <tr>\n",
              "      <th>2021-06-17</th>\n",
              "      <td>1.83713</td>\n",
              "      <td>1.83917</td>\n",
              "      <td>1.82960</td>\n",
              "      <td>1.83525</td>\n",
              "    </tr>\n",
              "    <tr>\n",
              "      <th>2021-06-16</th>\n",
              "      <td>1.83176</td>\n",
              "      <td>1.84018</td>\n",
              "      <td>1.82897</td>\n",
              "      <td>1.83708</td>\n",
              "    </tr>\n",
              "    <tr>\n",
              "      <th>2021-06-15</th>\n",
              "      <td>1.82847</td>\n",
              "      <td>1.83486</td>\n",
              "      <td>1.82473</td>\n",
              "      <td>1.83159</td>\n",
              "    </tr>\n",
              "    <tr>\n",
              "      <th>2021-06-14</th>\n",
              "      <td>1.83066</td>\n",
              "      <td>1.83366</td>\n",
              "      <td>1.82473</td>\n",
              "      <td>1.82860</td>\n",
              "    </tr>\n",
              "    <tr>\n",
              "      <th>2021-06-11</th>\n",
              "      <td>1.82802</td>\n",
              "      <td>1.83500</td>\n",
              "      <td>1.82191</td>\n",
              "      <td>1.83077</td>\n",
              "    </tr>\n",
              "  </tbody>\n",
              "</table>\n",
              "</div>"
            ],
            "text/plain": [
              "            1. open  2. high   3. low  4. close\n",
              "date                                           \n",
              "2021-06-17  1.83713  1.83917  1.82960   1.83525\n",
              "2021-06-16  1.83176  1.84018  1.82897   1.83708\n",
              "2021-06-15  1.82847  1.83486  1.82473   1.83159\n",
              "2021-06-14  1.83066  1.83366  1.82473   1.82860\n",
              "2021-06-11  1.82802  1.83500  1.82191   1.83077"
            ]
          },
          "metadata": {
            "tags": []
          },
          "execution_count": 17
        }
      ]
    },
    {
      "cell_type": "code",
      "metadata": {
        "colab": {
          "base_uri": "https://localhost:8080/"
        },
        "id": "8A5wxePPU7un",
        "outputId": "ad7ab4ef-993f-4c35-b22f-6452fb825e16"
      },
      "source": [
        "data.count()"
      ],
      "execution_count": null,
      "outputs": [
        {
          "output_type": "execute_result",
          "data": {
            "text/plain": [
              "1. open     100\n",
              "2. high     100\n",
              "3. low      100\n",
              "4. close    100\n",
              "dtype: int64"
            ]
          },
          "metadata": {
            "tags": []
          },
          "execution_count": 18
        }
      ]
    },
    {
      "cell_type": "code",
      "metadata": {
        "colab": {
          "base_uri": "https://localhost:8080/",
          "height": 490
        },
        "id": "JV1b8OFRU_dn",
        "outputId": "5fba6275-0f3c-406b-d018-154190ec05df"
      },
      "source": [
        "data, _ = cc.get_currency_exchange_monthly('GBP','AUD',outputsize='compact')\n",
        "pprint(data)\n",
        "data.head()"
      ],
      "execution_count": null,
      "outputs": [
        {
          "output_type": "stream",
          "text": [
            "            1. open  2. high   3. low  4. close\n",
            "date                                           \n",
            "2021-06-17  1.83636  1.84510  1.81909   1.83455\n",
            "2021-05-31  1.78958  1.84236  1.78024   1.83614\n",
            "2021-04-30  1.81441  1.82650  1.77372   1.79078\n",
            "2021-03-31  1.80520  1.81595  1.78057   1.81402\n",
            "2021-02-26  1.79815  1.81115  1.76851   1.80721\n",
            "...             ...      ...      ...       ...\n",
            "2002-09-30  2.81620  2.90800  2.79250   2.89120\n",
            "2002-08-30  2.89280  2.96700  2.75020   2.81250\n",
            "2002-07-31  2.71810  2.93580  2.71320   2.88170\n",
            "2002-06-28  2.57520  2.72900  2.52460   2.71810\n",
            "2002-05-31  2.70370  2.73340  2.57110   2.57520\n",
            "\n",
            "[230 rows x 4 columns]\n"
          ],
          "name": "stdout"
        },
        {
          "output_type": "execute_result",
          "data": {
            "text/html": [
              "<div>\n",
              "<style scoped>\n",
              "    .dataframe tbody tr th:only-of-type {\n",
              "        vertical-align: middle;\n",
              "    }\n",
              "\n",
              "    .dataframe tbody tr th {\n",
              "        vertical-align: top;\n",
              "    }\n",
              "\n",
              "    .dataframe thead th {\n",
              "        text-align: right;\n",
              "    }\n",
              "</style>\n",
              "<table border=\"1\" class=\"dataframe\">\n",
              "  <thead>\n",
              "    <tr style=\"text-align: right;\">\n",
              "      <th></th>\n",
              "      <th>1. open</th>\n",
              "      <th>2. high</th>\n",
              "      <th>3. low</th>\n",
              "      <th>4. close</th>\n",
              "    </tr>\n",
              "    <tr>\n",
              "      <th>date</th>\n",
              "      <th></th>\n",
              "      <th></th>\n",
              "      <th></th>\n",
              "      <th></th>\n",
              "    </tr>\n",
              "  </thead>\n",
              "  <tbody>\n",
              "    <tr>\n",
              "      <th>2021-06-17</th>\n",
              "      <td>1.83636</td>\n",
              "      <td>1.84510</td>\n",
              "      <td>1.81909</td>\n",
              "      <td>1.83455</td>\n",
              "    </tr>\n",
              "    <tr>\n",
              "      <th>2021-05-31</th>\n",
              "      <td>1.78958</td>\n",
              "      <td>1.84236</td>\n",
              "      <td>1.78024</td>\n",
              "      <td>1.83614</td>\n",
              "    </tr>\n",
              "    <tr>\n",
              "      <th>2021-04-30</th>\n",
              "      <td>1.81441</td>\n",
              "      <td>1.82650</td>\n",
              "      <td>1.77372</td>\n",
              "      <td>1.79078</td>\n",
              "    </tr>\n",
              "    <tr>\n",
              "      <th>2021-03-31</th>\n",
              "      <td>1.80520</td>\n",
              "      <td>1.81595</td>\n",
              "      <td>1.78057</td>\n",
              "      <td>1.81402</td>\n",
              "    </tr>\n",
              "    <tr>\n",
              "      <th>2021-02-26</th>\n",
              "      <td>1.79815</td>\n",
              "      <td>1.81115</td>\n",
              "      <td>1.76851</td>\n",
              "      <td>1.80721</td>\n",
              "    </tr>\n",
              "  </tbody>\n",
              "</table>\n",
              "</div>"
            ],
            "text/plain": [
              "            1. open  2. high   3. low  4. close\n",
              "date                                           \n",
              "2021-06-17  1.83636  1.84510  1.81909   1.83455\n",
              "2021-05-31  1.78958  1.84236  1.78024   1.83614\n",
              "2021-04-30  1.81441  1.82650  1.77372   1.79078\n",
              "2021-03-31  1.80520  1.81595  1.78057   1.81402\n",
              "2021-02-26  1.79815  1.81115  1.76851   1.80721"
            ]
          },
          "metadata": {
            "tags": []
          },
          "execution_count": 20
        }
      ]
    },
    {
      "cell_type": "code",
      "metadata": {
        "id": "F3GHp78kVbcv"
      },
      "source": [
        "data, _  = cc.get_currency_exchange_monthly('GBP','AUD',outputsize='compact')\n"
      ],
      "execution_count": null,
      "outputs": []
    },
    {
      "cell_type": "code",
      "metadata": {
        "colab": {
          "base_uri": "https://localhost:8080/"
        },
        "id": "i3Dzt9PYXPYe",
        "outputId": "06053e1e-61f7-4556-befd-bec83a5a333e"
      },
      "source": [
        "type(data)"
      ],
      "execution_count": null,
      "outputs": [
        {
          "output_type": "execute_result",
          "data": {
            "text/plain": [
              "pandas.core.frame.DataFrame"
            ]
          },
          "metadata": {
            "tags": []
          },
          "execution_count": 29
        }
      ]
    },
    {
      "cell_type": "code",
      "metadata": {
        "colab": {
          "base_uri": "https://localhost:8080/"
        },
        "id": "T8RAxS7KXMLt",
        "outputId": "e4771712-6055-44e4-e6ad-5c58293a2a1e"
      },
      "source": [
        "pprint(data)\n"
      ],
      "execution_count": null,
      "outputs": [
        {
          "output_type": "stream",
          "text": [
            "            1. open  2. high   3. low  4. close\n",
            "date                                           \n",
            "2021-06-17  1.83636  1.84510  1.81909   1.83462\n",
            "2021-05-31  1.78958  1.84236  1.78024   1.83614\n",
            "2021-04-30  1.81441  1.82650  1.77372   1.79078\n",
            "2021-03-31  1.80520  1.81595  1.78057   1.81402\n",
            "2021-02-26  1.79815  1.81115  1.76851   1.80721\n",
            "...             ...      ...      ...       ...\n",
            "2002-09-30  2.81620  2.90800  2.79250   2.89120\n",
            "2002-08-30  2.89280  2.96700  2.75020   2.81250\n",
            "2002-07-31  2.71810  2.93580  2.71320   2.88170\n",
            "2002-06-28  2.57520  2.72900  2.52460   2.71810\n",
            "2002-05-31  2.70370  2.73340  2.57110   2.57520\n",
            "\n",
            "[230 rows x 4 columns]\n"
          ],
          "name": "stdout"
        }
      ]
    },
    {
      "cell_type": "code",
      "metadata": {
        "colab": {
          "base_uri": "https://localhost:8080/",
          "height": 235
        },
        "id": "M-17Yvl6WdrX",
        "outputId": "9b4bd7d8-df12-4450-94c8-ebdee1296caf"
      },
      "source": [
        "data.head()"
      ],
      "execution_count": null,
      "outputs": [
        {
          "output_type": "execute_result",
          "data": {
            "text/html": [
              "<div>\n",
              "<style scoped>\n",
              "    .dataframe tbody tr th:only-of-type {\n",
              "        vertical-align: middle;\n",
              "    }\n",
              "\n",
              "    .dataframe tbody tr th {\n",
              "        vertical-align: top;\n",
              "    }\n",
              "\n",
              "    .dataframe thead th {\n",
              "        text-align: right;\n",
              "    }\n",
              "</style>\n",
              "<table border=\"1\" class=\"dataframe\">\n",
              "  <thead>\n",
              "    <tr style=\"text-align: right;\">\n",
              "      <th></th>\n",
              "      <th>1. open</th>\n",
              "      <th>2. high</th>\n",
              "      <th>3. low</th>\n",
              "      <th>4. close</th>\n",
              "    </tr>\n",
              "    <tr>\n",
              "      <th>date</th>\n",
              "      <th></th>\n",
              "      <th></th>\n",
              "      <th></th>\n",
              "      <th></th>\n",
              "    </tr>\n",
              "  </thead>\n",
              "  <tbody>\n",
              "    <tr>\n",
              "      <th>2021-06-17</th>\n",
              "      <td>1.83636</td>\n",
              "      <td>1.84510</td>\n",
              "      <td>1.81909</td>\n",
              "      <td>1.83462</td>\n",
              "    </tr>\n",
              "    <tr>\n",
              "      <th>2021-05-31</th>\n",
              "      <td>1.78958</td>\n",
              "      <td>1.84236</td>\n",
              "      <td>1.78024</td>\n",
              "      <td>1.83614</td>\n",
              "    </tr>\n",
              "    <tr>\n",
              "      <th>2021-04-30</th>\n",
              "      <td>1.81441</td>\n",
              "      <td>1.82650</td>\n",
              "      <td>1.77372</td>\n",
              "      <td>1.79078</td>\n",
              "    </tr>\n",
              "    <tr>\n",
              "      <th>2021-03-31</th>\n",
              "      <td>1.80520</td>\n",
              "      <td>1.81595</td>\n",
              "      <td>1.78057</td>\n",
              "      <td>1.81402</td>\n",
              "    </tr>\n",
              "    <tr>\n",
              "      <th>2021-02-26</th>\n",
              "      <td>1.79815</td>\n",
              "      <td>1.81115</td>\n",
              "      <td>1.76851</td>\n",
              "      <td>1.80721</td>\n",
              "    </tr>\n",
              "  </tbody>\n",
              "</table>\n",
              "</div>"
            ],
            "text/plain": [
              "            1. open  2. high   3. low  4. close\n",
              "date                                           \n",
              "2021-06-17  1.83636  1.84510  1.81909   1.83462\n",
              "2021-05-31  1.78958  1.84236  1.78024   1.83614\n",
              "2021-04-30  1.81441  1.82650  1.77372   1.79078\n",
              "2021-03-31  1.80520  1.81595  1.78057   1.81402\n",
              "2021-02-26  1.79815  1.81115  1.76851   1.80721"
            ]
          },
          "metadata": {
            "tags": []
          },
          "execution_count": 31
        }
      ]
    },
    {
      "cell_type": "code",
      "metadata": {
        "id": "JckwDEMNXsbm"
      },
      "source": [
        "cc."
      ],
      "execution_count": null,
      "outputs": []
    }
  ]
}