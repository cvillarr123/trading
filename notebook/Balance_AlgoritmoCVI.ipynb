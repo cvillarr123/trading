{
  "nbformat": 4,
  "nbformat_minor": 0,
  "metadata": {
    "colab": {
      "name": "Balance-AlgoritmoCVI",
      "provenance": [],
      "collapsed_sections": [],
      "include_colab_link": true
    },
    "kernelspec": {
      "name": "python3",
      "display_name": "Python 3"
    },
    "language_info": {
      "name": "python"
    }
  },
  "cells": [
    {
      "cell_type": "markdown",
      "metadata": {
        "id": "view-in-github",
        "colab_type": "text"
      },
      "source": [
        "<a href=\"https://colab.research.google.com/github/cvillarr123/trading/blob/master/notebook/Balance_AlgoritmoCVI.ipynb\" target=\"_parent\"><img src=\"https://colab.research.google.com/assets/colab-badge.svg\" alt=\"Open In Colab\"/></a>"
      ]
    },
    {
      "cell_type": "code",
      "metadata": {
        "colab": {
          "base_uri": "https://localhost:8080/"
        },
        "id": "sDu2wROJ4a2C",
        "outputId": "c2c5923a-92fa-484b-bc8b-365232770523"
      },
      "source": [
        "# Clone the repo.\n",
        "!git clone https://github.com/chrisconlan/algorithmic-trading-with-python.git"
      ],
      "execution_count": null,
      "outputs": [
        {
          "output_type": "stream",
          "text": [
            "Cloning into 'algorithmic-trading-with-python'...\n",
            "remote: Enumerating objects: 341, done.\u001b[K\n",
            "remote: Counting objects: 100% (341/341), done.\u001b[K\n",
            "remote: Compressing objects: 100% (314/314), done.\u001b[K\n",
            "remote: Total 341 (delta 44), reused 312 (delta 24), pack-reused 0\u001b[K\n",
            "Receiving objects: 100% (341/341), 4.83 MiB | 18.26 MiB/s, done.\n",
            "Resolving deltas: 100% (44/44), done.\n"
          ],
          "name": "stdout"
        }
      ]
    },
    {
      "cell_type": "code",
      "metadata": {
        "colab": {
          "base_uri": "https://localhost:8080/"
        },
        "id": "YEJpc834C5x2",
        "outputId": "fe44b0a6-24de-45b6-855f-cf875025aaa6"
      },
      "source": [
        "# Change the working directory to the repo root.\n",
        "%cd algorithmic-trading-with-python/src\n",
        "# Add the repo root to the Python path.\n",
        "import sys, os\n",
        "sys.path.append(os.getcwd())"
      ],
      "execution_count": null,
      "outputs": [
        {
          "output_type": "stream",
          "text": [
            "/root/algorithmic-trading-with-python/src/pypm/algorithmic-trading-with-python/src/pypm/algorithmic-trading-with-python/src/pypm/algorithmic-trading-with-python/src/pypm/algorithmic-trading-with-python/src/algorithmic-trading-with-python/src/algorithmic-trading-with-python/src\n"
          ],
          "name": "stdout"
        }
      ]
    },
    {
      "cell_type": "code",
      "metadata": {
        "colab": {
          "base_uri": "https://localhost:8080/"
        },
        "id": "sK3TVrHFFRv5",
        "outputId": "5cf2f204-a31a-4b69-8e5c-0d50f4e6c6c7"
      },
      "source": [
        "# Import python lib\n",
        "import metrics\n",
        "\n",
        "# Call objecto or function\n",
        "metrics.calculate_percent_return"
      ],
      "execution_count": null,
      "outputs": [
        {
          "output_type": "execute_result",
          "data": {
            "text/plain": [
              "<function metrics.calculate_percent_return>"
            ]
          },
          "metadata": {
            "tags": []
          },
          "execution_count": 37
        }
      ]
    }
  ]
}