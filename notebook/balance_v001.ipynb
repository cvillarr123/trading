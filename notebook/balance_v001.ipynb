{
  "nbformat": 4,
  "nbformat_minor": 0,
  "metadata": {
    "colab": {
      "name": "balance-v001.ipynb",
      "provenance": [],
      "collapsed_sections": [],
      "include_colab_link": true
    },
    "kernelspec": {
      "name": "python3",
      "display_name": "Python 3"
    },
    "language_info": {
      "name": "python"
    }
  },
  "cells": [
    {
      "cell_type": "markdown",
      "metadata": {
        "id": "view-in-github",
        "colab_type": "text"
      },
      "source": [
        "<a href=\"https://colab.research.google.com/github/cvillarr123/trading/blob/master/notebook/balance_v001.ipynb\" target=\"_parent\"><img src=\"https://colab.research.google.com/assets/colab-badge.svg\" alt=\"Open In Colab\"/></a>"
      ]
    },
    {
      "cell_type": "code",
      "metadata": {
        "colab": {
          "base_uri": "https://localhost:8080/"
        },
        "id": "B7Y790P3gnh2",
        "outputId": "db9d908b-22aa-4749-d521-33dd04128264"
      },
      "source": [
        "!git clone https://github.com/chrisconlan/algorithmic-trading-with-python.git\n"
      ],
      "execution_count": null,
      "outputs": [
        {
          "output_type": "stream",
          "text": [
            "Cloning into 'algorithmic-trading-with-python'...\n",
            "remote: Enumerating objects: 341, done.\u001b[K\n",
            "remote: Counting objects: 100% (341/341), done.\u001b[K\n",
            "remote: Compressing objects: 100% (314/314), done.\u001b[K\n",
            "remote: Total 341 (delta 44), reused 312 (delta 24), pack-reused 0\u001b[K\n",
            "Receiving objects: 100% (341/341), 4.83 MiB | 1.21 MiB/s, done.\n",
            "Resolving deltas: 100% (44/44), done.\n"
          ],
          "name": "stdout"
        }
      ]
    },
    {
      "cell_type": "code",
      "metadata": {
        "colab": {
          "base_uri": "https://localhost:8080/"
        },
        "id": "fR7iRl_yiAY9",
        "outputId": "da2a21ca-e269-4c93-8974-307ed093b62e"
      },
      "source": [
        "%cd algorithmic-trading-with-python/src/"
      ],
      "execution_count": null,
      "outputs": [
        {
          "output_type": "stream",
          "text": [
            "/content/algorithmic-trading-with-python/src\n"
          ],
          "name": "stdout"
        }
      ]
    },
    {
      "cell_type": "code",
      "metadata": {
        "colab": {
          "base_uri": "https://localhost:8080/"
        },
        "id": "bHQ_AgD7iKvj",
        "outputId": "f0e47eb9-0599-4b3e-b5b0-b3206198618d"
      },
      "source": [
        "!ls"
      ],
      "execution_count": null,
      "outputs": [
        {
          "output_type": "stream",
          "text": [
            "bootstrap_portfolio.py\t       pypm\n",
            "fit_alternative_data_model.py  simulate_alternative_data_portfolio.py\n",
            "__init__.py\t\t       simulate_portfolio.py\n",
            "optimize_portfolio.py\t       white_noise_portfolio.py\n"
          ],
          "name": "stdout"
        }
      ]
    },
    {
      "cell_type": "code",
      "metadata": {
        "id": "Gfqub_WYjQps"
      },
      "source": [
        "import sys\n",
        "sys.path.insert(0, '/content/algorithmic-trading-with-python/src/pypm')"
      ],
      "execution_count": null,
      "outputs": []
    },
    {
      "cell_type": "code",
      "metadata": {
        "colab": {
          "base_uri": "https://localhost:8080/"
        },
        "id": "tBwo9ectjmIo",
        "outputId": "02af80d4-8167-4044-902f-6bafea159641"
      },
      "source": [
        "import metrics\n",
        "\n",
        "metrics.calculate_calmar_ratio"
      ],
      "execution_count": null,
      "outputs": [
        {
          "output_type": "execute_result",
          "data": {
            "text/plain": [
              "<function metrics.calculate_calmar_ratio>"
            ]
          },
          "metadata": {
            "tags": []
          },
          "execution_count": 5
        }
      ]
    }
  ]
}