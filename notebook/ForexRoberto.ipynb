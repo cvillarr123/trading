{
  "nbformat": 4,
  "nbformat_minor": 0,
  "metadata": {
    "colab": {
      "name": "ForexRoberto.ipynb",
      "provenance": [],
      "collapsed_sections": [],
      "include_colab_link": true
    },
    "kernelspec": {
      "name": "python3",
      "display_name": "Python 3"
    },
    "language_info": {
      "name": "python"
    }
  },
  "cells": [
    {
      "cell_type": "markdown",
      "metadata": {
        "id": "view-in-github",
        "colab_type": "text"
      },
      "source": [
        "<a href=\"https://colab.research.google.com/github/cvillarr123/trading/blob/master/notebook/ForexRoberto.ipynb\" target=\"_parent\"><img src=\"https://colab.research.google.com/assets/colab-badge.svg\" alt=\"Open In Colab\"/></a>"
      ]
    },
    {
      "cell_type": "code",
      "metadata": {
        "id": "6Vd6A8zEjhQH",
        "colab": {
          "base_uri": "https://localhost:8080/"
        },
        "outputId": "4dd8d54d-6421-4e60-9c09-22b1e37dc3cf"
      },
      "source": [
        "pip install alpha_vantage finnhub-python pandas"
      ],
      "execution_count": null,
      "outputs": [
        {
          "output_type": "stream",
          "text": [
            "Requirement already satisfied: alpha_vantage in /usr/local/lib/python3.7/dist-packages (2.3.1)\n",
            "Requirement already satisfied: finnhub-python in /usr/local/lib/python3.7/dist-packages (2.4.0)\n",
            "Requirement already satisfied: pandas in /usr/local/lib/python3.7/dist-packages (1.1.5)\n",
            "Requirement already satisfied: requests in /usr/local/lib/python3.7/dist-packages (from alpha_vantage) (2.23.0)\n",
            "Requirement already satisfied: aiohttp in /usr/local/lib/python3.7/dist-packages (from alpha_vantage) (3.7.4.post0)\n",
            "Requirement already satisfied: python-dateutil>=2.7.3 in /usr/local/lib/python3.7/dist-packages (from pandas) (2.8.1)\n",
            "Requirement already satisfied: pytz>=2017.2 in /usr/local/lib/python3.7/dist-packages (from pandas) (2018.9)\n",
            "Requirement already satisfied: numpy>=1.15.4 in /usr/local/lib/python3.7/dist-packages (from pandas) (1.19.5)\n",
            "Requirement already satisfied: chardet<4,>=3.0.2 in /usr/local/lib/python3.7/dist-packages (from requests->alpha_vantage) (3.0.4)\n",
            "Requirement already satisfied: certifi>=2017.4.17 in /usr/local/lib/python3.7/dist-packages (from requests->alpha_vantage) (2021.5.30)\n",
            "Requirement already satisfied: urllib3!=1.25.0,!=1.25.1,<1.26,>=1.21.1 in /usr/local/lib/python3.7/dist-packages (from requests->alpha_vantage) (1.24.3)\n",
            "Requirement already satisfied: idna<3,>=2.5 in /usr/local/lib/python3.7/dist-packages (from requests->alpha_vantage) (2.10)\n",
            "Requirement already satisfied: attrs>=17.3.0 in /usr/local/lib/python3.7/dist-packages (from aiohttp->alpha_vantage) (21.2.0)\n",
            "Requirement already satisfied: multidict<7.0,>=4.5 in /usr/local/lib/python3.7/dist-packages (from aiohttp->alpha_vantage) (5.1.0)\n",
            "Requirement already satisfied: typing-extensions>=3.6.5 in /usr/local/lib/python3.7/dist-packages (from aiohttp->alpha_vantage) (3.7.4.3)\n",
            "Requirement already satisfied: yarl<2.0,>=1.0 in /usr/local/lib/python3.7/dist-packages (from aiohttp->alpha_vantage) (1.6.3)\n",
            "Requirement already satisfied: async-timeout<4.0,>=3.0 in /usr/local/lib/python3.7/dist-packages (from aiohttp->alpha_vantage) (3.0.1)\n",
            "Requirement already satisfied: six>=1.5 in /usr/local/lib/python3.7/dist-packages (from python-dateutil>=2.7.3->pandas) (1.15.0)\n"
          ],
          "name": "stdout"
        }
      ]
    },
    {
      "cell_type": "code",
      "metadata": {
        "id": "N2Cc-q8LFaw-"
      },
      "source": [
        "import pandas as pd \n",
        "import json\n",
        "from pprint import pprint\n",
        "from datetime import datetime\n",
        "import dateutil.parser\n",
        "from pytz import timezone\n",
        "from dateutil import tz\n",
        "from alpha_vantage.foreignexchange import ForeignExchange\n",
        "import finnhub\n",
        "# Setup client\n",
        "alpha_client = ForeignExchange(key='RCMEEIVUZYDWGCDH', output_format='pandas')\n",
        "finnhub_client = finnhub.Client(api_key=\"c2v8lvaad3i9mrpv2ru0\")\n",
        "pd.set_option('mode.chained_assignment', None)"
      ],
      "execution_count": null,
      "outputs": []
    },
    {
      "cell_type": "code",
      "metadata": {
        "id": "JGyvLJk5zopM"
      },
      "source": [
        "def convert_date_to_unix(p_date):\n",
        "  gmt5 = timezone('America/Guayaquil')\n",
        "  naive_ts = datetime.strptime(p_date, '%Y-%m-%d %H:%M:%S')\n",
        "  local_ts = gmt5.localize(naive_ts)\n",
        "  epoch_ts = local_ts.timestamp()\n",
        "  final_date = str(epoch_ts).split(\".\")[0] \n",
        "  return int(final_date)"
      ],
      "execution_count": null,
      "outputs": []
    },
    {
      "cell_type": "code",
      "metadata": {
        "id": "r9RvJgbUQ9P5"
      },
      "source": [
        "def convert_unix_to_date(p_unix):\n",
        "  tz = pytz.timezone('America/Guayaquil')\n",
        "  dt = datetime.fromtimestamp(p_unix, tz)\n",
        "  return dt.strftime('%Y-%m-%d %H:%M:%S')"
      ],
      "execution_count": null,
      "outputs": []
    },
    {
      "cell_type": "code",
      "metadata": {
        "id": "8Wd5N5S1dGue"
      },
      "source": [
        "def format_candles_alpha(p_df):\n",
        "  p_df.columns=['close', 'high', 'low', 'open', 'status', 'date']\n",
        "  fi = p_df[['open', 'high', 'low', 'close','date']]\n",
        "  fi.loc[:,'date'] = fi['date'].apply(convert_unix_to_date)\n",
        "  fo = fi.set_index('date')\n",
        "  return fo\n"
      ],
      "execution_count": null,
      "outputs": []
    },
    {
      "cell_type": "code",
      "metadata": {
        "id": "jtnX30p_msdR"
      },
      "source": [
        "def fx_homologate(source, function, currency_from, currency_to, type_exchange, period, date_ini, date_end):\n",
        "  data = \"\"\n",
        "  if function == 'EXCHANGE':\n",
        "    if source == 'ALPHA':\n",
        "      res, _ = alpha_client.get_currency_exchange_rate(from_currency=currency_from,to_currency=currency_to)\n",
        "      data = res\n",
        "      data.columns=['From_Currency_Code','From_Currency_Name', 'To_Currency_Code', 'To_Currency_Name',\n",
        "                    'Exchange_Rate', 'Last_Refreshed', 'Time_Zone', 'Bid_Price', 'Ask_Price']\n",
        "    elif source == 'FINNHUB':\n",
        "      res = finnhub_client.forex_rates(base=currency_from)\n",
        "      exchange = res['quote']\n",
        "      xe = pd.DataFrame([exchange])\n",
        "      format_alpha = {'From_Currency_Code':currency_from,'From_Currency_Name':'',\n",
        "              'To_Currency_Code':currency_to, 'To_Currency_Name':'',\n",
        "             'Exchange_Rate':xe[currency_to], 'Last_Refreshed': datetime.utcnow(),\n",
        "              'Time_Zone':'UTC', 'Bid_Price':'', 'Ask_Price':''}\n",
        "      data = pd.DataFrame(format_alpha)\n",
        "  elif function == 'CANDLES':\n",
        "    if period == '1' or period == '5' or period == '15' or period == '30' or period == '60':\n",
        "      if source == 'ALPHA':\n",
        "        period = period+'min'\n",
        "        data, _ = alpha_client.get_currency_exchange_intraday(from_symbol=currency_from, to_symbol=currency_to, interval=period)\n",
        "        data.columns=['open', 'high', 'low', 'close']\n",
        "      elif source == 'FINNHUB':\n",
        "        d = finnhub_client.forex_symbols(type_exchange)\n",
        "        df = pd.DataFrame(d)\n",
        "        record = df[df['displaySymbol'].str.match(currency_from+'/'+currency_to)]\n",
        "        res = finnhub_client.forex_candles(record.symbol, period, convert_date_to_unix(date_ini), convert_date_to_unix(date_end))\n",
        "        if res[\"s\"] == 'no_data':\n",
        "          data = pd.DataFrame.from_dict(res, orient=\"index\")\n",
        "        else:\n",
        "          data = format_candles_alpha(pd.DataFrame(res))\n",
        "    elif period == 'D' or period == 'W' or period == 'M':\n",
        "      if source == 'ALPHA':\n",
        "        if period == 'D':\n",
        "          data, _ = alpha_client.get_currency_exchange_daily(from_symbol=currency_from, to_symbol=currency_to)\n",
        "          data.columns=['open', 'high', 'low', 'close']\n",
        "        if period == 'W':\n",
        "          data, _ = alpha_client.get_currency_exchange_weekly(from_symbol=currency_from, to_symbol=currency_to)\n",
        "          data.columns=['open', 'high', 'low', 'close']\n",
        "        if period == 'M':\n",
        "          data, _ = alpha_client.get_currency_exchange_monthly(from_symbol=currency_from, to_symbol=currency_to)\n",
        "          data.columns=['open', 'high', 'low', 'close']\n",
        "      elif source == 'FINNHUB':\n",
        "        d = finnhub_client.forex_symbols(type_exchange)\n",
        "        df = pd.DataFrame(d)\n",
        "        record = df[df['displaySymbol'].str.match(currency_from+'/'+currency_to)]\n",
        "        res = finnhub_client.forex_candles(record.symbol, period, convert_date_to_unix(date_ini), convert_date_to_unix(date_end))\n",
        "        if res[\"s\"] == 'no_data':\n",
        "          data = pd.DataFrame.from_dict(res, orient=\"index\")\n",
        "        else:\n",
        "          data = format_candles_alpha(pd.DataFrame(res))\n",
        "  return data"
      ],
      "execution_count": null,
      "outputs": []
    },
    {
      "cell_type": "code",
      "metadata": {
        "colab": {
          "base_uri": "https://localhost:8080/",
          "height": 204
        },
        "id": "IoiyUcefzVe9",
        "outputId": "0a22b498-932d-43e0-95fd-29636f6acbcb"
      },
      "source": [
        "#Lista de type_exchange:\n",
        "#[\"oanda\",\"fxcm\",\"forex.com\",\"fxpro\",\"icmtrader\",\"pepperstoneuk\",\"ic markets\",\"octafx\",\"fxpig\",\"pepperstone\"]\n",
        "\n",
        "# Al dia 14 Julio 2021 esta integrada en formato homologado de ALPHA para los metodos EXCHANGE y CANDLES para el proveedor FOREX\n",
        "# FINNHUB no entrega volumetria para FOREX, pero si para los demas proveedores\n",
        "fe = fx_homologate('FINNHUB', 'CANDLES', 'GBP', 'AUD', 'forex.com', 'D', '2021-07-10 00:00:00', '2021-07-12 00:00:00')\n",
        "#fe = fx_homologate('ALPHA', 'EXCHANGE', 'GBP', 'AUD', 'forex.com', '1', '2021-07-10 00:00:00', '2021-07-12 00:00:00')\n",
        "fe"
      ],
      "execution_count": null,
      "outputs": [
        {
          "output_type": "execute_result",
          "data": {
            "text/html": [
              "<div>\n",
              "<style scoped>\n",
              "    .dataframe tbody tr th:only-of-type {\n",
              "        vertical-align: middle;\n",
              "    }\n",
              "\n",
              "    .dataframe tbody tr th {\n",
              "        vertical-align: top;\n",
              "    }\n",
              "\n",
              "    .dataframe thead th {\n",
              "        text-align: right;\n",
              "    }\n",
              "</style>\n",
              "<table border=\"1\" class=\"dataframe\">\n",
              "  <thead>\n",
              "    <tr style=\"text-align: right;\">\n",
              "      <th></th>\n",
              "      <th>open</th>\n",
              "      <th>high</th>\n",
              "      <th>low</th>\n",
              "      <th>close</th>\n",
              "    </tr>\n",
              "    <tr>\n",
              "      <th>date</th>\n",
              "      <th></th>\n",
              "      <th></th>\n",
              "      <th></th>\n",
              "      <th></th>\n",
              "    </tr>\n",
              "  </thead>\n",
              "  <tbody>\n",
              "    <tr>\n",
              "      <th>2021-07-11 19:00:00</th>\n",
              "      <td>1.85776</td>\n",
              "      <td>1.86104</td>\n",
              "      <td>1.85302</td>\n",
              "      <td>1.85593</td>\n",
              "    </tr>\n",
              "    <tr>\n",
              "      <th>2021-07-12 19:00:00</th>\n",
              "      <td>1.85676</td>\n",
              "      <td>1.85920</td>\n",
              "      <td>1.85061</td>\n",
              "      <td>1.85510</td>\n",
              "    </tr>\n",
              "    <tr>\n",
              "      <th>2021-07-13 19:00:00</th>\n",
              "      <td>1.85491</td>\n",
              "      <td>1.86203</td>\n",
              "      <td>1.85079</td>\n",
              "      <td>1.85270</td>\n",
              "    </tr>\n",
              "    <tr>\n",
              "      <th>2021-07-14 19:00:00</th>\n",
              "      <td>1.85216</td>\n",
              "      <td>1.85318</td>\n",
              "      <td>1.85152</td>\n",
              "      <td>1.85263</td>\n",
              "    </tr>\n",
              "  </tbody>\n",
              "</table>\n",
              "</div>"
            ],
            "text/plain": [
              "                        open     high      low    close\n",
              "date                                                   \n",
              "2021-07-11 19:00:00  1.85776  1.86104  1.85302  1.85593\n",
              "2021-07-12 19:00:00  1.85676  1.85920  1.85061  1.85510\n",
              "2021-07-13 19:00:00  1.85491  1.86203  1.85079  1.85270\n",
              "2021-07-14 19:00:00  1.85216  1.85318  1.85152  1.85263"
            ]
          },
          "metadata": {
            "tags": []
          },
          "execution_count": 324
        }
      ]
    },
    {
      "cell_type": "code",
      "metadata": {
        "colab": {
          "base_uri": "https://localhost:8080/"
        },
        "id": "8DE2AfvMRJC-",
        "outputId": "3e11cc72-93ff-40f3-e8e4-967ec5a78eb5"
      },
      "source": [
        "print(convert_unix_to_date(1626134400))"
      ],
      "execution_count": null,
      "outputs": [
        {
          "output_type": "stream",
          "text": [
            "2021-07-12 19:00:00\n"
          ],
          "name": "stdout"
        }
      ]
    },
    {
      "cell_type": "code",
      "metadata": {
        "colab": {
          "base_uri": "https://localhost:8080/"
        },
        "id": "N3PVi-_hEA6S",
        "outputId": "56e166e7-ef63-47d1-b41b-f5504639d4e8"
      },
      "source": [
        "convert_date_to_unix(\"2021-07-12 19:00:00\")\n"
      ],
      "execution_count": null,
      "outputs": [
        {
          "output_type": "execute_result",
          "data": {
            "text/plain": [
              "1626134400"
            ]
          },
          "metadata": {
            "tags": []
          },
          "execution_count": 242
        }
      ]
    }
  ]
}